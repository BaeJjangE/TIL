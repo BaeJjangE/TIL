{
 "cells": [
  {
   "cell_type": "code",
   "execution_count": 6,
   "id": "52eda7c1",
   "metadata": {},
   "outputs": [],
   "source": [
    "from flask import Flask\n",
    "from flask import request\n",
    "app = Flask(__name__)\n",
    "\n",
    "@app.route(\"/\", methods=['GET','POST'])\n",
    "def hello_world():\n",
    "    \n",
    "    return \"<p>Hello world</p>\" \n",
    "\n",
    "\n",
    "@app.route(\"/sosal\", methods=['GET','POST'])\n",
    "def hello_world1():\n",
    "    return \"hello world1\" \n",
    "\n",
    "\n",
    "@app.route(\"/sosal1\", methods=['GET','POST'])\n",
    "def hello_world2():\n",
    "    name = request.args.get('babo')\n",
    "    if not name: # 미입력 시 bool('') 은 False로 취급\n",
    "        name = \"Not Available\"\n",
    "    return name + '은 귀요미'"
   ]
  },
  {
   "cell_type": "code",
   "execution_count": 7,
   "id": "179dc1ea",
   "metadata": {
    "scrolled": true
   },
   "outputs": [
    {
     "name": "stdout",
     "output_type": "stream",
     "text": [
      " * Serving Flask app \"__main__\" (lazy loading)\n",
      " * Environment: production\n",
      "\u001b[31m   WARNING: This is a development server. Do not use it in a production deployment.\u001b[0m\n",
      "\u001b[2m   Use a production WSGI server instead.\u001b[0m\n",
      " * Debug mode: off\n"
     ]
    },
    {
     "name": "stderr",
     "output_type": "stream",
     "text": [
      " * Running on http://127.0.0.1:5000/ (Press CTRL+C to quit)\n",
      "127.0.0.1 - - [02/May/2022 12:30:17] \"GET / HTTP/1.1\" 200 -\n"
     ]
    }
   ],
   "source": [
    "app.run(host='127.0.0.1', port=5000)"
   ]
  }
 ],
 "metadata": {
  "kernelspec": {
   "display_name": "Python 3 (ipykernel)",
   "language": "python",
   "name": "python3"
  },
  "language_info": {
   "codemirror_mode": {
    "name": "ipython",
    "version": 3
   },
   "file_extension": ".py",
   "mimetype": "text/x-python",
   "name": "python",
   "nbconvert_exporter": "python",
   "pygments_lexer": "ipython3",
   "version": "3.9.7"
  }
 },
 "nbformat": 4,
 "nbformat_minor": 5
}
