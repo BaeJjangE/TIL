{
 "cells": [
  {
   "cell_type": "code",
   "execution_count": 2,
   "id": "880deaa9",
   "metadata": {},
   "outputs": [],
   "source": [
    "import pandas as pd\n",
    "import numpy as np\n",
    "import matplotlib.pyplot as plt\n",
    "import statsmodels.api as sm\n",
    "from statsmodels.formula.api import ols"
   ]
  },
  {
   "cell_type": "code",
   "execution_count": 3,
   "id": "14a471dc",
   "metadata": {},
   "outputs": [],
   "source": [
    "train = pd.read_csv(\"./Practice_LungCancer/Train.csv\")\n",
    "valid = pd.read_csv(\"./Practice_LungCancer/Valid.csv\")"
   ]
  },
  {
   "cell_type": "code",
   "execution_count": 80,
   "id": "59511f33",
   "metadata": {
    "scrolled": false
   },
   "outputs": [
    {
     "data": {
      "text/html": [
       "<div>\n",
       "<style scoped>\n",
       "    .dataframe tbody tr th:only-of-type {\n",
       "        vertical-align: middle;\n",
       "    }\n",
       "\n",
       "    .dataframe tbody tr th {\n",
       "        vertical-align: top;\n",
       "    }\n",
       "\n",
       "    .dataframe thead th {\n",
       "        text-align: right;\n",
       "    }\n",
       "</style>\n",
       "<table border=\"1\" class=\"dataframe\">\n",
       "  <thead>\n",
       "    <tr style=\"text-align: right;\">\n",
       "      <th></th>\n",
       "      <th>Relapse</th>\n",
       "      <th>CEA_Post</th>\n",
       "      <th>Lymphatic</th>\n",
       "      <th>Vascular</th>\n",
       "      <th>pStage</th>\n",
       "      <th>pT</th>\n",
       "      <th>pN</th>\n",
       "      <th>Perineural</th>\n",
       "      <th>Age</th>\n",
       "    </tr>\n",
       "  </thead>\n",
       "  <tbody>\n",
       "    <tr>\n",
       "      <th>0</th>\n",
       "      <td>0</td>\n",
       "      <td>0.0</td>\n",
       "      <td>0</td>\n",
       "      <td>0</td>\n",
       "      <td>4</td>\n",
       "      <td>2</td>\n",
       "      <td>2</td>\n",
       "      <td>0</td>\n",
       "      <td>73</td>\n",
       "    </tr>\n",
       "    <tr>\n",
       "      <th>1</th>\n",
       "      <td>0</td>\n",
       "      <td>1.2</td>\n",
       "      <td>1</td>\n",
       "      <td>0</td>\n",
       "      <td>4</td>\n",
       "      <td>2</td>\n",
       "      <td>2</td>\n",
       "      <td>1</td>\n",
       "      <td>73</td>\n",
       "    </tr>\n",
       "  </tbody>\n",
       "</table>\n",
       "</div>"
      ],
      "text/plain": [
       "   Relapse  CEA_Post  Lymphatic  Vascular  pStage  pT  pN  Perineural  Age\n",
       "0        0       0.0          0         0       4   2   2           0   73\n",
       "1        0       1.2          1         0       4   2   2           1   73"
      ]
     },
     "execution_count": 80,
     "metadata": {},
     "output_type": "execute_result"
    }
   ],
   "source": [
    "train.head(2) # 컬럼확인"
   ]
  },
  {
   "cell_type": "code",
   "execution_count": 7,
   "id": "334615b8",
   "metadata": {
    "scrolled": false
   },
   "outputs": [
    {
     "name": "stdout",
     "output_type": "stream",
     "text": [
      "<class 'pandas.core.frame.DataFrame'>\n",
      "RangeIndex: 392 entries, 0 to 391\n",
      "Data columns (total 9 columns):\n",
      " #   Column      Non-Null Count  Dtype  \n",
      "---  ------      --------------  -----  \n",
      " 0   Relapse     392 non-null    int64  \n",
      " 1   CEA_Post    392 non-null    float64\n",
      " 2   Lymphatic   392 non-null    int64  \n",
      " 3   Vascular    392 non-null    int64  \n",
      " 4   pStage      392 non-null    int64  \n",
      " 5   pT          392 non-null    int64  \n",
      " 6   pN          392 non-null    int64  \n",
      " 7   Perineural  392 non-null    int64  \n",
      " 8   Age         392 non-null    int64  \n",
      "dtypes: float64(1), int64(8)\n",
      "memory usage: 27.7 KB\n"
     ]
    }
   ],
   "source": [
    "train.info() # 결측치 화인"
   ]
  },
  {
   "cell_type": "code",
   "execution_count": 9,
   "id": "9a6193ea",
   "metadata": {
    "scrolled": true
   },
   "outputs": [
    {
     "data": {
      "text/html": [
       "<div>\n",
       "<style scoped>\n",
       "    .dataframe tbody tr th:only-of-type {\n",
       "        vertical-align: middle;\n",
       "    }\n",
       "\n",
       "    .dataframe tbody tr th {\n",
       "        vertical-align: top;\n",
       "    }\n",
       "\n",
       "    .dataframe thead th {\n",
       "        text-align: right;\n",
       "    }\n",
       "</style>\n",
       "<table border=\"1\" class=\"dataframe\">\n",
       "  <thead>\n",
       "    <tr style=\"text-align: right;\">\n",
       "      <th></th>\n",
       "      <th>Relapse</th>\n",
       "      <th>CEA_Post</th>\n",
       "      <th>Lymphatic</th>\n",
       "      <th>Vascular</th>\n",
       "      <th>pStage</th>\n",
       "      <th>pT</th>\n",
       "      <th>pN</th>\n",
       "      <th>Perineural</th>\n",
       "      <th>Age</th>\n",
       "    </tr>\n",
       "  </thead>\n",
       "  <tbody>\n",
       "    <tr>\n",
       "      <th>Relapse</th>\n",
       "      <td>1.000000</td>\n",
       "      <td>0.163411</td>\n",
       "      <td>0.206385</td>\n",
       "      <td>0.208355</td>\n",
       "      <td>0.180064</td>\n",
       "      <td>0.056499</td>\n",
       "      <td>0.204281</td>\n",
       "      <td>0.130624</td>\n",
       "      <td>-0.001398</td>\n",
       "    </tr>\n",
       "    <tr>\n",
       "      <th>CEA_Post</th>\n",
       "      <td>0.163411</td>\n",
       "      <td>1.000000</td>\n",
       "      <td>0.069175</td>\n",
       "      <td>0.056759</td>\n",
       "      <td>0.121155</td>\n",
       "      <td>-0.050621</td>\n",
       "      <td>0.165132</td>\n",
       "      <td>0.201012</td>\n",
       "      <td>-0.000181</td>\n",
       "    </tr>\n",
       "    <tr>\n",
       "      <th>Lymphatic</th>\n",
       "      <td>0.206385</td>\n",
       "      <td>0.069175</td>\n",
       "      <td>1.000000</td>\n",
       "      <td>0.228239</td>\n",
       "      <td>0.199909</td>\n",
       "      <td>-0.093983</td>\n",
       "      <td>0.319781</td>\n",
       "      <td>0.160543</td>\n",
       "      <td>-0.076858</td>\n",
       "    </tr>\n",
       "    <tr>\n",
       "      <th>Vascular</th>\n",
       "      <td>0.208355</td>\n",
       "      <td>0.056759</td>\n",
       "      <td>0.228239</td>\n",
       "      <td>1.000000</td>\n",
       "      <td>0.129301</td>\n",
       "      <td>0.042075</td>\n",
       "      <td>0.182302</td>\n",
       "      <td>0.250198</td>\n",
       "      <td>0.103310</td>\n",
       "    </tr>\n",
       "    <tr>\n",
       "      <th>pStage</th>\n",
       "      <td>0.180064</td>\n",
       "      <td>0.121155</td>\n",
       "      <td>0.199909</td>\n",
       "      <td>0.129301</td>\n",
       "      <td>1.000000</td>\n",
       "      <td>0.370512</td>\n",
       "      <td>0.770096</td>\n",
       "      <td>0.023054</td>\n",
       "      <td>0.099237</td>\n",
       "    </tr>\n",
       "    <tr>\n",
       "      <th>pT</th>\n",
       "      <td>0.056499</td>\n",
       "      <td>-0.050621</td>\n",
       "      <td>-0.093983</td>\n",
       "      <td>0.042075</td>\n",
       "      <td>0.370512</td>\n",
       "      <td>1.000000</td>\n",
       "      <td>-0.172943</td>\n",
       "      <td>0.014330</td>\n",
       "      <td>0.166362</td>\n",
       "    </tr>\n",
       "    <tr>\n",
       "      <th>pN</th>\n",
       "      <td>0.204281</td>\n",
       "      <td>0.165132</td>\n",
       "      <td>0.319781</td>\n",
       "      <td>0.182302</td>\n",
       "      <td>0.770096</td>\n",
       "      <td>-0.172943</td>\n",
       "      <td>1.000000</td>\n",
       "      <td>0.055978</td>\n",
       "      <td>-0.029191</td>\n",
       "    </tr>\n",
       "    <tr>\n",
       "      <th>Perineural</th>\n",
       "      <td>0.130624</td>\n",
       "      <td>0.201012</td>\n",
       "      <td>0.160543</td>\n",
       "      <td>0.250198</td>\n",
       "      <td>0.023054</td>\n",
       "      <td>0.014330</td>\n",
       "      <td>0.055978</td>\n",
       "      <td>1.000000</td>\n",
       "      <td>0.040122</td>\n",
       "    </tr>\n",
       "    <tr>\n",
       "      <th>Age</th>\n",
       "      <td>-0.001398</td>\n",
       "      <td>-0.000181</td>\n",
       "      <td>-0.076858</td>\n",
       "      <td>0.103310</td>\n",
       "      <td>0.099237</td>\n",
       "      <td>0.166362</td>\n",
       "      <td>-0.029191</td>\n",
       "      <td>0.040122</td>\n",
       "      <td>1.000000</td>\n",
       "    </tr>\n",
       "  </tbody>\n",
       "</table>\n",
       "</div>"
      ],
      "text/plain": [
       "             Relapse  CEA_Post  Lymphatic  Vascular    pStage        pT  \\\n",
       "Relapse     1.000000  0.163411   0.206385  0.208355  0.180064  0.056499   \n",
       "CEA_Post    0.163411  1.000000   0.069175  0.056759  0.121155 -0.050621   \n",
       "Lymphatic   0.206385  0.069175   1.000000  0.228239  0.199909 -0.093983   \n",
       "Vascular    0.208355  0.056759   0.228239  1.000000  0.129301  0.042075   \n",
       "pStage      0.180064  0.121155   0.199909  0.129301  1.000000  0.370512   \n",
       "pT          0.056499 -0.050621  -0.093983  0.042075  0.370512  1.000000   \n",
       "pN          0.204281  0.165132   0.319781  0.182302  0.770096 -0.172943   \n",
       "Perineural  0.130624  0.201012   0.160543  0.250198  0.023054  0.014330   \n",
       "Age        -0.001398 -0.000181  -0.076858  0.103310  0.099237  0.166362   \n",
       "\n",
       "                  pN  Perineural       Age  \n",
       "Relapse     0.204281    0.130624 -0.001398  \n",
       "CEA_Post    0.165132    0.201012 -0.000181  \n",
       "Lymphatic   0.319781    0.160543 -0.076858  \n",
       "Vascular    0.182302    0.250198  0.103310  \n",
       "pStage      0.770096    0.023054  0.099237  \n",
       "pT         -0.172943    0.014330  0.166362  \n",
       "pN          1.000000    0.055978 -0.029191  \n",
       "Perineural  0.055978    1.000000  0.040122  \n",
       "Age        -0.029191    0.040122  1.000000  "
      ]
     },
     "execution_count": 9,
     "metadata": {},
     "output_type": "execute_result"
    }
   ],
   "source": [
    "train.corr() # 일단 범주형 변수도 포함이지만 상관계수 확인"
   ]
  },
  {
   "cell_type": "code",
   "execution_count": 6,
   "id": "0b2ad2ed",
   "metadata": {
    "scrolled": true
   },
   "outputs": [
    {
     "data": {
      "text/html": [
       "<div>\n",
       "<style scoped>\n",
       "    .dataframe tbody tr th:only-of-type {\n",
       "        vertical-align: middle;\n",
       "    }\n",
       "\n",
       "    .dataframe tbody tr th {\n",
       "        vertical-align: top;\n",
       "    }\n",
       "\n",
       "    .dataframe thead th {\n",
       "        text-align: right;\n",
       "    }\n",
       "</style>\n",
       "<table border=\"1\" class=\"dataframe\">\n",
       "  <thead>\n",
       "    <tr style=\"text-align: right;\">\n",
       "      <th></th>\n",
       "      <th>Relapse</th>\n",
       "      <th>CEA_Post</th>\n",
       "      <th>Lymphatic</th>\n",
       "      <th>Vascular</th>\n",
       "      <th>pStage</th>\n",
       "      <th>pT</th>\n",
       "      <th>pN</th>\n",
       "      <th>Perineural</th>\n",
       "      <th>Age</th>\n",
       "    </tr>\n",
       "  </thead>\n",
       "  <tbody>\n",
       "    <tr>\n",
       "      <th>0</th>\n",
       "      <td>0</td>\n",
       "      <td>1.2</td>\n",
       "      <td>1</td>\n",
       "      <td>0</td>\n",
       "      <td>5</td>\n",
       "      <td>1</td>\n",
       "      <td>3</td>\n",
       "      <td>0</td>\n",
       "      <td>42</td>\n",
       "    </tr>\n",
       "    <tr>\n",
       "      <th>1</th>\n",
       "      <td>1</td>\n",
       "      <td>1.0</td>\n",
       "      <td>1</td>\n",
       "      <td>0</td>\n",
       "      <td>4</td>\n",
       "      <td>2</td>\n",
       "      <td>2</td>\n",
       "      <td>0</td>\n",
       "      <td>45</td>\n",
       "    </tr>\n",
       "  </tbody>\n",
       "</table>\n",
       "</div>"
      ],
      "text/plain": [
       "   Relapse  CEA_Post  Lymphatic  Vascular  pStage  pT  pN  Perineural  Age\n",
       "0        0       1.2          1         0       5   1   3           0   42\n",
       "1        1       1.0          1         0       4   2   2           0   45"
      ]
     },
     "execution_count": 6,
     "metadata": {},
     "output_type": "execute_result"
    }
   ],
   "source": [
    "valid.head(2) # 확인"
   ]
  },
  {
   "cell_type": "code",
   "execution_count": 82,
   "id": "5f49da65",
   "metadata": {},
   "outputs": [],
   "source": [
    "model = ols(formula = \"Relapse ~ CEA_Post + C(Lymphatic) + C(Vascular) + pN\", data = train).fit()"
   ]
  },
  {
   "cell_type": "code",
   "execution_count": 83,
   "id": "87eb239a",
   "metadata": {
    "scrolled": true
   },
   "outputs": [
    {
     "data": {
      "text/html": [
       "<table class=\"simpletable\">\n",
       "<caption>OLS Regression Results</caption>\n",
       "<tr>\n",
       "  <th>Dep. Variable:</th>         <td>Relapse</td>     <th>  R-squared:         </th> <td>   0.102</td>\n",
       "</tr>\n",
       "<tr>\n",
       "  <th>Model:</th>                   <td>OLS</td>       <th>  Adj. R-squared:    </th> <td>   0.093</td>\n",
       "</tr>\n",
       "<tr>\n",
       "  <th>Method:</th>             <td>Least Squares</td>  <th>  F-statistic:       </th> <td>   10.98</td>\n",
       "</tr>\n",
       "<tr>\n",
       "  <th>Date:</th>             <td>Fri, 15 Apr 2022</td> <th>  Prob (F-statistic):</th> <td>1.93e-08</td>\n",
       "</tr>\n",
       "<tr>\n",
       "  <th>Time:</th>                 <td>17:02:53</td>     <th>  Log-Likelihood:    </th> <td> -258.48</td>\n",
       "</tr>\n",
       "<tr>\n",
       "  <th>No. Observations:</th>      <td>   392</td>      <th>  AIC:               </th> <td>   527.0</td>\n",
       "</tr>\n",
       "<tr>\n",
       "  <th>Df Residuals:</th>          <td>   387</td>      <th>  BIC:               </th> <td>   546.8</td>\n",
       "</tr>\n",
       "<tr>\n",
       "  <th>Df Model:</th>              <td>     4</td>      <th>                     </th>     <td> </td>   \n",
       "</tr>\n",
       "<tr>\n",
       "  <th>Covariance Type:</th>      <td>nonrobust</td>    <th>                     </th>     <td> </td>   \n",
       "</tr>\n",
       "</table>\n",
       "<table class=\"simpletable\">\n",
       "<tr>\n",
       "          <td></td>             <th>coef</th>     <th>std err</th>      <th>t</th>      <th>P>|t|</th>  <th>[0.025</th>    <th>0.975]</th>  \n",
       "</tr>\n",
       "<tr>\n",
       "  <th>Intercept</th>         <td>    0.1035</td> <td>    0.068</td> <td>    1.532</td> <td> 0.126</td> <td>   -0.029</td> <td>    0.236</td>\n",
       "</tr>\n",
       "<tr>\n",
       "  <th>C(Lymphatic)[T.1]</th> <td>    0.1337</td> <td>    0.055</td> <td>    2.440</td> <td> 0.015</td> <td>    0.026</td> <td>    0.241</td>\n",
       "</tr>\n",
       "<tr>\n",
       "  <th>C(Vascular)[T.1]</th>  <td>    0.1500</td> <td>    0.049</td> <td>    3.036</td> <td> 0.003</td> <td>    0.053</td> <td>    0.247</td>\n",
       "</tr>\n",
       "<tr>\n",
       "  <th>CEA_Post</th>          <td>    0.0012</td> <td>    0.000</td> <td>    2.600</td> <td> 0.010</td> <td>    0.000</td> <td>    0.002</td>\n",
       "</tr>\n",
       "<tr>\n",
       "  <th>pN</th>                <td>    0.0719</td> <td>    0.032</td> <td>    2.229</td> <td> 0.026</td> <td>    0.008</td> <td>    0.135</td>\n",
       "</tr>\n",
       "</table>\n",
       "<table class=\"simpletable\">\n",
       "<tr>\n",
       "  <th>Omnibus:</th>       <td>3024.000</td> <th>  Durbin-Watson:     </th> <td>   1.974</td>\n",
       "</tr>\n",
       "<tr>\n",
       "  <th>Prob(Omnibus):</th>  <td> 0.000</td>  <th>  Jarque-Bera (JB):  </th> <td>  46.045</td>\n",
       "</tr>\n",
       "<tr>\n",
       "  <th>Skew:</th>           <td> 0.306</td>  <th>  Prob(JB):          </th> <td>1.00e-10</td>\n",
       "</tr>\n",
       "<tr>\n",
       "  <th>Kurtosis:</th>       <td> 1.436</td>  <th>  Cond. No.          </th> <td>    166.</td>\n",
       "</tr>\n",
       "</table><br/><br/>Notes:<br/>[1] Standard Errors assume that the covariance matrix of the errors is correctly specified."
      ],
      "text/plain": [
       "<class 'statsmodels.iolib.summary.Summary'>\n",
       "\"\"\"\n",
       "                            OLS Regression Results                            \n",
       "==============================================================================\n",
       "Dep. Variable:                Relapse   R-squared:                       0.102\n",
       "Model:                            OLS   Adj. R-squared:                  0.093\n",
       "Method:                 Least Squares   F-statistic:                     10.98\n",
       "Date:                Fri, 15 Apr 2022   Prob (F-statistic):           1.93e-08\n",
       "Time:                        17:02:53   Log-Likelihood:                -258.48\n",
       "No. Observations:                 392   AIC:                             527.0\n",
       "Df Residuals:                     387   BIC:                             546.8\n",
       "Df Model:                           4                                         \n",
       "Covariance Type:            nonrobust                                         \n",
       "=====================================================================================\n",
       "                        coef    std err          t      P>|t|      [0.025      0.975]\n",
       "-------------------------------------------------------------------------------------\n",
       "Intercept             0.1035      0.068      1.532      0.126      -0.029       0.236\n",
       "C(Lymphatic)[T.1]     0.1337      0.055      2.440      0.015       0.026       0.241\n",
       "C(Vascular)[T.1]      0.1500      0.049      3.036      0.003       0.053       0.247\n",
       "CEA_Post              0.0012      0.000      2.600      0.010       0.000       0.002\n",
       "pN                    0.0719      0.032      2.229      0.026       0.008       0.135\n",
       "==============================================================================\n",
       "Omnibus:                     3024.000   Durbin-Watson:                   1.974\n",
       "Prob(Omnibus):                  0.000   Jarque-Bera (JB):               46.045\n",
       "Skew:                           0.306   Prob(JB):                     1.00e-10\n",
       "Kurtosis:                       1.436   Cond. No.                         166.\n",
       "==============================================================================\n",
       "\n",
       "Notes:\n",
       "[1] Standard Errors assume that the covariance matrix of the errors is correctly specified.\n",
       "\"\"\""
      ]
     },
     "execution_count": 83,
     "metadata": {},
     "output_type": "execute_result"
    }
   ],
   "source": [
    "model.summary()"
   ]
  },
  {
   "cell_type": "markdown",
   "id": "82f3007c",
   "metadata": {},
   "source": [
    "## 정리\n",
    "- Lyphatic, Vascular, CEA_Postm, pN만 유의한 독립변수"
   ]
  },
  {
   "cell_type": "markdown",
   "id": "2dbf2f94",
   "metadata": {},
   "source": [
    "## odds ratio 구하기"
   ]
  },
  {
   "cell_type": "code",
   "execution_count": 62,
   "id": "8fde1445",
   "metadata": {
    "scrolled": true
   },
   "outputs": [
    {
     "data": {
      "text/plain": [
       "Intercept            1.2090\n",
       "C(Lymphatic)[T.1]    1.1419\n",
       "C(Vascular)[T.1]     1.1595\n",
       "C(pN)[T.2]           1.0382\n",
       "C(pN)[T.3]           1.1557\n",
       "CEA_Post             1.0012\n",
       "dtype: float64"
      ]
     },
     "execution_count": 62,
     "metadata": {},
     "output_type": "execute_result"
    }
   ],
   "source": [
    "np.exp(model.params).round(4) # odds ratio"
   ]
  },
  {
   "cell_type": "code",
   "execution_count": null,
   "id": "e4117e08",
   "metadata": {},
   "outputs": [],
   "source": [
    "# Lymphatic이 1.1419배만큼 영향을 준다"
   ]
  },
  {
   "cell_type": "code",
   "execution_count": 78,
   "id": "0f5e65e0",
   "metadata": {},
   "outputs": [],
   "source": [
    "# 평가용 변수 분리\n",
    "x_valid = valid.loc[:, [\"CEA_Post\", \"Lymphatic\", \"Vascular\", \"pN\"]]\n",
    "y_valid = valid[\"Relapse\"]"
   ]
  },
  {
   "cell_type": "code",
   "execution_count": 77,
   "id": "f132a172",
   "metadata": {
    "scrolled": false
   },
   "outputs": [
    {
     "data": {
      "text/plain": [
       "0     0.454343\n",
       "1     0.382198\n",
       "2     0.463856\n",
       "3     0.175444\n",
       "4     0.605696\n",
       "        ...   \n",
       "93    0.328223\n",
       "94    0.538425\n",
       "95    0.604744\n",
       "96    0.179605\n",
       "97    0.312074\n",
       "Length: 98, dtype: float64"
      ]
     },
     "execution_count": 77,
     "metadata": {},
     "output_type": "execute_result"
    }
   ],
   "source": [
    "pred = model.predict(x_valid)\n",
    "pred"
   ]
  },
  {
   "cell_type": "markdown",
   "id": "d56f558c",
   "metadata": {},
   "source": [
    "## AUROC 구하기"
   ]
  },
  {
   "cell_type": "code",
   "execution_count": 75,
   "id": "d7d74e1d",
   "metadata": {},
   "outputs": [],
   "source": [
    "from sklearn.metrics import roc_auc_score"
   ]
  },
  {
   "cell_type": "code",
   "execution_count": 79,
   "id": "d7bafba5",
   "metadata": {},
   "outputs": [
    {
     "data": {
      "text/plain": [
       "0.6421052631578947"
      ]
     },
     "execution_count": 79,
     "metadata": {},
     "output_type": "execute_result"
    }
   ],
   "source": [
    "roc_auc_score(y_true= y_valid,\n",
    "              y_score = pred) # 최대값이 1, 최소값이 0.5에 가까움"
   ]
  }
 ],
 "metadata": {
  "kernelspec": {
   "display_name": "Python 3 (ipykernel)",
   "language": "python",
   "name": "python3"
  },
  "language_info": {
   "codemirror_mode": {
    "name": "ipython",
    "version": 3
   },
   "file_extension": ".py",
   "mimetype": "text/x-python",
   "name": "python",
   "nbconvert_exporter": "python",
   "pygments_lexer": "ipython3",
   "version": "3.9.7"
  }
 },
 "nbformat": 4,
 "nbformat_minor": 5
}
