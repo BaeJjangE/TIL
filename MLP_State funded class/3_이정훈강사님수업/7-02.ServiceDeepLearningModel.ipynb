{
 "cells": [
  {
   "cell_type": "code",
   "execution_count": 1,
   "id": "3c3a3ee4",
   "metadata": {},
   "outputs": [],
   "source": [
    "import pandas as pd\n",
    "from flask import Flask"
   ]
  },
  {
   "cell_type": "code",
   "execution_count": 2,
   "id": "fb4bc5bf",
   "metadata": {},
   "outputs": [],
   "source": [
    "import tensorflow as tf\n",
    "import pandas as pd\n",
    "import numpy as np\n",
    "import matplotlib.pyplot as plt\n",
    "import statsmodels.api as sm\n",
    "import os\n",
    "\n",
    "from tensorflow.keras.models import Sequential, load_model\n",
    "from tensorflow.keras.layers import Dense\n",
    "from tensorflow.keras.optimizers import SGD, Adam\n",
    "from tensorflow.keras import regularizers\n",
    "\n",
    "from tensorflow.keras.callbacks import ModelCheckpoint, TensorBoard, ReduceLROnPlateau"
   ]
  },
  {
   "cell_type": "code",
   "execution_count": 3,
   "id": "cc0d9726",
   "metadata": {},
   "outputs": [],
   "source": [
    "# 모델 구조\n",
    "model = Sequential()\n",
    "model.add(Dense(8, activation='relu', input_shape=(3,)))\n",
    "model.add(Dense(30, activation='relu'))\n",
    "model.add(Dense(1, activation='linear'))\n",
    "\n",
    "# CallBack 함수를 통해 LR을 낮출 것이므로, 초기 LR을 높게 잡기\n",
    "model.compile(loss='mse', optimizer='Adam', metrics=[tf.keras.metrics.RootMeanSquaredError()])\n",
    "model.load_weights('./model/634-236.5556-31.9894.hdf5')\n",
    "#0.001"
   ]
  },
  {
   "cell_type": "code",
   "execution_count": 4,
   "id": "7c5008de",
   "metadata": {},
   "outputs": [
    {
     "data": {
      "text/plain": [
       "'model.predict([\\n    [4, 8.6, 6],\\n    [3, 2.1, 4]\\n])'"
      ]
     },
     "execution_count": 4,
     "metadata": {},
     "output_type": "execute_result"
    }
   ],
   "source": [
    "'''model.predict([\n",
    "    [4, 8.6, 6],\n",
    "    [3, 2.1, 4]\n",
    "])'''"
   ]
  },
  {
   "cell_type": "code",
   "execution_count": 5,
   "id": "f83ee281",
   "metadata": {},
   "outputs": [],
   "source": [
    "from flask import Flask\n",
    "from flask import request\n",
    "app = Flask(__name__)\n",
    "\n",
    "@app.route(\"/CO2Pred\", methods=['GET','POST'])\n",
    "def hello_world2():\n",
    "    Cylinder = request.args.get('Cylinders')\n",
    "    FeulConsumption = request.args.get('FuelConsumption')\n",
    "    CO2Rating = request.args.get('CO2Rating')\n",
    "    \n",
    "    print(Cylinder)\n",
    "    print(FeulConsumption)\n",
    "    print(CO2Rating)\n",
    "    \n",
    "    if not Cylinder or not FeulConsumption or not CO2Rating:\n",
    "        return \"입력을 안 하셨습니다.\"\n",
    "    \n",
    "    Input = [float(Cylinder), float(FeulConsumption), float(CO2Rating)]\n",
    "    res = model.predict([Input])\n",
    "    print(res)\n",
    "\n",
    "    return 'CO2 배출량 :' + str(res)"
   ]
  },
  {
   "cell_type": "code",
   "execution_count": 6,
   "id": "46e245a4",
   "metadata": {},
   "outputs": [],
   "source": [
    "# 추가로 이미지 띄우기\n",
    "import io\n",
    "import random\n",
    "from flask import Response\n",
    "from matplotlib.backends.backend_agg import FigureCanvasAgg as FigureCanvas\n",
    "from matplotlib.figure import Figure\n",
    "\n",
    "@app.route('/plot.png')\n",
    "def plot_png():\n",
    "    fig = create_figure()\n",
    "    output = io.BytesIO()\n",
    "    FigureCanvas(fig).print_png(output)\n",
    "    return Response(output.getvalue(), mimetype='image/png')\n",
    "\n",
    "def create_figure():\n",
    "    fig = Figure()\n",
    "    axis = fig.add_subplot(1, 1, 1)\n",
    "    xs = range(100)\n",
    "    ys = [random.randint(1, 50) for x in xs]\n",
    "    axis.plot(xs, ys)\n",
    "    return fig\n"
   ]
  },
  {
   "cell_type": "code",
   "execution_count": null,
   "id": "093a02e6",
   "metadata": {
    "scrolled": true
   },
   "outputs": [
    {
     "name": "stdout",
     "output_type": "stream",
     "text": [
      " * Serving Flask app \"__main__\" (lazy loading)\n",
      " * Environment: production\n",
      "\u001b[31m   WARNING: This is a development server. Do not use it in a production deployment.\u001b[0m\n",
      "\u001b[2m   Use a production WSGI server instead.\u001b[0m\n",
      " * Debug mode: off\n"
     ]
    },
    {
     "name": "stderr",
     "output_type": "stream",
     "text": [
      " * Running on http://127.0.0.1:5000/ (Press CTRL+C to quit)\n",
      "127.0.0.1 - - [26/Apr/2022 17:21:12] \"GET /CO2Pred?Cylinders=2&FuelConsumption=3&CO2Rating=2 HTTP/1.1\" 200 -\n"
     ]
    },
    {
     "name": "stdout",
     "output_type": "stream",
     "text": [
      "2\n",
      "3\n",
      "2\n",
      "[[93.63582]]\n"
     ]
    }
   ],
   "source": [
    "app.run(host='127.0.0.1', port=5000)"
   ]
  },
  {
   "cell_type": "code",
   "execution_count": null,
   "id": "80e6de25",
   "metadata": {},
   "outputs": [],
   "source": []
  }
 ],
 "metadata": {
  "kernelspec": {
   "display_name": "Python 3 (ipykernel)",
   "language": "python",
   "name": "python3"
  },
  "language_info": {
   "codemirror_mode": {
    "name": "ipython",
    "version": 3
   },
   "file_extension": ".py",
   "mimetype": "text/x-python",
   "name": "python",
   "nbconvert_exporter": "python",
   "pygments_lexer": "ipython3",
   "version": "3.9.7"
  }
 },
 "nbformat": 4,
 "nbformat_minor": 5
}
