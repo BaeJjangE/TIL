{
 "cells": [
  {
   "cell_type": "markdown",
   "id": "9e5c4c65",
   "metadata": {},
   "source": [
    "!pip3 install pandas<br>\n",
    "!pip3 install numpy<br>\n",
    "!pip3 install matplotlib<br>\n",
    "!pip3 install statsmodels<br>"
   ]
  },
  {
   "cell_type": "code",
   "execution_count": 1,
   "id": "ac596566",
   "metadata": {},
   "outputs": [],
   "source": [
    "import tensorflow as tf\n",
    "import pandas as pd\n",
    "import numpy as np\n",
    "import matplotlib.pyplot as plt\n",
    "import statsmodels.api as sm\n",
    "\n",
    "from tensorflow.keras.models import Sequential, load_model\n",
    "from tensorflow.keras.layers import Dense\n",
    "from tensorflow.keras.optimizers import SGD, Adam"
   ]
  },
  {
   "cell_type": "markdown",
   "id": "b3a9b526",
   "metadata": {},
   "source": [
    "연속형 임의의 데이터 생성"
   ]
  },
  {
   "cell_type": "code",
   "execution_count": 2,
   "id": "2f066d8a",
   "metadata": {},
   "outputs": [],
   "source": [
    "np.random.seed(0)\n",
    "\n",
    "Temperature = np.random.normal(30,3,100)\n",
    "IceAmericano = Temperature + np.random.normal(100,8,100)\n",
    "InteriorPrice = np.random.normal(60,20,100)"
   ]
  },
  {
   "cell_type": "markdown",
   "id": "569500e2",
   "metadata": {},
   "source": [
    "데이터 프레임 형태로 2개 데이터 합치기<br>"
   ]
  },
  {
   "cell_type": "code",
   "execution_count": 3,
   "id": "db19541d",
   "metadata": {},
   "outputs": [],
   "source": [
    "Data = pd.DataFrame({\n",
    "    'Temp':Temperature,\n",
    "    'Sales':IceAmericano,\n",
    "    'InteriorPrice':InteriorPrice\n",
    "})"
   ]
  },
  {
   "cell_type": "code",
   "execution_count": 4,
   "id": "39dc99ac",
   "metadata": {},
   "outputs": [
    {
     "data": {
      "text/html": [
       "<div>\n",
       "<style scoped>\n",
       "    .dataframe tbody tr th:only-of-type {\n",
       "        vertical-align: middle;\n",
       "    }\n",
       "\n",
       "    .dataframe tbody tr th {\n",
       "        vertical-align: top;\n",
       "    }\n",
       "\n",
       "    .dataframe thead th {\n",
       "        text-align: right;\n",
       "    }\n",
       "</style>\n",
       "<table border=\"1\" class=\"dataframe\">\n",
       "  <thead>\n",
       "    <tr style=\"text-align: right;\">\n",
       "      <th></th>\n",
       "      <th>Temp</th>\n",
       "      <th>Sales</th>\n",
       "      <th>InteriorPrice</th>\n",
       "    </tr>\n",
       "  </thead>\n",
       "  <tbody>\n",
       "    <tr>\n",
       "      <th>count</th>\n",
       "      <td>100.000000</td>\n",
       "      <td>100.000000</td>\n",
       "      <td>100.000000</td>\n",
       "    </tr>\n",
       "    <tr>\n",
       "      <th>mean</th>\n",
       "      <td>30.179424</td>\n",
       "      <td>130.835528</td>\n",
       "      <td>58.815355</td>\n",
       "    </tr>\n",
       "    <tr>\n",
       "      <th>std</th>\n",
       "      <td>3.038879</td>\n",
       "      <td>9.170076</td>\n",
       "      <td>19.135973</td>\n",
       "    </tr>\n",
       "    <tr>\n",
       "      <th>min</th>\n",
       "      <td>22.341031</td>\n",
       "      <td>107.604044</td>\n",
       "      <td>4.548145</td>\n",
       "    </tr>\n",
       "    <tr>\n",
       "      <th>25%</th>\n",
       "      <td>28.068430</td>\n",
       "      <td>123.580449</td>\n",
       "      <td>48.068709</td>\n",
       "    </tr>\n",
       "    <tr>\n",
       "      <th>50%</th>\n",
       "      <td>30.282288</td>\n",
       "      <td>129.709430</td>\n",
       "      <td>58.492823</td>\n",
       "    </tr>\n",
       "    <tr>\n",
       "      <th>75%</th>\n",
       "      <td>32.211232</td>\n",
       "      <td>138.323847</td>\n",
       "      <td>70.773134</td>\n",
       "    </tr>\n",
       "    <tr>\n",
       "      <th>max</th>\n",
       "      <td>36.809264</td>\n",
       "      <td>150.357363</td>\n",
       "      <td>106.078334</td>\n",
       "    </tr>\n",
       "  </tbody>\n",
       "</table>\n",
       "</div>"
      ],
      "text/plain": [
       "             Temp       Sales  InteriorPrice\n",
       "count  100.000000  100.000000     100.000000\n",
       "mean    30.179424  130.835528      58.815355\n",
       "std      3.038879    9.170076      19.135973\n",
       "min     22.341031  107.604044       4.548145\n",
       "25%     28.068430  123.580449      48.068709\n",
       "50%     30.282288  129.709430      58.492823\n",
       "75%     32.211232  138.323847      70.773134\n",
       "max     36.809264  150.357363     106.078334"
      ]
     },
     "execution_count": 4,
     "metadata": {},
     "output_type": "execute_result"
    }
   ],
   "source": [
    "Data.describe()"
   ]
  },
  {
   "cell_type": "code",
   "execution_count": 5,
   "id": "bab9c9f7",
   "metadata": {},
   "outputs": [
    {
     "data": {
      "image/png": "[encoded data removed]",
      "text/plain": [
       "<Figure size 432x288 with 1 Axes>"
      ]
     },
     "metadata": {
      "needs_background": "light"
     },
     "output_type": "display_data"
    }
   ],
   "source": [
    "plt.plot(Data['Temp'], Data['Sales'], 'o')\n",
    "plt.plot(Data['InteriorPrice'], Data['Sales'], 'o')\n",
    "plt.show()"
   ]
  },
  {
   "cell_type": "markdown",
   "id": "d3aa1d78",
   "metadata": {},
   "source": [
    "선형회귀 모델, 딥러닝 framework (keras)로 만들기"
   ]
  },
  {
   "cell_type": "code",
   "execution_count": 6,
   "id": "f2722f6c",
   "metadata": {},
   "outputs": [],
   "source": [
    "model = Sequential()\n",
    "model.add(Dense( ... ))\n",
    "\n",
    "model.compile(loss='mse',optimizer=Adam(learning_rate=0.5))"
   ]
  },
  {
   "cell_type": "code",
   "execution_count": 7,
   "id": "09481a16",
   "metadata": {},
   "outputs": [],
   "source": [
    "Train_x = ...\n",
    "Train_y = ..."
   ]
  },
  {
   "cell_type": "code",
   "execution_count": 8,
   "id": "18dae18d",
   "metadata": {},
   "outputs": [
    {
     "name": "stdout",
     "output_type": "stream",
     "text": [
      "Epoch 1/100\n",
      "4/4 [==============================] - 0s 0s/step - loss: 3106.7158\n",
      "Epoch 2/100\n",
      "4/4 [==============================] - 0s 5ms/step - loss: 2516.1620\n",
      "Epoch 3/100\n",
      "4/4 [==============================] - 0s 0s/step - loss: 1195.5408\n",
      "Epoch 4/100\n",
      "4/4 [==============================] - 0s 5ms/step - loss: 809.2547\n",
      "Epoch 5/100\n",
      "4/4 [==============================] - 0s 0s/step - loss: 782.5538\n",
      "Epoch 6/100\n",
      "4/4 [==============================] - 0s 0s/step - loss: 365.3779\n",
      "Epoch 7/100\n",
      "4/4 [==============================] - 0s 5ms/step - loss: 296.7124\n",
      "Epoch 8/100\n",
      "4/4 [==============================] - 0s 0s/step - loss: 218.6141\n",
      "Epoch 9/100\n",
      "4/4 [==============================] - 0s 5ms/step - loss: 203.3089\n",
      "Epoch 10/100\n",
      "4/4 [==============================] - 0s 0s/step - loss: 164.1799\n",
      "Epoch 11/100\n",
      "4/4 [==============================] - 0s 5ms/step - loss: 142.5863\n",
      "Epoch 12/100\n",
      "4/4 [==============================] - 0s 0s/step - loss: 144.6377\n",
      "Epoch 13/100\n",
      "4/4 [==============================] - 0s 0s/step - loss: 139.1707\n",
      "Epoch 14/100\n",
      "4/4 [==============================] - 0s 0s/step - loss: 139.9818\n",
      "Epoch 15/100\n",
      "4/4 [==============================] - 0s 0s/step - loss: 157.4739\n",
      "Epoch 16/100\n",
      "4/4 [==============================] - 0s 5ms/step - loss: 165.7556\n",
      "Epoch 17/100\n",
      "4/4 [==============================] - 0s 0s/step - loss: 131.8949\n",
      "Epoch 18/100\n",
      "4/4 [==============================] - 0s 5ms/step - loss: 173.9667\n",
      "Epoch 19/100\n",
      "4/4 [==============================] - 0s 0s/step - loss: 155.7049\n",
      "Epoch 20/100\n",
      "4/4 [==============================] - 0s 5ms/step - loss: 155.0345\n",
      "Epoch 21/100\n",
      "4/4 [==============================] - 0s 0s/step - loss: 151.5957\n",
      "Epoch 22/100\n",
      "4/4 [==============================] - 0s 0s/step - loss: 139.3837\n",
      "Epoch 23/100\n",
      "4/4 [==============================] - 0s 5ms/step - loss: 149.8106\n",
      "Epoch 24/100\n",
      "4/4 [==============================] - 0s 0s/step - loss: 151.4778\n",
      "Epoch 25/100\n",
      "4/4 [==============================] - 0s 5ms/step - loss: 147.2641\n",
      "Epoch 26/100\n",
      "4/4 [==============================] - 0s 0s/step - loss: 146.1193\n",
      "Epoch 27/100\n",
      "4/4 [==============================] - 0s 0s/step - loss: 143.5178\n",
      "Epoch 28/100\n",
      "4/4 [==============================] - 0s 0s/step - loss: 155.8535\n",
      "Epoch 29/100\n",
      "4/4 [==============================] - 0s 0s/step - loss: 139.0007\n",
      "Epoch 30/100\n",
      "4/4 [==============================] - 0s 5ms/step - loss: 150.0785\n",
      "Epoch 31/100\n",
      "4/4 [==============================] - 0s 0s/step - loss: 146.8551\n",
      "Epoch 32/100\n",
      "4/4 [==============================] - 0s 5ms/step - loss: 149.0867\n",
      "Epoch 33/100\n",
      "4/4 [==============================] - 0s 0s/step - loss: 133.5705\n",
      "Epoch 34/100\n",
      "4/4 [==============================] - 0s 0s/step - loss: 141.8568\n",
      "Epoch 35/100\n",
      "4/4 [==============================] - 0s 5ms/step - loss: 138.8819\n",
      "Epoch 36/100\n",
      "4/4 [==============================] - 0s 0s/step - loss: 154.2137\n",
      "Epoch 37/100\n",
      "4/4 [==============================] - 0s 5ms/step - loss: 136.3552\n",
      "Epoch 38/100\n",
      "4/4 [==============================] - 0s 0s/step - loss: 142.2253\n",
      "Epoch 39/100\n",
      "4/4 [==============================] - 0s 5ms/step - loss: 149.9890\n",
      "Epoch 40/100\n",
      "4/4 [==============================] - 0s 0s/step - loss: 141.5729\n",
      "Epoch 41/100\n",
      "4/4 [==============================] - 0s 0s/step - loss: 147.9636\n",
      "Epoch 42/100\n",
      "4/4 [==============================] - 0s 0s/step - loss: 134.6661\n",
      "Epoch 43/100\n",
      "4/4 [==============================] - 0s 0s/step - loss: 153.4908\n",
      "Epoch 44/100\n",
      "4/4 [==============================] - 0s 0s/step - loss: 184.5431\n",
      "Epoch 45/100\n",
      "4/4 [==============================] - 0s 0s/step - loss: 190.8144\n",
      "Epoch 46/100\n",
      "4/4 [==============================] - 0s 5ms/step - loss: 209.9479\n",
      "Epoch 47/100\n",
      "4/4 [==============================] - 0s 0s/step - loss: 131.2030\n",
      "Epoch 48/100\n",
      "4/4 [==============================] - 0s 5ms/step - loss: 147.4290\n",
      "Epoch 49/100\n",
      "4/4 [==============================] - 0s 0s/step - loss: 179.5698\n",
      "Epoch 50/100\n",
      "4/4 [==============================] - 0s 5ms/step - loss: 133.7181\n",
      "Epoch 51/100\n",
      "4/4 [==============================] - 0s 0s/step - loss: 153.5272\n",
      "Epoch 52/100\n",
      "4/4 [==============================] - 0s 5ms/step - loss: 182.4759\n",
      "Epoch 53/100\n",
      "4/4 [==============================] - 0s 0s/step - loss: 147.6778\n",
      "Epoch 54/100\n",
      "4/4 [==============================] - 0s 0s/step - loss: 149.3938\n",
      "Epoch 55/100\n",
      "4/4 [==============================] - 0s 5ms/step - loss: 132.7617\n",
      "Epoch 56/100\n",
      "4/4 [==============================] - 0s 0s/step - loss: 145.2365\n",
      "Epoch 57/100\n",
      "4/4 [==============================] - 0s 5ms/step - loss: 195.7656\n",
      "Epoch 58/100\n",
      "4/4 [==============================] - 0s 0s/step - loss: 147.2585\n",
      "Epoch 59/100\n",
      "4/4 [==============================] - 0s 5ms/step - loss: 118.4224\n",
      "Epoch 60/100\n",
      "4/4 [==============================] - 0s 0s/step - loss: 134.5346\n",
      "Epoch 61/100\n",
      "4/4 [==============================] - 0s 0s/step - loss: 140.3351\n",
      "Epoch 62/100\n",
      "4/4 [==============================] - 0s 0s/step - loss: 151.0176\n",
      "Epoch 63/100\n",
      "4/4 [==============================] - 0s 0s/step - loss: 143.6818\n",
      "Epoch 64/100\n",
      "4/4 [==============================] - 0s 5ms/step - loss: 141.6252\n",
      "Epoch 65/100\n",
      "4/4 [==============================] - 0s 0s/step - loss: 151.6997\n",
      "Epoch 66/100\n",
      "4/4 [==============================] - 0s 5ms/step - loss: 141.8212\n",
      "Epoch 67/100\n",
      "4/4 [==============================] - 0s 0s/step - loss: 147.1698\n",
      "Epoch 68/100\n",
      "4/4 [==============================] - 0s 5ms/step - loss: 127.8010\n",
      "Epoch 69/100\n",
      "4/4 [==============================] - 0s 0s/step - loss: 133.2250\n",
      "Epoch 70/100\n",
      "4/4 [==============================] - 0s 5ms/step - loss: 128.5284\n",
      "Epoch 71/100\n",
      "4/4 [==============================] - 0s 0s/step - loss: 134.3901\n",
      "Epoch 72/100\n",
      "4/4 [==============================] - 0s 0s/step - loss: 138.7354\n",
      "Epoch 73/100\n",
      "4/4 [==============================] - 0s 0s/step - loss: 129.7366\n",
      "Epoch 74/100\n",
      "4/4 [==============================] - 0s 0s/step - loss: 145.0660\n",
      "Epoch 75/100\n",
      "4/4 [==============================] - 0s 0s/step - loss: 137.5012\n",
      "Epoch 76/100\n",
      "4/4 [==============================] - 0s 0s/step - loss: 159.5611\n",
      "Epoch 77/100\n",
      "4/4 [==============================] - 0s 5ms/step - loss: 226.3779\n",
      "Epoch 78/100\n",
      "4/4 [==============================] - 0s 0s/step - loss: 283.3194\n",
      "Epoch 79/100\n",
      "4/4 [==============================] - 0s 5ms/step - loss: 368.1901\n",
      "Epoch 80/100\n",
      "4/4 [==============================] - 0s 0s/step - loss: 158.3364\n",
      "Epoch 81/100\n",
      "4/4 [==============================] - 0s 0s/step - loss: 151.6257\n",
      "Epoch 82/100\n",
      "4/4 [==============================] - 0s 0s/step - loss: 167.4381\n",
      "Epoch 83/100\n",
      "4/4 [==============================] - 0s 0s/step - loss: 124.1283\n",
      "Epoch 84/100\n",
      "4/4 [==============================] - 0s 0s/step - loss: 144.5432\n",
      "Epoch 85/100\n",
      "4/4 [==============================] - 0s 0s/step - loss: 123.6243\n",
      "Epoch 86/100\n",
      "4/4 [==============================] - 0s 5ms/step - loss: 124.2070\n",
      "Epoch 87/100\n",
      "4/4 [==============================] - 0s 0s/step - loss: 130.6229\n",
      "Epoch 88/100\n",
      "4/4 [==============================] - 0s 5ms/step - loss: 120.2755\n",
      "Epoch 89/100\n",
      "4/4 [==============================] - 0s 0s/step - loss: 124.9653\n",
      "Epoch 90/100\n",
      "4/4 [==============================] - 0s 0s/step - loss: 121.7943\n",
      "Epoch 91/100\n",
      "4/4 [==============================] - 0s 5ms/step - loss: 127.1937\n",
      "Epoch 92/100\n",
      "4/4 [==============================] - 0s 0s/step - loss: 119.8388\n",
      "Epoch 93/100\n",
      "4/4 [==============================] - 0s 5ms/step - loss: 131.5148\n",
      "Epoch 94/100\n",
      "4/4 [==============================] - 0s 0s/step - loss: 125.9288\n",
      "Epoch 95/100\n",
      "4/4 [==============================] - 0s 5ms/step - loss: 163.0225\n",
      "Epoch 96/100\n",
      "4/4 [==============================] - 0s 0s/step - loss: 194.5842\n",
      "Epoch 97/100\n",
      "4/4 [==============================] - 0s 0s/step - loss: 122.4483\n",
      "Epoch 98/100\n",
      "4/4 [==============================] - 0s 5ms/step - loss: 119.0872\n",
      "Epoch 99/100\n",
      "4/4 [==============================] - 0s 0s/step - loss: 114.7204\n",
      "Epoch 100/100\n",
      "4/4 [==============================] - 0s 5ms/step - loss: 116.1109\n"
     ]
    }
   ],
   "source": [
    "hist = model.fit(...)"
   ]
  },
  {
   "cell_type": "code",
   "execution_count": 10,
   "id": "dda2d344",
   "metadata": {},
   "outputs": [
    {
     "data": {
      "image/png": "[encoded data removed]",
      "text/plain": [
       "<Figure size 432x288 with 1 Axes>"
      ]
     },
     "metadata": {
      "needs_background": "light"
     },
     "output_type": "display_data"
    }
   ],
   "source": [
    "plt.plot(Data['Sales'], model.predict(Data[['Temp', 'InteriorPrice']]), 'o')\n",
    "plt.show()"
   ]
  }
 ],
 "metadata": {
  "kernelspec": {
   "display_name": "Python 3 (ipykernel)",
   "language": "python",
   "name": "python3"
  },
  "language_info": {
   "codemirror_mode": {
    "name": "ipython",
    "version": 3
   },
   "file_extension": ".py",
   "mimetype": "text/x-python",
   "name": "python",
   "nbconvert_exporter": "python",
   "pygments_lexer": "ipython3",
   "version": "3.8.10"
  }
 },
 "nbformat": 4,
 "nbformat_minor": 5
}
