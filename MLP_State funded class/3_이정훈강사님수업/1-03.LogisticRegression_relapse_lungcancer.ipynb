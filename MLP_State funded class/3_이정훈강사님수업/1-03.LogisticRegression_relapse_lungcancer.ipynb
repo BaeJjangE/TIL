{
 "cells": [
  {
   "cell_type": "markdown",
   "id": "a4021b4a",
   "metadata": {},
   "source": [
    "## 참고: https://hleecaster.com/ml-linear-regression-example/"
   ]
  },
  {
   "cell_type": "markdown",
   "id": "54d4f2b0",
   "metadata": {},
   "source": [
    "## 라이브러리 설치, 호출"
   ]
  },
  {
   "cell_type": "markdown",
   "id": "e2853ab4",
   "metadata": {},
   "source": [
    "!pip3 install -U scikit-learn<br>\n",
    "!pip3 install pandas<br>\n",
    "!pip3 install numpy<br>\n",
    "!pip3 install matplotlib<br>\n",
    "!pip3 install statsmodels<br>"
   ]
  },
  {
   "cell_type": "code",
   "execution_count": 2,
   "id": "f1c2d373",
   "metadata": {},
   "outputs": [],
   "source": [
    "from sklearn.linear_model import LinearRegression\n",
    "import pandas as pd\n",
    "import numpy as np\n",
    "import matplotlib.pyplot as plt\n",
    "import statsmodels.api as sm\n",
    "import os\n",
    "\n",
    "import matplotlib.pyplot as plt \n",
    "import seaborn as sns"
   ]
  },
  {
   "cell_type": "markdown",
   "id": "2130a254",
   "metadata": {},
   "source": [
    "## 데이터 경로 설정"
   ]
  },
  {
   "cell_type": "code",
   "execution_count": 3,
   "id": "81f843cc",
   "metadata": {},
   "outputs": [
    {
     "data": {
      "text/plain": [
       "['.ipynb_checkpoints',\n",
       " '01.LinearRegression.ipynb',\n",
       " '02.LogisticRegression.ipynb',\n",
       " 'Train.csv',\n",
       " 'Valid.csv']"
      ]
     },
     "execution_count": 3,
     "metadata": {},
     "output_type": "execute_result"
    }
   ],
   "source": [
    "os.chdir('C:\\\\Users\\\\student\\\\Downloads\\\\Regression_Practice')\n",
    "os.listdir()"
   ]
  },
  {
   "cell_type": "code",
   "execution_count": 4,
   "id": "cbdefba7",
   "metadata": {},
   "outputs": [
    {
     "name": "stdout",
     "output_type": "stream",
     "text": [
      "   Relapse  CEA_Post  Lymphatic  Vascular  pStage  pT  pN  Perineural  Age\n",
      "0        0       0.0          0         0       4   2   2           0   73\n",
      "1        0       1.2          1         0       4   2   2           1   73\n",
      "2        1       1.8          1         0       4   1   2           0   53\n",
      "3        0       0.0          1         0       4   2   2           0   57\n",
      "4        1      52.0          1         1       6   4   3           0   65\n"
     ]
    }
   ],
   "source": [
    "df = pd.read_csv('Train.csv')\n",
    "print(df.head())"
   ]
  },
  {
   "cell_type": "code",
   "execution_count": 5,
   "id": "f32bb3d2",
   "metadata": {},
   "outputs": [
    {
     "data": {
      "text/plain": [
       "1.0986122886681098"
      ]
     },
     "execution_count": 5,
     "metadata": {},
     "output_type": "execute_result"
    }
   ],
   "source": [
    "np.log(3)"
   ]
  },
  {
   "cell_type": "markdown",
   "id": "738d1868",
   "metadata": {},
   "source": [
    "## Univariate analysis (변수 개별 Logit모델 분석)"
   ]
  },
  {
   "cell_type": "code",
   "execution_count": 6,
   "id": "095048a3",
   "metadata": {},
   "outputs": [],
   "source": [
    "Label = df['Relapse']"
   ]
  },
  {
   "cell_type": "code",
   "execution_count": 7,
   "id": "351a89ed",
   "metadata": {},
   "outputs": [
    {
     "name": "stdout",
     "output_type": "stream",
     "text": [
      "Optimization terminated successfully.\n",
      "         Current function value: 0.657710\n",
      "         Iterations 8\n",
      "Optimization terminated successfully.\n",
      "         Current function value: 0.658618\n",
      "         Iterations 5\n",
      "Optimization terminated successfully.\n",
      "         Current function value: 0.658792\n",
      "         Iterations 4\n",
      "Optimization terminated successfully.\n",
      "         Current function value: 0.663902\n",
      "         Iterations 5\n",
      "Optimization terminated successfully.\n",
      "         Current function value: 0.678993\n",
      "         Iterations 4\n",
      "Optimization terminated successfully.\n",
      "         Current function value: 0.659464\n",
      "         Iterations 5\n",
      "Optimization terminated successfully.\n",
      "         Current function value: 0.672174\n",
      "         Iterations 4\n",
      "Optimization terminated successfully.\n",
      "         Current function value: 0.680586\n",
      "         Iterations 4\n"
     ]
    }
   ],
   "source": [
    "Vari, Coef, Pval = [], [], []\n",
    "\n",
    "for Feature in df.columns[1:]:\n",
    "    InputFeature = df[Feature]\n",
    "    InputFeature = sm.add_constant(InputFeature)\n",
    "    model = sm.Logit(Label, InputFeature).fit()\n",
    "    \n",
    "    Vari.append(Feature)\n",
    "    Coef.append(model.params[1])\n",
    "    Pval.append(model.pvalues[1])"
   ]
  },
  {
   "cell_type": "code",
   "execution_count": 8,
   "id": "81ec5755",
   "metadata": {
    "scrolled": true
   },
   "outputs": [
    {
     "data": {
      "text/html": [
       "<div>\n",
       "<style scoped>\n",
       "    .dataframe tbody tr th:only-of-type {\n",
       "        vertical-align: middle;\n",
       "    }\n",
       "\n",
       "    .dataframe tbody tr th {\n",
       "        vertical-align: top;\n",
       "    }\n",
       "\n",
       "    .dataframe thead th {\n",
       "        text-align: right;\n",
       "    }\n",
       "</style>\n",
       "<table border=\"1\" class=\"dataframe\">\n",
       "  <thead>\n",
       "    <tr style=\"text-align: right;\">\n",
       "      <th></th>\n",
       "      <th>Feature</th>\n",
       "      <th>Coefficient</th>\n",
       "      <th>p-value</th>\n",
       "    </tr>\n",
       "  </thead>\n",
       "  <tbody>\n",
       "    <tr>\n",
       "      <th>0</th>\n",
       "      <td>CEA_Post</td>\n",
       "      <td>0.023627</td>\n",
       "      <td>0.016328</td>\n",
       "    </tr>\n",
       "    <tr>\n",
       "      <th>1</th>\n",
       "      <td>Lymphatic</td>\n",
       "      <td>0.947041</td>\n",
       "      <td>0.000057</td>\n",
       "    </tr>\n",
       "    <tr>\n",
       "      <th>2</th>\n",
       "      <td>Vascular</td>\n",
       "      <td>0.856354</td>\n",
       "      <td>0.000043</td>\n",
       "    </tr>\n",
       "    <tr>\n",
       "      <th>3</th>\n",
       "      <td>pStage</td>\n",
       "      <td>0.341326</td>\n",
       "      <td>0.000456</td>\n",
       "    </tr>\n",
       "    <tr>\n",
       "      <th>4</th>\n",
       "      <td>pT</td>\n",
       "      <td>0.093594</td>\n",
       "      <td>0.263822</td>\n",
       "    </tr>\n",
       "    <tr>\n",
       "      <th>5</th>\n",
       "      <td>pN</td>\n",
       "      <td>0.535324</td>\n",
       "      <td>0.000064</td>\n",
       "    </tr>\n",
       "    <tr>\n",
       "      <th>6</th>\n",
       "      <td>Perineural</td>\n",
       "      <td>0.820546</td>\n",
       "      <td>0.011187</td>\n",
       "    </tr>\n",
       "    <tr>\n",
       "      <th>7</th>\n",
       "      <td>Age</td>\n",
       "      <td>-0.000291</td>\n",
       "      <td>0.977918</td>\n",
       "    </tr>\n",
       "  </tbody>\n",
       "</table>\n",
       "</div>"
      ],
      "text/plain": [
       "      Feature  Coefficient   p-value\n",
       "0    CEA_Post     0.023627  0.016328\n",
       "1   Lymphatic     0.947041  0.000057\n",
       "2    Vascular     0.856354  0.000043\n",
       "3      pStage     0.341326  0.000456\n",
       "4          pT     0.093594  0.263822\n",
       "5          pN     0.535324  0.000064\n",
       "6  Perineural     0.820546  0.011187\n",
       "7         Age    -0.000291  0.977918"
      ]
     },
     "execution_count": 8,
     "metadata": {},
     "output_type": "execute_result"
    }
   ],
   "source": [
    "pd.DataFrame({\n",
    "    'Feature': Vari,\n",
    "    'Coefficient': Coef,\n",
    "    'p-value': Pval\n",
    "})"
   ]
  },
  {
   "cell_type": "code",
   "execution_count": 9,
   "id": "73ee0bdb",
   "metadata": {},
   "outputs": [
    {
     "name": "stdout",
     "output_type": "stream",
     "text": [
      "Optimization terminated successfully.\n",
      "         Current function value: 0.617586\n",
      "         Iterations 8\n"
     ]
    }
   ],
   "source": [
    "InputFeature = df[['CEA_Post', 'Lymphatic', 'Vascular', 'pStage', 'pN', 'Perineural']]\n",
    "InputFeature = sm.add_constant(InputFeature)\n",
    "Model = sm.Logit(Label, InputFeature).fit()"
   ]
  },
  {
   "cell_type": "code",
   "execution_count": 10,
   "id": "94768482",
   "metadata": {},
   "outputs": [
    {
     "name": "stdout",
     "output_type": "stream",
     "text": [
      "                           Logit Regression Results                           \n",
      "==============================================================================\n",
      "Dep. Variable:                Relapse   No. Observations:                  392\n",
      "Model:                          Logit   Df Residuals:                      385\n",
      "Method:                           MLE   Df Model:                            6\n",
      "Date:                Fri, 15 Apr 2022   Pseudo R-squ.:                 0.09257\n",
      "Time:                        17:23:51   Log-Likelihood:                -242.09\n",
      "converged:                       True   LL-Null:                       -266.79\n",
      "Covariance Type:            nonrobust   LLR p-value:                 6.222e-09\n",
      "==============================================================================\n",
      "                 coef    std err          z      P>|z|      [0.025      0.975]\n",
      "------------------------------------------------------------------------------\n",
      "const         -2.1139      0.467     -4.524      0.000      -3.030      -1.198\n",
      "CEA_Post       0.0191      0.009      2.141      0.032       0.002       0.037\n",
      "Lymphatic      0.6452      0.260      2.483      0.013       0.136       1.155\n",
      "Vascular       0.6137      0.227      2.698      0.007       0.168       1.060\n",
      "pStage         0.1582      0.155      1.018      0.309      -0.146       0.463\n",
      "pN             0.1006      0.226      0.446      0.656      -0.342       0.543\n",
      "Perineural     0.3346      0.355      0.942      0.346      -0.362       1.031\n",
      "==============================================================================\n"
     ]
    }
   ],
   "source": [
    "print(Model.summary())"
   ]
  },
  {
   "cell_type": "code",
   "execution_count": 11,
   "id": "cc42df0f",
   "metadata": {},
   "outputs": [
    {
     "data": {
      "text/html": [
       "<div>\n",
       "<style scoped>\n",
       "    .dataframe tbody tr th:only-of-type {\n",
       "        vertical-align: middle;\n",
       "    }\n",
       "\n",
       "    .dataframe tbody tr th {\n",
       "        vertical-align: top;\n",
       "    }\n",
       "\n",
       "    .dataframe thead th {\n",
       "        text-align: right;\n",
       "    }\n",
       "</style>\n",
       "<table border=\"1\" class=\"dataframe\">\n",
       "  <thead>\n",
       "    <tr style=\"text-align: right;\">\n",
       "      <th></th>\n",
       "      <th>CEA_Post</th>\n",
       "      <th>Lymphatic</th>\n",
       "      <th>Vascular</th>\n",
       "      <th>pStage</th>\n",
       "      <th>pN</th>\n",
       "      <th>Perineural</th>\n",
       "    </tr>\n",
       "  </thead>\n",
       "  <tbody>\n",
       "    <tr>\n",
       "      <th>CEA_Post</th>\n",
       "      <td>1.000000</td>\n",
       "      <td>0.069175</td>\n",
       "      <td>0.056759</td>\n",
       "      <td>0.121155</td>\n",
       "      <td>0.165132</td>\n",
       "      <td>0.201012</td>\n",
       "    </tr>\n",
       "    <tr>\n",
       "      <th>Lymphatic</th>\n",
       "      <td>0.069175</td>\n",
       "      <td>1.000000</td>\n",
       "      <td>0.228239</td>\n",
       "      <td>0.199909</td>\n",
       "      <td>0.319781</td>\n",
       "      <td>0.160543</td>\n",
       "    </tr>\n",
       "    <tr>\n",
       "      <th>Vascular</th>\n",
       "      <td>0.056759</td>\n",
       "      <td>0.228239</td>\n",
       "      <td>1.000000</td>\n",
       "      <td>0.129301</td>\n",
       "      <td>0.182302</td>\n",
       "      <td>0.250198</td>\n",
       "    </tr>\n",
       "    <tr>\n",
       "      <th>pStage</th>\n",
       "      <td>0.121155</td>\n",
       "      <td>0.199909</td>\n",
       "      <td>0.129301</td>\n",
       "      <td>1.000000</td>\n",
       "      <td>0.770096</td>\n",
       "      <td>0.023054</td>\n",
       "    </tr>\n",
       "    <tr>\n",
       "      <th>pN</th>\n",
       "      <td>0.165132</td>\n",
       "      <td>0.319781</td>\n",
       "      <td>0.182302</td>\n",
       "      <td>0.770096</td>\n",
       "      <td>1.000000</td>\n",
       "      <td>0.055978</td>\n",
       "    </tr>\n",
       "    <tr>\n",
       "      <th>Perineural</th>\n",
       "      <td>0.201012</td>\n",
       "      <td>0.160543</td>\n",
       "      <td>0.250198</td>\n",
       "      <td>0.023054</td>\n",
       "      <td>0.055978</td>\n",
       "      <td>1.000000</td>\n",
       "    </tr>\n",
       "  </tbody>\n",
       "</table>\n",
       "</div>"
      ],
      "text/plain": [
       "            CEA_Post  Lymphatic  Vascular    pStage        pN  Perineural\n",
       "CEA_Post    1.000000   0.069175  0.056759  0.121155  0.165132    0.201012\n",
       "Lymphatic   0.069175   1.000000  0.228239  0.199909  0.319781    0.160543\n",
       "Vascular    0.056759   0.228239  1.000000  0.129301  0.182302    0.250198\n",
       "pStage      0.121155   0.199909  0.129301  1.000000  0.770096    0.023054\n",
       "pN          0.165132   0.319781  0.182302  0.770096  1.000000    0.055978\n",
       "Perineural  0.201012   0.160543  0.250198  0.023054  0.055978    1.000000"
      ]
     },
     "execution_count": 11,
     "metadata": {},
     "output_type": "execute_result"
    }
   ],
   "source": [
    "CorrlationMatrix = InputFeature.iloc[:, 1:].corr()\n",
    "CorrlationMatrix"
   ]
  },
  {
   "cell_type": "code",
   "execution_count": 12,
   "id": "e4bc13f6",
   "metadata": {},
   "outputs": [],
   "source": [
    "import matplotlib.pyplot as plt \n",
    "import seaborn as sns"
   ]
  },
  {
   "cell_type": "code",
   "execution_count": 13,
   "id": "e86b871d",
   "metadata": {},
   "outputs": [
    {
     "data": {
      "text/plain": [
       "<AxesSubplot:>"
      ]
     },
     "execution_count": 13,
     "metadata": {},
     "output_type": "execute_result"
    },
    {
     "data": {
      "image/png": "[encoded data removed]",
      "text/plain": [
       "<Figure size 720x576 with 2 Axes>"
      ]
     },
     "metadata": {
      "needs_background": "light"
     },
     "output_type": "display_data"
    }
   ],
   "source": [
    "plt.figure(figsize=(10,8))\n",
    "sns.heatmap(data = CorrlationMatrix, annot=True, fmt = '.2f', linewidths=.5, cmap='seismic')"
   ]
  },
  {
   "cell_type": "code",
   "execution_count": 22,
   "id": "3b847d60",
   "metadata": {},
   "outputs": [
    {
     "name": "stdout",
     "output_type": "stream",
     "text": [
      "Optimization terminated successfully.\n",
      "         Current function value: 0.617841\n",
      "         Iterations 8\n"
     ]
    }
   ],
   "source": [
    "InputFeature = df[['CEA_Post', 'Lymphatic', 'Vascular', 'pStage', 'Perineural']]\n",
    "InputFeature = sm.add_constant(InputFeature)\n",
    "Model = sm.Logit(Label, InputFeature).fit()"
   ]
  },
  {
   "cell_type": "code",
   "execution_count": 23,
   "id": "23b21115",
   "metadata": {},
   "outputs": [
    {
     "name": "stdout",
     "output_type": "stream",
     "text": [
      "                           Logit Regression Results                           \n",
      "==============================================================================\n",
      "Dep. Variable:                Relapse   No. Observations:                  392\n",
      "Model:                          Logit   Df Residuals:                      386\n",
      "Method:                           MLE   Df Model:                            5\n",
      "Date:                Fri, 15 Apr 2022   Pseudo R-squ.:                 0.09219\n",
      "Time:                        17:36:37   Log-Likelihood:                -242.19\n",
      "converged:                       True   LL-Null:                       -266.79\n",
      "Covariance Type:            nonrobust   LLR p-value:                 2.027e-09\n",
      "==============================================================================\n",
      "                 coef    std err          z      P>|z|      [0.025      0.975]\n",
      "------------------------------------------------------------------------------\n",
      "const         -2.1599      0.458     -4.721      0.000      -3.057      -1.263\n",
      "CEA_Post       0.0195      0.009      2.186      0.029       0.002       0.037\n",
      "Lymphatic      0.6753      0.251      2.689      0.007       0.183       1.168\n",
      "Vascular       0.6224      0.227      2.748      0.006       0.178       1.066\n",
      "pStage         0.2106      0.102      2.073      0.038       0.011       0.410\n",
      "Perineural     0.3304      0.356      0.929      0.353      -0.366       1.027\n",
      "==============================================================================\n"
     ]
    }
   ],
   "source": [
    "print(Model.summary())"
   ]
  },
  {
   "cell_type": "code",
   "execution_count": 24,
   "id": "26601882",
   "metadata": {},
   "outputs": [
    {
     "data": {
      "text/html": [
       "<div>\n",
       "<style scoped>\n",
       "    .dataframe tbody tr th:only-of-type {\n",
       "        vertical-align: middle;\n",
       "    }\n",
       "\n",
       "    .dataframe tbody tr th {\n",
       "        vertical-align: top;\n",
       "    }\n",
       "\n",
       "    .dataframe thead th {\n",
       "        text-align: right;\n",
       "    }\n",
       "</style>\n",
       "<table border=\"1\" class=\"dataframe\">\n",
       "  <thead>\n",
       "    <tr style=\"text-align: right;\">\n",
       "      <th></th>\n",
       "      <th>Coefficient</th>\n",
       "      <th>OddsRatio</th>\n",
       "      <th>P-value</th>\n",
       "    </tr>\n",
       "  </thead>\n",
       "  <tbody>\n",
       "    <tr>\n",
       "      <th>const</th>\n",
       "      <td>-2.159906</td>\n",
       "      <td>0.115336</td>\n",
       "      <td>0.000002</td>\n",
       "    </tr>\n",
       "    <tr>\n",
       "      <th>CEA_Post</th>\n",
       "      <td>0.019506</td>\n",
       "      <td>1.019697</td>\n",
       "      <td>0.028841</td>\n",
       "    </tr>\n",
       "    <tr>\n",
       "      <th>Lymphatic</th>\n",
       "      <td>0.675275</td>\n",
       "      <td>1.964573</td>\n",
       "      <td>0.007175</td>\n",
       "    </tr>\n",
       "    <tr>\n",
       "      <th>Vascular</th>\n",
       "      <td>0.622445</td>\n",
       "      <td>1.863479</td>\n",
       "      <td>0.006001</td>\n",
       "    </tr>\n",
       "    <tr>\n",
       "      <th>pStage</th>\n",
       "      <td>0.210626</td>\n",
       "      <td>1.234451</td>\n",
       "      <td>0.038192</td>\n",
       "    </tr>\n",
       "    <tr>\n",
       "      <th>Perineural</th>\n",
       "      <td>0.330431</td>\n",
       "      <td>1.391568</td>\n",
       "      <td>0.352669</td>\n",
       "    </tr>\n",
       "  </tbody>\n",
       "</table>\n",
       "</div>"
      ],
      "text/plain": [
       "            Coefficient  OddsRatio   P-value\n",
       "const         -2.159906   0.115336  0.000002\n",
       "CEA_Post       0.019506   1.019697  0.028841\n",
       "Lymphatic      0.675275   1.964573  0.007175\n",
       "Vascular       0.622445   1.863479  0.006001\n",
       "pStage         0.210626   1.234451  0.038192\n",
       "Perineural     0.330431   1.391568  0.352669"
      ]
     },
     "execution_count": 24,
     "metadata": {},
     "output_type": "execute_result"
    }
   ],
   "source": [
    "pd.DataFrame({\n",
    "    'Coefficient': Model.params,\n",
    "    'OddsRatio': np.exp(Model.params),\n",
    "    'P-value': Model.pvalues\n",
    "})"
   ]
  },
  {
   "cell_type": "markdown",
   "id": "6ea6be7d",
   "metadata": {},
   "source": [
    "## Validation 데이터 분석"
   ]
  },
  {
   "cell_type": "code",
   "execution_count": 17,
   "id": "c90040ae",
   "metadata": {},
   "outputs": [
    {
     "name": "stdout",
     "output_type": "stream",
     "text": [
      "   Relapse  CEA_Post  Lymphatic  Vascular  pStage  pT  pN  Perineural  Age\n",
      "0        0       1.2          1         0       5   1   3           0   42\n",
      "1        1       1.0          1         0       4   2   2           0   45\n",
      "2        1       9.2          1         0       6   4   3           0   69\n",
      "3        1       0.0          0         0       5   5   1           0   64\n",
      "4        0       2.3          1         1       5   1   3           0   72\n"
     ]
    }
   ],
   "source": [
    "Valid = pd.read_csv('Valid.csv')\n",
    "print(Valid.head())"
   ]
  },
  {
   "cell_type": "markdown",
   "id": "475ec0b3",
   "metadata": {},
   "source": [
    "## Logistic regression 모델 fitting"
   ]
  },
  {
   "cell_type": "code",
   "execution_count": 18,
   "id": "4437d070",
   "metadata": {},
   "outputs": [],
   "source": [
    "ValidFeatures = Valid[['CEA_Post', 'Lymphatic', 'Vascular', 'pStage', 'Perineural']]\n",
    "ValidFeatures = sm.add_constant(ValidFeatures)"
   ]
  },
  {
   "cell_type": "code",
   "execution_count": 19,
   "id": "640b37a5",
   "metadata": {},
   "outputs": [],
   "source": [
    "ValidLabel = Valid['Relapse']\n",
    "ValidPred = Model.predict(ValidFeatures)"
   ]
  },
  {
   "cell_type": "code",
   "execution_count": 20,
   "id": "78ba702d",
   "metadata": {},
   "outputs": [],
   "source": [
    "from sklearn import metrics"
   ]
  },
  {
   "cell_type": "code",
   "execution_count": 21,
   "id": "dfb74a93",
   "metadata": {},
   "outputs": [
    {
     "data": {
      "image/png": "[encoded data removed]",
      "text/plain": [
       "<Figure size 432x288 with 1 Axes>"
      ]
     },
     "metadata": {
      "needs_background": "light"
     },
     "output_type": "display_data"
    }
   ],
   "source": [
    "fpr, tpr, _ = metrics.roc_curve(ValidLabel,  ValidPred)\n",
    "auc = metrics.roc_auc_score(ValidLabel, ValidPred)\n",
    "plt.plot(fpr,tpr,label=\"data 1, auc=\"+str(auc))\n",
    "plt.legend(loc=4)\n",
    "plt.show()"
   ]
  }
 ],
 "metadata": {
  "kernelspec": {
   "display_name": "Python 3 (ipykernel)",
   "language": "python",
   "name": "python3"
  },
  "language_info": {
   "codemirror_mode": {
    "name": "ipython",
    "version": 3
   },
   "file_extension": ".py",
   "mimetype": "text/x-python",
   "name": "python",
   "nbconvert_exporter": "python",
   "pygments_lexer": "ipython3",
   "version": "3.10.2"
  }
 },
 "nbformat": 4,
 "nbformat_minor": 5
}
