{
 "cells": [
  {
   "cell_type": "markdown",
   "id": "ded84f25",
   "metadata": {},
   "source": [
    "### 문제1.\n",
    "\n",
    "srp라는 변수에 srp='가위'일 경우 '이겼다.' 출력\n",
    "srp='바위' 일 경우 '졌다'출력\n",
    "srp='보' 일 경우 '비겼다' 출력\n"
   ]
  },
  {
   "cell_type": "code",
   "execution_count": 2,
   "id": "145ad84a",
   "metadata": {},
   "outputs": [
    {
     "name": "stdout",
     "output_type": "stream",
     "text": [
      "가위\n",
      "이겼다.\n"
     ]
    }
   ],
   "source": [
    "srp = input()\n",
    "if srp == '가위':\n",
    "    print('이겼다.')\n",
    "elif srp == '바위':\n",
    "    print('졌다')\n",
    "elif srp == '보':\n",
    "    print('비겼다')"
   ]
  },
  {
   "cell_type": "markdown",
   "id": "a6d680da",
   "metadata": {},
   "source": [
    "### 문제2\n",
    "\n",
    "태어난 연도를 입력하면 연령대를 출력하게 코딩하시오.\n",
    "예)\n",
    "태어난 연도를 입력하시오:1999\n",
    "나의 나이는 24입니다. 20대입니다.\n",
    "\n",
    "- 값을 입력하는 함수는 input 함수 입니다.\n",
    "- if문을 사용하는 방법, 사용하지 않는 방법"
   ]
  },
  {
   "cell_type": "code",
   "execution_count": 75,
   "id": "3ad22b18",
   "metadata": {},
   "outputs": [
    {
     "name": "stdout",
     "output_type": "stream",
     "text": [
      "1921\n",
      "나의 나이는 102입니다. 100대입니다.\n"
     ]
    }
   ],
   "source": [
    "# if문을 사용하는 방법\n",
    "import time\n",
    "\n",
    "a = int(input())-1\n",
    "for i in range(10, 141, 10): # 최대나이 140살까지 입력가능\n",
    "    if ((int(time.strftime('%Y', time.localtime(time.time()))) - a) - # 현재 년도 기준으로 결과값 나오게 하기위해 time.strftime 함수 사용\n",
    "     (int(time.strftime('%Y', time.localtime(time.time()))) - a) % 10) == i:\n",
    "        b = i\n",
    "c = int(time.strftime('%Y', time.localtime(time.time())))\n",
    "\n",
    "print('나의 나이는 {}입니다. {}대입니다.'.format(c - a, b))    "
   ]
  },
  {
   "cell_type": "code",
   "execution_count": 68,
   "id": "a0529849",
   "metadata": {
    "scrolled": false
   },
   "outputs": [
    {
     "name": "stdout",
     "output_type": "stream",
     "text": [
      "1922\n",
      "나의 나이는 101입니다. 100대입니다.\n"
     ]
    }
   ],
   "source": [
    "# if문을 사용하지 않는 방법\n",
    "import time\n",
    "\n",
    "a = int(input())-1\n",
    "b = 0\n",
    "b = ((int(time.strftime('%Y', time.localtime(time.time()))) - a) - \n",
    "     (int(time.strftime('%Y', time.localtime(time.time()))) - a) % 10)\n",
    "c = int(time.strftime('%Y', time.localtime(time.time())))\n",
    "\n",
    "print('나의 나이는 {}입니다. {}대입니다.'.format(c - a, b))"
   ]
  },
  {
   "cell_type": "markdown",
   "id": "a26c42f6",
   "metadata": {},
   "source": [
    "## for문 실습\n",
    "\n",
    "### 문제1\n",
    "\n",
    "구구단 계산기를 만드시오(for 문만이용)\n",
    "\n",
    "구구단 몇단을 계산 할까요?\n",
    "10\n",
    "구구단10단을 계산합니다.\n",
    "\n",
    "결과\n",
    "구구단 몇단을 계산 할까요?\n",
    "10\n",
    "구구단10단을 계산합니다.\n",
    "10 X 1 = 10\n",
    "10 X 2 = 20\n",
    "10 X 3 = 30\n",
    "10 X 4 = 40\n",
    "10 X 5 = 50\n",
    "10 X 6 = 60\n",
    "10 X 7 = 70\n",
    "10 X 8 = 80\n",
    "10 X 9 = 90\n",
    "    "
   ]
  },
  {
   "cell_type": "code",
   "execution_count": 76,
   "id": "dc1afb6f",
   "metadata": {},
   "outputs": [
    {
     "name": "stdout",
     "output_type": "stream",
     "text": [
      "구구단 몇단을 계산 할까요?9\n",
      "9\n",
      "구구단을 계산합니다.\n",
      "9 X 1 = 9\n",
      "9 X 2 = 18\n",
      "9 X 3 = 27\n",
      "9 X 4 = 36\n",
      "9 X 5 = 45\n",
      "9 X 6 = 54\n",
      "9 X 7 = 63\n",
      "9 X 8 = 72\n"
     ]
    }
   ],
   "source": [
    "a = int(input('구구단 몇단을 계산 할까요?'))\n",
    "print(a)\n",
    "print('구구단을 계산합니다.')\n",
    "for i in range(1, a):\n",
    "    print(a ,'X', i ,'=', a*i)"
   ]
  },
  {
   "cell_type": "markdown",
   "id": "7681e539",
   "metadata": {},
   "source": [
    "### 문제2\n",
    "\n",
    "구구단을 가로로 출력되게 프로그래밍 하시오."
   ]
  },
  {
   "cell_type": "code",
   "execution_count": 48,
   "id": "116c3638",
   "metadata": {},
   "outputs": [
    {
     "name": "stdout",
     "output_type": "stream",
     "text": [
      "2 * 1 = 2 3 * 1 = 3 4 * 1 = 4 5 * 1 = 5 6 * 1 = 6 7 * 1 = 7 8 * 1 = 8 9 * 1 = 9 \n",
      "2 * 2 = 4 3 * 2 = 6 4 * 2 = 8 5 * 2 = 10 6 * 2 = 12 7 * 2 = 14 8 * 2 = 16 9 * 2 = 18 \n",
      "2 * 3 = 6 3 * 3 = 9 4 * 3 = 12 5 * 3 = 15 6 * 3 = 18 7 * 3 = 21 8 * 3 = 24 9 * 3 = 27 \n",
      "2 * 4 = 8 3 * 4 = 12 4 * 4 = 16 5 * 4 = 20 6 * 4 = 24 7 * 4 = 28 8 * 4 = 32 9 * 4 = 36 \n",
      "2 * 5 = 10 3 * 5 = 15 4 * 5 = 20 5 * 5 = 25 6 * 5 = 30 7 * 5 = 35 8 * 5 = 40 9 * 5 = 45 \n",
      "2 * 6 = 12 3 * 6 = 18 4 * 6 = 24 5 * 6 = 30 6 * 6 = 36 7 * 6 = 42 8 * 6 = 48 9 * 6 = 54 \n",
      "2 * 7 = 14 3 * 7 = 21 4 * 7 = 28 5 * 7 = 35 6 * 7 = 42 7 * 7 = 49 8 * 7 = 56 9 * 7 = 63 \n",
      "2 * 8 = 16 3 * 8 = 24 4 * 8 = 32 5 * 8 = 40 6 * 8 = 48 7 * 8 = 56 8 * 8 = 64 9 * 8 = 72 \n",
      "2 * 9 = 18 3 * 9 = 27 4 * 9 = 36 5 * 9 = 45 6 * 9 = 54 7 * 9 = 63 8 * 9 = 72 9 * 9 = 81 \n"
     ]
    }
   ],
   "source": [
    "for i in range(1, 10):\n",
    "    for j in range(2, 10):\n",
    "        print(j, '*', i, '=', j*i, end=' ')\n",
    "    print('')"
   ]
  },
  {
   "cell_type": "markdown",
   "id": "11b9973d",
   "metadata": {},
   "source": [
    "### 문제3\n",
    "\n",
    "변수명 season1으로 지정하고, seasons = ['봄','여름','가을','겨울']\n",
    "\n",
    "'겨울' 일 경우에만 '현재 계절은 겨울 입니다.' 가 출력 되고\n",
    "나머지에 대해서는 '현재 계절은 (나머지)이 아닙니다.'가 출력되도록 코딩해보시오.\n",
    "\n",
    "결과\n",
    "현재 계절은 봄이 아닙니다\n",
    "현재 계절은 여름이 아닙니다\n",
    "현재 계절은 가을이 아닙니다\n",
    "현재 계절은 겨울입니다"
   ]
  },
  {
   "cell_type": "code",
   "execution_count": 53,
   "id": "12b5672e",
   "metadata": {},
   "outputs": [
    {
     "name": "stdout",
     "output_type": "stream",
     "text": [
      "현재 계절은 봄이 아닙니다.\n",
      "현재 계절은 여름이 아닙니다.\n",
      "현재 계절은 가을이 아닙니다.\n",
      "현재 계절은 겨울입니다.\n"
     ]
    }
   ],
   "source": [
    "seasons = ['봄','여름','가을','겨울']\n",
    "for i in seasons:\n",
    "    if i == '겨울':\n",
    "        print('현재 계절은 겨울입니다.')\n",
    "    else:\n",
    "        print('현재 계절은 ', i, '이 아닙니다.', sep='')"
   ]
  },
  {
   "cell_type": "markdown",
   "id": "b77a3b15",
   "metadata": {},
   "source": [
    "### 문제4\n",
    "\n",
    "다음과 같이 출력되게 프로그래밍 하시오\n",
    "\n",
    "★★★★★"
   ]
  },
  {
   "cell_type": "code",
   "execution_count": 54,
   "id": "037a4ee1",
   "metadata": {},
   "outputs": [
    {
     "name": "stdout",
     "output_type": "stream",
     "text": [
      "★★★★★"
     ]
    }
   ],
   "source": [
    "for i in range(5):\n",
    "    print('★', end='')"
   ]
  },
  {
   "cell_type": "markdown",
   "id": "88fcf8d6",
   "metadata": {},
   "source": [
    "### 문제5\n",
    "\n",
    "다음과 같이 출력되게 프로그래밍 하시오\n",
    "\n",
    "★★★★★\n",
    "\n",
    "★★★★★\n",
    "\n",
    "★★★★★\n",
    "\n",
    "★★★★★"
   ]
  },
  {
   "cell_type": "code",
   "execution_count": 58,
   "id": "aa2b1e67",
   "metadata": {},
   "outputs": [
    {
     "name": "stdout",
     "output_type": "stream",
     "text": [
      "★★★★★\n",
      "★★★★★\n",
      "★★★★★\n",
      "★★★★★\n"
     ]
    }
   ],
   "source": [
    "for i in range(4):\n",
    "    for j in range(5):\n",
    "        print('★', end='')\n",
    "    print('')"
   ]
  },
  {
   "cell_type": "markdown",
   "id": "e70d46dc",
   "metadata": {},
   "source": [
    "### 문제6\n",
    "\n",
    "다음과 같이 출력되게 프로그래밍 하시오\n",
    "\n",
    "★\n",
    "\n",
    "★★\n",
    "\n",
    "★★★\n",
    "\n",
    "★★★★\n",
    "\n",
    "★★★★★"
   ]
  },
  {
   "cell_type": "code",
   "execution_count": 61,
   "id": "980bd81d",
   "metadata": {},
   "outputs": [
    {
     "name": "stdout",
     "output_type": "stream",
     "text": [
      "★\n",
      "★★\n",
      "★★★\n",
      "★★★★\n",
      "★★★★★\n"
     ]
    }
   ],
   "source": [
    "for i in range(5):\n",
    "    for j in range(5):\n",
    "        if i >= j:\n",
    "            print('★', end='')\n",
    "    print('')"
   ]
  },
  {
   "cell_type": "markdown",
   "id": "84142f35",
   "metadata": {},
   "source": [
    "### 문제7\n",
    "\n",
    "다음과 같이 출력되게 프로그래밍 하시오\n",
    "\n",
    "★★★★★\n",
    "\n",
    "★★★★\n",
    "\n",
    "★★★\n",
    "\n",
    "★★\n",
    "\n",
    "★"
   ]
  },
  {
   "cell_type": "code",
   "execution_count": 62,
   "id": "7207d308",
   "metadata": {},
   "outputs": [
    {
     "name": "stdout",
     "output_type": "stream",
     "text": [
      "★★★★★\n",
      "★★★★\n",
      "★★★\n",
      "★★\n",
      "★\n"
     ]
    }
   ],
   "source": [
    "for i in range(5):\n",
    "    for j in range(5):\n",
    "        if i <= j:\n",
    "            print('★', end='')\n",
    "    print('')"
   ]
  },
  {
   "cell_type": "markdown",
   "id": "ea129fbd",
   "metadata": {},
   "source": [
    "### 문제8\n",
    "\n",
    "다음과 같이 출력되게 프로그래밍 하시오\n",
    "\n",
    "☆☆☆☆★\n",
    "\n",
    "☆☆☆★★\n",
    "\n",
    "☆☆★★★\n",
    "\n",
    "☆★★★★\n",
    "\n",
    "★★★★★"
   ]
  },
  {
   "cell_type": "code",
   "execution_count": 78,
   "id": "fd37eb77",
   "metadata": {},
   "outputs": [
    {
     "name": "stdout",
     "output_type": "stream",
     "text": [
      "☆☆☆☆★\n",
      "☆☆☆★★\n",
      "☆☆★★★\n",
      "☆★★★★\n",
      "★★★★★\n"
     ]
    }
   ],
   "source": [
    "for i in range(5):\n",
    "    for j in range(5):\n",
    "        if i < j:\n",
    "            print('☆', end='')\n",
    "    for z in range(5):\n",
    "        if i >= z:\n",
    "            print('★', end='')\n",
    "        \n",
    "    print('')"
   ]
  },
  {
   "cell_type": "markdown",
   "id": "5a410536",
   "metadata": {},
   "source": [
    "### 문제9\n",
    "\n",
    "다음과 같이 출력되게 프로그래밍 하시오\n",
    "    "
   ]
  },
  {
   "cell_type": "code",
   "execution_count": 124,
   "id": "aeed0f26",
   "metadata": {},
   "outputs": [
    {
     "name": "stdout",
     "output_type": "stream",
     "text": [
      "★★★★★\n",
      "★★★★★\n",
      "★★★★★\n",
      "★★★★★\n",
      "★★★★★\n",
      "★★★★★\n",
      "★\n",
      "★★\n",
      "★★★\n",
      "★★★★\n",
      "★★★★★\n",
      "★★★★★\n",
      "★★★★\n",
      "★★★\n",
      "★★\n",
      "★\n",
      "     \n",
      "    ★\n",
      "   ★★\n",
      "  ★★★\n",
      " ★★★★\n",
      "★★★★★\n",
      "☆☆☆☆★\n",
      "☆☆☆★★\n",
      "☆☆★★★\n",
      "☆★★★★\n",
      "★★★★★\n"
     ]
    }
   ],
   "source": [
    "for i in range(6):\n",
    "    for j in range(5):\n",
    "        print('★', end='')\n",
    "    print('')\n",
    "    \n",
    "for i in range(5):\n",
    "    for j in range(5):\n",
    "        if i >= j:\n",
    "            print('★', end='')\n",
    "    print('')\n",
    "    \n",
    "for i in range(5):\n",
    "    for j in range(5):\n",
    "        if i <= j:\n",
    "            print('★', end='')\n",
    "    print('')\n",
    "    \n",
    "    \n",
    "for i in range(6):\n",
    "    for j in reversed(range(5)):\n",
    "        if i <= j:\n",
    "            print(\" \", end='')\n",
    "        else:\n",
    "            print(\"★\", end='')\n",
    "    print('')\n",
    "\n",
    "for i in range(5):\n",
    "    for j in range(5):\n",
    "        if i < j:\n",
    "            print('☆', end='')\n",
    "    for z in range(5):\n",
    "        if i >= z:\n",
    "            print('★', end='')\n",
    "    print('')"
   ]
  },
  {
   "cell_type": "code",
   "execution_count": 125,
   "id": "bcaa6db9",
   "metadata": {},
   "outputs": [
    {
     "name": "stdout",
     "output_type": "stream",
     "text": [
      "    ★\n",
      "   ★★\n",
      "  ★★★\n",
      " ★★★★\n",
      "★★★★★\n"
     ]
    }
   ],
   "source": [
    "for i in range(6):\n",
    "    for j in reversed(range(5)):\n",
    "        if i <= j:\n",
    "            print(\" \", end='')\n",
    "        else:\n",
    "            print(\"★\", end='')\n",
    "    print('')"
   ]
  },
  {
   "cell_type": "markdown",
   "id": "f4c64175",
   "metadata": {},
   "source": [
    "### 문제10\n",
    "\n",
    "다음과 같이 출력되게 프로그래밍 하시오\n",
    "\n",
    "#*****\n",
    "\n",
    "#****\n",
    "\n",
    "#***\n",
    "\n",
    "**\n",
    "\n",
    "*"
   ]
  },
  {
   "cell_type": "code",
   "execution_count": 4,
   "id": "1d5538ec",
   "metadata": {},
   "outputs": [
    {
     "name": "stdout",
     "output_type": "stream",
     "text": [
      "*****\n",
      "****\n",
      "***\n",
      "**\n",
      "*\n"
     ]
    }
   ],
   "source": [
    "for i in range(5):\n",
    "    for j in reversed(range(5)):\n",
    "        if i <= j:\n",
    "            print('*', end='')\n",
    "    print('')"
   ]
  },
  {
   "cell_type": "markdown",
   "id": "31bd7db2",
   "metadata": {},
   "source": [
    "### 문제11\n",
    "\n",
    "다음과 같이 출력되게 프로그래밍 하시오"
   ]
  },
  {
   "cell_type": "code",
   "execution_count": 6,
   "id": "7c525d3e",
   "metadata": {},
   "outputs": [
    {
     "name": "stdout",
     "output_type": "stream",
     "text": [
      "    *\n",
      "   **\n",
      "  ***\n",
      " ****\n",
      "*****\n"
     ]
    }
   ],
   "source": [
    "for i in range(5):\n",
    "    for j in reversed(range(5)):\n",
    "        if i >= j:\n",
    "            print('*', end='')\n",
    "        else:\n",
    "            print(' ', end='')\n",
    "    print('')"
   ]
  },
  {
   "cell_type": "markdown",
   "id": "cceb86a7",
   "metadata": {},
   "source": [
    "### 문제12\n",
    "\n",
    "다음과 같이 출력되게 프로그래밍 하시오\n",
    "\n",
    "-----pyramid-----　"
   ]
  },
  {
   "cell_type": "code",
   "execution_count": 78,
   "id": "e9c91278",
   "metadata": {},
   "outputs": [
    {
     "name": "stdout",
     "output_type": "stream",
     "text": [
      "\n",
      "                  ★         \n",
      "                ★★★        \n",
      "              ★★★★★       \n",
      "            ★★★★★★★      \n",
      "          ★★★★★★★★★     \n",
      "        ★★★★★★★★★★★    \n",
      "      ★★★★★★★★★★★★★   \n",
      "    ★★★★★★★★★★★★★★★  \n",
      "  ★★★★★★★★★★★★★★★★★ \n",
      "★★★★★★★★★★★★★★★★★★★\n",
      "\n"
     ]
    }
   ],
   "source": [
    "print('')\n",
    "for i in range(10):\n",
    "    for j in reversed(range(10)):\n",
    "        if i >= j:\n",
    "            print('★', end='')\n",
    "        else:\n",
    "            print('  ', end='')\n",
    "        \n",
    "    for z in range(9):\n",
    "        if i > z:\n",
    "            print('★', end='')\n",
    "        else:\n",
    "            print(' ', end='')\n",
    "    print('')\n",
    "print('')        "
   ]
  },
  {
   "cell_type": "markdown",
   "id": "7658d7d5",
   "metadata": {},
   "source": [
    "### 문제13\n",
    "\n",
    "다음과 같이 출력되게 프로그래밍 하시오"
   ]
  },
  {
   "cell_type": "code",
   "execution_count": 35,
   "id": "6281ca31",
   "metadata": {},
   "outputs": [
    {
     "name": "stdout",
     "output_type": "stream",
     "text": [
      "            ★     \n",
      "          ★★★    \n",
      "        ★★★★★   \n",
      "      ★★★★★★★  \n",
      "          ★★★    \n",
      "        ★★★★★   \n",
      "      ★★★★★★★  \n",
      "    ★★★★★★★★★ \n",
      "        ★★★★★   \n",
      "      ★★★★★★★  \n",
      "    ★★★★★★★★★ \n",
      "  ★★★★★★★★★★★\n"
     ]
    }
   ],
   "source": [
    "for i in range(4):\n",
    "    for j in reversed(range(7)):\n",
    "        if i >= j:\n",
    "            print('★', end='')\n",
    "        else:\n",
    "            print('  ', end='')\n",
    "        \n",
    "    for z in range(5):\n",
    "        if i > z:\n",
    "            print('★', end='')\n",
    "        else:\n",
    "            print(' ', end='')\n",
    "    print('')\n",
    "    \n",
    "for i in range(4):\n",
    "    for j in reversed(range(7)):\n",
    "        if i+1 >= j:\n",
    "            print('★', end='')\n",
    "        else:\n",
    "            print('  ', end='')\n",
    "        \n",
    "    for z in range(5):\n",
    "        if i >= z:\n",
    "            print('★', end='')\n",
    "        else:\n",
    "            print(' ', end='')\n",
    "    print('')\n",
    "    \n",
    "for i in range(4):\n",
    "    for j in reversed(range(7)):\n",
    "        if i+2 >= j:\n",
    "            print('★', end='')\n",
    "        else:\n",
    "            print('  ', end='')\n",
    "        \n",
    "    for z in range(5):\n",
    "        if i+1 >= z:\n",
    "            print('★', end='')\n",
    "        else:\n",
    "            print(' ', end='')\n",
    "    print('')"
   ]
  },
  {
   "cell_type": "markdown",
   "id": "63cd677b",
   "metadata": {},
   "source": [
    "## While 실습\n",
    "\n",
    "### 문제1\n",
    "\n",
    "3의 배수의 합\n",
    "\n",
    "1부터 1000까지의 자연수 중 3의 배수의 합을 구하시오."
   ]
  },
  {
   "cell_type": "code",
   "execution_count": 41,
   "id": "07c859d7",
   "metadata": {},
   "outputs": [
    {
     "name": "stdout",
     "output_type": "stream",
     "text": [
      "166833\n"
     ]
    }
   ],
   "source": [
    "a = 1\n",
    "b = 0\n",
    "while a <= 1000:\n",
    "    if a % 3 == 0:\n",
    "        b += a\n",
    "    a += 1\n",
    "\n",
    "print(b)    "
   ]
  },
  {
   "cell_type": "markdown",
   "id": "11a9247c",
   "metadata": {},
   "source": [
    "### 문제2\n",
    "\n",
    "변수명 num으로 지정하고, 최대 100까지 증가\n",
    "\n",
    "55 일 경우에만 '일치' 가 출력되고, 나머지는 '불일치'가 불일치가 출력되도록 프로그래밍 하시오.(5씩 증가하도록 하시오.)"
   ]
  },
  {
   "cell_type": "code",
   "execution_count": 47,
   "id": "5bc65d11",
   "metadata": {
    "scrolled": true
   },
   "outputs": [
    {
     "name": "stdout",
     "output_type": "stream",
     "text": [
      "0불일치\n",
      "5불일치\n",
      "10불일치\n",
      "15불일치\n",
      "20불일치\n",
      "25불일치\n",
      "30불일치\n",
      "35불일치\n",
      "40불일치\n",
      "45불일치\n",
      "50불일치\n",
      "55일치\n",
      "60불일치\n",
      "65불일치\n",
      "70불일치\n",
      "75불일치\n",
      "80불일치\n",
      "85불일치\n",
      "90불일치\n",
      "95불일치\n"
     ]
    }
   ],
   "source": [
    "num = 0\n",
    "while num <100:\n",
    "    if num == 55:\n",
    "        print(num, '일치', sep='')\n",
    "    else:\n",
    "        print(num, '불일치', sep='')\n",
    "    num += 5"
   ]
  },
  {
   "cell_type": "markdown",
   "id": "922bdc87",
   "metadata": {},
   "source": [
    "### 문제3\n",
    "\n",
    "While 문을 이용해 구구단 계산기를 만드시오"
   ]
  },
  {
   "cell_type": "code",
   "execution_count": 55,
   "id": "322ef9db",
   "metadata": {},
   "outputs": [
    {
     "name": "stdout",
     "output_type": "stream",
     "text": [
      "구구단을 할 두 값을 입력하시오.('두 값사이는 ', '로 구분')2, 2\n",
      "4\n"
     ]
    }
   ],
   "source": [
    "a, b = map(int, input('''구구단을 할 두 값을 입력하시오.('두 값사이는 ', '로 구분')''').split(','))\n",
    "c = True\n",
    "while c:\n",
    "    print(a * b) \n",
    "    c = False"
   ]
  },
  {
   "cell_type": "code",
   "execution_count": 59,
   "id": "f0a2a1fe",
   "metadata": {
    "scrolled": true
   },
   "outputs": [
    {
     "name": "stdout",
     "output_type": "stream",
     "text": [
      "1 * 1 = 1\n",
      "1 * 2 = 2\n",
      "1 * 3 = 3\n",
      "1 * 4 = 4\n",
      "1 * 5 = 5\n",
      "1 * 6 = 6\n",
      "1 * 7 = 7\n",
      "1 * 8 = 8\n",
      "1 * 9 = 9\n"
     ]
    }
   ],
   "source": [
    "a = 1\n",
    "while a <= 9:\n",
    "    print(1, '*', a, '=',1 * a)\n",
    "    a += 1"
   ]
  },
  {
   "cell_type": "markdown",
   "id": "5ad5d7e9",
   "metadata": {},
   "source": [
    "## 문제4\n",
    "\n",
    "while 문만을 이용해 구구단을 1부터 9단까지 출력되는 계산기를 만드시오"
   ]
  },
  {
   "cell_type": "code",
   "execution_count": 64,
   "id": "ce994888",
   "metadata": {},
   "outputs": [
    {
     "name": "stdout",
     "output_type": "stream",
     "text": [
      "1*1=1 2*1=2 3*1=3 4*1=4 5*1=5 6*1=6 7*1=7 8*1=8 9*1=9 \n",
      "1*2=2 2*2=4 3*2=6 4*2=8 5*2=10 6*2=12 7*2=14 8*2=16 9*2=18 \n",
      "1*3=3 2*3=6 3*3=9 4*3=12 5*3=15 6*3=18 7*3=21 8*3=24 9*3=27 \n",
      "1*4=4 2*4=8 3*4=12 4*4=16 5*4=20 6*4=24 7*4=28 8*4=32 9*4=36 \n",
      "1*5=5 2*5=10 3*5=15 4*5=20 5*5=25 6*5=30 7*5=35 8*5=40 9*5=45 \n",
      "1*6=6 2*6=12 3*6=18 4*6=24 5*6=30 6*6=36 7*6=42 8*6=48 9*6=54 \n",
      "1*7=7 2*7=14 3*7=21 4*7=28 5*7=35 6*7=42 7*7=49 8*7=56 9*7=63 \n",
      "1*8=8 2*8=16 3*8=24 4*8=32 5*8=40 6*8=48 7*8=56 8*8=64 9*8=72 \n",
      "1*9=9 2*9=18 3*9=27 4*9=36 5*9=45 6*9=54 7*9=63 8*9=72 9*9=81 \n"
     ]
    }
   ],
   "source": [
    "a = 1\n",
    "\n",
    "while a <= 9:\n",
    "    b = 1\n",
    "    while b <=9:\n",
    "        print(b, '*', a, '=', a*b, sep='', end=' ')\n",
    "        b += 1\n",
    "    a +=1\n",
    "    print('')"
   ]
  },
  {
   "cell_type": "code",
   "execution_count": null,
   "id": "165f2207",
   "metadata": {},
   "outputs": [],
   "source": []
  },
  {
   "cell_type": "code",
   "execution_count": null,
   "id": "9ae0a966",
   "metadata": {},
   "outputs": [],
   "source": []
  },
  {
   "cell_type": "code",
   "execution_count": null,
   "id": "6f9697d8",
   "metadata": {},
   "outputs": [],
   "source": []
  },
  {
   "cell_type": "code",
   "execution_count": null,
   "id": "599ab4bc",
   "metadata": {},
   "outputs": [],
   "source": []
  },
  {
   "cell_type": "code",
   "execution_count": null,
   "id": "73023f39",
   "metadata": {},
   "outputs": [],
   "source": []
  },
  {
   "cell_type": "code",
   "execution_count": null,
   "id": "25947319",
   "metadata": {},
   "outputs": [],
   "source": []
  },
  {
   "cell_type": "code",
   "execution_count": null,
   "id": "8f45f0ba",
   "metadata": {},
   "outputs": [],
   "source": []
  },
  {
   "cell_type": "code",
   "execution_count": null,
   "id": "f319be28",
   "metadata": {},
   "outputs": [],
   "source": []
  },
  {
   "cell_type": "code",
   "execution_count": null,
   "id": "835293c9",
   "metadata": {},
   "outputs": [],
   "source": []
  },
  {
   "cell_type": "code",
   "execution_count": null,
   "id": "02db0d42",
   "metadata": {},
   "outputs": [],
   "source": []
  },
  {
   "cell_type": "code",
   "execution_count": null,
   "id": "2af2ee73",
   "metadata": {},
   "outputs": [],
   "source": []
  }
 ],
 "metadata": {
  "kernelspec": {
   "display_name": "Python 3 (ipykernel)",
   "language": "python",
   "name": "python3"
  },
  "language_info": {
   "codemirror_mode": {
    "name": "ipython",
    "version": 3
   },
   "file_extension": ".py",
   "mimetype": "text/x-python",
   "name": "python",
   "nbconvert_exporter": "python",
   "pygments_lexer": "ipython3",
   "version": "3.9.7"
  }
 },
 "nbformat": 4,
 "nbformat_minor": 5
}
