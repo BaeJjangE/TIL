{
 "cells": [
  {
   "cell_type": "markdown",
   "id": "c400b502",
   "metadata": {},
   "source": [
    "# Numpy\n",
    "- Numerical Python의 약자\n",
    "- 산술 계산을 위한 패키지\n",
    " - 다차원 배열인 ndarray는 빠른 배열 계산을 제공\n",
    " - 반복문을 작성할 필요 없이 전체 데이터 배열을 빠르게 계산할 수 있는 표준 수학 함수\n",
    " - 선형대수, 난수 생성기, 푸리에 변환 가능\n",
    "- 사용 목적 : 일반적인 산술 데이터 처리를 위한 기본 라이브러리를 제공해줌\n",
    " - 연산 처리 후 통계나 분석데이터를 처리하기위해 Pandas를 사용\n",
    "- 파이썬 산술 계산 영역에서 중요한 위치를 차지하는 이유 중 하나는 대용량 데이터 배열을 효율적으로 다룰 수 있도록 설계되어 있기 때문\n",
    " \n"
   ]
  },
  {
   "cell_type": "markdown",
   "id": "36fddaf1",
   "metadata": {},
   "source": [
    "## Numpy 사용 예제"
   ]
  },
  {
   "cell_type": "code",
   "execution_count": 3,
   "id": "54d671be",
   "metadata": {},
   "outputs": [],
   "source": [
    "import numpy as np\n",
    "\n",
    "my_arr = np.arange(100) \n",
    "my_list = list(range(100)) # 넘파이로 더 쉽게 만들기 가능"
   ]
  },
  {
   "cell_type": "code",
   "execution_count": 4,
   "id": "ad3947a7",
   "metadata": {},
   "outputs": [
    {
     "name": "stdout",
     "output_type": "stream",
     "text": [
      "<class 'numpy.ndarray'>\n",
      "<class 'list'>\n"
     ]
    }
   ],
   "source": [
    "print(type(my_arr))\n",
    "print(type(my_list))"
   ]
  },
  {
   "cell_type": "code",
   "execution_count": 5,
   "id": "aa4ba37d",
   "metadata": {},
   "outputs": [
    {
     "name": "stdout",
     "output_type": "stream",
     "text": [
      "[ 0  1  2  3  4  5  6  7  8  9 10 11 12 13 14 15 16 17 18 19 20 21 22 23\n",
      " 24 25 26 27 28 29 30 31 32 33 34 35 36 37 38 39 40 41 42 43 44 45 46 47\n",
      " 48 49 50 51 52 53 54 55 56 57 58 59 60 61 62 63 64 65 66 67 68 69 70 71\n",
      " 72 73 74 75 76 77 78 79 80 81 82 83 84 85 86 87 88 89 90 91 92 93 94 95\n",
      " 96 97 98 99]\n"
     ]
    }
   ],
   "source": [
    "print(my_arr)"
   ]
  },
  {
   "cell_type": "code",
   "execution_count": 6,
   "id": "b451c075",
   "metadata": {
    "scrolled": true
   },
   "outputs": [
    {
     "name": "stdout",
     "output_type": "stream",
     "text": [
      "[0, 1, 2, 3, 4, 5, 6, 7, 8, 9, 10, 11, 12, 13, 14, 15, 16, 17, 18, 19, 20, 21, 22, 23, 24, 25, 26, 27, 28, 29, 30, 31, 32, 33, 34, 35, 36, 37, 38, 39, 40, 41, 42, 43, 44, 45, 46, 47, 48, 49, 50, 51, 52, 53, 54, 55, 56, 57, 58, 59, 60, 61, 62, 63, 64, 65, 66, 67, 68, 69, 70, 71, 72, 73, 74, 75, 76, 77, 78, 79, 80, 81, 82, 83, 84, 85, 86, 87, 88, 89, 90, 91, 92, 93, 94, 95, 96, 97, 98, 99]\n"
     ]
    }
   ],
   "source": [
    "print(my_list)"
   ]
  },
  {
   "cell_type": "markdown",
   "id": "275dd3ba",
   "metadata": {},
   "source": [
    "### Numpy와 list의 연산 속도 비교 예제\n",
    "- %time(매직함수) : 코드계산에 걸리는 시간이 표시"
   ]
  },
  {
   "cell_type": "code",
   "execution_count": 24,
   "id": "d064da7d",
   "metadata": {},
   "outputs": [],
   "source": [
    "import numpy as np\n",
    "\n",
    "my_arr = np.arange(10000) \n",
    "my_list = list(range(10000))"
   ]
  },
  {
   "cell_type": "code",
   "execution_count": 25,
   "id": "10cc714a",
   "metadata": {
    "scrolled": true
   },
   "outputs": [
    {
     "name": "stdout",
     "output_type": "stream",
     "text": [
      "Wall time: 0 ns\n"
     ]
    }
   ],
   "source": [
    "%time\n",
    "for i in range(100):\n",
    "    my_arr2 =  my_arr*2"
   ]
  },
  {
   "cell_type": "code",
   "execution_count": 52,
   "id": "a5f605cf",
   "metadata": {},
   "outputs": [
    {
     "name": "stdout",
     "output_type": "stream",
     "text": [
      "[1, 2, 3, 1, 2, 3]\n"
     ]
    }
   ],
   "source": [
    "# 부록 - 궁금증\n",
    "data = [1,2,3]\n",
    "print(data*2)"
   ]
  },
  {
   "cell_type": "code",
   "execution_count": 26,
   "id": "e23026eb",
   "metadata": {
    "scrolled": true
   },
   "outputs": [
    {
     "name": "stdout",
     "output_type": "stream",
     "text": [
      "Wall time: 0 ns\n"
     ]
    }
   ],
   "source": [
    "%time\n",
    "for i in range(100):\n",
    "    my_list2 = [i*2 for j in my_list]"
   ]
  },
  {
   "cell_type": "markdown",
   "id": "647e5204",
   "metadata": {},
   "source": [
    "## 다차원 배열 객체\n",
    "- Numpy는 ndarray라고 하는 N차원 배열 객체를 사용\n",
    " - 1차원 : Vectors\n",
    " - 2차원 : Matrices\n",
    " - 3차원 : Tensors"
   ]
  },
  {
   "cell_type": "markdown",
   "id": "5a82aab4",
   "metadata": {},
   "source": [
    "### 2 X 3 배열을 랜덤 생성"
   ]
  },
  {
   "cell_type": "code",
   "execution_count": 34,
   "id": "3ba1afbe",
   "metadata": {},
   "outputs": [
    {
     "name": "stdout",
     "output_type": "stream",
     "text": [
      "[[ 0.42500471  0.513575    0.10468586]\n",
      " [-0.60515958  0.16905296  0.66224484]]\n"
     ]
    }
   ],
   "source": [
    "data = np.random.randn(2, 3)\n",
    "print(data)"
   ]
  },
  {
   "cell_type": "markdown",
   "id": "30c9b3c6",
   "metadata": {},
   "source": [
    "### ndarray 생성하기 예제(list -> array)"
   ]
  },
  {
   "cell_type": "code",
   "execution_count": 35,
   "id": "f822f4fc",
   "metadata": {},
   "outputs": [],
   "source": [
    "data1 = [5, 7, 8, 1, 4]"
   ]
  },
  {
   "cell_type": "code",
   "execution_count": 36,
   "id": "e9e08809",
   "metadata": {},
   "outputs": [
    {
     "data": {
      "text/plain": [
       "list"
      ]
     },
     "execution_count": 36,
     "metadata": {},
     "output_type": "execute_result"
    }
   ],
   "source": [
    "type(data1)"
   ]
  },
  {
   "cell_type": "code",
   "execution_count": 37,
   "id": "8d794c8e",
   "metadata": {},
   "outputs": [],
   "source": [
    "arr1 = np.array(data1)"
   ]
  },
  {
   "cell_type": "code",
   "execution_count": 38,
   "id": "1e856c2d",
   "metadata": {},
   "outputs": [
    {
     "data": {
      "text/plain": [
       "numpy.ndarray"
      ]
     },
     "execution_count": 38,
     "metadata": {},
     "output_type": "execute_result"
    }
   ],
   "source": [
    "type(arr1)"
   ]
  },
  {
   "cell_type": "code",
   "execution_count": 39,
   "id": "b5f5215e",
   "metadata": {},
   "outputs": [
    {
     "name": "stdout",
     "output_type": "stream",
     "text": [
      "[5 7 8 1 4]\n"
     ]
    }
   ],
   "source": [
    "print(arr1)"
   ]
  },
  {
   "cell_type": "markdown",
   "id": "569fb47a",
   "metadata": {},
   "source": [
    "### 2차원 배열 생성 예제"
   ]
  },
  {
   "cell_type": "code",
   "execution_count": 49,
   "id": "eb05c56d",
   "metadata": {},
   "outputs": [],
   "source": [
    "arr1 = np.array([[1, 2, 3], [4, 5, 6]]) # 괄호 두개 사용"
   ]
  },
  {
   "cell_type": "code",
   "execution_count": 50,
   "id": "264baa83",
   "metadata": {},
   "outputs": [
    {
     "name": "stdout",
     "output_type": "stream",
     "text": [
      "[[1 2 3]\n",
      " [4 5 6]]\n"
     ]
    }
   ],
   "source": [
    "print(arr1)"
   ]
  },
  {
   "cell_type": "markdown",
   "id": "f99fa901",
   "metadata": {},
   "source": [
    "## numpy 배열의 산술 연산\n",
    "- numpy 배열은 반복문을 작성하지 않고 데이터를 일괄 처리할 수 있음\n",
    " - \"벡터화\" 라고 부름"
   ]
  },
  {
   "cell_type": "code",
   "execution_count": 53,
   "id": "450b3117",
   "metadata": {},
   "outputs": [],
   "source": [
    "arr1 = np.array([[1, 2, 3], [4, 5, 6]]) # 괄호 두개 사용"
   ]
  },
  {
   "cell_type": "code",
   "execution_count": 54,
   "id": "8dbd1da4",
   "metadata": {},
   "outputs": [
    {
     "name": "stdout",
     "output_type": "stream",
     "text": [
      "[[ 1  4  9]\n",
      " [16 25 36]]\n"
     ]
    }
   ],
   "source": [
    "# 요소곱\n",
    "print(arr1 * arr1)"
   ]
  },
  {
   "cell_type": "code",
   "execution_count": 55,
   "id": "84d85304",
   "metadata": {},
   "outputs": [
    {
     "name": "stdout",
     "output_type": "stream",
     "text": [
      "[[ 2  4  6]\n",
      " [ 8 10 12]]\n"
     ]
    }
   ],
   "source": [
    "# 요소합\n",
    "print(arr1 + arr1)"
   ]
  },
  {
   "cell_type": "code",
   "execution_count": 56,
   "id": "8882ec0b",
   "metadata": {},
   "outputs": [
    {
     "name": "stdout",
     "output_type": "stream",
     "text": [
      "[[1.         0.5        0.33333333]\n",
      " [0.25       0.2        0.16666667]]\n"
     ]
    }
   ],
   "source": [
    "# 요소 나눗셈\n",
    "print(1 / arr1)"
   ]
  },
  {
   "cell_type": "code",
   "execution_count": 59,
   "id": "97110996",
   "metadata": {},
   "outputs": [
    {
     "name": "stdout",
     "output_type": "stream",
     "text": [
      "[[ True  True  True]\n",
      " [ True  True  True]]\n",
      "[[False False False]\n",
      " [False False False]]\n"
     ]
    }
   ],
   "source": [
    "# 논리연산 가능\n",
    "print(arr1 == arr1)\n",
    "print(arr1 > arr1)"
   ]
  },
  {
   "cell_type": "markdown",
   "id": "c265129c",
   "metadata": {},
   "source": [
    "### 행렬곱 : 두개의 배열을 행과 렬을 곱하여 새로운 배열을 생성해냄(np.dot())"
   ]
  },
  {
   "cell_type": "code",
   "execution_count": 65,
   "id": "521cdca0",
   "metadata": {},
   "outputs": [
    {
     "name": "stdout",
     "output_type": "stream",
     "text": [
      "[[1 2 3]\n",
      " [4 5 6]]\n"
     ]
    }
   ],
   "source": [
    "# 행렬곱\n",
    "print(arr1)"
   ]
  },
  {
   "cell_type": "code",
   "execution_count": 66,
   "id": "dcbddabd",
   "metadata": {},
   "outputs": [
    {
     "name": "stdout",
     "output_type": "stream",
     "text": [
      "[[1 4]\n",
      " [2 5]\n",
      " [3 6]]\n"
     ]
    }
   ],
   "source": [
    "arr2 = np.transpose(arr1)\n",
    "print(arr2)"
   ]
  },
  {
   "cell_type": "code",
   "execution_count": 67,
   "id": "fd524117",
   "metadata": {},
   "outputs": [
    {
     "name": "stdout",
     "output_type": "stream",
     "text": [
      "[[14 32]\n",
      " [32 77]]\n"
     ]
    }
   ],
   "source": [
    "print(np.dot(arr1, arr2))"
   ]
  },
  {
   "cell_type": "markdown",
   "id": "eb4a5f7a",
   "metadata": {},
   "source": [
    "#### 3 X 3 행렬(범위 지정 후 모양을 다듬어서 생성) reshpe() 함수 사용"
   ]
  },
  {
   "cell_type": "code",
   "execution_count": 70,
   "id": "131ae788",
   "metadata": {},
   "outputs": [],
   "source": [
    "# 1차원 배열 생성\n",
    "arr1 = np.array(range(1, 10))"
   ]
  },
  {
   "cell_type": "code",
   "execution_count": 69,
   "id": "e385c78e",
   "metadata": {},
   "outputs": [
    {
     "name": "stdout",
     "output_type": "stream",
     "text": [
      "[1 2 3 4 5 6 7 8 9]\n"
     ]
    }
   ],
   "source": [
    "print(arr1)"
   ]
  },
  {
   "cell_type": "code",
   "execution_count": 76,
   "id": "3d215b4b",
   "metadata": {},
   "outputs": [
    {
     "name": "stdout",
     "output_type": "stream",
     "text": [
      "[1 2 3 4 5 6 7 8 9]\n"
     ]
    }
   ],
   "source": [
    "# 부록\n",
    "arr3 = np.arange(1, 10)\n",
    "print(arr3)"
   ]
  },
  {
   "cell_type": "code",
   "execution_count": 89,
   "id": "3edaf5ae",
   "metadata": {},
   "outputs": [],
   "source": [
    "# 2차원 3 X 3 배열 생성\n",
    "arr2 = np.array(range(1, 10)).reshape(3, 3)"
   ]
  },
  {
   "cell_type": "code",
   "execution_count": 90,
   "id": "c1e247fd",
   "metadata": {},
   "outputs": [
    {
     "name": "stdout",
     "output_type": "stream",
     "text": [
      "[[1 2 3]\n",
      " [4 5 6]\n",
      " [7 8 9]]\n"
     ]
    }
   ],
   "source": [
    "print(arr2)"
   ]
  },
  {
   "cell_type": "markdown",
   "id": "e00ffd66",
   "metadata": {},
   "source": [
    "### 배열 인덱싱과 슬라이싱\n",
    "- numpy 배열은 순차적(sequential) 데이터이기 때문에 인덱싱과 슬라이싱 가능"
   ]
  },
  {
   "cell_type": "markdown",
   "id": "ed0952ea",
   "metadata": {},
   "source": [
    "#### 배열 인덱싱 예제"
   ]
  },
  {
   "cell_type": "code",
   "execution_count": 77,
   "id": "cc5d5eca",
   "metadata": {},
   "outputs": [],
   "source": [
    "arr1 = np.arange(10)"
   ]
  },
  {
   "cell_type": "code",
   "execution_count": 78,
   "id": "406f7620",
   "metadata": {},
   "outputs": [
    {
     "name": "stdout",
     "output_type": "stream",
     "text": [
      "[0 1 2 3 4 5 6 7 8 9]\n"
     ]
    }
   ],
   "source": [
    "print(arr1)"
   ]
  },
  {
   "cell_type": "code",
   "execution_count": 80,
   "id": "b4e77035",
   "metadata": {},
   "outputs": [
    {
     "name": "stdout",
     "output_type": "stream",
     "text": [
      "5\n"
     ]
    }
   ],
   "source": [
    "print(arr1[5])"
   ]
  },
  {
   "cell_type": "code",
   "execution_count": 81,
   "id": "92aca470",
   "metadata": {},
   "outputs": [
    {
     "name": "stdout",
     "output_type": "stream",
     "text": [
      "[5 6 7]\n"
     ]
    }
   ],
   "source": [
    "print(arr1[5:8])"
   ]
  },
  {
   "cell_type": "markdown",
   "id": "4ab9bf30",
   "metadata": {},
   "source": [
    "#### 다차원 배열 객체 연산\n",
    "- 배열에서 연산을 수행할 때 \n",
    "- 브로드캐스팅되어 연산됨"
   ]
  },
  {
   "cell_type": "code",
   "execution_count": 91,
   "id": "52d6c85f",
   "metadata": {},
   "outputs": [
    {
     "name": "stdout",
     "output_type": "stream",
     "text": [
      "[5 6 7]\n"
     ]
    }
   ],
   "source": [
    "# 1 X 3 배열 + 정수\n",
    "print(np.arange(3) + 5)"
   ]
  },
  {
   "cell_type": "code",
   "execution_count": 101,
   "id": "e12c69e0",
   "metadata": {},
   "outputs": [
    {
     "name": "stdout",
     "output_type": "stream",
     "text": [
      "[[1. 2. 3.]\n",
      " [1. 2. 3.]\n",
      " [1. 2. 3.]]\n"
     ]
    }
   ],
   "source": [
    "# 3 X 3 배열 + 1 X 3 배열\n",
    "print(np.ones((3, 3)) + np.arange(3)) \n",
    "     # 1로 다 채워줌"
   ]
  },
  {
   "cell_type": "code",
   "execution_count": 102,
   "id": "443a317a",
   "metadata": {},
   "outputs": [
    {
     "name": "stdout",
     "output_type": "stream",
     "text": [
      "[[0 1 2]\n",
      " [1 2 3]\n",
      " [2 3 4]]\n"
     ]
    }
   ],
   "source": [
    "# 3 X 1 배열 + 1 X 3 배열\n",
    "print(np.arange(3).reshape(3, 1) + np.arange(3))"
   ]
  },
  {
   "cell_type": "markdown",
   "id": "d9c0769b",
   "metadata": {},
   "source": [
    "#### 배열 전치와 축 바꾸기\n",
    "- np.transpose() or T 사용"
   ]
  },
  {
   "cell_type": "code",
   "execution_count": 103,
   "id": "a1a13770",
   "metadata": {},
   "outputs": [],
   "source": [
    "arr = np.arange(15).reshape(3, 5)"
   ]
  },
  {
   "cell_type": "code",
   "execution_count": 104,
   "id": "7fdf5eb1",
   "metadata": {},
   "outputs": [
    {
     "name": "stdout",
     "output_type": "stream",
     "text": [
      "[[ 0  1  2  3  4]\n",
      " [ 5  6  7  8  9]\n",
      " [10 11 12 13 14]]\n"
     ]
    }
   ],
   "source": [
    "print(arr)"
   ]
  },
  {
   "cell_type": "code",
   "execution_count": 105,
   "id": "37fcbe64",
   "metadata": {},
   "outputs": [
    {
     "name": "stdout",
     "output_type": "stream",
     "text": [
      "[[ 0  5 10]\n",
      " [ 1  6 11]\n",
      " [ 2  7 12]\n",
      " [ 3  8 13]\n",
      " [ 4  9 14]]\n"
     ]
    }
   ],
   "source": [
    "print(arr.T)"
   ]
  },
  {
   "cell_type": "markdown",
   "id": "c8ae87c6",
   "metadata": {},
   "source": [
    "np.transpose(np.array([[0, 1, 2]])\n",
    "- 2차원 배열이기 때문에 전치와 축 바꾸기 가능\n",
    "\n",
    "np.transpose(np.arange(3)), type(np.arrange(3)))\n",
    "- 1차원 배열은 전치와 축 바꾸기 불가능"
   ]
  },
  {
   "cell_type": "markdown",
   "id": "61e2e613",
   "metadata": {},
   "source": [
    "3차원 배열 만들기"
   ]
  },
  {
   "cell_type": "code",
   "execution_count": 109,
   "id": "6091ca7a",
   "metadata": {},
   "outputs": [],
   "source": [
    "arr = np.array([[[1,2,3,4],\n",
    "                [5, 6, 7,8],\n",
    "                 [9,10,11,12]],\n",
    "                [[11,12,13,14],\n",
    "                [15,16,17,18],\n",
    "                [19,20,21,22]]\n",
    "                \n",
    "                \n",
    "                \n",
    "                ])"
   ]
  },
  {
   "cell_type": "code",
   "execution_count": 110,
   "id": "678edbdf",
   "metadata": {
    "scrolled": true
   },
   "outputs": [
    {
     "name": "stdout",
     "output_type": "stream",
     "text": [
      "[[[ 1  2  3  4]\n",
      "  [ 5  6  7  8]\n",
      "  [ 9 10 11 12]]\n",
      "\n",
      " [[11 12 13 14]\n",
      "  [15 16 17 18]\n",
      "  [19 20 21 22]]]\n"
     ]
    }
   ],
   "source": [
    "print(arr)"
   ]
  },
  {
   "cell_type": "markdown",
   "id": "3456ebb6",
   "metadata": {},
   "source": [
    "### numpy 배열을 pandas dataframe으로 바꾸는 방법"
   ]
  },
  {
   "cell_type": "code",
   "execution_count": 111,
   "id": "3dcf40b6",
   "metadata": {},
   "outputs": [],
   "source": [
    "arr = np.arange(15).reshape(3, 5)"
   ]
  },
  {
   "cell_type": "code",
   "execution_count": 114,
   "id": "9d8cf8b0",
   "metadata": {},
   "outputs": [
    {
     "name": "stdout",
     "output_type": "stream",
     "text": [
      "[[ 0  1  2  3  4]\n",
      " [ 5  6  7  8  9]\n",
      " [10 11 12 13 14]]\n"
     ]
    }
   ],
   "source": [
    "print(arr)"
   ]
  },
  {
   "cell_type": "code",
   "execution_count": 112,
   "id": "36255c1c",
   "metadata": {},
   "outputs": [],
   "source": [
    "import pandas as pd\n",
    "df = pd.DataFrame(arr)"
   ]
  },
  {
   "cell_type": "code",
   "execution_count": 113,
   "id": "f6e2aec2",
   "metadata": {},
   "outputs": [
    {
     "name": "stdout",
     "output_type": "stream",
     "text": [
      "    0   1   2   3   4\n",
      "0   0   1   2   3   4\n",
      "1   5   6   7   8   9\n",
      "2  10  11  12  13  14\n"
     ]
    }
   ],
   "source": [
    "print(df)"
   ]
  },
  {
   "cell_type": "markdown",
   "id": "190f2a57",
   "metadata": {},
   "source": [
    "## <부록>Numpy를 어디서 쓰는가<br>\n",
    "1. 이미지 데이터 처리 : 행렬->사진(픽셀)"
   ]
  },
  {
   "cell_type": "code",
   "execution_count": null,
   "id": "4707797d",
   "metadata": {},
   "outputs": [],
   "source": []
  },
  {
   "cell_type": "code",
   "execution_count": null,
   "id": "ec42ff13",
   "metadata": {},
   "outputs": [],
   "source": []
  },
  {
   "cell_type": "code",
   "execution_count": null,
   "id": "b6805021",
   "metadata": {},
   "outputs": [],
   "source": []
  },
  {
   "cell_type": "code",
   "execution_count": null,
   "id": "52391782",
   "metadata": {},
   "outputs": [],
   "source": []
  },
  {
   "cell_type": "code",
   "execution_count": null,
   "id": "6fd7412c",
   "metadata": {},
   "outputs": [],
   "source": []
  },
  {
   "cell_type": "code",
   "execution_count": null,
   "id": "a0b4bebb",
   "metadata": {},
   "outputs": [],
   "source": []
  },
  {
   "cell_type": "code",
   "execution_count": null,
   "id": "003864d5",
   "metadata": {},
   "outputs": [],
   "source": []
  },
  {
   "cell_type": "code",
   "execution_count": null,
   "id": "029a9603",
   "metadata": {},
   "outputs": [],
   "source": []
  }
 ],
 "metadata": {
  "kernelspec": {
   "display_name": "Python 3 (ipykernel)",
   "language": "python",
   "name": "python3"
  },
  "language_info": {
   "codemirror_mode": {
    "name": "ipython",
    "version": 3
   },
   "file_extension": ".py",
   "mimetype": "text/x-python",
   "name": "python",
   "nbconvert_exporter": "python",
   "pygments_lexer": "ipython3",
   "version": "3.9.7"
  }
 },
 "nbformat": 4,
 "nbformat_minor": 5
}
