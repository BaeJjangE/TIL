{
 "cells": [
  {
   "cell_type": "markdown",
   "id": "d4e839aa",
   "metadata": {},
   "source": [
    "함수 안에서 함수 밖의 변수를 변경하는 방법(첫번째) # ??"
   ]
  },
  {
   "cell_type": "code",
   "execution_count": 2,
   "id": "52f02ca2",
   "metadata": {},
   "outputs": [],
   "source": [
    "a = 1\n",
    "def vartest(b):\n",
    "    b += 1\n",
    "    return b   "
   ]
  },
  {
   "cell_type": "code",
   "execution_count": 3,
   "id": "1a1ef37e",
   "metadata": {},
   "outputs": [
    {
     "data": {
      "text/plain": [
       "2"
      ]
     },
     "execution_count": 3,
     "metadata": {},
     "output_type": "execute_result"
    }
   ],
   "source": [
    "vartest(1)"
   ]
  },
  {
   "cell_type": "code",
   "execution_count": 4,
   "id": "45023f59",
   "metadata": {},
   "outputs": [
    {
     "name": "stdout",
     "output_type": "stream",
     "text": [
      "1\n"
     ]
    }
   ],
   "source": [
    "print(a)"
   ]
  },
  {
   "cell_type": "markdown",
   "id": "bbb9a114",
   "metadata": {},
   "source": [
    "★함수 안에서 함수 밖의 변수를 변경하는 방법(global)"
   ]
  },
  {
   "cell_type": "code",
   "execution_count": 14,
   "id": "beb03e4e",
   "metadata": {},
   "outputs": [],
   "source": [
    "a = 1\n",
    "def vartest():\n",
    "    global a\n",
    "    a += 1"
   ]
  },
  {
   "cell_type": "code",
   "execution_count": 15,
   "id": "cef8520e",
   "metadata": {},
   "outputs": [
    {
     "name": "stdout",
     "output_type": "stream",
     "text": [
      "2\n"
     ]
    }
   ],
   "source": [
    "vartest()\n",
    "print(a)"
   ]
  },
  {
   "cell_type": "markdown",
   "id": "3478c56d",
   "metadata": {},
   "source": [
    "함수 - 람다\n",
    "- 람다 : 간단한 함수를 쉽게 선언하는 방법\n",
    "- 형식\n",
    " - lambda<매개변수>:<리턴값>"
   ]
  },
  {
   "cell_type": "markdown",
   "id": "25b1b926",
   "metadata": {},
   "source": [
    "함수 만들기(람다 사용)"
   ]
  },
  {
   "cell_type": "code",
   "execution_count": 16,
   "id": "5608d258",
   "metadata": {},
   "outputs": [],
   "source": [
    "sum = lambda a, b: a + b"
   ]
  },
  {
   "cell_type": "code",
   "execution_count": 17,
   "id": "f70bee99",
   "metadata": {},
   "outputs": [
    {
     "name": "stdout",
     "output_type": "stream",
     "text": [
      "7\n"
     ]
    }
   ],
   "source": [
    "print(sum(3,4))"
   ]
  },
  {
   "cell_type": "markdown",
   "id": "41610ec3",
   "metadata": {},
   "source": [
    "람다를 이용하여 리스트 내에 함수 만들기 예제"
   ]
  },
  {
   "cell_type": "code",
   "execution_count": 18,
   "id": "cf868b36",
   "metadata": {},
   "outputs": [],
   "source": [
    "myList = [lambda a, b: a + b, lambda a, b: a * b]"
   ]
  },
  {
   "cell_type": "code",
   "execution_count": 21,
   "id": "67572bbf",
   "metadata": {},
   "outputs": [
    {
     "name": "stdout",
     "output_type": "stream",
     "text": [
      "[<function <lambda> at 0x0000019D49FCF550>, <function <lambda> at 0x0000019D49FCF310>]\n"
     ]
    }
   ],
   "source": [
    "print(myList)"
   ]
  },
  {
   "cell_type": "code",
   "execution_count": 23,
   "id": "c33b2ba5",
   "metadata": {},
   "outputs": [
    {
     "data": {
      "text/plain": [
       "7"
      ]
     },
     "execution_count": 23,
     "metadata": {},
     "output_type": "execute_result"
    }
   ],
   "source": [
    "myList[0](3, 4)"
   ]
  },
  {
   "cell_type": "code",
   "execution_count": 24,
   "id": "f34704ef",
   "metadata": {},
   "outputs": [
    {
     "data": {
      "text/plain": [
       "12"
      ]
     },
     "execution_count": 24,
     "metadata": {},
     "output_type": "execute_result"
    }
   ],
   "source": [
    "myList[1](3, 4)"
   ]
  },
  {
   "cell_type": "markdown",
   "id": "95ff4b84",
   "metadata": {},
   "source": [
    "# 파일 입출력\n",
    "\n",
    "파일 생성하기 예제"
   ]
  },
  {
   "cell_type": "code",
   "execution_count": 25,
   "id": "e45e60a7",
   "metadata": {},
   "outputs": [],
   "source": [
    "f = open(\"새파일.txt\", \"w\")\n",
    "f.close()"
   ]
  },
  {
   "cell_type": "markdown",
   "id": "c8972019",
   "metadata": {},
   "source": [
    "원하는 위치에 파일 생성하기 예제"
   ]
  },
  {
   "cell_type": "code",
   "execution_count": 30,
   "id": "f7aaa81f",
   "metadata": {},
   "outputs": [],
   "source": [
    "f = open(\"C:/nexon/새파일2.txt\", \"w\")\n",
    "f.close()"
   ]
  },
  {
   "cell_type": "markdown",
   "id": "40051f95",
   "metadata": {},
   "source": [
    "파일 생성 후 내용 넣기 예제"
   ]
  },
  {
   "cell_type": "code",
   "execution_count": 35,
   "id": "d1c5e611",
   "metadata": {},
   "outputs": [],
   "source": [
    "f = open(\"새파일.txt\", 'w')\n",
    "for i in range(1, 11):\n",
    "    data = \"%d번째 줄입니다.\\n\" % i\n",
    "    f.write(data) # 파일에 내용넣기 함수\n",
    "f.close()"
   ]
  },
  {
   "cell_type": "markdown",
   "id": "06db3a0c",
   "metadata": {},
   "source": [
    "readline() 함수를 사용하여 파일 한 줄 읽기"
   ]
  },
  {
   "cell_type": "code",
   "execution_count": 34,
   "id": "c2edc91a",
   "metadata": {},
   "outputs": [
    {
     "name": "stdout",
     "output_type": "stream",
     "text": [
      "1번째 줄입니다.\n",
      "\n"
     ]
    }
   ],
   "source": [
    "f = open(\"새파일.txt\", \"r\")\n",
    "line = f.readline()\n",
    "print(line)\n",
    "f.close()"
   ]
  },
  {
   "cell_type": "markdown",
   "id": "27beac01",
   "metadata": {},
   "source": [
    "폴더가 없을 경우 폴더를 생성하면서 파일을 만드는 방법"
   ]
  },
  {
   "cell_type": "code",
   "execution_count": 36,
   "id": "67404b2c",
   "metadata": {},
   "outputs": [],
   "source": [
    "import os\n",
    "\n",
    "out_dir = \"새폴더\"\n",
    "if out_dir not in os.listdir():\n",
    "    os.mkdir(out_dir)\n",
    "    \n",
    "f = open(\"새폴더/새파일.txt\", 'w')\n",
    "for i in range(1, 11):\n",
    "    data = \"%d번째 줄입니다.\\n\" % i\n",
    "    f.write(data) # 파일에 내용넣기 함수\n",
    "f.close()"
   ]
  },
  {
   "cell_type": "markdown",
   "id": "d6f4b5d1",
   "metadata": {},
   "source": [
    "파일의 모든 내용 읽기 예제"
   ]
  },
  {
   "cell_type": "code",
   "execution_count": 40,
   "id": "141e060c",
   "metadata": {},
   "outputs": [
    {
     "name": "stdout",
     "output_type": "stream",
     "text": [
      "1번째 줄입니다.\n",
      "\n",
      "2번째 줄입니다.\n",
      "\n",
      "3번째 줄입니다.\n",
      "\n",
      "4번째 줄입니다.\n",
      "\n",
      "5번째 줄입니다.\n",
      "\n",
      "6번째 줄입니다.\n",
      "\n",
      "7번째 줄입니다.\n",
      "\n",
      "8번째 줄입니다.\n",
      "\n",
      "9번째 줄입니다.\n",
      "\n",
      "10번째 줄입니다.\n",
      "\n"
     ]
    }
   ],
   "source": [
    "f = open(\"새파일.txt\", \"r\")\n",
    "while True:\n",
    "    line = f.readline()\n",
    "    if not line: break\n",
    "    print(line)\n",
    "f.close()"
   ]
  },
  {
   "cell_type": "code",
   "execution_count": 43,
   "id": "883d3c23",
   "metadata": {},
   "outputs": [
    {
     "name": "stdout",
     "output_type": "stream",
     "text": [
      "['1번째 줄입니다.\\n', '2번째 줄입니다.\\n', '3번째 줄입니다.\\n', '4번째 줄입니다.\\n', '5번째 줄입니다.\\n', '6번째 줄입니다.\\n', '7번째 줄입니다.\\n', '8번째 줄입니다.\\n', '9번째 줄입니다.\\n', '10번째 줄입니다.\\n']\n"
     ]
    }
   ],
   "source": [
    "f = open(\"새파일.txt\", \"r\")\n",
    "print(f.readlines()) # f.readlines() 함수는 각각의 행의 값을 리스트로 묶어줌\n",
    "f.close()"
   ]
  },
  {
   "cell_type": "code",
   "execution_count": 44,
   "id": "6d97b48a",
   "metadata": {},
   "outputs": [
    {
     "name": "stdout",
     "output_type": "stream",
     "text": [
      "1번째 줄입니다.\n",
      "\n",
      "2번째 줄입니다.\n",
      "\n",
      "3번째 줄입니다.\n",
      "\n",
      "4번째 줄입니다.\n",
      "\n",
      "5번째 줄입니다.\n",
      "\n",
      "6번째 줄입니다.\n",
      "\n",
      "7번째 줄입니다.\n",
      "\n",
      "8번째 줄입니다.\n",
      "\n",
      "9번째 줄입니다.\n",
      "\n",
      "10번째 줄입니다.\n",
      "\n"
     ]
    }
   ],
   "source": [
    "f = open(\"새파일.txt\", \"r\")\n",
    "lines = f.readlines()\n",
    "for line in lines:\n",
    "    print(line)\n",
    "f.close()"
   ]
  },
  {
   "cell_type": "code",
   "execution_count": 46,
   "id": "80cb3716",
   "metadata": {},
   "outputs": [
    {
     "name": "stdout",
     "output_type": "stream",
     "text": [
      "1번째 줄입니다.\n",
      "2번째 줄입니다.\n",
      "3번째 줄입니다.\n",
      "4번째 줄입니다.\n",
      "5번째 줄입니다.\n",
      "6번째 줄입니다.\n",
      "7번째 줄입니다.\n",
      "8번째 줄입니다.\n",
      "9번째 줄입니다.\n",
      "10번째 줄입니다.\n",
      "\n"
     ]
    }
   ],
   "source": [
    "f = open(\"새파일.txt\", 'r')\n",
    "data = f.read()\n",
    "print(data)\n",
    "f.close()"
   ]
  },
  {
   "cell_type": "markdown",
   "id": "8ef179e1",
   "metadata": {},
   "source": [
    "파일 내용 추가하기 예제"
   ]
  },
  {
   "cell_type": "code",
   "execution_count": 54,
   "id": "1307032d",
   "metadata": {},
   "outputs": [],
   "source": [
    "f = open(\"새파일.txt\", \"a\")\n",
    "for i in range(11, 20):\n",
    "    data = \"%d번째 줄입니다.\\n\" % i\n",
    "    f.write(data)\n",
    "f.close()"
   ]
  },
  {
   "cell_type": "code",
   "execution_count": 55,
   "id": "ff4befd3",
   "metadata": {
    "scrolled": true
   },
   "outputs": [
    {
     "name": "stdout",
     "output_type": "stream",
     "text": [
      "1번째 줄입니다.\n",
      "2번째 줄입니다.\n",
      "3번째 줄입니다.\n",
      "4번째 줄입니다.\n",
      "5번째 줄입니다.\n",
      "6번째 줄입니다.\n",
      "7번째 줄입니다.\n",
      "8번째 줄입니다.\n",
      "9번째 줄입니다.\n",
      "10번째 줄입니다.\n",
      "11번째 줄입니다.12번째 줄입니다.13번째 줄입니다.14번째 줄입니다.15번째 줄입니다.16번째 줄입니다.17번째 줄입니다.18번째 줄입니다.19번째 줄입니다.11번째 줄입니다.\n",
      "12번째 줄입니다.\n",
      "13번째 줄입니다.\n",
      "14번째 줄입니다.\n",
      "15번째 줄입니다.\n",
      "16번째 줄입니다.\n",
      "17번째 줄입니다.\n",
      "18번째 줄입니다.\n",
      "19번째 줄입니다.\n",
      "11번째 줄입니다.\n",
      "12번째 줄입니다.\n",
      "13번째 줄입니다.\n",
      "14번째 줄입니다.\n",
      "15번째 줄입니다.\n",
      "16번째 줄입니다.\n",
      "17번째 줄입니다.\n",
      "18번째 줄입니다.\n",
      "19번째 줄입니다.\n",
      "11번째 줄입니다.\n",
      "12번째 줄입니다.\n",
      "13번째 줄입니다.\n",
      "14번째 줄입니다.\n",
      "15번째 줄입니다.\n",
      "16번째 줄입니다.\n",
      "17번째 줄입니다.\n",
      "18번째 줄입니다.\n",
      "19번째 줄입니다.\n",
      "\n"
     ]
    }
   ],
   "source": [
    "f = open(\"새파일.txt\", \"r\")\n",
    "data = f.read()\n",
    "print(data)\n",
    "f.close()"
   ]
  },
  {
   "cell_type": "markdown",
   "id": "fc60c28f",
   "metadata": {},
   "source": [
    "with 문을 사용하여 파일 생성하기 예제"
   ]
  },
  {
   "cell_type": "code",
   "execution_count": 57,
   "id": "80c6aae3",
   "metadata": {},
   "outputs": [],
   "source": [
    "with open(\"foo.txt\", 'w') as f:\n",
    "    f.write(\"Life is too short, you need python\")"
   ]
  },
  {
   "cell_type": "code",
   "execution_count": 58,
   "id": "c31f2a4f",
   "metadata": {},
   "outputs": [
    {
     "name": "stdout",
     "output_type": "stream",
     "text": [
      "Life is too short, you need python\n"
     ]
    }
   ],
   "source": [
    "with open(\"foo.txt\", 'r') as f:\n",
    "    data = f.read()\n",
    "    print(data)"
   ]
  },
  {
   "cell_type": "markdown",
   "id": "670c3c73",
   "metadata": {},
   "source": [
    "# 클래스"
   ]
  },
  {
   "cell_type": "markdown",
   "id": "174cf4b5",
   "metadata": {},
   "source": [
    "객체(object)\n",
    "- 파이썬에서는 객체(object)라는 단위로 메모리 위의 정보를 관리\n",
    "- 변수가 메모리에 올라가면 '객체'라고 부름\n"
   ]
  },
  {
   "cell_type": "code",
   "execution_count": null,
   "id": "f72d23e0",
   "metadata": {},
   "outputs": [],
   "source": [
    "a = 123"
   ]
  },
  {
   "cell_type": "code",
   "execution_count": 59,
   "id": "fe64af2b",
   "metadata": {},
   "outputs": [
    {
     "name": "stdout",
     "output_type": "stream",
     "text": [
      "1774985505104\n"
     ]
    }
   ],
   "source": [
    "print(id(a))"
   ]
  },
  {
   "cell_type": "markdown",
   "id": "59dd1ec0",
   "metadata": {},
   "source": [
    "클래스(class)\n",
    "- 객체들의 집합"
   ]
  },
  {
   "cell_type": "markdown",
   "id": "801ecd01",
   "metadata": {},
   "source": [
    "사칙연산 클래스 만들기 예제"
   ]
  },
  {
   "cell_type": "code",
   "execution_count": 62,
   "id": "19e24c90",
   "metadata": {},
   "outputs": [],
   "source": [
    "class FourCal:\n",
    "    pass"
   ]
  },
  {
   "cell_type": "markdown",
   "id": "50ec88b2",
   "metadata": {},
   "source": [
    "- 빈 클래스 생성 후 어떤 용도로 사용하고 어떤 코드를 넣을 것인지 생각해보는 것이 좋음"
   ]
  },
  {
   "cell_type": "code",
   "execution_count": 6,
   "id": "c23538d8",
   "metadata": {},
   "outputs": [],
   "source": [
    "class FourCal:\n",
    "    def setdata(self, first, second):\n",
    "        self.first = first\n",
    "        self.second = second"
   ]
  },
  {
   "cell_type": "code",
   "execution_count": 7,
   "id": "dfc67b60",
   "metadata": {},
   "outputs": [
    {
     "name": "stdout",
     "output_type": "stream",
     "text": [
      "7\n"
     ]
    }
   ],
   "source": [
    "b = FourCal()\n",
    "FourCal.setdata(b, 7, 5)\n",
    "print(b.first)\n"
   ]
  },
  {
   "cell_type": "markdown",
   "id": "dde0f31f",
   "metadata": {},
   "source": [
    "사칙연산 클래스에 더하기 기능 추가하기 예제"
   ]
  },
  {
   "cell_type": "code",
   "execution_count": 90,
   "id": "8d100121",
   "metadata": {},
   "outputs": [],
   "source": [
    "class FourCal:\n",
    "    def setdata(self, first, second):\n",
    "        self.first = first\n",
    "        self.second = second\n",
    "        \n",
    "    def add(self):\n",
    "        result = self.first + self.second\n",
    "        return result\n",
    "    \n",
    "    def sub(self):\n",
    "        result = self.first - self.second\n",
    "        return result\n",
    "    \n",
    "    def mul(self):\n",
    "        result = self.first * self.second\n",
    "        return result\n",
    "    \n",
    "    def div(self):\n",
    "        result = self.first / self.second\n",
    "        return result"
   ]
  },
  {
   "cell_type": "code",
   "execution_count": 83,
   "id": "7b2027c5",
   "metadata": {},
   "outputs": [
    {
     "name": "stdout",
     "output_type": "stream",
     "text": [
      "6\n",
      "2\n",
      "8\n",
      "2.0\n"
     ]
    }
   ],
   "source": [
    "a = FourCal()\n",
    "a.setdata(4, 2)\n",
    "print(a.add())\n",
    "print(a.sub())\n",
    "print(a.mul())\n",
    "print(a.div())"
   ]
  },
  {
   "cell_type": "markdown",
   "id": "b16e2ccf",
   "metadata": {},
   "source": [
    "생성자\n",
    "- 인스턴스 객체가 생성될 때 초기화를 위해서 자동으로 호출되는 초기화 메서드 \\_\\_init\\_\\_\n",
    " - 메서드 : 함수처럼 어떠한 기능을 수행\n",
    " - 함수와 메서드의 차이점 : 메서드는 클래스 및 객체와 연관되어 있는 함수\n",
    " - 위의 setdata 함수와 이름만 다르고 같은 기능\n"
   ]
  },
  {
   "cell_type": "markdown",
   "id": "35d7d632",
   "metadata": {},
   "source": [
    "생성자 생성 예제"
   ]
  },
  {
   "cell_type": "code",
   "execution_count": 85,
   "id": "5bb04804",
   "metadata": {},
   "outputs": [],
   "source": [
    "class test:\n",
    "    def __init__(self):\n",
    "        self.first = first\n",
    "        self.second = second"
   ]
  },
  {
   "cell_type": "code",
   "execution_count": 86,
   "id": "2cd6b6c6",
   "metadata": {},
   "outputs": [
    {
     "ename": "NameError",
     "evalue": "name 'first' is not defined",
     "output_type": "error",
     "traceback": [
      "\u001b[1;31m---------------------------------------------------------------------------\u001b[0m",
      "\u001b[1;31mNameError\u001b[0m                                 Traceback (most recent call last)",
      "\u001b[1;32m~\\AppData\\Local\\Temp/ipykernel_5392/4293749674.py\u001b[0m in \u001b[0;36m<module>\u001b[1;34m\u001b[0m\n\u001b[1;32m----> 1\u001b[1;33m \u001b[0ma\u001b[0m \u001b[1;33m=\u001b[0m \u001b[0mtest\u001b[0m\u001b[1;33m(\u001b[0m\u001b[1;33m)\u001b[0m\u001b[1;33m\u001b[0m\u001b[1;33m\u001b[0m\u001b[0m\n\u001b[0m",
      "\u001b[1;32m~\\AppData\\Local\\Temp/ipykernel_5392/713848488.py\u001b[0m in \u001b[0;36m__init__\u001b[1;34m(self)\u001b[0m\n\u001b[0;32m      1\u001b[0m \u001b[1;32mclass\u001b[0m \u001b[0mtest\u001b[0m\u001b[1;33m:\u001b[0m\u001b[1;33m\u001b[0m\u001b[1;33m\u001b[0m\u001b[0m\n\u001b[0;32m      2\u001b[0m     \u001b[1;32mdef\u001b[0m \u001b[0m__init__\u001b[0m\u001b[1;33m(\u001b[0m\u001b[0mself\u001b[0m\u001b[1;33m)\u001b[0m\u001b[1;33m:\u001b[0m\u001b[1;33m\u001b[0m\u001b[1;33m\u001b[0m\u001b[0m\n\u001b[1;32m----> 3\u001b[1;33m         \u001b[0mself\u001b[0m\u001b[1;33m.\u001b[0m\u001b[0mfirst\u001b[0m \u001b[1;33m=\u001b[0m \u001b[0mfirst\u001b[0m\u001b[1;33m\u001b[0m\u001b[1;33m\u001b[0m\u001b[0m\n\u001b[0m\u001b[0;32m      4\u001b[0m         \u001b[0mself\u001b[0m\u001b[1;33m.\u001b[0m\u001b[0msecond\u001b[0m \u001b[1;33m=\u001b[0m \u001b[0msecond\u001b[0m\u001b[1;33m\u001b[0m\u001b[1;33m\u001b[0m\u001b[0m\n",
      "\u001b[1;31mNameError\u001b[0m: name 'first' is not defined"
     ]
    }
   ],
   "source": [
    "a = test()"
   ]
  },
  {
   "cell_type": "markdown",
   "id": "6bcadc94",
   "metadata": {},
   "source": [
    "- \\_\\_init\\_\\_ 메서드는 객체를 만드는 순간 동작하는 메서드"
   ]
  },
  {
   "cell_type": "markdown",
   "id": "0d778496",
   "metadata": {},
   "source": [
    "FourCal 클래스를 상속하는 MoreFourCal 클래스 생성"
   ]
  },
  {
   "cell_type": "code",
   "execution_count": 92,
   "id": "d9b45d31",
   "metadata": {},
   "outputs": [],
   "source": [
    "class MoreFourCal(FourCal):\n",
    "    pass"
   ]
  },
  {
   "cell_type": "code",
   "execution_count": 93,
   "id": "5e8e3745",
   "metadata": {
    "scrolled": true
   },
   "outputs": [],
   "source": [
    "a = MoreFourCal()"
   ]
  },
  {
   "cell_type": "code",
   "execution_count": 94,
   "id": "3117a124",
   "metadata": {},
   "outputs": [],
   "source": [
    "a.setdata(4, 2)"
   ]
  },
  {
   "cell_type": "code",
   "execution_count": 95,
   "id": "d8adbb60",
   "metadata": {},
   "outputs": [
    {
     "name": "stdout",
     "output_type": "stream",
     "text": [
      "6\n"
     ]
    }
   ],
   "source": [
    "print(a.add())"
   ]
  },
  {
   "cell_type": "code",
   "execution_count": 96,
   "id": "b2515dee",
   "metadata": {},
   "outputs": [],
   "source": [
    "class MoreFourCal2(MoreFourCal):\n",
    "    pass"
   ]
  },
  {
   "cell_type": "code",
   "execution_count": 100,
   "id": "a0a4ef3b",
   "metadata": {},
   "outputs": [],
   "source": [
    "a = MoreFourCal2()"
   ]
  },
  {
   "cell_type": "code",
   "execution_count": 101,
   "id": "09c263f0",
   "metadata": {},
   "outputs": [],
   "source": [
    "a.setdata(4, 2)"
   ]
  },
  {
   "cell_type": "code",
   "execution_count": 103,
   "id": "54f574f4",
   "metadata": {},
   "outputs": [
    {
     "name": "stdout",
     "output_type": "stream",
     "text": [
      "6\n"
     ]
    }
   ],
   "source": [
    "print(a.add())"
   ]
  },
  {
   "cell_type": "markdown",
   "id": "84817dd5",
   "metadata": {},
   "source": [
    "- 상속에 상속도 가능"
   ]
  },
  {
   "cell_type": "markdown",
   "id": "591a48cc",
   "metadata": {},
   "source": [
    "자식 클래스에 제곱 기능 추가\n",
    "+ 부모 클래스의 메서드와 동일한 이름 add 를 사용했을 시 자식 클래스의 메서드가 사용된다."
   ]
  },
  {
   "cell_type": "code",
   "execution_count": 113,
   "id": "7ef84aa6",
   "metadata": {},
   "outputs": [],
   "source": [
    "class MoreFourCal(FourCal):\n",
    "    def pow(self):\n",
    "        result = self.first ** self.second\n",
    "        return result\n",
    "    def add(self):\n",
    "        result = self.first + self.second + self.second\n",
    "        return result"
   ]
  },
  {
   "cell_type": "code",
   "execution_count": 114,
   "id": "a70a953e",
   "metadata": {
    "scrolled": true
   },
   "outputs": [],
   "source": [
    "a = MoreFourCal()"
   ]
  },
  {
   "cell_type": "code",
   "execution_count": 115,
   "id": "cd4c3342",
   "metadata": {},
   "outputs": [],
   "source": [
    "a.setdata(4, 2)"
   ]
  },
  {
   "cell_type": "code",
   "execution_count": 117,
   "id": "bad94bac",
   "metadata": {},
   "outputs": [
    {
     "name": "stdout",
     "output_type": "stream",
     "text": [
      "16\n",
      "8\n"
     ]
    }
   ],
   "source": [
    "print(a.pow())\n",
    "print(a.add())"
   ]
  },
  {
   "cell_type": "markdown",
   "id": "2adc9059",
   "metadata": {},
   "source": [
    "에러 발생 시 클래스 상속으로 해결하는 방법"
   ]
  },
  {
   "cell_type": "code",
   "execution_count": 128,
   "id": "a82daa59",
   "metadata": {},
   "outputs": [],
   "source": [
    "class SafeFourCal(FourCal):\n",
    "    def div(self):\n",
    "        if self.second == 0:\n",
    "            return 0\n",
    "        else:\n",
    "            return self.first / self.second\n",
    "        "
   ]
  },
  {
   "cell_type": "code",
   "execution_count": 129,
   "id": "cf6b7211",
   "metadata": {},
   "outputs": [],
   "source": [
    "a = SafeFourCal()"
   ]
  },
  {
   "cell_type": "code",
   "execution_count": 130,
   "id": "6fcb300d",
   "metadata": {},
   "outputs": [],
   "source": [
    "a.setdata(4, 0)"
   ]
  },
  {
   "cell_type": "code",
   "execution_count": 131,
   "id": "4ceb48d5",
   "metadata": {},
   "outputs": [
    {
     "name": "stdout",
     "output_type": "stream",
     "text": [
      "0\n"
     ]
    }
   ],
   "source": [
    "print(a.div())"
   ]
  },
  {
   "cell_type": "code",
   "execution_count": null,
   "id": "5d3691eb",
   "metadata": {},
   "outputs": [],
   "source": []
  },
  {
   "cell_type": "code",
   "execution_count": null,
   "id": "387dab81",
   "metadata": {},
   "outputs": [],
   "source": []
  },
  {
   "cell_type": "code",
   "execution_count": null,
   "id": "0d7fa591",
   "metadata": {},
   "outputs": [],
   "source": []
  },
  {
   "cell_type": "code",
   "execution_count": null,
   "id": "2bad768f",
   "metadata": {},
   "outputs": [],
   "source": []
  },
  {
   "cell_type": "code",
   "execution_count": null,
   "id": "d7d66161",
   "metadata": {},
   "outputs": [],
   "source": []
  },
  {
   "cell_type": "code",
   "execution_count": null,
   "id": "6a5d2bc9",
   "metadata": {},
   "outputs": [],
   "source": []
  },
  {
   "cell_type": "code",
   "execution_count": null,
   "id": "83ed10f5",
   "metadata": {},
   "outputs": [],
   "source": []
  }
 ],
 "metadata": {
  "kernelspec": {
   "display_name": "Python 3 (ipykernel)",
   "language": "python",
   "name": "python3"
  },
  "language_info": {
   "codemirror_mode": {
    "name": "ipython",
    "version": 3
   },
   "file_extension": ".py",
   "mimetype": "text/x-python",
   "name": "python",
   "nbconvert_exporter": "python",
   "pygments_lexer": "ipython3",
   "version": "3.9.7"
  }
 },
 "nbformat": 4,
 "nbformat_minor": 5
}
