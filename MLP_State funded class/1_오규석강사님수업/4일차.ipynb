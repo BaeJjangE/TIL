{
 "cells": [
  {
   "cell_type": "markdown",
   "id": "47a6ddaa",
   "metadata": {},
   "source": [
    "for 문 실습 예제(range)"
   ]
  },
  {
   "cell_type": "code",
   "execution_count": 5,
   "id": "60fd4cc5",
   "metadata": {},
   "outputs": [
    {
     "name": "stdout",
     "output_type": "stream",
     "text": [
      "2 4 6 8 10 12 14 16 18 \n",
      "3 6 9 12 15 18 21 24 27 \n",
      "4 8 12 16 20 24 28 32 36 \n",
      "5 10 15 20 25 30 35 40 45 \n",
      "6 12 18 24 30 36 42 48 54 \n",
      "7 14 21 28 35 42 49 56 63 \n",
      "8 16 24 32 40 48 56 64 72 \n",
      "9 18 27 36 45 54 63 72 81 \n"
     ]
    }
   ],
   "source": [
    "for i in range(2, 10):\n",
    "    for j in range(1, 10):\n",
    "        print(i*j, end=' ')\n",
    "    print('')"
   ]
  },
  {
   "cell_type": "markdown",
   "id": "6148df49",
   "metadata": {},
   "source": [
    "리스트 안에 for 문 포함하기 예제"
   ]
  },
  {
   "cell_type": "code",
   "execution_count": 8,
   "id": "825cdb51",
   "metadata": {},
   "outputs": [
    {
     "name": "stdout",
     "output_type": "stream",
     "text": [
      "[3, 6, 9, 12]\n"
     ]
    }
   ],
   "source": [
    "a = [1, 2, 3, 4]\n",
    "result = []\n",
    "for i in a:\n",
    "    result.append(i*3)\n",
    "print(result)"
   ]
  },
  {
   "cell_type": "code",
   "execution_count": 10,
   "id": "4d6b8dd4",
   "metadata": {},
   "outputs": [
    {
     "name": "stdout",
     "output_type": "stream",
     "text": [
      "[3, 6, 9, 12]\n"
     ]
    }
   ],
   "source": [
    "a = [1, 2, 3, 4]\n",
    "result = [num * 3 for num in a]\n",
    "print(result)"
   ]
  },
  {
   "cell_type": "markdown",
   "id": "ead38531",
   "metadata": {},
   "source": [
    "리스트 안에 for 문 포함하기 예제(if 조건문)"
   ]
  },
  {
   "cell_type": "code",
   "execution_count": 13,
   "id": "fca267bb",
   "metadata": {},
   "outputs": [
    {
     "name": "stdout",
     "output_type": "stream",
     "text": [
      "[6, 12]\n"
     ]
    }
   ],
   "source": [
    "a = [1, 2, 3, 4]\n",
    "result = []\n",
    "for i in a:\n",
    "    if i % 2 == 0:\n",
    "        result.append(i*3)\n",
    "print(result)"
   ]
  },
  {
   "cell_type": "code",
   "execution_count": 21,
   "id": "852f121a",
   "metadata": {},
   "outputs": [
    {
     "ename": "SyntaxError",
     "evalue": "invalid syntax (Temp/ipykernel_12048/1188306688.py, line 2)",
     "output_type": "error",
     "traceback": [
      "\u001b[1;36m  File \u001b[1;32m\"C:\\Users\\user\\AppData\\Local\\Temp/ipykernel_12048/1188306688.py\"\u001b[1;36m, line \u001b[1;32m2\u001b[0m\n\u001b[1;33m    result = [num * 3 for num in a if num % 2 == 0 else 0 for num in a]\u001b[0m\n\u001b[1;37m                                                   ^\u001b[0m\n\u001b[1;31mSyntaxError\u001b[0m\u001b[1;31m:\u001b[0m invalid syntax\n"
     ]
    }
   ],
   "source": [
    "a = [1, 2, 3, 4]\n",
    "result = [num * 3 for num in a if num % 2 == 0]\n",
    "print(result)"
   ]
  },
  {
   "cell_type": "markdown",
   "id": "47e54543",
   "metadata": {},
   "source": [
    "for 문에서 if, else 한 줄에 포함하기 예제"
   ]
  },
  {
   "cell_type": "code",
   "execution_count": 47,
   "id": "80c9ab19",
   "metadata": {},
   "outputs": [
    {
     "ename": "SyntaxError",
     "evalue": "invalid syntax (Temp/ipykernel_12048/1158488844.py, line 2)",
     "output_type": "error",
     "traceback": [
      "\u001b[1;36m  File \u001b[1;32m\"C:\\Users\\user\\AppData\\Local\\Temp/ipykernel_12048/1158488844.py\"\u001b[1;36m, line \u001b[1;32m2\u001b[0m\n\u001b[1;33m    result = [num * 3 for num in a if num > 1 else num for num in a]\u001b[0m\n\u001b[1;37m                                              ^\u001b[0m\n\u001b[1;31mSyntaxError\u001b[0m\u001b[1;31m:\u001b[0m invalid syntax\n"
     ]
    }
   ],
   "source": [
    "a = [1, 2, 3, 4]\n",
    "result = [num * 3 for num in a if num > 1 else num for num in a]\n",
    "print(result)"
   ]
  },
  {
   "cell_type": "code",
   "execution_count": 61,
   "id": "c3a5d08c",
   "metadata": {},
   "outputs": [
    {
     "name": "stdout",
     "output_type": "stream",
     "text": [
      "<class 'str'>\n",
      "1, 3, 5 번 학생 축하합니다. 합격입니다."
     ]
    }
   ],
   "source": [
    "passed = [1, 3, 5]\n",
    "a = \", \".join(str(_) for _ in passed)\n",
    "print(type(a))\n",
    "\n",
    "print(a, '번 학생 축하합니다. 합격입니다.', end=\"\")"
   ]
  },
  {
   "cell_type": "code",
   "execution_count": 86,
   "id": "a5b680a5",
   "metadata": {},
   "outputs": [
    {
     "name": "stdout",
     "output_type": "stream",
     "text": [
      "0000000.12\n"
     ]
    }
   ],
   "source": [
    "print(\"{:010.2f}\".format(0.1234567))"
   ]
  },
  {
   "cell_type": "code",
   "execution_count": 98,
   "id": "f47ed910",
   "metadata": {},
   "outputs": [
    {
     "name": "stdout",
     "output_type": "stream",
     "text": [
      "[4, 3, 2, 1]\n"
     ]
    }
   ],
   "source": [
    "a = [1, 2, 3, 4]\n",
    "a = sorted(a, reverse=True)\n",
    "print(a)"
   ]
  },
  {
   "cell_type": "code",
   "execution_count": 96,
   "id": "b0388421",
   "metadata": {},
   "outputs": [
    {
     "data": {
      "text/plain": [
       "0"
      ]
     },
     "execution_count": 96,
     "metadata": {},
     "output_type": "execute_result"
    }
   ],
   "source": [
    "b = \"list\"\n",
    "b.index(\"l\")"
   ]
  },
  {
   "cell_type": "code",
   "execution_count": 101,
   "id": "e7d704e2",
   "metadata": {},
   "outputs": [
    {
     "name": "stdout",
     "output_type": "stream",
     "text": [
      "[1, 2, 1, 2, 3]\n"
     ]
    }
   ],
   "source": [
    "a = [1,2,3,1,2,3]\n",
    "del a[2] # = a.remove(3)\n",
    "print(a)"
   ]
  },
  {
   "cell_type": "code",
   "execution_count": 104,
   "id": "fb115131",
   "metadata": {},
   "outputs": [
    {
     "data": {
      "text/plain": [
       "'value'"
      ]
     },
     "execution_count": 104,
     "metadata": {},
     "output_type": "execute_result"
    }
   ],
   "source": [
    "a = {'key': 'value', 'key2': 'value2'}\n",
    "a.get('key')"
   ]
  },
  {
   "cell_type": "code",
   "execution_count": 105,
   "id": "0bed6fa4",
   "metadata": {},
   "outputs": [
    {
     "data": {
      "text/plain": [
       "True"
      ]
     },
     "execution_count": 105,
     "metadata": {},
     "output_type": "execute_result"
    }
   ],
   "source": [
    "'key' in a"
   ]
  },
  {
   "cell_type": "code",
   "execution_count": 107,
   "id": "dbc23ecb",
   "metadata": {
    "scrolled": true
   },
   "outputs": [
    {
     "name": "stdout",
     "output_type": "stream",
     "text": [
      "3\n",
      "7\n"
     ]
    }
   ],
   "source": [
    "a = [(1,2),(3,4)]\n",
    "for (first, last) in a:\n",
    "    print(first+last)"
   ]
  },
  {
   "cell_type": "markdown",
   "id": "2bc11475",
   "metadata": {},
   "source": [
    "def 리턴쓰고 안쓰고의 차이"
   ]
  },
  {
   "cell_type": "code",
   "execution_count": 109,
   "id": "efe8ce50",
   "metadata": {},
   "outputs": [],
   "source": [
    "def sum2(a, b):\n",
    "    a+b"
   ]
  },
  {
   "cell_type": "code",
   "execution_count": 112,
   "id": "3b39a075",
   "metadata": {},
   "outputs": [
    {
     "name": "stdout",
     "output_type": "stream",
     "text": [
      "None\n"
     ]
    }
   ],
   "source": [
    "print(sum2(1, 2))"
   ]
  },
  {
   "cell_type": "code",
   "execution_count": 113,
   "id": "7dee99fe",
   "metadata": {},
   "outputs": [],
   "source": [
    "def sum2(a, b):\n",
    "    return a+b"
   ]
  },
  {
   "cell_type": "code",
   "execution_count": 114,
   "id": "8f08f95a",
   "metadata": {},
   "outputs": [
    {
     "name": "stdout",
     "output_type": "stream",
     "text": [
      "3\n"
     ]
    }
   ],
   "source": [
    "print(sum2(1, 2))"
   ]
  },
  {
   "cell_type": "markdown",
   "id": "890b3ae1",
   "metadata": {},
   "source": [
    "함수 만들기 예제2"
   ]
  },
  {
   "cell_type": "code",
   "execution_count": 127,
   "id": "5f2ecae1",
   "metadata": {},
   "outputs": [],
   "source": [
    "def add(a, b): # a, b는 매개변수\n",
    "    return a + b"
   ]
  },
  {
   "cell_type": "code",
   "execution_count": 1,
   "id": "79deb27f",
   "metadata": {},
   "outputs": [],
   "source": [
    "def addabs(a, b): # 이 함수에서는 add와 addabs의 a, b는 같은 매개변수\n",
    "    return abs(add(a, b))"
   ]
  },
  {
   "cell_type": "code",
   "execution_count": 131,
   "id": "6312b107",
   "metadata": {},
   "outputs": [
    {
     "data": {
      "text/plain": [
       "10"
      ]
     },
     "execution_count": 131,
     "metadata": {},
     "output_type": "execute_result"
    }
   ],
   "source": [
    "addabs(-3, -7)"
   ]
  },
  {
   "cell_type": "markdown",
   "id": "1a225ad9",
   "metadata": {},
   "source": [
    "- 함수는 다른 함수를 호출할 수 있음"
   ]
  },
  {
   "cell_type": "markdown",
   "id": "efc778ad",
   "metadata": {},
   "source": [
    "함수 만들기 예제3"
   ]
  },
  {
   "cell_type": "code",
   "execution_count": 144,
   "id": "b8464d22",
   "metadata": {},
   "outputs": [],
   "source": [
    "def swap(a, b): # a, b는 매개변수\n",
    "    return b, a"
   ]
  },
  {
   "cell_type": "code",
   "execution_count": 141,
   "id": "6aad31d8",
   "metadata": {},
   "outputs": [
    {
     "data": {
      "text/plain": [
       "(20, 10)"
      ]
     },
     "execution_count": 141,
     "metadata": {},
     "output_type": "execute_result"
    }
   ],
   "source": [
    "swap(10, 20)"
   ]
  },
  {
   "cell_type": "code",
   "execution_count": 143,
   "id": "cc28a9bb",
   "metadata": {},
   "outputs": [
    {
     "name": "stdout",
     "output_type": "stream",
     "text": [
      "<class 'function'>\n"
     ]
    }
   ],
   "source": [
    "print(type(swap))"
   ]
  },
  {
   "cell_type": "markdown",
   "id": "83e2d8ea",
   "metadata": {},
   "source": [
    "# ★매개변수와 인수\n",
    "- 매개변수 : def add(a,b) 에서 a, b를 매개변수\n",
    "- 인수 : add(1, 2)에서 1, 2를 인수"
   ]
  },
  {
   "cell_type": "markdown",
   "id": "270129a7",
   "metadata": {},
   "source": [
    "입력값은 없고 결과값만 있는 함수 예제"
   ]
  },
  {
   "cell_type": "code",
   "execution_count": 147,
   "id": "c6e5d97b",
   "metadata": {},
   "outputs": [],
   "source": [
    "def say():\n",
    "    return 'Hi'"
   ]
  },
  {
   "cell_type": "code",
   "execution_count": 149,
   "id": "0c0be72c",
   "metadata": {},
   "outputs": [
    {
     "name": "stdout",
     "output_type": "stream",
     "text": [
      "Hi\n"
     ]
    }
   ],
   "source": [
    "print(say())"
   ]
  },
  {
   "cell_type": "markdown",
   "id": "ebbdb8f2",
   "metadata": {},
   "source": [
    "입력값이 있고 결과값이 없는 함수 예제 # 결과값은 return 함수가 필요"
   ]
  },
  {
   "cell_type": "code",
   "execution_count": 150,
   "id": "c7755ff5",
   "metadata": {},
   "outputs": [],
   "source": [
    "def sum(a, b):\n",
    "    print(\"%d와 %d의 합은 %d입니다.\" % (a, b, a+b))"
   ]
  },
  {
   "cell_type": "code",
   "execution_count": 151,
   "id": "bd265467",
   "metadata": {},
   "outputs": [
    {
     "name": "stdout",
     "output_type": "stream",
     "text": [
      "3와 4의 합은 7입니다.\n"
     ]
    }
   ],
   "source": [
    "sum(3, 4)"
   ]
  },
  {
   "cell_type": "code",
   "execution_count": 153,
   "id": "53a1924d",
   "metadata": {},
   "outputs": [
    {
     "name": "stdout",
     "output_type": "stream",
     "text": [
      "3와 4의 합은 7입니다.\n",
      "None\n"
     ]
    }
   ],
   "source": [
    "a = sum(3, 4)\n",
    "print(a) # return값이 없어서 생긴 경우"
   ]
  },
  {
   "cell_type": "markdown",
   "id": "189bc666",
   "metadata": {},
   "source": [
    "입력값도 없고 결과값도 없는 함수"
   ]
  },
  {
   "cell_type": "code",
   "execution_count": 154,
   "id": "973fe3d6",
   "metadata": {},
   "outputs": [],
   "source": [
    "def say():\n",
    "    print('Hi')"
   ]
  },
  {
   "cell_type": "code",
   "execution_count": 155,
   "id": "b4827cc1",
   "metadata": {},
   "outputs": [
    {
     "name": "stdout",
     "output_type": "stream",
     "text": [
      "Hi\n"
     ]
    }
   ],
   "source": [
    "say()"
   ]
  },
  {
   "cell_type": "markdown",
   "id": "ad04b9bc",
   "metadata": {},
   "source": [
    "가변 길이 인수 리스트(*매개변수)\n",
    "- 고정되지 않은 수의 인수를 함수에 전달하는 방식\n",
    "    - 함수를 정의할 때 인수 목록에 반드시 넘겨야하는 고정 인수를 우선 나열하고, 나머지를 튜플 형식으로 한꺼번에 받는 방식"
   ]
  },
  {
   "cell_type": "code",
   "execution_count": 175,
   "id": "cc887d0a",
   "metadata": {},
   "outputs": [],
   "source": [
    "def varilen(a, *b):\n",
    "    print(a, b)"
   ]
  },
  {
   "cell_type": "code",
   "execution_count": 176,
   "id": "5e97b82c",
   "metadata": {},
   "outputs": [
    {
     "name": "stdout",
     "output_type": "stream",
     "text": [
      "1 ()\n",
      "1 (2,)\n",
      "1 (2, 3)\n",
      "1 (2, 3, 4)\n"
     ]
    }
   ],
   "source": [
    "varilen(1)\n",
    "varilen(1,2)\n",
    "varilen(1,2,3)\n",
    "varilen(1,2,3,4)"
   ]
  },
  {
   "cell_type": "code",
   "execution_count": 189,
   "id": "cfd86d3c",
   "metadata": {},
   "outputs": [],
   "source": [
    "def printf(a, *b):\n",
    "    print(\"첫번째 인수 :\", a)\n",
    "    for c in b:\n",
    "        print(\"나머지 인수 :\", c)"
   ]
  },
  {
   "cell_type": "code",
   "execution_count": 190,
   "id": "8e26d006",
   "metadata": {},
   "outputs": [
    {
     "name": "stdout",
     "output_type": "stream",
     "text": [
      "첫번째 인수 : 1\n",
      "나머지 인수 : 2\n",
      "나머지 인수 : 3\n",
      "나머지 인수 : 4\n"
     ]
    }
   ],
   "source": [
    "printf(1,2,3,4)"
   ]
  },
  {
   "cell_type": "markdown",
   "id": "99d98b2c",
   "metadata": {},
   "source": [
    "# ★ **매개변수\n",
    "- 함수 호출에 사용하는 인수들이 사전에 있다면 **을 이용하여 함수를 호출할 수 있음"
   ]
  },
  {
   "cell_type": "code",
   "execution_count": 206,
   "id": "303ea84b",
   "metadata": {},
   "outputs": [],
   "source": [
    "def h(a, b, c):\n",
    "    print(a, b, c)\n",
    "args = [1, 2, 3]"
   ]
  },
  {
   "cell_type": "code",
   "execution_count": 209,
   "id": "375bc061",
   "metadata": {
    "scrolled": true
   },
   "outputs": [
    {
     "name": "stdout",
     "output_type": "stream",
     "text": [
      "1 2 3\n"
     ]
    }
   ],
   "source": [
    "h(*args) # *은 튜플의 ()를 풀어준다는 뜻"
   ]
  },
  {
   "cell_type": "code",
   "execution_count": 196,
   "id": "83c4be90",
   "metadata": {},
   "outputs": [],
   "source": [
    "def h(a, b, c, f):\n",
    "    print(a, b, c, f)"
   ]
  },
  {
   "cell_type": "code",
   "execution_count": 198,
   "id": "f99db7c2",
   "metadata": {},
   "outputs": [],
   "source": [
    "dicargs = {'a':1, 'b':2, 'c':3, 'f':4}"
   ]
  },
  {
   "cell_type": "code",
   "execution_count": 204,
   "id": "38b28a49",
   "metadata": {
    "scrolled": false
   },
   "outputs": [
    {
     "name": "stdout",
     "output_type": "stream",
     "text": [
      "1 2 3 4\n"
     ]
    }
   ],
   "source": [
    "h(**dicargs)"
   ]
  },
  {
   "cell_type": "code",
   "execution_count": 205,
   "id": "4d7a815d",
   "metadata": {
    "scrolled": true
   },
   "outputs": [
    {
     "name": "stdout",
     "output_type": "stream",
     "text": [
      "a b c f\n"
     ]
    }
   ],
   "source": [
    "h(*dicargs)"
   ]
  },
  {
   "cell_type": "markdown",
   "id": "71421112",
   "metadata": {},
   "source": [
    "return의 영향"
   ]
  },
  {
   "cell_type": "code",
   "execution_count": 3,
   "id": "475420e0",
   "metadata": {},
   "outputs": [],
   "source": [
    "def say_nick(nick):\n",
    "    if nick == \"바보\":\n",
    "        return\n",
    "    print(\"나의 별명은 %s 입니다.\" % nick)"
   ]
  },
  {
   "cell_type": "code",
   "execution_count": 4,
   "id": "c72518ad",
   "metadata": {
    "scrolled": true
   },
   "outputs": [
    {
     "name": "stdout",
     "output_type": "stream",
     "text": [
      "나의 별명은 야호 입니다.\n"
     ]
    }
   ],
   "source": [
    "say_nick(\"야호\")"
   ]
  },
  {
   "cell_type": "code",
   "execution_count": 5,
   "id": "bce58eca",
   "metadata": {},
   "outputs": [],
   "source": [
    "say_nick(\"바보\")"
   ]
  },
  {
   "cell_type": "markdown",
   "id": "c49fa856",
   "metadata": {},
   "source": [
    "매개변수에 초깃값 미리 설정하기"
   ]
  },
  {
   "cell_type": "code",
   "execution_count": 214,
   "id": "ee5fba23",
   "metadata": {},
   "outputs": [],
   "source": [
    "def say_myself(name, old, man=True):\n",
    "    print(\"나의 이름은 %s입니다.\" % name)\n",
    "    print(\"나이는 %d입니다.\" % old)\n",
    "    if man:\n",
    "        print(\"남자입니다.\")\n",
    "    else:\n",
    "        print(\"여자입니다.\")"
   ]
  },
  {
   "cell_type": "code",
   "execution_count": 219,
   "id": "f15f3df3",
   "metadata": {},
   "outputs": [
    {
     "name": "stdout",
     "output_type": "stream",
     "text": [
      "나의 이름은 김원빈입니다.\n",
      "나이는 30입니다.\n",
      "여자입니다.\n"
     ]
    }
   ],
   "source": [
    "say_myself('김원빈', 30, False)"
   ]
  },
  {
   "cell_type": "markdown",
   "id": "ff3450e7",
   "metadata": {},
   "source": [
    "# ★변수의 유효범위\n",
    "- 변수가 어느 범위에서 유효한지를 나타냄\n",
    " - 변수가 함수 내에서 정의되면 함수의 지역 변수(local) 변수가 됨\n",
    " - 변수가 함수 밖에서 정의되면 전역(global) 변수가 됨\n",
    "- 전역 변수 : 함수 외부에서 정의된 변수, 코드 모든 범위에서 사용 가능\n",
    "- 지역 변수 : 함수 내부에서 정의된 변수, 해당 정의된 함수에서만 사용 가능\n",
    "- 호출 순서 : 지역 변수 -> 전역 변수"
   ]
  },
  {
   "cell_type": "markdown",
   "id": "4baecc0e",
   "metadata": {},
   "source": [
    "변수의 호출 순서 예제"
   ]
  },
  {
   "cell_type": "code",
   "execution_count": 220,
   "id": "c8ca7ddf",
   "metadata": {},
   "outputs": [],
   "source": [
    "str = 'global variable'\n",
    "\n",
    "def func_1():\n",
    "    str = 'local variable'\n",
    "    print(str)"
   ]
  },
  {
   "cell_type": "code",
   "execution_count": 224,
   "id": "b4f934fe",
   "metadata": {},
   "outputs": [
    {
     "name": "stdout",
     "output_type": "stream",
     "text": [
      "local variable\n"
     ]
    }
   ],
   "source": [
    "func_1() # 함수에서 호출 시 지역변수로 나옴"
   ]
  },
  {
   "cell_type": "code",
   "execution_count": 223,
   "id": "7cfc6848",
   "metadata": {},
   "outputs": [
    {
     "name": "stdout",
     "output_type": "stream",
     "text": [
      "global variable\n"
     ]
    }
   ],
   "source": [
    "print(str) # 밖에서 호출 시"
   ]
  },
  {
   "cell_type": "markdown",
   "id": "d7c01423",
   "metadata": {},
   "source": [
    "함수 안에서 함수 밖의 변수를 변경하는 방법(첫번째)"
   ]
  },
  {
   "cell_type": "code",
   "execution_count": 231,
   "id": "e7240c1e",
   "metadata": {},
   "outputs": [],
   "source": [
    "a = 1\n",
    "def vartest(a):\n",
    "    a += 1\n",
    "    return a"
   ]
  },
  {
   "cell_type": "code",
   "execution_count": 232,
   "id": "b81feb46",
   "metadata": {},
   "outputs": [
    {
     "name": "stdout",
     "output_type": "stream",
     "text": [
      "1\n",
      "2\n"
     ]
    }
   ],
   "source": [
    "b = vartest(a)\n",
    "print(a)\n",
    "print(b)"
   ]
  },
  {
   "cell_type": "code",
   "execution_count": 236,
   "id": "a3b9f60c",
   "metadata": {},
   "outputs": [
    {
     "name": "stdout",
     "output_type": "stream",
     "text": [
      "1\n"
     ]
    }
   ],
   "source": []
  },
  {
   "cell_type": "code",
   "execution_count": null,
   "id": "01d763af",
   "metadata": {},
   "outputs": [],
   "source": []
  },
  {
   "cell_type": "code",
   "execution_count": null,
   "id": "5edbaff9",
   "metadata": {},
   "outputs": [],
   "source": []
  },
  {
   "cell_type": "code",
   "execution_count": null,
   "id": "4a61abce",
   "metadata": {},
   "outputs": [],
   "source": []
  },
  {
   "cell_type": "code",
   "execution_count": null,
   "id": "049942cc",
   "metadata": {},
   "outputs": [],
   "source": []
  },
  {
   "cell_type": "code",
   "execution_count": null,
   "id": "f761d0a0",
   "metadata": {},
   "outputs": [],
   "source": []
  },
  {
   "cell_type": "code",
   "execution_count": null,
   "id": "32ae54ba",
   "metadata": {},
   "outputs": [],
   "source": []
  },
  {
   "cell_type": "code",
   "execution_count": null,
   "id": "c93e2dbb",
   "metadata": {},
   "outputs": [],
   "source": []
  },
  {
   "cell_type": "code",
   "execution_count": null,
   "id": "d7db168c",
   "metadata": {},
   "outputs": [],
   "source": []
  },
  {
   "cell_type": "code",
   "execution_count": null,
   "id": "4bac25b0",
   "metadata": {},
   "outputs": [],
   "source": []
  },
  {
   "cell_type": "code",
   "execution_count": null,
   "id": "546b2663",
   "metadata": {},
   "outputs": [],
   "source": []
  }
 ],
 "metadata": {
  "kernelspec": {
   "display_name": "Python 3 (ipykernel)",
   "language": "python",
   "name": "python3"
  },
  "language_info": {
   "codemirror_mode": {
    "name": "ipython",
    "version": 3
   },
   "file_extension": ".py",
   "mimetype": "text/x-python",
   "name": "python",
   "nbconvert_exporter": "python",
   "pygments_lexer": "ipython3",
   "version": "3.9.7"
  }
 },
 "nbformat": 4,
 "nbformat_minor": 5
}
