{
 "cells": [
  {
   "cell_type": "markdown",
   "id": "8205f6ae",
   "metadata": {},
   "source": [
    "## 인덱스 활용\n",
    "특정 열을 행 인덱스로 설정\n",
    "- set_index() 함수를 사용하여 데이터프레임의 특정 열을 행 인덱스로 설정"
   ]
  },
  {
   "cell_type": "code",
   "execution_count": 1,
   "id": "4d87857a",
   "metadata": {},
   "outputs": [],
   "source": [
    "import pandas as pd\n",
    "\n",
    "exam_data = {'이름': ['예진', '지우', '진석'], '국어': [70,90,80], '수학': [90, 85, 80], '영어': [100, 80, 90], '음악': [70, 90, 100]}\n",
    "df = pd.DataFrame(exam_data)"
   ]
  },
  {
   "cell_type": "code",
   "execution_count": 3,
   "id": "9855cfbf",
   "metadata": {},
   "outputs": [
    {
     "name": "stdout",
     "output_type": "stream",
     "text": [
      "   이름  국어  수학   영어   음악\n",
      "0  예진  70  90  100   70\n",
      "1  지우  90  85   80   90\n",
      "2  진석  80  80   90  100\n"
     ]
    }
   ],
   "source": [
    "print(df)"
   ]
  },
  {
   "cell_type": "code",
   "execution_count": 4,
   "id": "80dc4696",
   "metadata": {},
   "outputs": [],
   "source": [
    "ndf = df.set_index('이름')"
   ]
  },
  {
   "cell_type": "code",
   "execution_count": 5,
   "id": "3a2298b0",
   "metadata": {},
   "outputs": [
    {
     "name": "stdout",
     "output_type": "stream",
     "text": [
      "    국어  수학   영어   음악\n",
      "이름                  \n",
      "예진  70  90  100   70\n",
      "지우  90  85   80   90\n",
      "진석  80  80   90  100\n"
     ]
    }
   ],
   "source": [
    "print(ndf)"
   ]
  },
  {
   "cell_type": "markdown",
   "id": "903862cc",
   "metadata": {},
   "source": [
    "## 행 인덱스 변경(재배열) : reindex()\n",
    "- reindex() 함수를 사용하여 데이터프레임의 행 인덱스를 새로운 배열로 재지정 가능<br>\n",
    "<code>새로운 배열로 행 인덱스 재지정: DataFrame객체.reindex()<code>\n",
    "- 기존 데이터프레임에 존재하지 않는 행 인덱스가 새로 추가되는 경우 해당 행의 데이터 값은 NaN 값이 입력됨"
   ]
  },
  {
   "cell_type": "markdown",
   "id": "5373322b",
   "metadata": {},
   "source": [
    "새로운 배열로 행 인덱스 재지정 예제"
   ]
  },
  {
   "cell_type": "code",
   "execution_count": 6,
   "id": "97f742bc",
   "metadata": {},
   "outputs": [],
   "source": [
    "import pandas as pd\n",
    "\n",
    "# Key:value를 쌍으로 갖는 딕셔너리를 생성. 변수 dict_data에 저장('a': 1, 'b': 2, 'c': 3)\n",
    "dict_data = {'c0': [1, 2, 3], 'c1': [4,5,6], 'c2': [7,8,9], 'c3': [10,11,12], 'c4':[13,14,15]}\n",
    "\n",
    "# 판다스 DataFrame() 함수로 딕셔너리를 데이터프레임으로 변환, 변수 df에 저장\n",
    "df = pd.DataFrame(dict_data, index=['r0', 'r1', 'r2'])"
   ]
  },
  {
   "cell_type": "code",
   "execution_count": 12,
   "id": "1ef0ba3b",
   "metadata": {},
   "outputs": [
    {
     "name": "stdout",
     "output_type": "stream",
     "text": [
      "    c0  c1  c2  c3  c4\n",
      "r0   1   4   7  10  13\n",
      "r1   2   5   8  11  14\n",
      "r2   3   6   9  12  15\n"
     ]
    }
   ],
   "source": [
    "print(df)"
   ]
  },
  {
   "cell_type": "code",
   "execution_count": 17,
   "id": "2f3e78a1",
   "metadata": {},
   "outputs": [],
   "source": [
    "# 행 인덱스 재배열로 사용될 변수를 지정\n",
    "new_index = ['r0','r1']\n",
    "new_index2 = ['r3', 'r4', 'r5']\n",
    "new_index3 = ['r0','r1','r2','r3','r4']"
   ]
  },
  {
   "cell_type": "code",
   "execution_count": 18,
   "id": "3b53848f",
   "metadata": {},
   "outputs": [],
   "source": [
    "# 행 인덱스를 ['r0','r1']로 재지정\n",
    "ndf = df.reindex(new_index)"
   ]
  },
  {
   "cell_type": "code",
   "execution_count": 19,
   "id": "4ca27b51",
   "metadata": {
    "scrolled": true
   },
   "outputs": [
    {
     "name": "stdout",
     "output_type": "stream",
     "text": [
      "    c0  c1  c2  c3  c4\n",
      "r0   1   4   7  10  13\n",
      "r1   2   5   8  11  14\n"
     ]
    }
   ],
   "source": [
    "print(ndf)"
   ]
  },
  {
   "cell_type": "code",
   "execution_count": 20,
   "id": "42df2c7d",
   "metadata": {},
   "outputs": [],
   "source": [
    "# 행 인덱스를 ['r3', 'r4', 'r5']로 재지정\n",
    "ndf2 = df.reindex(new_index2)"
   ]
  },
  {
   "cell_type": "code",
   "execution_count": 21,
   "id": "7dd6f7b2",
   "metadata": {},
   "outputs": [
    {
     "name": "stdout",
     "output_type": "stream",
     "text": [
      "    c0  c1  c2  c3  c4\n",
      "r3 NaN NaN NaN NaN NaN\n",
      "r4 NaN NaN NaN NaN NaN\n",
      "r5 NaN NaN NaN NaN NaN\n"
     ]
    }
   ],
   "source": [
    "print(ndf2)"
   ]
  },
  {
   "cell_type": "markdown",
   "id": "91563683",
   "metadata": {},
   "source": [
    "- 새로운 행 인덱스로 재지정 할 경우 원소 값이 없으므로 NaN값이 표기됨"
   ]
  },
  {
   "cell_type": "code",
   "execution_count": 24,
   "id": "1b9f8faf",
   "metadata": {},
   "outputs": [],
   "source": [
    "# 행 인덱스를 ['r0','r1','r2','r3','r4']로 재지정\n",
    "ndf3 = df.reindex(new_index3)"
   ]
  },
  {
   "cell_type": "code",
   "execution_count": 23,
   "id": "cdb30379",
   "metadata": {},
   "outputs": [
    {
     "name": "stdout",
     "output_type": "stream",
     "text": [
      "     c0   c1   c2    c3    c4\n",
      "r0  1.0  4.0  7.0  10.0  13.0\n",
      "r1  2.0  5.0  8.0  11.0  14.0\n",
      "r2  3.0  6.0  9.0  12.0  15.0\n",
      "r3  NaN  NaN  NaN   NaN   NaN\n",
      "r4  NaN  NaN  NaN   NaN   NaN\n"
     ]
    }
   ],
   "source": [
    "print(ndf3)"
   ]
  },
  {
   "cell_type": "markdown",
   "id": "4c224623",
   "metadata": {},
   "source": [
    "#### 부록 - 행이름만 변경 하는 방법 : 행 인덱스 개수가 같아야함"
   ]
  },
  {
   "cell_type": "code",
   "execution_count": 30,
   "id": "e34bdc0c",
   "metadata": {
    "scrolled": true
   },
   "outputs": [],
   "source": [
    "ndf3.index = ['r3', 'r4', 'r5', 'r6', 'r7']"
   ]
  },
  {
   "cell_type": "code",
   "execution_count": 31,
   "id": "db9eb3db",
   "metadata": {
    "scrolled": true
   },
   "outputs": [
    {
     "name": "stdout",
     "output_type": "stream",
     "text": [
      "     c0   c1   c2    c3    c4\n",
      "r3  1.0  4.0  7.0  10.0  13.0\n",
      "r4  2.0  5.0  8.0  11.0  14.0\n",
      "r5  3.0  6.0  9.0  12.0  15.0\n",
      "r6  NaN  NaN  NaN   NaN   NaN\n",
      "r7  NaN  NaN  NaN   NaN   NaN\n"
     ]
    }
   ],
   "source": [
    "print(ndf3)"
   ]
  },
  {
   "cell_type": "markdown",
   "id": "8f3655cf",
   "metadata": {},
   "source": [
    "#### 부록 - 열 순서 변경: columns 옵션 사용"
   ]
  },
  {
   "cell_type": "code",
   "execution_count": 71,
   "id": "fc8745df",
   "metadata": {},
   "outputs": [],
   "source": [
    "ndf4 = ndf3.reindex(columns = ['c2', 'c1', 'c4', 'c0'])"
   ]
  },
  {
   "cell_type": "code",
   "execution_count": 72,
   "id": "247f6597",
   "metadata": {},
   "outputs": [
    {
     "name": "stdout",
     "output_type": "stream",
     "text": [
      "     c2   c1    c4   c0\n",
      "r3  7.0  4.0  13.0  1.0\n",
      "r4  8.0  5.0  14.0  2.0\n",
      "r5  9.0  6.0  15.0  3.0\n",
      "r6  NaN  NaN   NaN  NaN\n",
      "r7  NaN  NaN   NaN  NaN\n"
     ]
    }
   ],
   "source": [
    "print(ndf4)"
   ]
  },
  {
   "cell_type": "markdown",
   "id": "c1313b0e",
   "metadata": {},
   "source": [
    "### 행 인덱스 초기화\n",
    "- set_index()로 컬럼을 인덱스로 지정했던 부분을 다시 원상태로 돌리는 함수(reset_index())\n",
    "- reset_index() 함수를 활용하여 행 인덱스를 정수형 위치 인덱스로 초기화\n",
    "<br><code>정수형 위치 인덱스로 초기화: DataFrame객체.reset_index()</code>\n",
    "\n"
   ]
  },
  {
   "cell_type": "code",
   "execution_count": 33,
   "id": "d40657ee",
   "metadata": {},
   "outputs": [],
   "source": [
    "import pandas as pd\n",
    "\n",
    "# Key:value를 쌍으로 갖는 딕셔너리를 생성. 변수 dict_data에 저장('a': 1, 'b': 2, 'c': 3)\n",
    "dict_data = {'c0': [1, 2, 3], 'c1': [4,5,6], 'c2': [7,8,9], 'c3': [10,11,12], 'c4':[13,14,15]}\n",
    "\n",
    "# 판다스 DataFrame() 함수로 딕셔너리를 데이터프레임으로 변환, 변수 df에 저장\n",
    "df = pd.DataFrame(dict_data, index=['r0', 'r1', 'r2'])"
   ]
  },
  {
   "cell_type": "code",
   "execution_count": 34,
   "id": "efe84b39",
   "metadata": {},
   "outputs": [
    {
     "name": "stdout",
     "output_type": "stream",
     "text": [
      "    c0  c1  c2  c3  c4\n",
      "r0   1   4   7  10  13\n",
      "r1   2   5   8  11  14\n",
      "r2   3   6   9  12  15\n"
     ]
    }
   ],
   "source": [
    "print(df)"
   ]
  },
  {
   "cell_type": "code",
   "execution_count": 35,
   "id": "cb935f04",
   "metadata": {},
   "outputs": [],
   "source": [
    "# 행 인덱스를 정수형으로 초기화\n",
    "ndf = df.reset_index()"
   ]
  },
  {
   "cell_type": "code",
   "execution_count": 36,
   "id": "73824862",
   "metadata": {},
   "outputs": [
    {
     "name": "stdout",
     "output_type": "stream",
     "text": [
      "  index  c0  c1  c2  c3  c4\n",
      "0    r0   1   4   7  10  13\n",
      "1    r1   2   5   8  11  14\n",
      "2    r2   3   6   9  12  15\n"
     ]
    }
   ],
   "source": [
    "print(ndf)"
   ]
  },
  {
   "cell_type": "code",
   "execution_count": 39,
   "id": "b179bc67",
   "metadata": {},
   "outputs": [],
   "source": [
    "ndf2 = ndf.set_index('index')"
   ]
  },
  {
   "cell_type": "code",
   "execution_count": 40,
   "id": "d714768c",
   "metadata": {},
   "outputs": [
    {
     "name": "stdout",
     "output_type": "stream",
     "text": [
      "       c0  c1  c2  c3  c4\n",
      "index                    \n",
      "r0      1   4   7  10  13\n",
      "r1      2   5   8  11  14\n",
      "r2      3   6   9  12  15\n"
     ]
    }
   ],
   "source": [
    "print(ndf2)"
   ]
  },
  {
   "cell_type": "markdown",
   "id": "440934f1",
   "metadata": {},
   "source": [
    "### 행 인덱스를 기준으로 데이터프레임 정렬\n",
    "- sort_index() 함수를 사용하여 행 인덱스를 기준으로 데이터프레임의 값을 정렬: default값 : 오름차순\n",
    " - ascending 옵션을 사용하여 오름차순, 내림차순으로 설정 가능\n",
    "   - True : 오름차순\n",
    "   - False : 내림차순<br>\n",
    "   <code>행 인덱스 기준 정렬: DataFrame객체.sort_index()</code>\n",
    "\n"
   ]
  },
  {
   "cell_type": "code",
   "execution_count": 59,
   "id": "7d368021",
   "metadata": {},
   "outputs": [],
   "source": [
    "import pandas as pd\n",
    "\n",
    "# Key:value를 쌍으로 갖는 딕셔너리를 생성. 변수 dict_data에 저장('a': 1, 'b': 2, 'c': 3)\n",
    "dict_data = {'c0': [1, 2, 3], 'c1': [6,4,5], 'c2': [7,8,9], 'c3': [10,11,12], 'c4':[13,14,15]}\n",
    "\n",
    "# 판다스 DataFrame() 함수로 딕셔너리를 데이터프레임으로 변환, 변수 df에 저장\n",
    "df = pd.DataFrame(dict_data, index=['r0', 'r3', 'r2'])"
   ]
  },
  {
   "cell_type": "code",
   "execution_count": 60,
   "id": "878fa9aa",
   "metadata": {},
   "outputs": [
    {
     "name": "stdout",
     "output_type": "stream",
     "text": [
      "    c0  c1  c2  c3  c4\n",
      "r0   1   6   7  10  13\n",
      "r3   2   4   8  11  14\n",
      "r2   3   5   9  12  15\n"
     ]
    }
   ],
   "source": [
    "print(df)"
   ]
  },
  {
   "cell_type": "code",
   "execution_count": 61,
   "id": "56b3b3b4",
   "metadata": {},
   "outputs": [],
   "source": [
    "# 내림차순으로 행 인덱스 정렬\n",
    "ndf = df.sort_index(ascending=False)"
   ]
  },
  {
   "cell_type": "code",
   "execution_count": 62,
   "id": "ad51f6ad",
   "metadata": {},
   "outputs": [
    {
     "name": "stdout",
     "output_type": "stream",
     "text": [
      "    c0  c1  c2  c3  c4\n",
      "r3   2   4   8  11  14\n",
      "r2   3   5   9  12  15\n",
      "r0   1   6   7  10  13\n"
     ]
    }
   ],
   "source": [
    "print(ndf)"
   ]
  },
  {
   "cell_type": "code",
   "execution_count": 63,
   "id": "45c59c78",
   "metadata": {},
   "outputs": [],
   "source": [
    "# 오름차순으로 행 인덱스 정렬\n",
    "ndf2 = ndf.sort_index(ascending=True)"
   ]
  },
  {
   "cell_type": "code",
   "execution_count": 64,
   "id": "eaab6c51",
   "metadata": {},
   "outputs": [
    {
     "name": "stdout",
     "output_type": "stream",
     "text": [
      "    c0  c1  c2  c3  c4\n",
      "r0   1   6   7  10  13\n",
      "r2   3   5   9  12  15\n",
      "r3   2   4   8  11  14\n"
     ]
    }
   ],
   "source": [
    "print(ndf2)"
   ]
  },
  {
   "cell_type": "markdown",
   "id": "4e1e6e78",
   "metadata": {},
   "source": [
    "### 특정 열의 데이터 값을 기준으로 데이터프레임 정렬: 열을 기준으로 행 인덱스를 오름차순 내림차순으로 바꿔줌\n",
    "- sort_values() 함수를 사용하여 특정 열의 데이터를 기준으로 데이터프레임의 값을 정렬- default값 : 오름차순\n",
    " - ascending 옵션을 사용하여 오름차순, 내림차순으로 설정 가능\n",
    "   - True : 오름차순\n",
    "   - False : 내림차순<br>\n",
    "   <code>열 기준 정렬: DataFrame객체.sort_values()</code>"
   ]
  },
  {
   "cell_type": "markdown",
   "id": "1c6dd08b",
   "metadata": {},
   "source": [
    "열 기준 정렬 예제"
   ]
  },
  {
   "cell_type": "code",
   "execution_count": 69,
   "id": "473f0732",
   "metadata": {},
   "outputs": [],
   "source": [
    "# c1 열을 기준으로 내림차순 정렬\n",
    "ndf2 = df.sort_values(by='c2', ascending=False)"
   ]
  },
  {
   "cell_type": "code",
   "execution_count": 70,
   "id": "4056153f",
   "metadata": {},
   "outputs": [
    {
     "name": "stdout",
     "output_type": "stream",
     "text": [
      "    c0  c1  c2  c3  c4\n",
      "r2   3   5   9  12  15\n",
      "r3   2   4   8  11  14\n",
      "r0   1   6   7  10  13\n"
     ]
    }
   ],
   "source": [
    "print(ndf2)"
   ]
  },
  {
   "cell_type": "markdown",
   "id": "e2293e30",
   "metadata": {},
   "source": [
    "---\n",
    "# 외부파일 읽어오기\n",
    "- 판다스는 다양한 형태의 외부 파일을 읽어와 데이터프레임으로 변환하는 함수 제공\n",
    "- 어떤 파일이든 판다스 객체인 데이터프레임으로 변환되면 판다스의 모든 함수와 기능을 자유롭게 사용 가능\n",
    "- 데이터 프레임을 다양한 유형의 파일로 저장 가능\n",
    " - CSV, JSON, HTML, MS Excel, SQL, ... 등등\n",
    " "
   ]
  },
  {
   "cell_type": "markdown",
   "id": "1d45cf4a",
   "metadata": {},
   "source": [
    "## CSV 파일(comma-separated values의 약자)\n",
    "- 데이터 값을 콤마(,)로 구분하고 있다는 의미를 가진 파일\n",
    "- CSV 파일을 -> 데이터프레임<br> 전환하는 방법<br>\n",
    "<code>pandas.read_csv(\"파일경로(이름).csv\")</code>\n",
    "\n"
   ]
  },
  {
   "cell_type": "code",
   "execution_count": 84,
   "id": "c22c5f53",
   "metadata": {},
   "outputs": [
    {
     "name": "stdout",
     "output_type": "stream",
     "text": [
      "./read_test.csv\n"
     ]
    }
   ],
   "source": [
    "import pandas as pd\n",
    "\n",
    "# 파일 경로를 찾고, 변수 file_path에 저장\n",
    "file_path = './read_test.csv'\n",
    "print(file_path)"
   ]
  },
  {
   "cell_type": "code",
   "execution_count": 74,
   "id": "a5712d44",
   "metadata": {},
   "outputs": [
    {
     "name": "stdout",
     "output_type": "stream",
     "text": [
      "   c0  c1  c2  c3\n",
      "0   0   1   4   7\n",
      "1   1   2   5   8\n",
      "2   2   3   6   9\n"
     ]
    }
   ],
   "source": [
    "# read_csv() 함수로 데이터프레임 변환, 변수 df1에 저장\n",
    "df1 = pd.read_csv(file_path)\n",
    "print(df1)"
   ]
  },
  {
   "cell_type": "code",
   "execution_count": 76,
   "id": "5cf27a67",
   "metadata": {},
   "outputs": [
    {
     "name": "stdout",
     "output_type": "stream",
     "text": [
      "    0   1   2   3\n",
      "0  c0  c1  c2  c3\n",
      "1   0   1   4   7\n",
      "2   1   2   5   8\n",
      "3   2   3   6   9\n"
     ]
    }
   ],
   "source": [
    "# read_csv() 함수로 데이터프레임 변환, 변수 df2에 저장, header = None 옵션 사용\n",
    "df2 = pd.read_csv(file_path, header = None)\n",
    "print(df2)"
   ]
  },
  {
   "cell_type": "code",
   "execution_count": 80,
   "id": "2d688830",
   "metadata": {
    "scrolled": true
   },
   "outputs": [
    {
     "name": "stdout",
     "output_type": "stream",
     "text": [
      "   c0  c1  c2  c3\n",
      "0   0   1   4   7\n",
      "1   1   2   5   8\n",
      "2   2   3   6   9\n"
     ]
    }
   ],
   "source": [
    "# read_csv() 함수로 데이터프레임 변환, 변수 df2에 저장, index_col = None 옵션 사용 == 헤더를 없애줌\n",
    "df3 = pd.read_csv(file_path, index_col = None)\n",
    "print(df3)"
   ]
  },
  {
   "cell_type": "code",
   "execution_count": 78,
   "id": "805f54a6",
   "metadata": {
    "scrolled": true
   },
   "outputs": [
    {
     "name": "stdout",
     "output_type": "stream",
     "text": [
      "    c1  c2  c3\n",
      "c0            \n",
      "0    1   4   7\n",
      "1    2   5   8\n",
      "2    3   6   9\n"
     ]
    }
   ],
   "source": [
    "# read_csv() 함수로 데이터프레임 변환, 변수 df2에 저장, index_col = 'c0' 옵션 사용\n",
    "df4 = pd.read_csv(file_path, index_col = 'c0')\n",
    "print(df4)"
   ]
  },
  {
   "cell_type": "markdown",
   "id": "74d0553a",
   "metadata": {},
   "source": [
    "## Excel 파일\n",
    "- Excel 파일(확장자.xlsx)의 행과 열은 데이터프레임의 행, 열로 일대일 대응함\n",
    "- Excel 파일 -> 데이터프레임<br>\n",
    "<code>pandas.read_excel(\"파일경로(이름).xlsx\")</code>\n",
    "\n",
    "\n",
    "파일명 : 남북한발전전력량.xlsx<br>\n",
    "자료 출처 : KOSIS(통계청), 2021.09.30"
   ]
  },
  {
   "cell_type": "code",
   "execution_count": 81,
   "id": "bc39dc18",
   "metadata": {},
   "outputs": [],
   "source": [
    "import pandas as pd\n",
    "\n",
    "# read_xlsx() 함수로 데이터프레임 변환\n",
    "df1 = pd.read_excel('./남북한발전전력량.xlsx')\n",
    "df2 = pd.read_excel('./남북한발전전력량.xlsx', header = None)"
   ]
  },
  {
   "cell_type": "code",
   "execution_count": 82,
   "id": "8f90756f",
   "metadata": {
    "scrolled": true
   },
   "outputs": [
    {
     "name": "stdout",
     "output_type": "stream",
     "text": [
      "  전력량 (억㎾h) 발전 전력별  1990  1991  1992  1993  1994  1995  1996  1997  ...  2007  \\\n",
      "0        남한     합계  1077  1186  1310  1444  1650  1847  2055  2244  ...  4031   \n",
      "1       NaN     수력    64    51    49    60    41    55    52    54  ...    50   \n",
      "2       NaN     화력   484   573   696   803  1022  1122  1264  1420  ...  2551   \n",
      "3       NaN    원자력   529   563   565   581   587   670   739   771  ...  1429   \n",
      "4       NaN    신재생     -     -     -     -     -     -     -     -  ...     -   \n",
      "5        북한     합계   277   263   247   221   231   230   213   193  ...   236   \n",
      "6       NaN     수력   156   150   142   133   138   142   125   107  ...   133   \n",
      "7       NaN     화력   121   113   105    88    93    88    88    86  ...   103   \n",
      "8       NaN    원자력     -     -     -     -     -     -     -     -  ...     -   \n",
      "\n",
      "   2008  2009  2010  2011  2012  2013  2014  2015  2016  \n",
      "0  4224  4336  4747  4969  5096  5171  5220  5281  5404  \n",
      "1    56    56    65    78    77    84    78    58    66  \n",
      "2  2658  2802  3196  3343  3430  3581  3427  3402  3523  \n",
      "3  1510  1478  1486  1547  1503  1388  1564  1648  1620  \n",
      "4     -     -     -     -    86   118   151   173   195  \n",
      "5   255   235   237   211   215   221   216   190   239  \n",
      "6   141   125   134   132   135   139   130   100   128  \n",
      "7   114   110   103    79    80    82    86    90   111  \n",
      "8     -     -     -     -     -     -     -     -     -  \n",
      "\n",
      "[9 rows x 29 columns]\n"
     ]
    }
   ],
   "source": [
    "print(df1)"
   ]
  },
  {
   "cell_type": "code",
   "execution_count": 83,
   "id": "1711ac07",
   "metadata": {
    "scrolled": true
   },
   "outputs": [
    {
     "name": "stdout",
     "output_type": "stream",
     "text": [
      "          0       1     2     3     4     5     6     7     8     9   ...  \\\n",
      "0  전력량 (억㎾h)  발전 전력별  1990  1991  1992  1993  1994  1995  1996  1997  ...   \n",
      "1         남한      합계  1077  1186  1310  1444  1650  1847  2055  2244  ...   \n",
      "2        NaN      수력    64    51    49    60    41    55    52    54  ...   \n",
      "3        NaN      화력   484   573   696   803  1022  1122  1264  1420  ...   \n",
      "4        NaN     원자력   529   563   565   581   587   670   739   771  ...   \n",
      "5        NaN     신재생     -     -     -     -     -     -     -     -  ...   \n",
      "6         북한      합계   277   263   247   221   231   230   213   193  ...   \n",
      "7        NaN      수력   156   150   142   133   138   142   125   107  ...   \n",
      "8        NaN      화력   121   113   105    88    93    88    88    86  ...   \n",
      "9        NaN     원자력     -     -     -     -     -     -     -     -  ...   \n",
      "\n",
      "     19    20    21    22    23    24    25    26    27    28  \n",
      "0  2007  2008  2009  2010  2011  2012  2013  2014  2015  2016  \n",
      "1  4031  4224  4336  4747  4969  5096  5171  5220  5281  5404  \n",
      "2    50    56    56    65    78    77    84    78    58    66  \n",
      "3  2551  2658  2802  3196  3343  3430  3581  3427  3402  3523  \n",
      "4  1429  1510  1478  1486  1547  1503  1388  1564  1648  1620  \n",
      "5     -     -     -     -     -    86   118   151   173   195  \n",
      "6   236   255   235   237   211   215   221   216   190   239  \n",
      "7   133   141   125   134   132   135   139   130   100   128  \n",
      "8   103   114   110   103    79    80    82    86    90   111  \n",
      "9     -     -     -     -     -     -     -     -     -     -  \n",
      "\n",
      "[10 rows x 29 columns]\n"
     ]
    }
   ],
   "source": [
    "print(df2)"
   ]
  },
  {
   "cell_type": "markdown",
   "id": "d7422ef0",
   "metadata": {},
   "source": [
    "- xlsx 파일을 읽어오지 못할 경우 read_excel() 함수 옵션으로 engine = 'openpyxl'\n",
    " - df2 = pd.read_excel('./남북한발전전력량.xlsx', engine = 'openpyxl')\n",
    " - openpyxl이 안써지면 !pip install openpyxl"
   ]
  },
  {
   "cell_type": "markdown",
   "id": "ada4d943",
   "metadata": {},
   "source": [
    "## jSON 파일\n",
    "- jSON 파일(확장자.json)은 데이터 공유 목적으로 개발된 특수한 파일 형식\n",
    "- 파이썬 딕셔너리와 비슷하게 'Key:value' 구조를 가짐<br>\n",
    "<code>pandas.read_json(\"파일경로(이름).json\")</code>\n"
   ]
  },
  {
   "cell_type": "code",
   "execution_count": 85,
   "id": "f2dfe163",
   "metadata": {},
   "outputs": [],
   "source": [
    "import pandas as pd\n",
    "\n",
    "# read_json() 함수로 데이터프레임 변환\n",
    "df = pd.read_json('./read_test.json')"
   ]
  },
  {
   "cell_type": "code",
   "execution_count": 86,
   "id": "e57c1449",
   "metadata": {},
   "outputs": [
    {
     "name": "stdout",
     "output_type": "stream",
     "text": [
      "           name  year        developer opensource\n",
      "pandas           2008    Wes Mckinneye       True\n",
      "NumPy            2006  Travis Oliphant       True\n",
      "matplotlib       2003   John D. Hunter       True\n"
     ]
    }
   ],
   "source": [
    "print(df)"
   ]
  },
  {
   "cell_type": "markdown",
   "id": "f50626b1",
   "metadata": {},
   "source": [
    "---"
   ]
  },
  {
   "cell_type": "markdown",
   "id": "6478b419",
   "metadata": {},
   "source": [
    "# 산술 연산\n",
    "- 판다스 객체의 산술연산 3단계 프로세스(내부)\n",
    "1. 행/열 인덱스를 기준으로 모든 원소를 정렬\n",
    "2. 일대일 대응되는 원소끼리 연산\n",
    "3. 대응되는 원소가 없다면 NaN"
   ]
  },
  {
   "cell_type": "markdown",
   "id": "f5240414",
   "metadata": {},
   "source": [
    "## 시리즈 연산\n",
    "#### 시리즈 vs 숫자\n",
    "- 시리즈 객체에 연산을 하면 계산된 결과를 시리즈 객체로 반환<br>\n",
    "<code>시리즈와 숫자 연산: Series객체 + 연산자(+. -, *, /) + 숫자<code>\n"
   ]
  },
  {
   "cell_type": "markdown",
   "id": "9406f9ea",
   "metadata": {},
   "source": [
    "#### 시리즈를 숫자로 나누기 예제"
   ]
  },
  {
   "cell_type": "code",
   "execution_count": 88,
   "id": "16fcc76a",
   "metadata": {},
   "outputs": [],
   "source": [
    "import pandas as pd\n",
    "\n",
    "# 딕셔너리 데이터로 판다스 시리즈 만들기\n",
    "student1 = pd.Series({'국어':100, '영어':80, '수학':90})"
   ]
  },
  {
   "cell_type": "code",
   "execution_count": 89,
   "id": "1131aefd",
   "metadata": {},
   "outputs": [
    {
     "name": "stdout",
     "output_type": "stream",
     "text": [
      "국어    100\n",
      "영어     80\n",
      "수학     90\n",
      "dtype: int64\n"
     ]
    }
   ],
   "source": [
    "print(student1)"
   ]
  },
  {
   "cell_type": "code",
   "execution_count": 90,
   "id": "164ff572",
   "metadata": {},
   "outputs": [],
   "source": [
    "# 학생의 과목별 점수를 100으로 나누기\n",
    "percentage = student1 / 100"
   ]
  },
  {
   "cell_type": "code",
   "execution_count": 91,
   "id": "dc229c50",
   "metadata": {},
   "outputs": [
    {
     "name": "stdout",
     "output_type": "stream",
     "text": [
      "국어    1.0\n",
      "영어    0.8\n",
      "수학    0.9\n",
      "dtype: float64\n"
     ]
    }
   ],
   "source": [
    "print(percentage)"
   ]
  },
  {
   "cell_type": "markdown",
   "id": "de648e82",
   "metadata": {},
   "source": [
    "#### 시리즈 vs 시리즈<br>\n",
    "<code>시리즈와 시리즈 연산: Series객체1 + 연산자(+. -, *, /) + Series객체2<code>"
   ]
  },
  {
   "cell_type": "code",
   "execution_count": 97,
   "id": "38bd34a7",
   "metadata": {},
   "outputs": [],
   "source": [
    "import pandas as pd\n",
    "\n",
    "# 딕셔너리 데이터로 판다스 시리즈 만들기\n",
    "student1 = pd.Series({'국어':100, '영어':80, '수학':90})\n",
    "student2 = pd.Series({'국어':80, '영어':90, '수학':80})\n",
    "\n",
    "# 두 학생의 과목별 점수로 사칙연산 수행\n",
    "addition = student1 + student2\n",
    "subtraction = student1 - student2\n",
    "multiplication =  student1 * student2\n",
    "division =  student1 / student2\n",
    "\n",
    "# 사칙연산 결과를 데이터프레임으로 합치기(시리즈 -> 데이터프레임)\n",
    "result = pd.DataFrame([addition, subtraction, multiplication, division],\n",
    "                     index = ['덧셈', '뺄셈', '곱셈', '나눗셈'])"
   ]
  },
  {
   "cell_type": "code",
   "execution_count": 98,
   "id": "85a1bf46",
   "metadata": {},
   "outputs": [
    {
     "name": "stdout",
     "output_type": "stream",
     "text": [
      "          국어           영어        수학\n",
      "덧셈    180.00   170.000000   170.000\n",
      "뺄셈     20.00   -10.000000    10.000\n",
      "곱셈   8000.00  7200.000000  7200.000\n",
      "나눗셈     1.25     0.888889     1.125\n"
     ]
    }
   ],
   "source": [
    "print(result)"
   ]
  },
  {
   "cell_type": "markdown",
   "id": "2400c30e",
   "metadata": {},
   "source": [
    "- 시리즈의 인덱스에 해당하는 부분이 데이터프레임의 열자리에 오게 됨"
   ]
  },
  {
   "cell_type": "markdown",
   "id": "b0999c97",
   "metadata": {},
   "source": [
    "### NaN 사용하기위한 numpy 사용"
   ]
  },
  {
   "cell_type": "code",
   "execution_count": 101,
   "id": "f87ec163",
   "metadata": {},
   "outputs": [],
   "source": [
    "import pandas as pd\n",
    "import numpy as np\n",
    "\n",
    "# 딕셔너리 데이터로 판다스 시리즈 만들기\n",
    "student1 = pd.Series({'국어':np.nan, '영어':80, '수학':90})\n",
    "student2 = pd.Series({'국어':80, '영어':90, '수학':80})\n",
    "\n",
    "# 두 학생의 과목별 점수로 사칙연산 수행\n",
    "addition = student1 + student2\n",
    "subtraction = student1 - student2\n",
    "multiplication =  student1 * student2\n",
    "division =  student1 / student2\n",
    "\n",
    "# 사칙연산 결과를 데이터프레임으로 합치기(시리즈 -> 데이터프레임)\n",
    "result = pd.DataFrame([addition, subtraction, multiplication, division],\n",
    "                     index = ['덧셈', '뺄셈', '곱셈', '나눗셈'])"
   ]
  },
  {
   "cell_type": "code",
   "execution_count": 103,
   "id": "51eb7e5b",
   "metadata": {},
   "outputs": [
    {
     "name": "stdout",
     "output_type": "stream",
     "text": [
      "국어     NaN\n",
      "영어    80.0\n",
      "수학    90.0\n",
      "dtype: float64\n"
     ]
    }
   ],
   "source": [
    "print(student1)"
   ]
  },
  {
   "cell_type": "code",
   "execution_count": 104,
   "id": "70df6017",
   "metadata": {},
   "outputs": [
    {
     "name": "stdout",
     "output_type": "stream",
     "text": [
      "     국어           영어        수학\n",
      "덧셈  NaN   170.000000   170.000\n",
      "뺄셈  NaN   -10.000000    10.000\n",
      "곱셈  NaN  7200.000000  7200.000\n",
      "나눗셈 NaN     0.888889     1.125\n"
     ]
    }
   ],
   "source": [
    "print(result)"
   ]
  },
  {
   "cell_type": "markdown",
   "id": "cb97f55b",
   "metadata": {},
   "source": [
    "## 연산 메소드\n",
    "- 연산 결과가 NaN으로 반환되지 않도록 하기 위해 연산 메소드에 fill_value 옵션을 설정하여 적용<br>\n",
    "<code>연산 메소드 사용(시리즈와 시리즈 덧셈): Series객체1.add(Series객체2, fill_value=0)"
   ]
  },
  {
   "cell_type": "code",
   "execution_count": 109,
   "id": "b1db5e5b",
   "metadata": {},
   "outputs": [],
   "source": [
    "import pandas as pd\n",
    "import numpy as np\n",
    "\n",
    "# 딕셔너리 데이터로 판다스 시리즈 만들기\n",
    "student1 = pd.Series({'국어':np.nan, '영어':80, '수학':90})\n",
    "student2 = pd.Series({'국어':80, '수학':80})\n",
    "\n",
    "# 두 학생의 과목별 점수로 사칙연산 수행\n",
    "sr_add = student1.add(student2, fill_value=0)\n",
    "sr_sub = student1.sub(student2, fill_value=0)\n",
    "sr_mul =  student1.mul(student2, fill_value=0)\n",
    "sr_div =  student1.div(student2, fill_value=0)\n",
    "\n",
    "# 사칙연산 결과를 데이터프레임으로 합치기(시리즈 -> 데이터프레임)\n",
    "result = pd.DataFrame([sr_add,sr_sub,sr_mul,sr_div],\n",
    "                     index = ['덧셈', '뺄셈', '곱셈', '나눗셈'])"
   ]
  },
  {
   "cell_type": "code",
   "execution_count": 110,
   "id": "f16ce596",
   "metadata": {},
   "outputs": [
    {
     "name": "stdout",
     "output_type": "stream",
     "text": [
      "       국어        수학    영어\n",
      "덧셈   80.0   170.000  80.0\n",
      "뺄셈  -80.0    10.000  80.0\n",
      "곱셈    0.0  7200.000   0.0\n",
      "나눗셈   0.0     1.125   inf\n"
     ]
    }
   ],
   "source": [
    "print(result)"
   ]
  },
  {
   "cell_type": "markdown",
   "id": "759463db",
   "metadata": {},
   "source": [
    "- 0으로 나누면 inf 는 무한이라는 값으로 표시"
   ]
  },
  {
   "cell_type": "markdown",
   "id": "d1c0ca73",
   "metadata": {},
   "source": [
    "## 데이터 프레임 연산\n",
    "- 데이터프레임은 여러 시리즈가 한데 모인 것\n",
    "- 행/열 인덱스를 정렬하고 일대일 대응되는 원소끼리 연산 처리"
   ]
  },
  {
   "cell_type": "markdown",
   "id": "13c3788c",
   "metadata": {},
   "source": [
    "데이터프레임 vs 숫자<br>\n",
    "<code>데이터프레임과 숫자 연사: DataFrame객체 + 연산자(+, -, *, /) + 숫자<code>"
   ]
  },
  {
   "cell_type": "markdown",
   "id": "0f639528",
   "metadata": {},
   "source": [
    "#### 데이터프레임에 숫자 더하기 예제"
   ]
  },
  {
   "cell_type": "code",
   "execution_count": 111,
   "id": "910a0a20",
   "metadata": {},
   "outputs": [],
   "source": [
    "import pandas as pd\n",
    "import seaborn as sns # 데이터셋 사용하기위함\n",
    "\n",
    "# titanic 데이터셋에서 age, fare 2개 열을 선택하여 데이터프레임 만들기\n",
    "titanic = sns.load_dataset('titanic') \n",
    "df = titanic.loc[:, ['age', 'fare']]"
   ]
  },
  {
   "cell_type": "code",
   "execution_count": 115,
   "id": "93d36e8e",
   "metadata": {},
   "outputs": [
    {
     "name": "stdout",
     "output_type": "stream",
     "text": [
      "    age     fare\n",
      "0  22.0   7.2500\n",
      "1  38.0  71.2833\n",
      "2  26.0   7.9250\n",
      "3  35.0  53.1000\n",
      "4  35.0   8.0500\n"
     ]
    }
   ],
   "source": [
    "# 첫 5행만 표시\n",
    "print(df.head())"
   ]
  },
  {
   "cell_type": "code",
   "execution_count": 116,
   "id": "ed7fede2",
   "metadata": {},
   "outputs": [],
   "source": [
    "# 데이터프레임에 숫자 10 더하기\n",
    "addition = df + 10"
   ]
  },
  {
   "cell_type": "code",
   "execution_count": 117,
   "id": "ab6b5d1c",
   "metadata": {},
   "outputs": [
    {
     "name": "stdout",
     "output_type": "stream",
     "text": [
      "    age     fare\n",
      "0  32.0  17.2500\n",
      "1  48.0  81.2833\n",
      "2  36.0  17.9250\n",
      "3  45.0  63.1000\n",
      "4  45.0  18.0500\n"
     ]
    }
   ],
   "source": [
    "print(addition.head())"
   ]
  },
  {
   "cell_type": "markdown",
   "id": "7bb57748",
   "metadata": {},
   "source": [
    "#### 데이터프레임 vs 데이터프레임\n",
    "- 각 데이터 프레임의 같은 행, 같은 열 위치에 있는 원소끼리 계산\n",
    "- 데이터프레임에서 어느 한 쪽에 원소가 존재하지 않거나 NaN이면 연산결과로 NaN으로 처리됨<br>\n",
    "<code>데이터프레임의 연산자 활용: DataFrame객체1 + 연산자(+, -, *, /) + DataFrame객체2<code>"
   ]
  },
  {
   "cell_type": "code",
   "execution_count": 118,
   "id": "ae332ac8",
   "metadata": {},
   "outputs": [],
   "source": [
    "import pandas as pd\n",
    "import seaborn as sns # 데이터셋 사용하기위함\n",
    "\n",
    "# titanic 데이터셋에서 age, fare 2개 열을 선택하여 데이터프레임 만들기\n",
    "titanic = sns.load_dataset('titanic') \n",
    "df = titanic.loc[:, ['age', 'fare']]\n",
    "\n",
    "# 데이터프레임에 숫자 10 더하기\n",
    "addition = df + 10"
   ]
  },
  {
   "cell_type": "code",
   "execution_count": 119,
   "id": "f19fc03f",
   "metadata": {},
   "outputs": [],
   "source": [
    "# 데이터 프레임끼리 연산하기\n",
    "subtraction = addition - df"
   ]
  },
  {
   "cell_type": "code",
   "execution_count": 121,
   "id": "2a1bfba5",
   "metadata": {},
   "outputs": [
    {
     "name": "stdout",
     "output_type": "stream",
     "text": [
      "    age  fare\n",
      "0  10.0  10.0\n",
      "1  10.0  10.0\n",
      "2  10.0  10.0\n",
      "3  10.0  10.0\n",
      "4  10.0  10.0\n"
     ]
    }
   ],
   "source": [
    "print(subtraction.head())"
   ]
  },
  {
   "cell_type": "code",
   "execution_count": 122,
   "id": "0bdd49e1",
   "metadata": {},
   "outputs": [
    {
     "name": "stdout",
     "output_type": "stream",
     "text": [
      "      age  fare\n",
      "886  10.0  10.0\n",
      "887  10.0  10.0\n",
      "888   NaN  10.0\n",
      "889  10.0  10.0\n",
      "890  10.0  10.0\n"
     ]
    }
   ],
   "source": [
    "print(subtraction.tail())"
   ]
  },
  {
   "cell_type": "markdown",
   "id": "6125b145",
   "metadata": {},
   "source": [
    "### 데이터프레임 연산에서 NaN 처리하기 예제 - 첫번째방법"
   ]
  },
  {
   "cell_type": "code",
   "execution_count": 136,
   "id": "d04600f8",
   "metadata": {},
   "outputs": [],
   "source": [
    "import pandas as pd\n",
    "import seaborn as sns # 데이터셋 사용하기위함\n",
    "\n",
    "# titanic 데이터셋에서 age, fare 2개 열을 선택하여 데이터프레임 만들기\n",
    "titanic = sns.load_dataset('titanic') \n",
    "df = titanic.loc[:, ['age', 'fare']]\n",
    "\n",
    "# 데이터프레임에 숫자 10 더하기\n",
    "df_add = df + 10"
   ]
  },
  {
   "cell_type": "code",
   "execution_count": 127,
   "id": "307fd1fb",
   "metadata": {},
   "outputs": [],
   "source": [
    "# 데이터프레임끼리 연산하기\n",
    "df_sub = addition.sub(df) # 작동안함 fill_value"
   ]
  },
  {
   "cell_type": "code",
   "execution_count": 132,
   "id": "0f9efbb8",
   "metadata": {},
   "outputs": [],
   "source": [
    "df_sub.ffill(inplace = True)"
   ]
  },
  {
   "cell_type": "markdown",
   "id": "ebd4894b",
   "metadata": {},
   "source": [
    "- ffill() 함수 사용시 이전 연산에 대한 결과값을 NaN 대신 출력"
   ]
  },
  {
   "cell_type": "code",
   "execution_count": 133,
   "id": "921af9e0",
   "metadata": {},
   "outputs": [
    {
     "name": "stdout",
     "output_type": "stream",
     "text": [
      "      age  fare\n",
      "886  10.0  10.0\n",
      "887  10.0  10.0\n",
      "888  10.0  10.0\n",
      "889  10.0  10.0\n",
      "890  10.0  10.0\n"
     ]
    }
   ],
   "source": [
    "print(df_sub.tail())"
   ]
  },
  {
   "cell_type": "markdown",
   "id": "32348594",
   "metadata": {},
   "source": [
    "### 데이터프레임 연산에서 NaN 처리하기 예제 - 두번째방법"
   ]
  },
  {
   "cell_type": "code",
   "execution_count": 142,
   "id": "ae4cfd1f",
   "metadata": {},
   "outputs": [],
   "source": [
    "import pandas as pd\n",
    "import seaborn as sns # 데이터셋 사용하기위함\n",
    "\n",
    "# titanic 데이터셋에서 age, fare 2개 열을 선택하여 데이터프레임 만들기\n",
    "titanic = sns.load_dataset('titanic') \n",
    "df = titanic.loc[:, ['age', 'fare']]\n",
    "\n",
    "# 데이터프레임에 NaN을 0으로 바꾸기 함수\n",
    "df.fillna(0, inplace=True)\n",
    "\n",
    "# 데이터프레임에 숫자 10 더하기\n",
    "addition = df + 10"
   ]
  },
  {
   "cell_type": "code",
   "execution_count": 143,
   "id": "4e597671",
   "metadata": {},
   "outputs": [
    {
     "name": "stdout",
     "output_type": "stream",
     "text": [
      "      age     fare\n",
      "0    32.0  17.2500\n",
      "1    48.0  81.2833\n",
      "2    36.0  17.9250\n",
      "3    45.0  63.1000\n",
      "4    45.0  18.0500\n",
      "..    ...      ...\n",
      "886  37.0  23.0000\n",
      "887  29.0  40.0000\n",
      "888  10.0  33.4500\n",
      "889  36.0  40.0000\n",
      "890  42.0  17.7500\n",
      "\n",
      "[891 rows x 2 columns]\n"
     ]
    }
   ],
   "source": [
    "print(addition)"
   ]
  },
  {
   "cell_type": "code",
   "execution_count": null,
   "id": "ea1b2fc5",
   "metadata": {},
   "outputs": [],
   "source": []
  },
  {
   "cell_type": "code",
   "execution_count": null,
   "id": "1863226d",
   "metadata": {},
   "outputs": [],
   "source": []
  }
 ],
 "metadata": {
  "kernelspec": {
   "display_name": "Python 3 (ipykernel)",
   "language": "python",
   "name": "python3"
  },
  "language_info": {
   "codemirror_mode": {
    "name": "ipython",
    "version": 3
   },
   "file_extension": ".py",
   "mimetype": "text/x-python",
   "name": "python",
   "nbconvert_exporter": "python",
   "pygments_lexer": "ipython3",
   "version": "3.9.7"
  }
 },
 "nbformat": 4,
 "nbformat_minor": 5
}
