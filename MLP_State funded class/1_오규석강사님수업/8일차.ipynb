{
 "cells": [
  {
   "cell_type": "markdown",
   "id": "f0aa125f",
   "metadata": {},
   "source": [
    "csv 파일\n",
    "\n",
    "- 엑셀 파일과 매우 유사\n",
    " - 어디서나 사용할 수 있는 텍스트 데이터를 사용\n",
    "- xlsx(엑셀) 파일과 다른 점\n",
    " - 엑셀 파일은 MS 오피스에서만 동작\n",
    "- csv 파일 만든 후 다음 xlsx 파일로 변환 후 사용하면 됨"
   ]
  },
  {
   "cell_type": "markdown",
   "id": "617919da",
   "metadata": {},
   "source": [
    "csv 파일 만들기 예제"
   ]
  },
  {
   "cell_type": "code",
   "execution_count": 1,
   "id": "17fe4102",
   "metadata": {},
   "outputs": [],
   "source": [
    "header = \",\".join([\"name\", \"age\", \"email\"])"
   ]
  },
  {
   "cell_type": "code",
   "execution_count": 2,
   "id": "448fcfa6",
   "metadata": {},
   "outputs": [
    {
     "name": "stdout",
     "output_type": "stream",
     "text": [
      "name,age,email\n"
     ]
    }
   ],
   "source": [
    "print(header)"
   ]
  },
  {
   "cell_type": "markdown",
   "id": "18e6578e",
   "metadata": {},
   "source": [
    "- 텍스트 기반의 데이터를 csv 파일로 저장하기 위해서는 데이터가 ,(쉼표)로 구분지어 있어야 함\n",
    "- 쉼표가 셀을 구분 지어주는 역할"
   ]
  },
  {
   "cell_type": "code",
   "execution_count": 5,
   "id": "ac2bec7c",
   "metadata": {},
   "outputs": [],
   "source": [
    "f = open(\"test.csv\", \"w\")\n",
    "f.write(header)\n",
    "f.close()"
   ]
  },
  {
   "cell_type": "markdown",
   "id": "5b4af70e",
   "metadata": {},
   "source": [
    "예제용 csv 파일 100개, 1초 만에 만들어보기"
   ]
  },
  {
   "cell_type": "code",
   "execution_count": 12,
   "id": "0d839ebf",
   "metadata": {
    "scrolled": true
   },
   "outputs": [
    {
     "name": "stdout",
     "output_type": "stream",
     "text": [
      "작업을 시작합니다.\n",
      "작업이 끝났습니다.\n",
      "작업 시간이0.05190587043762207초 걸렸습니다.\n"
     ]
    }
   ],
   "source": [
    "import time\n",
    "import random\n",
    "import os\n",
    "\n",
    "# 작업 시작 메시지를 출력\n",
    "print(\"작업을 시작합니다.\")\n",
    "\n",
    "# 시작 지점의 시간을 기록\n",
    "start_time = time.time()\n",
    "\n",
    "# 파일의 개수를 지정\n",
    "FILE_NUMBER = 100\n",
    "\n",
    "# 이메일 생성에 사용할 샘플 글자 정의\n",
    "alphabet_samples = \"abcdefghijklmnopqrstuvwxyz1234567890\"\n",
    "\n",
    "# 이름 샘플 지정\n",
    "first_name_samples = \"이정최임김지장정허안황유고조박원오신전\"\n",
    "middle_name_samples = \"재세진소원광정영인태정지\"\n",
    "last_name_samples = \"헌영석진열수신서환재혜\"\n",
    "\n",
    "# 나이와 핸드폰 번호 생성에 사용할 샘플 번호 정의\n",
    "int_samples = \"1234567890\"\n",
    "\n",
    "# 무작위로 선택된 영어 글자를 생성하는 함수\n",
    "def random_string(length):\n",
    "    result = \"\"\n",
    "    for i in range(length):\n",
    "        result += random.choice(alphabet_samples) # alphabet_samples = \"abcdefghijklmnopqrstuvwxyz1234567890\"\n",
    "    return result\n",
    "\n",
    "# 무작위 사람 이름을 생성하는 함수\n",
    "def random_name():\n",
    "    result = \"\"\n",
    "    result += random.choice(first_name_samples) # first_name_samples = \"이정최임김지장정허안황유고조박원오신전\"\n",
    "    result += random.choice(middle_name_samples) # middle_name_samples = \"재세진소원광정영인태정지\"\n",
    "    result += random.choice(last_name_samples) # last_name_samples = \"헌영석진열수신서환재혜\"\n",
    "    return result\n",
    "\n",
    "# 무작위로 선택된 숫자(문자열 형태)를 생성하는 함수\n",
    "def random_int(length):\n",
    "    result = \"\"\n",
    "    for i in range(length):\n",
    "        result += random.choice(int_samples) # int_samples = \"1234567890\"\n",
    "    return result\n",
    "\n",
    "# 결과물을 저장할 폴더 생성\n",
    "folder = \"샘플_폴더\"\n",
    "if folder not in os.listdir():\n",
    "    os.mkdir(folder)\n",
    "\n",
    "# 헤더를 정의(맨 윗 행에 들어갈 내용)\n",
    "header = \",\".join([\"name\", \"age\", \"email\", \"division\", \"telephone\", \"sex\"]) + \"\\n\" #이 줄바꿈은 뭘까\n",
    "\n",
    "# 개인정보 파일을 csv 파일로 자동 생성\n",
    "# FILE_NUMBER 수 만큼 반복해서 생성\n",
    "for i in range(FILE_NUMBER):\n",
    "    \n",
    "    # 무작위 사람 이름 생성\n",
    "    name = random_name()\n",
    "    \n",
    "    #파일 이름 정의\n",
    "    filename = \"샘플_폴더/\" + str(i) + \"_\" + name + \".csv\"\n",
    "    # ex) 샘플_폴더/0_이재헌.csv\n",
    "    \n",
    "    # 작성할 파일을 생성, 빈파일 생성\n",
    "    outfile = open(filename, \"w\")\n",
    "    \n",
    "    #파일에 헤더 기재(첫번째 행)\n",
    "    outfile.write(header)\n",
    "    \n",
    "    # 파일에 이름 기재(두번째 행)\n",
    "    outfile.write(name + \",\")\n",
    "    \n",
    "    # 파일에 무작위로 나이를 기재\n",
    "    outfile.write(random_int(2) + \",\")\n",
    "\n",
    "    # 파일에 무작위로 이메일 기재\n",
    "    outfile.write(random_string(8) + \"@gmail.com\" + \",\")\n",
    "    \n",
    "    # 파일에 무작위로 부서 기재\n",
    "    outfile.write(random_string(3) + \",\")\n",
    "    \n",
    "    # 파일에 무작위로 핸드폰 번호 기재\n",
    "    outfile.write(\"010-\" + random_int(4) + \"-\" + random_int(4) + \",\")\n",
    "    \n",
    "    # 파일에 무작위로 성별 기재\n",
    "    outfile.write(random.choice([\"남\", \"여\"]))\n",
    "    \n",
    "    # 파일 수정 마무리\n",
    "    outfile.close()\n",
    "\n",
    "# 작업 종료 메시지를 출력\n",
    "print(\"작업이 끝났습니다.\")\n",
    "\n",
    "# 시작 지점의 시간을 기록\n",
    "end_time = time.time()\n",
    "print(\"작업 시간이\" + str(end_time - start_time) + \"초 걸렸습니다.\")"
   ]
  },
  {
   "cell_type": "code",
   "execution_count": 8,
   "id": "af21f334",
   "metadata": {},
   "outputs": [
    {
     "name": "stdout",
     "output_type": "stream",
     "text": [
      "1644552959.293061\n"
     ]
    }
   ],
   "source": [
    "import time\n",
    "print(time.time())"
   ]
  },
  {
   "cell_type": "code",
   "execution_count": 16,
   "id": "d982ea9e",
   "metadata": {},
   "outputs": [
    {
     "data": {
      "text/plain": [
       "['.ipynb_checkpoints',\n",
       " '1일차.ipynb',\n",
       " '220207과제.ipynb',\n",
       " '2일차.ipynb',\n",
       " '3일차.ipynb',\n",
       " '4일차.ipynb',\n",
       " '5일차.ipynb',\n",
       " '6일차.ipynb',\n",
       " '7일차.ipynb',\n",
       " '8일차.ipynb',\n",
       " 'hello.txt',\n",
       " 'list.txt',\n",
       " 'list2.txt',\n",
       " 'mod1.py',\n",
       " 'mod2.py',\n",
       " 'test.csv',\n",
       " 'test.ipynb',\n",
       " 'test.py',\n",
       " '__pycache__',\n",
       " '새파일.txt',\n",
       " '새폴더',\n",
       " '샘플_폴더']"
      ]
     },
     "execution_count": 16,
     "metadata": {},
     "output_type": "execute_result"
    }
   ],
   "source": [
    "import os\n",
    "os.listdir()"
   ]
  },
  {
   "cell_type": "markdown",
   "id": "fe3c31ed",
   "metadata": {},
   "source": [
    "코딩 에러가 날 경우<br>\n",
    "#-*-coding:utf-8<br>\n",
    "#-*-coding:euc-kr"
   ]
  },
  {
   "cell_type": "markdown",
   "id": "189a5979",
   "metadata": {},
   "source": [
    "작성한 csv 파일 읽기"
   ]
  },
  {
   "cell_type": "code",
   "execution_count": 14,
   "id": "ca37887f",
   "metadata": {},
   "outputs": [
    {
     "name": "stdout",
     "output_type": "stream",
     "text": [
      "['name', 'age', 'email', 'division', 'telephone', 'sex']\n",
      "['신재신', '57', 'fz91u5rm@gmail.com', '064', '010-0703-3248', '여']\n"
     ]
    }
   ],
   "source": [
    "import csv\n",
    "\n",
    "f = open(\"샘플_폴더/0_신재신.csv\", \"r\")\n",
    "rdc = csv.reader(f) # csv 함수 중 읽어주는 기능하는 함수\n",
    "for i in rdc:\n",
    "    print(i)\n",
    "f.close()"
   ]
  },
  {
   "cell_type": "markdown",
   "id": "4a5f6dd0",
   "metadata": {},
   "source": [
    "sys.argv 테스트해보기\n",
    "- sys.py"
   ]
  },
  {
   "cell_type": "code",
   "execution_count": 21,
   "id": "da61d41e",
   "metadata": {},
   "outputs": [
    {
     "name": "stdout",
     "output_type": "stream",
     "text": [
      "-f\n",
      "C:\\Users\\user\\AppData\\Roaming\\jupyter\\runtime\\kernel-1de65cbb-6910-43e6-bea8-c3b24b0eeefc.json\n"
     ]
    }
   ],
   "source": [
    "# sys.py\n",
    "import sys\n",
    "\n",
    "args = sys.argv[1:] # 입력을 받아서 인자로 변환\n",
    "\n",
    "for i in args:\n",
    "    print(i)"
   ]
  },
  {
   "cell_type": "markdown",
   "id": "9f069e09",
   "metadata": {},
   "source": [
    "csv 파일을 하나로 합쳐보기 예제\n",
    "- merge.py 파일로 만들어서 실습"
   ]
  },
  {
   "cell_type": "code",
   "execution_count": 41,
   "id": "29bed76a",
   "metadata": {},
   "outputs": [
    {
     "ename": "FileNotFoundError",
     "evalue": "[WinError 3] 지정된 경로를 찾을 수 없습니다: '-f'",
     "output_type": "error",
     "traceback": [
      "\u001b[1;31m---------------------------------------------------------------------------\u001b[0m",
      "\u001b[1;31mFileNotFoundError\u001b[0m                         Traceback (most recent call last)",
      "\u001b[1;32m~\\AppData\\Local\\Temp/ipykernel_16132/309933221.py\u001b[0m in \u001b[0;36m<module>\u001b[1;34m\u001b[0m\n\u001b[0;32m     12\u001b[0m \u001b[1;33m\u001b[0m\u001b[0m\n\u001b[0;32m     13\u001b[0m \u001b[1;31m# 폴더의 내용물을 열람해서 목록을 생성\u001b[0m\u001b[1;33m\u001b[0m\u001b[1;33m\u001b[0m\u001b[0m\n\u001b[1;32m---> 14\u001b[1;33m \u001b[0minput_files\u001b[0m \u001b[1;33m=\u001b[0m \u001b[0mos\u001b[0m\u001b[1;33m.\u001b[0m\u001b[0mlistdir\u001b[0m\u001b[1;33m(\u001b[0m\u001b[0mdirectory\u001b[0m\u001b[1;33m)\u001b[0m \u001b[1;31m# ??\u001b[0m\u001b[1;33m\u001b[0m\u001b[1;33m\u001b[0m\u001b[0m\n\u001b[0m\u001b[0;32m     15\u001b[0m \u001b[1;33m\u001b[0m\u001b[0m\n\u001b[0;32m     16\u001b[0m \u001b[1;31m# 헤더를 분리하기 위한 변수를 정의\u001b[0m\u001b[1;33m\u001b[0m\u001b[1;33m\u001b[0m\u001b[0m\n",
      "\u001b[1;31mFileNotFoundError\u001b[0m: [WinError 3] 지정된 경로를 찾을 수 없습니다: '-f'"
     ]
    }
   ],
   "source": [
    "import os\n",
    "import sys\n",
    "\n",
    "# 하나로 합칠 파일들이 저장된 폴더 이름을 시스템으로부터 입력\n",
    "directory = sys.argv[1] # 이게 뭐지? sys.argv[1] == -f\n",
    "\n",
    "# 하나로 합쳐진 파일의 이름을 정의\n",
    "outfile_name = \"합친_파일.csv\"\n",
    "\n",
    "# 결과물 파일을 생성\n",
    "output_file = open(outfile_name, \"w\")\n",
    "\n",
    "# 폴더의 내용물을 열람해서 목록을 생성\n",
    "input_files = os.listdir(directory) # ??\n",
    "\n",
    "# 헤더를 분리하기 위한 변수를 정의\n",
    "# 아래에 for문에서 한번 실행하기위해 정의\n",
    "outfile_header = False\n",
    "\n",
    "# 폴더의 내용물을 하나 하나 불러와서 합치는 작업을 수행\n",
    "for filename in input_files:\n",
    "    # csv 파일이 아닌 것은 걸러줌\n",
    "    if \".csv\" not in filename:\n",
    "        continue\n",
    "        \n",
    "    # csv 파일이 맞다면, 파일을 읽어옴\n",
    "    # 샘플_폴더/파일명\n",
    "    file = open(directory + \"/\" + filename)\n",
    "    \n",
    "    # 첫 번째 줄 헤더를 정의\n",
    "    header = file.readline()\n",
    "    \n",
    "    # 첫 번째 줄 헤더를 파일에 입력, 최초 1회만 실행\n",
    "    if not outfile_header:\n",
    "        output_file.write(header.strip()) # 위 셸에서 만들때 헤더에서 \"\\n\"으로 만들어주었던 공백을 삭제하기 위함\n",
    "        outfile_header = True\n",
    "        \n",
    "    # 결과물 파일에 내용물을 입력(파일의 2행아래 전부 읽기, 만약 2행만 읽을거면 file.readline() 사용)\n",
    "    output_file.write(\"\\n\" + file.read())\n",
    "    \n",
    "    # 읽어온 파일들을 종료\n",
    "    file.close()\n",
    "    \n",
    "# 결과물 파일 종료\n",
    "output_file.close()"
   ]
  },
  {
   "cell_type": "code",
   "execution_count": 39,
   "id": "a0e73ec3",
   "metadata": {},
   "outputs": [
    {
     "name": "stdout",
     "output_type": "stream",
     "text": [
      "C:\\Users\\user\\anaconda3\\lib\\site-packages\\ipykernel_launcher.py\n",
      "-f\n",
      "C:\\Users\\user\\AppData\\Roaming\\jupyter\\runtime\\kernel-1de65cbb-6910-43e6-bea8-c3b24b0eeefc.json\n",
      "3\n"
     ]
    }
   ],
   "source": [
    "import os\n",
    "import sys\n",
    "\n",
    "print(sys.argv[0])\n",
    "print(sys.argv[1]) # 이게 뭐지?\n",
    "print(sys.argv[2])\n",
    "print(len(sys.argv))"
   ]
  },
  {
   "cell_type": "code",
   "execution_count": 60,
   "id": "4ebada53",
   "metadata": {},
   "outputs": [],
   "source": [
    "os.chdir(\"C:\\\\Users\\\\user\\\\Python\") # 현재 위치 바꾸기"
   ]
  },
  {
   "cell_type": "code",
   "execution_count": 61,
   "id": "243ab704",
   "metadata": {},
   "outputs": [
    {
     "data": {
      "text/plain": [
       "'C:\\\\Users\\\\user\\\\Python'"
      ]
     },
     "execution_count": 61,
     "metadata": {},
     "output_type": "execute_result"
    }
   ],
   "source": [
    "os.getcwd() # 현재 위치 확인하기"
   ]
  },
  {
   "cell_type": "code",
   "execution_count": 67,
   "id": "f1fcf29e",
   "metadata": {},
   "outputs": [
    {
     "data": {
      "text/plain": [
       "['.ipynb_checkpoints',\n",
       " '1일차.ipynb',\n",
       " '220207과제.ipynb',\n",
       " '2일차.ipynb',\n",
       " '3일차.ipynb',\n",
       " '4일차.ipynb',\n",
       " '5일차.ipynb',\n",
       " '6일차.ipynb',\n",
       " '7일차.ipynb',\n",
       " '8일차.ipynb',\n",
       " 'hello.txt',\n",
       " 'list.txt',\n",
       " 'list2.txt',\n",
       " 'merge(me).py',\n",
       " 'merge.py',\n",
       " 'mod1.py',\n",
       " 'mod2.py',\n",
       " 'sys.py',\n",
       " 'test.csv',\n",
       " 'test.ipynb',\n",
       " 'test.py',\n",
       " '__pycache__',\n",
       " '새파일.txt',\n",
       " '새폴더',\n",
       " '샘플_폴더',\n",
       " '합친_파일.csv',\n",
       " '합친_파일2.csv']"
      ]
     },
     "execution_count": 67,
     "metadata": {},
     "output_type": "execute_result"
    }
   ],
   "source": [
    "os.listdir() # 현재 위치에서 모든 파일들 보기"
   ]
  },
  {
   "cell_type": "code",
   "execution_count": 2,
   "id": "ce2da565",
   "metadata": {},
   "outputs": [
    {
     "ename": "FileNotFoundError",
     "evalue": "[WinError 3] 지정된 경로를 찾을 수 없습니다: '-f'",
     "output_type": "error",
     "traceback": [
      "\u001b[1;31m---------------------------------------------------------------------------\u001b[0m",
      "\u001b[1;31mFileNotFoundError\u001b[0m                         Traceback (most recent call last)",
      "\u001b[1;32m~\\AppData\\Local\\Temp/ipykernel_19420/2267422854.py\u001b[0m in \u001b[0;36m<module>\u001b[1;34m\u001b[0m\n\u001b[0;32m     13\u001b[0m \u001b[1;33m\u001b[0m\u001b[0m\n\u001b[0;32m     14\u001b[0m \u001b[1;31m# 폴더의 내용물을 열람해서 목록을 생성\u001b[0m\u001b[1;33m\u001b[0m\u001b[1;33m\u001b[0m\u001b[0m\n\u001b[1;32m---> 15\u001b[1;33m \u001b[0minput_files\u001b[0m \u001b[1;33m=\u001b[0m \u001b[0mos\u001b[0m\u001b[1;33m.\u001b[0m\u001b[0mlistdir\u001b[0m\u001b[1;33m(\u001b[0m\u001b[0mdirectory\u001b[0m\u001b[1;33m)\u001b[0m \u001b[1;31m# ??\u001b[0m\u001b[1;33m\u001b[0m\u001b[1;33m\u001b[0m\u001b[0m\n\u001b[0m\u001b[0;32m     16\u001b[0m \u001b[1;33m\u001b[0m\u001b[0m\n\u001b[0;32m     17\u001b[0m \u001b[1;31m# 헤더를 분리하기 위한 변수를 정의\u001b[0m\u001b[1;33m\u001b[0m\u001b[1;33m\u001b[0m\u001b[0m\n",
      "\u001b[1;31mFileNotFoundError\u001b[0m: [WinError 3] 지정된 경로를 찾을 수 없습니다: '-f'"
     ]
    }
   ],
   "source": [
    "import os\n",
    "import sys\n",
    "\n",
    "# 하나로 합칠 파일들이 저장된 폴더 이름을 시스템으로부터 입력\n",
    "directory = sys.argv[1] #  cmd 창에서 [0]다음 [1]번째 인덱스를 값으로 가져온다. cmd 예시 : python merge.py 샘플_폴더\n",
    "#argv : cmd에서 입력한 인자를 순서대로 인덱스를 부여해줌\n",
    "\n",
    "# 하나로 합쳐진 파일의 이름을 정의\n",
    "outfile_name = \"합친_파일3.csv\"\n",
    "\n",
    "# 결과물 파일을 생성\n",
    "output_file = open(outfile_name, \"w\")\n",
    "\n",
    "# 폴더의 내용물을 열람해서 목록을 생성\n",
    "input_files = os.listdir(directory) # ??\n",
    "\n",
    "# 헤더를 분리하기 위한 변수를 정의\n",
    "# 아래에 for문에서 한번 실행하기위해 정의\n",
    "outfile_header = False\n",
    "\n",
    "# 폴더의 내용물을 하나 하나 불러와서 합치는 작업을 수행\n",
    "for filename in input_files:\n",
    "    # csv 파일이 아닌 것은 걸러줌\n",
    "    if \".csv\" not in filename:\n",
    "        continue\n",
    "        \n",
    "    # csv 파일이 맞다면, 파일을 읽어옴\n",
    "    # 샘플_폴더/파일명\n",
    "    file = open(directory + \"/\" + filename)\n",
    "    \n",
    "    # 첫 번째 줄 헤더를 정의\n",
    "    header = file.readline() # ? 어떤 형태로 header에 저장되는지 궁금..\n",
    "    \n",
    "    # 첫 번째 줄 헤더를 파일에 입력, 최초 1회만 실행\n",
    "    if not outfile_header:\n",
    "        output_file.write(header.strip()) # ? 어떤 형태길래 strip 함수 사용하는지 궁금\n",
    "        outfile_header = True\n",
    "        \n",
    "    # 결과물 파일에 내용물을 입력(파일의 2행아래 전부 읽기, 만약 2행만 읽을거면 file.readline() 사용)\n",
    "    output_file.write(\"\\n\" + file.read())\n",
    "    \n",
    "    # 읽어온 파일들을 종료\n",
    "    file.close()\n",
    "    \n",
    "# 결과물 파일 종료\n",
    "output_file.close()"
   ]
  },
  {
   "cell_type": "code",
   "execution_count": 93,
   "id": "95c44446",
   "metadata": {},
   "outputs": [
    {
     "name": "stdout",
     "output_type": "stream",
     "text": [
      "['name,age,email,division,telephone,sex\\n', '신재신,57,fz91u5rm@gmail.com,064,010-0703-3248,여\\n', '지광진,80,pd0bhz2i@gmail.com,wr4,010-7201-7145,남\\n', '오소영,49,c4zsb4ha@gmail.com,uzq,010-8140-8673,남\\n', '안원헌,15,ln4ky9l8@gmail.com,t2v,010-0174-5912,여\\n', '임정영,05,e38hs3nz@gmail.com,qa1,010-3519-5395,남\\n', '유소진,77,4ofk3r6x@gmail.com,343,010-3518-4163,여\\n', '임지혜,27,13gojod8@gmail.com,gcq,010-4641-5783,여\\n', '고영진,93,4m9aohft@gmail.com,6lv,010-7197-1282,남\\n', '전태수,71,kdlo5b5l@gmail.com,yag,010-7601-0049,남\\n', '안정서,79,pfwql3is@gmail.com,o6u,010-2555-2106,여\\n', '신지석,41,jkms2xis@gmail.com,1i1,010-9296-4627,남\\n', '유지석,46,hgkurwrv@gmail.com,lv1,010-2093-8900,여\\n', '박원진,40,mxb0ox70@gmail.com,wv0,010-3617-7966,남\\n', '조소신,18,o2rtoc5u@gmail.com,uu9,010-1137-4259,여\\n', '유재재,52,5uqcbbex@gmail.com,7eb,010-2459-6080,남\\n', '조재열,52,r2r798e1@gmail.com,lv6,010-1292-9844,여\\n', '전재석,08,mrq0vs1y@gmail.com,u1o,010-0922-5735,여\\n', '김인신,12,r789qezi@gmail.com,c5p,010-8425-3896,남\\n', '박광환,40,1axedf8y@gmail.com,cst,010-0206-7949,남\\n', '김원영,86,q9x5zgwg@gmail.com,hr9,010-7775-5411,남\\n', '조정신,43,c5r1ftle@gmail.com,dob,010-9791-1343,여\\n']\n"
     ]
    }
   ],
   "source": [
    "file = open(\"합친_파일.csv\")\n",
    "header = file.readlines(1000)\n",
    "print(header)"
   ]
  },
  {
   "cell_type": "code",
   "execution_count": null,
   "id": "7e57276e",
   "metadata": {},
   "outputs": [],
   "source": []
  },
  {
   "cell_type": "code",
   "execution_count": null,
   "id": "c7710b1f",
   "metadata": {},
   "outputs": [],
   "source": []
  },
  {
   "cell_type": "code",
   "execution_count": null,
   "id": "52b05a2c",
   "metadata": {},
   "outputs": [],
   "source": []
  },
  {
   "cell_type": "code",
   "execution_count": null,
   "id": "45bac635",
   "metadata": {},
   "outputs": [],
   "source": []
  },
  {
   "cell_type": "code",
   "execution_count": null,
   "id": "1e356ea6",
   "metadata": {},
   "outputs": [],
   "source": []
  },
  {
   "cell_type": "code",
   "execution_count": null,
   "id": "f539d586",
   "metadata": {},
   "outputs": [],
   "source": []
  },
  {
   "cell_type": "code",
   "execution_count": null,
   "id": "9ce82c6b",
   "metadata": {},
   "outputs": [],
   "source": []
  },
  {
   "cell_type": "code",
   "execution_count": null,
   "id": "c7a248c5",
   "metadata": {},
   "outputs": [],
   "source": []
  },
  {
   "cell_type": "code",
   "execution_count": null,
   "id": "b538288a",
   "metadata": {},
   "outputs": [],
   "source": []
  }
 ],
 "metadata": {
  "kernelspec": {
   "display_name": "Python 3 (ipykernel)",
   "language": "python",
   "name": "python3"
  },
  "language_info": {
   "codemirror_mode": {
    "name": "ipython",
    "version": 3
   },
   "file_extension": ".py",
   "mimetype": "text/x-python",
   "name": "python",
   "nbconvert_exporter": "python",
   "pygments_lexer": "ipython3",
   "version": "3.9.7"
  }
 },
 "nbformat": 4,
 "nbformat_minor": 5
}
