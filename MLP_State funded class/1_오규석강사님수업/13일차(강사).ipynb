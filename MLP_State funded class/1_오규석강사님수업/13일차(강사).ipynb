{
 "cells": [
  {
   "cell_type": "markdown",
   "id": "7da907aa",
   "metadata": {},
   "source": [
    "# 판다스 자료구조\n",
    "- 서로 다른 형식을 갖는 여러 종류의 데이터를 컴퓨터가 이해할 수 있도록 동일한 형식을 갖는 구조로 통합할 필요가 있음\n",
    "- 판다스는 시리즈(Series)와 데이터프레임(DataFrame)이라는 데이터 형식을 제공\n",
    "- Numpy : 배열 및 연산\n",
    "- pandas : 자료구조 및 시각화\n",
    "\n",
    "## 시리즈\n",
    "- 데이터가 순차적으로 나열된 1차원 배열(열벡터)\n",
    "- 인덱스(index)는 데이터 값(value)과 일대일 대응"
   ]
  },
  {
   "cell_type": "markdown",
   "id": "b6ffd2db",
   "metadata": {},
   "source": [
    "정리\n",
    "- 시리즈의 인덱스는 데이터 값의 위치를 나타내는 이름표(주소) 역할\n",
    "- 'index 2'의 주소를 알고 있다면 'Data 2'라는 원소 데이터 값에 접근 가능"
   ]
  },
  {
   "cell_type": "markdown",
   "id": "5192ec85",
   "metadata": {},
   "source": [
    "시리즈 만들기\n",
    "- 딕셔너리와 시리즈의 구조가 비슷하기 때문에 딕셔너리를 시리즈로 변환하는 방법을 많이 사용\n",
    "- 판다스 내장 함수인 Series() 사용\n",
    " - 딕셔너리를 함수의 인자로 전달\n",
    " \n",
    "형식<br>\n",
    "<code> 딕셔너리 -> 시리즈 변환 : pandas.Series(딕셔너리) </code>"
   ]
  },
  {
   "cell_type": "markdown",
   "id": "5de5bb83",
   "metadata": {},
   "source": [
    "딕셔너리를 시리즈로 변환하는 예제"
   ]
  },
  {
   "cell_type": "code",
   "execution_count": 4,
   "id": "1d834a5d",
   "metadata": {},
   "outputs": [],
   "source": [
    "# 판다스 import\n",
    "import pandas as pd\n",
    "\n",
    "# key:value 를 쌍으로 갖는 딕셔너리를 생성, 변수 dict_data에 저장\n",
    "dict_data = {'a' : 1, 'b' : 2, 'c' : 3}\n",
    "\n",
    "# 판다스 Series() 함수로 딕셔너리를 시리즈로 변환, 변수 sr에 저장\n",
    "sr = pd.Series(dict_data)"
   ]
  },
  {
   "cell_type": "code",
   "execution_count": 5,
   "id": "e7d08c4b",
   "metadata": {},
   "outputs": [
    {
     "name": "stdout",
     "output_type": "stream",
     "text": [
      "<class 'pandas.core.series.Series'>\n"
     ]
    }
   ],
   "source": [
    "# sr의 자료형 출력\n",
    "print(type(sr))"
   ]
  },
  {
   "cell_type": "code",
   "execution_count": 6,
   "id": "00a8d84e",
   "metadata": {},
   "outputs": [
    {
     "name": "stdout",
     "output_type": "stream",
     "text": [
      "d    1\n",
      "b    2\n",
      "c    3\n",
      "dtype: int64\n"
     ]
    }
   ],
   "source": [
    "# 변수 sr에 저장되어 있는 시리즈 객체 출력\n",
    "print(sr)"
   ]
  },
  {
   "cell_type": "markdown",
   "id": "cd0bc71b",
   "metadata": {},
   "source": [
    "- 시리즈 객체 출력 시 인덱스 'a', 'b', 'c' 는 왼쪽에 표시\n",
    "- 인덱스와 짝을 이루는 데이터 값 1, 2, 3 은 오른쪽에 표시\n",
    "- 시리즈를 구성하는 데이터 값의 자료형은 정수형(int64)"
   ]
  },
  {
   "cell_type": "markdown",
   "id": "4121a2d7",
   "metadata": {},
   "source": [
    "참고\n",
    "- \"as pd\" 는 판다스를 \"pd\"라는 약칭으로 부르겠다는 뜻\n",
    "- Numpy는 \"np\"라는 약칭을 자주 사용"
   ]
  },
  {
   "cell_type": "markdown",
   "id": "aa1d7426",
   "metadata": {},
   "source": [
    "인덱스 구조\n",
    "- 인덱스는 자기와 짝을 이루는 데이터 값의 순서와 주소를 저장\n",
    "- 인덱스를 활용하여 데이터 값의 탐색, 정렬, 선택, 결합 등 데이터의 조작을 쉽게 할 수 있음"
   ]
  },
  {
   "cell_type": "markdown",
   "id": "e93febd9",
   "metadata": {},
   "source": [
    "판다스 Series() 함수를 사용하여 파이썬 리스트를 시리즈로 변환하는 예제"
   ]
  },
  {
   "cell_type": "code",
   "execution_count": 7,
   "id": "69bc216a",
   "metadata": {},
   "outputs": [],
   "source": [
    "import pandas as pd\n",
    "\n",
    "# 리스트 생성, 변수 list_data에 저장\n",
    "list_data = ['2022-02-21', 3.14, '오규석', 100, True]\n",
    "sr = pd.Series(list_data)"
   ]
  },
  {
   "cell_type": "code",
   "execution_count": 8,
   "id": "1e5e44db",
   "metadata": {},
   "outputs": [
    {
     "name": "stdout",
     "output_type": "stream",
     "text": [
      "0    2022-02-21\n",
      "1          3.14\n",
      "2           오규석\n",
      "3           100\n",
      "4          True\n",
      "dtype: object\n"
     ]
    }
   ],
   "source": [
    "print(sr)"
   ]
  },
  {
   "cell_type": "markdown",
   "id": "16bf3ad7",
   "metadata": {},
   "source": [
    "- 인덱스를 별도로 정의하지 않았기 때문에 디폴트로 정수형 위치 인덱스(0, 1, 2, 3)가 자동 적용\n",
    "\n",
    "\n",
    "- 시리즈를 구성하는 원소 데이터 값의 자료형은 문자열(object)\n",
    " - 숫자와 문자열이 데이터에 혼합되어 있을 경우 자료형이 문자열로 표기됨\n",
    " \n",
    " \n",
    "- 리스트와 판다스의 시리즈는 둘 다 동일하게 인덱스를 소유\n",
    " - 리스트는 정수형 위치 인덱스만 존재\n",
    "  - ex) list_data[0]\n",
    "  \n",
    "  \n",
    " - 시리즈는 정수형 위치 인덱스와 인덱스 이름 둘 다 존재\n",
    "  - ex) sr[0]\n",
    "  - ex) sr['날짜']"
   ]
  },
  {
   "cell_type": "markdown",
   "id": "a3387da7",
   "metadata": {},
   "source": [
    "시리즈에서 인덱스는 크게 두 가지 종류 존재\n",
    "- 정수형 위치 인덱스 and 인덱스 이름"
   ]
  },
  {
   "cell_type": "markdown",
   "id": "cb04846b",
   "metadata": {},
   "source": [
    "시리즈의 index 속성을 이용하여 인덱스 배열 따로 선택 가능<br><br>\n",
    "시리즈의 values 속성을 이용하여 데이터 값 따로 선택 가능"
   ]
  },
  {
   "cell_type": "markdown",
   "id": "1dd369f1",
   "metadata": {},
   "source": [
    "시리즈의 인덱스와 데이터를 따로 확인하는 예제"
   ]
  },
  {
   "cell_type": "code",
   "execution_count": 11,
   "id": "f2f9669f",
   "metadata": {},
   "outputs": [],
   "source": [
    "import pandas as pd\n",
    "\n",
    "# 리스트 생성, 변수 list_data에 저장\n",
    "list_data = ['2022-02-21', 3.14, '오규석', 100, True]\n",
    "sr = pd.Series(list_data)"
   ]
  },
  {
   "cell_type": "code",
   "execution_count": 12,
   "id": "39bc532b",
   "metadata": {},
   "outputs": [
    {
     "name": "stdout",
     "output_type": "stream",
     "text": [
      "RangeIndex(start=0, stop=5, step=1)\n",
      "['2022-02-21' 3.14 '오규석' 100 True]\n"
     ]
    }
   ],
   "source": [
    "# 인덱스 배열은 변수 idx에 저장, 데이터 값 배열은 변수 val에 저장\n",
    "idx = sr.index\n",
    "val = sr.values\n",
    "print(idx)\n",
    "print(val)"
   ]
  },
  {
   "cell_type": "code",
   "execution_count": 13,
   "id": "70620b80",
   "metadata": {},
   "outputs": [
    {
     "name": "stdout",
     "output_type": "stream",
     "text": [
      "<class 'numpy.ndarray'>\n"
     ]
    }
   ],
   "source": [
    "print(type(val))"
   ]
  },
  {
   "cell_type": "markdown",
   "id": "84042184",
   "metadata": {},
   "source": [
    "- 인덱스는 0 ~ 4 범위의 정수를 갖는 RangeIndex 객체로 출력\n",
    "- 데이터 값은 1차원 배열 형태(array)로 출력"
   ]
  },
  {
   "cell_type": "markdown",
   "id": "bd4a0ac1",
   "metadata": {},
   "source": [
    "판다스 Series() 함수를 사용하여 파이썬 튜플을 시리즈로 변환하는 예제(인덱스 정의)"
   ]
  },
  {
   "cell_type": "code",
   "execution_count": 21,
   "id": "1b335588",
   "metadata": {},
   "outputs": [],
   "source": [
    "import pandas as pd\n",
    "\n",
    "# 튜플 생성, 변수 tup_data에 저장\n",
    "tup_data = ('규석', '2022-02-21', '남', True)\n",
    "sr = pd.Series(tup_data, index=['이름', '오늘날짜', '성별', '학생여부'])"
   ]
  },
  {
   "cell_type": "code",
   "execution_count": 22,
   "id": "cadfd704",
   "metadata": {},
   "outputs": [
    {
     "name": "stdout",
     "output_type": "stream",
     "text": [
      "이름              규석\n",
      "오늘날짜    2022-02-21\n",
      "성별               남\n",
      "학생여부          True\n",
      "dtype: object\n"
     ]
    }
   ],
   "source": [
    "print(sr)"
   ]
  },
  {
   "cell_type": "markdown",
   "id": "633d86d9",
   "metadata": {},
   "source": [
    "시리즈 원소 선택 예제 1"
   ]
  },
  {
   "cell_type": "code",
   "execution_count": 23,
   "id": "9d9d440b",
   "metadata": {},
   "outputs": [
    {
     "name": "stdout",
     "output_type": "stream",
     "text": [
      "규석\n",
      "규석\n"
     ]
    }
   ],
   "source": [
    "# 원소를 1개 선택\n",
    "# 정수형 위치 인덱스\n",
    "print(sr[0])\n",
    "\n",
    "# 인덱스 이름\n",
    "print(sr['이름'])"
   ]
  },
  {
   "cell_type": "markdown",
   "id": "cb96ed41",
   "metadata": {},
   "source": [
    "시리즈 원소 선택 예제 2"
   ]
  },
  {
   "cell_type": "code",
   "execution_count": 26,
   "id": "25f174f3",
   "metadata": {},
   "outputs": [
    {
     "name": "stdout",
     "output_type": "stream",
     "text": [
      "오늘날짜    2022-02-21\n",
      "성별               남\n",
      "dtype: object\n",
      "오늘날짜    2022-02-21\n",
      "성별               남\n",
      "dtype: object\n"
     ]
    }
   ],
   "source": [
    "# 원소를 다중 선택(인덱스 리스트 활용)\n",
    "# 정수형 위치 인덱스\n",
    "print(sr[[1, 2]])\n",
    "\n",
    "# 인덱스 이름\n",
    "print(sr[['오늘날짜', '성별']])"
   ]
  },
  {
   "cell_type": "markdown",
   "id": "c8b3756c",
   "metadata": {},
   "source": [
    "- 인덱스 다중 지정 시에 괄호를 두 개 써줘야 함"
   ]
  },
  {
   "cell_type": "markdown",
   "id": "490055c3",
   "metadata": {},
   "source": [
    "시리즈 원소 선택 예제 3"
   ]
  },
  {
   "cell_type": "code",
   "execution_count": 28,
   "id": "c8b38ee6",
   "metadata": {},
   "outputs": [
    {
     "name": "stdout",
     "output_type": "stream",
     "text": [
      "오늘날짜    2022-02-21\n",
      "dtype: object\n",
      "오늘날짜    2022-02-21\n",
      "성별               남\n",
      "dtype: object\n"
     ]
    }
   ],
   "source": [
    "# 원소를 다중 선택(인덱스 범위 지정)\n",
    "# 정수형 위치 인덱스\n",
    "print(sr[1:2])\n",
    "\n",
    "# 인덱스 이름\n",
    "print(sr['오늘날짜':'성별'])"
   ]
  },
  {
   "cell_type": "markdown",
   "id": "b573ab9c",
   "metadata": {},
   "source": [
    "- 정수형 위치 인덱스를 사용할 시 범위의 끝은 미포함\n",
    "- 인덱스 이름을 사용하면 범위의 끝 포함"
   ]
  },
  {
   "cell_type": "markdown",
   "id": "94ea0b80",
   "metadata": {},
   "source": [
    "## 데이터프레임\n",
    "- 2차원 배열\n",
    "- 여러 개의 열벡터(시리즈)들이 같은 행 인덱스를 기준으로 결합된 2차원 벡터 또는 행렬(matrix)"
   ]
  },
  {
   "cell_type": "markdown",
   "id": "500bbfa1",
   "metadata": {},
   "source": [
    "행과 열을 나타내기 위해서는 행 인덱스와 열 이름 두가지 종류의 주소를 사용\n",
    "- 열은 공통의 속성을 갖는 일련의 데이터의 집합\n",
    "- 행은 공통적이고 다양한 속성 데이터들의 모음인 레코드(record)"
   ]
  },
  {
   "cell_type": "markdown",
   "id": "6f155906",
   "metadata": {},
   "source": [
    "데이터프레임 만들기 전 생각해보기\n",
    "1. 데이터프레임을 만들기 위해서는 같은 길이의 1차원 배열(Series)이 여러 개 필요\n",
    "2. 딕셔너리 값에 해당하는 각 리스트가 시리즈 배열로 변환되어 데이터 프레임의 열이 됨\n",
    "3. 딕셔너리 키는 각 시리즈의 이름으로 변환되어 데이터프레임의 열 이름이 됨\n",
    "4. 데이터프레임을 만들 때는 판다스 DataFrame() 함수를 사용<br>\n",
    "<code> 딕셔너리 -> 데이터프레임 변환: pandas.DataFrame(딕셔너리 객체) </code>"
   ]
  },
  {
   "cell_type": "markdown",
   "id": "e068cac2",
   "metadata": {},
   "source": [
    "딕셔너리 -> 데이터프레임 변환 예제"
   ]
  },
  {
   "cell_type": "code",
   "execution_count": 29,
   "id": "abafa39e",
   "metadata": {},
   "outputs": [],
   "source": [
    "import pandas as pd\n",
    "\n",
    "# key:value 를 쌍으로 갖는 딕셔너리를 생성, 변수 dict_data에 저장\n",
    "dict_data = {'c0' : [1, 2, 3], 'c1' : [4, 5, 6], 'c2' : [7, 8, 9], 'c3' : [10, 11, 12], 'c4' : [13, 14, 15]}\n",
    "\n",
    "# 판다스 DataFrame() 함수로 딕셔너리를 데이터프레임으로 변환, 변수 df에 저장\n",
    "df = pd.DataFrame(dict_data)"
   ]
  },
  {
   "cell_type": "code",
   "execution_count": 30,
   "id": "d409bd83",
   "metadata": {},
   "outputs": [
    {
     "name": "stdout",
     "output_type": "stream",
     "text": [
      "<class 'pandas.core.frame.DataFrame'>\n"
     ]
    }
   ],
   "source": [
    "print(type(df))"
   ]
  },
  {
   "cell_type": "code",
   "execution_count": 31,
   "id": "8b394dd7",
   "metadata": {},
   "outputs": [
    {
     "name": "stdout",
     "output_type": "stream",
     "text": [
      "   c0  c1  c2  c3  c4\n",
      "0   1   4   7  10  13\n",
      "1   2   5   8  11  14\n",
      "2   3   6   9  12  15\n"
     ]
    }
   ],
   "source": [
    "print(df)"
   ]
  },
  {
   "cell_type": "markdown",
   "id": "97c530c0",
   "metadata": {},
   "source": [
    "행 인덱스 / 열 이름 설정\n",
    "- 2차원 배열 -> 데이터프레임 변환할 때 행 인덱스와 열 이름 속성을 사용자가 직접 지정 가능<br>\n",
    "<code>행 인덱스, 열 이름 설정: pandas.DataFrame(2차원 배열, index=행 인덱스 배열, columns=열 인덱스 배열)</code>"
   ]
  },
  {
   "cell_type": "markdown",
   "id": "ec923a6f",
   "metadata": {},
   "source": [
    "행 인덱스 / 열 이름 설정 예제"
   ]
  },
  {
   "cell_type": "code",
   "execution_count": 38,
   "id": "ce859200",
   "metadata": {},
   "outputs": [],
   "source": [
    "import pandas as pd\n",
    "\n",
    "# 행 인덱스 / 열 이름을 지정하여 데이터프레임 만들기\n",
    "df = pd.DataFrame([[22, '남', '인천대'], [21, '여', '경기대'], [20, '남', '부산대']],\n",
    "                  index=['규석', '영신', '성민'],\n",
    "                  columns=['나이', '성별', '학교'])"
   ]
  },
  {
   "cell_type": "code",
   "execution_count": 34,
   "id": "ebb6c029",
   "metadata": {},
   "outputs": [
    {
     "name": "stdout",
     "output_type": "stream",
     "text": [
      "    나이 성별   학교\n",
      "규석  22  남  인천대\n",
      "영신  21  여  경기대\n",
      "성민  20  남  부산대\n"
     ]
    }
   ],
   "source": [
    "print(df)"
   ]
  },
  {
   "cell_type": "code",
   "execution_count": 35,
   "id": "014a63b7",
   "metadata": {},
   "outputs": [
    {
     "name": "stdout",
     "output_type": "stream",
     "text": [
      "Index(['규석', '영신', '성민'], dtype='object')\n"
     ]
    }
   ],
   "source": [
    "print(df.index)"
   ]
  },
  {
   "cell_type": "code",
   "execution_count": 36,
   "id": "c1aadb5d",
   "metadata": {},
   "outputs": [
    {
     "name": "stdout",
     "output_type": "stream",
     "text": [
      "Index(['나이', '성별', '학교'], dtype='object')\n"
     ]
    }
   ],
   "source": [
    "print(df.columns)"
   ]
  },
  {
   "cell_type": "markdown",
   "id": "872379d2",
   "metadata": {},
   "source": [
    "행 인덱스 / 열 이름 변경<br>\n",
    "<code>행 인덱스 변경: DataFrame 객체.index = 새로운 행 인덱스 배열</code><br>\n",
    "<code>열 이름 변경: DataFrame 객체.columns = 새로운 열 이름 배열</code>"
   ]
  },
  {
   "cell_type": "markdown",
   "id": "d58cfaa2",
   "metadata": {},
   "source": [
    "행 인덱스 / 열 이름 변경 예제"
   ]
  },
  {
   "cell_type": "code",
   "execution_count": null,
   "id": "cca1a274",
   "metadata": {},
   "outputs": [],
   "source": [
    "import pandas as pd\n",
    "\n",
    "# 행 인덱스 / 열 이름을 지정하여 데이터프레임 만들기\n",
    "df = pd.DataFrame([[22, '남', '인천대'], [21, '여', '경기대'], [20, '남', '부산대']],\n",
    "                  index=['규석', '영신', '성민'],\n",
    "                  columns=['나이', '성별', '학교'])"
   ]
  },
  {
   "cell_type": "code",
   "execution_count": 40,
   "id": "aaaca4a9",
   "metadata": {},
   "outputs": [],
   "source": [
    "df.index = ['준서', '지연', '성철']\n",
    "df.columns = ['연령', '남녀', '소속']"
   ]
  },
  {
   "cell_type": "code",
   "execution_count": 41,
   "id": "b4d76fe4",
   "metadata": {},
   "outputs": [
    {
     "name": "stdout",
     "output_type": "stream",
     "text": [
      "    연령 남녀   소속\n",
      "준서  22  남  인천대\n",
      "지연  21  여  경기대\n",
      "성철  20  남  부산대\n"
     ]
    }
   ],
   "source": [
    "print(df)"
   ]
  },
  {
   "cell_type": "code",
   "execution_count": 42,
   "id": "ce8007e1",
   "metadata": {},
   "outputs": [
    {
     "name": "stdout",
     "output_type": "stream",
     "text": [
      "Index(['준서', '지연', '성철'], dtype='object')\n"
     ]
    }
   ],
   "source": [
    "print(df.index)"
   ]
  },
  {
   "cell_type": "code",
   "execution_count": 43,
   "id": "48242347",
   "metadata": {},
   "outputs": [
    {
     "name": "stdout",
     "output_type": "stream",
     "text": [
      "Index(['연령', '남녀', '소속'], dtype='object')\n"
     ]
    }
   ],
   "source": [
    "print(df.columns)"
   ]
  },
  {
   "cell_type": "markdown",
   "id": "7112a097",
   "metadata": {},
   "source": [
    "rename() 함수를 사용하여 행 인덱스 / 열 이름 변경 가능<br>\n",
    "<code>행 인덱스 변경: DataFrame 객체.rename(index={기존 인덱스:새 인덱스, ...})</code><br>\n",
    "<code>열 이름 변경: DataFrame 객체.rename(columns={기존 열 이름:새 열 이름, ...})</code>"
   ]
  },
  {
   "cell_type": "markdown",
   "id": "c676bb1c",
   "metadata": {},
   "source": [
    "행 인덱스 / 열 이름 변경 예제(rename)"
   ]
  },
  {
   "cell_type": "code",
   "execution_count": 44,
   "id": "4714555e",
   "metadata": {},
   "outputs": [],
   "source": [
    "import pandas as pd\n",
    "\n",
    "# 행 인덱스 / 열 이름을 지정하여 데이터프레임 만들기\n",
    "df = pd.DataFrame([[22, '남', '인천대'], [21, '여', '경기대'], [20, '남', '부산대']],\n",
    "                  index=['규석', '영신', '성민'],\n",
    "                  columns=['나이', '성별', '학교'])"
   ]
  },
  {
   "cell_type": "code",
   "execution_count": 45,
   "id": "d93a1657",
   "metadata": {},
   "outputs": [
    {
     "name": "stdout",
     "output_type": "stream",
     "text": [
      "    나이 성별   학교\n",
      "규석  22  남  인천대\n",
      "영신  21  여  경기대\n",
      "성민  20  남  부산대\n"
     ]
    }
   ],
   "source": [
    "print(df)"
   ]
  },
  {
   "cell_type": "code",
   "execution_count": 49,
   "id": "0edd3dec",
   "metadata": {},
   "outputs": [],
   "source": [
    "df.rename(index={'규석':'준서', '영신':'지연', '성민':'성철'}, inplace = True)\n",
    "df.rename(columns={'나이':'연령', '성별':'남녀', '학교':'소속'}, inplace = True)"
   ]
  },
  {
   "cell_type": "code",
   "execution_count": 50,
   "id": "714acbaf",
   "metadata": {},
   "outputs": [
    {
     "name": "stdout",
     "output_type": "stream",
     "text": [
      "    연령 남녀   소속\n",
      "준서  22  남  인천대\n",
      "지연  21  여  경기대\n",
      "성철  20  남  부산대\n"
     ]
    }
   ],
   "source": [
    "print(df)"
   ]
  },
  {
   "cell_type": "markdown",
   "id": "8cee98e6",
   "metadata": {},
   "source": [
    "- inplace=True 를 쓰지 않으면 기존 객체가 변경되지 않음\n",
    "- inplace=True 를 쓰면 기존 객체에 반영"
   ]
  },
  {
   "cell_type": "markdown",
   "id": "b631bef3",
   "metadata": {},
   "source": [
    "행 / 열 삭제\n",
    "- 행 / 열 삭제 시 drop() 함수 사용\n",
    "- 행을 삭제할 때 축(axis) 옵션으로 axis=0 혹은 입력 X\n",
    "- 열을 삭제할 때 축(axis) 옵션으로 axis=1 입력<br><br>\n",
    "<code>행 삭제: DataFrame 객체.drop(행 인덱스 또는 배열, axis=0)</code><br>\n",
    "<code>역 삭제: DataFrame 객체.drop(열 이름 또는 배열, axis=1)</code>"
   ]
  },
  {
   "cell_type": "markdown",
   "id": "65839cb8",
   "metadata": {},
   "source": [
    "행 삭제 예제"
   ]
  },
  {
   "cell_type": "code",
   "execution_count": 89,
   "id": "8938e5f8",
   "metadata": {},
   "outputs": [],
   "source": [
    "import pandas as pd\n",
    "\n",
    "exam_data = {'국어' : [70, 90, 80], '수학' : [90, 85, 80], '영어' : [100, 80, 90], '음악' : [70, 90, 100]}\n",
    "df = pd.DataFrame(exam_data, index=['인서', '형준', '소진'])\n",
    "\n",
    "# 데이터프레임 df를 복제하여 변수 df2에 저장.\n",
    "df2 = df\n",
    "\n",
    "# 데이터프레임 df를 복제하여 변수 df3에 저장.\n",
    "df3 = df"
   ]
  },
  {
   "cell_type": "code",
   "execution_count": 90,
   "id": "96c26939",
   "metadata": {},
   "outputs": [
    {
     "name": "stdout",
     "output_type": "stream",
     "text": [
      "3039900170608\n",
      "3039900170608\n",
      "3039900170608\n"
     ]
    }
   ],
   "source": [
    "print(id(df))\n",
    "print(id(df2))\n",
    "print(id(df3))"
   ]
  },
  {
   "cell_type": "code",
   "execution_count": 93,
   "id": "a2ffe1ad",
   "metadata": {},
   "outputs": [
    {
     "data": {
      "text/html": [
       "<div>\n",
       "<style scoped>\n",
       "    .dataframe tbody tr th:only-of-type {\n",
       "        vertical-align: middle;\n",
       "    }\n",
       "\n",
       "    .dataframe tbody tr th {\n",
       "        vertical-align: top;\n",
       "    }\n",
       "\n",
       "    .dataframe thead th {\n",
       "        text-align: right;\n",
       "    }\n",
       "</style>\n",
       "<table border=\"1\" class=\"dataframe\">\n",
       "  <thead>\n",
       "    <tr style=\"text-align: right;\">\n",
       "      <th></th>\n",
       "      <th>국어</th>\n",
       "      <th>수학</th>\n",
       "      <th>영어</th>\n",
       "      <th>음악</th>\n",
       "    </tr>\n",
       "  </thead>\n",
       "  <tbody>\n",
       "    <tr>\n",
       "      <th>형준</th>\n",
       "      <td>90</td>\n",
       "      <td>85</td>\n",
       "      <td>80</td>\n",
       "      <td>90</td>\n",
       "    </tr>\n",
       "    <tr>\n",
       "      <th>소진</th>\n",
       "      <td>80</td>\n",
       "      <td>80</td>\n",
       "      <td>90</td>\n",
       "      <td>100</td>\n",
       "    </tr>\n",
       "  </tbody>\n",
       "</table>\n",
       "</div>"
      ],
      "text/plain": [
       "    국어  수학  영어   음악\n",
       "형준  90  85  80   90\n",
       "소진  80  80  90  100"
      ]
     },
     "execution_count": 93,
     "metadata": {},
     "output_type": "execute_result"
    }
   ],
   "source": [
    "# df2의 1개 행(row) 제거\n",
    "df2.drop(['인서'], axis = 0)"
   ]
  },
  {
   "cell_type": "code",
   "execution_count": 94,
   "id": "84f7fe14",
   "metadata": {
    "scrolled": true
   },
   "outputs": [
    {
     "data": {
      "text/html": [
       "<div>\n",
       "<style scoped>\n",
       "    .dataframe tbody tr th:only-of-type {\n",
       "        vertical-align: middle;\n",
       "    }\n",
       "\n",
       "    .dataframe tbody tr th {\n",
       "        vertical-align: top;\n",
       "    }\n",
       "\n",
       "    .dataframe thead th {\n",
       "        text-align: right;\n",
       "    }\n",
       "</style>\n",
       "<table border=\"1\" class=\"dataframe\">\n",
       "  <thead>\n",
       "    <tr style=\"text-align: right;\">\n",
       "      <th></th>\n",
       "      <th>국어</th>\n",
       "      <th>수학</th>\n",
       "      <th>영어</th>\n",
       "      <th>음악</th>\n",
       "    </tr>\n",
       "  </thead>\n",
       "  <tbody>\n",
       "    <tr>\n",
       "      <th>인서</th>\n",
       "      <td>70</td>\n",
       "      <td>90</td>\n",
       "      <td>100</td>\n",
       "      <td>70</td>\n",
       "    </tr>\n",
       "  </tbody>\n",
       "</table>\n",
       "</div>"
      ],
      "text/plain": [
       "    국어  수학   영어  음악\n",
       "인서  70  90  100  70"
      ]
     },
     "execution_count": 94,
     "metadata": {},
     "output_type": "execute_result"
    }
   ],
   "source": [
    "# df2의 2개 행(row) 제거\n",
    "df3.drop(['형준', '소진'], axis = 0)"
   ]
  },
  {
   "cell_type": "markdown",
   "id": "f7080398",
   "metadata": {},
   "source": [
    "열 삭제 예제"
   ]
  },
  {
   "cell_type": "code",
   "execution_count": 105,
   "id": "42056e28",
   "metadata": {},
   "outputs": [],
   "source": [
    "import pandas as pd\n",
    "\n",
    "exam_data = {'국어' : [70, 90, 80], '수학' : [90, 85, 80], '영어' : [100, 80, 90], '음악' : [70, 90, 100]}\n",
    "df = pd.DataFrame(exam_data, index=['민혜', '재헌', '숙현'])\n",
    "\n",
    "# 데이터프레임 df를 복제하여 변수 df2에 저장.\n",
    "df2 = df\n",
    "\n",
    "# 데이터프레임 df를 복제하여 변수 df3에 저장.\n",
    "df3 = df"
   ]
  },
  {
   "cell_type": "code",
   "execution_count": 106,
   "id": "816c2e16",
   "metadata": {},
   "outputs": [
    {
     "name": "stdout",
     "output_type": "stream",
     "text": [
      "    국어  수학   영어   음악\n",
      "민혜  70  90  100   70\n",
      "재헌  90  85   80   90\n",
      "숙현  80  80   90  100\n"
     ]
    }
   ],
   "source": [
    "print(df)"
   ]
  },
  {
   "cell_type": "code",
   "execution_count": 107,
   "id": "ffa1de1e",
   "metadata": {},
   "outputs": [
    {
     "data": {
      "text/html": [
       "<div>\n",
       "<style scoped>\n",
       "    .dataframe tbody tr th:only-of-type {\n",
       "        vertical-align: middle;\n",
       "    }\n",
       "\n",
       "    .dataframe tbody tr th {\n",
       "        vertical-align: top;\n",
       "    }\n",
       "\n",
       "    .dataframe thead th {\n",
       "        text-align: right;\n",
       "    }\n",
       "</style>\n",
       "<table border=\"1\" class=\"dataframe\">\n",
       "  <thead>\n",
       "    <tr style=\"text-align: right;\">\n",
       "      <th></th>\n",
       "      <th>수학</th>\n",
       "      <th>영어</th>\n",
       "      <th>음악</th>\n",
       "    </tr>\n",
       "  </thead>\n",
       "  <tbody>\n",
       "    <tr>\n",
       "      <th>민혜</th>\n",
       "      <td>90</td>\n",
       "      <td>100</td>\n",
       "      <td>70</td>\n",
       "    </tr>\n",
       "    <tr>\n",
       "      <th>재헌</th>\n",
       "      <td>85</td>\n",
       "      <td>80</td>\n",
       "      <td>90</td>\n",
       "    </tr>\n",
       "    <tr>\n",
       "      <th>숙현</th>\n",
       "      <td>80</td>\n",
       "      <td>90</td>\n",
       "      <td>100</td>\n",
       "    </tr>\n",
       "  </tbody>\n",
       "</table>\n",
       "</div>"
      ],
      "text/plain": [
       "    수학   영어   음악\n",
       "민혜  90  100   70\n",
       "재헌  85   80   90\n",
       "숙현  80   90  100"
      ]
     },
     "execution_count": 107,
     "metadata": {},
     "output_type": "execute_result"
    }
   ],
   "source": [
    "# df2의 1개 열(column) 삭제\n",
    "df2.drop('국어', axis = 1)"
   ]
  },
  {
   "cell_type": "code",
   "execution_count": 108,
   "id": "f015a005",
   "metadata": {},
   "outputs": [
    {
     "data": {
      "text/html": [
       "<div>\n",
       "<style scoped>\n",
       "    .dataframe tbody tr th:only-of-type {\n",
       "        vertical-align: middle;\n",
       "    }\n",
       "\n",
       "    .dataframe tbody tr th {\n",
       "        vertical-align: top;\n",
       "    }\n",
       "\n",
       "    .dataframe thead th {\n",
       "        text-align: right;\n",
       "    }\n",
       "</style>\n",
       "<table border=\"1\" class=\"dataframe\">\n",
       "  <thead>\n",
       "    <tr style=\"text-align: right;\">\n",
       "      <th></th>\n",
       "      <th>국어</th>\n",
       "      <th>수학</th>\n",
       "    </tr>\n",
       "  </thead>\n",
       "  <tbody>\n",
       "    <tr>\n",
       "      <th>민혜</th>\n",
       "      <td>70</td>\n",
       "      <td>90</td>\n",
       "    </tr>\n",
       "    <tr>\n",
       "      <th>재헌</th>\n",
       "      <td>90</td>\n",
       "      <td>85</td>\n",
       "    </tr>\n",
       "    <tr>\n",
       "      <th>숙현</th>\n",
       "      <td>80</td>\n",
       "      <td>80</td>\n",
       "    </tr>\n",
       "  </tbody>\n",
       "</table>\n",
       "</div>"
      ],
      "text/plain": [
       "    국어  수학\n",
       "민혜  70  90\n",
       "재헌  90  85\n",
       "숙현  80  80"
      ]
     },
     "execution_count": 108,
     "metadata": {},
     "output_type": "execute_result"
    }
   ],
   "source": [
    "# df3의 2개 열(column) 삭제\n",
    "df3.drop(['영어', '음악'], axis = 1)"
   ]
  },
  {
   "cell_type": "markdown",
   "id": "e214477f",
   "metadata": {},
   "source": [
    "행 선택<br>\n",
    "데이터 시각화 부분에서 기준이 될 행을 선택할 수 있음\n",
    "- 인덱스 이름을 기준으로 행을 선택할 시 loc 이용\n",
    " - 범위 지정 시 범위 끝 포함\n",
    "- 정수형 위치 인덱스를 기준으로 행을 선택할 시 iloc 이용\n",
    " - 범위 지정 시 범위 끝 미포함"
   ]
  },
  {
   "cell_type": "markdown",
   "id": "5a590d49",
   "metadata": {},
   "source": [
    "행 선택 예제"
   ]
  },
  {
   "cell_type": "code",
   "execution_count": 110,
   "id": "740e8b79",
   "metadata": {},
   "outputs": [],
   "source": [
    "import pandas as pd\n",
    "\n",
    "exam_data = {'국어' : [70, 90, 80], '수학' : [90, 85, 80], '영어' : [100, 80, 90], '음악' : [70, 90, 100]}\n",
    "df = pd.DataFrame(exam_data, index=['인서', '연정', '린하'])"
   ]
  },
  {
   "cell_type": "code",
   "execution_count": 114,
   "id": "ed8ae359",
   "metadata": {},
   "outputs": [],
   "source": [
    "# 행 인덱스 이름을 사용하여 행 1개 선택\n",
    "label1 = df.loc['인서']\n",
    "position1 = df.iloc[0]"
   ]
  },
  {
   "cell_type": "code",
   "execution_count": 115,
   "id": "cfc1d055",
   "metadata": {},
   "outputs": [
    {
     "name": "stdout",
     "output_type": "stream",
     "text": [
      "국어     70\n",
      "수학     90\n",
      "영어    100\n",
      "음악     70\n",
      "Name: 인서, dtype: int64\n"
     ]
    }
   ],
   "source": [
    "print(label1)"
   ]
  },
  {
   "cell_type": "code",
   "execution_count": 120,
   "id": "120656e3",
   "metadata": {},
   "outputs": [
    {
     "name": "stdout",
     "output_type": "stream",
     "text": [
      "<class 'pandas.core.series.Series'>\n"
     ]
    }
   ],
   "source": [
    "print(position1)"
   ]
  },
  {
   "cell_type": "code",
   "execution_count": 117,
   "id": "94b865f8",
   "metadata": {},
   "outputs": [],
   "source": [
    "# 행 인덱스 이름을 사용하여 행 2개 선택\n",
    "label2 = df.loc[['연정', '린하']]\n",
    "position2 = df.iloc[[1, 2]]"
   ]
  },
  {
   "cell_type": "code",
   "execution_count": 122,
   "id": "948cbd6f",
   "metadata": {},
   "outputs": [
    {
     "name": "stdout",
     "output_type": "stream",
     "text": [
      "<class 'pandas.core.frame.DataFrame'>\n"
     ]
    }
   ],
   "source": [
    "print(type(label2))"
   ]
  },
  {
   "cell_type": "code",
   "execution_count": null,
   "id": "9cbca36f",
   "metadata": {},
   "outputs": [],
   "source": []
  }
 ],
 "metadata": {
  "kernelspec": {
   "display_name": "Python 3 (ipykernel)",
   "language": "python",
   "name": "python3"
  },
  "language_info": {
   "codemirror_mode": {
    "name": "ipython",
    "version": 3
   },
   "file_extension": ".py",
   "mimetype": "text/x-python",
   "name": "python",
   "nbconvert_exporter": "python",
   "pygments_lexer": "ipython3",
   "version": "3.9.7"
  }
 },
 "nbformat": 4,
 "nbformat_minor": 5
}
