{
 "cells": [
  {
   "cell_type": "code",
   "execution_count": null,
   "id": "1cdb8675",
   "metadata": {},
   "outputs": [],
   "source": [
    "#\n",
    "입력값: 4 / 1 3 1 5"
   ]
  },
  {
   "cell_type": "code",
   "execution_count": 11,
   "id": "ae4af735",
   "metadata": {},
   "outputs": [
    {
     "name": "stdout",
     "output_type": "stream",
     "text": [
      "5\n",
      "1 3 1 5 8\n",
      "1 1 3\n",
      "3 5 3\n",
      "3 8 8\n",
      "11\n"
     ]
    }
   ],
   "source": [
    "l = int(input())\n",
    "arr = list(map(int, input().split()))\n",
    "dp = []\n",
    "\n",
    "dp.append(arr[0])\n",
    "dp.append(arr[1])\n",
    "for i in range(2, l):\n",
    "    print(dp[i-2], arr[i], dp[i-1])\n",
    "    dp.append(max(dp[i-2]+arr[i], dp[i-1]))\n",
    "    \n",
    "print(dp.pop())"
   ]
  },
  {
   "cell_type": "code",
   "execution_count": 10,
   "id": "f7dc5eea",
   "metadata": {},
   "outputs": [
    {
     "data": {
      "text/plain": [
       "[1, 3, 3, 8]"
      ]
     },
     "execution_count": 10,
     "metadata": {},
     "output_type": "execute_result"
    }
   ],
   "source": [
    "dp"
   ]
  },
  {
   "cell_type": "code",
   "execution_count": 4,
   "id": "84fe6dc3",
   "metadata": {},
   "outputs": [
    {
     "name": "stdout",
     "output_type": "stream",
     "text": [
      "3\n",
      "10\n",
      "20\n",
      "30\n",
      "50\n"
     ]
    }
   ],
   "source": [
    "\n"
   ]
  },
  {
   "cell_type": "code",
   "execution_count": 5,
   "id": "b9273012",
   "metadata": {},
   "outputs": [
    {
     "data": {
      "text/plain": [
       "[10, 30]"
      ]
     },
     "execution_count": 5,
     "metadata": {},
     "output_type": "execute_result"
    }
   ],
   "source": [
    "dp"
   ]
  },
  {
   "cell_type": "code",
   "execution_count": null,
   "id": "470098ba",
   "metadata": {},
   "outputs": [],
   "source": []
  },
  {
   "cell_type": "code",
   "execution_count": null,
   "id": "69e433b3",
   "metadata": {},
   "outputs": [],
   "source": []
  },
  {
   "cell_type": "code",
   "execution_count": null,
   "id": "c4f636b8",
   "metadata": {},
   "outputs": [],
   "source": []
  }
 ],
 "metadata": {
  "kernelspec": {
   "display_name": "Python 3 (ipykernel)",
   "language": "python",
   "name": "python3"
  },
  "language_info": {
   "codemirror_mode": {
    "name": "ipython",
    "version": 3
   },
   "file_extension": ".py",
   "mimetype": "text/x-python",
   "name": "python",
   "nbconvert_exporter": "python",
   "pygments_lexer": "ipython3",
   "version": "3.9.7"
  }
 },
 "nbformat": 4,
 "nbformat_minor": 5
}
