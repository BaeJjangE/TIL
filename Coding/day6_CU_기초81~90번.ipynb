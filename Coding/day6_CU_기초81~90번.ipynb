{
 "cells": [
  {
   "cell_type": "code",
   "execution_count": 35,
   "id": "83d1ecda",
   "metadata": {
    "scrolled": true
   },
   "outputs": [
    {
     "name": "stdout",
     "output_type": "stream",
     "text": [
      "B\n",
      "B*1=B\n",
      "B*2=16\n",
      "B*3=21\n",
      "B*4=2C\n",
      "B*5=37\n",
      "B*6=42\n",
      "B*7=4D\n",
      "B*8=58\n",
      "B*9=63\n",
      "B*A=6E\n",
      "B*B=79\n",
      "B*C=84\n",
      "B*D=8F\n",
      "B*E=9A\n",
      "B*F=A5\n"
     ]
    }
   ],
   "source": [
    "# 81\n",
    "a = input()\n",
    "b = {1:1,2:2,3:3,4:4,5:5,6:6,7:7,8:8,9:9,'A':10,'B':11,'C':12,'D':13,'E':14,'F':15}\n",
    "c = b[a]\n",
    "for i in b.values():\n",
    "    print(a,f\"*{list(b.keys())[i-1]}=\",hex(c*i)[2:].upper(), sep='')"
   ]
  },
  {
   "cell_type": "code",
   "execution_count": 61,
   "id": "a4bacc72",
   "metadata": {},
   "outputs": [
    {
     "name": "stdout",
     "output_type": "stream",
     "text": [
      "A\n",
      "A*1=A\n",
      "A*2=14\n",
      "A*3=1E\n",
      "A*4=28\n",
      "A*5=32\n",
      "A*6=3C\n",
      "A*7=46\n",
      "A*8=50\n",
      "A*9=5A\n",
      "A*A=64\n",
      "A*B=6E\n",
      "A*C=78\n",
      "A*D=82\n",
      "A*E=8C\n",
      "A*F=96\n"
     ]
    }
   ],
   "source": [
    "# 81 간단한 접근\n",
    "a = int(input(), 16)\n",
    "for i in range(1, 16):\n",
    "    print(hex(a)[2:].upper(), \"*\", hex(i)[2:].upper(), \"=\", hex(a*i)[2:].upper(),sep='')"
   ]
  },
  {
   "cell_type": "code",
   "execution_count": 64,
   "id": "304f7212",
   "metadata": {},
   "outputs": [
    {
     "name": "stdout",
     "output_type": "stream",
     "text": [
      "29\n",
      "1 2 X 4 5 X 7 8 X 10 11 12 X 14 15 X 17 18 X 20 21 22 X 24 25 X 27 28 X "
     ]
    }
   ],
   "source": [
    "# 82 : 369게임\n",
    "a = int(input())\n",
    "for i in range(1, a+1):\n",
    "    if i not in [3, 6, 9, 13, 16, 19, 23, 26, 29]:\n",
    "        print(i, end=' ')\n",
    "    elif i <= 30:\n",
    "        print('X', end=' ')"
   ]
  },
  {
   "cell_type": "code",
   "execution_count": 66,
   "id": "992ab1b3",
   "metadata": {},
   "outputs": [
    {
     "name": "stdout",
     "output_type": "stream",
     "text": [
      "29\n",
      "1 2 X 4 5 X 7 8 X 10 11 12 X 14 15 X 17 18 X 20 21 22 X 24 25 X 27 28 X "
     ]
    }
   ],
   "source": [
    "# 82 보완\n",
    "a = int(input())\n",
    "for i in range(1, a+1):\n",
    "    if i % 10 not in [3,6,9]:\n",
    "        print(i, end=' ')\n",
    "    elif <= 30:\n",
    "        print('X', end=' ')"
   ]
  },
  {
   "cell_type": "code",
   "execution_count": 73,
   "id": "43c12b92",
   "metadata": {},
   "outputs": [
    {
     "name": "stdout",
     "output_type": "stream",
     "text": [
      "2 2 2\n",
      "0 0 0\n",
      "0 0 1\n",
      "0 1 0\n",
      "0 1 1\n",
      "1 0 0\n",
      "1 0 1\n",
      "1 1 0\n",
      "1 1 1\n",
      "8\n"
     ]
    }
   ],
   "source": [
    "# 83 : 빛 섞어 색 만들기\n",
    "r, g, b = map(int, input().split())\n",
    "for i in range(r):\n",
    "    for j in range(g):\n",
    "        for z in range(b):\n",
    "            print(i,j,z)\n",
    "print(r*g*b)"
   ]
  },
  {
   "cell_type": "code",
   "execution_count": 76,
   "id": "61f354f5",
   "metadata": {},
   "outputs": [
    {
     "name": "stdout",
     "output_type": "stream",
     "text": [
      "44100 16 2 10\n",
      "1.7 MB\n"
     ]
    }
   ],
   "source": [
    "# 84 : 소리 파일 저장용량 계산하기\n",
    "h, b, c, s = map(int, input().split())\n",
    "print(round((h*b*c*s)/8/1024/1024, 1), \"MB\")"
   ]
  },
  {
   "cell_type": "code",
   "execution_count": 82,
   "id": "830e7180",
   "metadata": {},
   "outputs": [
    {
     "name": "stdout",
     "output_type": "stream",
     "text": [
      "0 0 0\n",
      "0.00 MB\n"
     ]
    }
   ],
   "source": [
    "# 85: 그림 파일 저장용량 계산하기\n",
    "w, h, b = map(int, input().split())\n",
    "a = round((w*h*b)/8/1024/1024, 2)\n",
    "print(\"{:.2f}\".format(a), \"MB\")"
   ]
  },
  {
   "cell_type": "code",
   "execution_count": 97,
   "id": "fbf19ee3",
   "metadata": {},
   "outputs": [
    {
     "name": "stdout",
     "output_type": "stream",
     "text": [
      "57\n",
      "66\n"
     ]
    }
   ],
   "source": [
    "# 86: 거기까지! 이제 그만~\n",
    "a = int(input())\n",
    "b = 0\n",
    "for i in range(1, a+2):\n",
    "    if b < a:\n",
    "        b += i\n",
    "    else:\n",
    "        print(b)\n",
    "        break"
   ]
  },
  {
   "cell_type": "code",
   "execution_count": 99,
   "id": "6cfd150c",
   "metadata": {},
   "outputs": [
    {
     "name": "stdout",
     "output_type": "stream",
     "text": [
      "12\n",
      "1\n",
      "2\n",
      "4\n",
      "5\n",
      "7\n",
      "8\n",
      "10\n",
      "11\n"
     ]
    }
   ],
   "source": [
    "# 87\n",
    "a = int(input())\n",
    "for i in range(a+1):\n",
    "    if i % 3 != 0:\n",
    "        print(i)"
   ]
  },
  {
   "cell_type": "code",
   "execution_count": 103,
   "id": "ea2f43ca",
   "metadata": {},
   "outputs": [
    {
     "name": "stdout",
     "output_type": "stream",
     "text": [
      "1 3 5\n",
      "13\n"
     ]
    }
   ],
   "source": [
    "# 88: 수 나열하기1\n",
    "a, d, n = map(int, input().split())\n",
    "print(a + d * (n-1)) "
   ]
  },
  {
   "cell_type": "code",
   "execution_count": 108,
   "id": "437ce045",
   "metadata": {},
   "outputs": [
    {
     "name": "stdout",
     "output_type": "stream",
     "text": [
      "2 5 7\n",
      "31250\n"
     ]
    }
   ],
   "source": [
    "# 89: 수 나열하기2\n",
    "a, r, n = map(int, input().split())\n",
    "print(a * r**(n-1))"
   ]
  },
  {
   "cell_type": "code",
   "execution_count": 123,
   "id": "0567e2a5",
   "metadata": {},
   "outputs": [
    {
     "name": "stdout",
     "output_type": "stream",
     "text": [
      "1 -2 1 2\n",
      "-1\n"
     ]
    }
   ],
   "source": [
    "# 90: 수 나열하기3\n",
    "a, m, d, n = map(int, input().split())\n",
    "before_num = a\n",
    "for i in range(1, n):\n",
    "    before_num = before_num * m + d\n",
    "print(before_num)"
   ]
  },
  {
   "cell_type": "code",
   "execution_count": 122,
   "id": "6906bd98",
   "metadata": {},
   "outputs": [
    {
     "data": {
      "text/plain": [
       "[]"
      ]
     },
     "execution_count": 122,
     "metadata": {},
     "output_type": "execute_result"
    }
   ],
   "source": []
  },
  {
   "cell_type": "code",
   "execution_count": null,
   "id": "fc50669d",
   "metadata": {},
   "outputs": [],
   "source": []
  }
 ],
 "metadata": {
  "kernelspec": {
   "display_name": "Python 3 (ipykernel)",
   "language": "python",
   "name": "python3"
  },
  "language_info": {
   "codemirror_mode": {
    "name": "ipython",
    "version": 3
   },
   "file_extension": ".py",
   "mimetype": "text/x-python",
   "name": "python",
   "nbconvert_exporter": "python",
   "pygments_lexer": "ipython3",
   "version": "3.9.7"
  }
 },
 "nbformat": 4,
 "nbformat_minor": 5
}
