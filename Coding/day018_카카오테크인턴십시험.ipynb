{
 "cells": [
  {
   "cell_type": "code",
   "execution_count": 31,
   "id": "27a1f6a3",
   "metadata": {},
   "outputs": [],
   "source": [
    "# 1번\n",
    "def solution(survey, choices):\n",
    "    result_table = {\"R\":0, \"T\":0, \"C\":0, \"F\":0, \"J\":0, \"M\":0, \"A\":0, \"N\":0}\n",
    "    table = {1:3,2:2,3:1,4:0,5:1,6:2,7:3}\n",
    "    \n",
    "    flag = 0\n",
    "    for i in survey:\n",
    "        table[choices[flag]] # +1\n",
    "        \n",
    "        if choices[flag] in [1, 2, 3]:\n",
    "            result_table[i[0]] += table[choices[flag]]\n",
    "        elif choices[flag] in [5, 6, 7]:\n",
    "            result_table[i[1]] += table[choices[flag]]\n",
    "        flag += 1\n",
    "        \n",
    "    answer = ''\n",
    "    if result_table[\"R\"] >= result_table[\"T\"]:\n",
    "        answer += \"R\"\n",
    "    else:\n",
    "        answer += \"T\"\n",
    "    if result_table[\"C\"] >= result_table[\"F\"]:\n",
    "        answer += \"C\"\n",
    "    else:\n",
    "        answer += \"F\"\n",
    "    if result_table[\"J\"] >= result_table[\"M\"]:\n",
    "        answer += \"J\"\n",
    "    else:\n",
    "        answer += \"M\"\n",
    "    if result_table[\"A\"] >= result_table[\"N\"]:\n",
    "        answer += \"A\"\n",
    "    else:\n",
    "        answer += \"N\"\n",
    "\n",
    "    return answer"
   ]
  },
  {
   "cell_type": "code",
   "execution_count": null,
   "id": "866e915e",
   "metadata": {},
   "outputs": [],
   "source": []
  },
  {
   "cell_type": "code",
   "execution_count": null,
   "id": "f56686b8",
   "metadata": {},
   "outputs": [],
   "source": [
    "# 2번\n",
    "def solution(queue1, queue2):\n",
    "    answer = 0\n",
    "    \n",
    "    from collections import deque\n",
    "    queue1 = deque(queue1)\n",
    "    queue2 = deque(queue2)\n",
    "\n",
    "    while sum(queue1) != sum(queue2):\n",
    "        if sum(queue1) < sum(queue2):\n",
    "            queue1.append(queue2.popleft())\n",
    "            answer += 1\n",
    "        elif sum(queue1) > sum(queue2):\n",
    "            queue2.append(queue1.popleft())\n",
    "            answer += 1\n",
    "        if (bool(queue1) == False) or (bool(queue2) == False):\n",
    "            answer = -1\n",
    "            break   \n",
    "\n",
    "    return answer"
   ]
  },
  {
   "cell_type": "code",
   "execution_count": 87,
   "id": "53b2bd5a",
   "metadata": {
    "scrolled": true
   },
   "outputs": [
    {
     "name": "stdout",
     "output_type": "stream",
     "text": [
      "-1\n"
     ]
    }
   ],
   "source": [
    "# input\n",
    "queue1 = [1, 1]\n",
    "queue2 = [1, 5]\n",
    "\n",
    "queue_mean = (sum(queue1)+sum(queue2)) / 2\n",
    "cnt1 = 0\n",
    "cnt2 = 0\n",
    "\n",
    "from collections import deque\n",
    "queue1 = deque(queue1)\n",
    "queue2 = deque(queue2)\n",
    "\n",
    "\n",
    "while sum(queue1) != sum(queue2):\n",
    "    if sum(queue1) < sum(queue2):\n",
    "        queue1.append(queue2.popleft())\n",
    "        cnt1 += 1\n",
    "    elif sum(queue1) > sum(queue2):\n",
    "        queue2.append(queue1.popleft())\n",
    "        cnt1 += 1\n",
    "    if (bool(queue1) == False) or (bool(queue2) == False):\n",
    "        cnt1 = -1\n",
    "        break\n",
    "        \n",
    "print(cnt1)"
   ]
  },
  {
   "cell_type": "code",
   "execution_count": 38,
   "id": "e4ba9434",
   "metadata": {},
   "outputs": [
    {
     "ename": "AttributeError",
     "evalue": "'int' object has no attribute 'pop'",
     "output_type": "error",
     "traceback": [
      "\u001b[1;31m---------------------------------------------------------------------------\u001b[0m",
      "\u001b[1;31mAttributeError\u001b[0m                            Traceback (most recent call last)",
      "\u001b[1;32m~\\AppData\\Local\\Temp/ipykernel_16388/1564563821.py\u001b[0m in \u001b[0;36m<module>\u001b[1;34m\u001b[0m\n\u001b[0;32m      1\u001b[0m \u001b[0mqueue1\u001b[0m \u001b[1;33m=\u001b[0m \u001b[1;33m[\u001b[0m\u001b[1;36m3\u001b[0m\u001b[1;33m,\u001b[0m \u001b[1;36m2\u001b[0m\u001b[1;33m,\u001b[0m \u001b[1;36m7\u001b[0m\u001b[1;33m,\u001b[0m \u001b[1;36m2\u001b[0m\u001b[1;33m]\u001b[0m\u001b[1;33m\u001b[0m\u001b[1;33m\u001b[0m\u001b[0m\n\u001b[0;32m      2\u001b[0m \u001b[0mqueue2\u001b[0m \u001b[1;33m=\u001b[0m \u001b[1;33m[\u001b[0m\u001b[1;36m4\u001b[0m\u001b[1;33m,\u001b[0m \u001b[1;36m6\u001b[0m\u001b[1;33m,\u001b[0m \u001b[1;36m5\u001b[0m\u001b[1;33m,\u001b[0m \u001b[1;36m1\u001b[0m\u001b[1;33m]\u001b[0m\u001b[1;33m\u001b[0m\u001b[1;33m\u001b[0m\u001b[0m\n\u001b[1;32m----> 3\u001b[1;33m \u001b[0mqueue1\u001b[0m\u001b[1;33m[\u001b[0m\u001b[1;36m0\u001b[0m\u001b[1;33m]\u001b[0m\u001b[1;33m.\u001b[0m\u001b[0mpop\u001b[0m\u001b[1;33m(\u001b[0m\u001b[1;33m)\u001b[0m\u001b[1;33m\u001b[0m\u001b[1;33m\u001b[0m\u001b[0m\n\u001b[0m",
      "\u001b[1;31mAttributeError\u001b[0m: 'int' object has no attribute 'pop'"
     ]
    }
   ],
   "source": [
    "queue1 = [3, 2, 7, 2]\n",
    "queue2 = [4, 6, 5, 1]\n",
    "queue1.pop()"
   ]
  },
  {
   "cell_type": "code",
   "execution_count": 41,
   "id": "debeeb4c",
   "metadata": {},
   "outputs": [
    {
     "data": {
      "text/plain": [
       "deque([3, 2, 7, 2])"
      ]
     },
     "execution_count": 41,
     "metadata": {},
     "output_type": "execute_result"
    }
   ],
   "source": [
    "from collections import deque\n",
    "queue = deque(queue1)\n",
    "queue"
   ]
  },
  {
   "cell_type": "code",
   "execution_count": 42,
   "id": "aba4a0c6",
   "metadata": {},
   "outputs": [
    {
     "ename": "TypeError",
     "evalue": "an integer is required",
     "output_type": "error",
     "traceback": [
      "\u001b[1;31m---------------------------------------------------------------------------\u001b[0m",
      "\u001b[1;31mTypeError\u001b[0m                                 Traceback (most recent call last)",
      "\u001b[1;32m~\\AppData\\Local\\Temp/ipykernel_16388/2060787149.py\u001b[0m in \u001b[0;36m<module>\u001b[1;34m\u001b[0m\n\u001b[1;32m----> 1\u001b[1;33m \u001b[0mqueue1\u001b[0m\u001b[1;33m,\u001b[0m \u001b[0mqueue2\u001b[0m \u001b[1;33m=\u001b[0m \u001b[0mdeque\u001b[0m\u001b[1;33m(\u001b[0m\u001b[0mqueue1\u001b[0m\u001b[1;33m,\u001b[0m \u001b[0mqueue2\u001b[0m\u001b[1;33m)\u001b[0m\u001b[1;33m\u001b[0m\u001b[1;33m\u001b[0m\u001b[0m\n\u001b[0m",
      "\u001b[1;31mTypeError\u001b[0m: an integer is required"
     ]
    }
   ],
   "source": [
    "queue1, queue2 = deque(queue1, queue2)"
   ]
  },
  {
   "cell_type": "code",
   "execution_count": null,
   "id": "a7fa4c90",
   "metadata": {},
   "outputs": [],
   "source": []
  },
  {
   "cell_type": "code",
   "execution_count": null,
   "id": "6b28b886",
   "metadata": {},
   "outputs": [],
   "source": [
    "# 3번\n",
    "def solution(alp, cop, problems):\n",
    "    problems = [[10,15,2,1,2],[20,20,3,3,4]]\n",
    "    alp_cop = {\"alp\":10, \"cop\":10}\n",
    "    result = 0\n",
    "\n",
    "    # 필요한 최대 alp 구하기\n",
    "    nes_alp = []\n",
    "    for i in range(len(problems)):\n",
    "        nes_alp.append(problems[i][0])\n",
    "    need_alp = max(nes_alp)\n",
    "\n",
    "    # 필요한 최대 cop 구하기\n",
    "    nes_cop = []\n",
    "    for i in range(len(problems)):\n",
    "        nes_cop.append(problems[i][0])\n",
    "    need_cop = max(nes_cop)\n",
    "\n",
    "    # 가장 낮은 alp와 cop를 요구하는 문제 찾기\n",
    "    min_alpcop1 = []\n",
    "    for i in problems:\n",
    "        min_alpcop1.append(i[0] + i[1])\n",
    "        min2_alpcop = min(min_alpcop1)\n",
    "\n",
    "    for i in problems:\n",
    "        if min2_alpcop == (i[0] + i[1]):\n",
    "            min_problem = i\n",
    "\n",
    "    if alp_cop[\"alp\"] < min_problem[0]:\n",
    "        alp_cop[\"alp\"] += 1\n",
    "        result += 1\n",
    "    elif  alp_cop[\"cop\"] < min_problem[1]:\n",
    "        alp_cop[\"cop\"] += 1\n",
    "        result += 1\n",
    "\n",
    "    # alp, cop 기르기\n",
    "    flag = True\n",
    "    while flag:\n",
    "        while (alp_cop[\"alp\"] < min_problem[0]) or ( alp_cop[\"cop\"] < min_problem[1]):\n",
    "            if alp_cop[\"alp\"] < min_problem[0]:\n",
    "                alp_cop[\"alp\"] += 1\n",
    "                result += 1\n",
    "            elif alp_cop[\"cop\"] < min_problem[1]:\n",
    "                alp_cop[\"cop\"] += 1\n",
    "                result += 1\n",
    "                \n",
    "                \n",
    "        max_good = []\n",
    "        for i in range(len(problems)):\n",
    "            max_good.append(((problems[i][2] + problems[i][3]) / problems[i][4]))\n",
    "            max_good2 = max(max_good)\n",
    "            if max_good2 == ((problems[i][2] + problems[i][3]) / problems[i][4]):\n",
    "                \n",
    "            \n",
    "            \n",
    "            \n",
    "            \n",
    "            if ((problems[i][2] + problems[i][3]) / problems[i][4]) > 1:\n",
    "                if (alp_cop[\"alp\"] < problems[i][0]) or (alp_cop[\"cop\"] < problems[i][1]):\n",
    "                    alp_cop[\"alp\"] += problems[i][2]\n",
    "                    alp_cop[\"cop\"] += problems[i][3]\n",
    "                    result += problems[i][4]\n",
    "\n",
    "\n",
    "\n",
    "                if (alp_cop[\"alp\"] >= need_alp) and (alp_cop[\"cop\"] >= need_cop):\n",
    "                    flag = False\n",
    "            else:\n",
    "\n",
    "                while (alp_cop[\"alp\"] < need_alp) or (alp_cop[\"cop\"] < need_cop):\n",
    "                    if alp_cop[\"alp\"] < min_problem[0]:\n",
    "                        alp_cop[\"alp\"] += 1\n",
    "                        result += 1\n",
    "                    elif alp_cop[\"cop\"] < min_problem[1]:\n",
    "                        alp_cop[\"cop\"] += 1\n",
    "                        result += 1\n",
    "\n",
    "    \n",
    "    return result"
   ]
  },
  {
   "cell_type": "code",
   "execution_count": 179,
   "id": "b916043f",
   "metadata": {},
   "outputs": [
    {
     "name": "stdout",
     "output_type": "stream",
     "text": [
      "21\n"
     ]
    }
   ],
   "source": [
    "problems = [[10,15,2,1,2],[20,20,3,3,4]]\n",
    "alp_cop = {\"alp\":10, \"cop\":10}\n",
    "result = 0\n",
    "\n",
    "# 필요한 최대 alp 구하기\n",
    "nes_alp = []\n",
    "for i in range(len(problems)):\n",
    "    nes_alp.append(problems[i][0])\n",
    "need_alp = max(nes_alp)\n",
    "\n",
    "# 필요한 최대 cop 구하기\n",
    "nes_cop = []\n",
    "for i in range(len(problems)):\n",
    "    nes_cop.append(problems[i][0])\n",
    "need_cop = max(nes_cop)\n",
    "\n",
    "# 가장 낮은 alp와 cop를 요구하는 문제 찾기\n",
    "min_alpcop1 = []\n",
    "for i in problems:\n",
    "    min_alpcop1.append(i[0] + i[1])\n",
    "    min2_alpcop = min(min_alpcop1)\n",
    "\n",
    "for i in problems:\n",
    "    if min2_alpcop == (i[0] + i[1]):\n",
    "        min_problem = i\n",
    "\n",
    "if alp_cop[\"alp\"] < min_problem[0]:\n",
    "    alp_cop[\"alp\"] += 1\n",
    "    result += 1\n",
    "elif  alp_cop[\"cop\"] < min_problem[1]:\n",
    "    alp_cop[\"cop\"] += 1\n",
    "    result += 1\n",
    "\n",
    "# alp, cop 기르기\n",
    "flag = True\n",
    "while flag:\n",
    "    while (alp_cop[\"alp\"] < min_problem[0]) or ( alp_cop[\"cop\"] < min_problem[1]):\n",
    "        if alp_cop[\"alp\"] < min_problem[0]:\n",
    "            alp_cop[\"alp\"] += 1\n",
    "            result += 1\n",
    "        elif alp_cop[\"cop\"] < min_problem[1]:\n",
    "            alp_cop[\"cop\"] += 1\n",
    "            result += 1\n",
    "    \n",
    "    for i in range(len(problems)):\n",
    "        if ((problems[i][2] + problems[i][3]) / problems[i][4]) > 1:\n",
    "            if (alp_cop[\"alp\"] < problems[i][0]) or (alp_cop[\"cop\"] < problems[i][1]):\n",
    "                alp_cop[\"alp\"] += problems[i][2]\n",
    "                alp_cop[\"cop\"] += problems[i][3]\n",
    "                result += problems[i][4]\n",
    "            \n",
    "                \n",
    "                \n",
    "            if (alp_cop[\"alp\"] >= need_alp) and (alp_cop[\"cop\"] >= need_cop):\n",
    "                flag = False\n",
    "        else:\n",
    "            \n",
    "            while (alp_cop[\"alp\"] < need_alp) or (alp_cop[\"cop\"] < need_cop):\n",
    "                if alp_cop[\"alp\"] < min_problem[0]:\n",
    "                    alp_cop[\"alp\"] += 1\n",
    "                    result += 1\n",
    "                elif alp_cop[\"cop\"] < min_problem[1]:\n",
    "                    alp_cop[\"cop\"] += 1\n",
    "                    result += 1\n",
    "                \n",
    "print(result)\n",
    "            \n",
    "    \n"
   ]
  },
  {
   "cell_type": "code",
   "execution_count": 173,
   "id": "ff6f40c0",
   "metadata": {},
   "outputs": [
    {
     "data": {
      "text/plain": [
       "13"
      ]
     },
     "execution_count": 173,
     "metadata": {},
     "output_type": "execute_result"
    }
   ],
   "source": [
    "result"
   ]
  },
  {
   "cell_type": "code",
   "execution_count": 171,
   "id": "843dd45e",
   "metadata": {},
   "outputs": [
    {
     "data": {
      "text/plain": [
       "1.5"
      ]
     },
     "execution_count": 171,
     "metadata": {},
     "output_type": "execute_result"
    }
   ],
   "source": [
    "((problems[i][2] + problems[i][3]) / problems[i][4]) "
   ]
  },
  {
   "cell_type": "code",
   "execution_count": 166,
   "id": "867b7de8",
   "metadata": {},
   "outputs": [
    {
     "data": {
      "text/plain": [
       "13"
      ]
     },
     "execution_count": 166,
     "metadata": {},
     "output_type": "execute_result"
    }
   ],
   "source": [
    "result"
   ]
  },
  {
   "cell_type": "code",
   "execution_count": 161,
   "id": "0044db3c",
   "metadata": {},
   "outputs": [
    {
     "data": {
      "text/plain": [
       "25"
      ]
     },
     "execution_count": 161,
     "metadata": {},
     "output_type": "execute_result"
    }
   ],
   "source": [
    "min2_alpcop"
   ]
  },
  {
   "cell_type": "code",
   "execution_count": 95,
   "id": "c0559743",
   "metadata": {},
   "outputs": [
    {
     "data": {
      "text/plain": [
       "20"
      ]
     },
     "execution_count": 95,
     "metadata": {},
     "output_type": "execute_result"
    }
   ],
   "source": [
    "need_alp"
   ]
  },
  {
   "cell_type": "code",
   "execution_count": 98,
   "id": "4ec217d0",
   "metadata": {},
   "outputs": [
    {
     "data": {
      "text/plain": [
       "True"
      ]
     },
     "execution_count": 98,
     "metadata": {},
     "output_type": "execute_result"
    }
   ],
   "source": [
    "(1, 2) == (1, 2)"
   ]
  },
  {
   "cell_type": "code",
   "execution_count": null,
   "id": "d1e9b9f4",
   "metadata": {},
   "outputs": [],
   "source": []
  },
  {
   "cell_type": "code",
   "execution_count": null,
   "id": "e2fd2277",
   "metadata": {},
   "outputs": [],
   "source": [
    "# 4번\n"
   ]
  },
  {
   "cell_type": "code",
   "execution_count": null,
   "id": "1cef5f7b",
   "metadata": {},
   "outputs": [],
   "source": []
  },
  {
   "cell_type": "code",
   "execution_count": null,
   "id": "b7f5b42e",
   "metadata": {},
   "outputs": [],
   "source": []
  },
  {
   "cell_type": "code",
   "execution_count": null,
   "id": "75a2f29e",
   "metadata": {},
   "outputs": [],
   "source": []
  },
  {
   "cell_type": "code",
   "execution_count": null,
   "id": "7d79f86c",
   "metadata": {},
   "outputs": [],
   "source": []
  },
  {
   "cell_type": "code",
   "execution_count": null,
   "id": "0e3f149a",
   "metadata": {},
   "outputs": [],
   "source": []
  },
  {
   "cell_type": "code",
   "execution_count": null,
   "id": "815dbfd9",
   "metadata": {},
   "outputs": [],
   "source": []
  },
  {
   "cell_type": "code",
   "execution_count": 155,
   "id": "1b0500ce",
   "metadata": {},
   "outputs": [],
   "source": [
    "# 5번\n",
    "def solution(rc, operations):\n",
    "    from copy import deepcopy\n",
    "    rc1 = deepcopy(rc)\n",
    "    rc2 = deepcopy(rc)\n",
    "    for i in operations:\n",
    "        if i == \"Rotate\":\n",
    "            for j in range(len(rc)):\n",
    "                if j == 0:\n",
    "                    for z in range(len(rc[j])-1):\n",
    "                        rc1[j][z+1] = rc2[j][z]\n",
    "                    rc1[j+1][len(rc[j])-1] = rc2[j][len(rc[j])-1]\n",
    "                elif j == (len(rc)-1):\n",
    "                    for z in range(len(rc[j])-1, 0, -1):\n",
    "                        rc1[j][z-1] = rc2[j][z]\n",
    "                    rc1[j-1][0] = rc2[j][0]\n",
    "                else:\n",
    "                    rc1[j-1][0] = rc2[j][0]\n",
    "                    rc1[j+1][len(rc[j])-1] = rc2[j][len(rc[j])-1]\n",
    "            rc2 = deepcopy(rc1)\n",
    "            answer = rc1\n",
    "\n",
    "        if i == \"ShiftRow\":\n",
    "            for j in range(len(rc)):    \n",
    "                if j == (len(rc)-1):\n",
    "                    rc2[0] = rc1[j]\n",
    "                else:\n",
    "                    rc2[j+1] = rc1[j]\n",
    "            rc1= deepcopy(rc2)\n",
    "            answer = rc2              \n",
    "                    \n",
    "    return answer"
   ]
  },
  {
   "cell_type": "code",
   "execution_count": 156,
   "id": "c789b0fe",
   "metadata": {},
   "outputs": [
    {
     "data": {
      "text/plain": [
       "[[8, 3, 3], [4, 9, 7], [3, 8, 6]]"
      ]
     },
     "execution_count": 156,
     "metadata": {},
     "output_type": "execute_result"
    }
   ],
   "source": [
    "solution(rc, operations)"
   ]
  },
  {
   "cell_type": "code",
   "execution_count": 153,
   "id": "bc7fea21",
   "metadata": {},
   "outputs": [
    {
     "name": "stdout",
     "output_type": "stream",
     "text": [
      "[[8, 3, 3], [4, 9, 7], [3, 8, 6]]\n"
     ]
    }
   ],
   "source": [
    "rc = [[8, 6, 3], [3, 3, 7], [8, 4, 9]]\n",
    "operations = [\"Rotate\", \"ShiftRow\", \"ShiftRow\"]\n",
    "\n",
    "from copy import deepcopy\n",
    "rc1 = deepcopy(rc)\n",
    "rc2 = deepcopy(rc)\n",
    "for i in operations:\n",
    "    if i == \"Rotate\":\n",
    "        rc1 = deepcopy(rc2)\n",
    "        for j in range(len(rc)):\n",
    "            if j == 0:\n",
    "                for z in range(len(rc[j])-1):\n",
    "                    rc1[j][z+1] = rc[j][z]\n",
    "                rc1[j+1][len(rc[j])-1] = rc[j][len(rc[j])-1]\n",
    "            elif j == (len(rc)-1):\n",
    "                for z in range(len(rc[j])-1, 0, -1):\n",
    "                    rc1[j][z-1] = rc[j][z]\n",
    "                rc1[j-1][0] = rc[j][0]\n",
    "            else:\n",
    "                rc1[j-1][0] = rc[j][0]\n",
    "                rc1[j+1][len(rc)-1] = rc[j][len(rc)-1]\n",
    "        rc2 = deepcopy(rc1)\n",
    "        answer = rc1\n",
    "                    \n",
    "    if i == \"ShiftRow\":\n",
    "        rc2 = deepcopy(rc1)\n",
    "        for j in range(len(rc)):    \n",
    "            if j == (len(rc)-1):\n",
    "                rc2[0] = rc1[j]\n",
    "            else:\n",
    "                rc2[j+1] = rc1[j]\n",
    "        rc1= deepcopy(rc2)\n",
    "        answer = rc2\n",
    "\n",
    "print(answer)"
   ]
  },
  {
   "cell_type": "code",
   "execution_count": 148,
   "id": "67be509c",
   "metadata": {},
   "outputs": [
    {
     "name": "stdout",
     "output_type": "stream",
     "text": [
      "[[1, 6, 7, 8], [5, 9, 10, 4], [2, 3, 12, 11]]\n"
     ]
    }
   ],
   "source": [
    "rc = [[1, 2, 3, 4], [5, 6, 7, 8], [9, 10, 11, 12]]\n",
    "operations = [\"ShiftRow\", \"Rotate\", \"ShiftRow\", \"Rotate\"]\n",
    "\n",
    "from copy import deepcopy\n",
    "rc1 = deepcopy(rc)\n",
    "rc2 = deepcopy(rc)\n",
    "for i in operations:\n",
    "    if i == \"Rotate\":\n",
    "        rc1 = deepcopy(rc2)\n",
    "        for j in range(len(rc)):\n",
    "            if j == 0:\n",
    "                for z in range(len(rc[j])-1):\n",
    "                    rc1[j][z+1] = rc2[j][z]\n",
    "                rc1[j+1][len(rc[j])-1] = rc2[j][len(rc[j])-1]\n",
    "            elif j == (len(rc)-1):\n",
    "                for z in range(len(rc[j])-1, 0, -1):\n",
    "                    rc1[j][z-1] = rc2[j][z]\n",
    "                rc1[j-1][0] = rc2[j][0]\n",
    "            else:\n",
    "                rc1[j-1][0] = rc2[j][0]\n",
    "                rc1[j+1][len(rc[j])-1] = rc2[j][len(rc[j])-1]\n",
    "        rc2 = deepcopy(rc1)\n",
    "        answer = rc1\n",
    "                    \n",
    "    if i == \"ShiftRow\":\n",
    "        rc2 = deepcopy(rc1)\n",
    "        for j in range(len(rc)):    \n",
    "            if j == (len(rc)-1):\n",
    "                rc2[0] = rc1[j]\n",
    "            else:\n",
    "                rc2[j+1] = rc1[j]\n",
    "        rc1= deepcopy(rc2)\n",
    "        answer = rc2\n",
    "\n",
    "print(answer)\n",
    "             "
   ]
  },
  {
   "cell_type": "code",
   "execution_count": 143,
   "id": "b9be4b53",
   "metadata": {},
   "outputs": [
    {
     "data": {
      "text/plain": [
       "3"
      ]
     },
     "execution_count": 143,
     "metadata": {},
     "output_type": "execute_result"
    }
   ],
   "source": [
    "rc1[1][len(rc)-1]"
   ]
  },
  {
   "cell_type": "code",
   "execution_count": 145,
   "id": "c4f0f048",
   "metadata": {},
   "outputs": [
    {
     "data": {
      "text/plain": [
       "3"
      ]
     },
     "execution_count": 145,
     "metadata": {},
     "output_type": "execute_result"
    }
   ],
   "source": [
    "len(rc)"
   ]
  },
  {
   "cell_type": "code",
   "execution_count": 144,
   "id": "8fed215b",
   "metadata": {},
   "outputs": [
    {
     "data": {
      "text/plain": [
       "12"
      ]
     },
     "execution_count": 144,
     "metadata": {},
     "output_type": "execute_result"
    }
   ],
   "source": [
    "rc2[1][len(rc)]"
   ]
  },
  {
   "cell_type": "code",
   "execution_count": 104,
   "id": "5de37cda",
   "metadata": {},
   "outputs": [
    {
     "name": "stdout",
     "output_type": "stream",
     "text": [
      "10\n",
      "9\n",
      "8\n",
      "7\n",
      "6\n",
      "5\n",
      "4\n",
      "3\n",
      "2\n"
     ]
    }
   ],
   "source": [
    "for i in range(10, 1, -1):\n",
    "    print(i)"
   ]
  },
  {
   "cell_type": "code",
   "execution_count": 99,
   "id": "9d98a233",
   "metadata": {},
   "outputs": [
    {
     "data": {
      "text/plain": [
       "[1, 2]"
      ]
     },
     "execution_count": 99,
     "metadata": {},
     "output_type": "execute_result"
    }
   ],
   "source": [
    "rc = [[1, 2, 3], [4, 5, 6], [7, 8, 9]]\n",
    "rc[0][:len(rc[0])-1]"
   ]
  },
  {
   "cell_type": "code",
   "execution_count": 101,
   "id": "050b5e74",
   "metadata": {},
   "outputs": [
    {
     "data": {
      "text/plain": [
       "[[1, 2, 3], [4, 5, 6], [7, 8, 9]]"
      ]
     },
     "execution_count": 101,
     "metadata": {},
     "output_type": "execute_result"
    }
   ],
   "source": [
    "from copy import deepcopy\n",
    "rc1 = deepcopy(rc)\n",
    "rc1"
   ]
  },
  {
   "cell_type": "code",
   "execution_count": null,
   "id": "0cdd1dad",
   "metadata": {},
   "outputs": [],
   "source": []
  },
  {
   "cell_type": "code",
   "execution_count": null,
   "id": "55a0adf2",
   "metadata": {},
   "outputs": [],
   "source": []
  }
 ],
 "metadata": {
  "kernelspec": {
   "display_name": "Python 3 (ipykernel)",
   "language": "python",
   "name": "python3"
  },
  "language_info": {
   "codemirror_mode": {
    "name": "ipython",
    "version": 3
   },
   "file_extension": ".py",
   "mimetype": "text/x-python",
   "name": "python",
   "nbconvert_exporter": "python",
   "pygments_lexer": "ipython3",
   "version": "3.9.7"
  }
 },
 "nbformat": 4,
 "nbformat_minor": 5
}
