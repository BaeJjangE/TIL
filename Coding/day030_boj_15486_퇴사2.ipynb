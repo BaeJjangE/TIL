{
 "cells": [
  {
   "cell_type": "code",
   "execution_count": 24,
   "id": "6ac62c17",
   "metadata": {},
   "outputs": [
    {
     "name": "stdout",
     "output_type": "stream",
     "text": [
      "2\n",
      "1 10\n",
      "2 20\n"
     ]
    }
   ],
   "source": [
    "n = int(input())\n",
    "tp = list([0, 0] for _ in range(n+1)) # 0번째 인자: 몇일걸리는지, 1번째 인자: 돈 액수\n",
    "dp = list([0, 0] for _ in range(n+1)) # 일일 최대 벌수있는 금액\n",
    "for i in range(1, n+1):\n",
    "    tp[i][0], tp[i][1] = map(int, input().split())\n",
    "\n",
    "for i in range(1, n+1):\n",
    "    if n < i+tp[i][0]: # 현재 날 i에서 n을 넘어가는 일수는 상담불가능하므로 전부 0처리\n",
    "        tp[i][0] = 0\n",
    "        tp[i][1] = 0\n",
    "        \n",
    "\n",
    "for i in range(1, n+1):\n",
    "    if (tp[i][1] != 0):\n",
    "        dp[i][0] = tp[i][0]\n",
    "        dp[i][1] = tp[i][1]\n",
    "                \n",
    "    \n",
    "        "
   ]
  },
  {
   "cell_type": "code",
   "execution_count": 25,
   "id": "64803d85",
   "metadata": {},
   "outputs": [
    {
     "data": {
      "text/plain": [
       "[[1, 10], [2, 0]]"
      ]
     },
     "execution_count": 25,
     "metadata": {},
     "output_type": "execute_result"
    }
   ],
   "source": [
    "\n",
    "tp"
   ]
  },
  {
   "cell_type": "code",
   "execution_count": 26,
   "id": "a5b0965c",
   "metadata": {},
   "outputs": [
    {
     "data": {
      "text/plain": [
       "[0, 0]"
      ]
     },
     "execution_count": 26,
     "metadata": {},
     "output_type": "execute_result"
    }
   ],
   "source": [
    "dp"
   ]
  },
  {
   "cell_type": "code",
   "execution_count": null,
   "id": "33b3d8d9",
   "metadata": {},
   "outputs": [],
   "source": []
  },
  {
   "cell_type": "code",
   "execution_count": null,
   "id": "ef69c92f",
   "metadata": {},
   "outputs": [],
   "source": []
  },
  {
   "cell_type": "code",
   "execution_count": 30,
   "id": "8218fed5",
   "metadata": {},
   "outputs": [
    {
     "name": "stdout",
     "output_type": "stream",
     "text": [
      "7\n",
      "3 10\n",
      "5 20\n",
      "1 10\n",
      "1 20\n",
      "2 15\n",
      "4 40\n",
      "2 200\n",
      "[0, 0, 0, 10, 0, 0, 0, 0]\n",
      "[0, 0, 0, 10, 0, 0, 0, 0]\n",
      "[0, 0, 0, 10, 0, 0, 20, 0]\n",
      "[0, 0, 0, 10, 0, 0, 20, 0]\n",
      "[0, 0, 0, 10, 0, 0, 20, 0]\n",
      "[0, 0, 0, 10, 0, 0, 20, 0]\n",
      "[0, 0, 0, 10, 30, 0, 20, 0]\n",
      "[0, 0, 0, 10, 30, 0, 20, 0]\n",
      "[0, 0, 0, 10, 30, 0, 45, 0]\n",
      "[0, 0, 0, 10, 30, 30, 45, 0]\n",
      "[0, 0, 0, 10, 30, 30, 45, 0]\n",
      "[0, 0, 0, 10, 30, 30, 45, 45]\n",
      "45\n"
     ]
    }
   ],
   "source": [
    "n = int(input())\n",
    "\n",
    "# t=기간  p=금액\n",
    "t, p = [], []\n",
    "# 최대 상담금액 기록\n",
    "dp = [0] * (n + 1)\n",
    "\n",
    "for i in range(n):\n",
    "    k = list(map(int, input().split()))\n",
    "    t.append(k[0])\n",
    "    p.append(k[1])\n",
    "\n",
    "for i in range(n):\n",
    "    # 상담기간이 남은 기간보다 작으면\n",
    "    if t[i] <= n - i:\n",
    "        # dp[상담 시작일 + 상담기간 =>> 상담 끝나는 일자] \n",
    "        # 기존 값과 비교해서 더 큰 값으로 채우기\n",
    "        dp[i + t[i]] = max(dp[i + t[i]], dp[i] + p[i])\n",
    "        print(dp)\n",
    "    \n",
    "    # 항상 다음 날은 전날과 비교해서 더 큰 값으로 채우기\n",
    "    # 다음 날 금액이 더 작은 경우\n",
    "    # 그 전까지만 일하는 방법이 돈 더 많이 벌기 때문\n",
    "    dp[i + 1] = max(dp[i + 1], dp[i])\n",
    "    print(dp)\n",
    "\n",
    "print(dp[n])"
   ]
  },
  {
   "cell_type": "code",
   "execution_count": 28,
   "id": "ea308344",
   "metadata": {},
   "outputs": [
    {
     "data": {
      "text/plain": [
       "[0, 0, 0, 10, 30, 30, 45, 45]"
      ]
     },
     "execution_count": 28,
     "metadata": {},
     "output_type": "execute_result"
    }
   ],
   "source": [
    "dp"
   ]
  },
  {
   "cell_type": "code",
   "execution_count": null,
   "id": "765452be",
   "metadata": {},
   "outputs": [],
   "source": []
  },
  {
   "cell_type": "code",
   "execution_count": null,
   "id": "86c17d1e",
   "metadata": {},
   "outputs": [],
   "source": []
  },
  {
   "cell_type": "code",
   "execution_count": null,
   "id": "3202ebf5",
   "metadata": {},
   "outputs": [],
   "source": []
  }
 ],
 "metadata": {
  "kernelspec": {
   "display_name": "Python 3 (ipykernel)",
   "language": "python",
   "name": "python3"
  },
  "language_info": {
   "codemirror_mode": {
    "name": "ipython",
    "version": 3
   },
   "file_extension": ".py",
   "mimetype": "text/x-python",
   "name": "python",
   "nbconvert_exporter": "python",
   "pygments_lexer": "ipython3",
   "version": "3.9.7"
  }
 },
 "nbformat": 4,
 "nbformat_minor": 5
}
