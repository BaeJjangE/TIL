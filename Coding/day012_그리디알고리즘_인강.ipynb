{
 "cells": [
  {
   "cell_type": "code",
   "execution_count": 52,
   "id": "9c796a36",
   "metadata": {},
   "outputs": [
    {
     "name": "stdout",
     "output_type": "stream",
     "text": [
      "02984\n",
      "576\n"
     ]
    }
   ],
   "source": [
    "# 그리디 인강 곱하기 더하기\n",
    "S = input()\n",
    "\n",
    "result = 0\n",
    "if (int(S[0]) in [0, 1]) or (int(S[1]) in [0,1]):\n",
    "    result = int(S[0]) + int(S[1])\n",
    "else:\n",
    "    result = int(S[0]) * int(S[1])\n",
    "\n",
    "for i in range(2, len(S)):\n",
    "    if int(S[i]) in [0,1]:\n",
    "        result += int(S[i])\n",
    "    else:\n",
    "        result *= int(S[i])\n",
    "\n",
    "print(result)"
   ]
  },
  {
   "cell_type": "code",
   "execution_count": 55,
   "id": "b14a0e1b",
   "metadata": {},
   "outputs": [
    {
     "name": "stdout",
     "output_type": "stream",
     "text": [
      "02984\n",
      "576\n"
     ]
    }
   ],
   "source": [
    "# 정답\n",
    "S = input()\n",
    "\n",
    "result = int(S[0])\n",
    "\n",
    "for i in range(1, len(S)):\n",
    "    num = int(S[i])\n",
    "    if num in [0,1] or result in [0,1]:\n",
    "        result += num\n",
    "    else:\n",
    "        result *= num\n",
    "\n",
    "print(result)"
   ]
  },
  {
   "cell_type": "code",
   "execution_count": 70,
   "id": "83847847",
   "metadata": {},
   "outputs": [
    {
     "name": "stdout",
     "output_type": "stream",
     "text": [
      "5\n",
      "2 3 1 2 2\n",
      "[2, 1, 2, 2]\n",
      "[1, 2, 2]\n",
      "[1, 2]\n",
      "[1]\n",
      "[]\n",
      "2\n"
     ]
    }
   ],
   "source": [
    "# 인강 모험가 길드 문제\n",
    "N = int(input())\n",
    "Member = list(map(int, input().split()))\n",
    "\n",
    "Group = 0\n",
    "while True:\n",
    "    if len(Member) == 0:\n",
    "        break\n",
    "    try:\n",
    "        for _ in range(max(Member)):\n",
    "            Member.remove(max(Member))\n",
    "            print(Member)\n",
    "        Group += 1\n",
    "    except:\n",
    "        break\n",
    "\n",
    "print(Group)"
   ]
  },
  {
   "cell_type": "code",
   "execution_count": 71,
   "id": "844b1b17",
   "metadata": {},
   "outputs": [
    {
     "name": "stdout",
     "output_type": "stream",
     "text": [
      "5\n",
      "2 3 1 2 2\n",
      "2\n"
     ]
    }
   ],
   "source": [
    "# 정답\n",
    "N = int(input())\n",
    "Member = list(map(int, input().split()))\n",
    "Member.sort()\n",
    "\n",
    "result = 0\n",
    "count = 0\n",
    "\n",
    "for i in Member:\n",
    "    count += 1\n",
    "    if count >= i:\n",
    "        result += 1\n",
    "        count = 0\n",
    "\n",
    "print(result)"
   ]
  }
 ],
 "metadata": {
  "kernelspec": {
   "display_name": "Python 3 (ipykernel)",
   "language": "python",
   "name": "python3"
  },
  "language_info": {
   "codemirror_mode": {
    "name": "ipython",
    "version": 3
   },
   "file_extension": ".py",
   "mimetype": "text/x-python",
   "name": "python",
   "nbconvert_exporter": "python",
   "pygments_lexer": "ipython3",
   "version": "3.9.7"
  }
 },
 "nbformat": 4,
 "nbformat_minor": 5
}
