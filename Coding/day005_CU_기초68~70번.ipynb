{
 "cells": [
  {
   "cell_type": "code",
   "execution_count": 5,
   "id": "4dd7f490",
   "metadata": {},
   "outputs": [
    {
     "name": "stdout",
     "output_type": "stream",
     "text": [
      "5\n",
      "D\n"
     ]
    }
   ],
   "source": [
    "a = int(input())\n",
    "if a>=90:\n",
    "    print(\"A\")\n",
    "elif a>=70:\n",
    "    print(\"B\")\n",
    "elif a>=40:\n",
    "    print(\"C\")\n",
    "else:\n",
    "    print(\"D\")"
   ]
  },
  {
   "cell_type": "code",
   "execution_count": 9,
   "id": "b39f50eb",
   "metadata": {},
   "outputs": [
    {
     "name": "stdout",
     "output_type": "stream",
     "text": [
      "C\n",
      "run!\n"
     ]
    }
   ],
   "source": [
    "a = input()\n",
    "if a == 'A':\n",
    "    print('best!!!')\n",
    "elif a == 'B':\n",
    "    print('good!!')\n",
    "elif a == 'C':\n",
    "    print(\"run!\")\n",
    "elif a == 'D':\n",
    "    print(\"slowly~\")\n",
    "else:\n",
    "    print('what?')"
   ]
  },
  {
   "cell_type": "markdown",
   "id": "0737f836",
   "metadata": {},
   "source": [
    "월이 입력될 때 계절 이름이 출력되도록 해보자.\n",
    "\n",
    "월 : 계절 이름\n",
    "12, 1, 2 : winter\n",
    "  3, 4, 5 : spring\n",
    "  6, 7, 8 : summer\n",
    "  9, 10, 11 : fall"
   ]
  },
  {
   "cell_type": "code",
   "execution_count": 14,
   "id": "817cb5ca",
   "metadata": {},
   "outputs": [
    {
     "name": "stdout",
     "output_type": "stream",
     "text": [
      "11\n",
      "fall\n"
     ]
    }
   ],
   "source": [
    "a = int(input())\n",
    "if a in [12,1,2]:\n",
    "    print(\"winter\")\n",
    "elif a in [3,4,5]:\n",
    "    print(\"spring\")\n",
    "elif a in [6,7,8]:\n",
    "    print(\"summer\")\n",
    "else:\n",
    "    print(\"fall\")"
   ]
  }
 ],
 "metadata": {
  "kernelspec": {
   "display_name": "Python 3 (ipykernel)",
   "language": "python",
   "name": "python3"
  },
  "language_info": {
   "codemirror_mode": {
    "name": "ipython",
    "version": 3
   },
   "file_extension": ".py",
   "mimetype": "text/x-python",
   "name": "python",
   "nbconvert_exporter": "python",
   "pygments_lexer": "ipython3",
   "version": "3.9.7"
  }
 },
 "nbformat": 4,
 "nbformat_minor": 5
}
