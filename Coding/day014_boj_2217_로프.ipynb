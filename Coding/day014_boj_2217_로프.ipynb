{
 "cells": [
  {
   "cell_type": "code",
   "execution_count": 7,
   "id": "f12cf884",
   "metadata": {
    "scrolled": true
   },
   "outputs": [
    {
     "name": "stdout",
     "output_type": "stream",
     "text": [
      "5\n",
      "10\n",
      "15\n",
      "1\n",
      "10\n",
      "100\n",
      "100\n"
     ]
    }
   ],
   "source": [
    "N = int(input())\n",
    "\n",
    "result = []\n",
    "# 입력값 내림차순 정렬\n",
    "weights = sorted([int(input()) for i in range(N)], reverse=True)\n",
    "# 슬라이싱해서 1줄 2줄 ~ N줄 중에서 가장 약한 로프가 견딜 수 있는 값 * 줄의 개수로 최대 중량을 더 해준다.\n",
    "result = [(min(weights[:i]) * i) for i in range(1, N+1)]\n",
    "# 그 중에 가장 높은 중량을 찾는다.\n",
    "print(max(result))"
   ]
  },
  {
   "cell_type": "code",
   "execution_count": 11,
   "id": "fe30f111",
   "metadata": {},
   "outputs": [
    {
     "name": "stdout",
     "output_type": "stream",
     "text": [
      "5\n",
      "10\n",
      "15\n",
      "1\n",
      "10\n",
      "100\n",
      "100\n"
     ]
    }
   ],
   "source": [
    "# 인서님 답\n",
    "N = int(input())\n",
    "\n",
    "result = []\n",
    "box = sorted([int(input()) for i in range(N)], reverse=True)\n",
    "    \n",
    "result = [(box[i]) * (i+1) for i in range(N)]\n",
    "    \n",
    "print(max(result))"
   ]
  }
 ],
 "metadata": {
  "kernelspec": {
   "display_name": "Python 3 (ipykernel)",
   "language": "python",
   "name": "python3"
  },
  "language_info": {
   "codemirror_mode": {
    "name": "ipython",
    "version": 3
   },
   "file_extension": ".py",
   "mimetype": "text/x-python",
   "name": "python",
   "nbconvert_exporter": "python",
   "pygments_lexer": "ipython3",
   "version": "3.9.7"
  }
 },
 "nbformat": 4,
 "nbformat_minor": 5
}
