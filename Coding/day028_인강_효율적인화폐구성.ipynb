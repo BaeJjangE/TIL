{
 "cells": [
  {
   "cell_type": "code",
   "execution_count": 29,
   "id": "77369875",
   "metadata": {},
   "outputs": [
    {
     "name": "stdout",
     "output_type": "stream",
     "text": [
      "2 15\n",
      "2\n",
      "3\n",
      "M: 12\n",
      "M: 9\n",
      "M: 6\n",
      "M: 3\n",
      "M: 0\n",
      "5\n"
     ]
    }
   ],
   "source": [
    "# DP 안 이용하고 풀었음\n",
    "N, M = map(int, input().split())\n",
    "\n",
    "coin_list = []\n",
    "for _ in range(N):\n",
    "    coin_list.append(int(input()))\n",
    "    \n",
    "original = M\n",
    "cnt = 0\n",
    "coin_list = sorted(coin_list, reverse=True)\n",
    "for i in range(1, M+1):    \n",
    "    for coin in coin_list:\n",
    "        if M % coin == 0:\n",
    "            M -= coin            \n",
    "            cnt += 1\n",
    "            break\n",
    "    if M == 0:\n",
    "        print(cnt)\n",
    "        break\n",
    "    elif M < 0 or M == original:\n",
    "        print(-1)\n",
    "        break"
   ]
  },
  {
   "cell_type": "code",
   "execution_count": null,
   "id": "db7194b2",
   "metadata": {},
   "outputs": [],
   "source": []
  },
  {
   "cell_type": "code",
   "execution_count": 38,
   "id": "0866df0f",
   "metadata": {},
   "outputs": [
    {
     "name": "stdout",
     "output_type": "stream",
     "text": [
      "3 7\n",
      "2\n",
      "5\n",
      "3\n",
      "2\n"
     ]
    }
   ],
   "source": [
    "# 답\n",
    "N, M = map(int, input().split())\n",
    "dp = [0] + [10001] * M\n",
    "\n",
    "coin_list = []\n",
    "for _ in range(N):\n",
    "    coin_list.append(int(input()))\n",
    "\n",
    "for i in range(N):\n",
    "    for j in range(coin_list[i], M+1): # 이 부분이 제일 이해안감(어떻게 생각해냈을까?)\n",
    "        if dp[j - coin_list[i]] != 10001:\n",
    "            dp[j] = min(dp[j], dp[j - coin_list[i]]+1)\n",
    "            \n",
    "if dp[M] == 10001:\n",
    "    print(-1)\n",
    "else:\n",
    "    print(dp[M])"
   ]
  }
 ],
 "metadata": {
  "kernelspec": {
   "display_name": "Python 3 (ipykernel)",
   "language": "python",
   "name": "python3"
  },
  "language_info": {
   "codemirror_mode": {
    "name": "ipython",
    "version": 3
   },
   "file_extension": ".py",
   "mimetype": "text/x-python",
   "name": "python",
   "nbconvert_exporter": "python",
   "pygments_lexer": "ipython3",
   "version": "3.9.7"
  }
 },
 "nbformat": 4,
 "nbformat_minor": 5
}
