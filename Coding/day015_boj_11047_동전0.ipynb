{
 "cells": [
  {
   "cell_type": "markdown",
   "id": "e2079c7a",
   "metadata": {},
   "source": [
    "## 아이디어\n",
    "1. 받은 *A* 를 내림차순으로 정렬하여 큰 숫자가 앞에 오게 만든다.\n",
    "2. 가장 적게 동전을 주기 위해서 *A* 에서 큰 숫자부터 *K* 를 나누어 주고 나누어진 몫을 *result* 에 추가해준다.\n",
    "3. *result* 에 더해진 몫만큼 *K* 에서 빼준다.\n",
    "4. 몫이 0이 아닐 경우 pass"
   ]
  },
  {
   "cell_type": "code",
   "execution_count": 19,
   "id": "1b12e39c",
   "metadata": {
    "scrolled": false
   },
   "outputs": [
    {
     "name": "stdout",
     "output_type": "stream",
     "text": [
      "10 4200\n",
      "1\n",
      "5\n",
      "10\n",
      "50\n",
      "100\n",
      "500\n",
      "1000\n",
      "5000\n",
      "10000\n",
      "50000\n",
      "6\n"
     ]
    }
   ],
   "source": [
    "N, K = map(int, input().split())\n",
    "A = sorted([int(input()) for _ in range(N)], reverse=True)\n",
    "\n",
    "result = 0 \n",
    "# 내림차순 A를 순서대로 한 번에 안 나눠질 시, 큰 값부터 K를 나누어주고 몫을 result에 추가하고 나머지를 다시 K로\n",
    "# 반환 해주고, else문: 몫이 0일 경우 pass\n",
    "for i in A:\n",
    "    if K // i != 0:\n",
    "        result += K // i\n",
    "        K %= i        \n",
    "    else:\n",
    "        pass\n",
    "        \n",
    "print(result)"
   ]
  }
 ],
 "metadata": {
  "kernelspec": {
   "display_name": "Python 3 (ipykernel)",
   "language": "python",
   "name": "python3"
  },
  "language_info": {
   "codemirror_mode": {
    "name": "ipython",
    "version": 3
   },
   "file_extension": ".py",
   "mimetype": "text/x-python",
   "name": "python",
   "nbconvert_exporter": "python",
   "pygments_lexer": "ipython3",
   "version": "3.9.7"
  }
 },
 "nbformat": 4,
 "nbformat_minor": 5
}
