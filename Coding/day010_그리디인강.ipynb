{
 "cells": [
  {
   "cell_type": "code",
   "execution_count": 7,
   "id": "52d6e958",
   "metadata": {},
   "outputs": [
    {
     "name": "stdout",
     "output_type": "stream",
     "text": [
      "25 3\n",
      "6\n",
      "Wall time: 0 ns\n"
     ]
    }
   ],
   "source": [
    "N, K = map(int, input().split())\n",
    "a = 0\n",
    "count = 0\n",
    "while 1:\n",
    "    if N ==1:\n",
    "        break\n",
    "    elif N % K != 0:\n",
    "        N -= 1\n",
    "        count += 1\n",
    "    else:\n",
    "        N /= K\n",
    "        count += 1\n",
    "\n",
    "print(count)\n",
    "%time"
   ]
  },
  {
   "cell_type": "code",
   "execution_count": null,
   "id": "98443d49",
   "metadata": {},
   "outputs": [],
   "source": []
  },
  {
   "cell_type": "code",
   "execution_count": null,
   "id": "aaa5ac3d",
   "metadata": {},
   "outputs": [],
   "source": []
  }
 ],
 "metadata": {
  "kernelspec": {
   "display_name": "Python 3 (ipykernel)",
   "language": "python",
   "name": "python3"
  },
  "language_info": {
   "codemirror_mode": {
    "name": "ipython",
    "version": 3
   },
   "file_extension": ".py",
   "mimetype": "text/x-python",
   "name": "python",
   "nbconvert_exporter": "python",
   "pygments_lexer": "ipython3",
   "version": "3.9.7"
  }
 },
 "nbformat": 4,
 "nbformat_minor": 5
}
