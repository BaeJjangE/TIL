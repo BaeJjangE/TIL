{
 "cells": [
  {
   "cell_type": "code",
   "execution_count": null,
   "id": "3b0abd0a",
   "metadata": {},
   "outputs": [],
   "source": [
    "def solution(id_list, report, k):\n",
    "    answer = len(id_list) * [0]\n",
    "    return answer"
   ]
  },
  {
   "cell_type": "code",
   "execution_count": 4,
   "id": "fbc5696f",
   "metadata": {
    "scrolled": false
   },
   "outputs": [
    {
     "data": {
      "text/plain": [
       "'frodo'"
      ]
     },
     "execution_count": 4,
     "metadata": {},
     "output_type": "execute_result"
    }
   ],
   "source": [
    "report = [\"muzi frodo\"]\n",
    "report[0].split(' ')[1]"
   ]
  },
  {
   "cell_type": "code",
   "execution_count": null,
   "id": "9d9df86a",
   "metadata": {},
   "outputs": [],
   "source": [
    "# 리스트에 report 이름을 넣고 똑같은 값이 있으면 진행 x"
   ]
  },
  {
   "cell_type": "code",
   "execution_count": 39,
   "id": "2b613763",
   "metadata": {},
   "outputs": [],
   "source": [
    "def solution(id_list, report, k):\n",
    "    answer = len(id_list) * [0]\n",
    "    up1 = []\n",
    "    count = len(id_list) * [0]\n",
    "    for i in report:\n",
    "        if i not in up1:\n",
    "            for j in range(len(id_list)):\n",
    "                if i.split(' ')[1] == id_list[j]:\n",
    "                    count[j] += 1\n",
    "                    if i.split(' ')[0] == id_list[j]:\n",
    "                        answer[j] += 1\n",
    "                        print(answer)\n",
    "        for z in range(len(id_list)):\n",
    "            if k > count[z] and 1 <= count[z]:\n",
    "                for w in range(len(report)):\n",
    "                    if id_list[z] == report[w].split(' ')[1]:\n",
    "                        answer[id_list.index(report[w].split(' ')[0])] += 1\n",
    "                                  \n",
    "        up1.append(i)\n",
    "                  \n",
    "        \n",
    "    return answer"
   ]
  },
  {
   "cell_type": "code",
   "execution_count": 40,
   "id": "0722bcc5",
   "metadata": {},
   "outputs": [
    {
     "data": {
      "text/plain": [
       "[2, 1, 2, 0]"
      ]
     },
     "execution_count": 40,
     "metadata": {},
     "output_type": "execute_result"
    }
   ],
   "source": [
    "solution([\"muzi\", \"frodo\", \"apeach\", \"neo\"], [\"muzi frodo\",\"apeach frodo\",\"frodo neo\",\"muzi neo\",\"apeach muzi\"], 2)"
   ]
  },
  {
   "cell_type": "code",
   "execution_count": null,
   "id": "101688f3",
   "metadata": {},
   "outputs": [],
   "source": [
    "def solu"
   ]
  },
  {
   "cell_type": "code",
   "execution_count": 6,
   "id": "c8393c25",
   "metadata": {},
   "outputs": [],
   "source": [
    "count = [0, 0, 0, 0]"
   ]
  },
  {
   "cell_type": "code",
   "execution_count": 7,
   "id": "81d4d9fe",
   "metadata": {},
   "outputs": [],
   "source": [
    "count[0] += 1"
   ]
  },
  {
   "cell_type": "code",
   "execution_count": 8,
   "id": "12c5d776",
   "metadata": {},
   "outputs": [
    {
     "data": {
      "text/plain": [
       "[1, 0, 0, 0]"
      ]
     },
     "execution_count": 8,
     "metadata": {},
     "output_type": "execute_result"
    }
   ],
   "source": [
    "count"
   ]
  },
  {
   "cell_type": "code",
   "execution_count": 17,
   "id": "2615b2c2",
   "metadata": {},
   "outputs": [],
   "source": [
    "answer = 4 * [0]\n",
    "count = 4 * [0]\n",
    "count[0] += 1"
   ]
  },
  {
   "cell_type": "code",
   "execution_count": 18,
   "id": "763e4616",
   "metadata": {},
   "outputs": [
    {
     "name": "stdout",
     "output_type": "stream",
     "text": [
      "[0, 0, 0, 0] [1, 0, 0, 0]\n"
     ]
    }
   ],
   "source": [
    "print(answer, count)"
   ]
  },
  {
   "cell_type": "code",
   "execution_count": 45,
   "id": "a456219b",
   "metadata": {},
   "outputs": [],
   "source": [
    "id_list = [\"muzi\", \"frodo\", \"apeach\", \"neo\"]"
   ]
  },
  {
   "cell_type": "code",
   "execution_count": 26,
   "id": "f9a57a8c",
   "metadata": {},
   "outputs": [
    {
     "data": {
      "text/plain": [
       "2"
      ]
     },
     "execution_count": 26,
     "metadata": {},
     "output_type": "execute_result"
    }
   ],
   "source": [
    "list1.index(\"apeach\")"
   ]
  },
  {
   "cell_type": "code",
   "execution_count": 27,
   "id": "667bd29a",
   "metadata": {
    "scrolled": true
   },
   "outputs": [
    {
     "data": {
      "text/plain": [
       "'apeach'"
      ]
     },
     "execution_count": 27,
     "metadata": {},
     "output_type": "execute_result"
    }
   ],
   "source": [
    "list1[2]"
   ]
  },
  {
   "cell_type": "code",
   "execution_count": 47,
   "id": "1b47ad87",
   "metadata": {},
   "outputs": [],
   "source": [
    "report = [\"muzi frodo\",\"apeach frodo\",\"frodo neo\",\"muzi neo\",\"apeach muzi\"]"
   ]
  },
  {
   "cell_type": "code",
   "execution_count": 43,
   "id": "6d68e6c2",
   "metadata": {
    "scrolled": true
   },
   "outputs": [
    {
     "name": "stdout",
     "output_type": "stream",
     "text": [
      "frodo neo\n",
      "apeach frodo\n",
      "muzi frodo\n",
      "muzi neo\n",
      "apeach muzi\n"
     ]
    }
   ],
   "source": [
    "for i in set(list1):\n",
    "    print(i)"
   ]
  },
  {
   "cell_type": "code",
   "execution_count": 48,
   "id": "46a2eefa",
   "metadata": {},
   "outputs": [
    {
     "data": {
      "text/plain": [
       "0"
      ]
     },
     "execution_count": 48,
     "metadata": {},
     "output_type": "execute_result"
    }
   ],
   "source": [
    "reports = {x : 0 for x in id_list}"
   ]
  },
  {
   "cell_type": "code",
   "execution_count": 58,
   "id": "dc214fcc",
   "metadata": {
    "scrolled": false
   },
   "outputs": [
    {
     "data": {
      "text/plain": [
       "{'muzi': 0, 'frodo': 1, 'apeach': 0, 'neo': 0}"
      ]
     },
     "execution_count": 58,
     "metadata": {},
     "output_type": "execute_result"
    }
   ],
   "source": [
    "reports"
   ]
  },
  {
   "cell_type": "code",
   "execution_count": 53,
   "id": "c12b00d1",
   "metadata": {},
   "outputs": [
    {
     "data": {
      "text/plain": [
       "'frodo'"
      ]
     },
     "execution_count": 53,
     "metadata": {},
     "output_type": "execute_result"
    }
   ],
   "source": [
    "\"muzi frodo\".split()[1]"
   ]
  },
  {
   "cell_type": "code",
   "execution_count": 57,
   "id": "a84aad1b",
   "metadata": {},
   "outputs": [],
   "source": [
    "reports[\"muzi frodo\".split()[1]] += 1"
   ]
  },
  {
   "cell_type": "code",
   "execution_count": 60,
   "id": "e7b51cb4",
   "metadata": {},
   "outputs": [],
   "source": [
    "id_list = [\"muzi\", \"frodo\", \"apeach\", \"neo\"]"
   ]
  },
  {
   "cell_type": "code",
   "execution_count": 62,
   "id": "cc47de6a",
   "metadata": {},
   "outputs": [
    {
     "data": {
      "text/plain": [
       "'muzi'"
      ]
     },
     "execution_count": 62,
     "metadata": {},
     "output_type": "execute_result"
    }
   ],
   "source": [
    "\"muzi frodo\".split()[0]"
   ]
  },
  {
   "cell_type": "code",
   "execution_count": 63,
   "id": "9d32b85f",
   "metadata": {},
   "outputs": [
    {
     "data": {
      "text/plain": [
       "0"
      ]
     },
     "execution_count": 63,
     "metadata": {},
     "output_type": "execute_result"
    }
   ],
   "source": [
    "id_list.index(\"muzi frodo\".split()[0])"
   ]
  },
  {
   "cell_type": "code",
   "execution_count": 68,
   "id": "e8619b65",
   "metadata": {},
   "outputs": [],
   "source": [
    "# 정답\n",
    "def solution(id_list, report, k):\n",
    "    answer = [0] * len(id_list)    \n",
    "    reports = {x : 0 for x in id_list} # 각 이름별 값이 0인 딕셔너리를 만들어줌, 각 이름별 신고된 횟수 측정용\n",
    "\n",
    "    for r in set(report): # 세트로 중복되는 걸 지워버림\n",
    "        reports[r.split()[1]] += 1 # 딕셔너리에 키값에 +1 을 해주므로 밸류값이 +1 증가 \n",
    "\n",
    "    for r in set(report):\n",
    "        if reports[r.split()[1]] >= k:\n",
    "            answer[id_list.index(r.split()[0])] += 1 # 신고당한 값이 2이상 일 떄, 신고 한 사람인 인덱스 번호를 넣어줘서 answer에 추가\n",
    "\n",
    "    return answer"
   ]
  },
  {
   "cell_type": "code",
   "execution_count": 69,
   "id": "1fc3e5d0",
   "metadata": {},
   "outputs": [
    {
     "data": {
      "text/plain": [
       "[2, 1, 1, 0]"
      ]
     },
     "execution_count": 69,
     "metadata": {},
     "output_type": "execute_result"
    }
   ],
   "source": [
    "solution([\"muzi\", \"frodo\", \"apeach\", \"neo\"], [\"muzi frodo\",\"apeach frodo\",\"frodo neo\",\"muzi neo\",\"apeach muzi\"], 2)"
   ]
  },
  {
   "cell_type": "code",
   "execution_count": 65,
   "id": "6542c7f7",
   "metadata": {},
   "outputs": [
    {
     "data": {
      "text/plain": [
       "['muzi frodo', 'apeach frodo', 'frodo neo', 'muzi neo', 'apeach muzi']"
      ]
     },
     "execution_count": 65,
     "metadata": {},
     "output_type": "execute_result"
    }
   ],
   "source": [
    "report"
   ]
  },
  {
   "cell_type": "code",
   "execution_count": 64,
   "id": "e985dcd5",
   "metadata": {
    "scrolled": true
   },
   "outputs": [
    {
     "data": {
      "text/plain": [
       "{'apeach frodo', 'apeach muzi', 'frodo neo', 'muzi frodo', 'muzi neo'}"
      ]
     },
     "execution_count": 64,
     "metadata": {},
     "output_type": "execute_result"
    }
   ],
   "source": [
    "set(report)"
   ]
  },
  {
   "cell_type": "code",
   "execution_count": 78,
   "id": "2b00a5fd",
   "metadata": {
    "scrolled": false
   },
   "outputs": [
    {
     "data": {
      "text/plain": [
       "{'muzi': 0, 'frodo': 0, 'apeach': 0, 'neo': 0}"
      ]
     },
     "execution_count": 78,
     "metadata": {},
     "output_type": "execute_result"
    }
   ],
   "source": [
    "reports1 = {x : 0 for x in id_list}\n",
    "reports1"
   ]
  },
  {
   "cell_type": "code",
   "execution_count": 81,
   "id": "65956f90",
   "metadata": {},
   "outputs": [
    {
     "data": {
      "text/plain": [
       "0"
      ]
     },
     "execution_count": 81,
     "metadata": {},
     "output_type": "execute_result"
    }
   ],
   "source": [
    "reports1['muzi']"
   ]
  },
  {
   "cell_type": "code",
   "execution_count": 76,
   "id": "bc3d5340",
   "metadata": {},
   "outputs": [],
   "source": [
    "re2 = {'muzi' : 0}"
   ]
  }
 ],
 "metadata": {
  "kernelspec": {
   "display_name": "Python 3 (ipykernel)",
   "language": "python",
   "name": "python3"
  },
  "language_info": {
   "codemirror_mode": {
    "name": "ipython",
    "version": 3
   },
   "file_extension": ".py",
   "mimetype": "text/x-python",
   "name": "python",
   "nbconvert_exporter": "python",
   "pygments_lexer": "ipython3",
   "version": "3.9.7"
  }
 },
 "nbformat": 4,
 "nbformat_minor": 5
}
