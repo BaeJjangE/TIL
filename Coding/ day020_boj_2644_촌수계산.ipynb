{
 "cells": [
  {
   "cell_type": "code",
   "execution_count": 91,
   "id": "593c465a",
   "metadata": {
    "scrolled": true
   },
   "outputs": [
    {
     "name": "stdout",
     "output_type": "stream",
     "text": [
      "9\n",
      "7 8\n",
      "7\n",
      "1 2\n",
      "1 3\n",
      "2 7\n",
      "2 8\n",
      "2 9\n",
      "4 5\n",
      "4 6\n",
      "0\n",
      "0\n",
      "8\n",
      "1\n",
      "1\n",
      "2\n",
      "3\n"
     ]
    }
   ],
   "source": [
    "n = int(input())\n",
    "man1, man2 = map(int, input().split())\n",
    "m = int(input())\n",
    "graph = list([] for _ in range(n+1))\n",
    "visited = list(0 for _ in range(n+1))\n",
    "for i in range(m):\n",
    "    x, y = map(int, input().split())\n",
    "    graph[x].append(y)\n",
    "    graph[y].append(x)\n",
    "    \n",
    "cnt = 0\n",
    "def bfs(num1, num2):\n",
    "    from collections import deque\n",
    "    q = deque()\n",
    "    q.append(num1)    \n",
    "    global cnt\n",
    "    while q:        \n",
    "        num = q.popleft()\n",
    "        visited[num] = 1\n",
    "        \n",
    "        for i in graph[num]:\n",
    "            if visited[i] == 0:\n",
    "                cnt += 1\n",
    "                q.append(i)                \n",
    "                if i == num2:\n",
    "                    \n",
    "                    cnt += 1\n",
    "                    break\n",
    "                else:\n",
    "                    cnt -= 1\n",
    "                \n",
    "\n",
    "bfs(man1, man2)\n",
    "if cnt == 0:\n",
    "    print(-1)\n",
    "else:\n",
    "    print(cnt)"
   ]
  },
  {
   "cell_type": "code",
   "execution_count": 89,
   "id": "6b4b2b32",
   "metadata": {},
   "outputs": [
    {
     "data": {
      "text/plain": [
       "[0, 1, 1, 1, 0, 0, 0, 1, 1, 1]"
      ]
     },
     "execution_count": 89,
     "metadata": {},
     "output_type": "execute_result"
    }
   ],
   "source": [
    "visited"
   ]
  },
  {
   "cell_type": "code",
   "execution_count": 86,
   "id": "6821ce1a",
   "metadata": {},
   "outputs": [
    {
     "data": {
      "text/plain": [
       "[2]"
      ]
     },
     "execution_count": 86,
     "metadata": {},
     "output_type": "execute_result"
    }
   ],
   "source": [
    "graph[7]"
   ]
  },
  {
   "cell_type": "code",
   "execution_count": 83,
   "id": "112cd99b",
   "metadata": {},
   "outputs": [
    {
     "data": {
      "text/plain": [
       "deque([1])"
      ]
     },
     "execution_count": 83,
     "metadata": {},
     "output_type": "execute_result"
    }
   ],
   "source": [
    "from collections import deque\n",
    "q = deque()\n",
    "q.append(1)\n",
    "q"
   ]
  },
  {
   "cell_type": "code",
   "execution_count": 80,
   "id": "f8f76096",
   "metadata": {},
   "outputs": [
    {
     "data": {
      "text/plain": [
       "0"
      ]
     },
     "execution_count": 80,
     "metadata": {},
     "output_type": "execute_result"
    }
   ],
   "source": [
    "cnt"
   ]
  },
  {
   "cell_type": "code",
   "execution_count": 77,
   "id": "8e246e23",
   "metadata": {},
   "outputs": [
    {
     "data": {
      "text/plain": [
       "[[], [2, 3], [1, 7, 8, 9], [1], [5, 6], [4], [4], [2], [2], [2]]"
      ]
     },
     "execution_count": 77,
     "metadata": {},
     "output_type": "execute_result"
    }
   ],
   "source": [
    "graph"
   ]
  },
  {
   "cell_type": "code",
   "execution_count": 75,
   "id": "320c5a7d",
   "metadata": {},
   "outputs": [
    {
     "data": {
      "text/plain": [
       "0"
      ]
     },
     "execution_count": 75,
     "metadata": {},
     "output_type": "execute_result"
    }
   ],
   "source": [
    "cnt"
   ]
  },
  {
   "cell_type": "code",
   "execution_count": 108,
   "id": "8a844f93",
   "metadata": {
    "scrolled": true
   },
   "outputs": [
    {
     "name": "stdout",
     "output_type": "stream",
     "text": [
      "9\n",
      "7 3\n",
      "7\n",
      "1 2\n",
      "1 3\n",
      "2 7\n",
      "2 8\n",
      "2 9\n",
      "4 5\n",
      "4 6\n",
      "break\n",
      "2\n"
     ]
    }
   ],
   "source": [
    "n = int(input())\n",
    "man1, man2 = map(int, input().split())\n",
    "m = int(input())\n",
    "graph = list([] for _ in range(n+1))\n",
    "visited = list(0 for _ in range(n+1))\n",
    "for i in range(m):\n",
    "    x, y = map(int, input().split())\n",
    "    graph[x].append(y)\n",
    "    graph[y].append(x)\n",
    "\n",
    "cnt = 0\n",
    "def dfs(num1, num2):\n",
    "    global cnt    \n",
    "       \n",
    "        \n",
    "    for i in graph[num1]:\n",
    "        if visited[i] == 0:\n",
    "            visited[i] = visited[num1] + 1 \n",
    "            \n",
    "            dfs(i, num2)\n",
    "            \n",
    "            if i == num2:\n",
    "                print(\"break\")\n",
    "                break\n",
    "\n",
    "            \n",
    "            \n",
    "\n",
    "    \n",
    "\n",
    "dfs(man1, man2)\n",
    "print(visited[man1])"
   ]
  },
  {
   "cell_type": "code",
   "execution_count": 109,
   "id": "3658be06",
   "metadata": {},
   "outputs": [
    {
     "data": {
      "text/plain": [
       "[0, 2, 1, 3, 0, 0, 0, 2, 2, 2]"
      ]
     },
     "execution_count": 109,
     "metadata": {},
     "output_type": "execute_result"
    }
   ],
   "source": [
    "visited"
   ]
  },
  {
   "cell_type": "code",
   "execution_count": 94,
   "id": "c1c0403c",
   "metadata": {},
   "outputs": [
    {
     "data": {
      "text/plain": [
       "11"
      ]
     },
     "execution_count": 94,
     "metadata": {},
     "output_type": "execute_result"
    }
   ],
   "source": [
    "cnt"
   ]
  },
  {
   "cell_type": "code",
   "execution_count": 24,
   "id": "6eea36e7",
   "metadata": {},
   "outputs": [
    {
     "data": {
      "text/plain": [
       "[0]"
      ]
     },
     "execution_count": 24,
     "metadata": {},
     "output_type": "execute_result"
    }
   ],
   "source": [
    "visited[7] == 0"
   ]
  },
  {
   "cell_type": "code",
   "execution_count": 71,
   "id": "60bec38a",
   "metadata": {},
   "outputs": [
    {
     "data": {
      "text/plain": [
       "[0, 1, 1, 1, 0, 0, 0, 1, 1, 1]"
      ]
     },
     "execution_count": 71,
     "metadata": {},
     "output_type": "execute_result"
    }
   ],
   "source": [
    "visited"
   ]
  },
  {
   "cell_type": "code",
   "execution_count": 104,
   "id": "d5b61b4f",
   "metadata": {
    "scrolled": true
   },
   "outputs": [
    {
     "name": "stdout",
     "output_type": "stream",
     "text": [
      "9\n",
      "7 9\n",
      "7\n",
      "1 2\n",
      "1 3\n",
      "2 7\n",
      "2 8\n",
      "2 9\n",
      "4 5\n",
      "4 6\n",
      "[0, 0, 1, 0, 0, 0, 0, 0, 0, 0]\n",
      "[0, 2, 1, 0, 0, 0, 0, 0, 0, 0]\n",
      "[0, 2, 1, 3, 0, 0, 0, 0, 0, 0]\n",
      "[0, 2, 1, 3, 0, 0, 0, 2, 0, 0]\n",
      "[0, 2, 1, 3, 0, 0, 0, 2, 2, 0]\n",
      "[0, 2, 1, 3, 0, 0, 0, 2, 2, 2]\n",
      "2\n"
     ]
    }
   ],
   "source": [
    "import sys\n",
    "sys.setrecursionlimit(300000)\n",
    "\n",
    "def dfs(node):\n",
    "    for n in graph[node]:\n",
    "        if check[n] == 0:\n",
    "            check[n] = check[node]+1\n",
    "            print(check)\n",
    "            dfs(n)\n",
    "            \n",
    "n = int(input())\n",
    "graph = [[] for _ in range(n+1)]\n",
    "s, e = map(int, input().split())\n",
    "for _ in range(int(input())):\n",
    "    u, v = map(int, input().split())\n",
    "    graph[u].append(v)\n",
    "    graph[v].append(u)\n",
    "check = [0]*(n+1)\n",
    "dfs(s)\n",
    "print(check[e] if check[e] > 0 else -1)"
   ]
  },
  {
   "cell_type": "code",
   "execution_count": 103,
   "id": "939bec3f",
   "metadata": {},
   "outputs": [
    {
     "data": {
      "text/plain": [
       "[0, 2, 1, 3, 0, 0, 0, 2, 2, 2]"
      ]
     },
     "execution_count": 103,
     "metadata": {},
     "output_type": "execute_result"
    }
   ],
   "source": [
    "check"
   ]
  },
  {
   "cell_type": "code",
   "execution_count": 102,
   "id": "55ae8a0e",
   "metadata": {},
   "outputs": [
    {
     "data": {
      "text/plain": [
       "9"
      ]
     },
     "execution_count": 102,
     "metadata": {},
     "output_type": "execute_result"
    }
   ],
   "source": [
    "e"
   ]
  },
  {
   "cell_type": "code",
   "execution_count": null,
   "id": "0effcff6",
   "metadata": {},
   "outputs": [],
   "source": []
  },
  {
   "cell_type": "code",
   "execution_count": null,
   "id": "a128eae1",
   "metadata": {},
   "outputs": [],
   "source": []
  },
  {
   "cell_type": "code",
   "execution_count": null,
   "id": "18ac0126",
   "metadata": {},
   "outputs": [],
   "source": []
  },
  {
   "cell_type": "code",
   "execution_count": null,
   "id": "98d389bd",
   "metadata": {},
   "outputs": [],
   "source": []
  },
  {
   "cell_type": "code",
   "execution_count": null,
   "id": "7fc36859",
   "metadata": {},
   "outputs": [],
   "source": []
  }
 ],
 "metadata": {
  "kernelspec": {
   "display_name": "Python 3 (ipykernel)",
   "language": "python",
   "name": "python3"
  },
  "language_info": {
   "codemirror_mode": {
    "name": "ipython",
    "version": 3
   },
   "file_extension": ".py",
   "mimetype": "text/x-python",
   "name": "python",
   "nbconvert_exporter": "python",
   "pygments_lexer": "ipython3",
   "version": "3.9.7"
  }
 },
 "nbformat": 4,
 "nbformat_minor": 5
}
