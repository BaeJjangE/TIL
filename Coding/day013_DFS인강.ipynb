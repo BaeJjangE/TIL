{
 "cells": [
  {
   "cell_type": "code",
   "execution_count": 15,
   "id": "c0e6fdff",
   "metadata": {},
   "outputs": [],
   "source": [
    "graph = [\n",
    "    [],\n",
    "    [2,3,8],\n",
    "    [1,7],\n",
    "    [1,4,5],\n",
    "    [3,5],\n",
    "    [3,4],\n",
    "    [7],\n",
    "    [2,6,8],\n",
    "    [1,7]\n",
    "]\n",
    "\n",
    "visited = [False] * 9"
   ]
  },
  {
   "cell_type": "code",
   "execution_count": 18,
   "id": "995945c7",
   "metadata": {},
   "outputs": [
    {
     "name": "stdout",
     "output_type": "stream",
     "text": [
      "1 2 7 6 8 3 4 5 "
     ]
    }
   ],
   "source": [
    "# DFS\n",
    "def dfs(graph, v, visited):\n",
    "    visited[v] = True\n",
    "    print(v, end=' ')\n",
    "    for i in graph[v]:\n",
    "        if not visited[i]:\n",
    "            dfs(graph, i, visited)\n",
    "\n",
    "dfs(graph, 1, visited)"
   ]
  },
  {
   "cell_type": "code",
   "execution_count": 20,
   "id": "1838d9ff",
   "metadata": {},
   "outputs": [],
   "source": [
    "graph = [\n",
    "    [],\n",
    "    [2,3,8],\n",
    "    [1,7],\n",
    "    [1,4,5],\n",
    "    [3,5],\n",
    "    [3,4],\n",
    "    [7],\n",
    "    [2,6,8],\n",
    "    [1,7]\n",
    "]\n",
    "\n",
    "visited = [False] * 9"
   ]
  },
  {
   "cell_type": "code",
   "execution_count": 21,
   "id": "69f08e4c",
   "metadata": {},
   "outputs": [
    {
     "name": "stdout",
     "output_type": "stream",
     "text": [
      "1 2 3 8 7 4 5 6 "
     ]
    }
   ],
   "source": [
    "# BFS\n",
    "from collections import deque\n",
    "\n",
    "def bfs(graph, start, visited):\n",
    "    queue = deque([start]) # 큐는 방문 순서 만들어주기 위함\n",
    "    visited[start] = True\n",
    "    while queue: # queue가 빌 때까지 반복\n",
    "        # queue에서 제거되면서 방문표시\n",
    "        v = queue.popleft()\n",
    "        print(v, end= ' ')\n",
    "        # 방문표시된 노드랑 연결된 번호 큐에 넣어주고 visited에 방문기록 남김\n",
    "        for i in graph[v]:\n",
    "            if not visited[i]:\n",
    "                queue.append(i)\n",
    "                visited[i] = True\n",
    "                \n",
    "bfs(graph, 1, visited)"
   ]
  }
 ],
 "metadata": {
  "kernelspec": {
   "display_name": "Python 3 (ipykernel)",
   "language": "python",
   "name": "python3"
  },
  "language_info": {
   "codemirror_mode": {
    "name": "ipython",
    "version": 3
   },
   "file_extension": ".py",
   "mimetype": "text/x-python",
   "name": "python",
   "nbconvert_exporter": "python",
   "pygments_lexer": "ipython3",
   "version": "3.9.7"
  }
 },
 "nbformat": 4,
 "nbformat_minor": 5
}
