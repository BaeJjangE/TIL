{
 "cells": [
  {
   "cell_type": "code",
   "execution_count": 11,
   "id": "1113a88d",
   "metadata": {
    "scrolled": true
   },
   "outputs": [
    {
     "name": "stdout",
     "output_type": "stream",
     "text": [
      "1 1 1 1 1 1 1 1 1 1\n",
      "1 0 0 1 0 0 0 0 0 1\n",
      "1 0 0 1 1 1 0 0 0 1\n",
      "1 0 0 0 0 0 0 1 0 1\n",
      "1 0 0 0 0 0 0 1 0 1\n",
      "1 0 0 0 0 1 0 1 0 1\n",
      "1 0 0 0 0 1 2 1 0 1\n",
      "1 0 0 0 0 1 0 0 0 1\n",
      "1 0 0 0 0 0 0 0 0 1\n",
      "1 1 1 1 1 1 1 1 1 1\n",
      "1 1 1 1 1 1 1 1 1 1 \n",
      "1 9 9 1 0 0 0 0 0 1 \n",
      "1 0 9 1 1 1 0 0 0 1 \n",
      "1 0 9 9 9 9 9 1 0 1 \n",
      "1 0 0 0 0 0 9 1 0 1 \n",
      "1 0 0 0 0 1 9 1 0 1 \n",
      "1 0 0 0 0 1 9 1 0 1 \n",
      "1 0 0 0 0 1 0 0 0 1 \n",
      "1 0 0 0 0 0 0 0 0 1 \n",
      "1 1 1 1 1 1 1 1 1 1 \n"
     ]
    }
   ],
   "source": [
    "# 98: 성실한 개미\n",
    "a = []\n",
    "for _ in range(10):\n",
    "    a.append([i for i in list(map(int, input().split()))])\n",
    "\n",
    "a[1][1] = 9\n",
    "b = True\n",
    "n1, n2 = 1, 2\n",
    "while b:\n",
    "    try:\n",
    "        if a[n1][n2] == 1:\n",
    "            if a[n1+1][n2] == 1:\n",
    "                b = False\n",
    "            elif a[n1+1][n2] == 0:\n",
    "                a[n1+1][n2] = 9\n",
    "                n1 += 1\n",
    "            elif a[n1+1][n2] == 2:\n",
    "                a[n1+1][n2] = 9\n",
    "                b = False\n",
    "        elif a[n1][n2] == 0:\n",
    "            a[n1][n2] = 9\n",
    "            if a[n1][n2+1] == 1:\n",
    "                n1 += 1\n",
    "            elif a[n1][n2+1] == 0:\n",
    "                n2 += 1\n",
    "            elif a[n1][n2+1] == 2:\n",
    "                a[n1][n2+1] = 9\n",
    "                b = False\n",
    "        elif a[n1][n2] == 2:\n",
    "            a[n1][n2] = 9\n",
    "            b = False\n",
    "    except:\n",
    "        b = False\n",
    "\n",
    "for i in range(10):\n",
    "    for j in range(10):\n",
    "        print(a[i][j], end=' ')\n",
    "    print()"
   ]
  },
  {
   "cell_type": "code",
   "execution_count": null,
   "id": "5975ee90",
   "metadata": {},
   "outputs": [],
   "source": [
    "# 정답\n",
    "m=[]\n",
    "for i in range(12) :\n",
    "  m.append([])\n",
    "  for j in range(12) :\n",
    "    m[i].append(0)\n",
    "\n",
    "for i in range(10) :\n",
    "  a=input().split()\n",
    "  for j in range(10) :\n",
    "    m[i+1][j+1]=int(a[j])\n",
    "\n",
    "x = 2\n",
    "y = 2\n",
    "while True :\n",
    "  if m[x][y] == 0 :\n",
    "    m[x][y] = 9\n",
    "  elif m[x][y] == 2 :\n",
    "    m[x][y] = 9\n",
    "    break\n",
    "\n",
    "  if (m[x][y+1]==1 and m[x+1][y]==1) or (x==9 and y==9) :\n",
    "    break\n",
    "\n",
    "  if m[x][y+1] != 1 :\n",
    "    y += 1\n",
    "  elif m[x+1][y] != 1 :\n",
    "    x += 1\n",
    "    \n",
    "\n",
    "for i in range(1, 11) :\n",
    "  for j in range(1, 11) :\n",
    "    print(m[i][j], end=' ')\n",
    "  print()"
   ]
  }
 ],
 "metadata": {
  "kernelspec": {
   "display_name": "Python 3 (ipykernel)",
   "language": "python",
   "name": "python3"
  },
  "language_info": {
   "codemirror_mode": {
    "name": "ipython",
    "version": 3
   },
   "file_extension": ".py",
   "mimetype": "text/x-python",
   "name": "python",
   "nbconvert_exporter": "python",
   "pygments_lexer": "ipython3",
   "version": "3.9.7"
  }
 },
 "nbformat": 4,
 "nbformat_minor": 5
}
