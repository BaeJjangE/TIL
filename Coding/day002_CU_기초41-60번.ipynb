{
 "cells": [
  {
   "cell_type": "code",
   "execution_count": null,
   "id": "3267f36d",
   "metadata": {},
   "outputs": [],
   "source": [
    "a, b = map(int, input().split())\n",
    "print(a % b)"
   ]
  },
  {
   "cell_type": "code",
   "execution_count": 6,
   "id": "99facfb9",
   "metadata": {},
   "outputs": [
    {
     "name": "stdout",
     "output_type": "stream",
     "text": [
      "10.0\n",
      "10.0\n"
     ]
    }
   ],
   "source": [
    "a = float(input())\n",
    "print(round(a, 2))"
   ]
  },
  {
   "cell_type": "code",
   "execution_count": 64,
   "id": "0e094fd5",
   "metadata": {},
   "outputs": [
    {
     "name": "stdout",
     "output_type": "stream",
     "text": [
      "10.0 0.0001\n",
      "100000.000\n"
     ]
    }
   ],
   "source": [
    "a, b = map(float, input().split())\n",
    "c = round((a / b), 3)\n",
    "c = \"{0:.3f}\".format(c)\n",
    "print(c)"
   ]
  },
  {
   "cell_type": "code",
   "execution_count": 57,
   "id": "1638afe1",
   "metadata": {},
   "outputs": [],
   "source": [
    "c = 100000.0"
   ]
  },
  {
   "cell_type": "code",
   "execution_count": 76,
   "id": "1b7e1d86",
   "metadata": {},
   "outputs": [
    {
     "name": "stdout",
     "output_type": "stream",
     "text": [
      "3.000\n"
     ]
    }
   ],
   "source": [
    "print(\"{0:.3f}\".format(c))"
   ]
  },
  {
   "cell_type": "code",
   "execution_count": 68,
   "id": "8e172a3b",
   "metadata": {},
   "outputs": [
    {
     "name": "stdout",
     "output_type": "stream",
     "text": [
      "10 3\n",
      "13\n",
      "7\n",
      "30\n",
      "3\n",
      "1\n",
      "3.33\n"
     ]
    }
   ],
   "source": [
    "a, b = map(int, input().split())\n",
    "print(a+b)\n",
    "print(a-b)\n",
    "print(a*b)\n",
    "print(a//b)\n",
    "print(a%b)\n",
    "print(round(a/b, 2))"
   ]
  },
  {
   "cell_type": "code",
   "execution_count": 72,
   "id": "8238fbfe",
   "metadata": {},
   "outputs": [
    {
     "name": "stdout",
     "output_type": "stream",
     "text": [
      "1 2 3\n",
      "6 2.00\n"
     ]
    }
   ],
   "source": [
    "a, b, c = map(int, input().split())\n",
    "d = a+b+c\n",
    "e = round((a+b+c)/3, 2)\n",
    "print(d, \"{0:.2f}\".format(e))"
   ]
  },
  {
   "cell_type": "code",
   "execution_count": 99,
   "id": "6ef5f311",
   "metadata": {},
   "outputs": [
    {
     "name": "stdout",
     "output_type": "stream",
     "text": [
      "1024\n",
      "2048\n"
     ]
    }
   ],
   "source": [
    "n = int(input())\n",
    "print(n<<1)"
   ]
  },
  {
   "cell_type": "code",
   "execution_count": 100,
   "id": "8ec815cb",
   "metadata": {},
   "outputs": [
    {
     "name": "stdout",
     "output_type": "stream",
     "text": [
      "1 3\n",
      "8\n"
     ]
    }
   ],
   "source": [
    "a, b = map(int, input().split())\n",
    "print(a * (2**b))"
   ]
  },
  {
   "cell_type": "code",
   "execution_count": 102,
   "id": "eeb68cfd",
   "metadata": {},
   "outputs": [
    {
     "name": "stdout",
     "output_type": "stream",
     "text": [
      "1 9\n",
      "True\n"
     ]
    }
   ],
   "source": [
    "a, b = map(int, input().split())\n",
    "if a < b:\n",
    "    print(True)\n",
    "else:\n",
    "    print(False)"
   ]
  },
  {
   "cell_type": "code",
   "execution_count": 104,
   "id": "c0bf7257",
   "metadata": {},
   "outputs": [
    {
     "name": "stdout",
     "output_type": "stream",
     "text": [
      "2 2\n",
      "True\n"
     ]
    }
   ],
   "source": [
    "a, b = map(int, input().split())\n",
    "if a == b:\n",
    "    print(True)\n",
    "else:\n",
    "    print(False)"
   ]
  },
  {
   "cell_type": "code",
   "execution_count": 106,
   "id": "7b2dea1c",
   "metadata": {},
   "outputs": [
    {
     "name": "stdout",
     "output_type": "stream",
     "text": [
      "0 -1\n",
      "False\n"
     ]
    }
   ],
   "source": [
    "a, b = map(int, input().split())\n",
    "if a <= b:\n",
    "    print(True)\n",
    "elif a != b:\n",
    "    print(False)"
   ]
  },
  {
   "cell_type": "code",
   "execution_count": 108,
   "id": "afbf91c0",
   "metadata": {},
   "outputs": [
    {
     "data": {
      "text/plain": [
       "{'a': 0, 'b': 0, 'c': 0}"
      ]
     },
     "execution_count": 108,
     "metadata": {},
     "output_type": "execute_result"
    }
   ],
   "source": [
    "list1 = [\"a\", \"b\", \"c\"]\n",
    "a = {x : 0 for x in list1}\n",
    "a"
   ]
  },
  {
   "cell_type": "code",
   "execution_count": 110,
   "id": "d21fb70f",
   "metadata": {},
   "outputs": [
    {
     "name": "stdout",
     "output_type": "stream",
     "text": [
      "1 5\n",
      "True\n"
     ]
    }
   ],
   "source": [
    "a, b = map(int, input().split())\n",
    "if a != b:\n",
    "    print(True)\n",
    "elif a == b:\n",
    "    print(False)"
   ]
  },
  {
   "cell_type": "code",
   "execution_count": 114,
   "id": "88c1ff18",
   "metadata": {},
   "outputs": [
    {
     "name": "stdout",
     "output_type": "stream",
     "text": [
      "-2\n",
      "True\n"
     ]
    }
   ],
   "source": [
    "n = int(input())\n",
    "print(bool(n))"
   ]
  },
  {
   "cell_type": "code",
   "execution_count": 116,
   "id": "7822e910",
   "metadata": {},
   "outputs": [
    {
     "name": "stdout",
     "output_type": "stream",
     "text": [
      "0\n",
      "True\n"
     ]
    }
   ],
   "source": [
    "n = int(input())\n",
    "print(not bool(n))"
   ]
  },
  {
   "cell_type": "code",
   "execution_count": 117,
   "id": "9e13a3e7",
   "metadata": {},
   "outputs": [
    {
     "name": "stdout",
     "output_type": "stream",
     "text": [
      "1 0\n",
      "False\n"
     ]
    }
   ],
   "source": [
    "a, b = map(int, input().split())\n",
    "print(bool(a) and bool(b))"
   ]
  },
  {
   "cell_type": "code",
   "execution_count": 122,
   "id": "a07464d8",
   "metadata": {},
   "outputs": [
    {
     "name": "stdout",
     "output_type": "stream",
     "text": [
      "0 1\n",
      "True\n"
     ]
    }
   ],
   "source": [
    "a, b = map(int, input().split())\n",
    "print(bool(a) | bool(b))"
   ]
  },
  {
   "cell_type": "code",
   "execution_count": 134,
   "id": "4009dbb2",
   "metadata": {},
   "outputs": [
    {
     "name": "stdout",
     "output_type": "stream",
     "text": [
      "1 0\n",
      "True\n"
     ]
    }
   ],
   "source": [
    "a, b = map(int, input().split())\n",
    "if a != b:\n",
    "    print(True)\n",
    "else:\n",
    "    print(False)"
   ]
  },
  {
   "cell_type": "code",
   "execution_count": 154,
   "id": "844d9818",
   "metadata": {},
   "outputs": [
    {
     "data": {
      "text/plain": [
       "True"
      ]
     },
     "execution_count": 154,
     "metadata": {},
     "output_type": "execute_result"
    }
   ],
   "source": [
    "# XOR 이해\n",
    "(bool(1) or bool(0)) and (not(bool(1) and bool(0)))"
   ]
  },
  {
   "cell_type": "code",
   "execution_count": 157,
   "id": "ed079d8f",
   "metadata": {
    "scrolled": false
   },
   "outputs": [
    {
     "data": {
      "text/plain": [
       "True"
      ]
     },
     "execution_count": 157,
     "metadata": {},
     "output_type": "execute_result"
    }
   ],
   "source": [
    "(bool(0) and (not bool(1))) or ((not bool(0) and bool(1)))"
   ]
  },
  {
   "cell_type": "code",
   "execution_count": null,
   "id": "db943032",
   "metadata": {},
   "outputs": [],
   "source": [
    "a, b = map(int, input().split())\n",
    "print((bool(a) or bool(b)) and (not(bool(a) and bool(b))))"
   ]
  },
  {
   "cell_type": "code",
   "execution_count": 162,
   "id": "5836bc01",
   "metadata": {},
   "outputs": [
    {
     "name": "stdout",
     "output_type": "stream",
     "text": [
      "0 1\n",
      "False\n"
     ]
    }
   ],
   "source": [
    "a, b = map(int, input().split())\n",
    "print(not((bool(a) or bool(b)) and (not(bool(a) and bool(b)))))"
   ]
  },
  {
   "cell_type": "code",
   "execution_count": 169,
   "id": "7c46da14",
   "metadata": {},
   "outputs": [
    {
     "data": {
      "text/plain": [
       "False"
      ]
     },
     "execution_count": 169,
     "metadata": {},
     "output_type": "execute_result"
    }
   ],
   "source": [
    "not(bool(1) or bool(1))"
   ]
  },
  {
   "cell_type": "code",
   "execution_count": 176,
   "id": "504bce2a",
   "metadata": {
    "scrolled": true
   },
   "outputs": [
    {
     "data": {
      "text/plain": [
       "98"
      ]
     },
     "execution_count": 176,
     "metadata": {},
     "output_type": "execute_result"
    }
   ],
   "source": [
    "a = -99\n",
    "~a"
   ]
  },
  {
   "cell_type": "code",
   "execution_count": 177,
   "id": "6dbf69b1",
   "metadata": {},
   "outputs": [
    {
     "data": {
      "text/plain": [
       "-100"
      ]
     },
     "execution_count": 177,
     "metadata": {},
     "output_type": "execute_result"
    }
   ],
   "source": [
    "b = 99\n",
    "~b"
   ]
  },
  {
   "cell_type": "markdown",
   "id": "98575724",
   "metadata": {},
   "source": [
    "6059 : [기초-비트단위논리연산] 비트단위로 NOT 하여 출력하기(설명)(py)"
   ]
  },
  {
   "cell_type": "code",
   "execution_count": 178,
   "id": "c73bb52a",
   "metadata": {},
   "outputs": [
    {
     "name": "stdout",
     "output_type": "stream",
     "text": [
      "2\n",
      "-3\n"
     ]
    }
   ],
   "source": [
    "n = int(input())\n",
    "print(~n) # 부호바꾸고 -1"
   ]
  },
  {
   "cell_type": "code",
   "execution_count": 179,
   "id": "300e0be7",
   "metadata": {},
   "outputs": [
    {
     "name": "stdout",
     "output_type": "stream",
     "text": [
      "3 5\n",
      "1\n"
     ]
    }
   ],
   "source": [
    "a, b = map(int, input().split())\n",
    "print(a&b)"
   ]
  },
  {
   "cell_type": "code",
   "execution_count": 180,
   "id": "fd483b40",
   "metadata": {},
   "outputs": [
    {
     "data": {
      "text/plain": [
       "'0b11'"
      ]
     },
     "execution_count": 180,
     "metadata": {},
     "output_type": "execute_result"
    }
   ],
   "source": [
    "bin(3)"
   ]
  },
  {
   "cell_type": "code",
   "execution_count": 181,
   "id": "f49c683b",
   "metadata": {},
   "outputs": [
    {
     "data": {
      "text/plain": [
       "'0b101'"
      ]
     },
     "execution_count": 181,
     "metadata": {},
     "output_type": "execute_result"
    }
   ],
   "source": [
    "bin(5)"
   ]
  },
  {
   "cell_type": "code",
   "execution_count": 184,
   "id": "2502399d",
   "metadata": {},
   "outputs": [
    {
     "name": "stdout",
     "output_type": "stream",
     "text": [
      "1000.0000\n"
     ]
    }
   ],
   "source": [
    "a = 1000\n",
    "print(f\"{a:.4f}\")"
   ]
  },
  {
   "cell_type": "code",
   "execution_count": null,
   "id": "a631a920",
   "metadata": {},
   "outputs": [],
   "source": []
  },
  {
   "cell_type": "code",
   "execution_count": null,
   "id": "31983303",
   "metadata": {},
   "outputs": [],
   "source": []
  }
 ],
 "metadata": {
  "kernelspec": {
   "display_name": "Python 3 (ipykernel)",
   "language": "python",
   "name": "python3"
  },
  "language_info": {
   "codemirror_mode": {
    "name": "ipython",
    "version": 3
   },
   "file_extension": ".py",
   "mimetype": "text/x-python",
   "name": "python",
   "nbconvert_exporter": "python",
   "pygments_lexer": "ipython3",
   "version": "3.9.7"
  }
 },
 "nbformat": 4,
 "nbformat_minor": 5
}
