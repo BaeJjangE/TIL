{
 "cells": [
  {
   "cell_type": "code",
   "execution_count": 6,
   "id": "ad73988b",
   "metadata": {},
   "outputs": [
    {
     "name": "stdout",
     "output_type": "stream",
     "text": [
      "1 2 4\n",
      "2\n",
      "4\n"
     ]
    }
   ],
   "source": [
    "a, b, c = map(int, input().split())\n",
    "list1 = [a, b, c]\n",
    "for i in list1:\n",
    "    if i % 2 == 0:\n",
    "        print(i)"
   ]
  },
  {
   "cell_type": "code",
   "execution_count": 7,
   "id": "e9b92404",
   "metadata": {},
   "outputs": [
    {
     "name": "stdout",
     "output_type": "stream",
     "text": [
      "1 2 8\n",
      "odd\n",
      "even\n",
      "even\n"
     ]
    }
   ],
   "source": [
    "a, b, c = map(int, input().split())\n",
    "list1 = [a, b, c]\n",
    "for i in list1:\n",
    "    if i % 2 == 0:\n",
    "        print(\"even\")\n",
    "    elif i % 2 == 1:\n",
    "        print(\"odd\")"
   ]
  },
  {
   "cell_type": "code",
   "execution_count": 13,
   "id": "d9a52abb",
   "metadata": {},
   "outputs": [
    {
     "name": "stdout",
     "output_type": "stream",
     "text": [
      "-2221\n",
      "B\n"
     ]
    }
   ],
   "source": [
    "a = int(input())\n",
    "if a < 0:\n",
    "    if a % 2 == 0:\n",
    "        print('A')\n",
    "    elif a % 2 == 1:\n",
    "        print('B')\n",
    "elif a > 0:\n",
    "    if a % 2 == 0:\n",
    "        print('C')\n",
    "    elif a % 2 == 1:\n",
    "        print('D')\n",
    "    "
   ]
  },
  {
   "cell_type": "code",
   "execution_count": 12,
   "id": "25cbf960",
   "metadata": {},
   "outputs": [
    {
     "data": {
      "text/plain": [
       "1"
      ]
     },
     "execution_count": 12,
     "metadata": {},
     "output_type": "execute_result"
    }
   ],
   "source": [
    "-2221 % 2"
   ]
  }
 ],
 "metadata": {
  "kernelspec": {
   "display_name": "Python 3 (ipykernel)",
   "language": "python",
   "name": "python3"
  },
  "language_info": {
   "codemirror_mode": {
    "name": "ipython",
    "version": 3
   },
   "file_extension": ".py",
   "mimetype": "text/x-python",
   "name": "python",
   "nbconvert_exporter": "python",
   "pygments_lexer": "ipython3",
   "version": "3.9.7"
  }
 },
 "nbformat": 4,
 "nbformat_minor": 5
}
