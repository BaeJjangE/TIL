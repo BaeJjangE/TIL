{
 "cells": [
  {
   "cell_type": "code",
   "execution_count": 34,
   "id": "3f01fa7f",
   "metadata": {},
   "outputs": [
    {
     "name": "stdout",
     "output_type": "stream",
     "text": [
      "1\n",
      "4 4\n",
      "1 3 1 5 2 2 4 1 5 0 2 3 0 6 1 2\n",
      "[1]\n",
      "[1, 2]\n",
      "[1, 2, 5]\n",
      "[1, 2, 5, 0]\n",
      "5\n",
      "[3]\n",
      "[3, 2]\n",
      "[3, 2, 0]\n",
      "[3, 2, 0, 6]\n",
      "11\n",
      "[1]\n",
      "[1, 4]\n",
      "[1, 4, 2]\n",
      "[1, 4, 2, 1]\n",
      "15\n",
      "[5]\n",
      "[5, 1]\n",
      "[5, 1, 3]\n",
      "[5, 1, 3, 2]\n",
      "20\n",
      "a 20\n"
     ]
    }
   ],
   "source": [
    "for T in range(int(input())):\n",
    "    n, m = map(int, input().split())\n",
    "    matrix = [[0 for i in range(m)] for _ in range(n)]\n",
    "    temp = list(map(int, input().split()))\n",
    "    x = 0\n",
    "    y = 0\n",
    "    for i in temp:\n",
    "        matrix[x][y] = i\n",
    "        y += 1        \n",
    "        if y > (m-1):\n",
    "            x += 1\n",
    "            y = 0\n",
    "    temp2 = []\n",
    "    result = 0\n",
    "    for i in range(m):\n",
    "        for j in range(n):\n",
    "            temp2.append(matrix[j][i])\n",
    "            print(temp2)\n",
    "        result += max(temp2)\n",
    "        print(result)\n",
    "        temp2 = []\n",
    "    print(\"a\", result)"
   ]
  },
  {
   "cell_type": "code",
   "execution_count": 1,
   "id": "e933fc87",
   "metadata": {},
   "outputs": [
    {
     "name": "stdout",
     "output_type": "stream",
     "text": [
      "2\n",
      "3 4\n",
      "1 3 3 2 2 1 4 1 0 6 4 7\n",
      "19\n",
      "4 4\n",
      "1 3 1 5 2 2 4 1 5 0 2 3 0 6 1 2\n",
      "16\n"
     ]
    }
   ],
   "source": [
    "for T in range(int(input())):\n",
    "    n, m = map(int, input().split())\n",
    "    array = list(map(int, input().split()))\n",
    "    dp = []\n",
    "    index = 0\n",
    "    for _ in range(n): # 첫번째 포인트: 리스트를 이차원으로 쉽게바꾸는 방법\n",
    "        dp.append(array[index:index+m])\n",
    "        index += m\n",
    "    \n",
    "    for j in range(1, m): # 두번째 포인트: 아이디어를 생각해내서 코드로 바꾸는 구간\n",
    "        for i in range(n):\n",
    "            if i == 0: left_up = 0\n",
    "            else: left_up = dp[i-1][j-1]\n",
    "            left = dp[i][j-1]\n",
    "            if i == (n-1): left_down = 0\n",
    "            else: left_down = dp[i+1][j-1]\n",
    "            dp[i][j] = dp[i][j] + max(left_up, left, left_down)\n",
    "    \n",
    "    result = []\n",
    "    for i in range(n):\n",
    "        result.append(dp[i][m-1])\n",
    "    print(max(result))"
   ]
  },
  {
   "cell_type": "code",
   "execution_count": null,
   "id": "8dd5ed18",
   "metadata": {},
   "outputs": [],
   "source": []
  },
  {
   "cell_type": "code",
   "execution_count": null,
   "id": "3723e52b",
   "metadata": {},
   "outputs": [],
   "source": []
  },
  {
   "cell_type": "code",
   "execution_count": null,
   "id": "938d6a28",
   "metadata": {},
   "outputs": [],
   "source": []
  },
  {
   "cell_type": "code",
   "execution_count": null,
   "id": "9be61349",
   "metadata": {},
   "outputs": [],
   "source": []
  },
  {
   "cell_type": "code",
   "execution_count": null,
   "id": "07f08d95",
   "metadata": {},
   "outputs": [],
   "source": []
  },
  {
   "cell_type": "code",
   "execution_count": null,
   "id": "35fade46",
   "metadata": {},
   "outputs": [],
   "source": []
  },
  {
   "cell_type": "code",
   "execution_count": null,
   "id": "3969a7a9",
   "metadata": {},
   "outputs": [],
   "source": []
  }
 ],
 "metadata": {
  "kernelspec": {
   "display_name": "Python 3 (ipykernel)",
   "language": "python",
   "name": "python3"
  },
  "language_info": {
   "codemirror_mode": {
    "name": "ipython",
    "version": 3
   },
   "file_extension": ".py",
   "mimetype": "text/x-python",
   "name": "python",
   "nbconvert_exporter": "python",
   "pygments_lexer": "ipython3",
   "version": "3.9.7"
  }
 },
 "nbformat": 4,
 "nbformat_minor": 5
}
