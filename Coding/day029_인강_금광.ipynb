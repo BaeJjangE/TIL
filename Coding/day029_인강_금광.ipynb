{
 "cells": [
  {
   "cell_type": "code",
   "execution_count": 34,
   "id": "3f01fa7f",
   "metadata": {},
   "outputs": [
    {
     "name": "stdout",
     "output_type": "stream",
     "text": [
      "1\n",
      "4 4\n",
      "1 3 1 5 2 2 4 1 5 0 2 3 0 6 1 2\n",
      "[1]\n",
      "[1, 2]\n",
      "[1, 2, 5]\n",
      "[1, 2, 5, 0]\n",
      "5\n",
      "[3]\n",
      "[3, 2]\n",
      "[3, 2, 0]\n",
      "[3, 2, 0, 6]\n",
      "11\n",
      "[1]\n",
      "[1, 4]\n",
      "[1, 4, 2]\n",
      "[1, 4, 2, 1]\n",
      "15\n",
      "[5]\n",
      "[5, 1]\n",
      "[5, 1, 3]\n",
      "[5, 1, 3, 2]\n",
      "20\n",
      "a 20\n"
     ]
    }
   ],
   "source": [
    "T = int(input())\n",
    "\n",
    "\n",
    "for _ in range(T):\n",
    "    n, m = map(int, input().split())\n",
    "    matrix = [[0 for i in range(m)] for _ in range(n)]\n",
    "    temp = list(map(int, input().split()))\n",
    "    x = 0\n",
    "    y = 0\n",
    "    for i in temp:\n",
    "        matrix[x][y] = i\n",
    "        y += 1        \n",
    "        if y > (m-1):\n",
    "            x += 1\n",
    "            y = 0\n",
    "    temp2 = []\n",
    "    result = 0\n",
    "    for i in range(m):\n",
    "        for j in range(n):\n",
    "            temp2.append(matrix[j][i])\n",
    "            print(temp2)\n",
    "        result += max(temp2)\n",
    "        print(result)\n",
    "        temp2 = []\n",
    "    print(\"a\", result)"
   ]
  },
  {
   "cell_type": "code",
   "execution_count": 30,
   "id": "577fd124",
   "metadata": {},
   "outputs": [
    {
     "data": {
      "text/plain": [
       "[]"
      ]
     },
     "execution_count": 30,
     "metadata": {},
     "output_type": "execute_result"
    }
   ],
   "source": [
    "temp2"
   ]
  },
  {
   "cell_type": "code",
   "execution_count": 2,
   "id": "8a82b58b",
   "metadata": {
    "scrolled": true
   },
   "outputs": [
    {
     "data": {
      "text/plain": [
       "[[0, 0, 0], [0, 0, 0], [0, 0, 0], [0, 0, 0]]"
      ]
     },
     "execution_count": 2,
     "metadata": {},
     "output_type": "execute_result"
    }
   ],
   "source": [
    "[[0] * n] * m"
   ]
  },
  {
   "cell_type": "code",
   "execution_count": 5,
   "id": "9de19d0e",
   "metadata": {},
   "outputs": [
    {
     "data": {
      "text/plain": [
       "[1, 3, 3, 2, 2, 1, 4, 1, 0, 6, 4, 7]"
      ]
     },
     "execution_count": 5,
     "metadata": {},
     "output_type": "execute_result"
    }
   ],
   "source": [
    "temp"
   ]
  },
  {
   "cell_type": "code",
   "execution_count": 22,
   "id": "e4e41965",
   "metadata": {},
   "outputs": [
    {
     "data": {
      "text/plain": [
       "[[999, 0, 0], [0, 0, 0], [0, 0, 0], [0, 0, 0]]"
      ]
     },
     "execution_count": 22,
     "metadata": {},
     "output_type": "execute_result"
    }
   ],
   "source": [
    "matrix"
   ]
  },
  {
   "cell_type": "code",
   "execution_count": 21,
   "id": "7fcff637",
   "metadata": {},
   "outputs": [],
   "source": [
    "matrix[0][0] = 999"
   ]
  },
  {
   "cell_type": "code",
   "execution_count": 20,
   "id": "c3efc053",
   "metadata": {},
   "outputs": [],
   "source": []
  },
  {
   "cell_type": "code",
   "execution_count": 16,
   "id": "679186be",
   "metadata": {},
   "outputs": [
    {
     "data": {
      "text/plain": [
       "3"
      ]
     },
     "execution_count": 16,
     "metadata": {},
     "output_type": "execute_result"
    }
   ],
   "source": [
    "n"
   ]
  },
  {
   "cell_type": "code",
   "execution_count": null,
   "id": "e933fc87",
   "metadata": {},
   "outputs": [],
   "source": []
  },
  {
   "cell_type": "code",
   "execution_count": null,
   "id": "8dd5ed18",
   "metadata": {},
   "outputs": [],
   "source": []
  },
  {
   "cell_type": "code",
   "execution_count": null,
   "id": "3723e52b",
   "metadata": {},
   "outputs": [],
   "source": []
  },
  {
   "cell_type": "code",
   "execution_count": null,
   "id": "938d6a28",
   "metadata": {},
   "outputs": [],
   "source": []
  },
  {
   "cell_type": "code",
   "execution_count": null,
   "id": "9be61349",
   "metadata": {},
   "outputs": [],
   "source": []
  },
  {
   "cell_type": "code",
   "execution_count": null,
   "id": "07f08d95",
   "metadata": {},
   "outputs": [],
   "source": []
  },
  {
   "cell_type": "code",
   "execution_count": null,
   "id": "35fade46",
   "metadata": {},
   "outputs": [],
   "source": []
  },
  {
   "cell_type": "code",
   "execution_count": null,
   "id": "3969a7a9",
   "metadata": {},
   "outputs": [],
   "source": []
  }
 ],
 "metadata": {
  "kernelspec": {
   "display_name": "Python 3 (ipykernel)",
   "language": "python",
   "name": "python3"
  },
  "language_info": {
   "codemirror_mode": {
    "name": "ipython",
    "version": 3
   },
   "file_extension": ".py",
   "mimetype": "text/x-python",
   "name": "python",
   "nbconvert_exporter": "python",
   "pygments_lexer": "ipython3",
   "version": "3.9.7"
  }
 },
 "nbformat": 4,
 "nbformat_minor": 5
}
