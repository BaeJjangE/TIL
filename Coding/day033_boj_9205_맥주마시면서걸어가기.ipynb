{
 "cells": [
  {
   "cell_type": "markdown",
   "id": "db5e3d9e",
   "metadata": {},
   "source": [
    "풀긴한거같은데 시간초과.."
   ]
  },
  {
   "cell_type": "code",
   "execution_count": 5,
   "id": "ab5ba87a",
   "metadata": {},
   "outputs": [
    {
     "name": "stdout",
     "output_type": "stream",
     "text": [
      "2\n",
      "2\n",
      "0 0\n",
      "1000 0\n",
      "1000 1000\n",
      "2000 1000\n",
      "happy\n",
      "2\n",
      "0 0\n",
      "1000 0\n",
      "2000 1000\n",
      "2000 2000\n",
      "sad\n"
     ]
    }
   ],
   "source": [
    "from collections import deque\n",
    "# import sys\n",
    "# input = sys.stdin.readline\n",
    "import time\n",
    "\n",
    "def bfs():\n",
    "    q = deque()\n",
    "    q.append(home)\n",
    "    while q:\n",
    "        x, y = q.popleft() # 집위치에서 시작\n",
    "        if abs(fest_xy[0] - x) + abs(fest_xy[1] - y) <= 1000: # 만약 페스티벌 바로갈수있는 거리면\n",
    "            return print(\"happy\")\n",
    "        for sx, sy in store_xy: # 편의점 위치를 넣어줘서\n",
    "            if 0 < (abs(sx - x) + abs(sy - y)) <= 1000: # 편의점 위치가 1000이하면\n",
    "                q.append([sx, sy]) # 편의점위치로 초기화\n",
    "    return print(\"sad\") # 편의점위치로 이동하고도 도착을 못하면 sad반환           \n",
    "\n",
    "for _ in range(int(input())): # 몇 번 실행 할 것인지\n",
    "    store_cnt = int(input())\n",
    "    home = list(map(int, input().split()))\n",
    "    store_xy = []\n",
    "    for _ in range(store_cnt):\n",
    "        store_xy.append(list(map(int, input().split())))\n",
    "    fest_xy = list(map(int, input().split()))\n",
    "    bfs()\n",
    "    "
   ]
  },
  {
   "cell_type": "markdown",
   "id": "761066f0",
   "metadata": {},
   "source": [
    "## 다른 사람 정답 참고하여 수정"
   ]
  },
  {
   "cell_type": "code",
   "execution_count": 14,
   "id": "42757812",
   "metadata": {},
   "outputs": [
    {
     "name": "stdout",
     "output_type": "stream",
     "text": [
      "1\n",
      "2\n",
      "0 0 \n",
      "1000 0\n",
      "1000 1000\n",
      "2000 1000\n",
      "happy\n"
     ]
    }
   ],
   "source": [
    "from collections import deque\n",
    "import sys\n",
    "input = sys.stdin.readline\n",
    "\n",
    "def bfs():\n",
    "    q = deque()\n",
    "    q.append(home)\n",
    "    while q:\n",
    "        x, y = q.popleft()\n",
    "        if abs(fest_xy[0] - x) + abs(fest_xy[1] - y) <= 1000:\n",
    "            return print(\"happy\")\n",
    "        for i in range(store_cnt):\n",
    "            if not visited[i+1]:\n",
    "                if abs(store_xy[i][0] - x) + abs(store_xy[i][1] - y) <= 1000:\n",
    "                    visited[i+1] = 1\n",
    "                    q.append(store_xy[i])\n",
    "    return print(\"sad\")           \n",
    "\n",
    "for _ in range(int(input())): # 몇 번 실행 할 것인지\n",
    "    store_cnt = int(input())\n",
    "    home = list(map(int, input().split()))\n",
    "    store_xy = []\n",
    "    for _ in range(store_cnt):\n",
    "        store_xy.append(list(map(int, input().split())))\n",
    "    fest_xy = list(map(int, input().split()))\n",
    "    visited = [0 for i in range(store_cnt+1)]\n",
    "    bfs()"
   ]
  },
  {
   "cell_type": "code",
   "execution_count": 14,
   "id": "ef101697",
   "metadata": {},
   "outputs": [
    {
     "name": "stdout",
     "output_type": "stream",
     "text": [
      "10 11\n"
     ]
    },
    {
     "ename": "ValueError",
     "evalue": "invalid literal for int() with base 10: ''",
     "output_type": "error",
     "traceback": [
      "\u001b[1;31m---------------------------------------------------------------------------\u001b[0m",
      "\u001b[1;31mValueError\u001b[0m                                Traceback (most recent call last)",
      "\u001b[1;32m~\\AppData\\Local\\Temp/ipykernel_20032/304408757.py\u001b[0m in \u001b[0;36m<module>\u001b[1;34m\u001b[0m\n\u001b[0;32m      2\u001b[0m \u001b[0mN\u001b[0m\u001b[1;33m,\u001b[0m\u001b[0mM\u001b[0m \u001b[1;33m=\u001b[0m \u001b[0minput\u001b[0m\u001b[1;33m(\u001b[0m\u001b[1;33m)\u001b[0m\u001b[1;33m.\u001b[0m\u001b[0msplit\u001b[0m\u001b[1;33m(\u001b[0m\u001b[1;33m)\u001b[0m\u001b[1;33m\u001b[0m\u001b[1;33m\u001b[0m\u001b[0m\n\u001b[0;32m      3\u001b[0m \u001b[0mcnt\u001b[0m \u001b[1;33m=\u001b[0m \u001b[1;36m1\u001b[0m\u001b[1;33m\u001b[0m\u001b[1;33m\u001b[0m\u001b[0m\n\u001b[1;32m----> 4\u001b[1;33m \u001b[1;32mwhile\u001b[0m \u001b[0mint\u001b[0m\u001b[1;33m(\u001b[0m\u001b[0mN\u001b[0m\u001b[1;33m)\u001b[0m\u001b[1;33m!=\u001b[0m\u001b[0mint\u001b[0m\u001b[1;33m(\u001b[0m\u001b[0mM\u001b[0m\u001b[1;33m)\u001b[0m\u001b[1;33m:\u001b[0m\u001b[1;33m\u001b[0m\u001b[1;33m\u001b[0m\u001b[0m\n\u001b[0m\u001b[0;32m      5\u001b[0m     \u001b[1;32mif\u001b[0m \u001b[0mM\u001b[0m\u001b[1;33m[\u001b[0m\u001b[1;33m-\u001b[0m\u001b[1;36m1\u001b[0m\u001b[1;33m]\u001b[0m\u001b[1;33m==\u001b[0m\u001b[1;34m'1'\u001b[0m\u001b[1;33m:\u001b[0m\u001b[1;33m\u001b[0m\u001b[1;33m\u001b[0m\u001b[0m\n\u001b[0;32m      6\u001b[0m         \u001b[0mM\u001b[0m\u001b[1;33m=\u001b[0m\u001b[0mM\u001b[0m\u001b[1;33m[\u001b[0m\u001b[1;33m:\u001b[0m\u001b[1;33m-\u001b[0m\u001b[1;36m1\u001b[0m\u001b[1;33m]\u001b[0m\u001b[1;33m\u001b[0m\u001b[1;33m\u001b[0m\u001b[0m\n",
      "\u001b[1;31mValueError\u001b[0m: invalid literal for int() with base 10: ''"
     ]
    }
   ],
   "source": [
    "import sys\n",
    "N,M = input().split()\n",
    "cnt = 1\n",
    "while int(N)!=int(M):\n",
    "    if M[-1]=='1':\n",
    "        M=M[:-1]\n",
    "        cnt=cnt+1\n",
    "    elif int(M)%2 != 0  or int(M)<int(N):\n",
    "        cnt = -1\n",
    "        break\n",
    "    else:\n",
    "        M=str(round(int(M)/2))\n",
    "        cnt=cnt+1\n",
    "print(cnt)"
   ]
  },
  {
   "cell_type": "code",
   "execution_count": 15,
   "id": "b49dd1da",
   "metadata": {},
   "outputs": [
    {
     "data": {
      "text/plain": [
       "'1'"
      ]
     },
     "execution_count": 15,
     "metadata": {},
     "output_type": "execute_result"
    }
   ],
   "source": [
    "'11'[:-1]"
   ]
  }
 ],
 "metadata": {
  "kernelspec": {
   "display_name": "Python 3 (ipykernel)",
   "language": "python",
   "name": "python3"
  },
  "language_info": {
   "codemirror_mode": {
    "name": "ipython",
    "version": 3
   },
   "file_extension": ".py",
   "mimetype": "text/x-python",
   "name": "python",
   "nbconvert_exporter": "python",
   "pygments_lexer": "ipython3",
   "version": "3.9.7"
  }
 },
 "nbformat": 4,
 "nbformat_minor": 5
}
