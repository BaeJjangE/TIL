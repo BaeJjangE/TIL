{
 "cells": [
  {
   "cell_type": "markdown",
   "id": "811e59d7",
   "metadata": {},
   "source": [
    "## 방법\n",
    "1. 첫번째, 마지막 계단은 무조건 더해주고, \n",
    "2. 위치(position), 점수(score)를 기억하는 객체를 생성해서 이동하면서 n+1과 n+2값 중 큰 값만 선택해서 score에 점수를 더하고 \n",
    "3. if문으로 마지막 계단 전 또는 전전이 선택되면 종료한다."
   ]
  },
  {
   "cell_type": "code",
   "execution_count": 47,
   "id": "d6530dfe",
   "metadata": {
    "scrolled": true
   },
   "outputs": [
    {
     "name": "stdout",
     "output_type": "stream",
     "text": [
      "5\n",
      "5\n",
      "5\n",
      "5\n",
      "5\n",
      "5\n",
      "20\n"
     ]
    }
   ],
   "source": [
    "stairs = int(input())\n",
    "step_score_list = [0] # 계단 점수가 들어갈 변수\n",
    "for _ in range(stairs):\n",
    "    step_score = int(input())\n",
    "    step_score_list.append(step_score)\n",
    "    \n",
    "# 현재위치: 1번째 계단은 무조건 밟아야 이득\n",
    "position = 1\n",
    "score = step_score_list[position] # 첫번째 계단 점수로 시작한다.\n",
    "# 현재 위치가 마지막계단 전 또는 전전이면 멈춘다.\n",
    "while (position != len(step_score_list)-2) and (position != (len(step_score_list)-3)):    \n",
    "    # 다음 계단과 다다음 계단을 비교하여 다음 계단이 크거나 같다면 다음계단 점수더하고 위치를 반환\n",
    "    if step_score_list[position+1] >= step_score_list[position+2]:\n",
    "        score += step_score_list[position+1]\n",
    "        position = position+1        \n",
    "    \n",
    "    # 다음 계단과 다다음 계단을 비교하여 다다음 계단이 크다면 다다음계단 점수더하고 위치를 반환\n",
    "    elif step_score_list[position+1] < step_score_list[position+2]:\n",
    "        score += step_score_list[position+2]\n",
    "        position = position+2    \n",
    "\n",
    "# 마지막 계단 점수을 더해준다.\n",
    "score += step_score_list[len(step_score_list)-1]\n",
    "\n",
    "print(score)\n",
    "# 반례: 5 / 5 5 5 5 5"
   ]
  },
  {
   "cell_type": "code",
   "execution_count": null,
   "id": "c21a7c14",
   "metadata": {},
   "outputs": [],
   "source": []
  },
  {
   "cell_type": "code",
   "execution_count": 45,
   "id": "996cc09e",
   "metadata": {
    "scrolled": true
   },
   "outputs": [
    {
     "name": "stdout",
     "output_type": "stream",
     "text": [
      "5\n",
      "5\n",
      "5\n",
      "5\n",
      "7\n",
      "5\n",
      "15\n"
     ]
    }
   ],
   "source": [
    "stairs = int(input())\n",
    "step_score_list = [0] # 계단 점수가 들어갈 변수\n",
    "for _ in range(stairs):\n",
    "    step_score = int(input())\n",
    "    step_score_list.append(step_score)\n",
    "    \n",
    "# 현재위치: 1번째 계단은 무조건 밟아야 이득\n",
    "position = 1\n",
    "score = step_score_list[position] # 첫번째 계단 점수로 시작한다.\n",
    "# 현재 위치가 마지막계단 전 또는 전전이면 멈춘다.\n",
    "while (position != len(step_score_list)-2) and (position != (len(step_score_list)-3)):\n",
    "    # 연속 3개의 계단 점수가 같지 않다면\n",
    "    if step_score_list[position] != step_score_list[position+1] or step_score_list[position+1] != step_score_list[position+2]:\n",
    "    # 다음 계단과 다다음 계단을 비교하여 다음 계단이 크거나 같다면 다음계단 점수더하고 위치를 반환\n",
    "        if step_score_list[position+1] >= step_score_list[position+2]:\n",
    "            score += step_score_list[position+1]\n",
    "            position = position+1        \n",
    "\n",
    "        # 다음 계단과 다다음 계단을 비교하여 다다음 계단이 크다면 다다음계단 점수더하고 위치를 반환\n",
    "        elif step_score_list[position+1] < step_score_list[position+2]:\n",
    "            score += step_score_list[position+2]\n",
    "            position = position+2\n",
    "        \n",
    "            \n",
    "    # 연속 3개의 계단 점수가 같다면 -> 무조건 다다음 계단 선택하기\n",
    "    else:\n",
    "        score += step_score_list[position+2]\n",
    "        position = position+2   \n",
    "        \n",
    "    \n",
    "\n",
    "# 마지막 계단 점수을 더해준다.\n",
    "score += step_score_list[len(step_score_list)-1]\n",
    "\n",
    "print(score)\n",
    "# 반례: 5 / 5 5 5 7 5 -> 22"
   ]
  },
  {
   "cell_type": "code",
   "execution_count": 32,
   "id": "9946ddf0",
   "metadata": {
    "scrolled": true
   },
   "outputs": [
    {
     "data": {
      "text/plain": [
       "[0, 1, 1, 2, 2, 1, 1]"
      ]
     },
     "execution_count": 32,
     "metadata": {},
     "output_type": "execute_result"
    }
   ],
   "source": [
    "step_score_list"
   ]
  },
  {
   "cell_type": "code",
   "execution_count": 58,
   "id": "893a7e38",
   "metadata": {
    "scrolled": true
   },
   "outputs": [
    {
     "name": "stdout",
     "output_type": "stream",
     "text": [
      "5\n",
      "5\n",
      "5\n",
      "5\n",
      "7\n",
      "5\n",
      "17\n"
     ]
    }
   ],
   "source": [
    "stairs = int(input())\n",
    "step_score_list = [0] # 계단 점수가 들어갈 변수\n",
    "for _ in range(stairs):\n",
    "    step_score = int(input())\n",
    "    step_score_list.append(step_score)\n",
    "    \n",
    "# 현재위치: 1번째 계단은 무조건 밟아야 이득\n",
    "position = 1\n",
    "score = step_score_list[position] # 첫번째 계단 점수로 시작한다.\n",
    "# 현재 위치가 마지막계단 전 또는 전전이면 멈춘다.\n",
    "while (position != len(step_score_list)-1) and (position != (len(step_score_list)-2)):\n",
    "    # 연속 3개의 계단 점수가 같지 않다면\n",
    "    if step_score_list[position] != step_score_list[position+1] or step_score_list[position+1] != step_score_list[position+2]:\n",
    "    # 다음 계단과 다다음 계단을 비교하여 다음 계단이 크거나 같다면 다음계단 점수더하고 위치를 반환\n",
    "        if step_score_list[position+1] >= step_score_list[position+2]:\n",
    "            score += step_score_list[position+1]\n",
    "            position = position+1        \n",
    "\n",
    "        # 다음 계단과 다다음 계단을 비교하여 다다음 계단이 크다면 다다음계단 점수더하고 위치를 반환\n",
    "        elif step_score_list[position+1] < step_score_list[position+2]:\n",
    "            score += step_score_list[position+2]\n",
    "            position = position+2\n",
    "        \n",
    "            \n",
    "    # 연속 3개의 계단 점수가 같다면 -> 무조건 다다음 계단 선택하기\n",
    "    else:\n",
    "        score += step_score_list[position+2]\n",
    "        position = position+2   \n",
    "        \n",
    "\n",
    "\n",
    "\n",
    "print(score)\n",
    "# 반례: 5 / 5 5 5 7 5 -> 22"
   ]
  },
  {
   "cell_type": "code",
   "execution_count": null,
   "id": "390dab55",
   "metadata": {},
   "outputs": [],
   "source": []
  },
  {
   "cell_type": "code",
   "execution_count": null,
   "id": "05cdec0a",
   "metadata": {},
   "outputs": [],
   "source": [
    "# 다른사람정답\n",
    "arr = []\n",
    "dp = []\n",
    "\n",
    "l = int(input())\n",
    "for _ in range(l):\n",
    "    arr.append(int(input()))\n",
    "\n",
    "dp.append(arr[0])\n",
    "dp.append(max(arr[0]+arr[1],arr[1]))\n",
    "dp.append(max(arr[0]+arr[2],arr[1]+arr[2]))\n",
    "for i in range(3,l):\n",
    "    dp.append(max(dp[i-2] + arr[i] , dp[i-3] + arr[i] + arr[i - 1]))\n",
    "\n",
    "print(dp.pop())"
   ]
  }
 ],
 "metadata": {
  "kernelspec": {
   "display_name": "Python 3 (ipykernel)",
   "language": "python",
   "name": "python3"
  },
  "language_info": {
   "codemirror_mode": {
    "name": "ipython",
    "version": 3
   },
   "file_extension": ".py",
   "mimetype": "text/x-python",
   "name": "python",
   "nbconvert_exporter": "python",
   "pygments_lexer": "ipython3",
   "version": "3.9.7"
  }
 },
 "nbformat": 4,
 "nbformat_minor": 5
}
