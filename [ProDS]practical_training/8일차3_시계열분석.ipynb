{
 "cells": [
  {
   "cell_type": "markdown",
   "id": "4b2e54b6",
   "metadata": {},
   "source": [
    "## Key words\n",
    "### 평활화, 이동평균, 지수평활, rolling, ewm, seasonal_decompose"
   ]
  },
  {
   "cell_type": "markdown",
   "id": "1837f931",
   "metadata": {},
   "source": [
    "### 평활화(Smoothing)\n",
    " - 시계열 데이터를 일련의 정제법을 사용하여 보다 부드럽게 만드는 과정\n",
    " - 이동 평균법은 `단순이동평균법(Simpl Moving Average)`, `가중이동평균법(Weighted Moving Average)`이 있음\n",
    " - 지수 평활법은 `단순/이중/삼중` 지수 평활법이 있으며 각각 `EWMA, Winters, HoltWinters`로 불림\n",
    "  - 이 중에 `EWMA` 학습할것임"
   ]
  },
  {
   "cell_type": "markdown",
   "id": "b18a7521",
   "metadata": {},
   "source": [
    "### 시계열 분해(Time Series Decomposition)\n",
    " - 시계열 데이터를 일련의 공식을 활용하여 추세, 변동 등 세부 시계열 요소로 분리하는 일련의 과정\n",
    " - 고전 시계열 분해법은 가법모형(Addictive Model)과 승법모형(Multiplicative Model)이 있음"
   ]
  },
  {
   "cell_type": "markdown",
   "id": "86de0c57",
   "metadata": {},
   "source": [
    "### pandas - rolling()\n",
    " - `단순이동평균`을 수행하는 pandas의 메서드\n",
    " - window 인자에는 이동평균 대상이 되는 데이터 개수를 지정\n",
    " - 뒤에 붙이는 메서드에 따라서 각 구간의 연산 결과가 달라짐\n",
    " - 뒤에 mean() 사용 필수\n",
    " - center에 True를 입력할 경우 중심 이동평균 실시 가능 "
   ]
  },
  {
   "cell_type": "code",
   "execution_count": 1,
   "id": "9d34f7ed",
   "metadata": {},
   "outputs": [],
   "source": [
    "import pandas as pd"
   ]
  },
  {
   "cell_type": "code",
   "execution_count": 108,
   "id": "3d79aaad",
   "metadata": {},
   "outputs": [
    {
     "data": {
      "text/html": [
       "<div>\n",
       "<style scoped>\n",
       "    .dataframe tbody tr th:only-of-type {\n",
       "        vertical-align: middle;\n",
       "    }\n",
       "\n",
       "    .dataframe tbody tr th {\n",
       "        vertical-align: top;\n",
       "    }\n",
       "\n",
       "    .dataframe thead th {\n",
       "        text-align: right;\n",
       "    }\n",
       "</style>\n",
       "<table border=\"1\" class=\"dataframe\">\n",
       "  <thead>\n",
       "    <tr style=\"text-align: right;\">\n",
       "      <th></th>\n",
       "      <th>사용일자</th>\n",
       "      <th>노선명</th>\n",
       "      <th>역명</th>\n",
       "      <th>승차총승객수</th>\n",
       "      <th>하차총승객수</th>\n",
       "      <th>등록일자</th>\n",
       "    </tr>\n",
       "  </thead>\n",
       "  <tbody>\n",
       "    <tr>\n",
       "      <th>0</th>\n",
       "      <td>20191201</td>\n",
       "      <td>1호선</td>\n",
       "      <td>종각</td>\n",
       "      <td>19093</td>\n",
       "      <td>17141</td>\n",
       "      <td>20191204</td>\n",
       "    </tr>\n",
       "    <tr>\n",
       "      <th>1</th>\n",
       "      <td>20191201</td>\n",
       "      <td>1호선</td>\n",
       "      <td>종로3가</td>\n",
       "      <td>19646</td>\n",
       "      <td>17772</td>\n",
       "      <td>20191204</td>\n",
       "    </tr>\n",
       "  </tbody>\n",
       "</table>\n",
       "</div>"
      ],
      "text/plain": [
       "       사용일자  노선명    역명  승차총승객수  하차총승객수      등록일자\n",
       "0  20191201  1호선    종각   19093   17141  20191204\n",
       "1  20191201  1호선  종로3가   19646   17772  20191204"
      ]
     },
     "execution_count": 108,
     "metadata": {},
     "output_type": "execute_result"
    }
   ],
   "source": [
    "df = pd.read_csv(\"seoul_subway.csv\")\n",
    "df.head(2)"
   ]
  },
  {
   "cell_type": "code",
   "execution_count": 113,
   "id": "3db43d90",
   "metadata": {},
   "outputs": [
    {
     "data": {
      "text/html": [
       "<div>\n",
       "<style scoped>\n",
       "    .dataframe tbody tr th:only-of-type {\n",
       "        vertical-align: middle;\n",
       "    }\n",
       "\n",
       "    .dataframe tbody tr th {\n",
       "        vertical-align: top;\n",
       "    }\n",
       "\n",
       "    .dataframe thead th {\n",
       "        text-align: right;\n",
       "    }\n",
       "</style>\n",
       "<table border=\"1\" class=\"dataframe\">\n",
       "  <thead>\n",
       "    <tr style=\"text-align: right;\">\n",
       "      <th></th>\n",
       "      <th>사용일자</th>\n",
       "      <th>노선명</th>\n",
       "      <th>역명</th>\n",
       "      <th>승차총승객수</th>\n",
       "      <th>하차총승객수</th>\n",
       "      <th>등록일자</th>\n",
       "    </tr>\n",
       "  </thead>\n",
       "  <tbody>\n",
       "    <tr>\n",
       "      <th>1</th>\n",
       "      <td>20191201</td>\n",
       "      <td>1호선</td>\n",
       "      <td>종로3가</td>\n",
       "      <td>19646</td>\n",
       "      <td>17772</td>\n",
       "      <td>20191204</td>\n",
       "    </tr>\n",
       "    <tr>\n",
       "      <th>593</th>\n",
       "      <td>20191202</td>\n",
       "      <td>1호선</td>\n",
       "      <td>종로3가</td>\n",
       "      <td>34277</td>\n",
       "      <td>32405</td>\n",
       "      <td>20191205</td>\n",
       "    </tr>\n",
       "    <tr>\n",
       "      <th>1184</th>\n",
       "      <td>20191203</td>\n",
       "      <td>1호선</td>\n",
       "      <td>종로3가</td>\n",
       "      <td>34957</td>\n",
       "      <td>32832</td>\n",
       "      <td>20191206</td>\n",
       "    </tr>\n",
       "    <tr>\n",
       "      <th>1776</th>\n",
       "      <td>20191204</td>\n",
       "      <td>1호선</td>\n",
       "      <td>종로3가</td>\n",
       "      <td>36007</td>\n",
       "      <td>33498</td>\n",
       "      <td>20191207</td>\n",
       "    </tr>\n",
       "    <tr>\n",
       "      <th>2426</th>\n",
       "      <td>20191205</td>\n",
       "      <td>1호선</td>\n",
       "      <td>종로3가</td>\n",
       "      <td>35536</td>\n",
       "      <td>33702</td>\n",
       "      <td>20191208</td>\n",
       "    </tr>\n",
       "  </tbody>\n",
       "</table>\n",
       "</div>"
      ],
      "text/plain": [
       "          사용일자  노선명    역명  승차총승객수  하차총승객수      등록일자\n",
       "1     20191201  1호선  종로3가   19646   17772  20191204\n",
       "593   20191202  1호선  종로3가   34277   32405  20191205\n",
       "1184  20191203  1호선  종로3가   34957   32832  20191206\n",
       "1776  20191204  1호선  종로3가   36007   33498  20191207\n",
       "2426  20191205  1호선  종로3가   35536   33702  20191208"
      ]
     },
     "execution_count": 113,
     "metadata": {},
     "output_type": "execute_result"
    }
   ],
   "source": [
    "df_sub = df.loc[(df[\"노선명\"] == \"1호선\") & (df[\"역명\"] == \"종로3가\"), ]\n",
    "df_sub.head()"
   ]
  },
  {
   "cell_type": "code",
   "execution_count": 7,
   "id": "c6ffd092",
   "metadata": {},
   "outputs": [
    {
     "name": "stderr",
     "output_type": "stream",
     "text": [
      "C:\\Users\\user\\AppData\\Local\\Temp/ipykernel_16988/1276429794.py:1: SettingWithCopyWarning: \n",
      "A value is trying to be set on a copy of a slice from a DataFrame.\n",
      "Try using .loc[row_indexer,col_indexer] = value instead\n",
      "\n",
      "See the caveats in the documentation: https://pandas.pydata.org/pandas-docs/stable/user_guide/indexing.html#returning-a-view-versus-a-copy\n",
      "  df_sub[\"MA_5\"] = df_sub[\"승차총승객수\"].rolling(window = 5).mean() # mean을 꼭 넣어줘야함\n"
     ]
    },
    {
     "data": {
      "text/html": [
       "<div>\n",
       "<style scoped>\n",
       "    .dataframe tbody tr th:only-of-type {\n",
       "        vertical-align: middle;\n",
       "    }\n",
       "\n",
       "    .dataframe tbody tr th {\n",
       "        vertical-align: top;\n",
       "    }\n",
       "\n",
       "    .dataframe thead th {\n",
       "        text-align: right;\n",
       "    }\n",
       "</style>\n",
       "<table border=\"1\" class=\"dataframe\">\n",
       "  <thead>\n",
       "    <tr style=\"text-align: right;\">\n",
       "      <th></th>\n",
       "      <th>사용일자</th>\n",
       "      <th>노선명</th>\n",
       "      <th>역명</th>\n",
       "      <th>승차총승객수</th>\n",
       "      <th>하차총승객수</th>\n",
       "      <th>등록일자</th>\n",
       "      <th>MA_5</th>\n",
       "    </tr>\n",
       "  </thead>\n",
       "  <tbody>\n",
       "    <tr>\n",
       "      <th>1</th>\n",
       "      <td>20191201</td>\n",
       "      <td>1호선</td>\n",
       "      <td>종로3가</td>\n",
       "      <td>19646</td>\n",
       "      <td>17772</td>\n",
       "      <td>20191204</td>\n",
       "      <td>NaN</td>\n",
       "    </tr>\n",
       "    <tr>\n",
       "      <th>593</th>\n",
       "      <td>20191202</td>\n",
       "      <td>1호선</td>\n",
       "      <td>종로3가</td>\n",
       "      <td>34277</td>\n",
       "      <td>32405</td>\n",
       "      <td>20191205</td>\n",
       "      <td>NaN</td>\n",
       "    </tr>\n",
       "    <tr>\n",
       "      <th>1184</th>\n",
       "      <td>20191203</td>\n",
       "      <td>1호선</td>\n",
       "      <td>종로3가</td>\n",
       "      <td>34957</td>\n",
       "      <td>32832</td>\n",
       "      <td>20191206</td>\n",
       "      <td>NaN</td>\n",
       "    </tr>\n",
       "    <tr>\n",
       "      <th>1776</th>\n",
       "      <td>20191204</td>\n",
       "      <td>1호선</td>\n",
       "      <td>종로3가</td>\n",
       "      <td>36007</td>\n",
       "      <td>33498</td>\n",
       "      <td>20191207</td>\n",
       "      <td>NaN</td>\n",
       "    </tr>\n",
       "    <tr>\n",
       "      <th>2426</th>\n",
       "      <td>20191205</td>\n",
       "      <td>1호선</td>\n",
       "      <td>종로3가</td>\n",
       "      <td>35536</td>\n",
       "      <td>33702</td>\n",
       "      <td>20191208</td>\n",
       "      <td>32084.6</td>\n",
       "    </tr>\n",
       "    <tr>\n",
       "      <th>2960</th>\n",
       "      <td>20191206</td>\n",
       "      <td>1호선</td>\n",
       "      <td>종로3가</td>\n",
       "      <td>36242</td>\n",
       "      <td>35437</td>\n",
       "      <td>20191209</td>\n",
       "      <td>35403.8</td>\n",
       "    </tr>\n",
       "    <tr>\n",
       "      <th>3602</th>\n",
       "      <td>20191207</td>\n",
       "      <td>1호선</td>\n",
       "      <td>종로3가</td>\n",
       "      <td>37687</td>\n",
       "      <td>36926</td>\n",
       "      <td>20191210</td>\n",
       "      <td>36085.8</td>\n",
       "    </tr>\n",
       "    <tr>\n",
       "      <th>4142</th>\n",
       "      <td>20191208</td>\n",
       "      <td>1호선</td>\n",
       "      <td>종로3가</td>\n",
       "      <td>22809</td>\n",
       "      <td>19859</td>\n",
       "      <td>20191211</td>\n",
       "      <td>33656.2</td>\n",
       "    </tr>\n",
       "  </tbody>\n",
       "</table>\n",
       "</div>"
      ],
      "text/plain": [
       "          사용일자  노선명    역명  승차총승객수  하차총승객수      등록일자     MA_5\n",
       "1     20191201  1호선  종로3가   19646   17772  20191204      NaN\n",
       "593   20191202  1호선  종로3가   34277   32405  20191205      NaN\n",
       "1184  20191203  1호선  종로3가   34957   32832  20191206      NaN\n",
       "1776  20191204  1호선  종로3가   36007   33498  20191207      NaN\n",
       "2426  20191205  1호선  종로3가   35536   33702  20191208  32084.6\n",
       "2960  20191206  1호선  종로3가   36242   35437  20191209  35403.8\n",
       "3602  20191207  1호선  종로3가   37687   36926  20191210  36085.8\n",
       "4142  20191208  1호선  종로3가   22809   19859  20191211  33656.2"
      ]
     },
     "execution_count": 7,
     "metadata": {},
     "output_type": "execute_result"
    }
   ],
   "source": [
    "df_sub[\"MA_5\"] = df_sub[\"승차총승객수\"].rolling(window = 5).mean() # mean을 꼭 넣어줘야함\n",
    "df_sub.head(8)"
   ]
  },
  {
   "cell_type": "markdown",
   "id": "16b1a7ac",
   "metadata": {},
   "source": [
    "- 이전 데이터 5개의 값의 평균을 넣어줌"
   ]
  },
  {
   "cell_type": "markdown",
   "id": "01a491cc",
   "metadata": {},
   "source": [
    "### pandas - ewm()\n",
    " - `단순이동평균`을 수행하는 pandas의 메서드\n",
    " - alpha 인자에는 `지수평활계수` 입력\n",
    " - 뒤에 붙이는 메서드에 따라서 각 구간의 연산결과가 달라짐\n",
    " - 뒤에 mean() 사용 필수"
   ]
  },
  {
   "cell_type": "code",
   "execution_count": 114,
   "id": "28af3d26",
   "metadata": {
    "scrolled": false
   },
   "outputs": [
    {
     "name": "stderr",
     "output_type": "stream",
     "text": [
      "C:\\Users\\user\\AppData\\Local\\Temp/ipykernel_16988/2400981168.py:1: SettingWithCopyWarning: \n",
      "A value is trying to be set on a copy of a slice from a DataFrame.\n",
      "Try using .loc[row_indexer,col_indexer] = value instead\n",
      "\n",
      "See the caveats in the documentation: https://pandas.pydata.org/pandas-docs/stable/user_guide/indexing.html#returning-a-view-versus-a-copy\n",
      "  df_sub[\"EWMA_01\"] = df_sub[\"승차총승객수\"].ewm(alpha = 0.9).mean() # mean을 꼭 넣어줘야함\n"
     ]
    },
    {
     "data": {
      "text/html": [
       "<div>\n",
       "<style scoped>\n",
       "    .dataframe tbody tr th:only-of-type {\n",
       "        vertical-align: middle;\n",
       "    }\n",
       "\n",
       "    .dataframe tbody tr th {\n",
       "        vertical-align: top;\n",
       "    }\n",
       "\n",
       "    .dataframe thead th {\n",
       "        text-align: right;\n",
       "    }\n",
       "</style>\n",
       "<table border=\"1\" class=\"dataframe\">\n",
       "  <thead>\n",
       "    <tr style=\"text-align: right;\">\n",
       "      <th></th>\n",
       "      <th>사용일자</th>\n",
       "      <th>노선명</th>\n",
       "      <th>역명</th>\n",
       "      <th>승차총승객수</th>\n",
       "      <th>하차총승객수</th>\n",
       "      <th>등록일자</th>\n",
       "      <th>EWMA_01</th>\n",
       "    </tr>\n",
       "  </thead>\n",
       "  <tbody>\n",
       "    <tr>\n",
       "      <th>1</th>\n",
       "      <td>20191201</td>\n",
       "      <td>1호선</td>\n",
       "      <td>종로3가</td>\n",
       "      <td>19646</td>\n",
       "      <td>17772</td>\n",
       "      <td>20191204</td>\n",
       "      <td>19646.000000</td>\n",
       "    </tr>\n",
       "    <tr>\n",
       "      <th>593</th>\n",
       "      <td>20191202</td>\n",
       "      <td>1호선</td>\n",
       "      <td>종로3가</td>\n",
       "      <td>34277</td>\n",
       "      <td>32405</td>\n",
       "      <td>20191205</td>\n",
       "      <td>32946.909091</td>\n",
       "    </tr>\n",
       "    <tr>\n",
       "      <th>1184</th>\n",
       "      <td>20191203</td>\n",
       "      <td>1호선</td>\n",
       "      <td>종로3가</td>\n",
       "      <td>34957</td>\n",
       "      <td>32832</td>\n",
       "      <td>20191206</td>\n",
       "      <td>34757.801802</td>\n",
       "    </tr>\n",
       "    <tr>\n",
       "      <th>1776</th>\n",
       "      <td>20191204</td>\n",
       "      <td>1호선</td>\n",
       "      <td>종로3가</td>\n",
       "      <td>36007</td>\n",
       "      <td>33498</td>\n",
       "      <td>20191207</td>\n",
       "      <td>35882.192619</td>\n",
       "    </tr>\n",
       "    <tr>\n",
       "      <th>2426</th>\n",
       "      <td>20191205</td>\n",
       "      <td>1호선</td>\n",
       "      <td>종로3가</td>\n",
       "      <td>35536</td>\n",
       "      <td>33702</td>\n",
       "      <td>20191208</td>\n",
       "      <td>35570.616146</td>\n",
       "    </tr>\n",
       "    <tr>\n",
       "      <th>2960</th>\n",
       "      <td>20191206</td>\n",
       "      <td>1호선</td>\n",
       "      <td>종로3가</td>\n",
       "      <td>36242</td>\n",
       "      <td>35437</td>\n",
       "      <td>20191209</td>\n",
       "      <td>36174.862219</td>\n",
       "    </tr>\n",
       "    <tr>\n",
       "      <th>3602</th>\n",
       "      <td>20191207</td>\n",
       "      <td>1호선</td>\n",
       "      <td>종로3가</td>\n",
       "      <td>37687</td>\n",
       "      <td>36926</td>\n",
       "      <td>20191210</td>\n",
       "      <td>37535.786358</td>\n",
       "    </tr>\n",
       "    <tr>\n",
       "      <th>4142</th>\n",
       "      <td>20191208</td>\n",
       "      <td>1호선</td>\n",
       "      <td>종로3가</td>\n",
       "      <td>22809</td>\n",
       "      <td>19859</td>\n",
       "      <td>20191211</td>\n",
       "      <td>24281.678503</td>\n",
       "    </tr>\n",
       "  </tbody>\n",
       "</table>\n",
       "</div>"
      ],
      "text/plain": [
       "          사용일자  노선명    역명  승차총승객수  하차총승객수      등록일자       EWMA_01\n",
       "1     20191201  1호선  종로3가   19646   17772  20191204  19646.000000\n",
       "593   20191202  1호선  종로3가   34277   32405  20191205  32946.909091\n",
       "1184  20191203  1호선  종로3가   34957   32832  20191206  34757.801802\n",
       "1776  20191204  1호선  종로3가   36007   33498  20191207  35882.192619\n",
       "2426  20191205  1호선  종로3가   35536   33702  20191208  35570.616146\n",
       "2960  20191206  1호선  종로3가   36242   35437  20191209  36174.862219\n",
       "3602  20191207  1호선  종로3가   37687   36926  20191210  37535.786358\n",
       "4142  20191208  1호선  종로3가   22809   19859  20191211  24281.678503"
      ]
     },
     "execution_count": 114,
     "metadata": {},
     "output_type": "execute_result"
    }
   ],
   "source": [
    "df_sub[\"EWMA_01\"] = df_sub[\"승차총승객수\"].ewm(alpha = 0.9).mean() # mean을 꼭 넣어줘야함\n",
    "df_sub.head(8)"
   ]
  },
  {
   "cell_type": "markdown",
   "id": "ee8333b0",
   "metadata": {},
   "source": [
    "### statsmodels - seasonal_decompose()\n",
    " - `시계열 분해`를 위한 statsmodels의 함수\n",
    " - model 인자에 \"multiplicative\"를 입력하면 승법모형 적용(기본은 가법모형)\n",
    " - 입력하는 시계열 데이터는 pandas의 시리즈이며 인덱스는 시간 데이터 필수"
   ]
  },
  {
   "cell_type": "code",
   "execution_count": 11,
   "id": "c86283d6",
   "metadata": {},
   "outputs": [],
   "source": [
    "from statsmodels.tsa.seasonal import seasonal_decompose # tsa: time series analysis"
   ]
  },
  {
   "cell_type": "code",
   "execution_count": 32,
   "id": "3e6813cc",
   "metadata": {},
   "outputs": [
    {
     "data": {
      "text/html": [
       "<div>\n",
       "<style scoped>\n",
       "    .dataframe tbody tr th:only-of-type {\n",
       "        vertical-align: middle;\n",
       "    }\n",
       "\n",
       "    .dataframe tbody tr th {\n",
       "        vertical-align: top;\n",
       "    }\n",
       "\n",
       "    .dataframe thead th {\n",
       "        text-align: right;\n",
       "    }\n",
       "</style>\n",
       "<table border=\"1\" class=\"dataframe\">\n",
       "  <thead>\n",
       "    <tr style=\"text-align: right;\">\n",
       "      <th></th>\n",
       "      <th>사용일자</th>\n",
       "      <th>노선명</th>\n",
       "      <th>역명</th>\n",
       "      <th>승차총승객수</th>\n",
       "      <th>하차총승객수</th>\n",
       "      <th>등록일자</th>\n",
       "    </tr>\n",
       "  </thead>\n",
       "  <tbody>\n",
       "    <tr>\n",
       "      <th>0</th>\n",
       "      <td>20191201</td>\n",
       "      <td>1호선</td>\n",
       "      <td>종각</td>\n",
       "      <td>19093</td>\n",
       "      <td>17141</td>\n",
       "      <td>20191204</td>\n",
       "    </tr>\n",
       "    <tr>\n",
       "      <th>1</th>\n",
       "      <td>20191201</td>\n",
       "      <td>1호선</td>\n",
       "      <td>종로3가</td>\n",
       "      <td>19646</td>\n",
       "      <td>17772</td>\n",
       "      <td>20191204</td>\n",
       "    </tr>\n",
       "  </tbody>\n",
       "</table>\n",
       "</div>"
      ],
      "text/plain": [
       "       사용일자  노선명    역명  승차총승객수  하차총승객수      등록일자\n",
       "0  20191201  1호선    종각   19093   17141  20191204\n",
       "1  20191201  1호선  종로3가   19646   17772  20191204"
      ]
     },
     "execution_count": 32,
     "metadata": {},
     "output_type": "execute_result"
    }
   ],
   "source": [
    "df = pd.read_csv(\"seoul_subway.csv\")\n",
    "df.head(2)"
   ]
  },
  {
   "cell_type": "code",
   "execution_count": 33,
   "id": "6a327090",
   "metadata": {},
   "outputs": [
    {
     "data": {
      "text/html": [
       "<div>\n",
       "<style scoped>\n",
       "    .dataframe tbody tr th:only-of-type {\n",
       "        vertical-align: middle;\n",
       "    }\n",
       "\n",
       "    .dataframe tbody tr th {\n",
       "        vertical-align: top;\n",
       "    }\n",
       "\n",
       "    .dataframe thead th {\n",
       "        text-align: right;\n",
       "    }\n",
       "</style>\n",
       "<table border=\"1\" class=\"dataframe\">\n",
       "  <thead>\n",
       "    <tr style=\"text-align: right;\">\n",
       "      <th></th>\n",
       "      <th>노선명</th>\n",
       "      <th>역명</th>\n",
       "      <th>승차총승객수</th>\n",
       "      <th>하차총승객수</th>\n",
       "      <th>등록일자</th>\n",
       "    </tr>\n",
       "    <tr>\n",
       "      <th>사용일자</th>\n",
       "      <th></th>\n",
       "      <th></th>\n",
       "      <th></th>\n",
       "      <th></th>\n",
       "      <th></th>\n",
       "    </tr>\n",
       "  </thead>\n",
       "  <tbody>\n",
       "    <tr>\n",
       "      <th>20191201</th>\n",
       "      <td>1호선</td>\n",
       "      <td>종각</td>\n",
       "      <td>19093</td>\n",
       "      <td>17141</td>\n",
       "      <td>20191204</td>\n",
       "    </tr>\n",
       "    <tr>\n",
       "      <th>20191201</th>\n",
       "      <td>1호선</td>\n",
       "      <td>종로3가</td>\n",
       "      <td>19646</td>\n",
       "      <td>17772</td>\n",
       "      <td>20191204</td>\n",
       "    </tr>\n",
       "  </tbody>\n",
       "</table>\n",
       "</div>"
      ],
      "text/plain": [
       "          노선명    역명  승차총승객수  하차총승객수      등록일자\n",
       "사용일자                                         \n",
       "20191201  1호선    종각   19093   17141  20191204\n",
       "20191201  1호선  종로3가   19646   17772  20191204"
      ]
     },
     "execution_count": 33,
     "metadata": {},
     "output_type": "execute_result"
    }
   ],
   "source": [
    "df = df.set_index(\"사용일자\")\n",
    "df.head(2)"
   ]
  },
  {
   "cell_type": "code",
   "execution_count": 34,
   "id": "f246719f",
   "metadata": {
    "scrolled": true
   },
   "outputs": [
    {
     "data": {
      "text/html": [
       "<div>\n",
       "<style scoped>\n",
       "    .dataframe tbody tr th:only-of-type {\n",
       "        vertical-align: middle;\n",
       "    }\n",
       "\n",
       "    .dataframe tbody tr th {\n",
       "        vertical-align: top;\n",
       "    }\n",
       "\n",
       "    .dataframe thead th {\n",
       "        text-align: right;\n",
       "    }\n",
       "</style>\n",
       "<table border=\"1\" class=\"dataframe\">\n",
       "  <thead>\n",
       "    <tr style=\"text-align: right;\">\n",
       "      <th></th>\n",
       "      <th>노선명</th>\n",
       "      <th>역명</th>\n",
       "      <th>승차총승객수</th>\n",
       "      <th>하차총승객수</th>\n",
       "      <th>등록일자</th>\n",
       "    </tr>\n",
       "    <tr>\n",
       "      <th>사용일자</th>\n",
       "      <th></th>\n",
       "      <th></th>\n",
       "      <th></th>\n",
       "      <th></th>\n",
       "      <th></th>\n",
       "    </tr>\n",
       "  </thead>\n",
       "  <tbody>\n",
       "    <tr>\n",
       "      <th>20191201</th>\n",
       "      <td>1호선</td>\n",
       "      <td>종각</td>\n",
       "      <td>19093</td>\n",
       "      <td>17141</td>\n",
       "      <td>20191204</td>\n",
       "    </tr>\n",
       "    <tr>\n",
       "      <th>20191202</th>\n",
       "      <td>1호선</td>\n",
       "      <td>종각</td>\n",
       "      <td>48153</td>\n",
       "      <td>46770</td>\n",
       "      <td>20191205</td>\n",
       "    </tr>\n",
       "  </tbody>\n",
       "</table>\n",
       "</div>"
      ],
      "text/plain": [
       "          노선명  역명  승차총승객수  하차총승객수      등록일자\n",
       "사용일자                                       \n",
       "20191201  1호선  종각   19093   17141  20191204\n",
       "20191202  1호선  종각   48153   46770  20191205"
      ]
     },
     "execution_count": 34,
     "metadata": {},
     "output_type": "execute_result"
    }
   ],
   "source": [
    "df_sub = df.loc[(df[\"노선명\"] == \"1호선\") & (df[\"역명\"] == \"종각\"), ]\n",
    "df_sub.head(2)"
   ]
  },
  {
   "cell_type": "code",
   "execution_count": 35,
   "id": "abbec91d",
   "metadata": {},
   "outputs": [],
   "source": [
    "# seasonal_decompose(df_sub[\"승차총승객수\"]) # 오류남 - 타임인덱스를 사용해야함 "
   ]
  },
  {
   "cell_type": "code",
   "execution_count": 36,
   "id": "5e4efe16",
   "metadata": {
    "scrolled": true
   },
   "outputs": [
    {
     "data": {
      "text/html": [
       "<div>\n",
       "<style scoped>\n",
       "    .dataframe tbody tr th:only-of-type {\n",
       "        vertical-align: middle;\n",
       "    }\n",
       "\n",
       "    .dataframe tbody tr th {\n",
       "        vertical-align: top;\n",
       "    }\n",
       "\n",
       "    .dataframe thead th {\n",
       "        text-align: right;\n",
       "    }\n",
       "</style>\n",
       "<table border=\"1\" class=\"dataframe\">\n",
       "  <thead>\n",
       "    <tr style=\"text-align: right;\">\n",
       "      <th></th>\n",
       "      <th>사용일자</th>\n",
       "      <th>노선명</th>\n",
       "      <th>역명</th>\n",
       "      <th>승차총승객수</th>\n",
       "      <th>하차총승객수</th>\n",
       "      <th>등록일자</th>\n",
       "    </tr>\n",
       "  </thead>\n",
       "  <tbody>\n",
       "    <tr>\n",
       "      <th>0</th>\n",
       "      <td>20191201</td>\n",
       "      <td>1호선</td>\n",
       "      <td>종각</td>\n",
       "      <td>19093</td>\n",
       "      <td>17141</td>\n",
       "      <td>20191204</td>\n",
       "    </tr>\n",
       "    <tr>\n",
       "      <th>1</th>\n",
       "      <td>20191202</td>\n",
       "      <td>1호선</td>\n",
       "      <td>종각</td>\n",
       "      <td>48153</td>\n",
       "      <td>46770</td>\n",
       "      <td>20191205</td>\n",
       "    </tr>\n",
       "  </tbody>\n",
       "</table>\n",
       "</div>"
      ],
      "text/plain": [
       "       사용일자  노선명  역명  승차총승객수  하차총승객수      등록일자\n",
       "0  20191201  1호선  종각   19093   17141  20191204\n",
       "1  20191202  1호선  종각   48153   46770  20191205"
      ]
     },
     "execution_count": 36,
     "metadata": {},
     "output_type": "execute_result"
    }
   ],
   "source": [
    "df_sub = df_sub.reset_index()\n",
    "df_sub.head(2)"
   ]
  },
  {
   "cell_type": "code",
   "execution_count": 37,
   "id": "79367f2e",
   "metadata": {},
   "outputs": [
    {
     "data": {
      "text/plain": [
       "0   1970-01-01 00:00:00.020191201\n",
       "1   1970-01-01 00:00:00.020191202\n",
       "2   1970-01-01 00:00:00.020191203\n",
       "3   1970-01-01 00:00:00.020191204\n",
       "Name: 사용일자, dtype: datetime64[ns]"
      ]
     },
     "execution_count": 37,
     "metadata": {},
     "output_type": "execute_result"
    }
   ],
   "source": [
    "pd.to_datetime(df_sub[\"사용일자\"][:4]) # 뒤에 이상한 숫자가 붙어있음"
   ]
  },
  {
   "cell_type": "code",
   "execution_count": null,
   "id": "9fb0b9d0",
   "metadata": {},
   "outputs": [],
   "source": [
    "#pd.to_datetime(df_sub[\"사용일자\"]) # 그냥 이렇게 해주면 안됨"
   ]
  },
  {
   "cell_type": "code",
   "execution_count": 38,
   "id": "2c688331",
   "metadata": {
    "scrolled": true
   },
   "outputs": [
    {
     "data": {
      "text/plain": [
       "0   2019-12-01\n",
       "1   2019-12-02\n",
       "2   2019-12-03\n",
       "3   2019-12-04\n",
       "Name: 사용일자, dtype: datetime64[ns]"
      ]
     },
     "execution_count": 38,
     "metadata": {},
     "output_type": "execute_result"
    }
   ],
   "source": [
    "pd.to_datetime(df_sub[\"사용일자\"][:4], format = '%Y%m%d') # format 인자를 넣어줘야함"
   ]
  },
  {
   "cell_type": "code",
   "execution_count": 41,
   "id": "9bf66339",
   "metadata": {},
   "outputs": [
    {
     "data": {
      "text/html": [
       "<div>\n",
       "<style scoped>\n",
       "    .dataframe tbody tr th:only-of-type {\n",
       "        vertical-align: middle;\n",
       "    }\n",
       "\n",
       "    .dataframe tbody tr th {\n",
       "        vertical-align: top;\n",
       "    }\n",
       "\n",
       "    .dataframe thead th {\n",
       "        text-align: right;\n",
       "    }\n",
       "</style>\n",
       "<table border=\"1\" class=\"dataframe\">\n",
       "  <thead>\n",
       "    <tr style=\"text-align: right;\">\n",
       "      <th></th>\n",
       "      <th>사용일자</th>\n",
       "      <th>노선명</th>\n",
       "      <th>역명</th>\n",
       "      <th>승차총승객수</th>\n",
       "      <th>하차총승객수</th>\n",
       "      <th>등록일자</th>\n",
       "    </tr>\n",
       "  </thead>\n",
       "  <tbody>\n",
       "    <tr>\n",
       "      <th>0</th>\n",
       "      <td>2019-12-01</td>\n",
       "      <td>1호선</td>\n",
       "      <td>종각</td>\n",
       "      <td>19093</td>\n",
       "      <td>17141</td>\n",
       "      <td>20191204</td>\n",
       "    </tr>\n",
       "    <tr>\n",
       "      <th>1</th>\n",
       "      <td>2019-12-02</td>\n",
       "      <td>1호선</td>\n",
       "      <td>종각</td>\n",
       "      <td>48153</td>\n",
       "      <td>46770</td>\n",
       "      <td>20191205</td>\n",
       "    </tr>\n",
       "  </tbody>\n",
       "</table>\n",
       "</div>"
      ],
      "text/plain": [
       "        사용일자  노선명  역명  승차총승객수  하차총승객수      등록일자\n",
       "0 2019-12-01  1호선  종각   19093   17141  20191204\n",
       "1 2019-12-02  1호선  종각   48153   46770  20191205"
      ]
     },
     "execution_count": 41,
     "metadata": {},
     "output_type": "execute_result"
    }
   ],
   "source": [
    "df_sub[\"사용일자\"] = pd.to_datetime(df_sub[\"사용일자\"], format = '%Y%m%d')\n",
    "df_sub.head(2)"
   ]
  },
  {
   "cell_type": "code",
   "execution_count": 42,
   "id": "e6aea600",
   "metadata": {},
   "outputs": [
    {
     "data": {
      "text/html": [
       "<div>\n",
       "<style scoped>\n",
       "    .dataframe tbody tr th:only-of-type {\n",
       "        vertical-align: middle;\n",
       "    }\n",
       "\n",
       "    .dataframe tbody tr th {\n",
       "        vertical-align: top;\n",
       "    }\n",
       "\n",
       "    .dataframe thead th {\n",
       "        text-align: right;\n",
       "    }\n",
       "</style>\n",
       "<table border=\"1\" class=\"dataframe\">\n",
       "  <thead>\n",
       "    <tr style=\"text-align: right;\">\n",
       "      <th></th>\n",
       "      <th>노선명</th>\n",
       "      <th>역명</th>\n",
       "      <th>승차총승객수</th>\n",
       "      <th>하차총승객수</th>\n",
       "      <th>등록일자</th>\n",
       "    </tr>\n",
       "    <tr>\n",
       "      <th>사용일자</th>\n",
       "      <th></th>\n",
       "      <th></th>\n",
       "      <th></th>\n",
       "      <th></th>\n",
       "      <th></th>\n",
       "    </tr>\n",
       "  </thead>\n",
       "  <tbody>\n",
       "    <tr>\n",
       "      <th>2019-12-01</th>\n",
       "      <td>1호선</td>\n",
       "      <td>종각</td>\n",
       "      <td>19093</td>\n",
       "      <td>17141</td>\n",
       "      <td>20191204</td>\n",
       "    </tr>\n",
       "    <tr>\n",
       "      <th>2019-12-02</th>\n",
       "      <td>1호선</td>\n",
       "      <td>종각</td>\n",
       "      <td>48153</td>\n",
       "      <td>46770</td>\n",
       "      <td>20191205</td>\n",
       "    </tr>\n",
       "  </tbody>\n",
       "</table>\n",
       "</div>"
      ],
      "text/plain": [
       "            노선명  역명  승차총승객수  하차총승객수      등록일자\n",
       "사용일자                                         \n",
       "2019-12-01  1호선  종각   19093   17141  20191204\n",
       "2019-12-02  1호선  종각   48153   46770  20191205"
      ]
     },
     "execution_count": 42,
     "metadata": {},
     "output_type": "execute_result"
    }
   ],
   "source": [
    "df_sub = df_sub.set_index(\"사용일자\") # 시계열 인덱스로 만들어줌\n",
    "df_sub.head(2)"
   ]
  },
  {
   "cell_type": "code",
   "execution_count": 45,
   "id": "2469c057",
   "metadata": {},
   "outputs": [
    {
     "name": "stdout",
     "output_type": "stream",
     "text": [
      "<statsmodels.tsa.seasonal.DecomposeResult object at 0x0000023C4B104700>\n"
     ]
    },
    {
     "name": "stderr",
     "output_type": "stream",
     "text": [
      "C:\\Users\\user\\anaconda3\\lib\\site-packages\\matplotlib\\backends\\backend_agg.py:240: RuntimeWarning: Glyph 49849 missing from current font.\n",
      "  font.set_text(s, 0.0, flags=flags)\n",
      "C:\\Users\\user\\anaconda3\\lib\\site-packages\\matplotlib\\backends\\backend_agg.py:240: RuntimeWarning: Glyph 52264 missing from current font.\n",
      "  font.set_text(s, 0.0, flags=flags)\n",
      "C:\\Users\\user\\anaconda3\\lib\\site-packages\\matplotlib\\backends\\backend_agg.py:240: RuntimeWarning: Glyph 52509 missing from current font.\n",
      "  font.set_text(s, 0.0, flags=flags)\n",
      "C:\\Users\\user\\anaconda3\\lib\\site-packages\\matplotlib\\backends\\backend_agg.py:240: RuntimeWarning: Glyph 44061 missing from current font.\n",
      "  font.set_text(s, 0.0, flags=flags)\n",
      "C:\\Users\\user\\anaconda3\\lib\\site-packages\\matplotlib\\backends\\backend_agg.py:240: RuntimeWarning: Glyph 49688 missing from current font.\n",
      "  font.set_text(s, 0.0, flags=flags)\n",
      "C:\\Users\\user\\anaconda3\\lib\\site-packages\\matplotlib\\backends\\backend_agg.py:203: RuntimeWarning: Glyph 49849 missing from current font.\n",
      "  font.set_text(s, 0, flags=flags)\n",
      "C:\\Users\\user\\anaconda3\\lib\\site-packages\\matplotlib\\backends\\backend_agg.py:203: RuntimeWarning: Glyph 52264 missing from current font.\n",
      "  font.set_text(s, 0, flags=flags)\n",
      "C:\\Users\\user\\anaconda3\\lib\\site-packages\\matplotlib\\backends\\backend_agg.py:203: RuntimeWarning: Glyph 52509 missing from current font.\n",
      "  font.set_text(s, 0, flags=flags)\n",
      "C:\\Users\\user\\anaconda3\\lib\\site-packages\\matplotlib\\backends\\backend_agg.py:203: RuntimeWarning: Glyph 44061 missing from current font.\n",
      "  font.set_text(s, 0, flags=flags)\n",
      "C:\\Users\\user\\anaconda3\\lib\\site-packages\\matplotlib\\backends\\backend_agg.py:203: RuntimeWarning: Glyph 49688 missing from current font.\n",
      "  font.set_text(s, 0, flags=flags)\n"
     ]
    },
    {
     "data": {
      "image/png": "[encoded data removed]",
      "text/plain": [
       "<Figure size 432x288 with 4 Axes>"
      ]
     },
     "execution_count": 45,
     "metadata": {},
     "output_type": "execute_result"
    },
    {
     "data": {
      "image/png": "[encoded data removed]",
      "text/plain": [
       "<Figure size 432x288 with 4 Axes>"
      ]
     },
     "metadata": {
      "needs_background": "light"
     },
     "output_type": "display_data"
    }
   ],
   "source": [
    "result = seasonal_decompose(df_sub[\"승차총승객수\"])\n",
    "print(result) # 그냥해도 안나오더니, 프린트해도 안나오네?\n",
    "result.plot() # plot으로하니 그림으로 나오네"
   ]
  },
  {
   "cell_type": "markdown",
   "id": "e3a15bf2",
   "metadata": {},
   "source": [
    "- 승차총승객수 데이터가 너무많아서 이렇게 나옴\n",
    "- 좀 줄여보자"
   ]
  },
  {
   "cell_type": "code",
   "execution_count": 46,
   "id": "4e712f3d",
   "metadata": {},
   "outputs": [
    {
     "name": "stdout",
     "output_type": "stream",
     "text": [
      "<statsmodels.tsa.seasonal.DecomposeResult object at 0x0000023C517D10A0>\n"
     ]
    },
    {
     "data": {
      "image/png": "[encoded data removed]",
      "text/plain": [
       "<Figure size 432x288 with 4 Axes>"
      ]
     },
     "execution_count": 46,
     "metadata": {},
     "output_type": "execute_result"
    },
    {
     "data": {
      "image/png": "[encoded data removed]",
      "text/plain": [
       "<Figure size 432x288 with 4 Axes>"
      ]
     },
     "metadata": {
      "needs_background": "light"
     },
     "output_type": "display_data"
    }
   ],
   "source": [
    "result = seasonal_decompose(df_sub[\"승차총승객수\"][:200])\n",
    "print(result) # 그냥해도 안나오더니, 프린트해도 안나오네?\n",
    "result.plot() # plot으로하니 그림으로 나오네"
   ]
  },
  {
   "cell_type": "code",
   "execution_count": 47,
   "id": "e2807351",
   "metadata": {},
   "outputs": [
    {
     "data": {
      "text/plain": [
       "사용일자\n",
       "2019-12-01             NaN\n",
       "2019-12-02             NaN\n",
       "2019-12-03             NaN\n",
       "2019-12-04    44560.142857\n",
       "2019-12-05    44932.000000\n",
       "                  ...     \n",
       "2020-06-13    31186.714286\n",
       "2020-06-14    31021.857143\n",
       "2020-06-15             NaN\n",
       "2020-06-16             NaN\n",
       "2020-06-17             NaN\n",
       "Name: trend, Length: 200, dtype: float64"
      ]
     },
     "execution_count": 47,
     "metadata": {},
     "output_type": "execute_result"
    }
   ],
   "source": [
    "result.trend # result.[tab] 누르면 원하는거 뽑아낼수 있음\n",
    "# 이렇게 뽑아내서 예측을 하거나 또 연산을 할수도있음"
   ]
  },
  {
   "cell_type": "markdown",
   "id": "06ad9b24",
   "metadata": {},
   "source": [
    "### 1. rolling() 메서드의 window에 정수 n개 입력했을 때 결측치는 총 몇개?"
   ]
  },
  {
   "cell_type": "markdown",
   "id": "b4a63168",
   "metadata": {},
   "source": [
    "정답 : n-1개"
   ]
  },
  {
   "cell_type": "markdown",
   "id": "1c5b03a3",
   "metadata": {},
   "source": [
    "### 2. 6호선 이태원역 데이터를 활용하여 EWMA를 실시했을 때 지수평활계수가 0.1과 0.9로 설정한 결과를 비교하고자 한다. 2020년 11월 30일 기준 산출값 차이의 절대값은 ?\n",
    "- seoul_subway.csv 파일의 하차 데이터 사용\n",
    "- 주어진 데이터 전체를 활용하고 정수 부분만 기술"
   ]
  },
  {
   "cell_type": "code",
   "execution_count": 63,
   "id": "6aeafc6f",
   "metadata": {
    "scrolled": true
   },
   "outputs": [
    {
     "data": {
      "text/html": [
       "<div>\n",
       "<style scoped>\n",
       "    .dataframe tbody tr th:only-of-type {\n",
       "        vertical-align: middle;\n",
       "    }\n",
       "\n",
       "    .dataframe tbody tr th {\n",
       "        vertical-align: top;\n",
       "    }\n",
       "\n",
       "    .dataframe thead th {\n",
       "        text-align: right;\n",
       "    }\n",
       "</style>\n",
       "<table border=\"1\" class=\"dataframe\">\n",
       "  <thead>\n",
       "    <tr style=\"text-align: right;\">\n",
       "      <th></th>\n",
       "      <th>사용일자</th>\n",
       "      <th>노선명</th>\n",
       "      <th>역명</th>\n",
       "      <th>승차총승객수</th>\n",
       "      <th>하차총승객수</th>\n",
       "      <th>등록일자</th>\n",
       "    </tr>\n",
       "  </thead>\n",
       "  <tbody>\n",
       "    <tr>\n",
       "      <th>0</th>\n",
       "      <td>20191201</td>\n",
       "      <td>1호선</td>\n",
       "      <td>종각</td>\n",
       "      <td>19093</td>\n",
       "      <td>17141</td>\n",
       "      <td>20191204</td>\n",
       "    </tr>\n",
       "    <tr>\n",
       "      <th>1</th>\n",
       "      <td>20191201</td>\n",
       "      <td>1호선</td>\n",
       "      <td>종로3가</td>\n",
       "      <td>19646</td>\n",
       "      <td>17772</td>\n",
       "      <td>20191204</td>\n",
       "    </tr>\n",
       "  </tbody>\n",
       "</table>\n",
       "</div>"
      ],
      "text/plain": [
       "       사용일자  노선명    역명  승차총승객수  하차총승객수      등록일자\n",
       "0  20191201  1호선    종각   19093   17141  20191204\n",
       "1  20191201  1호선  종로3가   19646   17772  20191204"
      ]
     },
     "execution_count": 63,
     "metadata": {},
     "output_type": "execute_result"
    }
   ],
   "source": [
    "df = pd.read_csv(\"seoul_subway.csv\")\n",
    "df.head(2)"
   ]
  },
  {
   "cell_type": "code",
   "execution_count": 64,
   "id": "06764d9f",
   "metadata": {},
   "outputs": [
    {
     "data": {
      "text/html": [
       "<div>\n",
       "<style scoped>\n",
       "    .dataframe tbody tr th:only-of-type {\n",
       "        vertical-align: middle;\n",
       "    }\n",
       "\n",
       "    .dataframe tbody tr th {\n",
       "        vertical-align: top;\n",
       "    }\n",
       "\n",
       "    .dataframe thead th {\n",
       "        text-align: right;\n",
       "    }\n",
       "</style>\n",
       "<table border=\"1\" class=\"dataframe\">\n",
       "  <thead>\n",
       "    <tr style=\"text-align: right;\">\n",
       "      <th></th>\n",
       "      <th>사용일자</th>\n",
       "      <th>노선명</th>\n",
       "      <th>역명</th>\n",
       "      <th>승차총승객수</th>\n",
       "      <th>하차총승객수</th>\n",
       "      <th>등록일자</th>\n",
       "    </tr>\n",
       "  </thead>\n",
       "  <tbody>\n",
       "    <tr>\n",
       "      <th>439</th>\n",
       "      <td>20191201</td>\n",
       "      <td>6호선</td>\n",
       "      <td>이태원</td>\n",
       "      <td>15817</td>\n",
       "      <td>12541</td>\n",
       "      <td>20191204</td>\n",
       "    </tr>\n",
       "    <tr>\n",
       "      <th>1030</th>\n",
       "      <td>20191202</td>\n",
       "      <td>6호선</td>\n",
       "      <td>이태원</td>\n",
       "      <td>12771</td>\n",
       "      <td>12974</td>\n",
       "      <td>20191205</td>\n",
       "    </tr>\n",
       "  </tbody>\n",
       "</table>\n",
       "</div>"
      ],
      "text/plain": [
       "          사용일자  노선명   역명  승차총승객수  하차총승객수      등록일자\n",
       "439   20191201  6호선  이태원   15817   12541  20191204\n",
       "1030  20191202  6호선  이태원   12771   12974  20191205"
      ]
     },
     "execution_count": 64,
     "metadata": {},
     "output_type": "execute_result"
    }
   ],
   "source": [
    "df_sub = df.loc[(df[\"노선명\"] == \"6호선\") & (df[\"역명\"] == \"이태원\"), ]\n",
    "df_sub.head(2)"
   ]
  },
  {
   "cell_type": "code",
   "execution_count": 65,
   "id": "e869d2d6",
   "metadata": {},
   "outputs": [
    {
     "name": "stderr",
     "output_type": "stream",
     "text": [
      "C:\\Users\\user\\AppData\\Local\\Temp/ipykernel_16988/1745802065.py:1: SettingWithCopyWarning: \n",
      "A value is trying to be set on a copy of a slice from a DataFrame.\n",
      "Try using .loc[row_indexer,col_indexer] = value instead\n",
      "\n",
      "See the caveats in the documentation: https://pandas.pydata.org/pandas-docs/stable/user_guide/indexing.html#returning-a-view-versus-a-copy\n",
      "  df_sub[\"ewma_1\"] = df_sub[\"하차총승객수\"].ewm(alpha = 0.1).mean()\n",
      "C:\\Users\\user\\AppData\\Local\\Temp/ipykernel_16988/1745802065.py:2: SettingWithCopyWarning: \n",
      "A value is trying to be set on a copy of a slice from a DataFrame.\n",
      "Try using .loc[row_indexer,col_indexer] = value instead\n",
      "\n",
      "See the caveats in the documentation: https://pandas.pydata.org/pandas-docs/stable/user_guide/indexing.html#returning-a-view-versus-a-copy\n",
      "  df_sub[\"ewma_2\"] = df_sub[\"하차총승객수\"].ewm(alpha = 0.9).mean()\n"
     ]
    },
    {
     "data": {
      "text/html": [
       "<div>\n",
       "<style scoped>\n",
       "    .dataframe tbody tr th:only-of-type {\n",
       "        vertical-align: middle;\n",
       "    }\n",
       "\n",
       "    .dataframe tbody tr th {\n",
       "        vertical-align: top;\n",
       "    }\n",
       "\n",
       "    .dataframe thead th {\n",
       "        text-align: right;\n",
       "    }\n",
       "</style>\n",
       "<table border=\"1\" class=\"dataframe\">\n",
       "  <thead>\n",
       "    <tr style=\"text-align: right;\">\n",
       "      <th></th>\n",
       "      <th>사용일자</th>\n",
       "      <th>노선명</th>\n",
       "      <th>역명</th>\n",
       "      <th>승차총승객수</th>\n",
       "      <th>하차총승객수</th>\n",
       "      <th>등록일자</th>\n",
       "      <th>ewma_1</th>\n",
       "      <th>ewma_2</th>\n",
       "    </tr>\n",
       "  </thead>\n",
       "  <tbody>\n",
       "    <tr>\n",
       "      <th>439</th>\n",
       "      <td>20191201</td>\n",
       "      <td>6호선</td>\n",
       "      <td>이태원</td>\n",
       "      <td>15817</td>\n",
       "      <td>12541</td>\n",
       "      <td>20191204</td>\n",
       "      <td>12541.000000</td>\n",
       "      <td>12541.000000</td>\n",
       "    </tr>\n",
       "    <tr>\n",
       "      <th>1030</th>\n",
       "      <td>20191202</td>\n",
       "      <td>6호선</td>\n",
       "      <td>이태원</td>\n",
       "      <td>12771</td>\n",
       "      <td>12974</td>\n",
       "      <td>20191205</td>\n",
       "      <td>12768.894737</td>\n",
       "      <td>12934.636364</td>\n",
       "    </tr>\n",
       "  </tbody>\n",
       "</table>\n",
       "</div>"
      ],
      "text/plain": [
       "          사용일자  노선명   역명  승차총승객수  하차총승객수      등록일자        ewma_1        ewma_2\n",
       "439   20191201  6호선  이태원   15817   12541  20191204  12541.000000  12541.000000\n",
       "1030  20191202  6호선  이태원   12771   12974  20191205  12768.894737  12934.636364"
      ]
     },
     "execution_count": 65,
     "metadata": {},
     "output_type": "execute_result"
    }
   ],
   "source": [
    "df_sub[\"ewma_1\"] = df_sub[\"하차총승객수\"].ewm(alpha = 0.1).mean()\n",
    "df_sub[\"ewma_2\"] = df_sub[\"하차총승객수\"].ewm(alpha = 0.9).mean()\n",
    "df_sub.head(2)"
   ]
  },
  {
   "cell_type": "code",
   "execution_count": 66,
   "id": "0d00e4c2",
   "metadata": {},
   "outputs": [
    {
     "data": {
      "text/html": [
       "<div>\n",
       "<style scoped>\n",
       "    .dataframe tbody tr th:only-of-type {\n",
       "        vertical-align: middle;\n",
       "    }\n",
       "\n",
       "    .dataframe tbody tr th {\n",
       "        vertical-align: top;\n",
       "    }\n",
       "\n",
       "    .dataframe thead th {\n",
       "        text-align: right;\n",
       "    }\n",
       "</style>\n",
       "<table border=\"1\" class=\"dataframe\">\n",
       "  <thead>\n",
       "    <tr style=\"text-align: right;\">\n",
       "      <th></th>\n",
       "      <th>사용일자</th>\n",
       "      <th>노선명</th>\n",
       "      <th>역명</th>\n",
       "      <th>승차총승객수</th>\n",
       "      <th>하차총승객수</th>\n",
       "      <th>등록일자</th>\n",
       "      <th>ewma_1</th>\n",
       "      <th>ewma_2</th>\n",
       "    </tr>\n",
       "  </thead>\n",
       "  <tbody>\n",
       "    <tr>\n",
       "      <th>216590</th>\n",
       "      <td>20201130</td>\n",
       "      <td>6호선</td>\n",
       "      <td>이태원</td>\n",
       "      <td>7059</td>\n",
       "      <td>7109</td>\n",
       "      <td>20201203</td>\n",
       "      <td>8178.557456</td>\n",
       "      <td>6914.820146</td>\n",
       "    </tr>\n",
       "  </tbody>\n",
       "</table>\n",
       "</div>"
      ],
      "text/plain": [
       "            사용일자  노선명   역명  승차총승객수  하차총승객수      등록일자       ewma_1       ewma_2\n",
       "216590  20201130  6호선  이태원    7059    7109  20201203  8178.557456  6914.820146"
      ]
     },
     "execution_count": 66,
     "metadata": {},
     "output_type": "execute_result"
    }
   ],
   "source": [
    "df_sub = df_sub.loc[df_sub[\"사용일자\"] == 20201130, ]\n",
    "df_sub.head(2)"
   ]
  },
  {
   "cell_type": "code",
   "execution_count": 67,
   "id": "c0ee8256",
   "metadata": {},
   "outputs": [
    {
     "data": {
      "text/plain": [
       "216590    1263.737309\n",
       "dtype: float64"
      ]
     },
     "execution_count": 67,
     "metadata": {},
     "output_type": "execute_result"
    }
   ],
   "source": [
    "df_sub[\"ewma_1\"] - df_sub[\"ewma_2\"]"
   ]
  },
  {
   "cell_type": "markdown",
   "id": "73e6df73",
   "metadata": {},
   "source": [
    "### 3. 3호선 신사역 승차 총 승객수를 활용하여 시계열 분해 가법모형을 실시하였을 때 2020년 11월 30일의 추세값은?\n",
    "- seoul_subway.csv 파일의 하차 데이터 사용\n",
    "- extrapolate_trend = 1로 설정\n",
    "- 주어진 데이터 전체를 활용하고 정수 부분만 기술"
   ]
  },
  {
   "cell_type": "code",
   "execution_count": 68,
   "id": "aed252a1",
   "metadata": {},
   "outputs": [
    {
     "data": {
      "text/html": [
       "<div>\n",
       "<style scoped>\n",
       "    .dataframe tbody tr th:only-of-type {\n",
       "        vertical-align: middle;\n",
       "    }\n",
       "\n",
       "    .dataframe tbody tr th {\n",
       "        vertical-align: top;\n",
       "    }\n",
       "\n",
       "    .dataframe thead th {\n",
       "        text-align: right;\n",
       "    }\n",
       "</style>\n",
       "<table border=\"1\" class=\"dataframe\">\n",
       "  <thead>\n",
       "    <tr style=\"text-align: right;\">\n",
       "      <th></th>\n",
       "      <th>사용일자</th>\n",
       "      <th>노선명</th>\n",
       "      <th>역명</th>\n",
       "      <th>승차총승객수</th>\n",
       "      <th>하차총승객수</th>\n",
       "      <th>등록일자</th>\n",
       "    </tr>\n",
       "  </thead>\n",
       "  <tbody>\n",
       "    <tr>\n",
       "      <th>0</th>\n",
       "      <td>20191201</td>\n",
       "      <td>1호선</td>\n",
       "      <td>종각</td>\n",
       "      <td>19093</td>\n",
       "      <td>17141</td>\n",
       "      <td>20191204</td>\n",
       "    </tr>\n",
       "    <tr>\n",
       "      <th>1</th>\n",
       "      <td>20191201</td>\n",
       "      <td>1호선</td>\n",
       "      <td>종로3가</td>\n",
       "      <td>19646</td>\n",
       "      <td>17772</td>\n",
       "      <td>20191204</td>\n",
       "    </tr>\n",
       "  </tbody>\n",
       "</table>\n",
       "</div>"
      ],
      "text/plain": [
       "       사용일자  노선명    역명  승차총승객수  하차총승객수      등록일자\n",
       "0  20191201  1호선    종각   19093   17141  20191204\n",
       "1  20191201  1호선  종로3가   19646   17772  20191204"
      ]
     },
     "execution_count": 68,
     "metadata": {},
     "output_type": "execute_result"
    }
   ],
   "source": [
    "df = pd.read_csv(\"seoul_subway.csv\")\n",
    "df.head(2)"
   ]
  },
  {
   "cell_type": "code",
   "execution_count": 69,
   "id": "2de70092",
   "metadata": {},
   "outputs": [],
   "source": [
    "from statsmodels.tsa.seasonal import seasonal_decompose"
   ]
  },
  {
   "cell_type": "code",
   "execution_count": 87,
   "id": "f171770b",
   "metadata": {},
   "outputs": [
    {
     "data": {
      "text/html": [
       "<div>\n",
       "<style scoped>\n",
       "    .dataframe tbody tr th:only-of-type {\n",
       "        vertical-align: middle;\n",
       "    }\n",
       "\n",
       "    .dataframe tbody tr th {\n",
       "        vertical-align: top;\n",
       "    }\n",
       "\n",
       "    .dataframe thead th {\n",
       "        text-align: right;\n",
       "    }\n",
       "</style>\n",
       "<table border=\"1\" class=\"dataframe\">\n",
       "  <thead>\n",
       "    <tr style=\"text-align: right;\">\n",
       "      <th></th>\n",
       "      <th>사용일자</th>\n",
       "      <th>노선명</th>\n",
       "      <th>역명</th>\n",
       "      <th>승차총승객수</th>\n",
       "      <th>하차총승객수</th>\n",
       "      <th>등록일자</th>\n",
       "    </tr>\n",
       "  </thead>\n",
       "  <tbody>\n",
       "    <tr>\n",
       "      <th>76</th>\n",
       "      <td>20191201</td>\n",
       "      <td>3호선</td>\n",
       "      <td>신사</td>\n",
       "      <td>18120</td>\n",
       "      <td>18435</td>\n",
       "      <td>20191204</td>\n",
       "    </tr>\n",
       "    <tr>\n",
       "      <th>668</th>\n",
       "      <td>20191202</td>\n",
       "      <td>3호선</td>\n",
       "      <td>신사</td>\n",
       "      <td>34918</td>\n",
       "      <td>37450</td>\n",
       "      <td>20191205</td>\n",
       "    </tr>\n",
       "  </tbody>\n",
       "</table>\n",
       "</div>"
      ],
      "text/plain": [
       "         사용일자  노선명  역명  승차총승객수  하차총승객수      등록일자\n",
       "76   20191201  3호선  신사   18120   18435  20191204\n",
       "668  20191202  3호선  신사   34918   37450  20191205"
      ]
     },
     "execution_count": 87,
     "metadata": {},
     "output_type": "execute_result"
    }
   ],
   "source": [
    "df_sub = df.loc[(df[\"노선명\"] == \"3호선\") & (df[\"역명\"] == \"신사\"),]\n",
    "df_sub.head(2)"
   ]
  },
  {
   "cell_type": "code",
   "execution_count": 89,
   "id": "2da44a73",
   "metadata": {
    "scrolled": true
   },
   "outputs": [
    {
     "name": "stderr",
     "output_type": "stream",
     "text": [
      "C:\\Users\\user\\AppData\\Local\\Temp/ipykernel_16988/344697464.py:1: SettingWithCopyWarning: \n",
      "A value is trying to be set on a copy of a slice from a DataFrame.\n",
      "Try using .loc[row_indexer,col_indexer] = value instead\n",
      "\n",
      "See the caveats in the documentation: https://pandas.pydata.org/pandas-docs/stable/user_guide/indexing.html#returning-a-view-versus-a-copy\n",
      "  df_sub[\"사용일자\"] = pd.to_datetime(df_sub[\"사용일자\"], format = \"%Y%m%d\")\n"
     ]
    },
    {
     "data": {
      "text/html": [
       "<div>\n",
       "<style scoped>\n",
       "    .dataframe tbody tr th:only-of-type {\n",
       "        vertical-align: middle;\n",
       "    }\n",
       "\n",
       "    .dataframe tbody tr th {\n",
       "        vertical-align: top;\n",
       "    }\n",
       "\n",
       "    .dataframe thead th {\n",
       "        text-align: right;\n",
       "    }\n",
       "</style>\n",
       "<table border=\"1\" class=\"dataframe\">\n",
       "  <thead>\n",
       "    <tr style=\"text-align: right;\">\n",
       "      <th></th>\n",
       "      <th>사용일자</th>\n",
       "      <th>노선명</th>\n",
       "      <th>역명</th>\n",
       "      <th>승차총승객수</th>\n",
       "      <th>하차총승객수</th>\n",
       "      <th>등록일자</th>\n",
       "    </tr>\n",
       "  </thead>\n",
       "  <tbody>\n",
       "    <tr>\n",
       "      <th>76</th>\n",
       "      <td>2019-12-01</td>\n",
       "      <td>3호선</td>\n",
       "      <td>신사</td>\n",
       "      <td>18120</td>\n",
       "      <td>18435</td>\n",
       "      <td>20191204</td>\n",
       "    </tr>\n",
       "    <tr>\n",
       "      <th>668</th>\n",
       "      <td>2019-12-02</td>\n",
       "      <td>3호선</td>\n",
       "      <td>신사</td>\n",
       "      <td>34918</td>\n",
       "      <td>37450</td>\n",
       "      <td>20191205</td>\n",
       "    </tr>\n",
       "  </tbody>\n",
       "</table>\n",
       "</div>"
      ],
      "text/plain": [
       "          사용일자  노선명  역명  승차총승객수  하차총승객수      등록일자\n",
       "76  2019-12-01  3호선  신사   18120   18435  20191204\n",
       "668 2019-12-02  3호선  신사   34918   37450  20191205"
      ]
     },
     "execution_count": 89,
     "metadata": {},
     "output_type": "execute_result"
    }
   ],
   "source": [
    "df_sub[\"사용일자\"] = pd.to_datetime(df_sub[\"사용일자\"], format = \"%Y%m%d\")\n",
    "df_sub.head(2)"
   ]
  },
  {
   "cell_type": "code",
   "execution_count": 82,
   "id": "a032b076",
   "metadata": {
    "scrolled": true
   },
   "outputs": [
    {
     "name": "stdout",
     "output_type": "stream",
     "text": [
      "<class 'pandas.core.frame.DataFrame'>\n",
      "Int64Index: 366 entries, 76 to 216476\n",
      "Data columns (total 6 columns):\n",
      " #   Column  Non-Null Count  Dtype         \n",
      "---  ------  --------------  -----         \n",
      " 0   사용일자    366 non-null    datetime64[ns]\n",
      " 1   노선명     366 non-null    object        \n",
      " 2   역명      366 non-null    object        \n",
      " 3   승차총승객수  366 non-null    int64         \n",
      " 4   하차총승객수  366 non-null    int64         \n",
      " 5   등록일자    366 non-null    int64         \n",
      "dtypes: datetime64[ns](1), int64(3), object(2)\n",
      "memory usage: 20.0+ KB\n"
     ]
    }
   ],
   "source": [
    "df_sub.info()"
   ]
  },
  {
   "cell_type": "code",
   "execution_count": 90,
   "id": "456c76e1",
   "metadata": {
    "scrolled": true
   },
   "outputs": [],
   "source": [
    "df_sub = df_sub.set_index(\"사용일자\")"
   ]
  },
  {
   "cell_type": "code",
   "execution_count": 99,
   "id": "2f7f85d2",
   "metadata": {},
   "outputs": [],
   "source": [
    "result = seasonal_decompose(df_sub[\"승차총승객수\"], model = \"addictive\", extrapolate_trend= 1)"
   ]
  },
  {
   "cell_type": "code",
   "execution_count": 98,
   "id": "1ec9c86c",
   "metadata": {},
   "outputs": [
    {
     "data": {
      "text/plain": [
       "사용일자\n",
       "2020-11-26    23306.571429\n",
       "2020-11-27    22918.285714\n",
       "2020-11-28    22202.571429\n",
       "2020-11-29    21650.571429\n",
       "2020-11-30    21098.571429\n",
       "Name: trend, dtype: float64"
      ]
     },
     "execution_count": 98,
     "metadata": {},
     "output_type": "execute_result"
    }
   ],
   "source": [
    "result.trend.tail()"
   ]
  },
  {
   "cell_type": "code",
   "execution_count": null,
   "id": "8aaaa921",
   "metadata": {},
   "outputs": [],
   "source": []
  },
  {
   "cell_type": "code",
   "execution_count": null,
   "id": "9913c38a",
   "metadata": {},
   "outputs": [],
   "source": []
  },
  {
   "cell_type": "code",
   "execution_count": null,
   "id": "2fc85fd7",
   "metadata": {},
   "outputs": [],
   "source": []
  }
 ],
 "metadata": {
  "kernelspec": {
   "display_name": "Python 3 (ipykernel)",
   "language": "python",
   "name": "python3"
  },
  "language_info": {
   "codemirror_mode": {
    "name": "ipython",
    "version": 3
   },
   "file_extension": ".py",
   "mimetype": "text/x-python",
   "name": "python",
   "nbconvert_exporter": "python",
   "pygments_lexer": "ipython3",
   "version": "3.9.7"
  }
 },
 "nbformat": 4,
 "nbformat_minor": 5
}
