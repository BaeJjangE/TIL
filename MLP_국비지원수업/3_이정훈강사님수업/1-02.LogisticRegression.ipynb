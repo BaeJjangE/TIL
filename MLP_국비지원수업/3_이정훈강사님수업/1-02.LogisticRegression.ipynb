{
 "cells": [
  {
   "cell_type": "markdown",
   "id": "a4021b4a",
   "metadata": {},
   "source": [
    "## 참고: https://hleecaster.com/ml-linear-regression-example/"
   ]
  },
  {
   "cell_type": "markdown",
   "id": "54d4f2b0",
   "metadata": {},
   "source": [
    "## 라이브러리 설치, 호출"
   ]
  },
  {
   "cell_type": "markdown",
   "id": "e2853ab4",
   "metadata": {},
   "source": [
    "!pip3 install -U scikit-learn<br>\n",
    "!pip3 install pandas<br>\n",
    "!pip3 install numpy<br>\n",
    "!pip3 install matplotlib<br>\n",
    "!pip3 install statsmodels<br>"
   ]
  },
  {
   "cell_type": "code",
   "execution_count": 2,
   "id": "f1c2d373",
   "metadata": {},
   "outputs": [],
   "source": [
    "from sklearn.linear_model import LinearRegression\n",
    "import pandas as pd\n",
    "import numpy as np\n",
    "import matplotlib.pyplot as plt\n",
    "import statsmodels.api as sm\n",
    "from statsmodels.formula.api import ols\n"
   ]
  },
  {
   "cell_type": "markdown",
   "id": "d8a92498",
   "metadata": {},
   "source": [
    "## 데이터 다운로드 (특별할인 판매)"
   ]
  },
  {
   "cell_type": "code",
   "execution_count": 3,
   "id": "cbdefba7",
   "metadata": {},
   "outputs": [
    {
     "name": "stdout",
     "output_type": "stream",
     "text": [
      "         date weekday  busy_day  high_temperature  special_sales\n",
      "0  2002-08-05     Mon         0                28              1\n",
      "1  2002-08-06     Tue         0                24              0\n",
      "2  2002-08-07     Wed         1                26              0\n",
      "3  2002-08-08     Thu         0                24              0\n",
      "4  2002-08-09     Fri         0                23              0\n"
     ]
    }
   ],
   "source": [
    "import pandas as pd\n",
    "df = pd.read_csv('https://raw.githubusercontent.com/jmnote/zdata/master/logistic-regression/special-sales.csv')\n",
    "print(df.head())"
   ]
  },
  {
   "cell_type": "markdown",
   "id": "738d1868",
   "metadata": {},
   "source": [
    "## Input, Feature 설정"
   ]
  },
  {
   "cell_type": "code",
   "execution_count": 4,
   "id": "095048a3",
   "metadata": {},
   "outputs": [],
   "source": [
    "Label = df['special_sales']\n",
    "InputFeature = df[['busy_day','high_temperature']]"
   ]
  },
  {
   "cell_type": "markdown",
   "id": "6ea6be7d",
   "metadata": {},
   "source": [
    "## matplot library를 활용한 point plot"
   ]
  },
  {
   "cell_type": "code",
   "execution_count": 5,
   "id": "c90040ae",
   "metadata": {},
   "outputs": [
    {
     "data": {
      "image/png": "[encoded data removed]",
      "text/plain": [
       "<Figure size 432x288 with 1 Axes>"
      ]
     },
     "metadata": {
      "needs_background": "light"
     },
     "output_type": "display_data"
    },
    {
     "data": {
      "image/png": "[encoded data removed]",
      "text/plain": [
       "<Figure size 432x288 with 1 Axes>"
      ]
     },
     "metadata": {
      "needs_background": "light"
     },
     "output_type": "display_data"
    }
   ],
   "source": [
    "plt.plot(InputFeature['busy_day'], Label, 'o')\n",
    "plt.show()\n",
    "\n",
    "plt.plot(InputFeature['high_temperature'], Label, 'o')\n",
    "plt.show()"
   ]
  },
  {
   "cell_type": "markdown",
   "id": "475ec0b3",
   "metadata": {},
   "source": [
    "## Logistic regression 모델 fitting"
   ]
  },
  {
   "cell_type": "code",
   "execution_count": 7,
   "id": "8fdfaee9",
   "metadata": {},
   "outputs": [
    {
     "name": "stdout",
     "output_type": "stream",
     "text": [
      "Optimization terminated successfully.\n",
      "         Current function value: 0.423859\n",
      "         Iterations 7\n",
      "const              -15.203506\n",
      "busy_day             2.442647\n",
      "high_temperature     0.544505\n",
      "dtype: float64\n"
     ]
    }
   ],
   "source": [
    "# 편향 만들어주기\n",
    "InputFeature = sm.add_constant(InputFeature)\n",
    "\n",
    "model = sm.Logit(Label, InputFeature)\n",
    "model = model.fit()\n",
    "print(model.params)"
   ]
  },
  {
   "cell_type": "markdown",
   "id": "96d903ad",
   "metadata": {},
   "source": [
    "## 통계모델 분석하기"
   ]
  },
  {
   "cell_type": "code",
   "execution_count": 8,
   "id": "75ac0716",
   "metadata": {},
   "outputs": [
    {
     "name": "stdout",
     "output_type": "stream",
     "text": [
      "                           Logit Regression Results                           \n",
      "==============================================================================\n",
      "Dep. Variable:          special_sales   No. Observations:                   21\n",
      "Model:                          Logit   Df Residuals:                       18\n",
      "Method:                           MLE   Df Model:                            2\n",
      "Date:                Fri, 15 Apr 2022   Pseudo R-squ.:                  0.3622\n",
      "Time:                        16:23:22   Log-Likelihood:                -8.9010\n",
      "converged:                       True   LL-Null:                       -13.955\n",
      "Covariance Type:            nonrobust   LLR p-value:                  0.006383\n",
      "====================================================================================\n",
      "                       coef    std err          z      P>|z|      [0.025      0.975]\n",
      "------------------------------------------------------------------------------------\n",
      "const              -15.2035      7.657     -1.986      0.047     -30.210      -0.197\n",
      "busy_day             2.4426      1.240      1.969      0.049       0.011       4.874\n",
      "high_temperature     0.5445      0.297      1.834      0.067      -0.037       1.126\n",
      "====================================================================================\n"
     ]
    }
   ],
   "source": [
    "print( model.summary() )"
   ]
  },
  {
   "cell_type": "markdown",
   "id": "c65bc674",
   "metadata": {},
   "source": [
    "<h2>Logistic regression 모델 해석하기</h2>\n",
    "Coefficient: ln ( odds ) = 2.4426 * busy_day + 0.5545 * high_temperature + const<br>\n",
    "<br>\n",
    "odds를 알기 위해서는 exponential을 해주어야한다. (log 없애기)<br>"
   ]
  },
  {
   "cell_type": "code",
   "execution_count": 9,
   "id": "484a4abb",
   "metadata": {},
   "outputs": [
    {
     "data": {
      "text/plain": [
       "const                0.0000\n",
       "busy_day            11.5035\n",
       "high_temperature     1.7238\n",
       "dtype: float64"
      ]
     },
     "execution_count": 9,
     "metadata": {},
     "output_type": "execute_result"
    }
   ],
   "source": [
    "np.exp(model.params).round(4)"
   ]
  },
  {
   "cell_type": "markdown",
   "id": "9fcf7e71",
   "metadata": {},
   "source": [
    "<h3>p.value</h3>\n",
    "busy_day는 0.05보다 작음, 즉 coef가 0보다 크다는 뜻. 유의한 변수<br>\n",
    "High temperature는 p-value가 0.067로 근소하게 유의하지 않음.<br>\n",
    "하지만 0.1보다 작기에 이를 border라고도 표현함<br>\n",
    "비록 유의하지는 않지만, 어느정도 영향이 있을 것으로 짐작 가능<br>"
   ]
  },
  {
   "cell_type": "code",
   "execution_count": 10,
   "id": "e76cd55a",
   "metadata": {
    "collapsed": true
   },
   "outputs": [
    {
     "data": {
      "text/html": [
       "<div>\n",
       "<style scoped>\n",
       "    .dataframe tbody tr th:only-of-type {\n",
       "        vertical-align: middle;\n",
       "    }\n",
       "\n",
       "    .dataframe tbody tr th {\n",
       "        vertical-align: top;\n",
       "    }\n",
       "\n",
       "    .dataframe thead th {\n",
       "        text-align: right;\n",
       "    }\n",
       "</style>\n",
       "<table border=\"1\" class=\"dataframe\">\n",
       "  <thead>\n",
       "    <tr style=\"text-align: right;\">\n",
       "      <th></th>\n",
       "      <th>busy_day</th>\n",
       "      <th>high_temperature</th>\n",
       "    </tr>\n",
       "  </thead>\n",
       "  <tbody>\n",
       "    <tr>\n",
       "      <th>0</th>\n",
       "      <td>0</td>\n",
       "      <td>28</td>\n",
       "    </tr>\n",
       "    <tr>\n",
       "      <th>1</th>\n",
       "      <td>0</td>\n",
       "      <td>24</td>\n",
       "    </tr>\n",
       "    <tr>\n",
       "      <th>2</th>\n",
       "      <td>1</td>\n",
       "      <td>26</td>\n",
       "    </tr>\n",
       "    <tr>\n",
       "      <th>3</th>\n",
       "      <td>0</td>\n",
       "      <td>24</td>\n",
       "    </tr>\n",
       "    <tr>\n",
       "      <th>4</th>\n",
       "      <td>0</td>\n",
       "      <td>23</td>\n",
       "    </tr>\n",
       "    <tr>\n",
       "      <th>5</th>\n",
       "      <td>1</td>\n",
       "      <td>28</td>\n",
       "    </tr>\n",
       "    <tr>\n",
       "      <th>6</th>\n",
       "      <td>1</td>\n",
       "      <td>24</td>\n",
       "    </tr>\n",
       "    <tr>\n",
       "      <th>7</th>\n",
       "      <td>0</td>\n",
       "      <td>26</td>\n",
       "    </tr>\n",
       "    <tr>\n",
       "      <th>8</th>\n",
       "      <td>0</td>\n",
       "      <td>25</td>\n",
       "    </tr>\n",
       "    <tr>\n",
       "      <th>9</th>\n",
       "      <td>1</td>\n",
       "      <td>28</td>\n",
       "    </tr>\n",
       "    <tr>\n",
       "      <th>10</th>\n",
       "      <td>0</td>\n",
       "      <td>21</td>\n",
       "    </tr>\n",
       "    <tr>\n",
       "      <th>11</th>\n",
       "      <td>0</td>\n",
       "      <td>22</td>\n",
       "    </tr>\n",
       "    <tr>\n",
       "      <th>12</th>\n",
       "      <td>1</td>\n",
       "      <td>27</td>\n",
       "    </tr>\n",
       "    <tr>\n",
       "      <th>13</th>\n",
       "      <td>1</td>\n",
       "      <td>26</td>\n",
       "    </tr>\n",
       "    <tr>\n",
       "      <th>14</th>\n",
       "      <td>0</td>\n",
       "      <td>26</td>\n",
       "    </tr>\n",
       "    <tr>\n",
       "      <th>15</th>\n",
       "      <td>0</td>\n",
       "      <td>21</td>\n",
       "    </tr>\n",
       "    <tr>\n",
       "      <th>16</th>\n",
       "      <td>1</td>\n",
       "      <td>21</td>\n",
       "    </tr>\n",
       "    <tr>\n",
       "      <th>17</th>\n",
       "      <td>0</td>\n",
       "      <td>27</td>\n",
       "    </tr>\n",
       "    <tr>\n",
       "      <th>18</th>\n",
       "      <td>0</td>\n",
       "      <td>23</td>\n",
       "    </tr>\n",
       "    <tr>\n",
       "      <th>19</th>\n",
       "      <td>1</td>\n",
       "      <td>22</td>\n",
       "    </tr>\n",
       "    <tr>\n",
       "      <th>20</th>\n",
       "      <td>1</td>\n",
       "      <td>24</td>\n",
       "    </tr>\n",
       "  </tbody>\n",
       "</table>\n",
       "</div>"
      ],
      "text/plain": [
       "    busy_day  high_temperature\n",
       "0          0                28\n",
       "1          0                24\n",
       "2          1                26\n",
       "3          0                24\n",
       "4          0                23\n",
       "5          1                28\n",
       "6          1                24\n",
       "7          0                26\n",
       "8          0                25\n",
       "9          1                28\n",
       "10         0                21\n",
       "11         0                22\n",
       "12         1                27\n",
       "13         1                26\n",
       "14         0                26\n",
       "15         0                21\n",
       "16         1                21\n",
       "17         0                27\n",
       "18         0                23\n",
       "19         1                22\n",
       "20         1                24"
      ]
     },
     "execution_count": 10,
     "metadata": {},
     "output_type": "execute_result"
    }
   ],
   "source": [
    "df[['busy_day','high_temperature']]"
   ]
  },
  {
   "cell_type": "markdown",
   "id": "8f98b1b6",
   "metadata": {},
   "source": [
    "## 결과 출력 (0 ~ 1 값, 즉 sigmoid 값)"
   ]
  },
  {
   "cell_type": "code",
   "execution_count": 11,
   "id": "deb3d40d",
   "metadata": {},
   "outputs": [
    {
     "data": {
      "text/plain": [
       "0    0.510660\n",
       "1    0.105706\n",
       "2    0.801593\n",
       "3    0.105706\n",
       "4    0.064171\n",
       "dtype: float64"
      ]
     },
     "execution_count": 11,
     "metadata": {},
     "output_type": "execute_result"
    }
   ],
   "source": [
    "model.predict(InputFeature).head()"
   ]
  },
  {
   "cell_type": "code",
   "execution_count": 12,
   "id": "4437d070",
   "metadata": {},
   "outputs": [
    {
     "data": {
      "image/png": "[encoded data removed]",
      "text/plain": [
       "<Figure size 432x288 with 1 Axes>"
      ]
     },
     "metadata": {
      "needs_background": "light"
     },
     "output_type": "display_data"
    }
   ],
   "source": [
    "plt.plot(model.predict(InputFeature), df['busy_day'], 'o')\n",
    "plt.show()"
   ]
  },
  {
   "cell_type": "code",
   "execution_count": 13,
   "id": "8a0e5f9b",
   "metadata": {},
   "outputs": [
    {
     "data": {
      "image/png": "[encoded data removed]",
      "text/plain": [
       "<Figure size 432x288 with 1 Axes>"
      ]
     },
     "metadata": {
      "needs_background": "light"
     },
     "output_type": "display_data"
    }
   ],
   "source": [
    "plt.plot(model.predict(InputFeature), df['high_temperature'], 'o')\n",
    "plt.show()"
   ]
  },
  {
   "cell_type": "code",
   "execution_count": null,
   "id": "9ca6fc3c",
   "metadata": {},
   "outputs": [],
   "source": []
  }
 ],
 "metadata": {
  "kernelspec": {
   "display_name": "Python 3 (ipykernel)",
   "language": "python",
   "name": "python3"
  },
  "language_info": {
   "codemirror_mode": {
    "name": "ipython",
    "version": 3
   },
   "file_extension": ".py",
   "mimetype": "text/x-python",
   "name": "python",
   "nbconvert_exporter": "python",
   "pygments_lexer": "ipython3",
   "version": "3.9.7"
  }
 },
 "nbformat": 4,
 "nbformat_minor": 5
}
