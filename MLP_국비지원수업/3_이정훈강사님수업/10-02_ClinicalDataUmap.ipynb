{
 "cells": [
  {
   "cell_type": "code",
   "execution_count": 1,
   "id": "a75aff31",
   "metadata": {},
   "outputs": [],
   "source": [
    "import numpy as np\n",
    "import matplotlib.pyplot as plt\n",
    "from mpl_toolkits.mplot3d import Axes3D\n",
    "import seaborn as sns\n",
    "import umap.umap_ as umap\n",
    "from sklearn.decomposition import PCA\n",
    "import pandas as pd\n",
    "\n",
    "\n",
    "%matplotlib inline\n",
    "sns.set(style='white', rc={'figure.figsize':(12,8)})"
   ]
  },
  {
   "cell_type": "code",
   "execution_count": 47,
   "id": "be2612a1",
   "metadata": {},
   "outputs": [],
   "source": [
    "Data = pd.read_csv(\"ClinicalInformation.tsv\", sep=\"\\t\")"
   ]
  },
  {
   "cell_type": "code",
   "execution_count": 48,
   "id": "b21e5a60",
   "metadata": {},
   "outputs": [
    {
     "data": {
      "text/html": [
       "<div>\n",
       "<style scoped>\n",
       "    .dataframe tbody tr th:only-of-type {\n",
       "        vertical-align: middle;\n",
       "    }\n",
       "\n",
       "    .dataframe tbody tr th {\n",
       "        vertical-align: top;\n",
       "    }\n",
       "\n",
       "    .dataframe thead th {\n",
       "        text-align: right;\n",
       "    }\n",
       "</style>\n",
       "<table border=\"1\" class=\"dataframe\">\n",
       "  <thead>\n",
       "    <tr style=\"text-align: right;\">\n",
       "      <th></th>\n",
       "      <th>Subject</th>\n",
       "      <th>Sex(F/M)</th>\n",
       "      <th>Age</th>\n",
       "      <th>Diameter</th>\n",
       "      <th>Position</th>\n",
       "      <th>Label</th>\n",
       "      <th>Location</th>\n",
       "      <th>Composition(Solid,pSolid,pCystic,Cyst)</th>\n",
       "      <th>Echogenicity(MarkedHypo,MildHypo,Isoecho,Hyperecho)</th>\n",
       "      <th>MicroCalcification(None/Presence)</th>\n",
       "      <th>MacroCalcification(None/Presence)</th>\n",
       "      <th>RimCalcification(None/Presence)</th>\n",
       "      <th>Margin(Smooth,Spiculated,illDefined)</th>\n",
       "      <th>Shape(Parallel,nonParallel)</th>\n",
       "      <th>Spongiform(None/Presence)</th>\n",
       "      <th>TailArtifact(None/Presence)</th>\n",
       "      <th>TIRADS_Score</th>\n",
       "    </tr>\n",
       "  </thead>\n",
       "  <tbody>\n",
       "    <tr>\n",
       "      <th>0</th>\n",
       "      <td>001-0001-1</td>\n",
       "      <td>2</td>\n",
       "      <td>21</td>\n",
       "      <td>11</td>\n",
       "      <td>R</td>\n",
       "      <td>1</td>\n",
       "      <td>2</td>\n",
       "      <td>2</td>\n",
       "      <td>2</td>\n",
       "      <td>1</td>\n",
       "      <td>1</td>\n",
       "      <td>1</td>\n",
       "      <td>1</td>\n",
       "      <td>1</td>\n",
       "      <td>1</td>\n",
       "      <td>1</td>\n",
       "      <td>3</td>\n",
       "    </tr>\n",
       "    <tr>\n",
       "      <th>1</th>\n",
       "      <td>001-0002-1</td>\n",
       "      <td>1</td>\n",
       "      <td>32</td>\n",
       "      <td>11</td>\n",
       "      <td>R</td>\n",
       "      <td>0</td>\n",
       "      <td>3</td>\n",
       "      <td>1</td>\n",
       "      <td>3</td>\n",
       "      <td>1</td>\n",
       "      <td>1</td>\n",
       "      <td>1</td>\n",
       "      <td>1</td>\n",
       "      <td>1</td>\n",
       "      <td>1</td>\n",
       "      <td>1</td>\n",
       "      <td>3</td>\n",
       "    </tr>\n",
       "    <tr>\n",
       "      <th>2</th>\n",
       "      <td>001-0003-1</td>\n",
       "      <td>1</td>\n",
       "      <td>54</td>\n",
       "      <td>13</td>\n",
       "      <td>R</td>\n",
       "      <td>0</td>\n",
       "      <td>2</td>\n",
       "      <td>2</td>\n",
       "      <td>3</td>\n",
       "      <td>1</td>\n",
       "      <td>1</td>\n",
       "      <td>1</td>\n",
       "      <td>3</td>\n",
       "      <td>1</td>\n",
       "      <td>1</td>\n",
       "      <td>1</td>\n",
       "      <td>3</td>\n",
       "    </tr>\n",
       "    <tr>\n",
       "      <th>3</th>\n",
       "      <td>001-0004-1</td>\n",
       "      <td>1</td>\n",
       "      <td>46</td>\n",
       "      <td>11</td>\n",
       "      <td>R</td>\n",
       "      <td>0</td>\n",
       "      <td>2</td>\n",
       "      <td>2</td>\n",
       "      <td>3</td>\n",
       "      <td>1</td>\n",
       "      <td>1</td>\n",
       "      <td>1</td>\n",
       "      <td>1</td>\n",
       "      <td>2</td>\n",
       "      <td>2</td>\n",
       "      <td>1</td>\n",
       "      <td>2</td>\n",
       "    </tr>\n",
       "    <tr>\n",
       "      <th>4</th>\n",
       "      <td>001-0005-1</td>\n",
       "      <td>1</td>\n",
       "      <td>43</td>\n",
       "      <td>16</td>\n",
       "      <td>R</td>\n",
       "      <td>0</td>\n",
       "      <td>2</td>\n",
       "      <td>1</td>\n",
       "      <td>3</td>\n",
       "      <td>1</td>\n",
       "      <td>1</td>\n",
       "      <td>1</td>\n",
       "      <td>1</td>\n",
       "      <td>1</td>\n",
       "      <td>1</td>\n",
       "      <td>1</td>\n",
       "      <td>3</td>\n",
       "    </tr>\n",
       "  </tbody>\n",
       "</table>\n",
       "</div>"
      ],
      "text/plain": [
       "      Subject  Sex(F/M)  Age  Diameter Position  Label  Location  \\\n",
       "0  001-0001-1         2   21        11        R      1         2   \n",
       "1  001-0002-1         1   32        11        R      0         3   \n",
       "2  001-0003-1         1   54        13        R      0         2   \n",
       "3  001-0004-1         1   46        11        R      0         2   \n",
       "4  001-0005-1         1   43        16        R      0         2   \n",
       "\n",
       "   Composition(Solid,pSolid,pCystic,Cyst)  \\\n",
       "0                                       2   \n",
       "1                                       1   \n",
       "2                                       2   \n",
       "3                                       2   \n",
       "4                                       1   \n",
       "\n",
       "   Echogenicity(MarkedHypo,MildHypo,Isoecho,Hyperecho)  \\\n",
       "0                                                  2     \n",
       "1                                                  3     \n",
       "2                                                  3     \n",
       "3                                                  3     \n",
       "4                                                  3     \n",
       "\n",
       "   MicroCalcification(None/Presence)  MacroCalcification(None/Presence)  \\\n",
       "0                                  1                                  1   \n",
       "1                                  1                                  1   \n",
       "2                                  1                                  1   \n",
       "3                                  1                                  1   \n",
       "4                                  1                                  1   \n",
       "\n",
       "   RimCalcification(None/Presence)  Margin(Smooth,Spiculated,illDefined)  \\\n",
       "0                                1                                     1   \n",
       "1                                1                                     1   \n",
       "2                                1                                     3   \n",
       "3                                1                                     1   \n",
       "4                                1                                     1   \n",
       "\n",
       "   Shape(Parallel,nonParallel)  Spongiform(None/Presence)  \\\n",
       "0                            1                          1   \n",
       "1                            1                          1   \n",
       "2                            1                          1   \n",
       "3                            2                          2   \n",
       "4                            1                          1   \n",
       "\n",
       "   TailArtifact(None/Presence)  TIRADS_Score  \n",
       "0                            1             3  \n",
       "1                            1             3  \n",
       "2                            1             3  \n",
       "3                            1             2  \n",
       "4                            1             3  "
      ]
     },
     "execution_count": 48,
     "metadata": {},
     "output_type": "execute_result"
    }
   ],
   "source": [
    "Data.head()"
   ]
  },
  {
   "cell_type": "code",
   "execution_count": 49,
   "id": "9c8aa195",
   "metadata": {},
   "outputs": [],
   "source": [
    "import pandas as pd\n",
    "from sklearn.datasets import load_iris # scikit-learn의 샘플 데이터 로드를 위해 import\n",
    "from sklearn.preprocessing import LabelEncoder\n",
    "\n",
    "# categorize output class labels to numeric values\n",
    "le = LabelEncoder()\n",
    "le.fit(Data['Position'])\n",
    "Data['Position'] = le.transform(Data['Position'])"
   ]
  },
  {
   "cell_type": "code",
   "execution_count": 50,
   "id": "0103736f",
   "metadata": {},
   "outputs": [
    {
     "data": {
      "text/plain": [
       "0      2\n",
       "1      2\n",
       "2      2\n",
       "3      2\n",
       "4      2\n",
       "      ..\n",
       "160    2\n",
       "161    1\n",
       "162    1\n",
       "163    1\n",
       "164    2\n",
       "Name: Position, Length: 165, dtype: int32"
      ]
     },
     "execution_count": 50,
     "metadata": {},
     "output_type": "execute_result"
    }
   ],
   "source": [
    "Data['Position']"
   ]
  },
  {
   "cell_type": "code",
   "execution_count": 44,
   "id": "13bdab6e",
   "metadata": {},
   "outputs": [],
   "source": [
    "ColumnIndex = ['Sex(F/M)', 'Age', 'Diameter', 'Position', 'Location', 'Composition(Solid,pSolid,pCystic,Cyst)', 'Echogenicity(MarkedHypo,MildHypo,Isoecho,Hyperecho)', 'MicroCalcification(None/Presence)', 'MacroCalcification(None/Presence)', 'RimCalcification(None/Presence)', 'Margin(Smooth,Spiculated,illDefined)', 'Shape(Parallel,nonParallel)', 'Spongiform(None/Presence)', 'TailArtifact(None/Presence)', 'TIRADS_Score']"
   ]
  },
  {
   "cell_type": "code",
   "execution_count": 45,
   "id": "7592618f",
   "metadata": {},
   "outputs": [],
   "source": [
    "Data_withoutLabel = Data[ColumnIndex]"
   ]
  },
  {
   "cell_type": "code",
   "execution_count": 46,
   "id": "fd5ab0d1",
   "metadata": {},
   "outputs": [
    {
     "name": "stdout",
     "output_type": "stream",
     "text": [
      "CPU times: total: 15.2 s\n",
      "Wall time: 24.2 s\n"
     ]
    }
   ],
   "source": [
    "Data.columns\n",
    "\n",
    "fit = umap.UMAP()\n",
    "%time u = fit.fit_transform(Data_withoutLabel)"
   ]
  },
  {
   "cell_type": "code",
   "execution_count": 51,
   "id": "46ce95cb",
   "metadata": {},
   "outputs": [
    {
     "data": {
      "text/plain": [
       "<matplotlib.collections.PathCollection at 0x1c9a8f9ca60>"
      ]
     },
     "execution_count": 51,
     "metadata": {},
     "output_type": "execute_result"
    },
    {
     "data": {
      "image/png": "[encoded data removed]",
      "text/plain": [
       "<Figure size 864x576 with 1 Axes>"
      ]
     },
     "metadata": {},
     "output_type": "display_data"
    }
   ],
   "source": [
    "plt.scatter(u[:,0], u[:,1], c=Data['Label'], cmap='coolwarm')"
   ]
  }
 ],
 "metadata": {
  "kernelspec": {
   "display_name": "Python 3 (ipykernel)",
   "language": "python",
   "name": "python3"
  },
  "language_info": {
   "codemirror_mode": {
    "name": "ipython",
    "version": 3
   },
   "file_extension": ".py",
   "mimetype": "text/x-python",
   "name": "python",
   "nbconvert_exporter": "python",
   "pygments_lexer": "ipython3",
   "version": "3.9.7"
  }
 },
 "nbformat": 4,
 "nbformat_minor": 5
}
