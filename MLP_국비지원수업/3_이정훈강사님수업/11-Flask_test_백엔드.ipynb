{
 "cells": [
  {
   "cell_type": "markdown",
   "id": "fe5e88bd",
   "metadata": {},
   "source": [
    "# 환자 데이터 일부를 table 형태로 Return 해주는 기능 만들기"
   ]
  },
  {
   "cell_type": "code",
   "execution_count": 1,
   "id": "52eda7c1",
   "metadata": {},
   "outputs": [],
   "source": [
    "from flask import Flask\n",
    "from flask import request\n",
    "\n",
    "import pandas as pd\n",
    "app = Flask(__name__)"
   ]
  },
  {
   "cell_type": "code",
   "execution_count": 2,
   "id": "b1048124",
   "metadata": {
    "scrolled": true
   },
   "outputs": [
    {
     "data": {
      "text/html": [
       "<div>\n",
       "<style scoped>\n",
       "    .dataframe tbody tr th:only-of-type {\n",
       "        vertical-align: middle;\n",
       "    }\n",
       "\n",
       "    .dataframe tbody tr th {\n",
       "        vertical-align: top;\n",
       "    }\n",
       "\n",
       "    .dataframe thead th {\n",
       "        text-align: right;\n",
       "    }\n",
       "</style>\n",
       "<table border=\"1\" class=\"dataframe\">\n",
       "  <thead>\n",
       "    <tr style=\"text-align: right;\">\n",
       "      <th></th>\n",
       "      <th>Relapse</th>\n",
       "      <th>CEA_Post</th>\n",
       "      <th>Lymphatic</th>\n",
       "      <th>Vascular</th>\n",
       "      <th>pStage</th>\n",
       "      <th>pT</th>\n",
       "      <th>pN</th>\n",
       "      <th>Perineural</th>\n",
       "      <th>Age</th>\n",
       "    </tr>\n",
       "  </thead>\n",
       "  <tbody>\n",
       "    <tr>\n",
       "      <th>0</th>\n",
       "      <td>0</td>\n",
       "      <td>0.0</td>\n",
       "      <td>0</td>\n",
       "      <td>0</td>\n",
       "      <td>4</td>\n",
       "      <td>2</td>\n",
       "      <td>2</td>\n",
       "      <td>0</td>\n",
       "      <td>73</td>\n",
       "    </tr>\n",
       "    <tr>\n",
       "      <th>1</th>\n",
       "      <td>0</td>\n",
       "      <td>1.2</td>\n",
       "      <td>1</td>\n",
       "      <td>0</td>\n",
       "      <td>4</td>\n",
       "      <td>2</td>\n",
       "      <td>2</td>\n",
       "      <td>1</td>\n",
       "      <td>73</td>\n",
       "    </tr>\n",
       "    <tr>\n",
       "      <th>2</th>\n",
       "      <td>1</td>\n",
       "      <td>1.8</td>\n",
       "      <td>1</td>\n",
       "      <td>0</td>\n",
       "      <td>4</td>\n",
       "      <td>1</td>\n",
       "      <td>2</td>\n",
       "      <td>0</td>\n",
       "      <td>53</td>\n",
       "    </tr>\n",
       "    <tr>\n",
       "      <th>3</th>\n",
       "      <td>0</td>\n",
       "      <td>0.0</td>\n",
       "      <td>1</td>\n",
       "      <td>0</td>\n",
       "      <td>4</td>\n",
       "      <td>2</td>\n",
       "      <td>2</td>\n",
       "      <td>0</td>\n",
       "      <td>57</td>\n",
       "    </tr>\n",
       "    <tr>\n",
       "      <th>4</th>\n",
       "      <td>1</td>\n",
       "      <td>52.0</td>\n",
       "      <td>1</td>\n",
       "      <td>1</td>\n",
       "      <td>6</td>\n",
       "      <td>4</td>\n",
       "      <td>3</td>\n",
       "      <td>0</td>\n",
       "      <td>65</td>\n",
       "    </tr>\n",
       "  </tbody>\n",
       "</table>\n",
       "</div>"
      ],
      "text/plain": [
       "   Relapse  CEA_Post  Lymphatic  Vascular  pStage  pT  pN  Perineural  Age\n",
       "0        0       0.0          0         0       4   2   2           0   73\n",
       "1        0       1.2          1         0       4   2   2           1   73\n",
       "2        1       1.8          1         0       4   1   2           0   53\n",
       "3        0       0.0          1         0       4   2   2           0   57\n",
       "4        1      52.0          1         1       6   4   3           0   65"
      ]
     },
     "execution_count": 2,
     "metadata": {},
     "output_type": "execute_result"
    }
   ],
   "source": [
    "# 데이터 읽어들이기\n",
    "Data = pd.read_csv(\"Train.csv\")\n",
    "Data.head()"
   ]
  },
  {
   "cell_type": "code",
   "execution_count": 3,
   "id": "a9218c6c",
   "metadata": {},
   "outputs": [
    {
     "data": {
      "text/plain": [
       "'<table border=\"1\" class=\"dataframe\">\\n  <thead>\\n    <tr style=\"text-align: right;\">\\n      <th></th>\\n      <th>Relapse</th>\\n      <th>CEA_Post</th>\\n      <th>Lymphatic</th>\\n      <th>Vascular</th>\\n      <th>pStage</th>\\n      <th>pT</th>\\n      <th>pN</th>\\n      <th>Perineural</th>\\n      <th>Age</th>\\n    </tr>\\n  </thead>\\n  <tbody>\\n    <tr>\\n      <th>0</th>\\n      <td>0</td>\\n      <td>0.0</td>\\n      <td>0</td>\\n      <td>0</td>\\n      <td>4</td>\\n      <td>2</td>\\n      <td>2</td>\\n      <td>0</td>\\n      <td>73</td>\\n    </tr>\\n    <tr>\\n      <th>1</th>\\n      <td>0</td>\\n      <td>1.2</td>\\n      <td>1</td>\\n      <td>0</td>\\n      <td>4</td>\\n      <td>2</td>\\n      <td>2</td>\\n      <td>1</td>\\n      <td>73</td>\\n    </tr>\\n    <tr>\\n      <th>2</th>\\n      <td>1</td>\\n      <td>1.8</td>\\n      <td>1</td>\\n      <td>0</td>\\n      <td>4</td>\\n      <td>1</td>\\n      <td>2</td>\\n      <td>0</td>\\n      <td>53</td>\\n    </tr>\\n    <tr>\\n      <th>3</th>\\n      <td>0</td>\\n      <td>0.0</td>\\n      <td>1</td>\\n      <td>0</td>\\n      <td>4</td>\\n      <td>2</td>\\n      <td>2</td>\\n      <td>0</td>\\n      <td>57</td>\\n    </tr>\\n    <tr>\\n      <th>4</th>\\n      <td>1</td>\\n      <td>52.0</td>\\n      <td>1</td>\\n      <td>1</td>\\n      <td>6</td>\\n      <td>4</td>\\n      <td>3</td>\\n      <td>0</td>\\n      <td>65</td>\\n    </tr>\\n  </tbody>\\n</table>'"
      ]
     },
     "execution_count": 3,
     "metadata": {},
     "output_type": "execute_result"
    }
   ],
   "source": [
    "Data.head().to_html() # html 테이블 형태로 변환해줌"
   ]
  },
  {
   "cell_type": "markdown",
   "id": "b9f354d1",
   "metadata": {},
   "source": [
    "# FLASK API 구현"
   ]
  },
  {
   "cell_type": "code",
   "execution_count": 4,
   "id": "cd6c3ed7",
   "metadata": {},
   "outputs": [],
   "source": [
    "# FLASK API 생성 예제 1\n",
    "@app.route(\"/getPatientInfo\", methods=['GET','POST'])\n",
    "def getPatientInfo():\n",
    "    # URL 변수로 들어오는 것, 받기\n",
    "    PatientID = int(request.args.get('id'))\n",
    "    if PatientID < 0 or PatientID >= Data.shape[0]:\n",
    "        return \"There is no patient information with that ID.\"\n",
    "    else:\n",
    "        # HTML table 형태로 변환하여 return\n",
    "        return pd.DataFrame(Data.loc[PatientID]).to_html()"
   ]
  },
  {
   "cell_type": "code",
   "execution_count": 5,
   "id": "aff94150",
   "metadata": {},
   "outputs": [],
   "source": [
    "# FLASK API 생성 예제 2\n",
    "@app.route(\"/getPatientInfo2\", methods=['GET','POST'])\n",
    "def getPatientInfo_from_to():\n",
    "    \n",
    "    # URL 변수로 들어오는 것 받기\n",
    "    PatientID_from = int(request.args.get('from'))\n",
    "    PatientID_to = int(request.args.get('to'))\n",
    "    \n",
    "    # 간단한 예외처리\n",
    "    if PatientID_from < 0 or PatientID_from >= Data.shape[0]:\n",
    "        return \"There is no patient information with that ID.\"\n",
    "    \n",
    "    if PatientID_to   < 0 or PatientID_to   >= Data.shape[0]:\n",
    "        return \"There is no patient information with that ID.\"\n",
    "    \n",
    "    if PatientID_to < PatientID_from:\n",
    "        PatientID_to, PatientID_from = PatientID_from, PatientID_to\n",
    "    \n",
    "    return Data.loc[PatientID_from:PatientID_to].to_html()"
   ]
  },
  {
   "cell_type": "markdown",
   "id": "7928ecbd",
   "metadata": {},
   "source": [
    "# API 작동"
   ]
  },
  {
   "cell_type": "code",
   "execution_count": 6,
   "id": "179dc1ea",
   "metadata": {
    "scrolled": true
   },
   "outputs": [
    {
     "name": "stdout",
     "output_type": "stream",
     "text": [
      " * Serving Flask app \"__main__\" (lazy loading)\n",
      " * Environment: production\n",
      "\u001b[31m   WARNING: This is a development server. Do not use it in a production deployment.\u001b[0m\n",
      "\u001b[2m   Use a production WSGI server instead.\u001b[0m\n",
      " * Debug mode: off\n"
     ]
    },
    {
     "name": "stderr",
     "output_type": "stream",
     "text": [
      " * Running on http://127.0.0.1:5000/ (Press CTRL+C to quit)\n",
      "127.0.0.1 - - [09/May/2022 14:25:15] \"GET /getPatientInfo?id=0 HTTP/1.1\" 200 -\n",
      "127.0.0.1 - - [09/May/2022 14:25:15] \"GET /favicon.ico HTTP/1.1\" 404 -\n",
      "127.0.0.1 - - [09/May/2022 14:25:25] \"GET /getPatientInfo2?from=0&to=3 HTTP/1.1\" 200 -\n"
     ]
    }
   ],
   "source": [
    "app.run(host='127.0.0.1', port=5000)"
   ]
  },
  {
   "cell_type": "markdown",
   "id": "283b4611",
   "metadata": {},
   "source": [
    "# 실험해보기"
   ]
  },
  {
   "cell_type": "code",
   "execution_count": null,
   "id": "2e4954ee",
   "metadata": {},
   "outputs": [],
   "source": [
    "# http://127.0.0.1:5000/getPatientInfo?id=0\n",
    "# http://127.0.0.1:5000/getPatientInfo2?from=0&to=3"
   ]
  }
 ],
 "metadata": {
  "kernelspec": {
   "display_name": "Python 3 (ipykernel)",
   "language": "python",
   "name": "python3"
  },
  "language_info": {
   "codemirror_mode": {
    "name": "ipython",
    "version": 3
   },
   "file_extension": ".py",
   "mimetype": "text/x-python",
   "name": "python",
   "nbconvert_exporter": "python",
   "pygments_lexer": "ipython3",
   "version": "3.9.7"
  }
 },
 "nbformat": 4,
 "nbformat_minor": 5
}
