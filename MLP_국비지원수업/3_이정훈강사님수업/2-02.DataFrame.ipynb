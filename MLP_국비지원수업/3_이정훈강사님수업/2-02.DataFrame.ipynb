{
 "cells": [
  {
   "cell_type": "code",
   "execution_count": 1,
   "id": "f479e8c9",
   "metadata": {},
   "outputs": [],
   "source": [
    "import pandas as pd"
   ]
  },
  {
   "cell_type": "markdown",
   "id": "831b20e5",
   "metadata": {},
   "source": [
    "https://www.google.com/search?q=python+read+csv"
   ]
  },
  {
   "cell_type": "code",
   "execution_count": 2,
   "id": "fc804b4c",
   "metadata": {},
   "outputs": [
    {
     "data": {
      "text/html": [
       "<div>\n",
       "<style scoped>\n",
       "    .dataframe tbody tr th:only-of-type {\n",
       "        vertical-align: middle;\n",
       "    }\n",
       "\n",
       "    .dataframe tbody tr th {\n",
       "        vertical-align: top;\n",
       "    }\n",
       "\n",
       "    .dataframe thead th {\n",
       "        text-align: right;\n",
       "    }\n",
       "</style>\n",
       "<table border=\"1\" class=\"dataframe\">\n",
       "  <thead>\n",
       "    <tr style=\"text-align: right;\">\n",
       "      <th></th>\n",
       "      <th>Relapse</th>\n",
       "      <th>CEA_Post</th>\n",
       "      <th>Lymphatic</th>\n",
       "      <th>Vascular</th>\n",
       "      <th>pStage</th>\n",
       "      <th>pT</th>\n",
       "      <th>pN</th>\n",
       "      <th>Perineural</th>\n",
       "      <th>Age</th>\n",
       "    </tr>\n",
       "  </thead>\n",
       "  <tbody>\n",
       "    <tr>\n",
       "      <th>0</th>\n",
       "      <td>0</td>\n",
       "      <td>0.0</td>\n",
       "      <td>0</td>\n",
       "      <td>0</td>\n",
       "      <td>4</td>\n",
       "      <td>2</td>\n",
       "      <td>2</td>\n",
       "      <td>0</td>\n",
       "      <td>73</td>\n",
       "    </tr>\n",
       "    <tr>\n",
       "      <th>1</th>\n",
       "      <td>0</td>\n",
       "      <td>1.2</td>\n",
       "      <td>1</td>\n",
       "      <td>0</td>\n",
       "      <td>4</td>\n",
       "      <td>2</td>\n",
       "      <td>2</td>\n",
       "      <td>1</td>\n",
       "      <td>73</td>\n",
       "    </tr>\n",
       "    <tr>\n",
       "      <th>2</th>\n",
       "      <td>1</td>\n",
       "      <td>1.8</td>\n",
       "      <td>1</td>\n",
       "      <td>0</td>\n",
       "      <td>4</td>\n",
       "      <td>1</td>\n",
       "      <td>2</td>\n",
       "      <td>0</td>\n",
       "      <td>53</td>\n",
       "    </tr>\n",
       "    <tr>\n",
       "      <th>3</th>\n",
       "      <td>0</td>\n",
       "      <td>0.0</td>\n",
       "      <td>1</td>\n",
       "      <td>0</td>\n",
       "      <td>4</td>\n",
       "      <td>2</td>\n",
       "      <td>2</td>\n",
       "      <td>0</td>\n",
       "      <td>57</td>\n",
       "    </tr>\n",
       "    <tr>\n",
       "      <th>4</th>\n",
       "      <td>1</td>\n",
       "      <td>52.0</td>\n",
       "      <td>1</td>\n",
       "      <td>1</td>\n",
       "      <td>6</td>\n",
       "      <td>4</td>\n",
       "      <td>3</td>\n",
       "      <td>0</td>\n",
       "      <td>65</td>\n",
       "    </tr>\n",
       "    <tr>\n",
       "      <th>...</th>\n",
       "      <td>...</td>\n",
       "      <td>...</td>\n",
       "      <td>...</td>\n",
       "      <td>...</td>\n",
       "      <td>...</td>\n",
       "      <td>...</td>\n",
       "      <td>...</td>\n",
       "      <td>...</td>\n",
       "      <td>...</td>\n",
       "    </tr>\n",
       "    <tr>\n",
       "      <th>387</th>\n",
       "      <td>0</td>\n",
       "      <td>1.7</td>\n",
       "      <td>0</td>\n",
       "      <td>0</td>\n",
       "      <td>4</td>\n",
       "      <td>3</td>\n",
       "      <td>2</td>\n",
       "      <td>0</td>\n",
       "      <td>57</td>\n",
       "    </tr>\n",
       "    <tr>\n",
       "      <th>388</th>\n",
       "      <td>0</td>\n",
       "      <td>4.1</td>\n",
       "      <td>0</td>\n",
       "      <td>0</td>\n",
       "      <td>4</td>\n",
       "      <td>4</td>\n",
       "      <td>1</td>\n",
       "      <td>0</td>\n",
       "      <td>63</td>\n",
       "    </tr>\n",
       "    <tr>\n",
       "      <th>389</th>\n",
       "      <td>0</td>\n",
       "      <td>2.2</td>\n",
       "      <td>1</td>\n",
       "      <td>0</td>\n",
       "      <td>5</td>\n",
       "      <td>2</td>\n",
       "      <td>3</td>\n",
       "      <td>0</td>\n",
       "      <td>63</td>\n",
       "    </tr>\n",
       "    <tr>\n",
       "      <th>390</th>\n",
       "      <td>0</td>\n",
       "      <td>5.2</td>\n",
       "      <td>0</td>\n",
       "      <td>0</td>\n",
       "      <td>4</td>\n",
       "      <td>1</td>\n",
       "      <td>2</td>\n",
       "      <td>0</td>\n",
       "      <td>57</td>\n",
       "    </tr>\n",
       "    <tr>\n",
       "      <th>391</th>\n",
       "      <td>1</td>\n",
       "      <td>2.8</td>\n",
       "      <td>1</td>\n",
       "      <td>0</td>\n",
       "      <td>4</td>\n",
       "      <td>1</td>\n",
       "      <td>2</td>\n",
       "      <td>0</td>\n",
       "      <td>52</td>\n",
       "    </tr>\n",
       "  </tbody>\n",
       "</table>\n",
       "<p>392 rows × 9 columns</p>\n",
       "</div>"
      ],
      "text/plain": [
       "     Relapse  CEA_Post  Lymphatic  Vascular  pStage  pT pN  Perineural Age\n",
       "0          0       0.0          0         0       4   2  2           0  73\n",
       "1          0       1.2          1         0       4   2  2           1  73\n",
       "2          1       1.8          1         0       4   1  2           0  53\n",
       "3          0       0.0          1         0       4   2  2           0  57\n",
       "4          1      52.0          1         1       6   4  3           0  65\n",
       "..       ...       ...        ...       ...     ...  .. ..         ...  ..\n",
       "387        0       1.7          0         0       4   3  2           0  57\n",
       "388        0       4.1          0         0       4   4  1           0  63\n",
       "389        0       2.2          1         0       5   2  3           0  63\n",
       "390        0       5.2          0         0       4   1  2           0  57\n",
       "391        1       2.8          1         0       4   1  2           0  52\n",
       "\n",
       "[392 rows x 9 columns]"
      ]
     },
     "execution_count": 2,
     "metadata": {},
     "output_type": "execute_result"
    }
   ],
   "source": [
    "#데이터 읽기\n",
    "pd.read_csv('Clinical.csv')"
   ]
  },
  {
   "cell_type": "code",
   "execution_count": 83,
   "id": "0c316527",
   "metadata": {},
   "outputs": [],
   "source": [
    "# csv 데이터 읽기\n",
    "Clinical = pd.read_csv('Clinical.csv')"
   ]
  },
  {
   "cell_type": "code",
   "execution_count": 4,
   "id": "e0d4dfa5",
   "metadata": {},
   "outputs": [
    {
     "data": {
      "text/html": [
       "<div>\n",
       "<style scoped>\n",
       "    .dataframe tbody tr th:only-of-type {\n",
       "        vertical-align: middle;\n",
       "    }\n",
       "\n",
       "    .dataframe tbody tr th {\n",
       "        vertical-align: top;\n",
       "    }\n",
       "\n",
       "    .dataframe thead th {\n",
       "        text-align: right;\n",
       "    }\n",
       "</style>\n",
       "<table border=\"1\" class=\"dataframe\">\n",
       "  <thead>\n",
       "    <tr style=\"text-align: right;\">\n",
       "      <th></th>\n",
       "      <th>Relapse</th>\n",
       "      <th>CEA_Post</th>\n",
       "      <th>Lymphatic</th>\n",
       "      <th>Vascular</th>\n",
       "      <th>pStage</th>\n",
       "      <th>pT</th>\n",
       "      <th>pN</th>\n",
       "      <th>Perineural</th>\n",
       "      <th>Age</th>\n",
       "    </tr>\n",
       "  </thead>\n",
       "  <tbody>\n",
       "    <tr>\n",
       "      <th>0</th>\n",
       "      <td>0</td>\n",
       "      <td>0.0</td>\n",
       "      <td>0</td>\n",
       "      <td>0</td>\n",
       "      <td>4</td>\n",
       "      <td>2</td>\n",
       "      <td>2</td>\n",
       "      <td>0</td>\n",
       "      <td>73</td>\n",
       "    </tr>\n",
       "    <tr>\n",
       "      <th>1</th>\n",
       "      <td>0</td>\n",
       "      <td>1.2</td>\n",
       "      <td>1</td>\n",
       "      <td>0</td>\n",
       "      <td>4</td>\n",
       "      <td>2</td>\n",
       "      <td>2</td>\n",
       "      <td>1</td>\n",
       "      <td>73</td>\n",
       "    </tr>\n",
       "    <tr>\n",
       "      <th>2</th>\n",
       "      <td>1</td>\n",
       "      <td>1.8</td>\n",
       "      <td>1</td>\n",
       "      <td>0</td>\n",
       "      <td>4</td>\n",
       "      <td>1</td>\n",
       "      <td>2</td>\n",
       "      <td>0</td>\n",
       "      <td>53</td>\n",
       "    </tr>\n",
       "    <tr>\n",
       "      <th>3</th>\n",
       "      <td>0</td>\n",
       "      <td>0.0</td>\n",
       "      <td>1</td>\n",
       "      <td>0</td>\n",
       "      <td>4</td>\n",
       "      <td>2</td>\n",
       "      <td>2</td>\n",
       "      <td>0</td>\n",
       "      <td>57</td>\n",
       "    </tr>\n",
       "    <tr>\n",
       "      <th>4</th>\n",
       "      <td>1</td>\n",
       "      <td>52.0</td>\n",
       "      <td>1</td>\n",
       "      <td>1</td>\n",
       "      <td>6</td>\n",
       "      <td>4</td>\n",
       "      <td>3</td>\n",
       "      <td>0</td>\n",
       "      <td>65</td>\n",
       "    </tr>\n",
       "  </tbody>\n",
       "</table>\n",
       "</div>"
      ],
      "text/plain": [
       "   Relapse  CEA_Post  Lymphatic  Vascular  pStage  pT pN  Perineural Age\n",
       "0        0       0.0          0         0       4   2  2           0  73\n",
       "1        0       1.2          1         0       4   2  2           1  73\n",
       "2        1       1.8          1         0       4   1  2           0  53\n",
       "3        0       0.0          1         0       4   2  2           0  57\n",
       "4        1      52.0          1         1       6   4  3           0  65"
      ]
     },
     "execution_count": 4,
     "metadata": {},
     "output_type": "execute_result"
    }
   ],
   "source": [
    "# 데이터 윗부분 보기\n",
    "Clinical.head()"
   ]
  },
  {
   "cell_type": "code",
   "execution_count": 5,
   "id": "d47ae617",
   "metadata": {},
   "outputs": [
    {
     "name": "stdout",
     "output_type": "stream",
     "text": [
      "<class 'pandas.core.frame.DataFrame'>\n",
      "RangeIndex: 392 entries, 0 to 391\n",
      "Data columns (total 9 columns):\n",
      " #   Column      Non-Null Count  Dtype  \n",
      "---  ------      --------------  -----  \n",
      " 0   Relapse     392 non-null    int64  \n",
      " 1   CEA_Post    392 non-null    float64\n",
      " 2   Lymphatic   392 non-null    int64  \n",
      " 3   Vascular    392 non-null    int64  \n",
      " 4   pStage      392 non-null    int64  \n",
      " 5   pT          392 non-null    int64  \n",
      " 6   pN          392 non-null    object \n",
      " 7   Perineural  392 non-null    int64  \n",
      " 8   Age         392 non-null    object \n",
      "dtypes: float64(1), int64(6), object(2)\n",
      "memory usage: 27.7+ KB\n"
     ]
    }
   ],
   "source": [
    "# 데이터 정보 보기\n",
    "Clinical.info()"
   ]
  },
  {
   "cell_type": "markdown",
   "id": "26cd0127",
   "metadata": {},
   "source": [
    "<h2>여기서 이상한 것들이 있음.</h2>\n",
    "1. pN (N-stage) 는 왜 int64로 안읽혀졌을까? <br>\n",
    "2. Age는 분명 숫자여야할 것 같은데, object라고 되어있음<br>"
   ]
  },
  {
   "cell_type": "code",
   "execution_count": 6,
   "id": "b109b486",
   "metadata": {},
   "outputs": [
    {
     "data": {
      "text/html": [
       "<div>\n",
       "<style scoped>\n",
       "    .dataframe tbody tr th:only-of-type {\n",
       "        vertical-align: middle;\n",
       "    }\n",
       "\n",
       "    .dataframe tbody tr th {\n",
       "        vertical-align: top;\n",
       "    }\n",
       "\n",
       "    .dataframe thead th {\n",
       "        text-align: right;\n",
       "    }\n",
       "</style>\n",
       "<table border=\"1\" class=\"dataframe\">\n",
       "  <thead>\n",
       "    <tr style=\"text-align: right;\">\n",
       "      <th></th>\n",
       "      <th>Relapse</th>\n",
       "      <th>CEA_Post</th>\n",
       "      <th>Lymphatic</th>\n",
       "      <th>Vascular</th>\n",
       "      <th>pStage</th>\n",
       "      <th>pT</th>\n",
       "      <th>Perineural</th>\n",
       "    </tr>\n",
       "  </thead>\n",
       "  <tbody>\n",
       "    <tr>\n",
       "      <th>count</th>\n",
       "      <td>392.000000</td>\n",
       "      <td>392.000000</td>\n",
       "      <td>392.000000</td>\n",
       "      <td>392.000000</td>\n",
       "      <td>392.000000</td>\n",
       "      <td>392.000000</td>\n",
       "      <td>392.000000</td>\n",
       "    </tr>\n",
       "    <tr>\n",
       "      <th>mean</th>\n",
       "      <td>0.420918</td>\n",
       "      <td>11.491327</td>\n",
       "      <td>0.681122</td>\n",
       "      <td>0.454082</td>\n",
       "      <td>4.216837</td>\n",
       "      <td>2.640306</td>\n",
       "      <td>0.114796</td>\n",
       "    </tr>\n",
       "    <tr>\n",
       "      <th>std</th>\n",
       "      <td>0.494337</td>\n",
       "      <td>52.816959</td>\n",
       "      <td>0.466637</td>\n",
       "      <td>0.498523</td>\n",
       "      <td>1.126941</td>\n",
       "      <td>1.222428</td>\n",
       "      <td>0.319183</td>\n",
       "    </tr>\n",
       "    <tr>\n",
       "      <th>min</th>\n",
       "      <td>0.000000</td>\n",
       "      <td>0.000000</td>\n",
       "      <td>0.000000</td>\n",
       "      <td>0.000000</td>\n",
       "      <td>2.000000</td>\n",
       "      <td>1.000000</td>\n",
       "      <td>0.000000</td>\n",
       "    </tr>\n",
       "    <tr>\n",
       "      <th>25%</th>\n",
       "      <td>0.000000</td>\n",
       "      <td>1.400000</td>\n",
       "      <td>0.000000</td>\n",
       "      <td>0.000000</td>\n",
       "      <td>4.000000</td>\n",
       "      <td>2.000000</td>\n",
       "      <td>0.000000</td>\n",
       "    </tr>\n",
       "    <tr>\n",
       "      <th>50%</th>\n",
       "      <td>0.000000</td>\n",
       "      <td>2.300000</td>\n",
       "      <td>1.000000</td>\n",
       "      <td>0.000000</td>\n",
       "      <td>4.000000</td>\n",
       "      <td>2.000000</td>\n",
       "      <td>0.000000</td>\n",
       "    </tr>\n",
       "    <tr>\n",
       "      <th>75%</th>\n",
       "      <td>1.000000</td>\n",
       "      <td>4.300000</td>\n",
       "      <td>1.000000</td>\n",
       "      <td>1.000000</td>\n",
       "      <td>5.000000</td>\n",
       "      <td>4.000000</td>\n",
       "      <td>0.000000</td>\n",
       "    </tr>\n",
       "    <tr>\n",
       "      <th>max</th>\n",
       "      <td>1.000000</td>\n",
       "      <td>723.000000</td>\n",
       "      <td>1.000000</td>\n",
       "      <td>1.000000</td>\n",
       "      <td>6.000000</td>\n",
       "      <td>5.000000</td>\n",
       "      <td>1.000000</td>\n",
       "    </tr>\n",
       "  </tbody>\n",
       "</table>\n",
       "</div>"
      ],
      "text/plain": [
       "          Relapse    CEA_Post   Lymphatic    Vascular      pStage          pT  \\\n",
       "count  392.000000  392.000000  392.000000  392.000000  392.000000  392.000000   \n",
       "mean     0.420918   11.491327    0.681122    0.454082    4.216837    2.640306   \n",
       "std      0.494337   52.816959    0.466637    0.498523    1.126941    1.222428   \n",
       "min      0.000000    0.000000    0.000000    0.000000    2.000000    1.000000   \n",
       "25%      0.000000    1.400000    0.000000    0.000000    4.000000    2.000000   \n",
       "50%      0.000000    2.300000    1.000000    0.000000    4.000000    2.000000   \n",
       "75%      1.000000    4.300000    1.000000    1.000000    5.000000    4.000000   \n",
       "max      1.000000  723.000000    1.000000    1.000000    6.000000    5.000000   \n",
       "\n",
       "       Perineural  \n",
       "count  392.000000  \n",
       "mean     0.114796  \n",
       "std      0.319183  \n",
       "min      0.000000  \n",
       "25%      0.000000  \n",
       "50%      0.000000  \n",
       "75%      0.000000  \n",
       "max      1.000000  "
      ]
     },
     "execution_count": 6,
     "metadata": {},
     "output_type": "execute_result"
    }
   ],
   "source": [
    "# Generate descriptive statistics.\n",
    "# 데이터 통계내기\n",
    "Clinical.describe() # 평균, 중앙값, 75% 분위수 값 등을 보고 정규분포가 아닌걸 알아야한다."
   ]
  },
  {
   "cell_type": "markdown",
   "id": "b3f99dfb",
   "metadata": {},
   "source": [
    "평균, 표준편차, Quantile (최소, 25%, 50%, 75%, 최대 출력) 에 출력이 안되는 변수가 Age..<br>\n",
    "Age는 나와야할 것 같은데?<br>\n",
    "Categorical 변수가 0 / 1 숫자로 인지되어야 한다면, pN도 출력되어야할 것 같은데...<br>"
   ]
  },
  {
   "cell_type": "code",
   "execution_count": 7,
   "id": "46758d68",
   "metadata": {},
   "outputs": [
    {
     "data": {
      "text/plain": [
       "0    227\n",
       "1    165\n",
       "Name: Relapse, dtype: int64"
      ]
     },
     "execution_count": 7,
     "metadata": {},
     "output_type": "execute_result"
    }
   ],
   "source": [
    "#Series 데이터에서 Count 변수 출력\n",
    "Clinical['Relapse'].value_counts()"
   ]
  },
  {
   "cell_type": "code",
   "execution_count": 8,
   "id": "15a75dff",
   "metadata": {
    "scrolled": true
   },
   "outputs": [
    {
     "data": {
      "text/plain": [
       "<AxesSubplot:ylabel='Density'>"
      ]
     },
     "execution_count": 8,
     "metadata": {},
     "output_type": "execute_result"
    },
    {
     "data": {
      "image/png": "[encoded data removed]",
      "text/plain": [
       "<Figure size 432x288 with 1 Axes>"
      ]
     },
     "metadata": {
      "needs_background": "light"
     },
     "output_type": "display_data"
    }
   ],
   "source": [
    "# CEA_Post는 연속형 변수였으므로, density로 보기\n",
    "Clinical['CEA_Post'].plot.density() # 엉망 그래프로 나온다"
   ]
  },
  {
   "cell_type": "code",
   "execution_count": 74,
   "id": "6e8288bd",
   "metadata": {
    "scrolled": true
   },
   "outputs": [
    {
     "data": {
      "text/plain": [
       "<AxesSubplot:ylabel='Density'>"
      ]
     },
     "execution_count": 74,
     "metadata": {},
     "output_type": "execute_result"
    },
    {
     "data": {
      "image/png": "[encoded data removed]",
      "text/plain": [
       "<Figure size 432x288 with 1 Axes>"
      ]
     },
     "metadata": {
      "needs_background": "light"
     },
     "output_type": "display_data"
    }
   ],
   "source": [
    "np.log(Clinical['CEA_Post'] + 1).plot.density() # 소수의 큰값들 때문에 로그를 치해줌"
   ]
  },
  {
   "cell_type": "code",
   "execution_count": 75,
   "id": "43675276",
   "metadata": {},
   "outputs": [
    {
     "data": {
      "text/plain": [
       "<AxesSubplot:>"
      ]
     },
     "execution_count": 75,
     "metadata": {},
     "output_type": "execute_result"
    },
    {
     "data": {
      "image/png": "[encoded data removed]",
      "text/plain": [
       "<Figure size 432x288 with 1 Axes>"
      ]
     },
     "metadata": {
      "needs_background": "light"
     },
     "output_type": "display_data"
    }
   ],
   "source": [
    "np.log(Clinical['CEA_Post'] + 1).plot.box()"
   ]
  },
  {
   "cell_type": "code",
   "execution_count": 9,
   "id": "25a757d7",
   "metadata": {},
   "outputs": [
    {
     "data": {
      "text/plain": [
       "count    392.000000\n",
       "mean      11.491327\n",
       "std       52.816959\n",
       "min        0.000000\n",
       "25%        1.400000\n",
       "50%        2.300000\n",
       "75%        4.300000\n",
       "max      723.000000\n",
       "Name: CEA_Post, dtype: float64"
      ]
     },
     "execution_count": 9,
     "metadata": {},
     "output_type": "execute_result"
    }
   ],
   "source": [
    "# 혈청암배항원 값\n",
    "Clinical['CEA_Post'].describe()"
   ]
  },
  {
   "cell_type": "markdown",
   "id": "7fbacf0b",
   "metadata": {},
   "source": [
    "예제로서 다루는 의료 데이터기 때문에, CEA_Post의 의미를 모르지만..<br>\n",
    "이 데이터를 실제로 분석하는 사람은 CEA_Post의 뜻을 암.<br>\n",
    "<br>\n",
    "따라서 최대 / 최소값이 0, 723이라는 수치를 가지는데 이게 실제로 존재할 수 있는 값인지? 등을 이해해야함<br>"
   ]
  },
  {
   "cell_type": "code",
   "execution_count": 10,
   "id": "340cdc7b",
   "metadata": {},
   "outputs": [
    {
     "data": {
      "text/plain": [
       "0      0\n",
       "1      1\n",
       "2      1\n",
       "3      1\n",
       "4      1\n",
       "      ..\n",
       "387    0\n",
       "388    0\n",
       "389    1\n",
       "390    0\n",
       "391    1\n",
       "Name: Lymphatic, Length: 392, dtype: int64"
      ]
     },
     "execution_count": 10,
     "metadata": {},
     "output_type": "execute_result"
    }
   ],
   "source": [
    "# Lymphatic 데이터\n",
    "Clinical['Lymphatic']"
   ]
  },
  {
   "cell_type": "code",
   "execution_count": 11,
   "id": "9444893b",
   "metadata": {},
   "outputs": [
    {
     "data": {
      "text/plain": [
       "1    267\n",
       "0    125\n",
       "Name: Lymphatic, dtype: int64"
      ]
     },
     "execution_count": 11,
     "metadata": {},
     "output_type": "execute_result"
    }
   ],
   "source": [
    "# count 데이터 출력\n",
    "Clinical['Lymphatic'].value_counts()"
   ]
  },
  {
   "cell_type": "code",
   "execution_count": 12,
   "id": "02ccbf8e",
   "metadata": {},
   "outputs": [
    {
     "data": {
      "text/plain": [
       "0      0\n",
       "1      0\n",
       "2      0\n",
       "3      0\n",
       "4      1\n",
       "      ..\n",
       "387    0\n",
       "388    0\n",
       "389    0\n",
       "390    0\n",
       "391    0\n",
       "Name: Vascular, Length: 392, dtype: int64"
      ]
     },
     "execution_count": 12,
     "metadata": {},
     "output_type": "execute_result"
    }
   ],
   "source": [
    "# Vascular invasion 역시 count data.\n",
    "Clinical['Vascular']"
   ]
  },
  {
   "cell_type": "code",
   "execution_count": 13,
   "id": "80f7c1dd",
   "metadata": {},
   "outputs": [
    {
     "data": {
      "text/plain": [
       "0    214\n",
       "1    178\n",
       "Name: Vascular, dtype: int64"
      ]
     },
     "execution_count": 13,
     "metadata": {},
     "output_type": "execute_result"
    }
   ],
   "source": [
    "# count data 형태로 출력\n",
    "Clinical['Vascular'].value_counts()"
   ]
  },
  {
   "cell_type": "code",
   "execution_count": 14,
   "id": "e232c6d0",
   "metadata": {},
   "outputs": [
    {
     "data": {
      "text/plain": [
       "0      4\n",
       "1      4\n",
       "2      4\n",
       "3      4\n",
       "4      6\n",
       "      ..\n",
       "387    4\n",
       "388    4\n",
       "389    5\n",
       "390    4\n",
       "391    4\n",
       "Name: pStage, Length: 392, dtype: int64"
      ]
     },
     "execution_count": 14,
     "metadata": {},
     "output_type": "execute_result"
    }
   ],
   "source": [
    "# stage 출력.. 이 역시 categorical 데이터로 보임\n",
    "Clinical['pStage']"
   ]
  },
  {
   "cell_type": "code",
   "execution_count": 15,
   "id": "6204c3be",
   "metadata": {},
   "outputs": [
    {
     "data": {
      "text/plain": [
       "4    150\n",
       "5    137\n",
       "2     55\n",
       "6     36\n",
       "3     14\n",
       "Name: pStage, dtype: int64"
      ]
     },
     "execution_count": 15,
     "metadata": {},
     "output_type": "execute_result"
    }
   ],
   "source": [
    "# pStage 역시 categorical data이므로, count 출력\n",
    "Clinical['pStage'].value_counts()"
   ]
  },
  {
   "cell_type": "code",
   "execution_count": 16,
   "id": "9b86bf32",
   "metadata": {},
   "outputs": [
    {
     "data": {
      "text/plain": [
       "0      2\n",
       "1      2\n",
       "2      1\n",
       "3      2\n",
       "4      4\n",
       "      ..\n",
       "387    3\n",
       "388    4\n",
       "389    2\n",
       "390    1\n",
       "391    1\n",
       "Name: pT, Length: 392, dtype: int64"
      ]
     },
     "execution_count": 16,
     "metadata": {},
     "output_type": "execute_result"
    }
   ],
   "source": [
    "# pT 또한 count data로 보임\n",
    "Clinical['pT']"
   ]
  },
  {
   "cell_type": "code",
   "execution_count": 17,
   "id": "026b2711",
   "metadata": {},
   "outputs": [
    {
     "data": {
      "text/plain": [
       "2    160\n",
       "4     91\n",
       "1     66\n",
       "3     45\n",
       "5     30\n",
       "Name: pT, dtype: int64"
      ]
     },
     "execution_count": 17,
     "metadata": {},
     "output_type": "execute_result"
    }
   ],
   "source": [
    "# count data로 출력\n",
    "Clinical['pT'].value_counts()"
   ]
  },
  {
   "cell_type": "code",
   "execution_count": 18,
   "id": "92dc2b44",
   "metadata": {},
   "outputs": [
    {
     "data": {
      "text/plain": [
       "0      2\n",
       "1      2\n",
       "2      2\n",
       "3      2\n",
       "4      3\n",
       "      ..\n",
       "387    2\n",
       "388    1\n",
       "389    3\n",
       "390    2\n",
       "391    2\n",
       "Name: pN, Length: 392, dtype: object"
      ]
     },
     "execution_count": 18,
     "metadata": {},
     "output_type": "execute_result"
    }
   ],
   "source": [
    "# pN 데이터: categorical 처럼 생김\n",
    "Clinical['pN']"
   ]
  },
  {
   "cell_type": "markdown",
   "id": "f10e8474",
   "metadata": {},
   "source": [
    "# pN에 문제가 있는것으로 보임"
   ]
  },
  {
   "cell_type": "code",
   "execution_count": 19,
   "id": "0f08a429",
   "metadata": {},
   "outputs": [
    {
     "data": {
      "text/plain": [
       "2    143\n",
       "3    123\n",
       "1    119\n",
       "b      3\n",
       "a      2\n",
       "c      2\n",
       "Name: pN, dtype: int64"
      ]
     },
     "execution_count": 19,
     "metadata": {},
     "output_type": "execute_result"
    }
   ],
   "source": [
    "Clinical['pN'].value_counts()"
   ]
  },
  {
   "cell_type": "code",
   "execution_count": 20,
   "id": "3ed4a9ec",
   "metadata": {},
   "outputs": [
    {
     "data": {
      "text/plain": [
       "366    b\n",
       "367    b\n",
       "370    b\n",
       "Name: pN, dtype: object"
      ]
     },
     "execution_count": 20,
     "metadata": {},
     "output_type": "execute_result"
    }
   ],
   "source": [
    "Clinical['pN'][Clinical['pN'] == 'b']"
   ]
  },
  {
   "cell_type": "code",
   "execution_count": 21,
   "id": "c8abd3dc",
   "metadata": {},
   "outputs": [
    {
     "name": "stderr",
     "output_type": "stream",
     "text": [
      "C:\\Users\\user\\AppData\\Local\\Temp/ipykernel_14004/502172234.py:1: SettingWithCopyWarning: \n",
      "A value is trying to be set on a copy of a slice from a DataFrame\n",
      "\n",
      "See the caveats in the documentation: https://pandas.pydata.org/pandas-docs/stable/user_guide/indexing.html#returning-a-view-versus-a-copy\n",
      "  Clinical['pN'][Clinical['pN'] == 'b'] = 2, 2, 2\n"
     ]
    }
   ],
   "source": [
    "Clinical['pN'][Clinical['pN'] == 'b'] = 2, 2, 2"
   ]
  },
  {
   "cell_type": "code",
   "execution_count": 22,
   "id": "32a216fc",
   "metadata": {},
   "outputs": [
    {
     "data": {
      "text/plain": [
       "2    143\n",
       "3    123\n",
       "1    119\n",
       "2      3\n",
       "a      2\n",
       "c      2\n",
       "Name: pN, dtype: int64"
      ]
     },
     "execution_count": 22,
     "metadata": {},
     "output_type": "execute_result"
    }
   ],
   "source": [
    "Clinical['pN'].value_counts()"
   ]
  },
  {
   "cell_type": "markdown",
   "id": "32352c04",
   "metadata": {},
   "source": [
    "# 왜 2가 2개인지??"
   ]
  },
  {
   "cell_type": "code",
   "execution_count": 23,
   "id": "669762c5",
   "metadata": {},
   "outputs": [
    {
     "data": {
      "text/plain": [
       "'2'"
      ]
     },
     "execution_count": 23,
     "metadata": {},
     "output_type": "execute_result"
    }
   ],
   "source": [
    "# 알고보니 '2', string 형태로 저장되었음.\n",
    "# 이유: 1, 2, 3 숫자 사이에 a, b가 있기 때문에..\n",
    "\n",
    "# data.frame은 기본적으로 데이터를 읽을 때 vector로서 접근함\n",
    "# python의 pandas에만 예외적으로 서로 다른 형태의 변수가 담기는 list가 기본형태의 변수이기 때문에\n",
    "# 한 column에 다양한 형태의 변수가 담길 수 있긴 한건데, 이것은 매우 잘못된 형태임\n",
    "\n",
    "# 근본적으로 python은 general programing language라는것 ㅠㅠ.\n",
    "\n",
    "# data.frame의 column은 개념적으로 모두 동일한 형태의 변수여야함\n",
    "# 그래야 통계, 분석, 시각화 등을 진행할 수 있음\n",
    "\n",
    "Clinical['pN'][1]"
   ]
  },
  {
   "cell_type": "code",
   "execution_count": 24,
   "id": "043a760a",
   "metadata": {},
   "outputs": [
    {
     "name": "stderr",
     "output_type": "stream",
     "text": [
      "C:\\Users\\user\\AppData\\Local\\Temp/ipykernel_14004/3592670066.py:2: SettingWithCopyWarning: \n",
      "A value is trying to be set on a copy of a slice from a DataFrame\n",
      "\n",
      "See the caveats in the documentation: https://pandas.pydata.org/pandas-docs/stable/user_guide/indexing.html#returning-a-view-versus-a-copy\n",
      "  Clinical['pN'][Clinical['pN'] == 2] = '2', '2', '2'\n"
     ]
    }
   ],
   "source": [
    "# 숫자 2를 일단 string '2'로 바꿔줌\n",
    "Clinical['pN'][Clinical['pN'] == 2] = '2', '2', '2'"
   ]
  },
  {
   "cell_type": "code",
   "execution_count": 25,
   "id": "795d0e38",
   "metadata": {},
   "outputs": [
    {
     "data": {
      "text/plain": [
       "2    146\n",
       "3    123\n",
       "1    119\n",
       "a      2\n",
       "c      2\n",
       "Name: pN, dtype: int64"
      ]
     },
     "execution_count": 25,
     "metadata": {},
     "output_type": "execute_result"
    }
   ],
   "source": [
    "Clinical['pN'].value_counts()"
   ]
  },
  {
   "cell_type": "code",
   "execution_count": 26,
   "id": "53aae7ff",
   "metadata": {},
   "outputs": [
    {
     "name": "stderr",
     "output_type": "stream",
     "text": [
      "C:\\Users\\user\\AppData\\Local\\Temp/ipykernel_14004/3248424543.py:2: SettingWithCopyWarning: \n",
      "A value is trying to be set on a copy of a slice from a DataFrame\n",
      "\n",
      "See the caveats in the documentation: https://pandas.pydata.org/pandas-docs/stable/user_guide/indexing.html#returning-a-view-versus-a-copy\n",
      "  Clinical['pN'][Clinical['pN'] == 'a'] = '1', '1'\n"
     ]
    }
   ],
   "source": [
    "# 'a'도 2개니까 넣어주기\n",
    "Clinical['pN'][Clinical['pN'] == 'a'] = '1', '1'"
   ]
  },
  {
   "cell_type": "code",
   "execution_count": 27,
   "id": "7e9b0286",
   "metadata": {},
   "outputs": [
    {
     "name": "stderr",
     "output_type": "stream",
     "text": [
      "C:\\Users\\user\\AppData\\Local\\Temp/ipykernel_14004/1349707999.py:2: SettingWithCopyWarning: \n",
      "A value is trying to be set on a copy of a slice from a DataFrame\n",
      "\n",
      "See the caveats in the documentation: https://pandas.pydata.org/pandas-docs/stable/user_guide/indexing.html#returning-a-view-versus-a-copy\n",
      "  Clinical['pN'][Clinical['pN'] == 'c'] = '3', '3'\n"
     ]
    }
   ],
   "source": [
    "# 'c'도 2개니까 넣어주기\n",
    "Clinical['pN'][Clinical['pN'] == 'c'] = '3', '3'"
   ]
  },
  {
   "cell_type": "code",
   "execution_count": 28,
   "id": "71362376",
   "metadata": {},
   "outputs": [
    {
     "data": {
      "text/plain": [
       "2    146\n",
       "3    125\n",
       "1    121\n",
       "Name: pN, dtype: int64"
      ]
     },
     "execution_count": 28,
     "metadata": {},
     "output_type": "execute_result"
    }
   ],
   "source": [
    "# pN은 정상\n",
    "Clinical['pN'].value_counts()"
   ]
  },
  {
   "cell_type": "code",
   "execution_count": 29,
   "id": "02d0e27c",
   "metadata": {},
   "outputs": [
    {
     "data": {
      "text/plain": [
       "0      0\n",
       "1      1\n",
       "2      0\n",
       "3      0\n",
       "4      0\n",
       "      ..\n",
       "387    0\n",
       "388    0\n",
       "389    0\n",
       "390    0\n",
       "391    0\n",
       "Name: Perineural, Length: 392, dtype: int64"
      ]
     },
     "execution_count": 29,
     "metadata": {},
     "output_type": "execute_result"
    }
   ],
   "source": [
    "# Perineural 역시 categorical 변수\n",
    "Clinical['Perineural']"
   ]
  },
  {
   "cell_type": "code",
   "execution_count": 30,
   "id": "c76869d0",
   "metadata": {},
   "outputs": [
    {
     "data": {
      "text/plain": [
       "0    347\n",
       "1     45\n",
       "Name: Perineural, dtype: int64"
      ]
     },
     "execution_count": 30,
     "metadata": {},
     "output_type": "execute_result"
    }
   ],
   "source": [
    "# Perineural 역시 정상\n",
    "Clinical['Perineural'].value_counts()"
   ]
  },
  {
   "cell_type": "code",
   "execution_count": 85,
   "id": "7c69e983",
   "metadata": {
    "scrolled": true
   },
   "outputs": [
    {
     "data": {
      "text/plain": [
       "0      73\n",
       "1      73\n",
       "2      53\n",
       "3      57\n",
       "4      65\n",
       "       ..\n",
       "387    57\n",
       "388    63\n",
       "389    63\n",
       "390    57\n",
       "391    52\n",
       "Name: Age, Length: 392, dtype: object"
      ]
     },
     "execution_count": 85,
     "metadata": {},
     "output_type": "execute_result"
    }
   ],
   "source": [
    "# Age, 왜 type이 object????\n",
    "Clinical['Age']"
   ]
  },
  {
   "cell_type": "code",
   "execution_count": 87,
   "id": "b0c301fc",
   "metadata": {
    "collapsed": true
   },
   "outputs": [
    {
     "ename": "ValueError",
     "evalue": "invalid literal for int() with base 10: '65a'",
     "output_type": "error",
     "traceback": [
      "\u001b[1;31m---------------------------------------------------------------------------\u001b[0m",
      "\u001b[1;31mValueError\u001b[0m                                Traceback (most recent call last)",
      "\u001b[1;32m~\\AppData\\Local\\Temp/ipykernel_14004/3280072505.py\u001b[0m in \u001b[0;36m<module>\u001b[1;34m\u001b[0m\n\u001b[1;32m----> 1\u001b[1;33m \u001b[0mClinical\u001b[0m\u001b[1;33m[\u001b[0m\u001b[1;34m'Age'\u001b[0m\u001b[1;33m]\u001b[0m \u001b[1;33m=\u001b[0m \u001b[0mClinical\u001b[0m\u001b[1;33m[\u001b[0m\u001b[1;34m'Age'\u001b[0m\u001b[1;33m]\u001b[0m\u001b[1;33m.\u001b[0m\u001b[0mastype\u001b[0m\u001b[1;33m(\u001b[0m\u001b[1;34m\"int64\"\u001b[0m\u001b[1;33m)\u001b[0m\u001b[1;33m\u001b[0m\u001b[1;33m\u001b[0m\u001b[0m\n\u001b[0m",
      "\u001b[1;32m~\\anaconda3\\lib\\site-packages\\pandas\\core\\generic.py\u001b[0m in \u001b[0;36mastype\u001b[1;34m(self, dtype, copy, errors)\u001b[0m\n\u001b[0;32m   5813\u001b[0m         \u001b[1;32melse\u001b[0m\u001b[1;33m:\u001b[0m\u001b[1;33m\u001b[0m\u001b[1;33m\u001b[0m\u001b[0m\n\u001b[0;32m   5814\u001b[0m             \u001b[1;31m# else, only a single dtype is given\u001b[0m\u001b[1;33m\u001b[0m\u001b[1;33m\u001b[0m\u001b[0m\n\u001b[1;32m-> 5815\u001b[1;33m             \u001b[0mnew_data\u001b[0m \u001b[1;33m=\u001b[0m \u001b[0mself\u001b[0m\u001b[1;33m.\u001b[0m\u001b[0m_mgr\u001b[0m\u001b[1;33m.\u001b[0m\u001b[0mastype\u001b[0m\u001b[1;33m(\u001b[0m\u001b[0mdtype\u001b[0m\u001b[1;33m=\u001b[0m\u001b[0mdtype\u001b[0m\u001b[1;33m,\u001b[0m \u001b[0mcopy\u001b[0m\u001b[1;33m=\u001b[0m\u001b[0mcopy\u001b[0m\u001b[1;33m,\u001b[0m \u001b[0merrors\u001b[0m\u001b[1;33m=\u001b[0m\u001b[0merrors\u001b[0m\u001b[1;33m)\u001b[0m\u001b[1;33m\u001b[0m\u001b[1;33m\u001b[0m\u001b[0m\n\u001b[0m\u001b[0;32m   5816\u001b[0m             \u001b[1;32mreturn\u001b[0m \u001b[0mself\u001b[0m\u001b[1;33m.\u001b[0m\u001b[0m_constructor\u001b[0m\u001b[1;33m(\u001b[0m\u001b[0mnew_data\u001b[0m\u001b[1;33m)\u001b[0m\u001b[1;33m.\u001b[0m\u001b[0m__finalize__\u001b[0m\u001b[1;33m(\u001b[0m\u001b[0mself\u001b[0m\u001b[1;33m,\u001b[0m \u001b[0mmethod\u001b[0m\u001b[1;33m=\u001b[0m\u001b[1;34m\"astype\"\u001b[0m\u001b[1;33m)\u001b[0m\u001b[1;33m\u001b[0m\u001b[1;33m\u001b[0m\u001b[0m\n\u001b[0;32m   5817\u001b[0m \u001b[1;33m\u001b[0m\u001b[0m\n",
      "\u001b[1;32m~\\anaconda3\\lib\\site-packages\\pandas\\core\\internals\\managers.py\u001b[0m in \u001b[0;36mastype\u001b[1;34m(self, dtype, copy, errors)\u001b[0m\n\u001b[0;32m    416\u001b[0m \u001b[1;33m\u001b[0m\u001b[0m\n\u001b[0;32m    417\u001b[0m     \u001b[1;32mdef\u001b[0m \u001b[0mastype\u001b[0m\u001b[1;33m(\u001b[0m\u001b[0mself\u001b[0m\u001b[1;33m:\u001b[0m \u001b[0mT\u001b[0m\u001b[1;33m,\u001b[0m \u001b[0mdtype\u001b[0m\u001b[1;33m,\u001b[0m \u001b[0mcopy\u001b[0m\u001b[1;33m:\u001b[0m \u001b[0mbool\u001b[0m \u001b[1;33m=\u001b[0m \u001b[1;32mFalse\u001b[0m\u001b[1;33m,\u001b[0m \u001b[0merrors\u001b[0m\u001b[1;33m:\u001b[0m \u001b[0mstr\u001b[0m \u001b[1;33m=\u001b[0m \u001b[1;34m\"raise\"\u001b[0m\u001b[1;33m)\u001b[0m \u001b[1;33m->\u001b[0m \u001b[0mT\u001b[0m\u001b[1;33m:\u001b[0m\u001b[1;33m\u001b[0m\u001b[1;33m\u001b[0m\u001b[0m\n\u001b[1;32m--> 418\u001b[1;33m         \u001b[1;32mreturn\u001b[0m \u001b[0mself\u001b[0m\u001b[1;33m.\u001b[0m\u001b[0mapply\u001b[0m\u001b[1;33m(\u001b[0m\u001b[1;34m\"astype\"\u001b[0m\u001b[1;33m,\u001b[0m \u001b[0mdtype\u001b[0m\u001b[1;33m=\u001b[0m\u001b[0mdtype\u001b[0m\u001b[1;33m,\u001b[0m \u001b[0mcopy\u001b[0m\u001b[1;33m=\u001b[0m\u001b[0mcopy\u001b[0m\u001b[1;33m,\u001b[0m \u001b[0merrors\u001b[0m\u001b[1;33m=\u001b[0m\u001b[0merrors\u001b[0m\u001b[1;33m)\u001b[0m\u001b[1;33m\u001b[0m\u001b[1;33m\u001b[0m\u001b[0m\n\u001b[0m\u001b[0;32m    419\u001b[0m \u001b[1;33m\u001b[0m\u001b[0m\n\u001b[0;32m    420\u001b[0m     def convert(\n",
      "\u001b[1;32m~\\anaconda3\\lib\\site-packages\\pandas\\core\\internals\\managers.py\u001b[0m in \u001b[0;36mapply\u001b[1;34m(self, f, align_keys, ignore_failures, **kwargs)\u001b[0m\n\u001b[0;32m    325\u001b[0m                     \u001b[0mapplied\u001b[0m \u001b[1;33m=\u001b[0m \u001b[0mb\u001b[0m\u001b[1;33m.\u001b[0m\u001b[0mapply\u001b[0m\u001b[1;33m(\u001b[0m\u001b[0mf\u001b[0m\u001b[1;33m,\u001b[0m \u001b[1;33m**\u001b[0m\u001b[0mkwargs\u001b[0m\u001b[1;33m)\u001b[0m\u001b[1;33m\u001b[0m\u001b[1;33m\u001b[0m\u001b[0m\n\u001b[0;32m    326\u001b[0m                 \u001b[1;32melse\u001b[0m\u001b[1;33m:\u001b[0m\u001b[1;33m\u001b[0m\u001b[1;33m\u001b[0m\u001b[0m\n\u001b[1;32m--> 327\u001b[1;33m                     \u001b[0mapplied\u001b[0m \u001b[1;33m=\u001b[0m \u001b[0mgetattr\u001b[0m\u001b[1;33m(\u001b[0m\u001b[0mb\u001b[0m\u001b[1;33m,\u001b[0m \u001b[0mf\u001b[0m\u001b[1;33m)\u001b[0m\u001b[1;33m(\u001b[0m\u001b[1;33m**\u001b[0m\u001b[0mkwargs\u001b[0m\u001b[1;33m)\u001b[0m\u001b[1;33m\u001b[0m\u001b[1;33m\u001b[0m\u001b[0m\n\u001b[0m\u001b[0;32m    328\u001b[0m             \u001b[1;32mexcept\u001b[0m \u001b[1;33m(\u001b[0m\u001b[0mTypeError\u001b[0m\u001b[1;33m,\u001b[0m \u001b[0mNotImplementedError\u001b[0m\u001b[1;33m)\u001b[0m\u001b[1;33m:\u001b[0m\u001b[1;33m\u001b[0m\u001b[1;33m\u001b[0m\u001b[0m\n\u001b[0;32m    329\u001b[0m                 \u001b[1;32mif\u001b[0m \u001b[1;32mnot\u001b[0m \u001b[0mignore_failures\u001b[0m\u001b[1;33m:\u001b[0m\u001b[1;33m\u001b[0m\u001b[1;33m\u001b[0m\u001b[0m\n",
      "\u001b[1;32m~\\anaconda3\\lib\\site-packages\\pandas\\core\\internals\\blocks.py\u001b[0m in \u001b[0;36mastype\u001b[1;34m(self, dtype, copy, errors)\u001b[0m\n\u001b[0;32m    589\u001b[0m         \u001b[0mvalues\u001b[0m \u001b[1;33m=\u001b[0m \u001b[0mself\u001b[0m\u001b[1;33m.\u001b[0m\u001b[0mvalues\u001b[0m\u001b[1;33m\u001b[0m\u001b[1;33m\u001b[0m\u001b[0m\n\u001b[0;32m    590\u001b[0m \u001b[1;33m\u001b[0m\u001b[0m\n\u001b[1;32m--> 591\u001b[1;33m         \u001b[0mnew_values\u001b[0m \u001b[1;33m=\u001b[0m \u001b[0mastype_array_safe\u001b[0m\u001b[1;33m(\u001b[0m\u001b[0mvalues\u001b[0m\u001b[1;33m,\u001b[0m \u001b[0mdtype\u001b[0m\u001b[1;33m,\u001b[0m \u001b[0mcopy\u001b[0m\u001b[1;33m=\u001b[0m\u001b[0mcopy\u001b[0m\u001b[1;33m,\u001b[0m \u001b[0merrors\u001b[0m\u001b[1;33m=\u001b[0m\u001b[0merrors\u001b[0m\u001b[1;33m)\u001b[0m\u001b[1;33m\u001b[0m\u001b[1;33m\u001b[0m\u001b[0m\n\u001b[0m\u001b[0;32m    592\u001b[0m \u001b[1;33m\u001b[0m\u001b[0m\n\u001b[0;32m    593\u001b[0m         \u001b[0mnew_values\u001b[0m \u001b[1;33m=\u001b[0m \u001b[0mmaybe_coerce_values\u001b[0m\u001b[1;33m(\u001b[0m\u001b[0mnew_values\u001b[0m\u001b[1;33m)\u001b[0m\u001b[1;33m\u001b[0m\u001b[1;33m\u001b[0m\u001b[0m\n",
      "\u001b[1;32m~\\anaconda3\\lib\\site-packages\\pandas\\core\\dtypes\\cast.py\u001b[0m in \u001b[0;36mastype_array_safe\u001b[1;34m(values, dtype, copy, errors)\u001b[0m\n\u001b[0;32m   1307\u001b[0m \u001b[1;33m\u001b[0m\u001b[0m\n\u001b[0;32m   1308\u001b[0m     \u001b[1;32mtry\u001b[0m\u001b[1;33m:\u001b[0m\u001b[1;33m\u001b[0m\u001b[1;33m\u001b[0m\u001b[0m\n\u001b[1;32m-> 1309\u001b[1;33m         \u001b[0mnew_values\u001b[0m \u001b[1;33m=\u001b[0m \u001b[0mastype_array\u001b[0m\u001b[1;33m(\u001b[0m\u001b[0mvalues\u001b[0m\u001b[1;33m,\u001b[0m \u001b[0mdtype\u001b[0m\u001b[1;33m,\u001b[0m \u001b[0mcopy\u001b[0m\u001b[1;33m=\u001b[0m\u001b[0mcopy\u001b[0m\u001b[1;33m)\u001b[0m\u001b[1;33m\u001b[0m\u001b[1;33m\u001b[0m\u001b[0m\n\u001b[0m\u001b[0;32m   1310\u001b[0m     \u001b[1;32mexcept\u001b[0m \u001b[1;33m(\u001b[0m\u001b[0mValueError\u001b[0m\u001b[1;33m,\u001b[0m \u001b[0mTypeError\u001b[0m\u001b[1;33m)\u001b[0m\u001b[1;33m:\u001b[0m\u001b[1;33m\u001b[0m\u001b[1;33m\u001b[0m\u001b[0m\n\u001b[0;32m   1311\u001b[0m         \u001b[1;31m# e.g. astype_nansafe can fail on object-dtype of strings\u001b[0m\u001b[1;33m\u001b[0m\u001b[1;33m\u001b[0m\u001b[0m\n",
      "\u001b[1;32m~\\anaconda3\\lib\\site-packages\\pandas\\core\\dtypes\\cast.py\u001b[0m in \u001b[0;36mastype_array\u001b[1;34m(values, dtype, copy)\u001b[0m\n\u001b[0;32m   1255\u001b[0m \u001b[1;33m\u001b[0m\u001b[0m\n\u001b[0;32m   1256\u001b[0m     \u001b[1;32melse\u001b[0m\u001b[1;33m:\u001b[0m\u001b[1;33m\u001b[0m\u001b[1;33m\u001b[0m\u001b[0m\n\u001b[1;32m-> 1257\u001b[1;33m         \u001b[0mvalues\u001b[0m \u001b[1;33m=\u001b[0m \u001b[0mastype_nansafe\u001b[0m\u001b[1;33m(\u001b[0m\u001b[0mvalues\u001b[0m\u001b[1;33m,\u001b[0m \u001b[0mdtype\u001b[0m\u001b[1;33m,\u001b[0m \u001b[0mcopy\u001b[0m\u001b[1;33m=\u001b[0m\u001b[0mcopy\u001b[0m\u001b[1;33m)\u001b[0m\u001b[1;33m\u001b[0m\u001b[1;33m\u001b[0m\u001b[0m\n\u001b[0m\u001b[0;32m   1258\u001b[0m \u001b[1;33m\u001b[0m\u001b[0m\n\u001b[0;32m   1259\u001b[0m     \u001b[1;31m# in pandas we don't store numpy str dtypes, so convert to object\u001b[0m\u001b[1;33m\u001b[0m\u001b[1;33m\u001b[0m\u001b[0m\n",
      "\u001b[1;32m~\\anaconda3\\lib\\site-packages\\pandas\\core\\dtypes\\cast.py\u001b[0m in \u001b[0;36mastype_nansafe\u001b[1;34m(arr, dtype, copy, skipna)\u001b[0m\n\u001b[0;32m   1172\u001b[0m         \u001b[1;31m# work around NumPy brokenness, #1987\u001b[0m\u001b[1;33m\u001b[0m\u001b[1;33m\u001b[0m\u001b[0m\n\u001b[0;32m   1173\u001b[0m         \u001b[1;32mif\u001b[0m \u001b[0mnp\u001b[0m\u001b[1;33m.\u001b[0m\u001b[0missubdtype\u001b[0m\u001b[1;33m(\u001b[0m\u001b[0mdtype\u001b[0m\u001b[1;33m.\u001b[0m\u001b[0mtype\u001b[0m\u001b[1;33m,\u001b[0m \u001b[0mnp\u001b[0m\u001b[1;33m.\u001b[0m\u001b[0minteger\u001b[0m\u001b[1;33m)\u001b[0m\u001b[1;33m:\u001b[0m\u001b[1;33m\u001b[0m\u001b[1;33m\u001b[0m\u001b[0m\n\u001b[1;32m-> 1174\u001b[1;33m             \u001b[1;32mreturn\u001b[0m \u001b[0mlib\u001b[0m\u001b[1;33m.\u001b[0m\u001b[0mastype_intsafe\u001b[0m\u001b[1;33m(\u001b[0m\u001b[0marr\u001b[0m\u001b[1;33m,\u001b[0m \u001b[0mdtype\u001b[0m\u001b[1;33m)\u001b[0m\u001b[1;33m\u001b[0m\u001b[1;33m\u001b[0m\u001b[0m\n\u001b[0m\u001b[0;32m   1175\u001b[0m \u001b[1;33m\u001b[0m\u001b[0m\n\u001b[0;32m   1176\u001b[0m         \u001b[1;31m# if we have a datetime/timedelta array of objects\u001b[0m\u001b[1;33m\u001b[0m\u001b[1;33m\u001b[0m\u001b[0m\n",
      "\u001b[1;32m~\\anaconda3\\lib\\site-packages\\pandas\\_libs\\lib.pyx\u001b[0m in \u001b[0;36mpandas._libs.lib.astype_intsafe\u001b[1;34m()\u001b[0m\n",
      "\u001b[1;31mValueError\u001b[0m: invalid literal for int() with base 10: '65a'"
     ]
    }
   ],
   "source": [
    "Clinical['Age'] = Clinical['Age'].astype(\"int64\") # 숫자가 아닌 str이 들어가있으면 안된다."
   ]
  },
  {
   "cell_type": "code",
   "execution_count": 86,
   "id": "af04765a",
   "metadata": {},
   "outputs": [
    {
     "data": {
      "text/plain": [
       "array(['73', '53', '57', '65', '77', '50', '70', '78', '66', '71', '63',\n",
       "       '64', '62', '48', '60', '75', '72', '68', '59', '76', '46', '49',\n",
       "       '54', '58', '67', '51', '43', '56', '40', '33', '55', '69', '61',\n",
       "       '44', '65a', '24', '74', '52', '79', '38', '80', '45', '83', '61s',\n",
       "       '41', '47', '26', '42', '37', '35'], dtype=object)"
      ]
     },
     "execution_count": 86,
     "metadata": {},
     "output_type": "execute_result"
    }
   ],
   "source": [
    "Clinical['Age'].unique()"
   ]
  },
  {
   "cell_type": "markdown",
   "id": "c771cea3",
   "metadata": {},
   "source": [
    "https://www.google.com/search?q=pandas+series+find+not+numeric+value\n",
    "\n",
    "\n",
    "https://pandas.pydata.org/docs/reference/api/pandas.Series.str.isnumeric.html"
   ]
  },
  {
   "cell_type": "code",
   "execution_count": 90,
   "id": "2ccd7a94",
   "metadata": {},
   "outputs": [
    {
     "data": {
      "text/plain": [
       "<bound method _map_and_wrap.<locals>.wrapper of <pandas.core.strings.accessor.StringMethods object at 0x00000271A1CF8670>>"
      ]
     },
     "execution_count": 90,
     "metadata": {},
     "output_type": "execute_result"
    }
   ],
   "source": [
    "Clinical['Age'].str.isnumeric"
   ]
  },
  {
   "cell_type": "code",
   "execution_count": 33,
   "id": "bc9f923b",
   "metadata": {},
   "outputs": [
    {
     "data": {
      "text/plain": [
       "0      True\n",
       "1      True\n",
       "2      True\n",
       "3      True\n",
       "4      True\n",
       "       ... \n",
       "387    True\n",
       "388    True\n",
       "389    True\n",
       "390    True\n",
       "391    True\n",
       "Name: Age, Length: 392, dtype: bool"
      ]
     },
     "execution_count": 33,
     "metadata": {},
     "output_type": "execute_result"
    }
   ],
   "source": [
    "Clinical['Age'].str.isnumeric()"
   ]
  },
  {
   "cell_type": "code",
   "execution_count": 34,
   "id": "cad72798",
   "metadata": {},
   "outputs": [
    {
     "data": {
      "text/plain": [
       "count     392\n",
       "unique     50\n",
       "top        70\n",
       "freq       20\n",
       "Name: Age, dtype: object"
      ]
     },
     "execution_count": 34,
     "metadata": {},
     "output_type": "execute_result"
    }
   ],
   "source": [
    "# Describe 함수의 결과가 mean, sd, quantile 등이 나와야하는데 이상한게 튀어나옴\n",
    "Clinical['Age'].describe()"
   ]
  },
  {
   "cell_type": "code",
   "execution_count": 35,
   "id": "d4b38793",
   "metadata": {},
   "outputs": [
    {
     "data": {
      "text/plain": [
       "0      True\n",
       "1      True\n",
       "2      True\n",
       "3      True\n",
       "4      True\n",
       "       ... \n",
       "387    True\n",
       "388    True\n",
       "389    True\n",
       "390    True\n",
       "391    True\n",
       "Name: Age, Length: 392, dtype: bool"
      ]
     },
     "execution_count": 35,
     "metadata": {},
     "output_type": "execute_result"
    }
   ],
   "source": [
    "# Numeric 인지 아닌지 boolean vector로 결과를 출력해주는 함수\n",
    "Clinical['Age'].str.isnumeric()"
   ]
  },
  {
   "cell_type": "code",
   "execution_count": 36,
   "id": "ae8abfdd",
   "metadata": {},
   "outputs": [
    {
     "data": {
      "text/plain": [
       "pandas.core.series.Series"
      ]
     },
     "execution_count": 36,
     "metadata": {},
     "output_type": "execute_result"
    }
   ],
   "source": [
    "# 이 데이터 역시 Series\n",
    "type(Clinical['Age'].str.isnumeric())"
   ]
  },
  {
   "cell_type": "code",
   "execution_count": 37,
   "id": "7e3e12ac",
   "metadata": {},
   "outputs": [
    {
     "data": {
      "text/plain": [
       "True     390\n",
       "False      2\n",
       "Name: Age, dtype: int64"
      ]
     },
     "execution_count": 37,
     "metadata": {},
     "output_type": "execute_result"
    }
   ],
   "source": [
    "# 따라서 value_counts 가능\n",
    "Clinical['Age'].str.isnumeric().value_counts()"
   ]
  },
  {
   "cell_type": "code",
   "execution_count": 38,
   "id": "a9b767fc",
   "metadata": {},
   "outputs": [
    {
     "data": {
      "text/plain": [
       "0      False\n",
       "1      False\n",
       "2      False\n",
       "3      False\n",
       "4      False\n",
       "       ...  \n",
       "387    False\n",
       "388    False\n",
       "389    False\n",
       "390    False\n",
       "391    False\n",
       "Name: Age, Length: 392, dtype: bool"
      ]
     },
     "execution_count": 38,
     "metadata": {},
     "output_type": "execute_result"
    }
   ],
   "source": [
    "# ~를 활용하여 boolean을 뒤집을 수 있음, 뉴메릭이 아닌것만 True로 변경\n",
    "~Clinical['Age'].str.isnumeric()"
   ]
  },
  {
   "cell_type": "code",
   "execution_count": 39,
   "id": "e16f8abf",
   "metadata": {},
   "outputs": [
    {
     "data": {
      "text/plain": [
       "133    65a\n",
       "268    61s\n",
       "Name: Age, dtype: object"
      ]
     },
     "execution_count": 39,
     "metadata": {},
     "output_type": "execute_result"
    }
   ],
   "source": [
    "# True에 해당하는 index만 뽑혀짐\n",
    "Clinical['Age'][\n",
    "    ~Clinical['Age'].str.isnumeric()\n",
    "]"
   ]
  },
  {
   "cell_type": "code",
   "execution_count": 40,
   "id": "c99531d9",
   "metadata": {},
   "outputs": [
    {
     "name": "stderr",
     "output_type": "stream",
     "text": [
      "C:\\Users\\user\\AppData\\Local\\Temp/ipykernel_14004/1016414052.py:2: SettingWithCopyWarning: \n",
      "A value is trying to be set on a copy of a slice from a DataFrame\n",
      "\n",
      "See the caveats in the documentation: https://pandas.pydata.org/pandas-docs/stable/user_guide/indexing.html#returning-a-view-versus-a-copy\n",
      "  Clinical['Age'][[133, 268]] = 65, 61\n"
     ]
    }
   ],
   "source": [
    "# 해당 위치에 정보 넣기\n",
    "Clinical['Age'][[133, 268]] = 65, 61"
   ]
  },
  {
   "cell_type": "code",
   "execution_count": 41,
   "id": "ef653afc",
   "metadata": {},
   "outputs": [
    {
     "data": {
      "text/plain": [
       "1      73\n",
       "133    65\n",
       "268    61\n",
       "Name: Age, dtype: object"
      ]
     },
     "execution_count": 41,
     "metadata": {},
     "output_type": "execute_result"
    }
   ],
   "source": [
    "Clinical['Age'][[1, 133, 268]]"
   ]
  },
  {
   "cell_type": "code",
   "execution_count": 42,
   "id": "3159ba0e",
   "metadata": {},
   "outputs": [
    {
     "data": {
      "text/plain": [
       "count     392\n",
       "unique     50\n",
       "top        70\n",
       "freq       20\n",
       "Name: Age, dtype: object"
      ]
     },
     "execution_count": 42,
     "metadata": {},
     "output_type": "execute_result"
    }
   ],
   "source": [
    "# 역시 object로 출력되기에, 숫자 형태로 바꿔줘야함\n",
    "Clinical['Age'].describe()"
   ]
  },
  {
   "cell_type": "code",
   "execution_count": 43,
   "id": "cfadea88",
   "metadata": {},
   "outputs": [
    {
     "data": {
      "text/plain": [
       "0      73.0\n",
       "1      73.0\n",
       "2      53.0\n",
       "3      57.0\n",
       "4      65.0\n",
       "       ... \n",
       "387    57.0\n",
       "388    63.0\n",
       "389    63.0\n",
       "390    57.0\n",
       "391    52.0\n",
       "Name: Age, Length: 392, dtype: float64"
      ]
     },
     "execution_count": 43,
     "metadata": {},
     "output_type": "execute_result"
    }
   ],
   "source": [
    "Clinical['Age'].astype('float')"
   ]
  },
  {
   "cell_type": "code",
   "execution_count": 44,
   "id": "90772783",
   "metadata": {},
   "outputs": [],
   "source": [
    "Clinical['Age'] = Clinical['Age'].astype('float')"
   ]
  },
  {
   "cell_type": "code",
   "execution_count": 45,
   "id": "cfeb71d4",
   "metadata": {},
   "outputs": [
    {
     "data": {
      "text/plain": [
       "0       0.0\n",
       "1       1.2\n",
       "2       1.8\n",
       "3       0.0\n",
       "4      52.0\n",
       "       ... \n",
       "387     1.7\n",
       "388     4.1\n",
       "389     2.2\n",
       "390     5.2\n",
       "391     2.8\n",
       "Name: CEA_Post, Length: 392, dtype: float64"
      ]
     },
     "execution_count": 45,
     "metadata": {},
     "output_type": "execute_result"
    }
   ],
   "source": [
    "Clinical['CEA_Post']"
   ]
  },
  {
   "cell_type": "markdown",
   "id": "05bd2d8e",
   "metadata": {},
   "source": [
    "# 진짜 변수 형태로 모두다 바꿔주기"
   ]
  },
  {
   "cell_type": "code",
   "execution_count": 46,
   "id": "ad7eae9c",
   "metadata": {},
   "outputs": [],
   "source": [
    "Clinical['Relapse'] = Clinical['Relapse'].astype('category')\n",
    "#Clinical['CEA_Post'] = Clinical['CEA_Post'].astype('float')\n",
    "Clinical['CEA_Post'] = Clinical['CEA_Post'].astype(float)\n",
    "Clinical['Lymphatic'] = Clinical['Lymphatic'].astype('category')\n",
    "Clinical['Vascular'] = Clinical['Vascular'].astype('category')\n",
    "Clinical['pStage'] = Clinical['pStage'].astype('category')\n",
    "Clinical['pT'] = Clinical['pT'].astype('category')\n",
    "Clinical['pN'] = Clinical['pN'].astype('category')\n",
    "Clinical['Perineural'] = Clinical['Perineural'].astype('category')\n",
    "Clinical['Age'] = Clinical['Age'].astype('float')"
   ]
  },
  {
   "cell_type": "code",
   "execution_count": 47,
   "id": "983d3a24",
   "metadata": {},
   "outputs": [
    {
     "data": {
      "text/html": [
       "<div>\n",
       "<style scoped>\n",
       "    .dataframe tbody tr th:only-of-type {\n",
       "        vertical-align: middle;\n",
       "    }\n",
       "\n",
       "    .dataframe tbody tr th {\n",
       "        vertical-align: top;\n",
       "    }\n",
       "\n",
       "    .dataframe thead th {\n",
       "        text-align: right;\n",
       "    }\n",
       "</style>\n",
       "<table border=\"1\" class=\"dataframe\">\n",
       "  <thead>\n",
       "    <tr style=\"text-align: right;\">\n",
       "      <th></th>\n",
       "      <th>CEA_Post</th>\n",
       "      <th>Age</th>\n",
       "    </tr>\n",
       "  </thead>\n",
       "  <tbody>\n",
       "    <tr>\n",
       "      <th>count</th>\n",
       "      <td>392.000000</td>\n",
       "      <td>392.000000</td>\n",
       "    </tr>\n",
       "    <tr>\n",
       "      <th>mean</th>\n",
       "      <td>11.491327</td>\n",
       "      <td>63.028061</td>\n",
       "    </tr>\n",
       "    <tr>\n",
       "      <th>std</th>\n",
       "      <td>52.816959</td>\n",
       "      <td>9.733362</td>\n",
       "    </tr>\n",
       "    <tr>\n",
       "      <th>min</th>\n",
       "      <td>0.000000</td>\n",
       "      <td>24.000000</td>\n",
       "    </tr>\n",
       "    <tr>\n",
       "      <th>25%</th>\n",
       "      <td>1.400000</td>\n",
       "      <td>57.000000</td>\n",
       "    </tr>\n",
       "    <tr>\n",
       "      <th>50%</th>\n",
       "      <td>2.300000</td>\n",
       "      <td>65.000000</td>\n",
       "    </tr>\n",
       "    <tr>\n",
       "      <th>75%</th>\n",
       "      <td>4.300000</td>\n",
       "      <td>70.000000</td>\n",
       "    </tr>\n",
       "    <tr>\n",
       "      <th>max</th>\n",
       "      <td>723.000000</td>\n",
       "      <td>83.000000</td>\n",
       "    </tr>\n",
       "  </tbody>\n",
       "</table>\n",
       "</div>"
      ],
      "text/plain": [
       "         CEA_Post         Age\n",
       "count  392.000000  392.000000\n",
       "mean    11.491327   63.028061\n",
       "std     52.816959    9.733362\n",
       "min      0.000000   24.000000\n",
       "25%      1.400000   57.000000\n",
       "50%      2.300000   65.000000\n",
       "75%      4.300000   70.000000\n",
       "max    723.000000   83.000000"
      ]
     },
     "execution_count": 47,
     "metadata": {},
     "output_type": "execute_result"
    }
   ],
   "source": [
    "Clinical.describe()"
   ]
  },
  {
   "cell_type": "code",
   "execution_count": 48,
   "id": "b99d3dbb",
   "metadata": {},
   "outputs": [
    {
     "name": "stdout",
     "output_type": "stream",
     "text": [
      "<class 'pandas.core.frame.DataFrame'>\n",
      "RangeIndex: 392 entries, 0 to 391\n",
      "Data columns (total 9 columns):\n",
      " #   Column      Non-Null Count  Dtype   \n",
      "---  ------      --------------  -----   \n",
      " 0   Relapse     392 non-null    category\n",
      " 1   CEA_Post    392 non-null    float64 \n",
      " 2   Lymphatic   392 non-null    category\n",
      " 3   Vascular    392 non-null    category\n",
      " 4   pStage      392 non-null    category\n",
      " 5   pT          392 non-null    category\n",
      " 6   pN          392 non-null    category\n",
      " 7   Perineural  392 non-null    category\n",
      " 8   Age         392 non-null    float64 \n",
      "dtypes: category(7), float64(2)\n",
      "memory usage: 10.0 KB\n"
     ]
    }
   ],
   "source": [
    "Clinical.info()"
   ]
  },
  {
   "cell_type": "code",
   "execution_count": 49,
   "id": "0473a13c",
   "metadata": {
    "scrolled": true
   },
   "outputs": [
    {
     "name": "stdout",
     "output_type": "stream",
     "text": [
      "Collecting tableone\n",
      "  Downloading tableone-0.7.10-py2.py3-none-any.whl (32 kB)\n",
      "Requirement already satisfied: numpy>=1.12.1 in c:\\users\\user\\anaconda3\\lib\\site-packages (from tableone) (1.20.3)\n",
      "Requirement already satisfied: scipy>=0.18.1 in c:\\users\\user\\anaconda3\\lib\\site-packages (from tableone) (1.7.1)\n",
      "Requirement already satisfied: statsmodels>=0.8.0 in c:\\users\\user\\anaconda3\\lib\\site-packages (from tableone) (0.12.2)\n",
      "Collecting tabulate>=0.8.2\n",
      "  Downloading tabulate-0.8.9-py3-none-any.whl (25 kB)\n",
      "Requirement already satisfied: pandas>=0.22.0 in c:\\users\\user\\anaconda3\\lib\\site-packages (from tableone) (1.3.4)\n",
      "Requirement already satisfied: python-dateutil>=2.7.3 in c:\\users\\user\\anaconda3\\lib\\site-packages (from pandas>=0.22.0->tableone) (2.8.2)\n",
      "Requirement already satisfied: pytz>=2017.3 in c:\\users\\user\\anaconda3\\lib\\site-packages (from pandas>=0.22.0->tableone) (2021.3)\n",
      "Requirement already satisfied: six>=1.5 in c:\\users\\user\\anaconda3\\lib\\site-packages (from python-dateutil>=2.7.3->pandas>=0.22.0->tableone) (1.16.0)\n",
      "Requirement already satisfied: patsy>=0.5 in c:\\users\\user\\anaconda3\\lib\\site-packages (from statsmodels>=0.8.0->tableone) (0.5.2)\n",
      "Installing collected packages: tabulate, tableone\n",
      "Successfully installed tableone-0.7.10 tabulate-0.8.9\n"
     ]
    }
   ],
   "source": [
    "!pip3 install tableone"
   ]
  },
  {
   "cell_type": "code",
   "execution_count": 50,
   "id": "f81ca4ba",
   "metadata": {},
   "outputs": [],
   "source": [
    "import tableone"
   ]
  },
  {
   "cell_type": "code",
   "execution_count": 51,
   "id": "411c94a2",
   "metadata": {},
   "outputs": [
    {
     "name": "stderr",
     "output_type": "stream",
     "text": [
      "C:\\Users\\user\\anaconda3\\lib\\site-packages\\tableone\\tableone.py:991: FutureWarning: Using the level keyword in DataFrame and Series aggregations is deprecated and will be removed in a future version. Use groupby instead. df.sum(level=1) should use df.groupby(level=1).sum().\n",
      "  df['percent'] = df['freq'].div(df.freq.sum(level=0),\n"
     ]
    }
   ],
   "source": [
    "mytable = tableone.TableOne(Clinical,\n",
    "                   columns=list(Clinical.columns),\n",
    "                   categorical=['Lymphatic', 'Vascular', 'pStage', 'pT', 'pN', 'Perineural'],\n",
    "                   groupby='Relapse')"
   ]
  },
  {
   "cell_type": "code",
   "execution_count": 52,
   "id": "5f5eb8dc",
   "metadata": {},
   "outputs": [
    {
     "data": {
      "text/html": [
       "<div>\n",
       "<style scoped>\n",
       "    .dataframe tbody tr th:only-of-type {\n",
       "        vertical-align: middle;\n",
       "    }\n",
       "\n",
       "    .dataframe tbody tr th {\n",
       "        vertical-align: top;\n",
       "    }\n",
       "\n",
       "    .dataframe thead tr th {\n",
       "        text-align: left;\n",
       "    }\n",
       "</style>\n",
       "<table border=\"1\" class=\"dataframe\">\n",
       "  <thead>\n",
       "    <tr>\n",
       "      <th></th>\n",
       "      <th></th>\n",
       "      <th colspan=\"4\" halign=\"left\">Grouped by Relapse</th>\n",
       "    </tr>\n",
       "    <tr>\n",
       "      <th></th>\n",
       "      <th></th>\n",
       "      <th>Missing</th>\n",
       "      <th>Overall</th>\n",
       "      <th>0</th>\n",
       "      <th>1</th>\n",
       "    </tr>\n",
       "  </thead>\n",
       "  <tbody>\n",
       "    <tr>\n",
       "      <th>n</th>\n",
       "      <th></th>\n",
       "      <td></td>\n",
       "      <td>392</td>\n",
       "      <td>227</td>\n",
       "      <td>165</td>\n",
       "    </tr>\n",
       "    <tr>\n",
       "      <th>CEA_Post, mean (SD)</th>\n",
       "      <th></th>\n",
       "      <td>0</td>\n",
       "      <td>11.5 (52.8)</td>\n",
       "      <td>4.1 (11.9)</td>\n",
       "      <td>21.6 (79.2)</td>\n",
       "    </tr>\n",
       "    <tr>\n",
       "      <th rowspan=\"2\" valign=\"top\">Lymphatic, n (%)</th>\n",
       "      <th>0</th>\n",
       "      <td>0</td>\n",
       "      <td>125 (31.9)</td>\n",
       "      <td>91 (40.1)</td>\n",
       "      <td>34 (20.6)</td>\n",
       "    </tr>\n",
       "    <tr>\n",
       "      <th>1</th>\n",
       "      <td></td>\n",
       "      <td>267 (68.1)</td>\n",
       "      <td>136 (59.9)</td>\n",
       "      <td>131 (79.4)</td>\n",
       "    </tr>\n",
       "    <tr>\n",
       "      <th rowspan=\"2\" valign=\"top\">Vascular, n (%)</th>\n",
       "      <th>0</th>\n",
       "      <td>0</td>\n",
       "      <td>214 (54.6)</td>\n",
       "      <td>144 (63.4)</td>\n",
       "      <td>70 (42.4)</td>\n",
       "    </tr>\n",
       "    <tr>\n",
       "      <th>1</th>\n",
       "      <td></td>\n",
       "      <td>178 (45.4)</td>\n",
       "      <td>83 (36.6)</td>\n",
       "      <td>95 (57.6)</td>\n",
       "    </tr>\n",
       "    <tr>\n",
       "      <th rowspan=\"5\" valign=\"top\">pStage, n (%)</th>\n",
       "      <th>2</th>\n",
       "      <td>0</td>\n",
       "      <td>55 (14.0)</td>\n",
       "      <td>38 (16.7)</td>\n",
       "      <td>17 (10.3)</td>\n",
       "    </tr>\n",
       "    <tr>\n",
       "      <th>3</th>\n",
       "      <td></td>\n",
       "      <td>14 (3.6)</td>\n",
       "      <td>11 (4.8)</td>\n",
       "      <td>3 (1.8)</td>\n",
       "    </tr>\n",
       "    <tr>\n",
       "      <th>4</th>\n",
       "      <td></td>\n",
       "      <td>150 (38.3)</td>\n",
       "      <td>94 (41.4)</td>\n",
       "      <td>56 (33.9)</td>\n",
       "    </tr>\n",
       "    <tr>\n",
       "      <th>5</th>\n",
       "      <td></td>\n",
       "      <td>137 (34.9)</td>\n",
       "      <td>71 (31.3)</td>\n",
       "      <td>66 (40.0)</td>\n",
       "    </tr>\n",
       "    <tr>\n",
       "      <th>6</th>\n",
       "      <td></td>\n",
       "      <td>36 (9.2)</td>\n",
       "      <td>13 (5.7)</td>\n",
       "      <td>23 (13.9)</td>\n",
       "    </tr>\n",
       "    <tr>\n",
       "      <th rowspan=\"5\" valign=\"top\">pT, n (%)</th>\n",
       "      <th>1</th>\n",
       "      <td>0</td>\n",
       "      <td>66 (16.8)</td>\n",
       "      <td>48 (21.1)</td>\n",
       "      <td>18 (10.9)</td>\n",
       "    </tr>\n",
       "    <tr>\n",
       "      <th>2</th>\n",
       "      <td></td>\n",
       "      <td>160 (40.8)</td>\n",
       "      <td>84 (37.0)</td>\n",
       "      <td>76 (46.1)</td>\n",
       "    </tr>\n",
       "    <tr>\n",
       "      <th>3</th>\n",
       "      <td></td>\n",
       "      <td>45 (11.5)</td>\n",
       "      <td>25 (11.0)</td>\n",
       "      <td>20 (12.1)</td>\n",
       "    </tr>\n",
       "    <tr>\n",
       "      <th>4</th>\n",
       "      <td></td>\n",
       "      <td>91 (23.2)</td>\n",
       "      <td>55 (24.2)</td>\n",
       "      <td>36 (21.8)</td>\n",
       "    </tr>\n",
       "    <tr>\n",
       "      <th>5</th>\n",
       "      <td></td>\n",
       "      <td>30 (7.7)</td>\n",
       "      <td>15 (6.6)</td>\n",
       "      <td>15 (9.1)</td>\n",
       "    </tr>\n",
       "    <tr>\n",
       "      <th rowspan=\"3\" valign=\"top\">pN, n (%)</th>\n",
       "      <th>1</th>\n",
       "      <td>0</td>\n",
       "      <td>121 (30.9)</td>\n",
       "      <td>83 (36.6)</td>\n",
       "      <td>38 (23.0)</td>\n",
       "    </tr>\n",
       "    <tr>\n",
       "      <th>2</th>\n",
       "      <td></td>\n",
       "      <td>146 (37.2)</td>\n",
       "      <td>90 (39.6)</td>\n",
       "      <td>56 (33.9)</td>\n",
       "    </tr>\n",
       "    <tr>\n",
       "      <th>3</th>\n",
       "      <td></td>\n",
       "      <td>125 (31.9)</td>\n",
       "      <td>54 (23.8)</td>\n",
       "      <td>71 (43.0)</td>\n",
       "    </tr>\n",
       "    <tr>\n",
       "      <th rowspan=\"2\" valign=\"top\">Perineural, n (%)</th>\n",
       "      <th>0</th>\n",
       "      <td>0</td>\n",
       "      <td>347 (88.5)</td>\n",
       "      <td>209 (92.1)</td>\n",
       "      <td>138 (83.6)</td>\n",
       "    </tr>\n",
       "    <tr>\n",
       "      <th>1</th>\n",
       "      <td></td>\n",
       "      <td>45 (11.5)</td>\n",
       "      <td>18 (7.9)</td>\n",
       "      <td>27 (16.4)</td>\n",
       "    </tr>\n",
       "    <tr>\n",
       "      <th>Age, mean (SD)</th>\n",
       "      <th></th>\n",
       "      <td>0</td>\n",
       "      <td>63.0 (9.7)</td>\n",
       "      <td>63.0 (9.6)</td>\n",
       "      <td>63.0 (10.0)</td>\n",
       "    </tr>\n",
       "  </tbody>\n",
       "</table>\n",
       "</div><br />"
      ],
      "text/plain": [
       "                      Grouped by Relapse                                      \n",
       "                                 Missing      Overall           0            1\n",
       "n                                                 392         227          165\n",
       "CEA_Post, mean (SD)                    0  11.5 (52.8)  4.1 (11.9)  21.6 (79.2)\n",
       "Lymphatic, n (%)    0                  0   125 (31.9)   91 (40.1)    34 (20.6)\n",
       "                    1                      267 (68.1)  136 (59.9)   131 (79.4)\n",
       "Vascular, n (%)     0                  0   214 (54.6)  144 (63.4)    70 (42.4)\n",
       "                    1                      178 (45.4)   83 (36.6)    95 (57.6)\n",
       "pStage, n (%)       2                  0    55 (14.0)   38 (16.7)    17 (10.3)\n",
       "                    3                        14 (3.6)    11 (4.8)      3 (1.8)\n",
       "                    4                      150 (38.3)   94 (41.4)    56 (33.9)\n",
       "                    5                      137 (34.9)   71 (31.3)    66 (40.0)\n",
       "                    6                        36 (9.2)    13 (5.7)    23 (13.9)\n",
       "pT, n (%)           1                  0    66 (16.8)   48 (21.1)    18 (10.9)\n",
       "                    2                      160 (40.8)   84 (37.0)    76 (46.1)\n",
       "                    3                       45 (11.5)   25 (11.0)    20 (12.1)\n",
       "                    4                       91 (23.2)   55 (24.2)    36 (21.8)\n",
       "                    5                        30 (7.7)    15 (6.6)     15 (9.1)\n",
       "pN, n (%)           1                  0   121 (30.9)   83 (36.6)    38 (23.0)\n",
       "                    2                      146 (37.2)   90 (39.6)    56 (33.9)\n",
       "                    3                      125 (31.9)   54 (23.8)    71 (43.0)\n",
       "Perineural, n (%)   0                  0   347 (88.5)  209 (92.1)   138 (83.6)\n",
       "                    1                       45 (11.5)    18 (7.9)    27 (16.4)\n",
       "Age, mean (SD)                         0   63.0 (9.7)  63.0 (9.6)  63.0 (10.0)"
      ]
     },
     "execution_count": 52,
     "metadata": {},
     "output_type": "execute_result"
    }
   ],
   "source": [
    "mytable"
   ]
  },
  {
   "cell_type": "code",
   "execution_count": 53,
   "id": "1a86c49b",
   "metadata": {},
   "outputs": [
    {
     "name": "stderr",
     "output_type": "stream",
     "text": [
      "C:\\Users\\user\\anaconda3\\lib\\site-packages\\tableone\\tableone.py:991: FutureWarning: Using the level keyword in DataFrame and Series aggregations is deprecated and will be removed in a future version. Use groupby instead. df.sum(level=1) should use df.groupby(level=1).sum().\n",
      "  df['percent'] = df['freq'].div(df.freq.sum(level=0),\n"
     ]
    }
   ],
   "source": [
    "mytable = tableone.TableOne(Clinical,\n",
    "                   columns=list(Clinical.columns),\n",
    "                   categorical=['Lymphatic', 'Vascular', 'pStage', 'pT', 'pN', 'Perineural'],\n",
    "                   groupby='Relapse',\n",
    "                   pval=True)"
   ]
  },
  {
   "cell_type": "code",
   "execution_count": 54,
   "id": "2b108cd9",
   "metadata": {},
   "outputs": [
    {
     "data": {
      "text/html": [
       "<div>\n",
       "<style scoped>\n",
       "    .dataframe tbody tr th:only-of-type {\n",
       "        vertical-align: middle;\n",
       "    }\n",
       "\n",
       "    .dataframe tbody tr th {\n",
       "        vertical-align: top;\n",
       "    }\n",
       "\n",
       "    .dataframe thead tr th {\n",
       "        text-align: left;\n",
       "    }\n",
       "</style>\n",
       "<table border=\"1\" class=\"dataframe\">\n",
       "  <thead>\n",
       "    <tr>\n",
       "      <th></th>\n",
       "      <th></th>\n",
       "      <th colspan=\"5\" halign=\"left\">Grouped by Relapse</th>\n",
       "    </tr>\n",
       "    <tr>\n",
       "      <th></th>\n",
       "      <th></th>\n",
       "      <th>Missing</th>\n",
       "      <th>Overall</th>\n",
       "      <th>0</th>\n",
       "      <th>1</th>\n",
       "      <th>P-Value</th>\n",
       "    </tr>\n",
       "  </thead>\n",
       "  <tbody>\n",
       "    <tr>\n",
       "      <th>n</th>\n",
       "      <th></th>\n",
       "      <td></td>\n",
       "      <td>392</td>\n",
       "      <td>227</td>\n",
       "      <td>165</td>\n",
       "      <td></td>\n",
       "    </tr>\n",
       "    <tr>\n",
       "      <th>CEA_Post, mean (SD)</th>\n",
       "      <th></th>\n",
       "      <td>0</td>\n",
       "      <td>11.5 (52.8)</td>\n",
       "      <td>4.1 (11.9)</td>\n",
       "      <td>21.6 (79.2)</td>\n",
       "      <td>0.006</td>\n",
       "    </tr>\n",
       "    <tr>\n",
       "      <th rowspan=\"2\" valign=\"top\">Lymphatic, n (%)</th>\n",
       "      <th>0</th>\n",
       "      <td>0</td>\n",
       "      <td>125 (31.9)</td>\n",
       "      <td>91 (40.1)</td>\n",
       "      <td>34 (20.6)</td>\n",
       "      <td>&lt;0.001</td>\n",
       "    </tr>\n",
       "    <tr>\n",
       "      <th>1</th>\n",
       "      <td></td>\n",
       "      <td>267 (68.1)</td>\n",
       "      <td>136 (59.9)</td>\n",
       "      <td>131 (79.4)</td>\n",
       "      <td></td>\n",
       "    </tr>\n",
       "    <tr>\n",
       "      <th rowspan=\"2\" valign=\"top\">Vascular, n (%)</th>\n",
       "      <th>0</th>\n",
       "      <td>0</td>\n",
       "      <td>214 (54.6)</td>\n",
       "      <td>144 (63.4)</td>\n",
       "      <td>70 (42.4)</td>\n",
       "      <td>&lt;0.001</td>\n",
       "    </tr>\n",
       "    <tr>\n",
       "      <th>1</th>\n",
       "      <td></td>\n",
       "      <td>178 (45.4)</td>\n",
       "      <td>83 (36.6)</td>\n",
       "      <td>95 (57.6)</td>\n",
       "      <td></td>\n",
       "    </tr>\n",
       "    <tr>\n",
       "      <th rowspan=\"5\" valign=\"top\">pStage, n (%)</th>\n",
       "      <th>2</th>\n",
       "      <td>0</td>\n",
       "      <td>55 (14.0)</td>\n",
       "      <td>38 (16.7)</td>\n",
       "      <td>17 (10.3)</td>\n",
       "      <td>0.003</td>\n",
       "    </tr>\n",
       "    <tr>\n",
       "      <th>3</th>\n",
       "      <td></td>\n",
       "      <td>14 (3.6)</td>\n",
       "      <td>11 (4.8)</td>\n",
       "      <td>3 (1.8)</td>\n",
       "      <td></td>\n",
       "    </tr>\n",
       "    <tr>\n",
       "      <th>4</th>\n",
       "      <td></td>\n",
       "      <td>150 (38.3)</td>\n",
       "      <td>94 (41.4)</td>\n",
       "      <td>56 (33.9)</td>\n",
       "      <td></td>\n",
       "    </tr>\n",
       "    <tr>\n",
       "      <th>5</th>\n",
       "      <td></td>\n",
       "      <td>137 (34.9)</td>\n",
       "      <td>71 (31.3)</td>\n",
       "      <td>66 (40.0)</td>\n",
       "      <td></td>\n",
       "    </tr>\n",
       "    <tr>\n",
       "      <th>6</th>\n",
       "      <td></td>\n",
       "      <td>36 (9.2)</td>\n",
       "      <td>13 (5.7)</td>\n",
       "      <td>23 (13.9)</td>\n",
       "      <td></td>\n",
       "    </tr>\n",
       "    <tr>\n",
       "      <th rowspan=\"5\" valign=\"top\">pT, n (%)</th>\n",
       "      <th>1</th>\n",
       "      <td>0</td>\n",
       "      <td>66 (16.8)</td>\n",
       "      <td>48 (21.1)</td>\n",
       "      <td>18 (10.9)</td>\n",
       "      <td>0.062</td>\n",
       "    </tr>\n",
       "    <tr>\n",
       "      <th>2</th>\n",
       "      <td></td>\n",
       "      <td>160 (40.8)</td>\n",
       "      <td>84 (37.0)</td>\n",
       "      <td>76 (46.1)</td>\n",
       "      <td></td>\n",
       "    </tr>\n",
       "    <tr>\n",
       "      <th>3</th>\n",
       "      <td></td>\n",
       "      <td>45 (11.5)</td>\n",
       "      <td>25 (11.0)</td>\n",
       "      <td>20 (12.1)</td>\n",
       "      <td></td>\n",
       "    </tr>\n",
       "    <tr>\n",
       "      <th>4</th>\n",
       "      <td></td>\n",
       "      <td>91 (23.2)</td>\n",
       "      <td>55 (24.2)</td>\n",
       "      <td>36 (21.8)</td>\n",
       "      <td></td>\n",
       "    </tr>\n",
       "    <tr>\n",
       "      <th>5</th>\n",
       "      <td></td>\n",
       "      <td>30 (7.7)</td>\n",
       "      <td>15 (6.6)</td>\n",
       "      <td>15 (9.1)</td>\n",
       "      <td></td>\n",
       "    </tr>\n",
       "    <tr>\n",
       "      <th rowspan=\"3\" valign=\"top\">pN, n (%)</th>\n",
       "      <th>1</th>\n",
       "      <td>0</td>\n",
       "      <td>121 (30.9)</td>\n",
       "      <td>83 (36.6)</td>\n",
       "      <td>38 (23.0)</td>\n",
       "      <td>&lt;0.001</td>\n",
       "    </tr>\n",
       "    <tr>\n",
       "      <th>2</th>\n",
       "      <td></td>\n",
       "      <td>146 (37.2)</td>\n",
       "      <td>90 (39.6)</td>\n",
       "      <td>56 (33.9)</td>\n",
       "      <td></td>\n",
       "    </tr>\n",
       "    <tr>\n",
       "      <th>3</th>\n",
       "      <td></td>\n",
       "      <td>125 (31.9)</td>\n",
       "      <td>54 (23.8)</td>\n",
       "      <td>71 (43.0)</td>\n",
       "      <td></td>\n",
       "    </tr>\n",
       "    <tr>\n",
       "      <th rowspan=\"2\" valign=\"top\">Perineural, n (%)</th>\n",
       "      <th>0</th>\n",
       "      <td>0</td>\n",
       "      <td>347 (88.5)</td>\n",
       "      <td>209 (92.1)</td>\n",
       "      <td>138 (83.6)</td>\n",
       "      <td>0.015</td>\n",
       "    </tr>\n",
       "    <tr>\n",
       "      <th>1</th>\n",
       "      <td></td>\n",
       "      <td>45 (11.5)</td>\n",
       "      <td>18 (7.9)</td>\n",
       "      <td>27 (16.4)</td>\n",
       "      <td></td>\n",
       "    </tr>\n",
       "    <tr>\n",
       "      <th>Age, mean (SD)</th>\n",
       "      <th></th>\n",
       "      <td>0</td>\n",
       "      <td>63.0 (9.7)</td>\n",
       "      <td>63.0 (9.6)</td>\n",
       "      <td>63.0 (10.0)</td>\n",
       "      <td>0.978</td>\n",
       "    </tr>\n",
       "  </tbody>\n",
       "</table>\n",
       "</div><br />"
      ],
      "text/plain": [
       "                      Grouped by Relapse                                              \n",
       "                                 Missing      Overall           0            1 P-Value\n",
       "n                                                 392         227          165        \n",
       "CEA_Post, mean (SD)                    0  11.5 (52.8)  4.1 (11.9)  21.6 (79.2)   0.006\n",
       "Lymphatic, n (%)    0                  0   125 (31.9)   91 (40.1)    34 (20.6)  <0.001\n",
       "                    1                      267 (68.1)  136 (59.9)   131 (79.4)        \n",
       "Vascular, n (%)     0                  0   214 (54.6)  144 (63.4)    70 (42.4)  <0.001\n",
       "                    1                      178 (45.4)   83 (36.6)    95 (57.6)        \n",
       "pStage, n (%)       2                  0    55 (14.0)   38 (16.7)    17 (10.3)   0.003\n",
       "                    3                        14 (3.6)    11 (4.8)      3 (1.8)        \n",
       "                    4                      150 (38.3)   94 (41.4)    56 (33.9)        \n",
       "                    5                      137 (34.9)   71 (31.3)    66 (40.0)        \n",
       "                    6                        36 (9.2)    13 (5.7)    23 (13.9)        \n",
       "pT, n (%)           1                  0    66 (16.8)   48 (21.1)    18 (10.9)   0.062\n",
       "                    2                      160 (40.8)   84 (37.0)    76 (46.1)        \n",
       "                    3                       45 (11.5)   25 (11.0)    20 (12.1)        \n",
       "                    4                       91 (23.2)   55 (24.2)    36 (21.8)        \n",
       "                    5                        30 (7.7)    15 (6.6)     15 (9.1)        \n",
       "pN, n (%)           1                  0   121 (30.9)   83 (36.6)    38 (23.0)  <0.001\n",
       "                    2                      146 (37.2)   90 (39.6)    56 (33.9)        \n",
       "                    3                      125 (31.9)   54 (23.8)    71 (43.0)        \n",
       "Perineural, n (%)   0                  0   347 (88.5)  209 (92.1)   138 (83.6)   0.015\n",
       "                    1                       45 (11.5)    18 (7.9)    27 (16.4)        \n",
       "Age, mean (SD)                         0   63.0 (9.7)  63.0 (9.6)  63.0 (10.0)   0.978"
      ]
     },
     "execution_count": 54,
     "metadata": {},
     "output_type": "execute_result"
    }
   ],
   "source": [
    "mytable"
   ]
  },
  {
   "cell_type": "code",
   "execution_count": 55,
   "id": "11eb6078",
   "metadata": {},
   "outputs": [
    {
     "name": "stdout",
     "output_type": "stream",
     "text": [
      "Help on class TableOne in module tableone.tableone:\n",
      "\n",
      "class TableOne(builtins.object)\n",
      " |  TableOne(data: pandas.core.frame.DataFrame, columns: Optional[list] = None, categorical: Optional[list] = None, groupby: Optional[str] = None, nonnormal: Optional[list] = None, min_max: Optional[list] = None, pval: Optional[bool] = False, pval_adjust: Optional[str] = None, htest_name: bool = False, pval_test_name: bool = False, htest: Optional[dict] = None, isnull: Optional[bool] = None, missing: bool = True, ddof: int = 1, labels: Optional[dict] = None, rename: Optional[dict] = None, sort: Union[bool, str] = False, limit: Union[int, dict, NoneType] = None, order: Optional[dict] = None, remarks: bool = False, label_suffix: bool = True, decimals: Union[int, dict] = 1, smd: bool = False, overall: bool = True, row_percent: bool = False, display_all: bool = False, dip_test: bool = False, normal_test: bool = False, tukey_test: bool = False) -> None\n",
      " |  \n",
      " |  If you use the tableone package, please cite:\n",
      " |  \n",
      " |  Pollard TJ, Johnson AEW, Raffa JD, Mark RG (2018). tableone: An open source\n",
      " |  Python package for producing summary statistics for research papers.\n",
      " |  JAMIA Open, Volume 1, Issue 1, 1 July 2018, Pages 26-31.\n",
      " |  https://doi.org/10.1093/jamiaopen/ooy012\n",
      " |  \n",
      " |  Create an instance of the tableone summary table.\n",
      " |  \n",
      " |  Parameters\n",
      " |  ----------\n",
      " |  data : pandas DataFrame\n",
      " |      The dataset to be summarised. Rows are observations, columns are\n",
      " |      variables.\n",
      " |  columns : list, optional\n",
      " |      List of columns in the dataset to be included in the final table.\n",
      " |  categorical : list, optional\n",
      " |      List of columns that contain categorical variables.\n",
      " |  groupby : str, optional\n",
      " |      Optional column for stratifying the final table (default: None).\n",
      " |  nonnormal : list, optional\n",
      " |      List of columns that contain non-normal variables (default: None).\n",
      " |  min_max: list, optional\n",
      " |      List of variables that should report minimum and maximum, instead of\n",
      " |      standard deviation (for normal) or Q1-Q3 (for non-normal).\n",
      " |  pval : bool, optional\n",
      " |      Display computed P-Values (default: False).\n",
      " |  pval_adjust : str, optional\n",
      " |      Method used to adjust P-Values for multiple testing.\n",
      " |      The P-values from the unadjusted table (default when pval=True)\n",
      " |      are adjusted to account for the number of total tests that were performed.\n",
      " |      These adjustments would be useful when many variables are being screened\n",
      " |      to assess if their distribution varies by the variable in the groupby argument.\n",
      " |      For a complete list of methods, see documentation for statsmodels multipletests.\n",
      " |      Available methods include ::\n",
      " |  \n",
      " |      `None` : no correction applied.\n",
      " |      `bonferroni` : one-step correction\n",
      " |      `sidak` : one-step correction\n",
      " |      `holm-sidak` : step down method using Sidak adjustments\n",
      " |      `simes-hochberg` : step-up method (independent)\n",
      " |      `hommel` : closed method based on Simes tests (non-negative)\n",
      " |  \n",
      " |  htest_name : bool, optional\n",
      " |      Display a column with the names of hypothesis tests (default: False).\n",
      " |  htest : dict, optional\n",
      " |      Dictionary of custom hypothesis tests. Keys are variable names and\n",
      " |      values are functions. Functions must take a list of Numpy Arrays as\n",
      " |      the input argument and must return a test result.\n",
      " |      e.g. htest = {'age': myfunc}\n",
      " |  missing : bool, optional\n",
      " |      Display a count of null values (default: True).\n",
      " |  ddof : int, optional\n",
      " |      Degrees of freedom for standard deviation calculations (default: 1).\n",
      " |  rename : dict, optional\n",
      " |      Dictionary of alternative names for variables.\n",
      " |      e.g. `rename = {'sex':'gender', 'trt':'treatment'}`\n",
      " |  sort : bool or str, optional\n",
      " |      If `True`, sort the variables alphabetically. If a string\n",
      " |      (e.g. `'P-Value'`), sort by the specified column in ascending order.\n",
      " |      Default (`False`) retains the sequence specified in the `columns`\n",
      " |      argument. Currently the only columns supported are: `'Missing'`,\n",
      " |      `'P-Value'`, `'P-Value (adjusted)'`, and `'Test'`.\n",
      " |  limit : int or dict, optional\n",
      " |      Limit to the top N most frequent categories. If int, apply to all\n",
      " |      categorical variables. If dict, apply to the key (e.g. {'sex': 1}).\n",
      " |  order : dict, optional\n",
      " |      Specify an order for categorical variables. Key is the variable, value\n",
      " |      is a list of values in order.  {e.g. 'sex': ['f', 'm', 'other']}\n",
      " |  label_suffix : bool, optional\n",
      " |      Append summary type (e.g. \"mean (SD); median [Q1,Q3], n (%); \") to the\n",
      " |      row label (default: True).\n",
      " |  decimals : int or dict, optional\n",
      " |      Number of decimal places to display. An integer applies the rule to all\n",
      " |      variables (default: 1). A dictionary (e.g. `decimals = {'age': 0)`)\n",
      " |      applies the rule per variable, defaulting to 1 place for unspecified\n",
      " |      variables. For continuous variables, applies to all summary statistics\n",
      " |      (e.g. mean and standard deviation). For categorical variables, applies\n",
      " |      to percentage only.\n",
      " |  overall : bool, optional\n",
      " |      If True, add an \"overall\" column to the table. Smd and p-value\n",
      " |      calculations are performed only using stratified columns.\n",
      " |  row_percent : bool, optional\n",
      " |      If True, compute \"n (%)\" percentages for categorical variables across\n",
      " |      \"groupby\" rows rather than columns.\n",
      " |  display_all : bool, optional\n",
      " |      If True, set pd. display_options to display all columns and rows.\n",
      " |      (default: False)\n",
      " |  dip_test : bool, optional\n",
      " |      Run Hartigan's Dip Test for multimodality. If variables are found to\n",
      " |      have multimodal distributions, a remark will be added below the Table 1.\n",
      " |      (default: False)\n",
      " |  normal_test : bool, optional\n",
      " |      Test the null hypothesis that a sample come from a normal distribution.\n",
      " |      Uses scipy.stats.normaltest. If variables are found to have non-normal\n",
      " |      distributions, a remark will be added below the Table 1.\n",
      " |      (default: False)\n",
      " |  tukey_test : bool, optional\n",
      " |      Run Tukey's test for far outliers. If variables are found to\n",
      " |      have far outliers, a remark will be added below the Table 1.\n",
      " |      (default: False)\n",
      " |  \n",
      " |  Attributes\n",
      " |  ----------\n",
      " |  tableone : dataframe\n",
      " |      Summary of the data (i.e., the \"Table 1\").\n",
      " |  \n",
      " |  Examples\n",
      " |  --------\n",
      " |  >>> df = pd.DataFrame({'size': [1, 2, 60, 1, 1],\n",
      " |  ...                   'fruit': ['peach', 'orange', 'peach', 'peach', 'orange'],\n",
      " |  ...                   'tasty': ['yes', 'yes', 'no', 'yes', 'no']})\n",
      " |  \n",
      " |  >>> df\n",
      " |     size   fruit tasty\n",
      " |  0     1   peach   yes\n",
      " |  1     2  orange   yes\n",
      " |  2    60   peach    no\n",
      " |  3     1   peach   yes\n",
      " |  4     1  orange    no\n",
      " |  \n",
      " |  >>> TableOne(df, overall=False, groupby=\"fruit\", pval=True)\n",
      " |  \n",
      " |                      Grouped by fruit\n",
      " |                               Missing     orange        peach P-Value\n",
      " |  n                                             2            3\n",
      " |  size, mean (SD)                    0  1.5 (0.7)  20.7 (34.1)   0.433\n",
      " |  tasty, n (%)    no                 0   1 (50.0)     1 (33.3)   1.000\n",
      " |                  yes                    1 (50.0)     2 (66.7)\n",
      " |  \n",
      " |  ...\n",
      " |  \n",
      " |  Methods defined here:\n",
      " |  \n",
      " |  __init__(self, data: pandas.core.frame.DataFrame, columns: Optional[list] = None, categorical: Optional[list] = None, groupby: Optional[str] = None, nonnormal: Optional[list] = None, min_max: Optional[list] = None, pval: Optional[bool] = False, pval_adjust: Optional[str] = None, htest_name: bool = False, pval_test_name: bool = False, htest: Optional[dict] = None, isnull: Optional[bool] = None, missing: bool = True, ddof: int = 1, labels: Optional[dict] = None, rename: Optional[dict] = None, sort: Union[bool, str] = False, limit: Union[int, dict, NoneType] = None, order: Optional[dict] = None, remarks: bool = False, label_suffix: bool = True, decimals: Union[int, dict] = 1, smd: bool = False, overall: bool = True, row_percent: bool = False, display_all: bool = False, dip_test: bool = False, normal_test: bool = False, tukey_test: bool = False) -> None\n",
      " |      Initialize self.  See help(type(self)) for accurate signature.\n",
      " |  \n",
      " |  __repr__(self)\n",
      " |      Return repr(self).\n",
      " |  \n",
      " |  __str__(self)\n",
      " |      Return str(self).\n",
      " |  \n",
      " |  tabulate(self, headers=None, tablefmt='grid', **kwargs)\n",
      " |      Pretty-print tableone data. Wrapper for the Python 'tabulate' library.\n",
      " |      \n",
      " |      Args:\n",
      " |          headers (list): Defines a list of column headers to be used.\n",
      " |          tablefmt (str): Defines how the table is formatted. Table formats\n",
      " |              include: 'plain','simple','github','grid','fancy_grid','pipe',\n",
      " |              'orgtbl','jira','presto','psql','rst','mediawiki','moinmoin',\n",
      " |              'youtrack','html','latex','latex_raw','latex_booktabs',\n",
      " |              and 'textile'.\n",
      " |      \n",
      " |      Examples:\n",
      " |          To output tableone in github syntax, call tabulate with the\n",
      " |              'tablefmt=\"github\"' argument.\n",
      " |      \n",
      " |          >>> print(tableone.tabulate(tablefmt='fancy_grid'))\n",
      " |  \n",
      " |  ----------------------------------------------------------------------\n",
      " |  Data descriptors defined here:\n",
      " |  \n",
      " |  __dict__\n",
      " |      dictionary for instance variables (if defined)\n",
      " |  \n",
      " |  __weakref__\n",
      " |      list of weak references to the object (if defined)\n",
      "\n"
     ]
    }
   ],
   "source": [
    "help(tableone.TableOne)"
   ]
  },
  {
   "cell_type": "markdown",
   "id": "8dd65d44",
   "metadata": {},
   "source": [
    "# 시각화"
   ]
  },
  {
   "cell_type": "code",
   "execution_count": 56,
   "id": "66f535a6",
   "metadata": {},
   "outputs": [],
   "source": [
    "import seaborn"
   ]
  },
  {
   "cell_type": "code",
   "execution_count": 91,
   "id": "3376d2e9",
   "metadata": {
    "collapsed": true
   },
   "outputs": [
    {
     "data": {
      "text/plain": [
       "['FacetGrid',\n",
       " 'JointGrid',\n",
       " 'PairGrid',\n",
       " '__builtins__',\n",
       " '__cached__',\n",
       " '__doc__',\n",
       " '__file__',\n",
       " '__loader__',\n",
       " '__name__',\n",
       " '__package__',\n",
       " '__path__',\n",
       " '__spec__',\n",
       " '__version__',\n",
       " '_core',\n",
       " '_decorators',\n",
       " '_docstrings',\n",
       " '_orig_rc_params',\n",
       " '_statistics',\n",
       " 'algorithms',\n",
       " 'axes_style',\n",
       " 'axisgrid',\n",
       " 'barplot',\n",
       " 'blend_palette',\n",
       " 'boxenplot',\n",
       " 'boxplot',\n",
       " 'categorical',\n",
       " 'catplot',\n",
       " 'choose_colorbrewer_palette',\n",
       " 'choose_cubehelix_palette',\n",
       " 'choose_dark_palette',\n",
       " 'choose_diverging_palette',\n",
       " 'choose_light_palette',\n",
       " 'clustermap',\n",
       " 'cm',\n",
       " 'color_palette',\n",
       " 'colors',\n",
       " 'countplot',\n",
       " 'crayon_palette',\n",
       " 'crayons',\n",
       " 'cubehelix_palette',\n",
       " 'dark_palette',\n",
       " 'desaturate',\n",
       " 'despine',\n",
       " 'displot',\n",
       " 'distplot',\n",
       " 'distributions',\n",
       " 'diverging_palette',\n",
       " 'dogplot',\n",
       " 'ecdfplot',\n",
       " 'external',\n",
       " 'factorplot',\n",
       " 'get_data_home',\n",
       " 'get_dataset_names',\n",
       " 'heatmap',\n",
       " 'histplot',\n",
       " 'hls_palette',\n",
       " 'husl_palette',\n",
       " 'jointplot',\n",
       " 'kdeplot',\n",
       " 'light_palette',\n",
       " 'lineplot',\n",
       " 'lmplot',\n",
       " 'load_dataset',\n",
       " 'matrix',\n",
       " 'miscplot',\n",
       " 'move_legend',\n",
       " 'mpl',\n",
       " 'mpl_palette',\n",
       " 'pairplot',\n",
       " 'palettes',\n",
       " 'palplot',\n",
       " 'plotting_context',\n",
       " 'pointplot',\n",
       " 'rcmod',\n",
       " 'regplot',\n",
       " 'regression',\n",
       " 'relational',\n",
       " 'relplot',\n",
       " 'reset_defaults',\n",
       " 'reset_orig',\n",
       " 'residplot',\n",
       " 'rugplot',\n",
       " 'saturate',\n",
       " 'scatterplot',\n",
       " 'set',\n",
       " 'set_color_codes',\n",
       " 'set_context',\n",
       " 'set_hls_values',\n",
       " 'set_palette',\n",
       " 'set_style',\n",
       " 'set_theme',\n",
       " 'stripplot',\n",
       " 'swarmplot',\n",
       " 'utils',\n",
       " 'violinplot',\n",
       " 'widgets',\n",
       " 'xkcd_palette',\n",
       " 'xkcd_rgb']"
      ]
     },
     "execution_count": 91,
     "metadata": {},
     "output_type": "execute_result"
    }
   ],
   "source": [
    "dir(seaborn)"
   ]
  },
  {
   "cell_type": "code",
   "execution_count": 57,
   "id": "38644bf5",
   "metadata": {},
   "outputs": [
    {
     "name": "stdout",
     "output_type": "stream",
     "text": [
      "Help on function barplot in module seaborn.categorical:\n",
      "\n",
      "barplot(*, x=None, y=None, hue=None, data=None, order=None, hue_order=None, estimator=<function mean at 0x000002719C6F60D0>, ci=95, n_boot=1000, units=None, seed=None, orient=None, color=None, palette=None, saturation=0.75, errcolor='.26', errwidth=None, capsize=None, dodge=True, ax=None, **kwargs)\n",
      "    Show point estimates and confidence intervals as rectangular bars.\n",
      "    \n",
      "    A bar plot represents an estimate of central tendency for a numeric\n",
      "    variable with the height of each rectangle and provides some indication of\n",
      "    the uncertainty around that estimate using error bars. Bar plots include 0\n",
      "    in the quantitative axis range, and they are a good choice when 0 is a\n",
      "    meaningful value for the quantitative variable, and you want to make\n",
      "    comparisons against it.\n",
      "    \n",
      "    For datasets where 0 is not a meaningful value, a point plot will allow you\n",
      "    to focus on differences between levels of one or more categorical\n",
      "    variables.\n",
      "    \n",
      "    It is also important to keep in mind that a bar plot shows only the mean\n",
      "    (or other estimator) value, but in many cases it may be more informative to\n",
      "    show the distribution of values at each level of the categorical variables.\n",
      "    In that case, other approaches such as a box or violin plot may be more\n",
      "    appropriate.\n",
      "    \n",
      "    \n",
      "    Input data can be passed in a variety of formats, including:\n",
      "    \n",
      "    - Vectors of data represented as lists, numpy arrays, or pandas Series\n",
      "      objects passed directly to the ``x``, ``y``, and/or ``hue`` parameters.\n",
      "    - A \"long-form\" DataFrame, in which case the ``x``, ``y``, and ``hue``\n",
      "      variables will determine how the data are plotted.\n",
      "    - A \"wide-form\" DataFrame, such that each numeric column will be plotted.\n",
      "    - An array or list of vectors.\n",
      "    \n",
      "    In most cases, it is possible to use numpy or Python objects, but pandas\n",
      "    objects are preferable because the associated names will be used to\n",
      "    annotate the axes. Additionally, you can use Categorical types for the\n",
      "    grouping variables to control the order of plot elements.    \n",
      "    \n",
      "    This function always treats one of the variables as categorical and\n",
      "    draws data at ordinal positions (0, 1, ... n) on the relevant axis, even\n",
      "    when the data has a numeric or date type.\n",
      "    \n",
      "    See the :ref:`tutorial <categorical_tutorial>` for more information.    \n",
      "    \n",
      "    Parameters\n",
      "    ----------\n",
      "    x, y, hue : names of variables in ``data`` or vector data, optional\n",
      "        Inputs for plotting long-form data. See examples for interpretation.        \n",
      "    data : DataFrame, array, or list of arrays, optional\n",
      "        Dataset for plotting. If ``x`` and ``y`` are absent, this is\n",
      "        interpreted as wide-form. Otherwise it is expected to be long-form.    \n",
      "    order, hue_order : lists of strings, optional\n",
      "        Order to plot the categorical levels in, otherwise the levels are\n",
      "        inferred from the data objects.        \n",
      "    estimator : callable that maps vector -> scalar, optional\n",
      "        Statistical function to estimate within each categorical bin.\n",
      "    ci : float or \"sd\" or None, optional\n",
      "        Size of confidence intervals to draw around estimated values.  If\n",
      "        \"sd\", skip bootstrapping and draw the standard deviation of the\n",
      "        observations. If ``None``, no bootstrapping will be performed, and\n",
      "        error bars will not be drawn.\n",
      "    n_boot : int, optional\n",
      "        Number of bootstrap iterations to use when computing confidence\n",
      "        intervals.\n",
      "    units : name of variable in ``data`` or vector data, optional\n",
      "        Identifier of sampling units, which will be used to perform a\n",
      "        multilevel bootstrap and account for repeated measures design.\n",
      "    seed : int, numpy.random.Generator, or numpy.random.RandomState, optional\n",
      "        Seed or random number generator for reproducible bootstrapping.    \n",
      "    orient : \"v\" | \"h\", optional\n",
      "        Orientation of the plot (vertical or horizontal). This is usually\n",
      "        inferred based on the type of the input variables, but it can be used\n",
      "        to resolve ambiguity when both `x` and `y` are numeric or when\n",
      "        plotting wide-form data.    \n",
      "    color : matplotlib color, optional\n",
      "        Color for all of the elements, or seed for a gradient palette.    \n",
      "    palette : palette name, list, or dict\n",
      "        Colors to use for the different levels of the ``hue`` variable. Should\n",
      "        be something that can be interpreted by :func:`color_palette`, or a\n",
      "        dictionary mapping hue levels to matplotlib colors.    \n",
      "    saturation : float, optional\n",
      "        Proportion of the original saturation to draw colors at. Large patches\n",
      "        often look better with slightly desaturated colors, but set this to\n",
      "        ``1`` if you want the plot colors to perfectly match the input color\n",
      "        spec.    \n",
      "    errcolor : matplotlib color\n",
      "        Color for the lines that represent the confidence interval.\n",
      "    errwidth : float, optional\n",
      "        Thickness of error bar lines (and caps).         \n",
      "    capsize : float, optional\n",
      "        Width of the \"caps\" on error bars.\n",
      "    \n",
      "    dodge : bool, optional\n",
      "        When hue nesting is used, whether elements should be shifted along the\n",
      "        categorical axis.    \n",
      "    ax : matplotlib Axes, optional\n",
      "        Axes object to draw the plot onto, otherwise uses the current Axes.    \n",
      "    kwargs : key, value mappings\n",
      "        Other keyword arguments are passed through to\n",
      "        :meth:`matplotlib.axes.Axes.bar`.\n",
      "    \n",
      "    Returns\n",
      "    -------\n",
      "    ax : matplotlib Axes\n",
      "        Returns the Axes object with the plot drawn onto it.    \n",
      "    \n",
      "    See Also\n",
      "    --------\n",
      "    countplot : Show the counts of observations in each categorical bin.    \n",
      "    pointplot : Show point estimates and confidence intervals using scatterplot\n",
      "                glyphs.    \n",
      "    catplot : Combine a categorical plot with a :class:`FacetGrid`.    \n",
      "    \n",
      "    Examples\n",
      "    --------\n",
      "    \n",
      "    Draw a set of vertical bar plots grouped by a categorical variable:\n",
      "    \n",
      "    .. plot::\n",
      "        :context: close-figs\n",
      "    \n",
      "        >>> import seaborn as sns\n",
      "        >>> sns.set_theme(style=\"whitegrid\")\n",
      "        >>> tips = sns.load_dataset(\"tips\")\n",
      "        >>> ax = sns.barplot(x=\"day\", y=\"total_bill\", data=tips)\n",
      "    \n",
      "    Draw a set of vertical bars with nested grouping by a two variables:\n",
      "    \n",
      "    .. plot::\n",
      "        :context: close-figs\n",
      "    \n",
      "        >>> ax = sns.barplot(x=\"day\", y=\"total_bill\", hue=\"sex\", data=tips)\n",
      "    \n",
      "    Draw a set of horizontal bars:\n",
      "    \n",
      "    .. plot::\n",
      "        :context: close-figs\n",
      "    \n",
      "        >>> ax = sns.barplot(x=\"tip\", y=\"day\", data=tips)\n",
      "    \n",
      "    Control bar order by passing an explicit order:\n",
      "    \n",
      "    .. plot::\n",
      "        :context: close-figs\n",
      "    \n",
      "        >>> ax = sns.barplot(x=\"time\", y=\"tip\", data=tips,\n",
      "        ...                  order=[\"Dinner\", \"Lunch\"])\n",
      "    \n",
      "    Use median as the estimate of central tendency:\n",
      "    \n",
      "    .. plot::\n",
      "        :context: close-figs\n",
      "    \n",
      "        >>> from numpy import median\n",
      "        >>> ax = sns.barplot(x=\"day\", y=\"tip\", data=tips, estimator=median)\n",
      "    \n",
      "    Show the standard error of the mean with the error bars:\n",
      "    \n",
      "    .. plot::\n",
      "        :context: close-figs\n",
      "    \n",
      "        >>> ax = sns.barplot(x=\"day\", y=\"tip\", data=tips, ci=68)\n",
      "    \n",
      "    Show standard deviation of observations instead of a confidence interval:\n",
      "    \n",
      "    .. plot::\n",
      "        :context: close-figs\n",
      "    \n",
      "        >>> ax = sns.barplot(x=\"day\", y=\"tip\", data=tips, ci=\"sd\")\n",
      "    \n",
      "    Add \"caps\" to the error bars:\n",
      "    \n",
      "    .. plot::\n",
      "        :context: close-figs\n",
      "    \n",
      "        >>> ax = sns.barplot(x=\"day\", y=\"tip\", data=tips, capsize=.2)\n",
      "    \n",
      "    Use a different color palette for the bars:\n",
      "    \n",
      "    .. plot::\n",
      "        :context: close-figs\n",
      "    \n",
      "        >>> ax = sns.barplot(x=\"size\", y=\"total_bill\", data=tips,\n",
      "        ...                  palette=\"Blues_d\")\n",
      "    \n",
      "    Use ``hue`` without changing bar position or width:\n",
      "    \n",
      "    .. plot::\n",
      "        :context: close-figs\n",
      "    \n",
      "        >>> tips[\"weekend\"] = tips[\"day\"].isin([\"Sat\", \"Sun\"])\n",
      "        >>> ax = sns.barplot(x=\"day\", y=\"total_bill\", hue=\"weekend\",\n",
      "        ...                  data=tips, dodge=False)\n",
      "    \n",
      "    Plot all bars in a single color:\n",
      "    \n",
      "    .. plot::\n",
      "        :context: close-figs\n",
      "    \n",
      "        >>> ax = sns.barplot(x=\"size\", y=\"total_bill\", data=tips,\n",
      "        ...                  color=\"salmon\", saturation=.5)\n",
      "    \n",
      "    Use :meth:`matplotlib.axes.Axes.bar` parameters to control the style.\n",
      "    \n",
      "    .. plot::\n",
      "        :context: close-figs\n",
      "    \n",
      "        >>> ax = sns.barplot(x=\"day\", y=\"total_bill\", data=tips,\n",
      "        ...                  linewidth=2.5, facecolor=(1, 1, 1, 0),\n",
      "        ...                  errcolor=\".2\", edgecolor=\".2\")\n",
      "    \n",
      "    Use :func:`catplot` to combine a :func:`barplot` and a :class:`FacetGrid`.\n",
      "    This allows grouping within additional categorical variables. Using\n",
      "    :func:`catplot` is safer than using :class:`FacetGrid` directly, as it\n",
      "    ensures synchronization of variable order across facets:\n",
      "    \n",
      "    .. plot::\n",
      "        :context: close-figs\n",
      "    \n",
      "        >>> g = sns.catplot(x=\"sex\", y=\"total_bill\",\n",
      "        ...                 hue=\"smoker\", col=\"time\",\n",
      "        ...                 data=tips, kind=\"bar\",\n",
      "        ...                 height=4, aspect=.7);\n",
      "\n"
     ]
    }
   ],
   "source": [
    "help(seaborn.barplot)"
   ]
  },
  {
   "cell_type": "code",
   "execution_count": 58,
   "id": "978d4b91",
   "metadata": {},
   "outputs": [
    {
     "data": {
      "text/plain": [
       "<AxesSubplot:xlabel='Relapse', ylabel='Age'>"
      ]
     },
     "execution_count": 58,
     "metadata": {},
     "output_type": "execute_result"
    },
    {
     "data": {
      "image/png": "[encoded data removed]",
      "text/plain": [
       "<Figure size 432x288 with 1 Axes>"
      ]
     },
     "metadata": {
      "needs_background": "light"
     },
     "output_type": "display_data"
    }
   ],
   "source": [
    "# Age에 대하여 boxplot 그리기\n",
    "seaborn.boxplot(x=\"Relapse\", y=\"Age\", data=Clinical)"
   ]
  },
  {
   "cell_type": "code",
   "execution_count": 59,
   "id": "b71fb5e5",
   "metadata": {},
   "outputs": [
    {
     "data": {
      "text/plain": [
       "<AxesSubplot:xlabel='Relapse', ylabel='CEA_Post'>"
      ]
     },
     "execution_count": 59,
     "metadata": {},
     "output_type": "execute_result"
    },
    {
     "data": {
      "image/png": "[encoded data removed]",
      "text/plain": [
       "<Figure size 432x288 with 1 Axes>"
      ]
     },
     "metadata": {
      "needs_background": "light"
     },
     "output_type": "display_data"
    }
   ],
   "source": [
    "# boxplot\n",
    "seaborn.boxplot(x=\"Relapse\", y=\"CEA_Post\", data=Clinical)"
   ]
  },
  {
   "cell_type": "code",
   "execution_count": 60,
   "id": "a5355ca6",
   "metadata": {
    "scrolled": true
   },
   "outputs": [
    {
     "data": {
      "text/plain": [
       "<AxesSubplot:ylabel='Density'>"
      ]
     },
     "execution_count": 60,
     "metadata": {},
     "output_type": "execute_result"
    },
    {
     "data": {
      "image/png": "[encoded data removed]",
      "text/plain": [
       "<Figure size 432x288 with 1 Axes>"
      ]
     },
     "metadata": {
      "needs_background": "light"
     },
     "output_type": "display_data"
    }
   ],
   "source": [
    "Clinical[\"CEA_Post\"].plot.density()"
   ]
  },
  {
   "cell_type": "code",
   "execution_count": 61,
   "id": "4eb26cb0",
   "metadata": {},
   "outputs": [
    {
     "data": {
      "text/plain": [
       "<AxesSubplot:ylabel='Density'>"
      ]
     },
     "execution_count": 61,
     "metadata": {},
     "output_type": "execute_result"
    },
    {
     "data": {
      "image/png": "[encoded data removed]",
      "text/plain": [
       "<Figure size 432x288 with 1 Axes>"
      ]
     },
     "metadata": {
      "needs_background": "light"
     },
     "output_type": "display_data"
    }
   ],
   "source": [
    "# CEA_Post는 exponential scale\n",
    "import numpy as np\n",
    "np.log(Clinical[\"CEA_Post\"] + 1).plot.density()\n"
   ]
  },
  {
   "cell_type": "code",
   "execution_count": 62,
   "id": "10b6bf27",
   "metadata": {},
   "outputs": [
    {
     "data": {
      "image/png": "[encoded data removed]",
      "text/plain": [
       "<Figure size 360x432 with 1 Axes>"
      ]
     },
     "metadata": {
      "needs_background": "light"
     },
     "output_type": "display_data"
    }
   ],
   "source": [
    "# matplot library 사용\n",
    "# 실제 CEA_Post 값을 log(x + 1)로 변형해도 됨.\n",
    "\n",
    "# 이 예제에서는 matplot lib에서 y축을 강제로 log scale로 바꾸는 방법\n",
    "import matplotlib.pyplot as plt\n",
    "\n",
    "# subplot 객체 만들기\n",
    "fig, ax= plt.subplots(figsize=(5, 6))\n",
    "\n",
    "# y축 log scale로 바꾸기\n",
    "ax.set_yscale('log')\n",
    "\n",
    "# boxplot 그리기\n",
    "seaborn.boxplot(x=\"Relapse\", y=\"CEA_Post\", data=Clinical)\n",
    "\n",
    "# 최종 그림 띄우기\n",
    "plt.tight_layout()"
   ]
  },
  {
   "cell_type": "markdown",
   "id": "06ebe79c",
   "metadata": {},
   "source": [
    "## Relapse에 따른 CEA_Post의 비교. (통계)"
   ]
  },
  {
   "cell_type": "markdown",
   "id": "edd2ac07",
   "metadata": {},
   "source": [
    "https://wjddyd66.github.io/dataanalysis/T/"
   ]
  },
  {
   "cell_type": "code",
   "execution_count": 63,
   "id": "625b13fe",
   "metadata": {},
   "outputs": [
    {
     "name": "stdout",
     "output_type": "stream",
     "text": [
      "Collecting stats\n",
      "  Downloading stats-0.1.2a.tar.gz (127 kB)\n",
      "Building wheels for collected packages: stats\n",
      "  Building wheel for stats (setup.py): started\n",
      "  Building wheel for stats (setup.py): finished with status 'done'\n",
      "  Created wheel for stats: filename=stats-0.1.2a0-py3-none-any.whl size=24297 sha256=c537eb1b8709b25ce822dccff9780a8b55a29da37126cfc340f4b77e683de7c5\n",
      "  Stored in directory: c:\\users\\user\\appdata\\local\\pip\\cache\\wheels\\15\\a4\\f5\\a7431ca9ac466505e866f76a55ae9f94192eafb0f634fce49f\n",
      "Successfully built stats\n",
      "Installing collected packages: stats\n",
      "Successfully installed stats-0.1.2a0\n",
      "Requirement already satisfied: scipy in c:\\users\\user\\anaconda3\\lib\\site-packages (1.7.1)\n",
      "Requirement already satisfied: numpy<1.23.0,>=1.16.5 in c:\\users\\user\\anaconda3\\lib\\site-packages (from scipy) (1.20.3)\n"
     ]
    }
   ],
   "source": [
    "!pip3 install stats\n",
    "!pip3 install scipy"
   ]
  },
  {
   "cell_type": "code",
   "execution_count": 64,
   "id": "b6b67109",
   "metadata": {},
   "outputs": [],
   "source": [
    "import stats\n",
    "import scipy\n",
    "\n",
    "# 둘 간의 차이를 확인하기 위해서, T. test를 사용?\n",
    "# 분포에 의해 Wilcox test, Mann-whitney u test를 써야함"
   ]
  },
  {
   "cell_type": "code",
   "execution_count": 65,
   "id": "23586c9e",
   "metadata": {},
   "outputs": [
    {
     "data": {
      "text/plain": [
       "<function scipy.stats._mannwhitneyu.mannwhitneyu(x, y, use_continuity=True, alternative='two-sided', axis=0, method='auto')>"
      ]
     },
     "execution_count": 65,
     "metadata": {},
     "output_type": "execute_result"
    }
   ],
   "source": [
    "scipy.stats.mannwhitneyu"
   ]
  },
  {
   "cell_type": "code",
   "execution_count": 66,
   "id": "c157b596",
   "metadata": {},
   "outputs": [
    {
     "name": "stdout",
     "output_type": "stream",
     "text": [
      "Help on function mannwhitneyu in module scipy.stats._mannwhitneyu:\n",
      "\n",
      "mannwhitneyu(x, y, use_continuity=True, alternative='two-sided', axis=0, method='auto')\n",
      "    Perform the Mann-Whitney U rank test on two independent samples.\n",
      "    \n",
      "    The Mann-Whitney U test is a nonparametric test of the null hypothesis\n",
      "    that the distribution underlying sample `x` is the same as the\n",
      "    distribution underlying sample `y`. It is often used as a test of\n",
      "    of difference in location between distributions.\n",
      "    \n",
      "    Parameters\n",
      "    ----------\n",
      "    x, y : array-like\n",
      "        N-d arrays of samples. The arrays must be broadcastable except along\n",
      "        the dimension given by `axis`.\n",
      "    use_continuity : bool, optional\n",
      "            Whether a continuity correction (1/2) should be applied.\n",
      "            Default is True when `method` is ``'asymptotic'``; has no effect\n",
      "            otherwise.\n",
      "    alternative : {'two-sided', 'less', 'greater'}, optional\n",
      "        Defines the alternative hypothesis. Default is 'two-sided'.\n",
      "        Let *F(u)* and *G(u)* be the cumulative distribution functions of the\n",
      "        distributions underlying `x` and `y`, respectively. Then the following\n",
      "        alternative hypotheses are available:\n",
      "    \n",
      "        * 'two-sided': the distributions are not equal, i.e. *F(u) ≠ G(u)* for\n",
      "          at least one *u*.\n",
      "        * 'less': the distribution underlying `x` is stochastically less\n",
      "          than the distribution underlying `y`, i.e. *F(u) > G(u)* for all *u*.\n",
      "        * 'greater': the distribution underlying `x` is stochastically greater\n",
      "          than the distribution underlying `y`, i.e. *F(u) < G(u)* for all *u*.\n",
      "    \n",
      "        Under a more restrictive set of assumptions, the alternative hypotheses\n",
      "        can be expressed in terms of the locations of the distributions;\n",
      "        see [5] section 5.1.\n",
      "    axis : int, optional\n",
      "        Axis along which to perform the test. Default is 0.\n",
      "    method : {'auto', 'asymptotic', 'exact'}, optional\n",
      "        Selects the method used to calculate the *p*-value.\n",
      "        Default is 'auto'. The following options are available.\n",
      "    \n",
      "        * ``'asymptotic'``: compares the standardized test statistic\n",
      "          against the normal distribution, correcting for ties.\n",
      "        * ``'exact'``: computes the exact *p*-value by comparing the observed\n",
      "          :math:`U` statistic against the exact distribution of the :math:`U`\n",
      "          statistic under the null hypothesis. No correction is made for ties.\n",
      "        * ``'auto'``: chooses ``'exact'`` when the size of one of the samples\n",
      "          is less than 8 and there are no ties; chooses ``'asymptotic'``\n",
      "          otherwise.\n",
      "    \n",
      "    Returns\n",
      "    -------\n",
      "    res : MannwhitneyuResult\n",
      "        An object containing attributes:\n",
      "    \n",
      "        statistic : float\n",
      "            The Mann-Whitney U statistic corresponding with sample `x`. See\n",
      "            Notes for the test statistic corresponding with sample `y`.\n",
      "        pvalue : float\n",
      "            The associated *p*-value for the chosen `alternative`.\n",
      "    \n",
      "    Notes\n",
      "    -----\n",
      "    If ``U1`` is the statistic corresponding with sample `x`, then the\n",
      "    statistic corresponding with sample `y` is\n",
      "    `U2 = `x.shape[axis] * y.shape[axis] - U1``.\n",
      "    \n",
      "    `mannwhitneyu` is for independent samples. For related / paired samples,\n",
      "    consider `scipy.stats.wilcoxon`.\n",
      "    \n",
      "    `method` ``'exact'`` is recommended when there are no ties and when either\n",
      "    sample size is less than 8 [1]_. The implementation follows the recurrence\n",
      "    relation originally proposed in [1]_ as it is described in [3]_.\n",
      "    Note that the exact method is *not* corrected for ties, but\n",
      "    `mannwhitneyu` will not raise errors or warnings if there are ties in the\n",
      "    data.\n",
      "    \n",
      "    The Mann-Whitney U test is a non-parametric version of the t-test for\n",
      "    independent samples. When the the means of samples from the populations\n",
      "    are normally distributed, consider `scipy.stats.ttest_ind`.\n",
      "    \n",
      "    See Also\n",
      "    --------\n",
      "    scipy.stats.wilcoxon, scipy.stats.ranksums, scipy.stats.ttest_ind\n",
      "    \n",
      "    References\n",
      "    ----------\n",
      "    .. [1] H.B. Mann and D.R. Whitney, \"On a test of whether one of two random\n",
      "           variables is stochastically larger than the other\", The Annals of\n",
      "           Mathematical Statistics, Vol. 18, pp. 50-60, 1947.\n",
      "    .. [2] Mann-Whitney U Test, Wikipedia,\n",
      "           http://en.wikipedia.org/wiki/Mann-Whitney_U_test\n",
      "    .. [3] A. Di Bucchianico, \"Combinatorics, computer algebra, and the\n",
      "           Wilcoxon-Mann-Whitney test\", Journal of Statistical Planning and\n",
      "           Inference, Vol. 79, pp. 349-364, 1999.\n",
      "    .. [4] Rosie Shier, \"Statistics: 2.3 The Mann-Whitney U Test\", Mathematics\n",
      "           Learning Support Centre, 2004.\n",
      "    .. [5] Michael P. Fay and Michael A. Proschan. \"Wilcoxon-Mann-Whitney\n",
      "           or t-test? On assumptions for hypothesis tests and multiple \\\n",
      "           interpretations of decision rules.\" Statistics surveys, Vol. 4, pp.\n",
      "           1-39, 2010. https://www.ncbi.nlm.nih.gov/pmc/articles/PMC2857732/\n",
      "    \n",
      "    Examples\n",
      "    --------\n",
      "    We follow the example from [4]_: nine randomly sampled young adults were\n",
      "    diagnosed with type II diabetes at the ages below.\n",
      "    \n",
      "    >>> males = [19, 22, 16, 29, 24]\n",
      "    >>> females = [20, 11, 17, 12]\n",
      "    \n",
      "    We use the Mann-Whitney U test to assess whether there is a statistically\n",
      "    significant difference in the diagnosis age of males and females.\n",
      "    The null hypothesis is that the distribution of male diagnosis ages is\n",
      "    the same as the distribution of female diagnosis ages. We decide\n",
      "    that a confidence level of 95% is required to reject the null hypothesis\n",
      "    in favor of the alternative that that the distributions are different.\n",
      "    Since the number of samples is very small and there are no ties in the\n",
      "    data, we can compare the observed test statistic against the *exact*\n",
      "    distribution of the test statistic under the null hypothesis.\n",
      "    \n",
      "    >>> from scipy.stats import mannwhitneyu\n",
      "    >>> U1, p = mannwhitneyu(males, females, method=\"exact\")\n",
      "    >>> print(U1)\n",
      "    17.0\n",
      "    \n",
      "    `mannwhitneyu` always reports the statistic associated with the first\n",
      "    sample, which, in this case, is males. This agrees with :math:`U_M = 17`\n",
      "    reported in [4]_. The statistic associated with the second statistic\n",
      "    can be calculated:\n",
      "    \n",
      "    >>> nx, ny = len(males), len(females)\n",
      "    >>> U2 = nx*ny - U1\n",
      "    >>> print(U2)\n",
      "    3.0\n",
      "    \n",
      "    This agrees with :math:`U_F = 3` reported in [4]_. The two-sided\n",
      "    *p*-value can be calculated from either statistic, and the value produced\n",
      "    by `mannwhitneyu` agrees with :math:`p = 0.11` reported in [4]_.\n",
      "    \n",
      "    >>> print(p)\n",
      "    0.1111111111111111\n",
      "    \n",
      "    The exact distribution of the test statistic is asymptotically normal, so\n",
      "    the example continues by comparing the exact *p*-value against the\n",
      "    *p*-value produced using the normal approximation.\n",
      "    \n",
      "    >>> _, pnorm = mannwhitneyu(males, females, method=\"asymptotic\")\n",
      "    >>> print(pnorm)\n",
      "    0.11134688653314041\n",
      "    \n",
      "    Here `mannwhitneyu`'s reported *p*-value appears to conflict with the\n",
      "    value :math:`p = 0.09` given in [4]_. The reason is that [4]_\n",
      "    does not apply the continuity correction performed by `mannwhitneyu`;\n",
      "    `mannwhitneyu` reduces the distance between the test statistic and the\n",
      "    mean :math:`\\mu = n_x n_y / 2` by 0.5 to correct for the fact that the\n",
      "    discrete statistic is being compared against a continuous distribution.\n",
      "    Here, the :math:`U` statistic used is less than the mean, so we reduce\n",
      "    the distance by adding 0.5 in the numerator.\n",
      "    \n",
      "    >>> import numpy as np\n",
      "    >>> from scipy.stats import norm\n",
      "    >>> U = min(U1, U2)\n",
      "    >>> N = nx + ny\n",
      "    >>> z = (U - nx*ny/2 + 0.5) / np.sqrt(nx*ny * (N + 1)/ 12)\n",
      "    >>> p = 2 * norm.cdf(z)  # use CDF to get p-value from smaller statistic\n",
      "    >>> print(p)\n",
      "    0.11134688653314041\n",
      "    \n",
      "    If desired, we can disable the continuity correction to get a result\n",
      "    that agrees with that reported in [4]_.\n",
      "    \n",
      "    >>> _, pnorm = mannwhitneyu(males, females, use_continuity=False,\n",
      "    ...                         method=\"asymptotic\")\n",
      "    >>> print(pnorm)\n",
      "    0.0864107329737\n",
      "    \n",
      "    Regardless of whether we perform an exact or asymptotic test, the\n",
      "    probability of the test statistic being as extreme or more extreme by\n",
      "    chance exceeds 5%, so we do not consider the results statistically\n",
      "    significant.\n",
      "    \n",
      "    Suppose that, before seeing the data, we had hypothesized that females\n",
      "    would tend to be diagnosed at a younger age than males.\n",
      "    In that case, it would be natural to provide the female ages as the\n",
      "    first input, and we would have performed a one-sided test using\n",
      "    ``alternative = 'less'``: females are diagnosed at an age that is\n",
      "    stochastically less than that of males.\n",
      "    \n",
      "    >>> res = mannwhitneyu(females, males, alternative=\"less\", method=\"exact\")\n",
      "    >>> print(res)\n",
      "    MannwhitneyuResult(statistic=3.0, pvalue=0.05555555555555555)\n",
      "    \n",
      "    Again, the probability of getting a sufficiently low value of the\n",
      "    test statistic by chance under the null hypothesis is greater than 5%,\n",
      "    so we do not reject the null hypothesis in favor of our alternative.\n",
      "    \n",
      "    If it is reasonable to assume that the means of samples from the\n",
      "    populations are normally distributed, we could have used a t-test to\n",
      "    perform the analysis.\n",
      "    \n",
      "    >>> from scipy.stats import ttest_ind\n",
      "    >>> res = ttest_ind(females, males, alternative=\"less\")\n",
      "    >>> print(res)\n",
      "    Ttest_indResult(statistic=-2.239334696520584, pvalue=0.030068441095757924)\n",
      "    \n",
      "    Under this assumption, the *p*-value would be low enough to reject the\n",
      "    null hypothesis in favor of the alternative.\n",
      "\n"
     ]
    }
   ],
   "source": [
    "help(scipy.stats.mannwhitneyu)"
   ]
  },
  {
   "cell_type": "code",
   "execution_count": 67,
   "id": "d9275e7a",
   "metadata": {},
   "outputs": [
    {
     "data": {
      "text/plain": [
       "0       0.0\n",
       "1       1.2\n",
       "2       1.8\n",
       "3       0.0\n",
       "4      52.0\n",
       "       ... \n",
       "387     1.7\n",
       "388     4.1\n",
       "389     2.2\n",
       "390     5.2\n",
       "391     2.8\n",
       "Name: CEA_Post, Length: 392, dtype: float64"
      ]
     },
     "execution_count": 67,
     "metadata": {},
     "output_type": "execute_result"
    }
   ],
   "source": [
    "Clinical['CEA_Post']"
   ]
  },
  {
   "cell_type": "code",
   "execution_count": 68,
   "id": "fc2a5f83",
   "metadata": {},
   "outputs": [
    {
     "data": {
      "text/plain": [
       "2        1.8\n",
       "4       52.0\n",
       "5        1.9\n",
       "8        2.9\n",
       "10     319.0\n",
       "       ...  \n",
       "376      2.0\n",
       "377      1.9\n",
       "385     11.6\n",
       "386    200.0\n",
       "391      2.8\n",
       "Name: CEA_Post, Length: 165, dtype: float64"
      ]
     },
     "execution_count": 68,
     "metadata": {},
     "output_type": "execute_result"
    }
   ],
   "source": [
    "Clinical['CEA_Post'][Clinical['Relapse'] == 0]\n",
    "Clinical['CEA_Post'][Clinical['Relapse'] == 1]"
   ]
  },
  {
   "cell_type": "code",
   "execution_count": 69,
   "id": "c163d8f2",
   "metadata": {},
   "outputs": [],
   "source": [
    "mannRes = scipy.stats.mannwhitneyu(\n",
    "    x = Clinical['CEA_Post'][Clinical['Relapse'] == 0],\n",
    "    y = Clinical['CEA_Post'][Clinical['Relapse'] == 1]\n",
    ")"
   ]
  },
  {
   "cell_type": "code",
   "execution_count": 70,
   "id": "514d1af8",
   "metadata": {},
   "outputs": [
    {
     "data": {
      "text/plain": [
       "0.0028206893498358924"
      ]
     },
     "execution_count": 70,
     "metadata": {},
     "output_type": "execute_result"
    }
   ],
   "source": [
    "mannRes.pvalue"
   ]
  },
  {
   "cell_type": "code",
   "execution_count": 71,
   "id": "f6a8c4ee",
   "metadata": {},
   "outputs": [
    {
     "data": {
      "image/png": "[encoded data removed]",
      "text/plain": [
       "<Figure size 360x432 with 1 Axes>"
      ]
     },
     "metadata": {
      "needs_background": "light"
     },
     "output_type": "display_data"
    }
   ],
   "source": [
    "# matplot library 사용\n",
    "# 실제 CEA_Post 값을 log(x + 1)로 변형해도 됨.\n",
    "\n",
    "# 이 예제에서는 matplot lib에서 y축을 강제로 log scale로 바꾸는 방법\n",
    "import matplotlib.pyplot as plt\n",
    "\n",
    "# subplot 객체 만들기\n",
    "fig, ax= plt.subplots(figsize=(5, 6))\n",
    "\n",
    "# y축 log scale로 바꾸기\n",
    "ax.set_yscale('log')\n",
    "\n",
    "# boxplot 그리기\n",
    "seaborn.boxplot(x=\"Relapse\", y=\"CEA_Post\", data=Clinical)\n",
    "\n",
    "# 최종 그림 띄우기\n",
    "plt.tight_layout()"
   ]
  },
  {
   "cell_type": "code",
   "execution_count": 72,
   "id": "fafc512c",
   "metadata": {},
   "outputs": [
    {
     "data": {
      "image/png": "[encoded data removed]",
      "text/plain": [
       "<Figure size 360x432 with 1 Axes>"
      ]
     },
     "metadata": {
      "needs_background": "light"
     },
     "output_type": "display_data"
    }
   ],
   "source": [
    "# Log scale 도화지 그리기\n",
    "fig, ax= plt.subplots(figsize=(5, 6))\n",
    "ax.set_yscale('log')\n",
    "\n",
    "# boxplot 그리기\n",
    "seaborn.boxplot(x=\"Relapse\", y=\"CEA_Post\", data=Clinical)\n",
    "\n",
    "\n",
    "# 높이 설정\n",
    "x1, x2 = 0, 1   # columns 'Sat' and 'Sun' (first column: 0, see plt.xticks())\n",
    "y, h, col = Clinical['CEA_Post'].max() + 1000, 1000, 'k'# y축이 log scale이기 때문에 1000으로 높게 작성\n",
    "\n",
    "# 통계 점수 표시\n",
    "plt.plot([x1, x1, x2, x2], [y, y+h, y+h, y], lw=1.5, c=col)\n",
    "plt.text((x1+x2)*.5, y+h, \"p = 0.0028\", ha='center', va='bottom', color=col)\n",
    "\n",
    "# 최종 그림 띄우기\n",
    "plt.show()"
   ]
  },
  {
   "cell_type": "markdown",
   "id": "5f2bc622",
   "metadata": {},
   "source": [
    "# 실습 과제\n",
    "\n",
    "1. 연속형 변수에 대하여\n",
    "Density plot 검색해서 그려보기 (CEA_Post, Age)\n",
    "\n",
    "2. 범주형 변수에 대하여 (Vascular, pStage)\n",
    "Count를 기반으로 bar-plot 그려보기\n",
    "\n",
    "Vascular의 Count에 대하여 Fisher exact test를 이용하여 통계 p-value를 구하고,\n",
    "그림에 통계 수치 추가해보기"
   ]
  }
 ],
 "metadata": {
  "kernelspec": {
   "display_name": "Python 3 (ipykernel)",
   "language": "python",
   "name": "python3"
  },
  "language_info": {
   "codemirror_mode": {
    "name": "ipython",
    "version": 3
   },
   "file_extension": ".py",
   "mimetype": "text/x-python",
   "name": "python",
   "nbconvert_exporter": "python",
   "pygments_lexer": "ipython3",
   "version": "3.9.7"
  }
 },
 "nbformat": 4,
 "nbformat_minor": 5
}
