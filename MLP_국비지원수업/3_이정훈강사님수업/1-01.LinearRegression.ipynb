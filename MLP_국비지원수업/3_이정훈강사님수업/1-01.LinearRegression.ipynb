{
 "cells": [
  {
   "cell_type": "markdown",
   "id": "a4021b4a",
   "metadata": {},
   "source": [
    "## 참고: https://hleecaster.com/ml-linear-regression-example/"
   ]
  },
  {
   "cell_type": "markdown",
   "id": "54d4f2b0",
   "metadata": {},
   "source": [
    "## 라이브러리 설치, 호출"
   ]
  },
  {
   "cell_type": "markdown",
   "id": "e2853ab4",
   "metadata": {},
   "source": [
    "!pip3 install -U scikit-learn<br>\n",
    "!pip3 install pandas<br>\n",
    "!pip3 install numpy<br>\n",
    "!pip3 install matplotlib<br>\n",
    "!pip3 install statsmodels<br>"
   ]
  },
  {
   "cell_type": "code",
   "execution_count": 1,
   "id": "f1c2d373",
   "metadata": {},
   "outputs": [],
   "source": [
    "from sklearn.linear_model import LinearRegression\n",
    "import pandas as pd\n",
    "import numpy as np\n",
    "import matplotlib.pyplot as plt\n",
    "import statsmodels.api as sm"
   ]
  },
  {
   "cell_type": "markdown",
   "id": "d8a92498",
   "metadata": {},
   "source": [
    "## 랜덤 시드값 설정 및 데이터 임의 생성"
   ]
  },
  {
   "cell_type": "code",
   "execution_count": 3,
   "id": "cbdefba7",
   "metadata": {},
   "outputs": [],
   "source": [
    "np.random.seed(0)\n",
    "\n",
    "# 평균이 30, 표준편차가 3, 데이터 100개 생성\n",
    "Temperature = np.random.normal(30,3,100)\n",
    "IceAmericano = Temperature + np.random.normal(100,8,100) # 그냥 예제생성용 -> 더해주므로써 상관관계가 있게만듬"
   ]
  },
  {
   "cell_type": "code",
   "execution_count": null,
   "id": "a19c003a",
   "metadata": {},
   "outputs": [],
   "source": [
    "# 벡터는 모든 데이터 타입이 같아야한다.\n",
    "# 같은 2차원이지만 메트릭스는 다 들어가도 괜찮은데,\n",
    "# 데이터프레임의 컬럼은 벡터형태로 데이터타입이 같아야한다."
   ]
  },
  {
   "cell_type": "code",
   "execution_count": 6,
   "id": "6d7184e3",
   "metadata": {},
   "outputs": [],
   "source": [
    "Data = pd.DataFrame({\n",
    "    'Temp':Temperature,\n",
    "    'Sales':IceAmericano\n",
    "})"
   ]
  },
  {
   "cell_type": "markdown",
   "id": "6ea6be7d",
   "metadata": {},
   "source": [
    "## matplot library를 활용한 point plot"
   ]
  },
  {
   "cell_type": "code",
   "execution_count": 4,
   "id": "c90040ae",
   "metadata": {},
   "outputs": [
    {
     "data": {
      "image/png": "[encoded data removed]",
      "text/plain": [
       "<Figure size 432x288 with 1 Axes>"
      ]
     },
     "metadata": {
      "needs_background": "light"
     },
     "output_type": "display_data"
    }
   ],
   "source": [
    "plt.plot(Data['Temp'], Data['Sales'], 'o')\n",
    "plt.show()"
   ]
  },
  {
   "cell_type": "markdown",
   "id": "475ec0b3",
   "metadata": {},
   "source": [
    "## Input 데이터 가공"
   ]
  },
  {
   "cell_type": "code",
   "execution_count": 7,
   "id": "8fdfaee9",
   "metadata": {},
   "outputs": [
    {
     "name": "stdout",
     "output_type": "stream",
     "text": [
      "   const       Temp\n",
      "0    1.0  35.292157\n",
      "1    1.0  31.200472\n",
      "2    1.0  32.936214\n",
      "3    1.0  36.722680\n",
      "4    1.0  35.602674\n"
     ]
    },
    {
     "name": "stderr",
     "output_type": "stream",
     "text": [
      "C:\\Users\\user\\anaconda3\\lib\\site-packages\\statsmodels\\tsa\\tsatools.py:142: FutureWarning: In a future version of pandas all arguments of concat except for the argument 'objs' will be keyword-only\n",
      "  x = pd.concat(x[::order], 1)\n"
     ]
    }
   ],
   "source": [
    "import statsmodels.api as sm\n",
    "\n",
    "InputFeature = Data['Temp']\n",
    "InputFeature = sm.add_constant(InputFeature)\n",
    "\n",
    "print(InputFeature.head())"
   ]
  },
  {
   "cell_type": "markdown",
   "id": "36155ed4",
   "metadata": {},
   "source": [
    "## Linear regression 모델 fitting"
   ]
  },
  {
   "cell_type": "code",
   "execution_count": 9,
   "id": "cc4e3d29",
   "metadata": {},
   "outputs": [
    {
     "name": "stdout",
     "output_type": "stream",
     "text": [
      "const    91.425350\n",
      "Temp      1.305862\n",
      "dtype: float64\n"
     ]
    }
   ],
   "source": [
    "model = sm.OLS(\n",
    "    Data['Sales'],\n",
    "    InputFeature\n",
    ")\n",
    "\n",
    "model = model.fit()\n",
    "print(model.params)"
   ]
  },
  {
   "cell_type": "code",
   "execution_count": 7,
   "id": "97fcaefc",
   "metadata": {},
   "outputs": [
    {
     "name": "stdout",
     "output_type": "stream",
     "text": [
      "                            OLS Regression Results                            \n",
      "==============================================================================\n",
      "Dep. Variable:                  Sales   R-squared:                       0.187\n",
      "Model:                            OLS   Adj. R-squared:                  0.179\n",
      "Method:                 Least Squares   F-statistic:                     22.58\n",
      "Date:                Fri, 15 Apr 2022   Prob (F-statistic):           6.90e-06\n",
      "Time:                        01:19:37   Log-Likelihood:                -352.62\n",
      "No. Observations:                 100   AIC:                             709.2\n",
      "Df Residuals:                      98   BIC:                             714.4\n",
      "Df Model:                           1                                         \n",
      "Covariance Type:            nonrobust                                         \n",
      "==============================================================================\n",
      "                 coef    std err          t      P>|t|      [0.025      0.975]\n",
      "------------------------------------------------------------------------------\n",
      "const         91.4253      8.335     10.969      0.000      74.885     107.966\n",
      "Temp           1.3059      0.275      4.752      0.000       0.761       1.851\n",
      "==============================================================================\n",
      "Omnibus:                        5.184   Durbin-Watson:                   1.995\n",
      "Prob(Omnibus):                  0.075   Jarque-Bera (JB):                3.000\n",
      "Skew:                           0.210   Prob(JB):                        0.223\n",
      "Kurtosis:                       2.262   Cond. No.                         305.\n",
      "==============================================================================\n",
      "\n",
      "Notes:\n",
      "[1] Standard Errors assume that the covariance matrix of the errors is correctly specified.\n"
     ]
    }
   ],
   "source": [
    "print( model.summary() )"
   ]
  },
  {
   "cell_type": "markdown",
   "id": "87eb5a23",
   "metadata": {},
   "source": [
    "<h2>모델의 해석</h2>\n",
    "Coef: 모델의 기울기. Coefficient of Temp: 1.3059<br>\n",
    "기온이 1도 오를 때, 아이스아메리카노는 1.3059잔 더 팔린다.<br>\n",
    "<br>\n",
    "Pvalue (P>|t|): < 0.05 보다 작음<br>\n",
    "-> 유의하게 Coefficient가 0이 아니다.<br>\n",
    "즉 기온이 아메리카노에 영향을 준다.<br>\n"
   ]
  },
  {
   "cell_type": "markdown",
   "id": "0b870a7c",
   "metadata": {},
   "source": [
    "## 예측 수행 및 결과"
   ]
  },
  {
   "cell_type": "code",
   "execution_count": 8,
   "id": "3fc9307c",
   "metadata": {},
   "outputs": [
    {
     "name": "stdout",
     "output_type": "stream",
     "text": [
      "0     137.512054\n",
      "1     132.168876\n",
      "2     134.435516\n",
      "3     139.380120\n",
      "4     137.917546\n",
      "         ...    \n",
      "95    133.369287\n",
      "96    130.642359\n",
      "97    137.597529\n",
      "98    131.098414\n",
      "99    132.176053\n",
      "Length: 100, dtype: float64\n"
     ]
    }
   ],
   "source": [
    "print(model.predict(InputFeature))"
   ]
  },
  {
   "cell_type": "markdown",
   "id": "d7d18653",
   "metadata": {},
   "source": [
    "## 기온이 35.2'C 일 때의 아이스 아메리카노 판매량"
   ]
  },
  {
   "cell_type": "code",
   "execution_count": 11,
   "id": "b1ca0e9e",
   "metadata": {},
   "outputs": [
    {
     "data": {
      "text/plain": [
       "array([137.39170963])"
      ]
     },
     "execution_count": 11,
     "metadata": {},
     "output_type": "execute_result"
    }
   ],
   "source": [
    "model.predict([1, 35.2])"
   ]
  },
  {
   "cell_type": "code",
   "execution_count": 10,
   "id": "9a4174e7",
   "metadata": {},
   "outputs": [
    {
     "data": {
      "image/png": "[encoded data removed]",
      "text/plain": [
       "<Figure size 432x288 with 1 Axes>"
      ]
     },
     "metadata": {
      "needs_background": "light"
     },
     "output_type": "display_data"
    }
   ],
   "source": [
    "plt.plot(Data['Temp'], Data['Sales'], 'o')\n",
    "plt.plot(Data['Temp'], model.predict(InputFeature))\n",
    "plt.show()"
   ]
  }
 ],
 "metadata": {
  "kernelspec": {
   "display_name": "Python 3 (ipykernel)",
   "language": "python",
   "name": "python3"
  },
  "language_info": {
   "codemirror_mode": {
    "name": "ipython",
    "version": 3
   },
   "file_extension": ".py",
   "mimetype": "text/x-python",
   "name": "python",
   "nbconvert_exporter": "python",
   "pygments_lexer": "ipython3",
   "version": "3.9.7"
  }
 },
 "nbformat": 4,
 "nbformat_minor": 5
}
