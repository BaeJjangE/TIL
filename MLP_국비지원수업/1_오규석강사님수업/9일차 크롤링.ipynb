{
 "cells": [
  {
   "cell_type": "markdown",
   "id": "d9df16e1",
   "metadata": {},
   "source": [
    "8일차 merge.py 실행 순서 : 여러개 파일 합치기\n",
    "1. merge.py 코드를 메모장에 복사\n",
    "2. 코드 저장(merge.py 확장자로)\n",
    "3. 저장 완료 후 cmd 창 열기\n",
    "4. 주피터 노트북 경로로 이동\n",
    "5. 파이썬 파일 실행\n",
    " - python merge.py 샘플_폴더\n",
    "---"
   ]
  },
  {
   "cell_type": "markdown",
   "id": "cc5cf98f",
   "metadata": {},
   "source": [
    "# 크롤링\n",
    "- 인터넷에서 정보를 자동으로 수집하는 행위\n",
    "- 유명 검색 엔진 들에서 크롤러를 활용\n",
    " - 네이버, 구글 같은 대형 검색 엔진들 방대한 사이트의 정보를 수집, 한군데 정렬하여 제공 \n",
    "- 크롤링 : 정보를 수집하는 행위\n",
    "- 크롤러 : 정보를 수집하는 도구"
   ]
  },
  {
   "cell_type": "markdown",
   "id": "d15e8b95",
   "metadata": {},
   "source": [
    "크롤링 시 주의 사항\n",
    "- 크롤러는 신중하게 사용\n",
    " - 이유 : 대부분의 웹페이지는 영리적인 목적으로 운영\n",
    " - ex) 네이버에서 무언가를 검색하면 화면 곳곳에서 광고를 발견\n",
    " - 네이버에서 광고를 클릭하는 순간 발생하는 트래픽에 의해 수익으로 연결\n",
    "- 크롤러는 알짜배기 정보만 가져오고 광고는 클릭 X\n",
    "- 실습(연습)용으로 사용하는 것은 문제가 되지않음\n",
    "- 무단 미러링은 법에 위반됨\n",
    " - 무단 미러링 : 자료를 크롤링하여 무단으로 복제"
   ]
  },
  {
   "cell_type": "markdown",
   "id": "5e2cbc31",
   "metadata": {},
   "source": [
    "크롤러 제작\n",
    "- 만드는 방법은 다양\n",
    "- 셀레늄 모듈을 활용하여 제작\n",
    "\n",
    "셀레늄 라이브러리 설치\n",
    "- cmd 창에서 진행\n",
    "- pip install selenium 입력\n",
    "\n",
    "크롬설치<br><br>\n",
    "크롤링을 위한 크롬 드라이버 설치 : 셀레늄과 같이 많이쓰임\n",
    "1. 현재 인터넷 창에서 우측 상단 점 세개 클릭\n",
    "2. [도움말] 클릭\n",
    "3. [Chrome 정보] 클릭\n",
    "4. 크롬 버전 확인\n",
    "5. 새 창에서 http://chromedriver.chromium.org 입력\n",
    "6. [다운로드] 클릭\n",
    "7. 확인한 크롬 버전과 같은 것을 다운로드\n",
    " - 98버전이면 98버전 다운\n",
    " - 압축 풀기 위치 : 주피터 노트북과 같은 위치\n"
   ]
  },
  {
   "cell_type": "markdown",
   "id": "9f56b459",
   "metadata": {},
   "source": [
    "### 셀레니움 모듈과 크롬 드라이버를 이용하여 브라우저 제어"
   ]
  },
  {
   "cell_type": "code",
   "execution_count": 1,
   "id": "b8bfdd3f",
   "metadata": {
    "scrolled": true
   },
   "outputs": [
    {
     "name": "stdout",
     "output_type": "stream",
     "text": [
      "Collecting selenium\n",
      "  Using cached selenium-4.1.0-py3-none-any.whl (958 kB)\n",
      "Collecting trio-websocket~=0.9\n",
      "  Using cached trio_websocket-0.9.2-py3-none-any.whl (16 kB)\n",
      "Collecting trio~=0.17\n",
      "  Using cached trio-0.19.0-py3-none-any.whl (356 kB)\n",
      "Requirement already satisfied: urllib3[secure]~=1.26 in c:\\users\\user\\anaconda3\\lib\\site-packages (from selenium) (1.26.7)\n",
      "Requirement already satisfied: async-generator>=1.9 in c:\\users\\user\\anaconda3\\lib\\site-packages (from trio~=0.17->selenium) (1.10)\n",
      "Requirement already satisfied: sortedcontainers in c:\\users\\user\\anaconda3\\lib\\site-packages (from trio~=0.17->selenium) (2.4.0)\n",
      "Requirement already satisfied: attrs>=19.2.0 in c:\\users\\user\\anaconda3\\lib\\site-packages (from trio~=0.17->selenium) (21.2.0)\n",
      "Collecting outcome\n",
      "  Using cached outcome-1.1.0-py2.py3-none-any.whl (9.7 kB)\n",
      "Requirement already satisfied: cffi>=1.14 in c:\\users\\user\\anaconda3\\lib\\site-packages (from trio~=0.17->selenium) (1.14.6)\n",
      "Requirement already satisfied: sniffio in c:\\users\\user\\anaconda3\\lib\\site-packages (from trio~=0.17->selenium) (1.2.0)\n",
      "Requirement already satisfied: idna in c:\\users\\user\\anaconda3\\lib\\site-packages (from trio~=0.17->selenium) (3.2)\n",
      "Requirement already satisfied: pycparser in c:\\users\\user\\anaconda3\\lib\\site-packages (from cffi>=1.14->trio~=0.17->selenium) (2.20)\n",
      "Collecting wsproto>=0.14\n",
      "  Using cached wsproto-1.0.0-py3-none-any.whl (24 kB)\n",
      "Requirement already satisfied: pyOpenSSL>=0.14 in c:\\users\\user\\anaconda3\\lib\\site-packages (from urllib3[secure]~=1.26->selenium) (21.0.0)\n",
      "Requirement already satisfied: cryptography>=1.3.4 in c:\\users\\user\\anaconda3\\lib\\site-packages (from urllib3[secure]~=1.26->selenium) (3.4.8)\n",
      "Requirement already satisfied: certifi in c:\\users\\user\\anaconda3\\lib\\site-packages (from urllib3[secure]~=1.26->selenium) (2021.10.8)\n",
      "Requirement already satisfied: six>=1.5.2 in c:\\users\\user\\anaconda3\\lib\\site-packages (from pyOpenSSL>=0.14->urllib3[secure]~=1.26->selenium) (1.16.0)\n",
      "Collecting h11<1,>=0.9.0\n",
      "  Using cached h11-0.13.0-py3-none-any.whl (58 kB)\n",
      "Installing collected packages: outcome, h11, wsproto, trio, trio-websocket, selenium\n",
      "Successfully installed h11-0.13.0 outcome-1.1.0 selenium-4.1.0 trio-0.19.0 trio-websocket-0.9.2 wsproto-1.0.0\n"
     ]
    }
   ],
   "source": [
    "!pip install selenium # 주피터 노트북에 셀레니움 설치"
   ]
  },
  {
   "cell_type": "code",
   "execution_count": 3,
   "id": "e8b0244a",
   "metadata": {},
   "outputs": [],
   "source": [
    "from selenium import webdriver"
   ]
  },
  {
   "cell_type": "code",
   "execution_count": 1,
   "id": "9437a662",
   "metadata": {
    "scrolled": true
   },
   "outputs": [
    {
     "ename": "NameError",
     "evalue": "name 'webdriver' is not defined",
     "output_type": "error",
     "traceback": [
      "\u001b[1;31m---------------------------------------------------------------------------\u001b[0m",
      "\u001b[1;31mNameError\u001b[0m                                 Traceback (most recent call last)",
      "\u001b[1;32m~\\AppData\\Local\\Temp/ipykernel_17792/3875340530.py\u001b[0m in \u001b[0;36m<module>\u001b[1;34m\u001b[0m\n\u001b[1;32m----> 1\u001b[1;33m \u001b[0mdriver\u001b[0m \u001b[1;33m=\u001b[0m \u001b[0mwebdriver\u001b[0m\u001b[1;33m.\u001b[0m\u001b[0mChrome\u001b[0m\u001b[1;33m(\u001b[0m\u001b[0mexecutable_path\u001b[0m \u001b[1;33m=\u001b[0m \u001b[1;34m\"chromedriver_win32/chromedriver.exe\"\u001b[0m\u001b[1;33m)\u001b[0m\u001b[1;33m\u001b[0m\u001b[1;33m\u001b[0m\u001b[0m\n\u001b[0m",
      "\u001b[1;31mNameError\u001b[0m: name 'webdriver' is not defined"
     ]
    }
   ],
   "source": [
    "driver = webdriver.Chrome(executable_path = \"chromedriver_win32/chromedriver.exe\")"
   ]
  },
  {
   "cell_type": "code",
   "execution_count": 5,
   "id": "5cad0f52",
   "metadata": {},
   "outputs": [],
   "source": [
    "driver.get(\"http://www.naver.com\")"
   ]
  },
  {
   "cell_type": "markdown",
   "id": "321ca11f",
   "metadata": {},
   "source": [
    "### 홈페이지를 띄우고 로그인 해보기"
   ]
  },
  {
   "cell_type": "markdown",
   "id": "827b19f7",
   "metadata": {},
   "source": [
    "알고리즘 순서도\n",
    "1. 시작\n",
    "2. 로그인 할 사이트를 입력 받음\n",
    "3. 아이디와 비밀번호를 입력 받음\n",
    "4. 로그인 사이트로 이동\n",
    "5. 아이디 입력\n",
    "6. tab 키 누름\n",
    "7. 비밀번호를 입력\n",
    "8. 엔터키 누름\n",
    "9. 종료\n",
    "\n",
    "- 파일을 두개 만들어서 진행\n",
    " - 하나는 모듈용, 하나는 실제 구동할 파일"
   ]
  },
  {
   "cell_type": "markdown",
   "id": "0c0c289a",
   "metadata": {},
   "source": [
    "#### 모듈용 작성"
   ]
  },
  {
   "cell_type": "code",
   "execution_count": 10,
   "id": "ca5984da",
   "metadata": {
    "scrolled": true
   },
   "outputs": [
    {
     "ename": "ModuleNotFoundError",
     "evalue": "No module named 'pyperclip'",
     "output_type": "error",
     "traceback": [
      "\u001b[1;31m---------------------------------------------------------------------------\u001b[0m",
      "\u001b[1;31mModuleNotFoundError\u001b[0m                       Traceback (most recent call last)",
      "\u001b[1;32m~\\AppData\\Local\\Temp/ipykernel_14148/1023666853.py\u001b[0m in \u001b[0;36m<module>\u001b[1;34m\u001b[0m\n\u001b[0;32m      1\u001b[0m \u001b[1;32mfrom\u001b[0m \u001b[0mselenium\u001b[0m \u001b[1;32mimport\u001b[0m \u001b[0mwebdriver\u001b[0m \u001b[1;31m# 외부제어\u001b[0m\u001b[1;33m\u001b[0m\u001b[1;33m\u001b[0m\u001b[0m\n\u001b[0;32m      2\u001b[0m \u001b[1;32mfrom\u001b[0m \u001b[0mselenium\u001b[0m\u001b[1;33m.\u001b[0m\u001b[0mwebdriver\u001b[0m\u001b[1;33m.\u001b[0m\u001b[0mchrome\u001b[0m\u001b[1;33m.\u001b[0m\u001b[0moptions\u001b[0m \u001b[1;32mimport\u001b[0m \u001b[0mOptions\u001b[0m \u001b[1;31m# 크롬브라우저에 적용할 옵션들\u001b[0m\u001b[1;33m\u001b[0m\u001b[1;33m\u001b[0m\u001b[0m\n\u001b[1;32m----> 3\u001b[1;33m \u001b[1;32mimport\u001b[0m \u001b[0mpywinmacro\u001b[0m \u001b[1;32mas\u001b[0m \u001b[0mpw\u001b[0m \u001b[1;31m# 탭, 엔터키 쓰기위함\u001b[0m\u001b[1;33m\u001b[0m\u001b[1;33m\u001b[0m\u001b[0m\n\u001b[0m\u001b[0;32m      4\u001b[0m \u001b[1;32mimport\u001b[0m \u001b[0mtime\u001b[0m \u001b[1;31m# 컴퓨터가 입력하는 시간을 제어해주기 위해 사용\u001b[0m\u001b[1;33m\u001b[0m\u001b[1;33m\u001b[0m\u001b[0m\n\u001b[0;32m      5\u001b[0m \u001b[1;33m\u001b[0m\u001b[0m\n",
      "\u001b[1;32m~\\Python\\pywinmacro.py\u001b[0m in \u001b[0;36m<module>\u001b[1;34m\u001b[0m\n\u001b[0;32m      8\u001b[0m \u001b[1;32mimport\u001b[0m \u001b[0mwin32con\u001b[0m\u001b[1;33m\u001b[0m\u001b[1;33m\u001b[0m\u001b[0m\n\u001b[0;32m      9\u001b[0m \u001b[1;32mimport\u001b[0m \u001b[0mwin32gui\u001b[0m\u001b[1;33m\u001b[0m\u001b[1;33m\u001b[0m\u001b[0m\n\u001b[1;32m---> 10\u001b[1;33m \u001b[1;32mimport\u001b[0m \u001b[0mpyperclip\u001b[0m\u001b[1;33m\u001b[0m\u001b[1;33m\u001b[0m\u001b[0m\n\u001b[0m\u001b[0;32m     11\u001b[0m \u001b[1;33m\u001b[0m\u001b[0m\n\u001b[0;32m     12\u001b[0m \u001b[1;31m# 라이브러리에서 사용할 키맵을 미리 세팅합니다.\u001b[0m\u001b[1;33m\u001b[0m\u001b[1;33m\u001b[0m\u001b[0m\n",
      "\u001b[1;31mModuleNotFoundError\u001b[0m: No module named 'pyperclip'"
     ]
    }
   ],
   "source": [
    "from selenium import webdriver # chromedriver.exe를 사용하기 위해서 불러옴\n",
    "from selenium.webdriver.chrome.options import Options # 크롬브라우저에 적용할 옵션들\n",
    "import pywinmacro as pw # 탭, 엔터키 쓰기위함\n",
    "import time # 컴퓨터가 입력하는 시간을 제어해주기 위해 사용\n",
    "\n",
    "# 사이트의 로그인 주소를 미리 저장\n",
    "LOGIN_URLS = {\n",
    "    \"daum\" : \"https://logins.daum.net/accounts/signinform.do\",\n",
    "    \"naver\" : \"https://nid.naver.com/nidlogin.login?\"\n",
    "}\n",
    "\n",
    "class LoginBot:\n",
    "    def __init__(self, site):\n",
    "        # 셀레늄 웹드라이버에 입력할 옵션을 지정\n",
    "        self.options = Options()\n",
    "        # 옵션의 해상도를 입력\n",
    "        self.options.add_argument(\"--window-size=1920, 1080\") # 해상도 지정 필수\n",
    "        # 옵션을 이용하여 크롬 웹드라이버를 불러옴\n",
    "        self.driver = webdriver.Chrome(executable_path = \"chromedriver_win32/chromedriver.exe\", \n",
    "                                 chrom_options=self.options) # 크롬이 켜질때 옵션\n",
    "        # 로그인하려는 사이트로 이동해 로그인창을 켬\n",
    "        try:\n",
    "            self.driver.get(LOGIN_URLS[site.lower()]) # 사이트이름 소문자처리, site에 키값을 넣으면 value가 입력됨\n",
    "                                                      # .get 함수는 지정한 URL로 이동해줌\n",
    "            # 로딩이 오래 걸릴 것을 대비하여 잠시 대기 7초\n",
    "            time.sleep(7)\n",
    "        except KeyError:\n",
    "            # 세팅되지 않은 주소가 나올 경우 주소창에 입력하게 함\n",
    "            self.driver.get(site)\n",
    "            # 로딩이 오래 걸릴 것을 대비하여 잠시 대기 7초\n",
    "            time.sleep(7)\n",
    "            \n",
    "    # 로그인 메서드\n",
    "    def login(self, id, ps):\n",
    "        # 아이디 입력\n",
    "        pw.typing(id)\n",
    "        # 비밀번호 셀로 이동하기 위해 탭키 사용\n",
    "        pw.key_press_once(\"tab\")\n",
    "        # 비밀번호 입력\n",
    "        pw.typing(ps)\n",
    "        # 로그인을 위한 엔터키 사용\n",
    "        pw.key_press_once(\"enter\")\n",
    "        # 로딩이 오래 걸릴 것을 대비하여 잠시 대기\n",
    "        time.sleep(7)\n",
    "        \n",
    "    # 크롤러 종료 메서드\n",
    "    def kill(self):\n",
    "        self.driver.quit()"
   ]
  },
  {
   "cell_type": "markdown",
   "id": "ffeaec32",
   "metadata": {},
   "source": [
    "#### 실제 구동할 파일 작성"
   ]
  },
  {
   "cell_type": "code",
   "execution_count": null,
   "id": "0ca02da1",
   "metadata": {},
   "outputs": [],
   "source": [
    "import sys\n",
    "import login_macro as lm\n",
    "# 로그인 할 사이트를 입력\n",
    "site = sys.argv[1]\n",
    "\n",
    "# 아이디 입력받기\n",
    "id = sys.argv[2]\n",
    "\n",
    "# 패스워드 입력받기\n",
    "ps = sys.argv[3]\n",
    "\n",
    "# lm 모듈에 있는 클래스를 객체화\n",
    "crawler = lm.LoginBot(site)\n",
    "\n",
    "# 로그인\n",
    "crawler.login(id, ps)"
   ]
  },
  {
   "cell_type": "code",
   "execution_count": 12,
   "id": "e48d9443",
   "metadata": {},
   "outputs": [
    {
     "name": "stderr",
     "output_type": "stream",
     "text": [
      "Traceback (most recent call last):\n",
      "  File \"C:\\Users\\user\\Python\\login.py\", line 2, in <module>\n",
      "    import login_macro as lm\n",
      "  File \"C:\\Users\\user\\Python\\login_macro.py\", line 3, in <module>\n",
      "    import pywinmacro as pw\n",
      "  File \"C:\\Users\\user\\Python\\pywinmacro.py\", line 10, in <module>\n",
      "    import pyperclip\n",
      "ModuleNotFoundError: No module named 'pyperclip'\n"
     ]
    }
   ],
   "source": [
    "!python login.py naver zelde 1234"
   ]
  },
  {
   "cell_type": "markdown",
   "id": "1bb891ac",
   "metadata": {},
   "source": [
    "### 매크로 없이 트위터에 로그인하는 코드 (내일진행)"
   ]
  },
  {
   "cell_type": "markdown",
   "id": "93dd17b5",
   "metadata": {},
   "source": [
    "목표\n",
    "1. 매크로 없이 데이터 입력\n",
    "2. 아이디 입력창에 아이디를 입력\n",
    "3. 비밀번호 입력창에 비밀번호를 입력\n",
    "4. 엔터키 입력\n",
    "\n",
    "작업을 위해 목표 쪼개기\n",
    "1. 로그인 아이디 입력창의 요소를 뽑아오기\n",
    "2. 로그인 비밀번호 입력창의 요소를 뽑아오기\n",
    "3. 셀레늄으로 글자 입력\n",
    "4. 셀레늄으로 키 입력\n"
   ]
  },
  {
   "cell_type": "markdown",
   "id": "7d2965ae",
   "metadata": {},
   "source": [
    "로그인 창에서 아이디 입력창에 대한 정보를 가져오기\n",
    "- https://twitter.com/i/flow/login?input_flow_data=%7B%22requested_variant%22%3A%22eyJsYW5nIjoia28ifQ%3D%3D%22%7D\n"
   ]
  },
  {
   "cell_type": "code",
   "execution_count": 16,
   "id": "1c1fc63b",
   "metadata": {
    "scrolled": true
   },
   "outputs": [
    {
     "name": "stderr",
     "output_type": "stream",
     "text": [
      "C:\\Users\\user\\AppData\\Local\\Temp/ipykernel_14148/3672979360.py:2: DeprecationWarning: executable_path has been deprecated, please pass in a Service object\n",
      "  driver = webdriver.Chrome(executable_path = \"chromedriver_win32/chromedriver.exe\")\n"
     ]
    }
   ],
   "source": [
    "from selenium import webdriver\n",
    "driver = webdriver.Chrome(executable_path = \"chromedriver_win32/chromedriver.exe\")\n",
    "driver.get(\"https://twitter.com/login\")"
   ]
  },
  {
   "cell_type": "markdown",
   "id": "73beda49",
   "metadata": {},
   "source": [
    "### 인스타그램 특정 태그가 달린 게시물 캡쳐"
   ]
  },
  {
   "cell_type": "markdown",
   "id": "e7d34a73",
   "metadata": {},
   "source": [
    "목표\n",
    "1. 인스타그램 로그인\n",
    "2. 인스타그램에서 태그 검색\n",
    "3. 게시물 클릭\n",
    "4. 게시물을 스크린샷 캡쳐\n",
    "5. 다음 게시물로 이동"
   ]
  },
  {
   "cell_type": "markdown",
   "id": "17cd2325",
   "metadata": {},
   "source": [
    "1. 인스타그램 로그인"
   ]
  },
  {
   "cell_type": "code",
   "execution_count": 17,
   "id": "d56f4d30",
   "metadata": {},
   "outputs": [
    {
     "name": "stderr",
     "output_type": "stream",
     "text": [
      "C:\\Users\\user\\AppData\\Local\\Temp/ipykernel_14148/3960680182.py:2: DeprecationWarning: executable_path has been deprecated, please pass in a Service object\n",
      "  driver = webdriver.Chrome(executable_path = \"chromedriver_win32/chromedriver.exe\")\n"
     ]
    }
   ],
   "source": [
    "from selenium import webdriver\n",
    "driver = webdriver.Chrome(executable_path = \"chromedriver_win32/chromedriver.exe\")\n",
    "# https://www.instagram.com/accounts/login 로 이동"
   ]
  },
  {
   "cell_type": "markdown",
   "id": "fc967998",
   "metadata": {},
   "source": [
    "2. 열린 브라우저로 인스타그램 로그인 사이트 접속<br>\n"
   ]
  },
  {
   "cell_type": "markdown",
   "id": "14822bac",
   "metadata": {},
   "source": [
    "3. F12 누른 후 input 태그 찾기"
   ]
  },
  {
   "cell_type": "code",
   "execution_count": 22,
   "id": "1e642f4f",
   "metadata": {
    "scrolled": true
   },
   "outputs": [
    {
     "name": "stderr",
     "output_type": "stream",
     "text": [
      "C:\\Users\\user\\AppData\\Local\\Temp/ipykernel_14148/1894095474.py:1: DeprecationWarning: find_elements_by_* commands are deprecated. Please use find_elements() instead\n",
      "  input_tags = driver.find_elements_by_tag_name(\"input\") # HTML에서 tag들 중에 input 값을 찾음\n"
     ]
    }
   ],
   "source": [
    "input_tags = driver.find_elements_by_tag_name(\"input\") # HTML에서 tag들 중에 input 값을 찾음"
   ]
  },
  {
   "cell_type": "markdown",
   "id": "152f8f4e",
   "metadata": {},
   "source": [
    "결과 :<br>\n",
    "\\<input aria-label=\"전화번소, 사용자 이름 또는 이메일\" ...<br><br>\n",
    "\\<input aria-label=\"비밀번호\"...      "
   ]
  },
  {
   "cell_type": "markdown",
   "id": "8841e0f2",
   "metadata": {},
   "source": [
    "4. 해당 필드를 객체에 대입"
   ]
  },
  {
   "cell_type": "code",
   "execution_count": 26,
   "id": "4e881c1c",
   "metadata": {},
   "outputs": [
    {
     "data": {
      "text/plain": [
       "[<selenium.webdriver.remote.webelement.WebElement (session=\"fff3ad78952ca3e347e58bb6487d1289\", element=\"bc7d7ae7-4aa9-455e-a5a2-55e9d0a0b505\")>,\n",
       " <selenium.webdriver.remote.webelement.WebElement (session=\"fff3ad78952ca3e347e58bb6487d1289\", element=\"48a352cd-f7a7-4fcc-b23b-71544fdf7838\")>]"
      ]
     },
     "execution_count": 26,
     "metadata": {},
     "output_type": "execute_result"
    }
   ],
   "source": [
    "input_tags"
   ]
  },
  {
   "cell_type": "code",
   "execution_count": 21,
   "id": "b2b8db3f",
   "metadata": {},
   "outputs": [
    {
     "data": {
      "text/plain": [
       "2"
      ]
     },
     "execution_count": 21,
     "metadata": {},
     "output_type": "execute_result"
    }
   ],
   "source": [
    "len(input_tags)"
   ]
  },
  {
   "cell_type": "code",
   "execution_count": 20,
   "id": "8b29eae6",
   "metadata": {},
   "outputs": [],
   "source": [
    "id_field = input_tags[0] # 아이디 필드\n",
    "ps_field = input_tags[1] # 비밀번호 필드"
   ]
  },
  {
   "cell_type": "markdown",
   "id": "168d271f",
   "metadata": {},
   "source": [
    "5. 아이디 필드와 비밀번호 필드에 값을 입력 "
   ]
  },
  {
   "cell_type": "code",
   "execution_count": 25,
   "id": "06a3f90a",
   "metadata": {},
   "outputs": [],
   "source": [
    "id_field.send_keys(\"아이디\")\n",
    "ps_field.send_keys(\"비밀번호\")"
   ]
  },
  {
   "cell_type": "markdown",
   "id": "ee8cc6d5",
   "metadata": {},
   "source": [
    "- send_keys : 주로 html과 사용하며, input 태그에 값을 자동으로 입력"
   ]
  },
  {
   "cell_type": "markdown",
   "id": "09107f84",
   "metadata": {},
   "source": [
    "6. 로그인 진행"
   ]
  },
  {
   "cell_type": "markdown",
   "id": "e29883cc",
   "metadata": {},
   "source": [
    "7. 태그 검색\n",
    "- #고양이\n",
    "- https://www.instagram.com/explore/tags/고양이/\n",
    " - 인기 게시물 9개\n",
    " - 최근 게시물\n",
    "   - 최근 게시물을 하나씩 불러들여 크롤링하기 좋음"
   ]
  },
  {
   "cell_type": "markdown",
   "id": "58a0f15b",
   "metadata": {},
   "source": [
    "8. 최근 게시물의 첫 번째 태그를 찾기"
   ]
  },
  {
   "cell_type": "markdown",
   "id": "fed65668",
   "metadata": {},
   "source": [
    "9. 찾은 태그에서 우클릭 후 copy -> copy Xpath\n",
    "- Xpath : 마크업 언어에서 특정 요소를 찾기 위한 경로를 나타내는 언어\n",
    " - 마크업 언어 : 태그 등을 사용하여 문서나 데이터의 구조를 표현하는 언어\n",
    "   - ex) 마크업, html, xml\n",
    "- Xpath를 이용하여 쉽게 특정 요소 지정 가능"
   ]
  },
  {
   "cell_type": "markdown",
   "id": "c2c2e811",
   "metadata": {},
   "source": [
    "10. Xpath 경로를 변수에 저장"
   ]
  },
  {
   "cell_type": "code",
   "execution_count": 29,
   "id": "7812785a",
   "metadata": {},
   "outputs": [],
   "source": [
    "xpath = '//*[@id=\"react-root\"]/section/main/article/div[2]/div/div[1]/div[1]'"
   ]
  },
  {
   "cell_type": "markdown",
   "id": "3a82c13e",
   "metadata": {},
   "source": [
    "11. 게시물 클릭"
   ]
  },
  {
   "cell_type": "code",
   "execution_count": 30,
   "id": "66b72af8",
   "metadata": {
    "scrolled": true
   },
   "outputs": [
    {
     "name": "stderr",
     "output_type": "stream",
     "text": [
      "C:\\Users\\user\\AppData\\Local\\Temp/ipykernel_14148/2110935984.py:1: DeprecationWarning: find_element_by_* commands are deprecated. Please use find_element() instead\n",
      "  el = driver.find_element_by_xpath(xpath)\n"
     ]
    }
   ],
   "source": [
    "el = driver.find_element_by_xpath(xpath)"
   ]
  },
  {
   "cell_type": "markdown",
   "id": "4bda5bdc",
   "metadata": {},
   "source": [
    "- xpath 요소들을 찾아서 el에 저장"
   ]
  },
  {
   "cell_type": "code",
   "execution_count": 36,
   "id": "61184fb1",
   "metadata": {},
   "outputs": [],
   "source": [
    "el.click()"
   ]
  },
  {
   "cell_type": "markdown",
   "id": "e0248705",
   "metadata": {},
   "source": [
    "12. 고양이 사진만 태그를 찾아서 Xpath 지정\n",
    "- 고양이만 있는 사진에서 우클릭 후 [검사]를 누르면 해당하는 태그로 이동\n",
    "- 태그에서 우클릭 후 copy->copy Xpath"
   ]
  },
  {
   "cell_type": "code",
   "execution_count": 37,
   "id": "632ce3ca",
   "metadata": {},
   "outputs": [],
   "source": [
    "xpath = '/html/body/div[6]/div[3]/div/article/div/div[2]/div/div/div[2]'"
   ]
  },
  {
   "cell_type": "code",
   "execution_count": 38,
   "id": "ff720262",
   "metadata": {},
   "outputs": [
    {
     "name": "stderr",
     "output_type": "stream",
     "text": [
      "C:\\Users\\user\\AppData\\Local\\Temp/ipykernel_14148/3817762962.py:1: DeprecationWarning: find_element_by_* commands are deprecated. Please use find_element() instead\n",
      "  article = driver.find_element_by_xpath(xpath)\n"
     ]
    }
   ],
   "source": [
    "article = driver.find_element_by_xpath(xpath)"
   ]
  },
  {
   "cell_type": "code",
   "execution_count": 39,
   "id": "bb3f4ba0",
   "metadata": {
    "scrolled": true
   },
   "outputs": [
    {
     "data": {
      "text/plain": [
       "True"
      ]
     },
     "execution_count": 39,
     "metadata": {},
     "output_type": "execute_result"
    }
   ],
   "source": [
    "article.screenshot(\"test.png\")"
   ]
  },
  {
   "cell_type": "markdown",
   "id": "df8d5be4",
   "metadata": {},
   "source": [
    "13. 다음 사진으로 넘기기\n",
    "- 버튼 부분인 태그를 찾아서 xpath 복사하여 사용"
   ]
  },
  {
   "cell_type": "code",
   "execution_count": 48,
   "id": "3dbd2360",
   "metadata": {
    "scrolled": true
   },
   "outputs": [],
   "source": [
    "xpath =  '/html/body/div[6]/div[2]/div/div[2]/button'"
   ]
  },
  {
   "cell_type": "code",
   "execution_count": 49,
   "id": "70cb429d",
   "metadata": {
    "scrolled": true
   },
   "outputs": [
    {
     "name": "stderr",
     "output_type": "stream",
     "text": [
      "C:\\Users\\user\\AppData\\Local\\Temp/ipykernel_14148/2110935984.py:1: DeprecationWarning: find_element_by_* commands are deprecated. Please use find_element() instead\n",
      "  el = driver.find_element_by_xpath(xpath)\n"
     ]
    }
   ],
   "source": [
    "el = driver.find_element_by_xpath(xpath)"
   ]
  },
  {
   "cell_type": "code",
   "execution_count": 50,
   "id": "0cb20a26",
   "metadata": {
    "scrolled": true
   },
   "outputs": [],
   "source": [
    "el.click()"
   ]
  },
  {
   "cell_type": "markdown",
   "id": "2e898144",
   "metadata": {},
   "source": [
    "위에서 진행한 작업을 코드로 옮기기"
   ]
  }
 ],
 "metadata": {
  "kernelspec": {
   "display_name": "Python 3 (ipykernel)",
   "language": "python",
   "name": "python3"
  },
  "language_info": {
   "codemirror_mode": {
    "name": "ipython",
    "version": 3
   },
   "file_extension": ".py",
   "mimetype": "text/x-python",
   "name": "python",
   "nbconvert_exporter": "python",
   "pygments_lexer": "ipython3",
   "version": "3.9.7"
  }
 },
 "nbformat": 4,
 "nbformat_minor": 5
}
