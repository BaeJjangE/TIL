{
 "cells": [
  {
   "cell_type": "code",
   "execution_count": 1,
   "id": "fe5da511",
   "metadata": {},
   "outputs": [
    {
     "name": "stdout",
     "output_type": "stream",
     "text": [
      "['C:\\\\Users\\\\user\\\\Python', 'C:\\\\Users\\\\user\\\\anaconda3\\\\python39.zip', 'C:\\\\Users\\\\user\\\\anaconda3\\\\DLLs', 'C:\\\\Users\\\\user\\\\anaconda3\\\\lib', 'C:\\\\Users\\\\user\\\\anaconda3', '', 'C:\\\\Users\\\\user\\\\anaconda3\\\\lib\\\\site-packages', 'C:\\\\Users\\\\user\\\\anaconda3\\\\lib\\\\site-packages\\\\locket-0.2.1-py3.9.egg', 'C:\\\\Users\\\\user\\\\anaconda3\\\\lib\\\\site-packages\\\\win32', 'C:\\\\Users\\\\user\\\\anaconda3\\\\lib\\\\site-packages\\\\win32\\\\lib', 'C:\\\\Users\\\\user\\\\anaconda3\\\\lib\\\\site-packages\\\\Pythonwin', 'C:\\\\Users\\\\user\\\\anaconda3\\\\lib\\\\site-packages\\\\IPython\\\\extensions', 'C:\\\\Users\\\\user\\\\.ipython']\n"
     ]
    }
   ],
   "source": [
    "import sys\n",
    "print(sys.path)"
   ]
  },
  {
   "cell_type": "code",
   "execution_count": 19,
   "id": "cc490db7",
   "metadata": {},
   "outputs": [],
   "source": [
    "from mod1 import add"
   ]
  },
  {
   "cell_type": "code",
   "execution_count": 20,
   "id": "9c85eb07",
   "metadata": {
    "scrolled": false
   },
   "outputs": [
    {
     "name": "stdout",
     "output_type": "stream",
     "text": [
      "5\n"
     ]
    }
   ],
   "source": [
    "print(add(1,4))"
   ]
  },
  {
   "cell_type": "code",
   "execution_count": 17,
   "id": "3272d107",
   "metadata": {},
   "outputs": [],
   "source": [
    "def sub(a,b):\n",
    "    return a - b"
   ]
  },
  {
   "cell_type": "markdown",
   "id": "99c3dd4d",
   "metadata": {},
   "source": [
    "\\_\\_name\\_\\_ 변수는 파이썬에서 자동으로 사용할 수 있도록 등록된 변수"
   ]
  },
  {
   "cell_type": "code",
   "execution_count": 21,
   "id": "f71705c4",
   "metadata": {},
   "outputs": [
    {
     "name": "stdout",
     "output_type": "stream",
     "text": [
      "__main__\n"
     ]
    }
   ],
   "source": [
    "print(__name__)"
   ]
  },
  {
   "cell_type": "markdown",
   "id": "792de915",
   "metadata": {},
   "source": [
    "- \\_\\_main\\_\\_의 의미 : 현재 작업 공간이 main이라는 뜻"
   ]
  },
  {
   "cell_type": "code",
   "execution_count": 46,
   "id": "63ff34e8",
   "metadata": {},
   "outputs": [
    {
     "name": "stdout",
     "output_type": "stream",
     "text": [
      "test\n",
      "실행하지 않습니다.\n"
     ]
    },
    {
     "data": {
      "text/plain": [
       "<module 'test' from 'C:\\\\Users\\\\user\\\\Python\\\\test.py'>"
      ]
     },
     "execution_count": 46,
     "metadata": {},
     "output_type": "execute_result"
    }
   ],
   "source": [
    "import test\n",
    "from importlib import reload\n",
    "reload(test)"
   ]
  },
  {
   "cell_type": "code",
   "execution_count": 34,
   "id": "ff62b17e",
   "metadata": {},
   "outputs": [
    {
     "name": "stdout",
     "output_type": "stream",
     "text": [
      "test\n"
     ]
    }
   ],
   "source": [
    "print(test.__name__)"
   ]
  },
  {
   "cell_type": "code",
   "execution_count": 35,
   "id": "7b2fc3f4",
   "metadata": {
    "scrolled": true
   },
   "outputs": [
    {
     "name": "stdout",
     "output_type": "stream",
     "text": [
      "실행합니다\n"
     ]
    }
   ],
   "source": [
    "if __name__ == '__main__':\n",
    "\tprint('실행합니다')\n",
    "else:\n",
    "\tprint('실행하지 않습니다.')"
   ]
  },
  {
   "cell_type": "markdown",
   "id": "3f87e46a",
   "metadata": {},
   "source": [
    "# ★ import mod2 와 from mod2 import *랑은 같은데 쓰임이 다르다\n",
    "\n",
    "- import mod2 사용법\n",
    " - import mod2 \n",
    " \n",
    "   print(mod2.PI)\n",
    "   \n",
    "- from mod2 import * 는 직접 사용가능\n",
    " - from mod2 import *\n",
    " \n",
    "   print(PI)"
   ]
  },
  {
   "cell_type": "code",
   "execution_count": 101,
   "id": "26ad04a7",
   "metadata": {
    "scrolled": false
   },
   "outputs": [
    {
     "name": "stdout",
     "output_type": "stream",
     "text": [
      "3.141592\n",
      "12.566368\n",
      "12.566368\n"
     ]
    }
   ],
   "source": [
    "import mod2\n",
    "print(mod2.PI)\n",
    "a = mod2.Math()\n",
    "print(a.solv(2))\n",
    "print(mod2.Math.solv(2,2))"
   ]
  },
  {
   "cell_type": "code",
   "execution_count": 106,
   "id": "868fd239",
   "metadata": {},
   "outputs": [
    {
     "name": "stdout",
     "output_type": "stream",
     "text": [
      "12.566368\n"
     ]
    }
   ],
   "source": [
    "import mod2\n",
    "print(mod2.Math.solv(5, 2))"
   ]
  },
  {
   "cell_type": "code",
   "execution_count": 110,
   "id": "d3055fd7",
   "metadata": {
    "scrolled": true
   },
   "outputs": [
    {
     "name": "stdout",
     "output_type": "stream",
     "text": [
      "3.141592\n",
      "12.566368\n",
      "12.566368\n"
     ]
    }
   ],
   "source": [
    "from mod2 import *\n",
    "from importlib import reload\n",
    "reload(mod2)\n",
    "print(mod2.PI)\n",
    "a = Math() #클래스는 변수로 지정해줘야 사용가능(?) => X\n",
    "print(a.solv(2))\n",
    "print(mod2.Math.solv(a, 2)) # a가 모듈실행"
   ]
  },
  {
   "cell_type": "code",
   "execution_count": 75,
   "id": "06e8cbc4",
   "metadata": {
    "scrolled": true
   },
   "outputs": [
    {
     "name": "stdout",
     "output_type": "stream",
     "text": [
      "7.5415920000000005\n"
     ]
    }
   ],
   "source": [
    "print(mod2.add(mod2.PI, 4.4))"
   ]
  },
  {
   "cell_type": "code",
   "execution_count": 79,
   "id": "beed55c8",
   "metadata": {},
   "outputs": [],
   "source": [
    "class mj:\n",
    "    def mjj(a, b):\n",
    "        return a + b"
   ]
  },
  {
   "cell_type": "code",
   "execution_count": 80,
   "id": "b2bda7d8",
   "metadata": {},
   "outputs": [
    {
     "data": {
      "text/plain": [
       "3"
      ]
     },
     "execution_count": 80,
     "metadata": {},
     "output_type": "execute_result"
    }
   ],
   "source": [
    "mj.mjj(1,2)"
   ]
  },
  {
   "cell_type": "code",
   "execution_count": 94,
   "id": "9561f1e3",
   "metadata": {},
   "outputs": [
    {
     "name": "stdout",
     "output_type": "stream",
     "text": [
      "5\n"
     ]
    }
   ],
   "source": [
    "import mod1\n",
    "from importlib import reload\n",
    "reload(mod1)\n",
    "print(mod1.kim.add(2,3))"
   ]
  },
  {
   "cell_type": "markdown",
   "id": "df8a1c8a",
   "metadata": {},
   "source": [
    "모듈 변경 후에는 모듈을 다시 불러들여야 함"
   ]
  },
  {
   "cell_type": "code",
   "execution_count": 107,
   "id": "ac834d72",
   "metadata": {},
   "outputs": [
    {
     "data": {
      "text/plain": [
       "<module 'mod2' from 'C:\\\\Users\\\\user\\\\Python\\\\mod2.py'>"
      ]
     },
     "execution_count": 107,
     "metadata": {},
     "output_type": "execute_result"
    }
   ],
   "source": [
    "from importlib import reload\n",
    "import mod2\n",
    "reload(mod2)"
   ]
  },
  {
   "cell_type": "markdown",
   "id": "86457dd6",
   "metadata": {},
   "source": [
    "모듈 경로 추가하기 예제\n",
    "- 주피터 노트북으로 사용중인 폴더의 상위 폴더에 mymod 폴더 생성"
   ]
  },
  {
   "cell_type": "code",
   "execution_count": 2,
   "id": "25309c58",
   "metadata": {},
   "outputs": [
    {
     "name": "stdout",
     "output_type": "stream",
     "text": [
      "['C:\\\\Users\\\\user\\\\Python', 'C:\\\\Users\\\\user\\\\anaconda3\\\\python39.zip', 'C:\\\\Users\\\\user\\\\anaconda3\\\\DLLs', 'C:\\\\Users\\\\user\\\\anaconda3\\\\lib', 'C:\\\\Users\\\\user\\\\anaconda3', '', 'C:\\\\Users\\\\user\\\\anaconda3\\\\lib\\\\site-packages', 'C:\\\\Users\\\\user\\\\anaconda3\\\\lib\\\\site-packages\\\\locket-0.2.1-py3.9.egg', 'C:\\\\Users\\\\user\\\\anaconda3\\\\lib\\\\site-packages\\\\win32', 'C:\\\\Users\\\\user\\\\anaconda3\\\\lib\\\\site-packages\\\\win32\\\\lib', 'C:\\\\Users\\\\user\\\\anaconda3\\\\lib\\\\site-packages\\\\Pythonwin', 'C:\\\\Users\\\\user\\\\anaconda3\\\\lib\\\\site-packages\\\\IPython\\\\extensions', 'C:\\\\Users\\\\user\\\\.ipython']\n"
     ]
    }
   ],
   "source": [
    "import sys\n",
    "print(sys.path)"
   ]
  },
  {
   "cell_type": "markdown",
   "id": "d637c7cf",
   "metadata": {},
   "source": [
    "- 모듈을 사용할 수 있는 경로를 먼저 확인"
   ]
  },
  {
   "cell_type": "code",
   "execution_count": 3,
   "id": "5096b79f",
   "metadata": {
    "scrolled": true
   },
   "outputs": [],
   "source": [
    "sys.path.append('C:/Users/user/mymod')"
   ]
  },
  {
   "cell_type": "markdown",
   "id": "648aa412",
   "metadata": {},
   "source": [
    "- 모듈을 사용할 수 있는 경로를 추가"
   ]
  },
  {
   "cell_type": "code",
   "execution_count": 4,
   "id": "e7bd8a19",
   "metadata": {
    "scrolled": true
   },
   "outputs": [
    {
     "name": "stdout",
     "output_type": "stream",
     "text": [
      "['C:\\\\Users\\\\user\\\\Python', 'C:\\\\Users\\\\user\\\\anaconda3\\\\python39.zip', 'C:\\\\Users\\\\user\\\\anaconda3\\\\DLLs', 'C:\\\\Users\\\\user\\\\anaconda3\\\\lib', 'C:\\\\Users\\\\user\\\\anaconda3', '', 'C:\\\\Users\\\\user\\\\anaconda3\\\\lib\\\\site-packages', 'C:\\\\Users\\\\user\\\\anaconda3\\\\lib\\\\site-packages\\\\locket-0.2.1-py3.9.egg', 'C:\\\\Users\\\\user\\\\anaconda3\\\\lib\\\\site-packages\\\\win32', 'C:\\\\Users\\\\user\\\\anaconda3\\\\lib\\\\site-packages\\\\win32\\\\lib', 'C:\\\\Users\\\\user\\\\anaconda3\\\\lib\\\\site-packages\\\\Pythonwin', 'C:\\\\Users\\\\user\\\\anaconda3\\\\lib\\\\site-packages\\\\IPython\\\\extensions', 'C:\\\\Users\\\\user\\\\.ipython', 'C:/Users/user/mymod']\n"
     ]
    }
   ],
   "source": [
    "print(sys.path)"
   ]
  },
  {
   "cell_type": "markdown",
   "id": "900114a0",
   "metadata": {},
   "source": [
    "모듈 경로 제거하기 예제"
   ]
  },
  {
   "cell_type": "code",
   "execution_count": null,
   "id": "d0e3650f",
   "metadata": {},
   "outputs": [],
   "source": [
    "sys.path.remove(sys.path[-1])"
   ]
  },
  {
   "cell_type": "code",
   "execution_count": null,
   "id": "f82a52c3",
   "metadata": {},
   "outputs": [],
   "source": [
    "sys.path.remove('C:/Users/user/mymod')"
   ]
  },
  {
   "cell_type": "markdown",
   "id": "bef52f5f",
   "metadata": {},
   "source": [
    "- 지울 때도 경로를 직접 입력해서 지울 수 있음\n",
    "- 리스트를 인덱싱하여 제거하는 것도 가능"
   ]
  },
  {
   "cell_type": "markdown",
   "id": "6d063d4d",
   "metadata": {},
   "source": [
    "import game.sound.echo # .을 이용하여 하위모듈을 불러올수있음"
   ]
  },
  {
   "cell_type": "markdown",
   "id": "2d8ff8cd",
   "metadata": {},
   "source": [
    "재귀함수 # 부르면 무한루프발생"
   ]
  },
  {
   "cell_type": "code",
   "execution_count": 115,
   "id": "8aad2254",
   "metadata": {},
   "outputs": [],
   "source": [
    "def hello():\n",
    "    print(\"h\")\n",
    "    hello()"
   ]
  },
  {
   "cell_type": "markdown",
   "id": "f6a1e765",
   "metadata": {},
   "source": [
    "try ~ except 문 예제(에러 지정 X) - 모든 예외를 다 잡아냄"
   ]
  },
  {
   "cell_type": "code",
   "execution_count": 117,
   "id": "ab79144e",
   "metadata": {},
   "outputs": [
    {
     "name": "stdout",
     "output_type": "stream",
     "text": [
      "error\n"
     ]
    }
   ],
   "source": [
    "a, b = 5, 0\n",
    "try:\n",
    "    c = a / b\n",
    "    print(c)\n",
    "except:\n",
    "    print(\"error\")"
   ]
  },
  {
   "cell_type": "markdown",
   "id": "bdb1c9c9",
   "metadata": {},
   "source": [
    "try ~ except 문 예제(에러 지정 O)"
   ]
  },
  {
   "cell_type": "code",
   "execution_count": 120,
   "id": "2302ea91",
   "metadata": {},
   "outputs": [
    {
     "name": "stdout",
     "output_type": "stream",
     "text": [
      "error\n"
     ]
    }
   ],
   "source": [
    "a, b = 5, 0\n",
    "try:\n",
    "    c = a / b\n",
    "    print(c)\n",
    "except ZeroDivisionError:\n",
    "    print(\"error\")"
   ]
  },
  {
   "cell_type": "markdown",
   "id": "6b5e3194",
   "metadata": {},
   "source": [
    "try ~ except 문 예제(에러 지정 O, as 사용)"
   ]
  },
  {
   "cell_type": "code",
   "execution_count": 122,
   "id": "8c51712b",
   "metadata": {},
   "outputs": [
    {
     "name": "stdout",
     "output_type": "stream",
     "text": [
      "name 'spam' is not defined\n"
     ]
    }
   ],
   "source": [
    "try:\n",
    "    spam()\n",
    "except NameError as x:\n",
    "    print(x)"
   ]
  },
  {
   "cell_type": "markdown",
   "id": "53cf4afe",
   "metadata": {},
   "source": [
    "여러 개의 예외 발생\n",
    "- except 문을 여러번 사용할 수 있음\n",
    "\n",
    "형식)<br><br>\n",
    "try:<br>\n",
    "&nbsp;&nbsp;&nbsp;&nbsp;some_job()<br>\n",
    "except ZeroDivisonError:<br>\n",
    "<구문><br>\n",
    "except NameError:<br>\n",
    "<구문><br>\n",
    "except (TypeError, IOError): # 두 가지 에러를 동시에 잡아냄\n",
    "<구문><br>"
   ]
  },
  {
   "cell_type": "markdown",
   "id": "c3cf9abe",
   "metadata": {},
   "source": [
    "두 가지의 예외를 한 번에 묶어서 처리하기 예제"
   ]
  },
  {
   "cell_type": "code",
   "execution_count": 130,
   "id": "09c27ffc",
   "metadata": {},
   "outputs": [
    {
     "name": "stdout",
     "output_type": "stream",
     "text": [
      "division by zero\n"
     ]
    }
   ],
   "source": [
    "try:\n",
    "    a = [1, 2]\n",
    "    4/0 #먼저 나온 순서를 에러로 잡음\n",
    "    print(a[3])\n",
    "    \n",
    "except (ZeroDivisionError, IndexError) as e:\n",
    "    print(e)"
   ]
  },
  {
   "cell_type": "markdown",
   "id": "9ec96c47",
   "metadata": {},
   "source": [
    "try ~ finally 문\n",
    "- try, except, finally 문 세 개가 다 들어갈 수 있음"
   ]
  },
  {
   "cell_type": "code",
   "execution_count": 126,
   "id": "2755636a",
   "metadata": {},
   "outputs": [
    {
     "name": "stdout",
     "output_type": "stream",
     "text": [
      "4\n",
      "끝\n"
     ]
    }
   ],
   "source": [
    "try:\n",
    "    print(1+3)\n",
    "finally:\n",
    "    print('끝')"
   ]
  },
  {
   "cell_type": "code",
   "execution_count": 127,
   "id": "c21e2cad",
   "metadata": {},
   "outputs": [
    {
     "name": "stdout",
     "output_type": "stream",
     "text": [
      "0\n",
      "error\n",
      "어떠한 경우에도 호출이 된다\n"
     ]
    }
   ],
   "source": [
    "x = 0\n",
    "try:\n",
    "    print(x)\n",
    "    1/x\n",
    "except:\n",
    "    print('error')\n",
    "finally:\n",
    "    print(\"어떠한 경우에도 호출이 된다\")"
   ]
  },
  {
   "cell_type": "markdown",
   "id": "bc3833ae",
   "metadata": {},
   "source": [
    "오류 회피하기 예제 pass 사용"
   ]
  },
  {
   "cell_type": "code",
   "execution_count": 134,
   "id": "3836c2a7",
   "metadata": {},
   "outputs": [],
   "source": [
    "try:\n",
    "    f = open(\"나없는파일\", \"r\")\n",
    "except FileNotFoundError:\n",
    "    pass"
   ]
  },
  {
   "cell_type": "markdown",
   "id": "08c2ba2b",
   "metadata": {},
   "source": [
    "예외 만들기 예제"
   ]
  },
  {
   "cell_type": "code",
   "execution_count": 143,
   "id": "a057100b",
   "metadata": {},
   "outputs": [],
   "source": [
    "class MyError(Exception):\n",
    "    pass\n",
    "\n",
    "def say_nick(nick):\n",
    "    if nick == '바보':\n",
    "        raise MyError() # raise 문을 사용하여 예외를 발생 # raise 클래스형태 인데 MyError()아 객체처럼 쓰임\n",
    "    print(nick)"
   ]
  },
  {
   "cell_type": "code",
   "execution_count": 141,
   "id": "ecb27410",
   "metadata": {},
   "outputs": [
    {
     "name": "stdout",
     "output_type": "stream",
     "text": [
      "천사\n"
     ]
    }
   ],
   "source": [
    "say_nick('천사')"
   ]
  },
  {
   "cell_type": "code",
   "execution_count": 144,
   "id": "9ef7502c",
   "metadata": {},
   "outputs": [
    {
     "name": "stdout",
     "output_type": "stream",
     "text": [
      "천사\n",
      "허용x\n"
     ]
    }
   ],
   "source": [
    "try:\n",
    "    say_nick('천사')\n",
    "    say_nick('바보')\n",
    "except MyError:\n",
    "    print('허용x')"
   ]
  },
  {
   "cell_type": "markdown",
   "id": "a076bd5e",
   "metadata": {},
   "source": [
    "오류 메세지를 작성하여 출력하기 예제\n"
   ]
  },
  {
   "cell_type": "code",
   "execution_count": 145,
   "id": "a99d5b64",
   "metadata": {},
   "outputs": [],
   "source": [
    "class MyError(Exception):\n",
    "    def __str__(self):\n",
    "        return \"허용되지않은 것입니다.\"\n",
    "\n",
    "def say_nick(nick):\n",
    "    if nick == '바보':\n",
    "        raise MyError() # raise 문을 사용하여 예외를 발생 # raise 클래스형태 인데 MyError()아 객체처럼 쓰임\n",
    "    print(nick)"
   ]
  },
  {
   "cell_type": "code",
   "execution_count": 148,
   "id": "2a60ea80",
   "metadata": {
    "scrolled": true
   },
   "outputs": [
    {
     "name": "stdout",
     "output_type": "stream",
     "text": [
      "천사\n",
      "허용되지않은 것입니다.\n"
     ]
    }
   ],
   "source": [
    "try:\n",
    "    say_nick('천사')\n",
    "    say_nick('바보')\n",
    "except MyError as e:\n",
    "    print(e)\n",
    "    "
   ]
  },
  {
   "cell_type": "markdown",
   "id": "e6013fc9",
   "metadata": {},
   "source": [
    "내장함수, 외장함수"
   ]
  },
  {
   "cell_type": "markdown",
   "id": "d81f7aea",
   "metadata": {},
   "source": [
    "all() 함수 예제 : 모두가 참이어야 참, 하나라도 거짓이면 거짓"
   ]
  },
  {
   "cell_type": "code",
   "execution_count": 149,
   "id": "94ba1319",
   "metadata": {},
   "outputs": [
    {
     "data": {
      "text/plain": [
       "True"
      ]
     },
     "execution_count": 149,
     "metadata": {},
     "output_type": "execute_result"
    }
   ],
   "source": [
    "all([1, 2, 3])"
   ]
  },
  {
   "cell_type": "code",
   "execution_count": 150,
   "id": "64c39512",
   "metadata": {},
   "outputs": [
    {
     "data": {
      "text/plain": [
       "False"
      ]
     },
     "execution_count": 150,
     "metadata": {},
     "output_type": "execute_result"
    }
   ],
   "source": [
    "all([1, 2, 3, 0])"
   ]
  },
  {
   "cell_type": "markdown",
   "id": "02ed3d4a",
   "metadata": {},
   "source": [
    "any() 함수 예제 : 모두 거짓이어야 거짓, 하나라도 참이면 참"
   ]
  },
  {
   "cell_type": "code",
   "execution_count": 1,
   "id": "fe34b340",
   "metadata": {},
   "outputs": [
    {
     "data": {
      "text/plain": [
       "True"
      ]
     },
     "execution_count": 1,
     "metadata": {},
     "output_type": "execute_result"
    }
   ],
   "source": [
    "any([1, 2, 3, 0])"
   ]
  },
  {
   "cell_type": "code",
   "execution_count": 2,
   "id": "c8653493",
   "metadata": {},
   "outputs": [
    {
     "data": {
      "text/plain": [
       "False"
      ]
     },
     "execution_count": 2,
     "metadata": {},
     "output_type": "execute_result"
    }
   ],
   "source": [
    "any([0, \"\"])"
   ]
  },
  {
   "cell_type": "markdown",
   "id": "0e039e9d",
   "metadata": {},
   "source": [
    "chr() 함수 예제"
   ]
  },
  {
   "cell_type": "code",
   "execution_count": 7,
   "id": "df1f7a94",
   "metadata": {},
   "outputs": [
    {
     "data": {
      "text/plain": [
       "'`'"
      ]
     },
     "execution_count": 7,
     "metadata": {},
     "output_type": "execute_result"
    }
   ],
   "source": [
    "chr(96)"
   ]
  },
  {
   "cell_type": "code",
   "execution_count": 8,
   "id": "db69ae74",
   "metadata": {},
   "outputs": [
    {
     "data": {
      "text/plain": [
       "'0'"
      ]
     },
     "execution_count": 8,
     "metadata": {},
     "output_type": "execute_result"
    }
   ],
   "source": [
    "chr(48)"
   ]
  },
  {
   "cell_type": "markdown",
   "id": "d1fc6f35",
   "metadata": {},
   "source": [
    "dir() 함수 예제 : 객체가 자체적으로 가지고 있는 변수나 함수를 보여줌"
   ]
  },
  {
   "cell_type": "code",
   "execution_count": 14,
   "id": "932ddd82",
   "metadata": {
    "scrolled": true
   },
   "outputs": [
    {
     "data": {
      "text/plain": [
       "['__add__',\n",
       " '__class__',\n",
       " '__class_getitem__',\n",
       " '__contains__',\n",
       " '__delattr__',\n",
       " '__delitem__',\n",
       " '__dir__',\n",
       " '__doc__',\n",
       " '__eq__',\n",
       " '__format__',\n",
       " '__ge__',\n",
       " '__getattribute__',\n",
       " '__getitem__',\n",
       " '__gt__',\n",
       " '__hash__',\n",
       " '__iadd__',\n",
       " '__imul__',\n",
       " '__init__',\n",
       " '__init_subclass__',\n",
       " '__iter__',\n",
       " '__le__',\n",
       " '__len__',\n",
       " '__lt__',\n",
       " '__mul__',\n",
       " '__ne__',\n",
       " '__new__',\n",
       " '__reduce__',\n",
       " '__reduce_ex__',\n",
       " '__repr__',\n",
       " '__reversed__',\n",
       " '__rmul__',\n",
       " '__setattr__',\n",
       " '__setitem__',\n",
       " '__sizeof__',\n",
       " '__str__',\n",
       " '__subclasshook__',\n",
       " 'append',\n",
       " 'clear',\n",
       " 'copy',\n",
       " 'count',\n",
       " 'extend',\n",
       " 'index',\n",
       " 'insert',\n",
       " 'pop',\n",
       " 'remove',\n",
       " 'reverse',\n",
       " 'sort']"
      ]
     },
     "execution_count": 14,
     "metadata": {},
     "output_type": "execute_result"
    }
   ],
   "source": [
    "dir([1,2,3])"
   ]
  },
  {
   "cell_type": "code",
   "execution_count": 15,
   "id": "8b950d2f",
   "metadata": {
    "scrolled": true
   },
   "outputs": [
    {
     "data": {
      "text/plain": [
       "['__class__',\n",
       " '__class_getitem__',\n",
       " '__contains__',\n",
       " '__delattr__',\n",
       " '__delitem__',\n",
       " '__dir__',\n",
       " '__doc__',\n",
       " '__eq__',\n",
       " '__format__',\n",
       " '__ge__',\n",
       " '__getattribute__',\n",
       " '__getitem__',\n",
       " '__gt__',\n",
       " '__hash__',\n",
       " '__init__',\n",
       " '__init_subclass__',\n",
       " '__ior__',\n",
       " '__iter__',\n",
       " '__le__',\n",
       " '__len__',\n",
       " '__lt__',\n",
       " '__ne__',\n",
       " '__new__',\n",
       " '__or__',\n",
       " '__reduce__',\n",
       " '__reduce_ex__',\n",
       " '__repr__',\n",
       " '__reversed__',\n",
       " '__ror__',\n",
       " '__setattr__',\n",
       " '__setitem__',\n",
       " '__sizeof__',\n",
       " '__str__',\n",
       " '__subclasshook__',\n",
       " 'clear',\n",
       " 'copy',\n",
       " 'fromkeys',\n",
       " 'get',\n",
       " 'items',\n",
       " 'keys',\n",
       " 'pop',\n",
       " 'popitem',\n",
       " 'setdefault',\n",
       " 'update',\n",
       " 'values']"
      ]
     },
     "execution_count": 15,
     "metadata": {},
     "output_type": "execute_result"
    }
   ],
   "source": [
    "dir({})"
   ]
  },
  {
   "cell_type": "markdown",
   "id": "596e1206",
   "metadata": {},
   "source": [
    "divmod(a, b) 함수 예제 : a를 b로 나누고 몫과 나머지를 알려줌"
   ]
  },
  {
   "cell_type": "code",
   "execution_count": 17,
   "id": "1620d721",
   "metadata": {},
   "outputs": [
    {
     "data": {
      "text/plain": [
       "(3, 1)"
      ]
     },
     "execution_count": 17,
     "metadata": {},
     "output_type": "execute_result"
    }
   ],
   "source": [
    "divmod(7, 2)"
   ]
  },
  {
   "cell_type": "markdown",
   "id": "2a21ce8d",
   "metadata": {},
   "source": [
    "enumerate() 함수 예제 : 자료형(리스트, 튜플, 문자열)을 입력받아 인덱스값을 포함하는 객체를 돌려줌"
   ]
  },
  {
   "cell_type": "code",
   "execution_count": 18,
   "id": "3dec7528",
   "metadata": {},
   "outputs": [
    {
     "name": "stdout",
     "output_type": "stream",
     "text": [
      "0 a\n",
      "1 b\n",
      "2 c\n"
     ]
    }
   ],
   "source": [
    "for i, j in enumerate(['a','b','c']):\n",
    "    print(i, j)"
   ]
  },
  {
   "cell_type": "markdown",
   "id": "f44e4d6b",
   "metadata": {},
   "source": [
    "eval() 함수 예제 : 문자열도 연산가능하게해줌"
   ]
  },
  {
   "cell_type": "code",
   "execution_count": 26,
   "id": "bafd9136",
   "metadata": {
    "scrolled": true
   },
   "outputs": [
    {
     "data": {
      "text/plain": [
       "3"
      ]
     },
     "execution_count": 26,
     "metadata": {},
     "output_type": "execute_result"
    }
   ],
   "source": [
    "eval('1+2')"
   ]
  },
  {
   "cell_type": "code",
   "execution_count": 27,
   "id": "8720e6fd",
   "metadata": {},
   "outputs": [
    {
     "data": {
      "text/plain": [
       "'1+2'"
      ]
     },
     "execution_count": 27,
     "metadata": {},
     "output_type": "execute_result"
    }
   ],
   "source": [
    "eval(\"'1+2'\")"
   ]
  },
  {
   "cell_type": "code",
   "execution_count": 21,
   "id": "a241823f",
   "metadata": {},
   "outputs": [
    {
     "data": {
      "text/plain": [
       "'hia'"
      ]
     },
     "execution_count": 21,
     "metadata": {},
     "output_type": "execute_result"
    }
   ],
   "source": [
    "eval(\"'hi'+'a'\")"
   ]
  },
  {
   "cell_type": "code",
   "execution_count": 22,
   "id": "75766671",
   "metadata": {},
   "outputs": [
    {
     "ename": "TypeError",
     "evalue": "unsupported operand type(s) for -: 'str' and 'str'",
     "output_type": "error",
     "traceback": [
      "\u001b[1;31m---------------------------------------------------------------------------\u001b[0m",
      "\u001b[1;31mTypeError\u001b[0m                                 Traceback (most recent call last)",
      "\u001b[1;32m~\\AppData\\Local\\Temp/ipykernel_4876/3137068513.py\u001b[0m in \u001b[0;36m<module>\u001b[1;34m\u001b[0m\n\u001b[1;32m----> 1\u001b[1;33m \u001b[0meval\u001b[0m\u001b[1;33m(\u001b[0m\u001b[1;34m\"'hi'-'a'\"\u001b[0m\u001b[1;33m)\u001b[0m\u001b[1;33m\u001b[0m\u001b[1;33m\u001b[0m\u001b[0m\n\u001b[0m",
      "\u001b[1;32m<string>\u001b[0m in \u001b[0;36m<module>\u001b[1;34m\u001b[0m\n",
      "\u001b[1;31mTypeError\u001b[0m: unsupported operand type(s) for -: 'str' and 'str'"
     ]
    }
   ],
   "source": [
    "eval(\"'hi'-'a'\")"
   ]
  },
  {
   "cell_type": "code",
   "execution_count": 23,
   "id": "b6cdbb53",
   "metadata": {},
   "outputs": [
    {
     "data": {
      "text/plain": [
       "12"
      ]
     },
     "execution_count": 23,
     "metadata": {},
     "output_type": "execute_result"
    }
   ],
   "source": [
    "eval('1'+'2')"
   ]
  },
  {
   "cell_type": "markdown",
   "id": "fdd29064",
   "metadata": {},
   "source": [
    "filter() 함수 예제 (사용 전)"
   ]
  },
  {
   "cell_type": "code",
   "execution_count": 29,
   "id": "15b632fd",
   "metadata": {},
   "outputs": [],
   "source": [
    "def positive(l):\n",
    "    result = []\n",
    "    for i in l:\n",
    "        if i > 0:\n",
    "            result.append(i)\n",
    "    return result\n"
   ]
  },
  {
   "cell_type": "code",
   "execution_count": 31,
   "id": "3c862b8a",
   "metadata": {},
   "outputs": [
    {
     "name": "stdout",
     "output_type": "stream",
     "text": [
      "[1, 2, 3]\n"
     ]
    }
   ],
   "source": [
    "print(positive([1,2,3,-1,-2,-3,0]))"
   ]
  },
  {
   "cell_type": "markdown",
   "id": "f3866a8c",
   "metadata": {},
   "source": [
    "filter() 함수 예제 (사용) : 리스트 요소들을 함수에 걸러서 참인 값들만 나열"
   ]
  },
  {
   "cell_type": "code",
   "execution_count": 32,
   "id": "677abc6c",
   "metadata": {},
   "outputs": [],
   "source": [
    "def positive(x): # 필터로 이용하기 위한 함수\n",
    "    return x > 0"
   ]
  },
  {
   "cell_type": "code",
   "execution_count": 33,
   "id": "eab997a2",
   "metadata": {},
   "outputs": [
    {
     "data": {
      "text/plain": [
       "True"
      ]
     },
     "execution_count": 33,
     "metadata": {},
     "output_type": "execute_result"
    }
   ],
   "source": [
    "positive(1)"
   ]
  },
  {
   "cell_type": "code",
   "execution_count": 34,
   "id": "f6c146e5",
   "metadata": {},
   "outputs": [
    {
     "data": {
      "text/plain": [
       "False"
      ]
     },
     "execution_count": 34,
     "metadata": {},
     "output_type": "execute_result"
    }
   ],
   "source": [
    "positive(-1)"
   ]
  },
  {
   "cell_type": "code",
   "execution_count": 35,
   "id": "556d1044",
   "metadata": {},
   "outputs": [
    {
     "name": "stdout",
     "output_type": "stream",
     "text": [
      "[1, 2, 3]\n"
     ]
    }
   ],
   "source": [
    "print(list(filter(positive, [0,1,2,3,-1,-2,-3])))"
   ]
  },
  {
   "cell_type": "markdown",
   "id": "c77db2a0",
   "metadata": {},
   "source": [
    "람다함수 사용 (훨씬 편하고 간단해짐)"
   ]
  },
  {
   "cell_type": "code",
   "execution_count": 36,
   "id": "fc1ae4a2",
   "metadata": {},
   "outputs": [
    {
     "name": "stdout",
     "output_type": "stream",
     "text": [
      "[1, 2, 3]\n"
     ]
    }
   ],
   "source": [
    "print(list(filter(lambda x: x>0, [1,2,3,0,-1,-2,-3])))"
   ]
  },
  {
   "cell_type": "markdown",
   "id": "1c96ce2b",
   "metadata": {},
   "source": [
    "isinstance(object, class) : object가 class의 인스턴스인가? True or False"
   ]
  },
  {
   "cell_type": "code",
   "execution_count": 37,
   "id": "1337312a",
   "metadata": {},
   "outputs": [],
   "source": [
    "class Person:\n",
    "    pass"
   ]
  },
  {
   "cell_type": "code",
   "execution_count": 38,
   "id": "39fb6c5c",
   "metadata": {},
   "outputs": [],
   "source": [
    "a = Person()"
   ]
  },
  {
   "cell_type": "code",
   "execution_count": 39,
   "id": "0a8baf0e",
   "metadata": {},
   "outputs": [
    {
     "data": {
      "text/plain": [
       "True"
      ]
     },
     "execution_count": 39,
     "metadata": {},
     "output_type": "execute_result"
    }
   ],
   "source": [
    "isinstance(a, Person)"
   ]
  },
  {
   "cell_type": "code",
   "execution_count": 40,
   "id": "cc0a541c",
   "metadata": {},
   "outputs": [],
   "source": [
    "b = 3"
   ]
  },
  {
   "cell_type": "code",
   "execution_count": 41,
   "id": "1be59627",
   "metadata": {},
   "outputs": [
    {
     "data": {
      "text/plain": [
       "False"
      ]
     },
     "execution_count": 41,
     "metadata": {},
     "output_type": "execute_result"
    }
   ],
   "source": [
    "isinstance(b, Person)"
   ]
  },
  {
   "cell_type": "markdown",
   "id": "4226c537",
   "metadata": {},
   "source": [
    "map() 함수 예제(map 사용 X)"
   ]
  },
  {
   "cell_type": "code",
   "execution_count": 43,
   "id": "e5bde908",
   "metadata": {},
   "outputs": [],
   "source": [
    "def two_times(numberList):\n",
    "    result = []\n",
    "    for number in numberList:\n",
    "        result.append(number * 2)\n",
    "    return result"
   ]
  },
  {
   "cell_type": "code",
   "execution_count": 44,
   "id": "d2aedf12",
   "metadata": {},
   "outputs": [],
   "source": [
    "result = two_times([1, 2, 3, 4])"
   ]
  },
  {
   "cell_type": "code",
   "execution_count": 45,
   "id": "7c5d50c1",
   "metadata": {},
   "outputs": [
    {
     "name": "stdout",
     "output_type": "stream",
     "text": [
      "[2, 4, 6, 8]\n"
     ]
    }
   ],
   "source": [
    "print(result)"
   ]
  },
  {
   "cell_type": "markdown",
   "id": "4d3513e0",
   "metadata": {},
   "source": [
    "map() 함수 예제(map 사용)"
   ]
  },
  {
   "cell_type": "code",
   "execution_count": 46,
   "id": "65828934",
   "metadata": {},
   "outputs": [],
   "source": [
    "def two_times(x):\n",
    "    return x * 2"
   ]
  },
  {
   "cell_type": "code",
   "execution_count": 48,
   "id": "5ea272ed",
   "metadata": {},
   "outputs": [
    {
     "name": "stdout",
     "output_type": "stream",
     "text": [
      "[2, 4, 6, 8]\n"
     ]
    }
   ],
   "source": [
    "print(list(map(two_times, [1, 2, 3, 4])))"
   ]
  },
  {
   "cell_type": "markdown",
   "id": "1e3b4afc",
   "metadata": {},
   "source": [
    "map()에 lambda 사용"
   ]
  },
  {
   "cell_type": "code",
   "execution_count": 49,
   "id": "54ed04cc",
   "metadata": {},
   "outputs": [
    {
     "name": "stdout",
     "output_type": "stream",
     "text": [
      "[2, 4, 6, 8]\n"
     ]
    }
   ],
   "source": [
    "print(list(map(lambda a: a*2, [1, 2, 3, 4])))"
   ]
  },
  {
   "cell_type": "markdown",
   "id": "3b83a1f1",
   "metadata": {},
   "source": [
    "round(4.6, 2) 반올림"
   ]
  },
  {
   "cell_type": "code",
   "execution_count": 53,
   "id": "8036d497",
   "metadata": {},
   "outputs": [
    {
     "data": {
      "text/plain": [
       "4.61"
      ]
     },
     "execution_count": 53,
     "metadata": {},
     "output_type": "execute_result"
    }
   ],
   "source": [
    "round(4.61234, 2)"
   ]
  },
  {
   "cell_type": "code",
   "execution_count": null,
   "id": "ad5cd776",
   "metadata": {},
   "outputs": [],
   "source": []
  },
  {
   "cell_type": "code",
   "execution_count": null,
   "id": "f46281d4",
   "metadata": {},
   "outputs": [],
   "source": []
  },
  {
   "cell_type": "code",
   "execution_count": null,
   "id": "81770d7d",
   "metadata": {},
   "outputs": [],
   "source": []
  },
  {
   "cell_type": "code",
   "execution_count": null,
   "id": "f0416307",
   "metadata": {},
   "outputs": [],
   "source": []
  },
  {
   "cell_type": "code",
   "execution_count": null,
   "id": "99261213",
   "metadata": {},
   "outputs": [],
   "source": []
  },
  {
   "cell_type": "code",
   "execution_count": null,
   "id": "69318ff5",
   "metadata": {},
   "outputs": [],
   "source": []
  },
  {
   "cell_type": "code",
   "execution_count": null,
   "id": "fb9cd38a",
   "metadata": {},
   "outputs": [],
   "source": []
  },
  {
   "cell_type": "code",
   "execution_count": null,
   "id": "ee9e4baa",
   "metadata": {},
   "outputs": [],
   "source": []
  },
  {
   "cell_type": "code",
   "execution_count": null,
   "id": "dda15f15",
   "metadata": {},
   "outputs": [],
   "source": []
  },
  {
   "cell_type": "code",
   "execution_count": null,
   "id": "45ef07d5",
   "metadata": {},
   "outputs": [],
   "source": []
  },
  {
   "cell_type": "code",
   "execution_count": null,
   "id": "db967e9c",
   "metadata": {},
   "outputs": [],
   "source": []
  },
  {
   "cell_type": "code",
   "execution_count": null,
   "id": "d06cd233",
   "metadata": {},
   "outputs": [],
   "source": []
  },
  {
   "cell_type": "code",
   "execution_count": null,
   "id": "3abd1945",
   "metadata": {},
   "outputs": [],
   "source": []
  },
  {
   "cell_type": "code",
   "execution_count": null,
   "id": "b3086ccf",
   "metadata": {},
   "outputs": [],
   "source": []
  },
  {
   "cell_type": "code",
   "execution_count": null,
   "id": "1beb64b8",
   "metadata": {},
   "outputs": [],
   "source": []
  },
  {
   "cell_type": "code",
   "execution_count": null,
   "id": "c3853816",
   "metadata": {},
   "outputs": [],
   "source": []
  }
 ],
 "metadata": {
  "kernelspec": {
   "display_name": "Python 3 (ipykernel)",
   "language": "python",
   "name": "python3"
  },
  "language_info": {
   "codemirror_mode": {
    "name": "ipython",
    "version": 3
   },
   "file_extension": ".py",
   "mimetype": "text/x-python",
   "name": "python",
   "nbconvert_exporter": "python",
   "pygments_lexer": "ipython3",
   "version": "3.9.7"
  }
 },
 "nbformat": 4,
 "nbformat_minor": 5
}
