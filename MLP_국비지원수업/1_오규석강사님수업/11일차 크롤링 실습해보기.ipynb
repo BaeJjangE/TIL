{
 "cells": [
  {
   "cell_type": "markdown",
   "id": "39fbcf68",
   "metadata": {},
   "source": [
    "인스타 댓글 입력창 요소에 댓글과 엔터키를 send"
   ]
  },
  {
   "cell_type": "code",
   "execution_count": null,
   "id": "42b5bccd",
   "metadata": {},
   "outputs": [],
   "source": [
    "from selenium.webdriver.chrome.options import Options\n",
    "from selenium import webdriver\n",
    "from selenium.webdriver.common.keys import Keys\n",
    "import time\n",
    "\n",
    "class SendBot:\n",
    "    def __init__(self):\n",
    "        self.query = \"https://www.instagram.com/explore/tags/\"\n",
    "        self.options = Options()\n",
    "        self.options.add_argument(\"--window-size=1920, 1080\")\n",
    "        self.driver = webdriver.Chrome(executable_path=\"chromedriver_win32/chromedriver.exe\", chrome_options=self.options)\n",
    "        \n",
    "    def login(self, id, pw):\n",
    "        self.driver.get(\"https://www.instagram.com/accounts/login/\")\n",
    "        time.sleep(6)\n",
    "        user_input = self.driver.find_elements_by_tag_name(\"input\")\n",
    "        user_input[0].send_keys(id)        \n",
    "        user_input[1].send_keys(pw)\n",
    "        user_input[1].send_keys(Keys.RETURN)\n",
    "        time.sleep(6)\n",
    "    \n",
    "    def search_tag(self, tag):\n",
    "        self.driver.get(self.query+tag)\n",
    "        time.sleep(6)\n",
    "        \n",
    "    def first_photo_click(self):\n",
    "        first_xpath = '//*[@id=\"react-root\"]/section/main/article/div[2]/div/div[1]/div[1]'\n",
    "        el = self.driver.find_element_by_xpath(first_xpath)\n",
    "        el.click()\n",
    "        time.sleep(6)\n",
    "        \n",
    "    def comment(self, contents, num):\n",
    "        count = num\n",
    "        while count != 0:\n",
    "            # 댓글 창 클릭(일단 보류)\n",
    "            #comment_xpath = '/html/body/div[6]/div[3]/div/article/div/div[2]/div/div/div[2]/section[3]/div/form/textarea'\n",
    "            #el = self.driver.find_element_by_xpath(comment_xpath)\n",
    "            #el.click()\n",
    "            #time.sleep(2)\n",
    "\n",
    "            try:\n",
    "                tag_textarea = self.driver.find_element_by_tag_name(\"textarea\")\n",
    "                tag_textarea.send_keys(contents)\n",
    "                time.sleep(2)\n",
    "                tag_textarea.send_keys(Keys.ENTER)\n",
    "                time.sleep(5)\n",
    "                \n",
    "            except:\n",
    "                time.sleep(5)\n",
    "                try:\n",
    "                    tag_textarea = self.driver.find_element_by_tag_name(\"textarea\")\n",
    "                    tag_textarea.send_keys(contents)\n",
    "                    time.sleep(2)\n",
    "                    tag_textarea.send_keys(Keys.ENTER)\n",
    "                    time.sleep(5)\n",
    "                except:\n",
    "                    time.sleep(5)\n",
    "                    tag_textarea = self.driver.find_element_by_tag_name(\"textarea\")\n",
    "                    tag_textarea.send_keys(contents)\n",
    "                    time.sleep(2)\n",
    "                    tag_textarea.send_keys(Keys.ENTER)\n",
    "                    time.sleep(5)\n",
    "                \n",
    "            \n",
    "            # 다음 게시물로 이동 버튼 클릭\n",
    "            next_xpath = '/html/body/div[6]/div[2]/div/div[2]/button'\n",
    "            next_el = self.driver.find_element_by_xpath(next_xpath)\n",
    "            next_el.click()\n",
    "            time.sleep(5)\n",
    "            \n",
    "            count -= 1\n",
    "            \n",
    "    def mix(self, tag, contents, num):\n",
    "        self.search_tag(tag)\n",
    "        self.first_photo_click()\n",
    "        self.comment(contents, num)\n",
    "        \n",
    "    def kill():\n",
    "        self.driver.quit()   \n",
    "        \n",
    "        "
   ]
  },
  {
   "cell_type": "markdown",
   "id": "6a5b39eb",
   "metadata": {},
   "source": [
    "메인 파일"
   ]
  },
  {
   "cell_type": "code",
   "execution_count": 1,
   "id": "3b76d1ad",
   "metadata": {},
   "outputs": [
    {
     "ename": "IndexError",
     "evalue": "list index out of range",
     "output_type": "error",
     "traceback": [
      "\u001b[1;31m---------------------------------------------------------------------------\u001b[0m",
      "\u001b[1;31mIndexError\u001b[0m                                Traceback (most recent call last)",
      "\u001b[1;32m~\\AppData\\Local\\Temp/ipykernel_14284/2423593137.py\u001b[0m in \u001b[0;36m<module>\u001b[1;34m\u001b[0m\n\u001b[0;32m      4\u001b[0m \u001b[0mid\u001b[0m \u001b[1;33m=\u001b[0m \u001b[0msys\u001b[0m\u001b[1;33m.\u001b[0m\u001b[0margv\u001b[0m\u001b[1;33m[\u001b[0m\u001b[1;36m1\u001b[0m\u001b[1;33m]\u001b[0m\u001b[1;33m\u001b[0m\u001b[1;33m\u001b[0m\u001b[0m\n\u001b[0;32m      5\u001b[0m \u001b[0mpw\u001b[0m \u001b[1;33m=\u001b[0m \u001b[0msys\u001b[0m\u001b[1;33m.\u001b[0m\u001b[0margv\u001b[0m\u001b[1;33m[\u001b[0m\u001b[1;36m2\u001b[0m\u001b[1;33m]\u001b[0m\u001b[1;33m\u001b[0m\u001b[1;33m\u001b[0m\u001b[0m\n\u001b[1;32m----> 6\u001b[1;33m \u001b[0mtag\u001b[0m \u001b[1;33m=\u001b[0m \u001b[0msys\u001b[0m\u001b[1;33m.\u001b[0m\u001b[0margv\u001b[0m\u001b[1;33m[\u001b[0m\u001b[1;36m3\u001b[0m\u001b[1;33m]\u001b[0m\u001b[1;33m\u001b[0m\u001b[1;33m\u001b[0m\u001b[0m\n\u001b[0m\u001b[0;32m      7\u001b[0m \u001b[0mcontents\u001b[0m \u001b[1;33m=\u001b[0m \u001b[0msys\u001b[0m\u001b[1;33m.\u001b[0m\u001b[0margv\u001b[0m\u001b[1;33m[\u001b[0m\u001b[1;36m4\u001b[0m\u001b[1;33m]\u001b[0m\u001b[1;33m\u001b[0m\u001b[1;33m\u001b[0m\u001b[0m\n\u001b[0;32m      8\u001b[0m \u001b[0mnum\u001b[0m \u001b[1;33m=\u001b[0m \u001b[0mint\u001b[0m\u001b[1;33m(\u001b[0m\u001b[0msys\u001b[0m\u001b[1;33m.\u001b[0m\u001b[0margv\u001b[0m\u001b[1;33m[\u001b[0m\u001b[1;36m5\u001b[0m\u001b[1;33m]\u001b[0m\u001b[1;33m.\u001b[0m\u001b[0mstrip\u001b[0m\u001b[1;33m(\u001b[0m\u001b[1;33m)\u001b[0m\u001b[1;33m)\u001b[0m\u001b[1;33m\u001b[0m\u001b[1;33m\u001b[0m\u001b[0m\n",
      "\u001b[1;31mIndexError\u001b[0m: list index out of range"
     ]
    }
   ],
   "source": [
    "import sys\n",
    "import sendbot as sb\n",
    "\n",
    "id = sys.argv[1]\n",
    "pw = sys.argv[2]\n",
    "tag = sys.argv[3]\n",
    "contents = sys.argv[4]\n",
    "num = int(sys.argv[5].strip())\n",
    "\n",
    "BOT = sb.SendBot()\n",
    "\n",
    "BOT.login(id, pw)\n",
    "BOT.mix(tag, contents, num)\n"
   ]
  },
  {
   "cell_type": "code",
   "execution_count": 47,
   "id": "dbed88bc",
   "metadata": {},
   "outputs": [],
   "source": [
    "!python sendbot_main.py 01094924814 rladnjsqls2 강아지 \"잘보고가요~!\" 5"
   ]
  },
  {
   "cell_type": "markdown",
   "id": "5f4579df",
   "metadata": {},
   "source": [
    "테스트 파일"
   ]
  },
  {
   "cell_type": "code",
   "execution_count": 35,
   "id": "37b07603",
   "metadata": {
    "scrolled": true
   },
   "outputs": [
    {
     "name": "stderr",
     "output_type": "stream",
     "text": [
      "C:\\Users\\user\\AppData\\Local\\Temp/ipykernel_14284/2263190278.py:8: DeprecationWarning: executable_path has been deprecated, please pass in a Service object\n",
      "  driver = webdriver.Chrome(executable_path=\"chromedriver_win32/chromedriver.exe\", chrome_options=options)\n",
      "C:\\Users\\user\\AppData\\Local\\Temp/ipykernel_14284/2263190278.py:8: DeprecationWarning: use options instead of chrome_options\n",
      "  driver = webdriver.Chrome(executable_path=\"chromedriver_win32/chromedriver.exe\", chrome_options=options)\n"
     ]
    }
   ],
   "source": [
    "from selenium.webdriver.chrome.options import Options\n",
    "from selenium import webdriver\n",
    "from selenium.webdriver.common.keys import Keys\n",
    "import time\n",
    "\n",
    "options = Options()\n",
    "options.add_argument(\"--window-size=1920, 1080\")\n",
    "driver = webdriver.Chrome(executable_path=\"chromedriver_win32/chromedriver.exe\", chrome_options=options)"
   ]
  },
  {
   "cell_type": "code",
   "execution_count": 36,
   "id": "087b0935",
   "metadata": {
    "scrolled": true
   },
   "outputs": [
    {
     "name": "stderr",
     "output_type": "stream",
     "text": [
      "C:\\Users\\user\\AppData\\Local\\Temp/ipykernel_14284/2145431836.py:3: DeprecationWarning: find_elements_by_* commands are deprecated. Please use find_elements() instead\n",
      "  user_input = driver.find_elements_by_tag_name(\"input\")\n"
     ]
    }
   ],
   "source": [
    "driver.get(\"https://www.instagram.com/accounts/login/\")\n",
    "time.sleep(2)\n",
    "user_input = driver.find_elements_by_tag_name(\"input\")\n",
    "user_input[0].send_keys(\"01094924814\")        \n",
    "user_input[1].send_keys(\"rladnjsqls2\")\n",
    "user_input[1].send_keys(Keys.RETURN)\n",
    "time.sleep(6)"
   ]
  },
  {
   "cell_type": "code",
   "execution_count": 37,
   "id": "871db35c",
   "metadata": {},
   "outputs": [],
   "source": [
    "driver.get(\"https://www.instagram.com/explore/tags/고양이\")\n",
    "time.sleep(6)"
   ]
  },
  {
   "cell_type": "code",
   "execution_count": 38,
   "id": "e63a5593",
   "metadata": {},
   "outputs": [
    {
     "name": "stderr",
     "output_type": "stream",
     "text": [
      "C:\\Users\\user\\AppData\\Local\\Temp/ipykernel_14284/3632047031.py:2: DeprecationWarning: find_element_by_* commands are deprecated. Please use find_element() instead\n",
      "  el = driver.find_element_by_xpath(first_xpath)\n"
     ]
    }
   ],
   "source": [
    "first_xpath = '//*[@id=\"react-root\"]/section/main/article/div[2]/div/div[1]/div[1]'\n",
    "el = driver.find_element_by_xpath(first_xpath)\n",
    "el.click()\n",
    "time.sleep(6)"
   ]
  },
  {
   "cell_type": "markdown",
   "id": "9b818714",
   "metadata": {},
   "source": [
    "문제의 단계"
   ]
  },
  {
   "cell_type": "code",
   "execution_count": 42,
   "id": "3529507e",
   "metadata": {
    "scrolled": true
   },
   "outputs": [
    {
     "name": "stderr",
     "output_type": "stream",
     "text": [
      "C:\\Users\\user\\AppData\\Local\\Temp/ipykernel_14284/517721048.py:4: DeprecationWarning: find_element_by_* commands are deprecated. Please use find_element() instead\n",
      "  tag_textarea = driver.find_element_by_tag_name(\"textarea\")\n",
      "C:\\Users\\user\\AppData\\Local\\Temp/ipykernel_14284/517721048.py:8: DeprecationWarning: find_element_by_* commands are deprecated. Please use find_element() instead\n",
      "  button = driver.find_element_by_xpath(button_path)\n",
      "C:\\Users\\user\\AppData\\Local\\Temp/ipykernel_14284/517721048.py:14: DeprecationWarning: find_element_by_* commands are deprecated. Please use find_element() instead\n",
      "  next_el = driver.find_element_by_xpath(next_xpath)\n",
      "C:\\Users\\user\\AppData\\Local\\Temp/ipykernel_14284/517721048.py:21: DeprecationWarning: find_element_by_* commands are deprecated. Please use find_element() instead\n",
      "  tag_textarea = driver.find_element_by_tag_name(\"textarea\")\n",
      "C:\\Users\\user\\AppData\\Local\\Temp/ipykernel_14284/517721048.py:25: DeprecationWarning: find_element_by_* commands are deprecated. Please use find_element() instead\n",
      "  button = driver.find_element_by_xpath(button_path)\n",
      "C:\\Users\\user\\AppData\\Local\\Temp/ipykernel_14284/517721048.py:31: DeprecationWarning: find_element_by_* commands are deprecated. Please use find_element() instead\n",
      "  next_el = driver.find_element_by_xpath(next_xpath)\n",
      "C:\\Users\\user\\AppData\\Local\\Temp/ipykernel_14284/517721048.py:37: DeprecationWarning: find_element_by_* commands are deprecated. Please use find_element() instead\n",
      "  tag_textarea = driver.find_element_by_tag_name(\"textarea\")\n",
      "C:\\Users\\user\\AppData\\Local\\Temp/ipykernel_14284/517721048.py:41: DeprecationWarning: find_element_by_* commands are deprecated. Please use find_element() instead\n",
      "  button = driver.find_element_by_xpath(button_path)\n",
      "C:\\Users\\user\\AppData\\Local\\Temp/ipykernel_14284/517721048.py:47: DeprecationWarning: find_element_by_* commands are deprecated. Please use find_element() instead\n",
      "  next_el = driver.find_element_by_xpath(next_xpath)\n"
     ]
    },
    {
     "ename": "ElementNotInteractableException",
     "evalue": "Message: element not interactable\n  (Session info: chrome=98.0.4758.102)\nStacktrace:\nBacktrace:\n\tOrdinal0 [0x01157AC3+2587331]\n\tOrdinal0 [0x010EADD1+2141649]\n\tOrdinal0 [0x00FE3A80+1063552]\n\tOrdinal0 [0x0100B723+1226531]\n\tOrdinal0 [0x0100AE6C+1224300]\n\tOrdinal0 [0x0102868C+1345164]\n\tOrdinal0 [0x010067A4+1206180]\n\tOrdinal0 [0x010287E4+1345508]\n\tOrdinal0 [0x01038A0A+1411594]\n\tOrdinal0 [0x010284A6+1344678]\n\tOrdinal0 [0x010053F6+1201142]\n\tOrdinal0 [0x010062E6+1204966]\n\tGetHandleVerifier [0x012FDF22+1680738]\n\tGetHandleVerifier [0x013B0DBC+2413564]\n\tGetHandleVerifier [0x011ED151+563089]\n\tGetHandleVerifier [0x011EBF13+558419]\n\tOrdinal0 [0x010F081E+2164766]\n\tOrdinal0 [0x010F5508+2184456]\n\tOrdinal0 [0x010F5650+2184784]\n\tOrdinal0 [0x010FF5BC+2225596]\n\tBaseThreadInitThunk [0x7593FA29+25]\n\tRtlGetAppContainerNamedObjectPath [0x778D7A9E+286]\n\tRtlGetAppContainerNamedObjectPath [0x778D7A6E+238]\n",
     "output_type": "error",
     "traceback": [
      "\u001b[1;31m---------------------------------------------------------------------------\u001b[0m",
      "\u001b[1;31mElementNotInteractableException\u001b[0m           Traceback (most recent call last)",
      "\u001b[1;32m~\\AppData\\Local\\Temp/ipykernel_14284/517721048.py\u001b[0m in \u001b[0;36m<module>\u001b[1;34m\u001b[0m\n\u001b[0;32m      4\u001b[0m         \u001b[0mtag_textarea\u001b[0m \u001b[1;33m=\u001b[0m \u001b[0mdriver\u001b[0m\u001b[1;33m.\u001b[0m\u001b[0mfind_element_by_tag_name\u001b[0m\u001b[1;33m(\u001b[0m\u001b[1;34m\"textarea\"\u001b[0m\u001b[1;33m)\u001b[0m\u001b[1;33m\u001b[0m\u001b[1;33m\u001b[0m\u001b[0m\n\u001b[1;32m----> 5\u001b[1;33m         \u001b[0mtag_textarea\u001b[0m\u001b[1;33m.\u001b[0m\u001b[0msend_keys\u001b[0m\u001b[1;33m(\u001b[0m\u001b[0ma\u001b[0m\u001b[1;33m)\u001b[0m\u001b[1;33m\u001b[0m\u001b[1;33m\u001b[0m\u001b[0m\n\u001b[0m\u001b[0;32m      6\u001b[0m         \u001b[0mtime\u001b[0m\u001b[1;33m.\u001b[0m\u001b[0msleep\u001b[0m\u001b[1;33m(\u001b[0m\u001b[1;36m2\u001b[0m\u001b[1;33m)\u001b[0m\u001b[1;33m\u001b[0m\u001b[1;33m\u001b[0m\u001b[0m\n",
      "\u001b[1;32m~\\anaconda3\\lib\\site-packages\\selenium\\webdriver\\remote\\webelement.py\u001b[0m in \u001b[0;36msend_keys\u001b[1;34m(self, *value)\u001b[0m\n\u001b[0;32m    539\u001b[0m \u001b[1;33m\u001b[0m\u001b[0m\n\u001b[1;32m--> 540\u001b[1;33m         self._execute(Command.SEND_KEYS_TO_ELEMENT,\n\u001b[0m\u001b[0;32m    541\u001b[0m                       {'text': \"\".join(keys_to_typing(value)),\n",
      "\u001b[1;32m~\\anaconda3\\lib\\site-packages\\selenium\\webdriver\\remote\\webelement.py\u001b[0m in \u001b[0;36m_execute\u001b[1;34m(self, command, params)\u001b[0m\n\u001b[0;32m    709\u001b[0m         \u001b[0mparams\u001b[0m\u001b[1;33m[\u001b[0m\u001b[1;34m'id'\u001b[0m\u001b[1;33m]\u001b[0m \u001b[1;33m=\u001b[0m \u001b[0mself\u001b[0m\u001b[1;33m.\u001b[0m\u001b[0m_id\u001b[0m\u001b[1;33m\u001b[0m\u001b[1;33m\u001b[0m\u001b[0m\n\u001b[1;32m--> 710\u001b[1;33m         \u001b[1;32mreturn\u001b[0m \u001b[0mself\u001b[0m\u001b[1;33m.\u001b[0m\u001b[0m_parent\u001b[0m\u001b[1;33m.\u001b[0m\u001b[0mexecute\u001b[0m\u001b[1;33m(\u001b[0m\u001b[0mcommand\u001b[0m\u001b[1;33m,\u001b[0m \u001b[0mparams\u001b[0m\u001b[1;33m)\u001b[0m\u001b[1;33m\u001b[0m\u001b[1;33m\u001b[0m\u001b[0m\n\u001b[0m\u001b[0;32m    711\u001b[0m \u001b[1;33m\u001b[0m\u001b[0m\n",
      "\u001b[1;32m~\\anaconda3\\lib\\site-packages\\selenium\\webdriver\\remote\\webdriver.py\u001b[0m in \u001b[0;36mexecute\u001b[1;34m(self, driver_command, params)\u001b[0m\n\u001b[0;32m    423\u001b[0m         \u001b[1;32mif\u001b[0m \u001b[0mresponse\u001b[0m\u001b[1;33m:\u001b[0m\u001b[1;33m\u001b[0m\u001b[1;33m\u001b[0m\u001b[0m\n\u001b[1;32m--> 424\u001b[1;33m             \u001b[0mself\u001b[0m\u001b[1;33m.\u001b[0m\u001b[0merror_handler\u001b[0m\u001b[1;33m.\u001b[0m\u001b[0mcheck_response\u001b[0m\u001b[1;33m(\u001b[0m\u001b[0mresponse\u001b[0m\u001b[1;33m)\u001b[0m\u001b[1;33m\u001b[0m\u001b[1;33m\u001b[0m\u001b[0m\n\u001b[0m\u001b[0;32m    425\u001b[0m             response['value'] = self._unwrap_value(\n",
      "\u001b[1;32m~\\anaconda3\\lib\\site-packages\\selenium\\webdriver\\remote\\errorhandler.py\u001b[0m in \u001b[0;36mcheck_response\u001b[1;34m(self, response)\u001b[0m\n\u001b[0;32m    246\u001b[0m             \u001b[1;32mraise\u001b[0m \u001b[0mexception_class\u001b[0m\u001b[1;33m(\u001b[0m\u001b[0mmessage\u001b[0m\u001b[1;33m,\u001b[0m \u001b[0mscreen\u001b[0m\u001b[1;33m,\u001b[0m \u001b[0mstacktrace\u001b[0m\u001b[1;33m,\u001b[0m \u001b[0malert_text\u001b[0m\u001b[1;33m)\u001b[0m  \u001b[1;31m# type: ignore[call-arg]  # mypy is not smart enough here\u001b[0m\u001b[1;33m\u001b[0m\u001b[1;33m\u001b[0m\u001b[0m\n\u001b[1;32m--> 247\u001b[1;33m         \u001b[1;32mraise\u001b[0m \u001b[0mexception_class\u001b[0m\u001b[1;33m(\u001b[0m\u001b[0mmessage\u001b[0m\u001b[1;33m,\u001b[0m \u001b[0mscreen\u001b[0m\u001b[1;33m,\u001b[0m \u001b[0mstacktrace\u001b[0m\u001b[1;33m)\u001b[0m\u001b[1;33m\u001b[0m\u001b[1;33m\u001b[0m\u001b[0m\n\u001b[0m\u001b[0;32m    248\u001b[0m \u001b[1;33m\u001b[0m\u001b[0m\n",
      "\u001b[1;31mElementNotInteractableException\u001b[0m: Message: element not interactable\n  (Session info: chrome=98.0.4758.102)\nStacktrace:\nBacktrace:\n\tOrdinal0 [0x01157AC3+2587331]\n\tOrdinal0 [0x010EADD1+2141649]\n\tOrdinal0 [0x00FE3A80+1063552]\n\tOrdinal0 [0x0100B723+1226531]\n\tOrdinal0 [0x0100AE6C+1224300]\n\tOrdinal0 [0x0102868C+1345164]\n\tOrdinal0 [0x010067A4+1206180]\n\tOrdinal0 [0x010287E4+1345508]\n\tOrdinal0 [0x01038A0A+1411594]\n\tOrdinal0 [0x010284A6+1344678]\n\tOrdinal0 [0x010053F6+1201142]\n\tOrdinal0 [0x010062E6+1204966]\n\tGetHandleVerifier [0x012FDF22+1680738]\n\tGetHandleVerifier [0x013B0DBC+2413564]\n\tGetHandleVerifier [0x011ED151+563089]\n\tGetHandleVerifier [0x011EBF13+558419]\n\tOrdinal0 [0x010F081E+2164766]\n\tOrdinal0 [0x010F5508+2184456]\n\tOrdinal0 [0x010F5650+2184784]\n\tOrdinal0 [0x010FF5BC+2225596]\n\tBaseThreadInitThunk [0x7593FA29+25]\n\tRtlGetAppContainerNamedObjectPath [0x778D7A9E+286]\n\tRtlGetAppContainerNamedObjectPath [0x778D7A6E+238]\n",
      "\nDuring handling of the above exception, another exception occurred:\n",
      "\u001b[1;31mElementNotInteractableException\u001b[0m           Traceback (most recent call last)",
      "\u001b[1;32m~\\AppData\\Local\\Temp/ipykernel_14284/517721048.py\u001b[0m in \u001b[0;36m<module>\u001b[1;34m\u001b[0m\n\u001b[0;32m     21\u001b[0m             \u001b[0mtag_textarea\u001b[0m \u001b[1;33m=\u001b[0m \u001b[0mdriver\u001b[0m\u001b[1;33m.\u001b[0m\u001b[0mfind_element_by_tag_name\u001b[0m\u001b[1;33m(\u001b[0m\u001b[1;34m\"textarea\"\u001b[0m\u001b[1;33m)\u001b[0m\u001b[1;33m\u001b[0m\u001b[1;33m\u001b[0m\u001b[0m\n\u001b[1;32m---> 22\u001b[1;33m             \u001b[0mtag_textarea\u001b[0m\u001b[1;33m.\u001b[0m\u001b[0msend_keys\u001b[0m\u001b[1;33m(\u001b[0m\u001b[0ma\u001b[0m\u001b[1;33m)\u001b[0m\u001b[1;33m\u001b[0m\u001b[1;33m\u001b[0m\u001b[0m\n\u001b[0m\u001b[0;32m     23\u001b[0m             \u001b[0mtime\u001b[0m\u001b[1;33m.\u001b[0m\u001b[0msleep\u001b[0m\u001b[1;33m(\u001b[0m\u001b[1;36m2\u001b[0m\u001b[1;33m)\u001b[0m\u001b[1;33m\u001b[0m\u001b[1;33m\u001b[0m\u001b[0m\n",
      "\u001b[1;32m~\\anaconda3\\lib\\site-packages\\selenium\\webdriver\\remote\\webelement.py\u001b[0m in \u001b[0;36msend_keys\u001b[1;34m(self, *value)\u001b[0m\n\u001b[0;32m    539\u001b[0m \u001b[1;33m\u001b[0m\u001b[0m\n\u001b[1;32m--> 540\u001b[1;33m         self._execute(Command.SEND_KEYS_TO_ELEMENT,\n\u001b[0m\u001b[0;32m    541\u001b[0m                       {'text': \"\".join(keys_to_typing(value)),\n",
      "\u001b[1;32m~\\anaconda3\\lib\\site-packages\\selenium\\webdriver\\remote\\webelement.py\u001b[0m in \u001b[0;36m_execute\u001b[1;34m(self, command, params)\u001b[0m\n\u001b[0;32m    709\u001b[0m         \u001b[0mparams\u001b[0m\u001b[1;33m[\u001b[0m\u001b[1;34m'id'\u001b[0m\u001b[1;33m]\u001b[0m \u001b[1;33m=\u001b[0m \u001b[0mself\u001b[0m\u001b[1;33m.\u001b[0m\u001b[0m_id\u001b[0m\u001b[1;33m\u001b[0m\u001b[1;33m\u001b[0m\u001b[0m\n\u001b[1;32m--> 710\u001b[1;33m         \u001b[1;32mreturn\u001b[0m \u001b[0mself\u001b[0m\u001b[1;33m.\u001b[0m\u001b[0m_parent\u001b[0m\u001b[1;33m.\u001b[0m\u001b[0mexecute\u001b[0m\u001b[1;33m(\u001b[0m\u001b[0mcommand\u001b[0m\u001b[1;33m,\u001b[0m \u001b[0mparams\u001b[0m\u001b[1;33m)\u001b[0m\u001b[1;33m\u001b[0m\u001b[1;33m\u001b[0m\u001b[0m\n\u001b[0m\u001b[0;32m    711\u001b[0m \u001b[1;33m\u001b[0m\u001b[0m\n",
      "\u001b[1;32m~\\anaconda3\\lib\\site-packages\\selenium\\webdriver\\remote\\webdriver.py\u001b[0m in \u001b[0;36mexecute\u001b[1;34m(self, driver_command, params)\u001b[0m\n\u001b[0;32m    423\u001b[0m         \u001b[1;32mif\u001b[0m \u001b[0mresponse\u001b[0m\u001b[1;33m:\u001b[0m\u001b[1;33m\u001b[0m\u001b[1;33m\u001b[0m\u001b[0m\n\u001b[1;32m--> 424\u001b[1;33m             \u001b[0mself\u001b[0m\u001b[1;33m.\u001b[0m\u001b[0merror_handler\u001b[0m\u001b[1;33m.\u001b[0m\u001b[0mcheck_response\u001b[0m\u001b[1;33m(\u001b[0m\u001b[0mresponse\u001b[0m\u001b[1;33m)\u001b[0m\u001b[1;33m\u001b[0m\u001b[1;33m\u001b[0m\u001b[0m\n\u001b[0m\u001b[0;32m    425\u001b[0m             response['value'] = self._unwrap_value(\n",
      "\u001b[1;32m~\\anaconda3\\lib\\site-packages\\selenium\\webdriver\\remote\\errorhandler.py\u001b[0m in \u001b[0;36mcheck_response\u001b[1;34m(self, response)\u001b[0m\n\u001b[0;32m    246\u001b[0m             \u001b[1;32mraise\u001b[0m \u001b[0mexception_class\u001b[0m\u001b[1;33m(\u001b[0m\u001b[0mmessage\u001b[0m\u001b[1;33m,\u001b[0m \u001b[0mscreen\u001b[0m\u001b[1;33m,\u001b[0m \u001b[0mstacktrace\u001b[0m\u001b[1;33m,\u001b[0m \u001b[0malert_text\u001b[0m\u001b[1;33m)\u001b[0m  \u001b[1;31m# type: ignore[call-arg]  # mypy is not smart enough here\u001b[0m\u001b[1;33m\u001b[0m\u001b[1;33m\u001b[0m\u001b[0m\n\u001b[1;32m--> 247\u001b[1;33m         \u001b[1;32mraise\u001b[0m \u001b[0mexception_class\u001b[0m\u001b[1;33m(\u001b[0m\u001b[0mmessage\u001b[0m\u001b[1;33m,\u001b[0m \u001b[0mscreen\u001b[0m\u001b[1;33m,\u001b[0m \u001b[0mstacktrace\u001b[0m\u001b[1;33m)\u001b[0m\u001b[1;33m\u001b[0m\u001b[1;33m\u001b[0m\u001b[0m\n\u001b[0m\u001b[0;32m    248\u001b[0m \u001b[1;33m\u001b[0m\u001b[0m\n",
      "\u001b[1;31mElementNotInteractableException\u001b[0m: Message: element not interactable\n  (Session info: chrome=98.0.4758.102)\nStacktrace:\nBacktrace:\n\tOrdinal0 [0x01157AC3+2587331]\n\tOrdinal0 [0x010EADD1+2141649]\n\tOrdinal0 [0x00FE3A80+1063552]\n\tOrdinal0 [0x0100B723+1226531]\n\tOrdinal0 [0x0100AE6C+1224300]\n\tOrdinal0 [0x0102868C+1345164]\n\tOrdinal0 [0x010067A4+1206180]\n\tOrdinal0 [0x010287E4+1345508]\n\tOrdinal0 [0x01038A0A+1411594]\n\tOrdinal0 [0x010284A6+1344678]\n\tOrdinal0 [0x010053F6+1201142]\n\tOrdinal0 [0x010062E6+1204966]\n\tGetHandleVerifier [0x012FDF22+1680738]\n\tGetHandleVerifier [0x013B0DBC+2413564]\n\tGetHandleVerifier [0x011ED151+563089]\n\tGetHandleVerifier [0x011EBF13+558419]\n\tOrdinal0 [0x010F081E+2164766]\n\tOrdinal0 [0x010F5508+2184456]\n\tOrdinal0 [0x010F5650+2184784]\n\tOrdinal0 [0x010FF5BC+2225596]\n\tBaseThreadInitThunk [0x7593FA29+25]\n\tRtlGetAppContainerNamedObjectPath [0x778D7A9E+286]\n\tRtlGetAppContainerNamedObjectPath [0x778D7A6E+238]\n",
      "\nDuring handling of the above exception, another exception occurred:\n",
      "\u001b[1;31mElementNotInteractableException\u001b[0m           Traceback (most recent call last)",
      "\u001b[1;32m~\\AppData\\Local\\Temp/ipykernel_14284/517721048.py\u001b[0m in \u001b[0;36m<module>\u001b[1;34m\u001b[0m\n\u001b[0;32m     36\u001b[0m         \u001b[1;32mfor\u001b[0m \u001b[0mi\u001b[0m \u001b[1;32min\u001b[0m \u001b[0mrange\u001b[0m\u001b[1;33m(\u001b[0m\u001b[1;36m3\u001b[0m\u001b[1;33m)\u001b[0m\u001b[1;33m:\u001b[0m\u001b[1;33m\u001b[0m\u001b[1;33m\u001b[0m\u001b[0m\n\u001b[0;32m     37\u001b[0m             \u001b[0mtag_textarea\u001b[0m \u001b[1;33m=\u001b[0m \u001b[0mdriver\u001b[0m\u001b[1;33m.\u001b[0m\u001b[0mfind_element_by_tag_name\u001b[0m\u001b[1;33m(\u001b[0m\u001b[1;34m\"textarea\"\u001b[0m\u001b[1;33m)\u001b[0m\u001b[1;33m\u001b[0m\u001b[1;33m\u001b[0m\u001b[0m\n\u001b[1;32m---> 38\u001b[1;33m             \u001b[0mtag_textarea\u001b[0m\u001b[1;33m.\u001b[0m\u001b[0msend_keys\u001b[0m\u001b[1;33m(\u001b[0m\u001b[0ma\u001b[0m\u001b[1;33m)\u001b[0m\u001b[1;33m\u001b[0m\u001b[1;33m\u001b[0m\u001b[0m\n\u001b[0m\u001b[0;32m     39\u001b[0m             \u001b[0mtime\u001b[0m\u001b[1;33m.\u001b[0m\u001b[0msleep\u001b[0m\u001b[1;33m(\u001b[0m\u001b[1;36m2\u001b[0m\u001b[1;33m)\u001b[0m\u001b[1;33m\u001b[0m\u001b[1;33m\u001b[0m\u001b[0m\n\u001b[0;32m     40\u001b[0m             \u001b[0mbutton_path\u001b[0m \u001b[1;33m=\u001b[0m \u001b[1;34m'/html/body/div[6]/div[3]/div/article/div/div[2]/div/div/div[2]/section[3]/div/form/button'\u001b[0m\u001b[1;33m\u001b[0m\u001b[1;33m\u001b[0m\u001b[0m\n",
      "\u001b[1;32m~\\anaconda3\\lib\\site-packages\\selenium\\webdriver\\remote\\webelement.py\u001b[0m in \u001b[0;36msend_keys\u001b[1;34m(self, *value)\u001b[0m\n\u001b[0;32m    538\u001b[0m                 \u001b[0mvalue\u001b[0m \u001b[1;33m=\u001b[0m \u001b[1;34m'\\n'\u001b[0m\u001b[1;33m.\u001b[0m\u001b[0mjoin\u001b[0m\u001b[1;33m(\u001b[0m\u001b[0mremote_files\u001b[0m\u001b[1;33m)\u001b[0m\u001b[1;33m\u001b[0m\u001b[1;33m\u001b[0m\u001b[0m\n\u001b[0;32m    539\u001b[0m \u001b[1;33m\u001b[0m\u001b[0m\n\u001b[1;32m--> 540\u001b[1;33m         self._execute(Command.SEND_KEYS_TO_ELEMENT,\n\u001b[0m\u001b[0;32m    541\u001b[0m                       {'text': \"\".join(keys_to_typing(value)),\n\u001b[0;32m    542\u001b[0m                        'value': keys_to_typing(value)})\n",
      "\u001b[1;32m~\\anaconda3\\lib\\site-packages\\selenium\\webdriver\\remote\\webelement.py\u001b[0m in \u001b[0;36m_execute\u001b[1;34m(self, command, params)\u001b[0m\n\u001b[0;32m    708\u001b[0m             \u001b[0mparams\u001b[0m \u001b[1;33m=\u001b[0m \u001b[1;33m{\u001b[0m\u001b[1;33m}\u001b[0m\u001b[1;33m\u001b[0m\u001b[1;33m\u001b[0m\u001b[0m\n\u001b[0;32m    709\u001b[0m         \u001b[0mparams\u001b[0m\u001b[1;33m[\u001b[0m\u001b[1;34m'id'\u001b[0m\u001b[1;33m]\u001b[0m \u001b[1;33m=\u001b[0m \u001b[0mself\u001b[0m\u001b[1;33m.\u001b[0m\u001b[0m_id\u001b[0m\u001b[1;33m\u001b[0m\u001b[1;33m\u001b[0m\u001b[0m\n\u001b[1;32m--> 710\u001b[1;33m         \u001b[1;32mreturn\u001b[0m \u001b[0mself\u001b[0m\u001b[1;33m.\u001b[0m\u001b[0m_parent\u001b[0m\u001b[1;33m.\u001b[0m\u001b[0mexecute\u001b[0m\u001b[1;33m(\u001b[0m\u001b[0mcommand\u001b[0m\u001b[1;33m,\u001b[0m \u001b[0mparams\u001b[0m\u001b[1;33m)\u001b[0m\u001b[1;33m\u001b[0m\u001b[1;33m\u001b[0m\u001b[0m\n\u001b[0m\u001b[0;32m    711\u001b[0m \u001b[1;33m\u001b[0m\u001b[0m\n\u001b[0;32m    712\u001b[0m     \u001b[1;32mdef\u001b[0m \u001b[0mfind_element\u001b[0m\u001b[1;33m(\u001b[0m\u001b[0mself\u001b[0m\u001b[1;33m,\u001b[0m \u001b[0mby\u001b[0m\u001b[1;33m=\u001b[0m\u001b[0mBy\u001b[0m\u001b[1;33m.\u001b[0m\u001b[0mID\u001b[0m\u001b[1;33m,\u001b[0m \u001b[0mvalue\u001b[0m\u001b[1;33m=\u001b[0m\u001b[1;32mNone\u001b[0m\u001b[1;33m)\u001b[0m\u001b[1;33m:\u001b[0m\u001b[1;33m\u001b[0m\u001b[1;33m\u001b[0m\u001b[0m\n",
      "\u001b[1;32m~\\anaconda3\\lib\\site-packages\\selenium\\webdriver\\remote\\webdriver.py\u001b[0m in \u001b[0;36mexecute\u001b[1;34m(self, driver_command, params)\u001b[0m\n\u001b[0;32m    422\u001b[0m         \u001b[0mresponse\u001b[0m \u001b[1;33m=\u001b[0m \u001b[0mself\u001b[0m\u001b[1;33m.\u001b[0m\u001b[0mcommand_executor\u001b[0m\u001b[1;33m.\u001b[0m\u001b[0mexecute\u001b[0m\u001b[1;33m(\u001b[0m\u001b[0mdriver_command\u001b[0m\u001b[1;33m,\u001b[0m \u001b[0mparams\u001b[0m\u001b[1;33m)\u001b[0m\u001b[1;33m\u001b[0m\u001b[1;33m\u001b[0m\u001b[0m\n\u001b[0;32m    423\u001b[0m         \u001b[1;32mif\u001b[0m \u001b[0mresponse\u001b[0m\u001b[1;33m:\u001b[0m\u001b[1;33m\u001b[0m\u001b[1;33m\u001b[0m\u001b[0m\n\u001b[1;32m--> 424\u001b[1;33m             \u001b[0mself\u001b[0m\u001b[1;33m.\u001b[0m\u001b[0merror_handler\u001b[0m\u001b[1;33m.\u001b[0m\u001b[0mcheck_response\u001b[0m\u001b[1;33m(\u001b[0m\u001b[0mresponse\u001b[0m\u001b[1;33m)\u001b[0m\u001b[1;33m\u001b[0m\u001b[1;33m\u001b[0m\u001b[0m\n\u001b[0m\u001b[0;32m    425\u001b[0m             response['value'] = self._unwrap_value(\n\u001b[0;32m    426\u001b[0m                 response.get('value', None))\n",
      "\u001b[1;32m~\\anaconda3\\lib\\site-packages\\selenium\\webdriver\\remote\\errorhandler.py\u001b[0m in \u001b[0;36mcheck_response\u001b[1;34m(self, response)\u001b[0m\n\u001b[0;32m    245\u001b[0m                 \u001b[0malert_text\u001b[0m \u001b[1;33m=\u001b[0m \u001b[0mvalue\u001b[0m\u001b[1;33m[\u001b[0m\u001b[1;34m'alert'\u001b[0m\u001b[1;33m]\u001b[0m\u001b[1;33m.\u001b[0m\u001b[0mget\u001b[0m\u001b[1;33m(\u001b[0m\u001b[1;34m'text'\u001b[0m\u001b[1;33m)\u001b[0m\u001b[1;33m\u001b[0m\u001b[1;33m\u001b[0m\u001b[0m\n\u001b[0;32m    246\u001b[0m             \u001b[1;32mraise\u001b[0m \u001b[0mexception_class\u001b[0m\u001b[1;33m(\u001b[0m\u001b[0mmessage\u001b[0m\u001b[1;33m,\u001b[0m \u001b[0mscreen\u001b[0m\u001b[1;33m,\u001b[0m \u001b[0mstacktrace\u001b[0m\u001b[1;33m,\u001b[0m \u001b[0malert_text\u001b[0m\u001b[1;33m)\u001b[0m  \u001b[1;31m# type: ignore[call-arg]  # mypy is not smart enough here\u001b[0m\u001b[1;33m\u001b[0m\u001b[1;33m\u001b[0m\u001b[0m\n\u001b[1;32m--> 247\u001b[1;33m         \u001b[1;32mraise\u001b[0m \u001b[0mexception_class\u001b[0m\u001b[1;33m(\u001b[0m\u001b[0mmessage\u001b[0m\u001b[1;33m,\u001b[0m \u001b[0mscreen\u001b[0m\u001b[1;33m,\u001b[0m \u001b[0mstacktrace\u001b[0m\u001b[1;33m)\u001b[0m\u001b[1;33m\u001b[0m\u001b[1;33m\u001b[0m\u001b[0m\n\u001b[0m\u001b[0;32m    248\u001b[0m \u001b[1;33m\u001b[0m\u001b[0m\n\u001b[0;32m    249\u001b[0m     \u001b[1;32mdef\u001b[0m \u001b[0m_value_or_default\u001b[0m\u001b[1;33m(\u001b[0m\u001b[0mself\u001b[0m\u001b[1;33m,\u001b[0m \u001b[0mobj\u001b[0m\u001b[1;33m:\u001b[0m \u001b[0mMapping\u001b[0m\u001b[1;33m[\u001b[0m\u001b[0m_KT\u001b[0m\u001b[1;33m,\u001b[0m \u001b[0m_VT\u001b[0m\u001b[1;33m]\u001b[0m\u001b[1;33m,\u001b[0m \u001b[0mkey\u001b[0m\u001b[1;33m:\u001b[0m \u001b[0m_KT\u001b[0m\u001b[1;33m,\u001b[0m \u001b[0mdefault\u001b[0m\u001b[1;33m:\u001b[0m \u001b[0m_VT\u001b[0m\u001b[1;33m)\u001b[0m \u001b[1;33m->\u001b[0m \u001b[0m_VT\u001b[0m\u001b[1;33m:\u001b[0m\u001b[1;33m\u001b[0m\u001b[1;33m\u001b[0m\u001b[0m\n",
      "\u001b[1;31mElementNotInteractableException\u001b[0m: Message: element not interactable\n  (Session info: chrome=98.0.4758.102)\nStacktrace:\nBacktrace:\n\tOrdinal0 [0x01157AC3+2587331]\n\tOrdinal0 [0x010EADD1+2141649]\n\tOrdinal0 [0x00FE3A80+1063552]\n\tOrdinal0 [0x0100B723+1226531]\n\tOrdinal0 [0x0100AE6C+1224300]\n\tOrdinal0 [0x0102868C+1345164]\n\tOrdinal0 [0x010067A4+1206180]\n\tOrdinal0 [0x010287E4+1345508]\n\tOrdinal0 [0x01038A0A+1411594]\n\tOrdinal0 [0x010284A6+1344678]\n\tOrdinal0 [0x010053F6+1201142]\n\tOrdinal0 [0x010062E6+1204966]\n\tGetHandleVerifier [0x012FDF22+1680738]\n\tGetHandleVerifier [0x013B0DBC+2413564]\n\tGetHandleVerifier [0x011ED151+563089]\n\tGetHandleVerifier [0x011EBF13+558419]\n\tOrdinal0 [0x010F081E+2164766]\n\tOrdinal0 [0x010F5508+2184456]\n\tOrdinal0 [0x010F5650+2184784]\n\tOrdinal0 [0x010FF5BC+2225596]\n\tBaseThreadInitThunk [0x7593FA29+25]\n\tRtlGetAppContainerNamedObjectPath [0x778D7A9E+286]\n\tRtlGetAppContainerNamedObjectPath [0x778D7A6E+238]\n"
     ]
    }
   ],
   "source": [
    "\n",
    "a = \"hi\"\n",
    "\n",
    "\n",
    "try:\n",
    "    for i in range(3):\n",
    "        tag_textarea = driver.find_element_by_tag_name(\"textarea\")\n",
    "        tag_textarea.send_keys(a)\n",
    "        time.sleep(2)\n",
    "        button_path = '/html/body/div[6]/div[3]/div/article/div/div[2]/div/div/div[2]/section[3]/div/form/button'\n",
    "        button = driver.find_element_by_xpath(button_path)\n",
    "        button.send_keys(Keys.ENTER)\n",
    "        time.sleep(5)\n",
    "\n",
    "        # 다음 게시물로 넘기기\n",
    "        next_xpath = '/html/body/div[6]/div[2]/div/div[2]/button'\n",
    "        next_el = driver.find_element_by_xpath(next_xpath)\n",
    "        next_el.send_keys(Keys.ENTER)\n",
    "        time.sleep(5)   \n",
    "except:\n",
    "    time.sleep(5)\n",
    "    try:\n",
    "        for i in range(3):\n",
    "            tag_textarea = driver.find_element_by_tag_name(\"textarea\")\n",
    "            tag_textarea.send_keys(a)\n",
    "            time.sleep(2)\n",
    "            button_path = '/html/body/div[6]/div[3]/div/article/div/div[2]/div/div/div[2]/section[3]/div/form/button'\n",
    "            button = driver.find_element_by_xpath(button_path)\n",
    "            button.send_keys(Keys.ENTER)\n",
    "            time.sleep(5)\n",
    "\n",
    "            # 다음 게시물로 넘기기\n",
    "            next_xpath = '/html/body/div[6]/div[2]/div/div[2]/button'\n",
    "            next_el = driver.find_element_by_xpath(next_xpath)\n",
    "            next_el.send_keys(Keys.ENTER)\n",
    "            time.sleep(5)\n",
    "    except:\n",
    "        time.sleep(5)\n",
    "        for i in range(3):\n",
    "            tag_textarea = driver.find_element_by_tag_name(\"textarea\")\n",
    "            tag_textarea.send_keys(a)\n",
    "            time.sleep(2)\n",
    "            button_path = '/html/body/div[6]/div[3]/div/article/div/div[2]/div/div/div[2]/section[3]/div/form/button'\n",
    "            button = driver.find_element_by_xpath(button_path)\n",
    "            button.send_keys(Keys.ENTER)\n",
    "            time.sleep(5)\n",
    "\n",
    "            # 다음 게시물로 넘기기\n",
    "            next_xpath = '/html/body/div[6]/div[2]/div/div[2]/button'\n",
    "            next_el = driver.find_element_by_xpath(next_xpath)\n",
    "            next_el.send_keys(Keys.ENTER)\n",
    "            time.sleep(5)\n",
    "    "
   ]
  },
  {
   "cell_type": "code",
   "execution_count": 30,
   "id": "a52dd27a",
   "metadata": {},
   "outputs": [],
   "source": []
  }
 ],
 "metadata": {
  "kernelspec": {
   "display_name": "Python 3 (ipykernel)",
   "language": "python",
   "name": "python3"
  },
  "language_info": {
   "codemirror_mode": {
    "name": "ipython",
    "version": 3
   },
   "file_extension": ".py",
   "mimetype": "text/x-python",
   "name": "python",
   "nbconvert_exporter": "python",
   "pygments_lexer": "ipython3",
   "version": "3.9.7"
  }
 },
 "nbformat": 4,
 "nbformat_minor": 5
}
