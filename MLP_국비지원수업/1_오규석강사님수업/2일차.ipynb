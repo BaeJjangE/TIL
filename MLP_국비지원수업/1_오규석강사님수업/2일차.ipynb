{
 "cells": [
  {
   "cell_type": "code",
   "execution_count": 4,
   "id": "80019fa1",
   "metadata": {},
   "outputs": [
    {
     "name": "stdout",
     "output_type": "stream",
     "text": [
      "7\n"
     ]
    }
   ],
   "source": [
    "a = 3\n",
    "b = 4\n",
    "print(a+b)"
   ]
  },
  {
   "cell_type": "code",
   "execution_count": 8,
   "id": "0b878737",
   "metadata": {
    "scrolled": true
   },
   "outputs": [
    {
     "name": "stdout",
     "output_type": "stream",
     "text": [
      "lifeisshort\n"
     ]
    }
   ],
   "source": [
    "print(\"life\"\"is\"\"short\")"
   ]
  },
  {
   "cell_type": "code",
   "execution_count": 7,
   "id": "60f6923b",
   "metadata": {},
   "outputs": [
    {
     "name": "stdout",
     "output_type": "stream",
     "text": [
      "life is short\n"
     ]
    }
   ],
   "source": [
    "print(\"life\",\"is\",\"short\")"
   ]
  },
  {
   "cell_type": "code",
   "execution_count": 18,
   "id": "4cbb7f3f",
   "metadata": {
    "scrolled": true
   },
   "outputs": [
    {
     "name": "stdout",
     "output_type": "stream",
     "text": [
      "life is short\n"
     ]
    }
   ],
   "source": [
    "print(\"life is short\") #띄어쓰기"
   ]
  },
  {
   "cell_type": "code",
   "execution_count": 15,
   "id": "e61c31da",
   "metadata": {},
   "outputs": [
    {
     "name": "stdout",
     "output_type": "stream",
     "text": [
      "a 값을 입력해주세요: 20\n"
     ]
    }
   ],
   "source": [
    "a = input(\"a 값을 입력해주세요: \")"
   ]
  },
  {
   "cell_type": "code",
   "execution_count": 17,
   "id": "75d93862",
   "metadata": {},
   "outputs": [
    {
     "name": "stdout",
     "output_type": "stream",
     "text": [
      "20\n"
     ]
    }
   ],
   "source": [
    "print(a)"
   ]
  },
  {
   "cell_type": "markdown",
   "id": "52e53017",
   "metadata": {},
   "source": [
    "주석 예제"
   ]
  },
  {
   "cell_type": "code",
   "execution_count": 30,
   "id": "3351a107",
   "metadata": {},
   "outputs": [
    {
     "name": "stdout",
     "output_type": "stream",
     "text": [
      "지구인\n",
      "10\n",
      "안녕\n"
     ]
    }
   ],
   "source": [
    "identity = \"지구인\" #정체1\n",
    "number_of_legs = 10 #다리의 수\n",
    "print(Identity)\n",
    "print(number_of_legs)\n",
    "print('안녕')\n",
    "#print(\"너는 누구니?\")"
   ]
  },
  {
   "cell_type": "code",
   "execution_count": 26,
   "id": "ea05c334",
   "metadata": {},
   "outputs": [
    {
     "name": "stdout",
     "output_type": "stream",
     "text": [
      "hello\n"
     ]
    }
   ],
   "source": [
    "\"\"\"\n",
    "주석 내용입니다.\n",
    "\"\"\"\n",
    "print(\"hello\")"
   ]
  },
  {
   "cell_type": "code",
   "execution_count": 32,
   "id": "77e3e38d",
   "metadata": {},
   "outputs": [],
   "source": [
    "identity = \"외계인\""
   ]
  },
  {
   "cell_type": "code",
   "execution_count": 33,
   "id": "40e8a7e0",
   "metadata": {},
   "outputs": [
    {
     "name": "stdout",
     "output_type": "stream",
     "text": [
      "외계인\n"
     ]
    }
   ],
   "source": [
    "print(identity)"
   ]
  },
  {
   "cell_type": "markdown",
   "id": "befb8e31",
   "metadata": {},
   "source": [
    "- 똑같은 이름의 변수에 새로운 값을 저장할 경우 변수의 값이 변경 X, 새로운 변수 생성 O\n",
    " - 기존 변수의 값을 불러 올 수는 없음\n",
    "\n",
    "변수 생성시 특징\n",
    "- 변수명의 첫문자는 영문자 또는 언더바('_')로 시작\n",
    "- 예약어 사용 불가\n",
    "\n",
    "변수 생성예제\n"
   ]
  },
  {
   "cell_type": "code",
   "execution_count": 72,
   "id": "6b127909",
   "metadata": {},
   "outputs": [
    {
     "ename": "SyntaxError",
     "evalue": "invalid decimal literal (Temp/ipykernel_14684/4127398569.py, line 1)",
     "output_type": "error",
     "traceback": [
      "\u001b[1;36m  File \u001b[1;32m\"C:\\Users\\user\\AppData\\Local\\Temp/ipykernel_14684/4127398569.py\"\u001b[1;36m, line \u001b[1;32m1\u001b[0m\n\u001b[1;33m    1_unit = 1 #변수명이 숫자로 시작하는 경우\u001b[0m\n\u001b[1;37m     ^\u001b[0m\n\u001b[1;31mSyntaxError\u001b[0m\u001b[1;31m:\u001b[0m invalid decimal literal\n"
     ]
    }
   ],
   "source": [
    "1_unit = 1 #변수명이 숫자로 시작하는 경우"
   ]
  },
  {
   "cell_type": "code",
   "execution_count": 70,
   "id": "463010ba",
   "metadata": {},
   "outputs": [],
   "source": [
    "_unit = 1"
   ]
  },
  {
   "cell_type": "code",
   "execution_count": 74,
   "id": "7ab76854",
   "metadata": {},
   "outputs": [],
   "source": [
    "_ = 1"
   ]
  },
  {
   "cell_type": "code",
   "execution_count": 76,
   "id": "0fc5a16a",
   "metadata": {},
   "outputs": [
    {
     "name": "stdout",
     "output_type": "stream",
     "text": [
      "1\n"
     ]
    }
   ],
   "source": [
    "print(_)"
   ]
  },
  {
   "cell_type": "code",
   "execution_count": 73,
   "id": "2508596b",
   "metadata": {},
   "outputs": [
    {
     "ename": "SyntaxError",
     "evalue": "invalid syntax (Temp/ipykernel_14684/1127821124.py, line 1)",
     "output_type": "error",
     "traceback": [
      "\u001b[1;36m  File \u001b[1;32m\"C:\\Users\\user\\AppData\\Local\\Temp/ipykernel_14684/1127821124.py\"\u001b[1;36m, line \u001b[1;32m1\u001b[0m\n\u001b[1;33m    @unit = 1 # 변수명이 특수문자로 시작하는 경우\u001b[0m\n\u001b[1;37m          ^\u001b[0m\n\u001b[1;31mSyntaxError\u001b[0m\u001b[1;31m:\u001b[0m invalid syntax\n"
     ]
    }
   ],
   "source": [
    "@unit = 1 # 변수명이 특수문자로 시작하는 경우"
   ]
  },
  {
   "cell_type": "code",
   "execution_count": 77,
   "id": "16c50188",
   "metadata": {},
   "outputs": [
    {
     "ename": "SyntaxError",
     "evalue": "invalid syntax (Temp/ipykernel_14684/652412137.py, line 1)",
     "output_type": "error",
     "traceback": [
      "\u001b[1;36m  File \u001b[1;32m\"C:\\Users\\user\\AppData\\Local\\Temp/ipykernel_14684/652412137.py\"\u001b[1;36m, line \u001b[1;32m1\u001b[0m\n\u001b[1;33m    and = 1 # 변수명 예약어 사용 불가\u001b[0m\n\u001b[1;37m    ^\u001b[0m\n\u001b[1;31mSyntaxError\u001b[0m\u001b[1;31m:\u001b[0m invalid syntax\n"
     ]
    }
   ],
   "source": [
    "and = 1 # 변수명 예약어 사용 불가"
   ]
  },
  {
   "cell_type": "code",
   "execution_count": 79,
   "id": "195560bf",
   "metadata": {},
   "outputs": [
    {
     "ename": "SyntaxError",
     "evalue": "invalid syntax (Temp/ipykernel_14684/2283083534.py, line 1)",
     "output_type": "error",
     "traceback": [
      "\u001b[1;36m  File \u001b[1;32m\"C:\\Users\\user\\AppData\\Local\\Temp/ipykernel_14684/2283083534.py\"\u001b[1;36m, line \u001b[1;32m1\u001b[0m\n\u001b[1;33m    for = 1 #변수명 예약어 사용 불가\u001b[0m\n\u001b[1;37m        ^\u001b[0m\n\u001b[1;31mSyntaxError\u001b[0m\u001b[1;31m:\u001b[0m invalid syntax\n"
     ]
    }
   ],
   "source": [
    "for = 1 #변수명 예약어 사용 불가"
   ]
  },
  {
   "cell_type": "markdown",
   "id": "37bb8890",
   "metadata": {},
   "source": [
    "변수 제거 예제"
   ]
  },
  {
   "cell_type": "code",
   "execution_count": 39,
   "id": "ee55283e",
   "metadata": {},
   "outputs": [],
   "source": [
    "a = 3\n",
    "b = 4"
   ]
  },
  {
   "cell_type": "code",
   "execution_count": 36,
   "id": "7ead1b4d",
   "metadata": {},
   "outputs": [
    {
     "name": "stdout",
     "output_type": "stream",
     "text": [
      "3\n",
      "4\n"
     ]
    }
   ],
   "source": [
    "print(a)\n",
    "print(b)"
   ]
  },
  {
   "cell_type": "code",
   "execution_count": 41,
   "id": "a1c36bcd",
   "metadata": {},
   "outputs": [],
   "source": [
    "del(a)\n",
    "del(b)"
   ]
  },
  {
   "cell_type": "code",
   "execution_count": 42,
   "id": "9a6921c1",
   "metadata": {
    "scrolled": true
   },
   "outputs": [
    {
     "ename": "NameError",
     "evalue": "name 'a' is not defined",
     "output_type": "error",
     "traceback": [
      "\u001b[1;31m---------------------------------------------------------------------------\u001b[0m",
      "\u001b[1;31mNameError\u001b[0m                                 Traceback (most recent call last)",
      "\u001b[1;32m~\\AppData\\Local\\Temp/ipykernel_14684/2921613868.py\u001b[0m in \u001b[0;36m<module>\u001b[1;34m\u001b[0m\n\u001b[1;32m----> 1\u001b[1;33m \u001b[0mprint\u001b[0m\u001b[1;33m(\u001b[0m\u001b[0ma\u001b[0m\u001b[1;33m)\u001b[0m\u001b[1;33m\u001b[0m\u001b[1;33m\u001b[0m\u001b[0m\n\u001b[0m\u001b[0;32m      2\u001b[0m \u001b[0mprint\u001b[0m\u001b[1;33m(\u001b[0m\u001b[0mb\u001b[0m\u001b[1;33m)\u001b[0m\u001b[1;33m\u001b[0m\u001b[1;33m\u001b[0m\u001b[0m\n",
      "\u001b[1;31mNameError\u001b[0m: name 'a' is not defined"
     ]
    }
   ],
   "source": [
    "print(a)\n",
    "print(b)"
   ]
  },
  {
   "cell_type": "markdown",
   "id": "9f92d485",
   "metadata": {},
   "source": [
    "- 변수 a를 제거했기 때문에 print()함수로 출력 되지 않음\n",
    "\n",
    "파이썬 대소문자 구분 예제"
   ]
  },
  {
   "cell_type": "code",
   "execution_count": 49,
   "id": "11658ac0",
   "metadata": {},
   "outputs": [],
   "source": [
    "a = \"Python\""
   ]
  },
  {
   "cell_type": "code",
   "execution_count": 47,
   "id": "0ea51f55",
   "metadata": {},
   "outputs": [
    {
     "name": "stdout",
     "output_type": "stream",
     "text": [
      "Python\n"
     ]
    }
   ],
   "source": [
    "print(a)"
   ]
  },
  {
   "cell_type": "markdown",
   "id": "00c874ce",
   "metadata": {},
   "source": [
    "비교 연산자 예제"
   ]
  },
  {
   "cell_type": "code",
   "execution_count": 53,
   "id": "ebbd8598",
   "metadata": {},
   "outputs": [
    {
     "name": "stdout",
     "output_type": "stream",
     "text": [
      "True\n",
      "False\n"
     ]
    }
   ],
   "source": [
    "X = 3\n",
    "Y = 4\n",
    "print(X < Y)\n",
    "print(X > Y)"
   ]
  },
  {
   "cell_type": "markdown",
   "id": "a765f34b",
   "metadata": {},
   "source": [
    "X = 3\n",
    "Y = 4\n",
    "Z = 5\n",
    "\n",
    "X < Y or Z < Y<br>\n",
    "in, not in 예제\n"
   ]
  },
  {
   "cell_type": "code",
   "execution_count": 57,
   "id": "6cf91b1a",
   "metadata": {},
   "outputs": [
    {
     "name": "stdout",
     "output_type": "stream",
     "text": [
      "True\n"
     ]
    }
   ],
   "source": [
    "print(1 in [1, 2, 3])"
   ]
  },
  {
   "cell_type": "code",
   "execution_count": 58,
   "id": "8f085c6d",
   "metadata": {},
   "outputs": [
    {
     "name": "stdout",
     "output_type": "stream",
     "text": [
      "False\n"
     ]
    }
   ],
   "source": [
    "print(1 not in [1, 2, 3])"
   ]
  },
  {
   "cell_type": "code",
   "execution_count": 60,
   "id": "96faf512",
   "metadata": {},
   "outputs": [
    {
     "name": "stdout",
     "output_type": "stream",
     "text": [
      "True\n"
     ]
    }
   ],
   "source": [
    "print('a' in ('a', 'b', 'c'))"
   ]
  },
  {
   "cell_type": "code",
   "execution_count": 61,
   "id": "ed957ab8",
   "metadata": {},
   "outputs": [
    {
     "name": "stdout",
     "output_type": "stream",
     "text": [
      "False\n"
     ]
    }
   ],
   "source": [
    "print('j' in 'python')"
   ]
  },
  {
   "cell_type": "markdown",
   "id": "7dc0f38c",
   "metadata": {},
   "source": [
    "while문 예제"
   ]
  },
  {
   "cell_type": "code",
   "execution_count": 63,
   "id": "96e87865",
   "metadata": {},
   "outputs": [
    {
     "name": "stdout",
     "output_type": "stream",
     "text": [
      "나무를 1번 찍었습니다.\n",
      "나무를 2번 찍었습니다.\n",
      "나무를 3번 찍었습니다.\n",
      "나무를 4번 찍었습니다.\n",
      "나무를 5번 찍었습니다.\n",
      "나무를 6번 찍었습니다.\n",
      "나무를 7번 찍었습니다.\n",
      "나무를 8번 찍었습니다.\n",
      "나무를 9번 찍었습니다.\n",
      "나무를 10번 찍었습니다.\n",
      "나무 넘어갑니다.\n"
     ]
    }
   ],
   "source": [
    "treeHit = 0\n",
    "while treeHit < 10:\n",
    "    treeHit = treeHit + 1\n",
    "    print(\"나무를 %d번 찍었습니다.\" % treeHit)\n",
    "    if treeHit == 10:\n",
    "        print(\"나무 넘어갑니다.\")"
   ]
  },
  {
   "cell_type": "code",
   "execution_count": 65,
   "id": "63946c20",
   "metadata": {},
   "outputs": [
    {
     "name": "stdout",
     "output_type": "stream",
     "text": [
      "나무를 0번 찍었습니다.\n",
      "나뭇가지가 10개 남았습니다.\n",
      "나무를 1번 찍었습니다.\n",
      "나뭇가지가 9개 남았습니다.\n",
      "나무를 2번 찍었습니다.\n",
      "나뭇가지가 8개 남았습니다.\n",
      "나무를 3번 찍었습니다.\n",
      "나뭇가지가 7개 남았습니다.\n",
      "나무를 4번 찍었습니다.\n",
      "나뭇가지가 6개 남았습니다.\n",
      "나무를 5번 찍었습니다.\n",
      "나뭇가지가 5개 남았습니다.\n",
      "나무를 6번 찍었습니다.\n",
      "나뭇가지가 4개 남았습니다.\n",
      "나무를 7번 찍었습니다.\n",
      "나뭇가지가 3개 남았습니다.\n",
      "나무를 8번 찍었습니다.\n",
      "나뭇가지가 2개 남았습니다.\n",
      "나무를 9번 찍었습니다.\n",
      "나뭇가지가 1개 남았습니다.\n",
      "나무를 10번 찍었습니다.\n",
      "나뭇가지가 0개 남았습니다.\n"
     ]
    }
   ],
   "source": [
    "TreeHit = 0\n",
    "TreeBranch = 10\n",
    "while TreeHit <= 10:\n",
    "    print(\"나무를 %d번 찍었습니다.\" % TreeHit)\n",
    "    TreeHit += 1\n",
    "    print(\"나뭇가지가 %d개 남았습니다.\" % TreeBranch)\n",
    "    TreeBranch -= 1\n",
    "    if TreeHit == 0:\n",
    "        print(\"나무가 넘어갑니다.\")"
   ]
  },
  {
   "cell_type": "markdown",
   "id": "933acd97",
   "metadata": {},
   "source": [
    "- for문은 리스트, 튜플, 문자열과 함께 쓰이는 반복문\n",
    "- while문은 조건문과 함께 쓰이는 반복문\n",
    "\n",
    "함수\n",
    "- 함수는 인자를 입력받아 결과를 도출하는 목적으로 사용\n",
    "- 사용자가 편리하게 사용하기 위해 사용하기도 함\n",
    "\n",
    "함수 만들기 예제"
   ]
  },
  {
   "cell_type": "code",
   "execution_count": 66,
   "id": "1cd1bc7f",
   "metadata": {},
   "outputs": [],
   "source": [
    "def add(a, b):\n",
    "    return a + b"
   ]
  },
  {
   "cell_type": "code",
   "execution_count": 80,
   "id": "7e6fca89",
   "metadata": {},
   "outputs": [
    {
     "data": {
      "text/plain": [
       "7"
      ]
     },
     "execution_count": 80,
     "metadata": {},
     "output_type": "execute_result"
    }
   ],
   "source": [
    "add(3, 4)"
   ]
  },
  {
   "cell_type": "markdown",
   "id": "0ccb579d",
   "metadata": {},
   "source": [
    "파이썬이 객체 지향이라고 부르는 이유?"
   ]
  },
  {
   "cell_type": "code",
   "execution_count": 90,
   "id": "92cb1138",
   "metadata": {
    "scrolled": true
   },
   "outputs": [
    {
     "name": "stdout",
     "output_type": "stream",
     "text": [
      "1951596696432\n"
     ]
    }
   ],
   "source": [
    "a = 460\n",
    "print(id(a)) # a 변수 메모리 주소 확인"
   ]
  },
  {
   "cell_type": "code",
   "execution_count": 89,
   "id": "cef9171f",
   "metadata": {
    "scrolled": true
   },
   "outputs": [
    {
     "name": "stdout",
     "output_type": "stream",
     "text": [
      "1951596696848\n"
     ]
    }
   ],
   "source": [
    "b = 460\n",
    "print(id(b)) # b 변수 메모리 주소 확인"
   ]
  },
  {
   "cell_type": "code",
   "execution_count": 91,
   "id": "0aaf1ab2",
   "metadata": {
    "scrolled": true
   },
   "outputs": [
    {
     "data": {
      "text/plain": [
       "1951596695824"
      ]
     },
     "execution_count": 91,
     "metadata": {},
     "output_type": "execute_result"
    }
   ],
   "source": [
    "id(266)"
   ]
  },
  {
   "cell_type": "code",
   "execution_count": 92,
   "id": "e002ef33",
   "metadata": {
    "scrolled": true
   },
   "outputs": [
    {
     "data": {
      "text/plain": [
       "1951596695824"
      ]
     },
     "execution_count": 92,
     "metadata": {},
     "output_type": "execute_result"
    }
   ],
   "source": [
    "id(266)"
   ]
  },
  {
   "cell_type": "markdown",
   "id": "404df8f8",
   "metadata": {},
   "source": [
    "자료형"
   ]
  },
  {
   "cell_type": "markdown",
   "id": "2b547bf3",
   "metadata": {},
   "source": [
    "정수\n",
    "- 정수는 int로 나타냄\n",
    "- 파이썬 정수의 크기는 32bit(=4byte)\n",
    "\n",
    "정수 확인 예제"
   ]
  },
  {
   "cell_type": "code",
   "execution_count": 94,
   "id": "7df57508",
   "metadata": {},
   "outputs": [],
   "source": [
    "a = 123"
   ]
  },
  {
   "cell_type": "code",
   "execution_count": 95,
   "id": "e99b680e",
   "metadata": {},
   "outputs": [
    {
     "name": "stdout",
     "output_type": "stream",
     "text": [
      "<class 'int'>\n"
     ]
    }
   ],
   "source": [
    "print(type(a))"
   ]
  },
  {
   "cell_type": "code",
   "execution_count": 97,
   "id": "30d2ac97",
   "metadata": {},
   "outputs": [
    {
     "name": "stdout",
     "output_type": "stream",
     "text": [
      "4\n"
     ]
    }
   ],
   "source": [
    "print((9).bit_length())"
   ]
  },
  {
   "cell_type": "markdown",
   "id": "80abd86b",
   "metadata": {},
   "source": [
    "부동소수점(실수)\n",
    "- 부동소수점(실수)은 float으로 나타냄\n",
    "\n",
    "부동소수점(실수) 확인 예제"
   ]
  },
  {
   "cell_type": "code",
   "execution_count": 98,
   "id": "47049603",
   "metadata": {},
   "outputs": [],
   "source": [
    "b = -1.23"
   ]
  },
  {
   "cell_type": "code",
   "execution_count": 99,
   "id": "f96c74ec",
   "metadata": {},
   "outputs": [
    {
     "name": "stdout",
     "output_type": "stream",
     "text": [
      "<class 'float'>\n"
     ]
    }
   ],
   "source": [
    "print(type(b))"
   ]
  },
  {
   "cell_type": "markdown",
   "id": "9fa5df15",
   "metadata": {},
   "source": [
    "2진수 확인 예제"
   ]
  },
  {
   "cell_type": "code",
   "execution_count": 104,
   "id": "3e9ce5f4",
   "metadata": {},
   "outputs": [
    {
     "name": "stdout",
     "output_type": "stream",
     "text": [
      "0b11111111\n"
     ]
    }
   ],
   "source": [
    "print(bin(255))"
   ]
  },
  {
   "cell_type": "markdown",
   "id": "22bd7ae3",
   "metadata": {},
   "source": [
    "8진수 확인 예제"
   ]
  },
  {
   "cell_type": "code",
   "execution_count": 105,
   "id": "3c7b02c2",
   "metadata": {},
   "outputs": [
    {
     "name": "stdout",
     "output_type": "stream",
     "text": [
      "0o377\n"
     ]
    }
   ],
   "source": [
    "print(oct(255))"
   ]
  },
  {
   "cell_type": "markdown",
   "id": "b744b998",
   "metadata": {},
   "source": [
    "16진수 확인 예제"
   ]
  },
  {
   "cell_type": "code",
   "execution_count": 106,
   "id": "114649a0",
   "metadata": {},
   "outputs": [
    {
     "name": "stdout",
     "output_type": "stream",
     "text": [
      "0xff\n"
     ]
    }
   ],
   "source": [
    "print(hex(255))"
   ]
  },
  {
   "cell_type": "markdown",
   "id": "848e8566",
   "metadata": {},
   "source": [
    "**사칙연산 예제**"
   ]
  },
  {
   "cell_type": "code",
   "execution_count": 107,
   "id": "0b27f70e",
   "metadata": {},
   "outputs": [],
   "source": [
    "a = 3\n",
    "b = 4"
   ]
  },
  {
   "cell_type": "code",
   "execution_count": 109,
   "id": "b8451dcb",
   "metadata": {},
   "outputs": [
    {
     "name": "stdout",
     "output_type": "stream",
     "text": [
      "7\n",
      "-1\n",
      "12\n",
      "0.75\n"
     ]
    }
   ],
   "source": [
    "print(a+b)\n",
    "print(a-b)\n",
    "print(a*b)\n",
    "print(a/b)"
   ]
  },
  {
   "cell_type": "markdown",
   "id": "9e5c4eca",
   "metadata": {},
   "source": [
    "x의 y제곱을 나타내는 ** 연산자"
   ]
  },
  {
   "cell_type": "code",
   "execution_count": 110,
   "id": "26b21fbd",
   "metadata": {},
   "outputs": [],
   "source": [
    "a = 3\n",
    "b = 4"
   ]
  },
  {
   "cell_type": "code",
   "execution_count": 111,
   "id": "61185ad2",
   "metadata": {},
   "outputs": [
    {
     "name": "stdout",
     "output_type": "stream",
     "text": [
      "81\n"
     ]
    }
   ],
   "source": [
    "print(a**b)"
   ]
  },
  {
   "cell_type": "markdown",
   "id": "e2744113",
   "metadata": {},
   "source": [
    "나눗셈 후 몫을 반환하는 // 연산자"
   ]
  },
  {
   "cell_type": "code",
   "execution_count": 112,
   "id": "d637cdd8",
   "metadata": {},
   "outputs": [],
   "source": [
    "a = 7\n",
    "b = 3"
   ]
  },
  {
   "cell_type": "code",
   "execution_count": 114,
   "id": "17b0dad6",
   "metadata": {},
   "outputs": [
    {
     "name": "stdout",
     "output_type": "stream",
     "text": [
      "2\n"
     ]
    }
   ],
   "source": [
    "print(a // b)"
   ]
  },
  {
   "cell_type": "markdown",
   "id": "988e1496",
   "metadata": {},
   "source": [
    "나눗셈 후 나머지를 반환하는 % 연산자"
   ]
  },
  {
   "cell_type": "code",
   "execution_count": 115,
   "id": "473e1e19",
   "metadata": {},
   "outputs": [],
   "source": [
    "a = 7\n",
    "b = 3"
   ]
  },
  {
   "cell_type": "code",
   "execution_count": 116,
   "id": "93d9fe23",
   "metadata": {},
   "outputs": [
    {
     "name": "stdout",
     "output_type": "stream",
     "text": [
      "1\n"
     ]
    }
   ],
   "source": [
    "print(a % b)"
   ]
  },
  {
   "cell_type": "code",
   "execution_count": 123,
   "id": "d0ccd176",
   "metadata": {
    "scrolled": true
   },
   "outputs": [
    {
     "name": "stdout",
     "output_type": "stream",
     "text": [
      "i\\'m ironman\n"
     ]
    }
   ],
   "source": [
    "print('i\\\\\\'m ironman')"
   ]
  },
  {
   "cell_type": "code",
   "execution_count": 126,
   "id": "92014437",
   "metadata": {
    "scrolled": true
   },
   "outputs": [
    {
     "name": "stdout",
     "output_type": "stream",
     "text": [
      "아니\n",
      "저기\n",
      "여보시오\n",
      "\n"
     ]
    }
   ],
   "source": [
    "print(\"\"\"아니\n",
    "저기\n",
    "여보시오\n",
    "\"\"\")"
   ]
  },
  {
   "cell_type": "code",
   "execution_count": 133,
   "id": "5668856d",
   "metadata": {
    "scrolled": true
   },
   "outputs": [
    {
     "name": "stdout",
     "output_type": "stream",
     "text": [
      "2\u0000진\n"
     ]
    }
   ],
   "source": [
    "print(\"2\\0진\")"
   ]
  },
  {
   "cell_type": "markdown",
   "id": "8b98edc9",
   "metadata": {},
   "source": [
    "문자열 합치기 예제"
   ]
  },
  {
   "cell_type": "code",
   "execution_count": 134,
   "id": "a701f872",
   "metadata": {},
   "outputs": [
    {
     "name": "stdout",
     "output_type": "stream",
     "text": [
      "Python is fun!\n"
     ]
    }
   ],
   "source": [
    "head = 'Python'\n",
    "tail = ' is fun!'\n",
    "print(head+tail)"
   ]
  },
  {
   "cell_type": "markdown",
   "id": "5e317a13",
   "metadata": {},
   "source": [
    "문자열 곱하기 예제"
   ]
  },
  {
   "cell_type": "code",
   "execution_count": 135,
   "id": "5a8666fa",
   "metadata": {},
   "outputs": [
    {
     "name": "stdout",
     "output_type": "stream",
     "text": [
      "PythonPython\n"
     ]
    }
   ],
   "source": [
    "a = \"Python\"\n",
    "print(a*2)"
   ]
  },
  {
   "cell_type": "markdown",
   "id": "f9cb0ef7",
   "metadata": {},
   "source": [
    "문자열 곱하기 응용 예제"
   ]
  },
  {
   "cell_type": "code",
   "execution_count": 136,
   "id": "8d8456d3",
   "metadata": {},
   "outputs": [
    {
     "name": "stdout",
     "output_type": "stream",
     "text": [
      "==============================\n",
      "My Program\n",
      "==============================\n"
     ]
    }
   ],
   "source": [
    "print(\"=\" * 30)\n",
    "print(\"My Program\")\n",
    "print('=' * 30)"
   ]
  },
  {
   "cell_type": "markdown",
   "id": "aacd86e9",
   "metadata": {},
   "source": [
    "문자열 길이 구하기 예제"
   ]
  },
  {
   "cell_type": "code",
   "execution_count": 138,
   "id": "c855c702",
   "metadata": {},
   "outputs": [
    {
     "name": "stdout",
     "output_type": "stream",
     "text": [
      "17\n"
     ]
    }
   ],
   "source": [
    "a = \"Life is too short\"\n",
    "print(len(a))"
   ]
  },
  {
   "cell_type": "code",
   "execution_count": 153,
   "id": "f6323ae0",
   "metadata": {},
   "outputs": [
    {
     "data": {
      "text/plain": [
       "'on'"
      ]
     },
     "execution_count": 153,
     "metadata": {},
     "output_type": "execute_result"
    }
   ],
   "source": [
    "'python'[-2:]"
   ]
  },
  {
   "cell_type": "markdown",
   "id": "c558878f",
   "metadata": {},
   "source": [
    "문자열 인덱싱 예제"
   ]
  },
  {
   "cell_type": "code",
   "execution_count": 154,
   "id": "46f86fea",
   "metadata": {},
   "outputs": [],
   "source": [
    "a = \"Life is too short, You need Python\""
   ]
  },
  {
   "cell_type": "code",
   "execution_count": 157,
   "id": "8332becb",
   "metadata": {
    "scrolled": true
   },
   "outputs": [
    {
     "name": "stdout",
     "output_type": "stream",
     "text": [
      "o short, You need Python\n"
     ]
    }
   ],
   "source": [
    "print(a[10:])"
   ]
  },
  {
   "cell_type": "code",
   "execution_count": 158,
   "id": "7f897c7f",
   "metadata": {},
   "outputs": [
    {
     "name": "stdout",
     "output_type": "stream",
     "text": [
      "e\n"
     ]
    }
   ],
   "source": [
    "print(a[-10])"
   ]
  },
  {
   "cell_type": "markdown",
   "id": "90f8bfdb",
   "metadata": {},
   "source": [
    "문자열 슬라이싱 예제"
   ]
  },
  {
   "cell_type": "code",
   "execution_count": 159,
   "id": "079b5809",
   "metadata": {},
   "outputs": [],
   "source": [
    "a = \"Life is too short, You need Python\""
   ]
  },
  {
   "cell_type": "code",
   "execution_count": 160,
   "id": "e73c733d",
   "metadata": {},
   "outputs": [
    {
     "name": "stdout",
     "output_type": "stream",
     "text": [
      "Life\n"
     ]
    }
   ],
   "source": [
    "print(a[0:4])"
   ]
  },
  {
   "cell_type": "code",
   "execution_count": 161,
   "id": "905d7d72",
   "metadata": {},
   "outputs": [
    {
     "name": "stdout",
     "output_type": "stream",
     "text": [
      "Life\n"
     ]
    }
   ],
   "source": [
    "print(a[:4])"
   ]
  },
  {
   "cell_type": "code",
   "execution_count": 162,
   "id": "fee15c8d",
   "metadata": {},
   "outputs": [
    {
     "name": "stdout",
     "output_type": "stream",
     "text": [
      "o short, You need Python\n"
     ]
    }
   ],
   "source": [
    "print(a[10:])"
   ]
  },
  {
   "cell_type": "code",
   "execution_count": 171,
   "id": "4d316683",
   "metadata": {},
   "outputs": [
    {
     "name": "stdout",
     "output_type": "stream",
     "text": [
      "Python\n",
      "Pithon\n"
     ]
    }
   ],
   "source": [
    "a = \"Pithon\"\n",
    "print(a[:1] + \"y\" + a[2:])\n",
    "print(a)"
   ]
  },
  {
   "cell_type": "markdown",
   "id": "2971beaa",
   "metadata": {},
   "source": [
    "문자열 포매팅 예제\n",
    "1. 숫자 바로 대입"
   ]
  },
  {
   "cell_type": "code",
   "execution_count": 192,
   "id": "643e100f",
   "metadata": {},
   "outputs": [
    {
     "name": "stdout",
     "output_type": "stream",
     "text": [
      "I eat 3 apples\n"
     ]
    }
   ],
   "source": [
    "print(\"I eat %d apples\" % 3)"
   ]
  },
  {
   "cell_type": "markdown",
   "id": "1c4ec5c8",
   "metadata": {},
   "source": [
    "2. 문자열 바로 대입"
   ]
  },
  {
   "cell_type": "code",
   "execution_count": 187,
   "id": "5ad1f87f",
   "metadata": {
    "scrolled": false
   },
   "outputs": [
    {
     "name": "stdout",
     "output_type": "stream",
     "text": [
      "I eat Three apples\n"
     ]
    }
   ],
   "source": [
    "print(\"I eat %s apples\" % \"Three\")"
   ]
  },
  {
   "cell_type": "markdown",
   "id": "6ef7a61f",
   "metadata": {},
   "source": [
    "3. 숫자 값을 나타내는 변수로 대입"
   ]
  },
  {
   "cell_type": "code",
   "execution_count": 185,
   "id": "2e0b102b",
   "metadata": {},
   "outputs": [
    {
     "name": "stdout",
     "output_type": "stream",
     "text": [
      "I eat 3 apples\n"
     ]
    }
   ],
   "source": [
    "number = 3\n",
    "print(\"I eat %d apples\" % number)"
   ]
  },
  {
   "cell_type": "markdown",
   "id": "503028aa",
   "metadata": {},
   "source": [
    "4. 2개 이상의 값을 대입"
   ]
  },
  {
   "cell_type": "code",
   "execution_count": 195,
   "id": "6057fbbe",
   "metadata": {},
   "outputs": [
    {
     "name": "stdout",
     "output_type": "stream",
     "text": [
      "I eat 3 apples, so I was sick for three days\n"
     ]
    }
   ],
   "source": [
    "number = 3\n",
    "day = \"three\"\n",
    "print(\"I eat %d apples, so I was sick for %s days\" % (number, day))"
   ]
  },
  {
   "cell_type": "markdown",
   "id": "ac27ea41",
   "metadata": {},
   "source": [
    "%d와 %를 같이 사용하는 예제"
   ]
  },
  {
   "cell_type": "code",
   "execution_count": 198,
   "id": "124885b2",
   "metadata": {},
   "outputs": [
    {
     "name": "stdout",
     "output_type": "stream",
     "text": [
      "Error is 98%\n"
     ]
    }
   ],
   "source": [
    "print(\"Error is %d%%\" % 98)"
   ]
  },
  {
   "cell_type": "code",
   "execution_count": 199,
   "id": "c28f83a7",
   "metadata": {},
   "outputs": [
    {
     "name": "stdout",
     "output_type": "stream",
     "text": [
      "        hi\n"
     ]
    }
   ],
   "source": [
    "print(\"%10s\" % \"hi\")"
   ]
  },
  {
   "cell_type": "code",
   "execution_count": 200,
   "id": "5d7c9d9d",
   "metadata": {},
   "outputs": [
    {
     "name": "stdout",
     "output_type": "stream",
     "text": [
      "hi        \n"
     ]
    }
   ],
   "source": [
    "print(\"%-10s\" % \"hi\")"
   ]
  },
  {
   "cell_type": "code",
   "execution_count": 206,
   "id": "fdf6aa70",
   "metadata": {},
   "outputs": [
    {
     "name": "stdout",
     "output_type": "stream",
     "text": [
      "         3\n"
     ]
    }
   ],
   "source": [
    "print(\"%10d\" % 3)"
   ]
  },
  {
   "cell_type": "code",
   "execution_count": 208,
   "id": "fe8de814",
   "metadata": {},
   "outputs": [
    {
     "name": "stdout",
     "output_type": "stream",
     "text": [
      "3.4213\n"
     ]
    }
   ],
   "source": [
    "print(\"%0.4f\" % 3.42134234)"
   ]
  },
  {
   "cell_type": "code",
   "execution_count": 225,
   "id": "4ad850c0",
   "metadata": {
    "scrolled": false
   },
   "outputs": [
    {
     "data": {
      "text/plain": [
       "'<100,000> / 나'"
      ]
     },
     "execution_count": 225,
     "metadata": {},
     "output_type": "execute_result"
    }
   ],
   "source": [
    "\"<{0:,d}> / {1}\".format(100000, \"나\")"
   ]
  },
  {
   "cell_type": "code",
   "execution_count": 17,
   "id": "f2b0a8d4",
   "metadata": {},
   "outputs": [
    {
     "data": {
      "text/plain": [
       "'<00,100,000.0000> / 나'"
      ]
     },
     "execution_count": 17,
     "metadata": {},
     "output_type": "execute_result"
    }
   ],
   "source": [
    "\"<{0:015,.4f}> / {1}\".format(100000, \"나\")"
   ]
  },
  {
   "cell_type": "code",
   "execution_count": 227,
   "id": "fe4b9320",
   "metadata": {
    "scrolled": true
   },
   "outputs": [
    {
     "name": "stdout",
     "output_type": "stream",
     "text": [
      "I eat 1 apples, so I was sick for 2 days\n"
     ]
    }
   ],
   "source": [
    "print(\"I eat {number} apples, so I was sick for {day} days\".format(number=1, day=2))"
   ]
  },
  {
   "cell_type": "markdown",
   "id": "b3f116ee",
   "metadata": {},
   "source": [
    "문자열 포매팅 예제"
   ]
  },
  {
   "cell_type": "code",
   "execution_count": 260,
   "id": "b3f8b1ef",
   "metadata": {},
   "outputs": [
    {
     "name": "stdout",
     "output_type": "stream",
     "text": [
      "나의 이름은 김원빈입니다. 나이는 30입니다.\n"
     ]
    }
   ],
   "source": [
    "print('나의 이름은 {}입니다. 나이는 {}입니다.'.format(\"김원빈\", 30))"
   ]
  },
  {
   "cell_type": "markdown",
   "id": "0e320b8e",
   "metadata": {},
   "source": [
    "f문자열 포매팅 예제"
   ]
  },
  {
   "cell_type": "code",
   "execution_count": 228,
   "id": "f1a5e2b2",
   "metadata": {},
   "outputs": [
    {
     "name": "stdout",
     "output_type": "stream",
     "text": [
      "나의 이름은 홍길동입니다. 나이는 19입니다.\n"
     ]
    }
   ],
   "source": [
    "name = \"홍길동\"\n",
    "age = 19\n",
    "print(f'나의 이름은 {name}입니다. 나이는 {age}입니다.')"
   ]
  },
  {
   "cell_type": "code",
   "execution_count": 229,
   "id": "d539b5ff",
   "metadata": {},
   "outputs": [
    {
     "name": "stdout",
     "output_type": "stream",
     "text": [
      "나의 이름은 홍길동입니다. 나이는 20입니다.\n"
     ]
    }
   ],
   "source": [
    "name = \"홍길동\"\n",
    "age = 19\n",
    "print(f'나의 이름은 {name}입니다. 나이는 {age+1}입니다.')"
   ]
  },
  {
   "cell_type": "markdown",
   "id": "b948bb74",
   "metadata": {},
   "source": [
    "문자열 갯수 세기 예제(count)"
   ]
  },
  {
   "cell_type": "code",
   "execution_count": 231,
   "id": "3485122d",
   "metadata": {},
   "outputs": [
    {
     "name": "stdout",
     "output_type": "stream",
     "text": [
      "2\n"
     ]
    }
   ],
   "source": [
    "a =\"hobby\"\n",
    "print(a.count(\"b\"))"
   ]
  },
  {
   "cell_type": "markdown",
   "id": "bd87bd7c",
   "metadata": {},
   "source": [
    "문자 위치 알려주기 예제 1(find)"
   ]
  },
  {
   "cell_type": "code",
   "execution_count": 19,
   "id": "de330e59",
   "metadata": {},
   "outputs": [
    {
     "name": "stdout",
     "output_type": "stream",
     "text": [
      "-1\n",
      "2\n"
     ]
    }
   ],
   "source": [
    "a = \"Python is the best choice\"\n",
    "print(a.find(\"j\"))\n",
    "print(a.find(\"t\"))"
   ]
  },
  {
   "cell_type": "markdown",
   "id": "2e772095",
   "metadata": {},
   "source": [
    "- 문자열 중 문자 b가 처음 나온 위치를 반환, 찾는 문자나 문자열이 없을 경우 -1 을 반환\n",
    "\n",
    "문자 위치 알려주기 예제 2(index)"
   ]
  },
  {
   "cell_type": "code",
   "execution_count": 238,
   "id": "911e3ce3",
   "metadata": {},
   "outputs": [
    {
     "name": "stdout",
     "output_type": "stream",
     "text": [
      "8\n"
     ]
    }
   ],
   "source": [
    "a = \"Life is too short\"\n",
    "print(a.index(\"t\"))"
   ]
  },
  {
   "cell_type": "markdown",
   "id": "4cb3aa6f",
   "metadata": {},
   "source": [
    "- 문자열 중 문자 t가 처음 나온 위치를 반환, 찾는 문자나 문자열이 없을 경우 에러를 반환"
   ]
  },
  {
   "cell_type": "markdown",
   "id": "5fc86288",
   "metadata": {},
   "source": [
    "문자열 삽입 예제(join)"
   ]
  },
  {
   "cell_type": "code",
   "execution_count": 20,
   "id": "64466642",
   "metadata": {},
   "outputs": [
    {
     "name": "stdout",
     "output_type": "stream",
     "text": [
      "a,b,c,d\n"
     ]
    }
   ],
   "source": [
    "a = \",\"\n",
    "print(a.join(\"abcd\"))"
   ]
  },
  {
   "cell_type": "code",
   "execution_count": 242,
   "id": "79b6a6ff",
   "metadata": {
    "scrolled": true
   },
   "outputs": [
    {
     "name": "stdout",
     "output_type": "stream",
     "text": [
      "a:b:c:d\n"
     ]
    }
   ],
   "source": [
    "a = \":\"\n",
    "print(a.join([\"a\", \"b\", \"c\", \"d\"]))"
   ]
  },
  {
   "cell_type": "code",
   "execution_count": 24,
   "id": "f15c8882",
   "metadata": {},
   "outputs": [
    {
     "ename": "TypeError",
     "evalue": "sequence item 0: expected str instance, int found",
     "output_type": "error",
     "traceback": [
      "\u001b[1;31m---------------------------------------------------------------------------\u001b[0m",
      "\u001b[1;31mTypeError\u001b[0m                                 Traceback (most recent call last)",
      "\u001b[1;32m~\\AppData\\Local\\Temp/ipykernel_14592/1152918704.py\u001b[0m in \u001b[0;36m<module>\u001b[1;34m\u001b[0m\n\u001b[1;32m----> 1\u001b[1;33m \u001b[0mprint\u001b[0m\u001b[1;33m(\u001b[0m\u001b[0ma\u001b[0m\u001b[1;33m.\u001b[0m\u001b[0mjoin\u001b[0m\u001b[1;33m(\u001b[0m\u001b[1;33m[\u001b[0m\u001b[1;36m1\u001b[0m\u001b[1;33m,\u001b[0m\u001b[1;36m2\u001b[0m\u001b[1;33m,\u001b[0m\u001b[1;36m3\u001b[0m\u001b[1;33m]\u001b[0m\u001b[1;33m)\u001b[0m\u001b[1;33m)\u001b[0m\u001b[1;33m\u001b[0m\u001b[1;33m\u001b[0m\u001b[0m\n\u001b[0m",
      "\u001b[1;31mTypeError\u001b[0m: sequence item 0: expected str instance, int found"
     ]
    }
   ],
   "source": [
    "print(a.join([1,2,3]))"
   ]
  },
  {
   "cell_type": "markdown",
   "id": "2b2ef712",
   "metadata": {},
   "source": [
    "소문자를 대문자로(upper)"
   ]
  },
  {
   "cell_type": "code",
   "execution_count": 243,
   "id": "8c0d5c53",
   "metadata": {},
   "outputs": [
    {
     "name": "stdout",
     "output_type": "stream",
     "text": [
      "HI\n"
     ]
    }
   ],
   "source": [
    "a = \"hi\"\n",
    "print(a.upper())"
   ]
  },
  {
   "cell_type": "markdown",
   "id": "eda938b0",
   "metadata": {},
   "source": [
    "대문자를 소문자로(lower)"
   ]
  },
  {
   "cell_type": "code",
   "execution_count": 244,
   "id": "2842f41d",
   "metadata": {},
   "outputs": [
    {
     "name": "stdout",
     "output_type": "stream",
     "text": [
      "hi\n"
     ]
    }
   ],
   "source": [
    "a = \"HI\"\n",
    "print(a.lower())"
   ]
  },
  {
   "cell_type": "markdown",
   "id": "0c533b95",
   "metadata": {},
   "source": [
    "왼쪽 공백 지우기 예제(lstrip)"
   ]
  },
  {
   "cell_type": "code",
   "execution_count": 245,
   "id": "bc9c65be",
   "metadata": {},
   "outputs": [
    {
     "name": "stdout",
     "output_type": "stream",
     "text": [
      "hi \n"
     ]
    }
   ],
   "source": [
    "a = \" hi \"\n",
    "print(a.lstrip())"
   ]
  },
  {
   "cell_type": "markdown",
   "id": "bd39d1c8",
   "metadata": {},
   "source": [
    "오른쪽 공백 지우기 예제(rstrip)"
   ]
  },
  {
   "cell_type": "code",
   "execution_count": 246,
   "id": "6291ed6a",
   "metadata": {
    "scrolled": true
   },
   "outputs": [
    {
     "name": "stdout",
     "output_type": "stream",
     "text": [
      " hi\n"
     ]
    }
   ],
   "source": [
    "a = \" hi \"\n",
    "print(a.rstrip())"
   ]
  },
  {
   "cell_type": "markdown",
   "id": "f6134b5c",
   "metadata": {},
   "source": [
    "양쪽 공백 지우기 예제(strip)"
   ]
  },
  {
   "cell_type": "code",
   "execution_count": 247,
   "id": "07f22482",
   "metadata": {},
   "outputs": [
    {
     "name": "stdout",
     "output_type": "stream",
     "text": [
      "hi\n"
     ]
    }
   ],
   "source": [
    "a = \" hi \"\n",
    "print(a.strip())"
   ]
  },
  {
   "cell_type": "markdown",
   "id": "08a3c825",
   "metadata": {},
   "source": [
    "문자열 바꾸기 예제(replace)"
   ]
  },
  {
   "cell_type": "code",
   "execution_count": 253,
   "id": "992fba08",
   "metadata": {
    "scrolled": true
   },
   "outputs": [
    {
     "name": "stdout",
     "output_type": "stream",
     "text": [
      "python\n"
     ]
    }
   ],
   "source": [
    "a =\"pithon\"\n",
    "a = a.replace(\"i\", \"y\")\n",
    "print(a)"
   ]
  },
  {
   "cell_type": "code",
   "execution_count": 257,
   "id": "a772429b",
   "metadata": {},
   "outputs": [
    {
     "name": "stdout",
     "output_type": "stream",
     "text": [
      "Your leg is too short\n"
     ]
    }
   ],
   "source": [
    "a = \"Life is too short\"\n",
    "print(a.replace(\"Life\", \"Your leg\"))"
   ]
  },
  {
   "cell_type": "markdown",
   "id": "8dacf784",
   "metadata": {},
   "source": [
    "문자열 나누기 예제(split)"
   ]
  },
  {
   "cell_type": "code",
   "execution_count": 255,
   "id": "a1c2c552",
   "metadata": {
    "scrolled": true
   },
   "outputs": [
    {
     "name": "stdout",
     "output_type": "stream",
     "text": [
      "['Life', 'is', 'too', 'short']\n"
     ]
    }
   ],
   "source": [
    "a = \"Life is too short\"\n",
    "print(a.split())"
   ]
  },
  {
   "cell_type": "code",
   "execution_count": 258,
   "id": "cfd14f22",
   "metadata": {},
   "outputs": [
    {
     "name": "stdout",
     "output_type": "stream",
     "text": [
      "['a', 'b', 'c', 'd']\n"
     ]
    }
   ],
   "source": [
    "b = \"a:b:c:d\"\n",
    "print(b.split(\":\"))"
   ]
  }
 ],
 "metadata": {
  "kernelspec": {
   "display_name": "Python 3 (ipykernel)",
   "language": "python",
   "name": "python3"
  },
  "language_info": {
   "codemirror_mode": {
    "name": "ipython",
    "version": 3
   },
   "file_extension": ".py",
   "mimetype": "text/x-python",
   "name": "python",
   "nbconvert_exporter": "python",
   "pygments_lexer": "ipython3",
   "version": "3.9.7"
  }
 },
 "nbformat": 4,
 "nbformat_minor": 5
}
