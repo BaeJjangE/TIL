{
 "cells": [
  {
   "cell_type": "markdown",
   "id": "68b824db",
   "metadata": {},
   "source": [
    "# 데이터프레임의 구조\n",
    "- auto-mpg.csv 데이터셋 사용(강사님 제공)\n",
    "- mpg(연비), cylinders(실린더 수), displacement(배기량), horsepower(출력), weight(차중), acceleration(가속 능력), model_year(출시 년도), origin(제조국), model_name(모델명) 순으로 나열"
   ]
  },
  {
   "cell_type": "markdown",
   "id": "49c40d66",
   "metadata": {},
   "source": [
    "## 데이터프레임의 내용 확인\n",
    "- 앞부분 미리보기 : DataFrame객체.head(n)\n",
    "- 뒷부분 미리보기 : DataFrame객체.tail(n)"
   ]
  },
  {
   "cell_type": "markdown",
   "id": "dabad496",
   "metadata": {},
   "source": [
    "#### 데이터 살펴보기 예제"
   ]
  },
  {
   "cell_type": "code",
   "execution_count": 5,
   "id": "6ec49b2f",
   "metadata": {},
   "outputs": [],
   "source": [
    "import pandas as pd\n",
    "\n",
    "# read_csv() 함수로 df 생성, 현재 파일은 헤더가 없으므로 옵션(header=None)을 붙여주어 맨 윗줄이 컬럼이 되지않게\n",
    "df = pd.read_csv('./auto-mpg.csv', header=None)\n",
    "\n",
    "# print(df)\n",
    "\n",
    "# 열이름 지정\n",
    "df.columns = ['mpg', 'cylinders', 'displacement', 'horsepower', 'weight', 'acceleration', 'model year', 'origin','name']"
   ]
  },
  {
   "cell_type": "code",
   "execution_count": 9,
   "id": "1bd19a24",
   "metadata": {},
   "outputs": [
    {
     "name": "stdout",
     "output_type": "stream",
     "text": [
      "    mpg  cylinders  displacement horsepower  weight  acceleration  model year  \\\n",
      "0  18.0          8         307.0      130.0  3504.0          12.0          70   \n",
      "1  15.0          8         350.0      165.0  3693.0          11.5          70   \n",
      "2  18.0          8         318.0      150.0  3436.0          11.0          70   \n",
      "3  16.0          8         304.0      150.0  3433.0          12.0          70   \n",
      "4  17.0          8         302.0      140.0  3449.0          10.5          70   \n",
      "\n",
      "   origin                       name  \n",
      "0       1  chevrolet chevelle malibu  \n",
      "1       1          buick skylark 320  \n",
      "2       1         plymouth satellite  \n",
      "3       1              amc rebel sst  \n",
      "4       1                ford torino  \n"
     ]
    }
   ],
   "source": [
    "print(df.head())"
   ]
  },
  {
   "cell_type": "code",
   "execution_count": 10,
   "id": "290dfed5",
   "metadata": {},
   "outputs": [
    {
     "name": "stdout",
     "output_type": "stream",
     "text": [
      "      mpg  cylinders  displacement horsepower  weight  acceleration  \\\n",
      "393  27.0          4         140.0      86.00  2790.0          15.6   \n",
      "394  44.0          4          97.0      52.00  2130.0          24.6   \n",
      "395  32.0          4         135.0      84.00  2295.0          11.6   \n",
      "396  28.0          4         120.0      79.00  2625.0          18.6   \n",
      "397  31.0          4         119.0      82.00  2720.0          19.4   \n",
      "\n",
      "     model year  origin             name  \n",
      "393          82       1  ford mustang gl  \n",
      "394          82       2        vw pickup  \n",
      "395          82       1    dodge rampage  \n",
      "396          82       1      ford ranger  \n",
      "397          82       1       chevy s-10  \n"
     ]
    }
   ],
   "source": [
    "print(df.tail())"
   ]
  },
  {
   "cell_type": "markdown",
   "id": "7191a520",
   "metadata": {},
   "source": [
    "## 데이터의 요약 정보 확인\n",
    "### 데이터프레임의 크기(행, 열)\n",
    "- 데이터프레임의 shape 속성은 행과 열의 개수를 튜플 형태로 출력: 속성은 함수처럼 shape() 소괄호를 붙이지 않는다.\n",
    "- 데이터프레임의 크기 확인: DataFrame객체.shape"
   ]
  },
  {
   "cell_type": "code",
   "execution_count": 12,
   "id": "65bfb200",
   "metadata": {},
   "outputs": [],
   "source": [
    "import pandas as pd\n",
    "\n",
    "# read_csv() 함수로 df 생성, 현재 파일은 헤더가 없으므로 옵션(header=None)을 붙여주어 맨 윗줄이 컬럼이 되지않게\n",
    "df = pd.read_csv('./auto-mpg.csv', header=None)\n",
    "\n",
    "# print(df)\n",
    "\n",
    "# 열이름 지정\n",
    "df.columns = ['mpg', 'cylinders', 'displacement', 'horsepower', 'weight', 'acceleration', 'model year', 'origin','name']"
   ]
  },
  {
   "cell_type": "code",
   "execution_count": 14,
   "id": "c2d63cd9",
   "metadata": {},
   "outputs": [
    {
     "data": {
      "text/plain": [
       "(398, 9)"
      ]
     },
     "execution_count": 14,
     "metadata": {},
     "output_type": "execute_result"
    }
   ],
   "source": [
    "df.shape # df의 모양과 크기 확인: (행의개수, 열의개수) 튜플로 반환"
   ]
  },
  {
   "cell_type": "markdown",
   "id": "b56db554",
   "metadata": {},
   "source": [
    "### 데이터프레임의 기본 정보 확인\n",
    "- info() 함수를 데이터 프레임에 적용하면 데이터프레임에 관한 기본 정보를 화면에 출력\n",
    " - 클래스 유형, 행 인덱스 구성, 열이름의 종류와 개수, 각 열의 자료형과 개수, 메모리 할당량에 관한 정보 포함\n",
    "- 데이터프레임의 기본 정보 출력: DataFrame객체.info()"
   ]
  },
  {
   "cell_type": "code",
   "execution_count": null,
   "id": "f8827a6a",
   "metadata": {},
   "outputs": [],
   "source": [
    "import pandas as pd\n",
    "\n",
    "# read_csv() 함수로 df 생성, 현재 파일은 헤더가 없으므로 옵션(header=None)을 붙여주어 맨 윗줄이 컬럼이 되지않게\n",
    "df = pd.read_csv('./auto-mpg.csv', header=None)\n",
    "\n",
    "# print(df)\n",
    "\n",
    "# 열이름 지정\n",
    "df.columns = ['mpg', 'cylinders', 'displacement', 'horsepower', 'weight', 'acceleration', 'model year', 'origin','name']"
   ]
  },
  {
   "cell_type": "code",
   "execution_count": 15,
   "id": "8836d11d",
   "metadata": {
    "scrolled": true
   },
   "outputs": [
    {
     "name": "stdout",
     "output_type": "stream",
     "text": [
      "<class 'pandas.core.frame.DataFrame'>\n",
      "RangeIndex: 398 entries, 0 to 397\n",
      "Data columns (total 9 columns):\n",
      " #   Column        Non-Null Count  Dtype  \n",
      "---  ------        --------------  -----  \n",
      " 0   mpg           398 non-null    float64\n",
      " 1   cylinders     398 non-null    int64  \n",
      " 2   displacement  398 non-null    float64\n",
      " 3   horsepower    398 non-null    object \n",
      " 4   weight        398 non-null    float64\n",
      " 5   acceleration  398 non-null    float64\n",
      " 6   model year    398 non-null    int64  \n",
      " 7   origin        398 non-null    int64  \n",
      " 8   name          398 non-null    object \n",
      "dtypes: float64(4), int64(3), object(2)\n",
      "memory usage: 28.1+ KB\n"
     ]
    }
   ],
   "source": [
    "df.info()"
   ]
  },
  {
   "cell_type": "code",
   "execution_count": 18,
   "id": "eeb826ff",
   "metadata": {},
   "outputs": [
    {
     "data": {
      "text/html": [
       "<div>\n",
       "<style scoped>\n",
       "    .dataframe tbody tr th:only-of-type {\n",
       "        vertical-align: middle;\n",
       "    }\n",
       "\n",
       "    .dataframe tbody tr th {\n",
       "        vertical-align: top;\n",
       "    }\n",
       "\n",
       "    .dataframe thead th {\n",
       "        text-align: right;\n",
       "    }\n",
       "</style>\n",
       "<table border=\"1\" class=\"dataframe\">\n",
       "  <thead>\n",
       "    <tr style=\"text-align: right;\">\n",
       "      <th></th>\n",
       "      <th>mpg</th>\n",
       "      <th>cylinders</th>\n",
       "      <th>displacement</th>\n",
       "      <th>horsepower</th>\n",
       "      <th>weight</th>\n",
       "      <th>acceleration</th>\n",
       "      <th>model year</th>\n",
       "      <th>origin</th>\n",
       "      <th>name</th>\n",
       "    </tr>\n",
       "  </thead>\n",
       "  <tbody>\n",
       "    <tr>\n",
       "      <th>0</th>\n",
       "      <td>18.0</td>\n",
       "      <td>8</td>\n",
       "      <td>307.0</td>\n",
       "      <td>130.0</td>\n",
       "      <td>3504.0</td>\n",
       "      <td>12.0</td>\n",
       "      <td>70</td>\n",
       "      <td>1</td>\n",
       "      <td>chevrolet chevelle malibu</td>\n",
       "    </tr>\n",
       "    <tr>\n",
       "      <th>1</th>\n",
       "      <td>15.0</td>\n",
       "      <td>8</td>\n",
       "      <td>350.0</td>\n",
       "      <td>165.0</td>\n",
       "      <td>3693.0</td>\n",
       "      <td>11.5</td>\n",
       "      <td>70</td>\n",
       "      <td>1</td>\n",
       "      <td>buick skylark 320</td>\n",
       "    </tr>\n",
       "    <tr>\n",
       "      <th>2</th>\n",
       "      <td>18.0</td>\n",
       "      <td>8</td>\n",
       "      <td>318.0</td>\n",
       "      <td>150.0</td>\n",
       "      <td>3436.0</td>\n",
       "      <td>11.0</td>\n",
       "      <td>70</td>\n",
       "      <td>1</td>\n",
       "      <td>plymouth satellite</td>\n",
       "    </tr>\n",
       "    <tr>\n",
       "      <th>3</th>\n",
       "      <td>16.0</td>\n",
       "      <td>8</td>\n",
       "      <td>304.0</td>\n",
       "      <td>150.0</td>\n",
       "      <td>3433.0</td>\n",
       "      <td>12.0</td>\n",
       "      <td>70</td>\n",
       "      <td>1</td>\n",
       "      <td>amc rebel sst</td>\n",
       "    </tr>\n",
       "    <tr>\n",
       "      <th>4</th>\n",
       "      <td>17.0</td>\n",
       "      <td>8</td>\n",
       "      <td>302.0</td>\n",
       "      <td>140.0</td>\n",
       "      <td>3449.0</td>\n",
       "      <td>10.5</td>\n",
       "      <td>70</td>\n",
       "      <td>1</td>\n",
       "      <td>ford torino</td>\n",
       "    </tr>\n",
       "    <tr>\n",
       "      <th>...</th>\n",
       "      <td>...</td>\n",
       "      <td>...</td>\n",
       "      <td>...</td>\n",
       "      <td>...</td>\n",
       "      <td>...</td>\n",
       "      <td>...</td>\n",
       "      <td>...</td>\n",
       "      <td>...</td>\n",
       "      <td>...</td>\n",
       "    </tr>\n",
       "    <tr>\n",
       "      <th>393</th>\n",
       "      <td>27.0</td>\n",
       "      <td>4</td>\n",
       "      <td>140.0</td>\n",
       "      <td>86.00</td>\n",
       "      <td>2790.0</td>\n",
       "      <td>15.6</td>\n",
       "      <td>82</td>\n",
       "      <td>1</td>\n",
       "      <td>ford mustang gl</td>\n",
       "    </tr>\n",
       "    <tr>\n",
       "      <th>394</th>\n",
       "      <td>44.0</td>\n",
       "      <td>4</td>\n",
       "      <td>97.0</td>\n",
       "      <td>52.00</td>\n",
       "      <td>2130.0</td>\n",
       "      <td>24.6</td>\n",
       "      <td>82</td>\n",
       "      <td>2</td>\n",
       "      <td>vw pickup</td>\n",
       "    </tr>\n",
       "    <tr>\n",
       "      <th>395</th>\n",
       "      <td>32.0</td>\n",
       "      <td>4</td>\n",
       "      <td>135.0</td>\n",
       "      <td>84.00</td>\n",
       "      <td>2295.0</td>\n",
       "      <td>11.6</td>\n",
       "      <td>82</td>\n",
       "      <td>1</td>\n",
       "      <td>dodge rampage</td>\n",
       "    </tr>\n",
       "    <tr>\n",
       "      <th>396</th>\n",
       "      <td>28.0</td>\n",
       "      <td>4</td>\n",
       "      <td>120.0</td>\n",
       "      <td>79.00</td>\n",
       "      <td>2625.0</td>\n",
       "      <td>18.6</td>\n",
       "      <td>82</td>\n",
       "      <td>1</td>\n",
       "      <td>ford ranger</td>\n",
       "    </tr>\n",
       "    <tr>\n",
       "      <th>397</th>\n",
       "      <td>31.0</td>\n",
       "      <td>4</td>\n",
       "      <td>119.0</td>\n",
       "      <td>82.00</td>\n",
       "      <td>2720.0</td>\n",
       "      <td>19.4</td>\n",
       "      <td>82</td>\n",
       "      <td>1</td>\n",
       "      <td>chevy s-10</td>\n",
       "    </tr>\n",
       "  </tbody>\n",
       "</table>\n",
       "<p>398 rows × 9 columns</p>\n",
       "</div>"
      ],
      "text/plain": [
       "      mpg  cylinders  displacement horsepower  weight  acceleration  \\\n",
       "0    18.0          8         307.0      130.0  3504.0          12.0   \n",
       "1    15.0          8         350.0      165.0  3693.0          11.5   \n",
       "2    18.0          8         318.0      150.0  3436.0          11.0   \n",
       "3    16.0          8         304.0      150.0  3433.0          12.0   \n",
       "4    17.0          8         302.0      140.0  3449.0          10.5   \n",
       "..    ...        ...           ...        ...     ...           ...   \n",
       "393  27.0          4         140.0      86.00  2790.0          15.6   \n",
       "394  44.0          4          97.0      52.00  2130.0          24.6   \n",
       "395  32.0          4         135.0      84.00  2295.0          11.6   \n",
       "396  28.0          4         120.0      79.00  2625.0          18.6   \n",
       "397  31.0          4         119.0      82.00  2720.0          19.4   \n",
       "\n",
       "     model year  origin                       name  \n",
       "0            70       1  chevrolet chevelle malibu  \n",
       "1            70       1          buick skylark 320  \n",
       "2            70       1         plymouth satellite  \n",
       "3            70       1              amc rebel sst  \n",
       "4            70       1                ford torino  \n",
       "..          ...     ...                        ...  \n",
       "393          82       1            ford mustang gl  \n",
       "394          82       2                  vw pickup  \n",
       "395          82       1              dodge rampage  \n",
       "396          82       1                ford ranger  \n",
       "397          82       1                 chevy s-10  \n",
       "\n",
       "[398 rows x 9 columns]"
      ]
     },
     "execution_count": 18,
     "metadata": {},
     "output_type": "execute_result"
    }
   ],
   "source": [
    "df"
   ]
  },
  {
   "cell_type": "markdown",
   "id": "29eab79c",
   "metadata": {},
   "source": [
    "- 판다스 자료형\n",
    " - int64 : 정수형 데이터\n",
    " - float64 : 실수형 데이터\n",
    " - object : 문자열 데이터\n",
    " - datatime64, timedelta64 : 시간 데이터\n",
    "- dtypes 속성에는 각 열에 대한 자료형의 개수가 포함"
   ]
  },
  {
   "cell_type": "markdown",
   "id": "d2bb97ce",
   "metadata": {},
   "source": [
    "#### dtypes 속성을 활용하여 각 열의 자료형 확인 예제"
   ]
  },
  {
   "cell_type": "code",
   "execution_count": null,
   "id": "cef6623e",
   "metadata": {},
   "outputs": [],
   "source": [
    "import pandas as pd\n",
    "\n",
    "# read_csv() 함수로 df 생성, 현재 파일은 헤더가 없으므로 옵션(header=None)을 붙여주어 맨 윗줄이 컬럼이 되지않게\n",
    "df = pd.read_csv('./auto-mpg.csv', header=None)\n",
    "\n",
    "# print(df)\n",
    "\n",
    "# 열이름 지정\n",
    "df.columns = ['mpg', 'cylinders', 'displacement', 'horsepower', 'weight', 'acceleration', 'model year', 'origin','name']"
   ]
  },
  {
   "cell_type": "code",
   "execution_count": 19,
   "id": "6070885d",
   "metadata": {},
   "outputs": [
    {
     "name": "stdout",
     "output_type": "stream",
     "text": [
      "mpg             float64\n",
      "cylinders         int64\n",
      "displacement    float64\n",
      "horsepower       object\n",
      "weight          float64\n",
      "acceleration    float64\n",
      "model year        int64\n",
      "origin            int64\n",
      "name             object\n",
      "dtype: object\n"
     ]
    }
   ],
   "source": [
    "# 데이터프레임 df의 자료형 확인\n",
    "print(df.dtypes)"
   ]
  },
  {
   "cell_type": "code",
   "execution_count": 21,
   "id": "258ff0f0",
   "metadata": {},
   "outputs": [
    {
     "name": "stdout",
     "output_type": "stream",
     "text": [
      "int64\n"
     ]
    }
   ],
   "source": [
    "# 데이터프레임의 특정 열(cylinders)의 자료형 확인\n",
    "print(df.cylinders.dtypes)"
   ]
  },
  {
   "cell_type": "markdown",
   "id": "0b737190",
   "metadata": {},
   "source": [
    "### 데이터프레임의 기술 통계 정보 요약\n",
    "- 데이터프레임에 describe() 함수를 적용 시, 산술(숫자) 데이터를 갖는 열에 대한 주요 기술 통계 정보(평균, 표준편차, 최대값, 중간값 등)을 요약하여 출력"
   ]
  },
  {
   "cell_type": "code",
   "execution_count": 22,
   "id": "eb49339f",
   "metadata": {},
   "outputs": [
    {
     "data": {
      "text/html": [
       "<div>\n",
       "<style scoped>\n",
       "    .dataframe tbody tr th:only-of-type {\n",
       "        vertical-align: middle;\n",
       "    }\n",
       "\n",
       "    .dataframe tbody tr th {\n",
       "        vertical-align: top;\n",
       "    }\n",
       "\n",
       "    .dataframe thead th {\n",
       "        text-align: right;\n",
       "    }\n",
       "</style>\n",
       "<table border=\"1\" class=\"dataframe\">\n",
       "  <thead>\n",
       "    <tr style=\"text-align: right;\">\n",
       "      <th></th>\n",
       "      <th>mpg</th>\n",
       "      <th>cylinders</th>\n",
       "      <th>displacement</th>\n",
       "      <th>weight</th>\n",
       "      <th>acceleration</th>\n",
       "      <th>model year</th>\n",
       "      <th>origin</th>\n",
       "    </tr>\n",
       "  </thead>\n",
       "  <tbody>\n",
       "    <tr>\n",
       "      <th>count</th>\n",
       "      <td>398.000000</td>\n",
       "      <td>398.000000</td>\n",
       "      <td>398.000000</td>\n",
       "      <td>398.000000</td>\n",
       "      <td>398.000000</td>\n",
       "      <td>398.000000</td>\n",
       "      <td>398.000000</td>\n",
       "    </tr>\n",
       "    <tr>\n",
       "      <th>mean</th>\n",
       "      <td>23.514573</td>\n",
       "      <td>5.454774</td>\n",
       "      <td>193.425879</td>\n",
       "      <td>2970.424623</td>\n",
       "      <td>15.568090</td>\n",
       "      <td>76.010050</td>\n",
       "      <td>1.572864</td>\n",
       "    </tr>\n",
       "    <tr>\n",
       "      <th>std</th>\n",
       "      <td>7.815984</td>\n",
       "      <td>1.701004</td>\n",
       "      <td>104.269838</td>\n",
       "      <td>846.841774</td>\n",
       "      <td>2.757689</td>\n",
       "      <td>3.697627</td>\n",
       "      <td>0.802055</td>\n",
       "    </tr>\n",
       "    <tr>\n",
       "      <th>min</th>\n",
       "      <td>9.000000</td>\n",
       "      <td>3.000000</td>\n",
       "      <td>68.000000</td>\n",
       "      <td>1613.000000</td>\n",
       "      <td>8.000000</td>\n",
       "      <td>70.000000</td>\n",
       "      <td>1.000000</td>\n",
       "    </tr>\n",
       "    <tr>\n",
       "      <th>25%</th>\n",
       "      <td>17.500000</td>\n",
       "      <td>4.000000</td>\n",
       "      <td>104.250000</td>\n",
       "      <td>2223.750000</td>\n",
       "      <td>13.825000</td>\n",
       "      <td>73.000000</td>\n",
       "      <td>1.000000</td>\n",
       "    </tr>\n",
       "    <tr>\n",
       "      <th>50%</th>\n",
       "      <td>23.000000</td>\n",
       "      <td>4.000000</td>\n",
       "      <td>148.500000</td>\n",
       "      <td>2803.500000</td>\n",
       "      <td>15.500000</td>\n",
       "      <td>76.000000</td>\n",
       "      <td>1.000000</td>\n",
       "    </tr>\n",
       "    <tr>\n",
       "      <th>75%</th>\n",
       "      <td>29.000000</td>\n",
       "      <td>8.000000</td>\n",
       "      <td>262.000000</td>\n",
       "      <td>3608.000000</td>\n",
       "      <td>17.175000</td>\n",
       "      <td>79.000000</td>\n",
       "      <td>2.000000</td>\n",
       "    </tr>\n",
       "    <tr>\n",
       "      <th>max</th>\n",
       "      <td>46.600000</td>\n",
       "      <td>8.000000</td>\n",
       "      <td>455.000000</td>\n",
       "      <td>5140.000000</td>\n",
       "      <td>24.800000</td>\n",
       "      <td>82.000000</td>\n",
       "      <td>3.000000</td>\n",
       "    </tr>\n",
       "  </tbody>\n",
       "</table>\n",
       "</div>"
      ],
      "text/plain": [
       "              mpg   cylinders  displacement       weight  acceleration  \\\n",
       "count  398.000000  398.000000    398.000000   398.000000    398.000000   \n",
       "mean    23.514573    5.454774    193.425879  2970.424623     15.568090   \n",
       "std      7.815984    1.701004    104.269838   846.841774      2.757689   \n",
       "min      9.000000    3.000000     68.000000  1613.000000      8.000000   \n",
       "25%     17.500000    4.000000    104.250000  2223.750000     13.825000   \n",
       "50%     23.000000    4.000000    148.500000  2803.500000     15.500000   \n",
       "75%     29.000000    8.000000    262.000000  3608.000000     17.175000   \n",
       "max     46.600000    8.000000    455.000000  5140.000000     24.800000   \n",
       "\n",
       "       model year      origin  \n",
       "count  398.000000  398.000000  \n",
       "mean    76.010050    1.572864  \n",
       "std      3.697627    0.802055  \n",
       "min     70.000000    1.000000  \n",
       "25%     73.000000    1.000000  \n",
       "50%     76.000000    1.000000  \n",
       "75%     79.000000    2.000000  \n",
       "max     82.000000    3.000000  "
      ]
     },
     "execution_count": 22,
     "metadata": {},
     "output_type": "execute_result"
    }
   ],
   "source": [
    "df.describe()"
   ]
  },
  {
   "cell_type": "markdown",
   "id": "6c1949de",
   "metadata": {},
   "source": [
    "#### 기술 통계 정보 요약 전체 보여주는 옵션"
   ]
  },
  {
   "cell_type": "code",
   "execution_count": 23,
   "id": "d67e0324",
   "metadata": {
    "scrolled": true
   },
   "outputs": [
    {
     "name": "stdout",
     "output_type": "stream",
     "text": [
      "               mpg   cylinders  displacement horsepower       weight  \\\n",
      "count   398.000000  398.000000    398.000000        398   398.000000   \n",
      "unique         NaN         NaN           NaN         94          NaN   \n",
      "top            NaN         NaN           NaN      150.0          NaN   \n",
      "freq           NaN         NaN           NaN         22          NaN   \n",
      "mean     23.514573    5.454774    193.425879        NaN  2970.424623   \n",
      "std       7.815984    1.701004    104.269838        NaN   846.841774   \n",
      "min       9.000000    3.000000     68.000000        NaN  1613.000000   \n",
      "25%      17.500000    4.000000    104.250000        NaN  2223.750000   \n",
      "50%      23.000000    4.000000    148.500000        NaN  2803.500000   \n",
      "75%      29.000000    8.000000    262.000000        NaN  3608.000000   \n",
      "max      46.600000    8.000000    455.000000        NaN  5140.000000   \n",
      "\n",
      "        acceleration  model year      origin        name  \n",
      "count     398.000000  398.000000  398.000000         398  \n",
      "unique           NaN         NaN         NaN         305  \n",
      "top              NaN         NaN         NaN  ford pinto  \n",
      "freq             NaN         NaN         NaN           6  \n",
      "mean       15.568090   76.010050    1.572864         NaN  \n",
      "std         2.757689    3.697627    0.802055         NaN  \n",
      "min         8.000000   70.000000    1.000000         NaN  \n",
      "25%        13.825000   73.000000    1.000000         NaN  \n",
      "50%        15.500000   76.000000    1.000000         NaN  \n",
      "75%        17.175000   79.000000    2.000000         NaN  \n",
      "max        24.800000   82.000000    3.000000         NaN  \n"
     ]
    }
   ],
   "source": [
    "print(df.describe(include='all'))"
   ]
  },
  {
   "cell_type": "markdown",
   "id": "89f4f1b5",
   "metadata": {},
   "source": [
    "- 기본 describe() 함수 사용시 데이터 수(count), 평균(mean), 표준편차(std), 백분위수, 최대최소값 출력\n",
    "- include='all' 옵션 사용 시 고유값 개수(unique), 최빈값(top), 빈도수(freq) 추가로 출력"
   ]
  },
  {
   "cell_type": "markdown",
   "id": "3fd77f9f",
   "metadata": {},
   "source": [
    "## 통계 함수 적용\n",
    "### 평균값\n",
    "- 데이터프레임에 mean() 함수를 사용하면, 산술 데이터를 갖는 모든 열의 평균값을 계산하여 시리즈 객체로 반환\n",
    "- 전체 평균 값을 확인 가능, 특정 열의 평균 값도 확인 가능"
   ]
  },
  {
   "cell_type": "code",
   "execution_count": null,
   "id": "bcd92930",
   "metadata": {},
   "outputs": [],
   "source": [
    "import pandas as pd\n",
    "\n",
    "# read_csv() 함수로 df 생성, 현재 파일은 헤더가 없으므로 옵션(header=None)을 붙여주어 맨 윗줄이 컬럼이 되지않게\n",
    "df = pd.read_csv('./auto-mpg.csv', header=None)\n",
    "\n",
    "# print(df)\n",
    "\n",
    "# 열이름 지정\n",
    "df.columns = ['mpg', 'cylinders', 'displacement', 'horsepower', 'weight', 'acceleration', 'model year', 'origin','name']"
   ]
  },
  {
   "cell_type": "code",
   "execution_count": 24,
   "id": "be7b4024",
   "metadata": {
    "scrolled": true
   },
   "outputs": [
    {
     "name": "stderr",
     "output_type": "stream",
     "text": [
      "C:\\Users\\user\\AppData\\Local\\Temp/ipykernel_18540/3698961737.py:1: FutureWarning: Dropping of nuisance columns in DataFrame reductions (with 'numeric_only=None') is deprecated; in a future version this will raise TypeError.  Select only valid columns before calling the reduction.\n",
      "  df.mean()\n"
     ]
    },
    {
     "data": {
      "text/plain": [
       "mpg               23.514573\n",
       "cylinders          5.454774\n",
       "displacement     193.425879\n",
       "weight          2970.424623\n",
       "acceleration      15.568090\n",
       "model year        76.010050\n",
       "origin             1.572864\n",
       "dtype: float64"
      ]
     },
     "execution_count": 24,
     "metadata": {},
     "output_type": "execute_result"
    }
   ],
   "source": [
    "df.mean() # 밑에 에러는 문자열 데이터도 껴있어서 뜨는 에러"
   ]
  },
  {
   "cell_type": "code",
   "execution_count": 26,
   "id": "a2ca0627",
   "metadata": {},
   "outputs": [
    {
     "data": {
      "text/plain": [
       "5.454773869346734"
      ]
     },
     "execution_count": 26,
     "metadata": {},
     "output_type": "execute_result"
    }
   ],
   "source": [
    "# 특정값 평균 확인 시\n",
    "df[\"cylinders\"].mean()"
   ]
  },
  {
   "cell_type": "code",
   "execution_count": 28,
   "id": "d678de81",
   "metadata": {},
   "outputs": [
    {
     "data": {
      "text/plain": [
       "cylinders    5.454774\n",
       "origin       1.572864\n",
       "dtype: float64"
      ]
     },
     "execution_count": 28,
     "metadata": {},
     "output_type": "execute_result"
    }
   ],
   "source": [
    "# 두개 확인\n",
    "df[[\"cylinders\", 'origin']].mean()"
   ]
  },
  {
   "cell_type": "markdown",
   "id": "85e206c8",
   "metadata": {},
   "source": [
    "### 중간값: 모든 값 나열 시 위치가 중간에 있는 값\n",
    "- 데이터프레임에 median() 함수를 사용하면 산술 데이터를 갖는 모든 열의 중간값을 계산하여 반환"
   ]
  },
  {
   "cell_type": "code",
   "execution_count": 30,
   "id": "273deed6",
   "metadata": {},
   "outputs": [
    {
     "name": "stderr",
     "output_type": "stream",
     "text": [
      "C:\\Users\\user\\AppData\\Local\\Temp/ipykernel_18540/530051474.py:1: FutureWarning: Dropping of nuisance columns in DataFrame reductions (with 'numeric_only=None') is deprecated; in a future version this will raise TypeError.  Select only valid columns before calling the reduction.\n",
      "  df.median()\n"
     ]
    },
    {
     "data": {
      "text/plain": [
       "mpg               23.0\n",
       "cylinders          4.0\n",
       "displacement     148.5\n",
       "weight          2803.5\n",
       "acceleration      15.5\n",
       "model year        76.0\n",
       "origin             1.0\n",
       "dtype: float64"
      ]
     },
     "execution_count": 30,
     "metadata": {},
     "output_type": "execute_result"
    }
   ],
   "source": [
    "df.median()"
   ]
  },
  {
   "cell_type": "code",
   "execution_count": 31,
   "id": "aa60757e",
   "metadata": {},
   "outputs": [
    {
     "data": {
      "text/plain": [
       "4.0"
      ]
     },
     "execution_count": 31,
     "metadata": {},
     "output_type": "execute_result"
    }
   ],
   "source": [
    "# 특정값 중간값 확인 시\n",
    "df[\"cylinders\"].median()"
   ]
  },
  {
   "cell_type": "code",
   "execution_count": 32,
   "id": "5e3c565c",
   "metadata": {},
   "outputs": [
    {
     "data": {
      "text/plain": [
       "cylinders    4.0\n",
       "origin       1.0\n",
       "dtype: float64"
      ]
     },
     "execution_count": 32,
     "metadata": {},
     "output_type": "execute_result"
    }
   ],
   "source": [
    "# 두개 확인\n",
    "df[[\"cylinders\", 'origin']].median()"
   ]
  },
  {
   "cell_type": "markdown",
   "id": "e1a69c17",
   "metadata": {},
   "source": [
    "#### 데이터의 개수가 짝수 일 경우 중간값 구하기 예쩨"
   ]
  },
  {
   "cell_type": "code",
   "execution_count": 33,
   "id": "055080f5",
   "metadata": {},
   "outputs": [
    {
     "name": "stdout",
     "output_type": "stream",
     "text": [
      "X     5.5\n",
      "Y    10.0\n",
      "dtype: float64\n"
     ]
    }
   ],
   "source": [
    "import pandas as pd\n",
    "\n",
    "df = pd.DataFrame({\n",
    "    'X' : [1, 2, 4, 7, 10 , 13],\n",
    "    'Y' : [3, 5, 9, 11, 12, 15]\n",
    "})\n",
    "\n",
    "medians = df.median()\n",
    "print(medians)"
   ]
  },
  {
   "cell_type": "markdown",
   "id": "c4f9bec0",
   "metadata": {},
   "source": [
    "### 최대값\n",
    "- max() 함수 사용"
   ]
  },
  {
   "cell_type": "code",
   "execution_count": 35,
   "id": "12651e78",
   "metadata": {},
   "outputs": [],
   "source": [
    "import pandas as pd\n",
    "\n",
    "# read_csv() 함수로 df 생성, 현재 파일은 헤더가 없으므로 옵션(header=None)을 붙여주어 맨 윗줄이 컬럼이 되지않게\n",
    "df = pd.read_csv('./auto-mpg.csv', header=None)\n",
    "\n",
    "# print(df)\n",
    "\n",
    "# 열이름 지정\n",
    "df.columns = ['mpg', 'cylinders', 'displacement', 'horsepower', 'weight', 'acceleration', 'model year', 'origin','name']"
   ]
  },
  {
   "cell_type": "code",
   "execution_count": 36,
   "id": "f9101163",
   "metadata": {
    "scrolled": true
   },
   "outputs": [
    {
     "data": {
      "text/plain": [
       "mpg                         46.6\n",
       "cylinders                      8\n",
       "displacement               455.0\n",
       "horsepower                     ?\n",
       "weight                    5140.0\n",
       "acceleration                24.8\n",
       "model year                    82\n",
       "origin                         3\n",
       "name            vw rabbit custom\n",
       "dtype: object"
      ]
     },
     "execution_count": 36,
     "metadata": {},
     "output_type": "execute_result"
    }
   ],
   "source": [
    "df.max()"
   ]
  },
  {
   "cell_type": "markdown",
   "id": "7b68659b",
   "metadata": {},
   "source": [
    "- 문자열은 ASCII 숫자로 변환하여 크고 작음을 비교하여 name 컬럼에 값이 나옴\n",
    "- 'horsepower' 열에는 '?' 문자가 포함되어 있어 최대값도 '?' 출력"
   ]
  },
  {
   "cell_type": "code",
   "execution_count": 37,
   "id": "99134d43",
   "metadata": {},
   "outputs": [
    {
     "data": {
      "text/plain": [
       "8"
      ]
     },
     "execution_count": 37,
     "metadata": {},
     "output_type": "execute_result"
    }
   ],
   "source": [
    "df[\"cylinders\"].max()"
   ]
  },
  {
   "cell_type": "markdown",
   "id": "3280398b",
   "metadata": {},
   "source": [
    "### 최소값\n",
    "- min() 함수 사용"
   ]
  },
  {
   "cell_type": "code",
   "execution_count": 38,
   "id": "195e96a1",
   "metadata": {},
   "outputs": [
    {
     "data": {
      "text/plain": [
       "mpg                                 9.0\n",
       "cylinders                             3\n",
       "displacement                       68.0\n",
       "horsepower                        100.0\n",
       "weight                           1613.0\n",
       "acceleration                        8.0\n",
       "model year                           70\n",
       "origin                                1\n",
       "name            amc ambassador brougham\n",
       "dtype: object"
      ]
     },
     "execution_count": 38,
     "metadata": {},
     "output_type": "execute_result"
    }
   ],
   "source": [
    "df.min()"
   ]
  },
  {
   "cell_type": "code",
   "execution_count": 39,
   "id": "cf9fa4e1",
   "metadata": {},
   "outputs": [
    {
     "data": {
      "text/plain": [
       "3"
      ]
     },
     "execution_count": 39,
     "metadata": {},
     "output_type": "execute_result"
    }
   ],
   "source": [
    "df[\"cylinders\"].min()"
   ]
  },
  {
   "cell_type": "markdown",
   "id": "c26caaa8",
   "metadata": {},
   "source": [
    "### 표준편차\n",
    "- 데이터프레임에 std() 함수를 사용하면 산술 데이터를 갖는 열의 표준편차를 계산하여 시리즈로 반환\n",
    "- 데이터프레임의 열의 표준편차 계산 가능, 특정 열의 표준편차 계산가능\n",
    "- 편차 : 기본 데이터가 평균으로부터 얼마나 떨어져 있는지를 알 수 있는 척도"
   ]
  },
  {
   "cell_type": "code",
   "execution_count": null,
   "id": "d0b2faf1",
   "metadata": {},
   "outputs": [],
   "source": [
    "import pandas as pd\n",
    "\n",
    "# read_csv() 함수로 df 생성, 현재 파일은 헤더가 없으므로 옵션(header=None)을 붙여주어 맨 윗줄이 컬럼이 되지않게\n",
    "df = pd.read_csv('./auto-mpg.csv', header=None)\n",
    "\n",
    "# print(df)\n",
    "\n",
    "# 열이름 지정\n",
    "df.columns = ['mpg', 'cylinders', 'displacement', 'horsepower', 'weight', 'acceleration', 'model year', 'origin','name']"
   ]
  },
  {
   "cell_type": "code",
   "execution_count": 40,
   "id": "bf8409a2",
   "metadata": {},
   "outputs": [
    {
     "name": "stderr",
     "output_type": "stream",
     "text": [
      "C:\\Users\\user\\AppData\\Local\\Temp/ipykernel_18540/3390915376.py:1: FutureWarning: Dropping of nuisance columns in DataFrame reductions (with 'numeric_only=None') is deprecated; in a future version this will raise TypeError.  Select only valid columns before calling the reduction.\n",
      "  df.std()\n"
     ]
    },
    {
     "data": {
      "text/plain": [
       "mpg               7.815984\n",
       "cylinders         1.701004\n",
       "displacement    104.269838\n",
       "weight          846.841774\n",
       "acceleration      2.757689\n",
       "model year        3.697627\n",
       "origin            0.802055\n",
       "dtype: float64"
      ]
     },
     "execution_count": 40,
     "metadata": {},
     "output_type": "execute_result"
    }
   ],
   "source": [
    "df.std()"
   ]
  },
  {
   "cell_type": "code",
   "execution_count": 41,
   "id": "e4f4cd2e",
   "metadata": {},
   "outputs": [
    {
     "data": {
      "text/plain": [
       "1.7010042445332094"
      ]
     },
     "execution_count": 41,
     "metadata": {},
     "output_type": "execute_result"
    }
   ],
   "source": [
    "df['cylinders'].std()"
   ]
  },
  {
   "cell_type": "markdown",
   "id": "677e8e2d",
   "metadata": {},
   "source": [
    "### 상관계수\n",
    "- 데이터프레임에 corr() 함수를 사용하면 두 열 간의 상관계수를 계산해줌\n",
    "- 산술 데이터를 갖는 모든 열에 대해서 2개씩 서로 짝을 짓고, 각각의 경우에 대하여 상관계수를 계산\n",
    "- -1 ~ 1 사이 값을 가지는데, -1이면 음의 상관관계가 강하고, 1이면 양의 상관관계가 강하다는 것을 나타낸다"
   ]
  },
  {
   "cell_type": "code",
   "execution_count": null,
   "id": "949a701d",
   "metadata": {},
   "outputs": [],
   "source": [
    "import pandas as pd\n",
    "\n",
    "# read_csv() 함수로 df 생성, 현재 파일은 헤더가 없으므로 옵션(header=None)을 붙여주어 맨 윗줄이 컬럼이 되지않게\n",
    "df = pd.read_csv('./auto-mpg.csv', header=None)\n",
    "\n",
    "# print(df)\n",
    "\n",
    "# 열이름 지정\n",
    "df.columns = ['mpg', 'cylinders', 'displacement', 'horsepower', 'weight', 'acceleration', 'model year', 'origin','name']"
   ]
  },
  {
   "cell_type": "code",
   "execution_count": 42,
   "id": "20d07577",
   "metadata": {},
   "outputs": [
    {
     "name": "stdout",
     "output_type": "stream",
     "text": [
      "                   mpg  cylinders  displacement    weight  acceleration  \\\n",
      "mpg           1.000000  -0.775396     -0.804203 -0.831741      0.420289   \n",
      "cylinders    -0.775396   1.000000      0.950721  0.896017     -0.505419   \n",
      "displacement -0.804203   0.950721      1.000000  0.932824     -0.543684   \n",
      "weight       -0.831741   0.896017      0.932824  1.000000     -0.417457   \n",
      "acceleration  0.420289  -0.505419     -0.543684 -0.417457      1.000000   \n",
      "model year    0.579267  -0.348746     -0.370164 -0.306564      0.288137   \n",
      "origin        0.563450  -0.562543     -0.609409 -0.581024      0.205873   \n",
      "\n",
      "              model year    origin  \n",
      "mpg             0.579267  0.563450  \n",
      "cylinders      -0.348746 -0.562543  \n",
      "displacement   -0.370164 -0.609409  \n",
      "weight         -0.306564 -0.581024  \n",
      "acceleration    0.288137  0.205873  \n",
      "model year      1.000000  0.180662  \n",
      "origin          0.180662  1.000000  \n"
     ]
    }
   ],
   "source": [
    "print(df.corr())"
   ]
  },
  {
   "cell_type": "code",
   "execution_count": 43,
   "id": "a5db2479",
   "metadata": {},
   "outputs": [
    {
     "name": "stdout",
     "output_type": "stream",
     "text": [
      "             mpg    weight\n",
      "mpg     1.000000 -0.831741\n",
      "weight -0.831741  1.000000\n"
     ]
    }
   ],
   "source": [
    "print(df[['mpg', 'weight']].corr())"
   ]
  },
  {
   "cell_type": "markdown",
   "id": "e22e477f",
   "metadata": {},
   "source": [
    "# 판다스 내장 그래프 도구 활용\n",
    "- 데이터를 그래프로 표현하는 것은 매우 효과적인 정보 전달 방식\n",
    "- 시리즈 또는 데이터프레임 객체에 plot() 함수를 적용하여 그래프를 생성\n",
    "- kind 옵션으로 그래프의 종류 선택\n",
    " - \"line\" : 선 그래프\n",
    " - \"bar\" : 수직 막대 그래프\n",
    " - \"barh\" : 수평 막대 그래프\n",
    " - \"hist\" : 히스토그램\n",
    " - \"box\" : 박스 플롯\n",
    " - \"kde\" : 커널 밀도 그래프\n",
    " - \"area\" : 면적 그래프\n",
    " - \"pie\" : 파이 그래프\n",
    " - \"scatter\" : 산점도\n",
    " - \"hexbin\" : 고밀도 산점도"
   ]
  },
  {
   "cell_type": "markdown",
   "id": "ed93f745",
   "metadata": {},
   "source": [
    "## 선 그래프\n",
    "- 데이터프레임(또는 시리즈) 객체에 plot() 함수를 사용할 경우, 다른 옵션을 추가하지 않으면 나오는 디폴트값 그래프<br>\n",
    "<code>선 그래프: DataFrame객체.plot()</code>"
   ]
  },
  {
   "cell_type": "markdown",
   "id": "e60bc363",
   "metadata": {},
   "source": [
    "#### 시각화 전에 자료가 제대로 나오는지 확인"
   ]
  },
  {
   "cell_type": "code",
   "execution_count": 52,
   "id": "783e5ca6",
   "metadata": {},
   "outputs": [
    {
     "name": "stdout",
     "output_type": "stream",
     "text": [
      "  전력량 (억㎾h) 발전 전력별  1990  1991  1992  1993  1994  1995  1996  1997  ...  2007  \\\n",
      "0        남한     합계  1077  1186  1310  1444  1650  1847  2055  2244  ...  4031   \n",
      "1       NaN     수력    64    51    49    60    41    55    52    54  ...    50   \n",
      "2       NaN     화력   484   573   696   803  1022  1122  1264  1420  ...  2551   \n",
      "3       NaN    원자력   529   563   565   581   587   670   739   771  ...  1429   \n",
      "4       NaN    신재생     -     -     -     -     -     -     -     -  ...     -   \n",
      "5        북한     합계   277   263   247   221   231   230   213   193  ...   236   \n",
      "6       NaN     수력   156   150   142   133   138   142   125   107  ...   133   \n",
      "7       NaN     화력   121   113   105    88    93    88    88    86  ...   103   \n",
      "8       NaN    원자력     -     -     -     -     -     -     -     -  ...     -   \n",
      "\n",
      "   2008  2009  2010  2011  2012  2013  2014  2015  2016  \n",
      "0  4224  4336  4747  4969  5096  5171  5220  5281  5404  \n",
      "1    56    56    65    78    77    84    78    58    66  \n",
      "2  2658  2802  3196  3343  3430  3581  3427  3402  3523  \n",
      "3  1510  1478  1486  1547  1503  1388  1564  1648  1620  \n",
      "4     -     -     -     -    86   118   151   173   195  \n",
      "5   255   235   237   211   215   221   216   190   239  \n",
      "6   141   125   134   132   135   139   130   100   128  \n",
      "7   114   110   103    79    80    82    86    90   111  \n",
      "8     -     -     -     -     -     -     -     -     -  \n",
      "\n",
      "[9 rows x 29 columns]\n"
     ]
    }
   ],
   "source": [
    "import pandas as pd\n",
    "\n",
    "df = pd.read_excel(\"./남북한발전전력량.xlsx\", engine='openpyxl') # engine 옵션은 안되는 사람들 있으면 되게하기위해 사용\n",
    "print(df)"
   ]
  },
  {
   "cell_type": "code",
   "execution_count": 47,
   "id": "a3d7b3cf",
   "metadata": {},
   "outputs": [
    {
     "name": "stdout",
     "output_type": "stream",
     "text": [
      "   1990  1991  1992  1993  1994  1995  1996  1997  1998  1999  ...  2007  \\\n",
      "0  1077  1186  1310  1444  1650  1847  2055  2244  2153  2393  ...  4031   \n",
      "5   277   263   247   221   231   230   213   193   170   186  ...   236   \n",
      "\n",
      "   2008  2009  2010  2011  2012  2013  2014  2015  2016  \n",
      "0  4224  4336  4747  4969  5096  5171  5220  5281  5404  \n",
      "5   255   235   237   211   215   221   216   190   239  \n",
      "\n",
      "[2 rows x 27 columns]\n"
     ]
    }
   ],
   "source": [
    "# 남북한 발전량 합계 데이터를 추출\n",
    "df_ns = df.iloc[[0, 5], 2:]\n",
    "print(df_ns)"
   ]
  },
  {
   "cell_type": "code",
   "execution_count": 49,
   "id": "67f2ed84",
   "metadata": {},
   "outputs": [
    {
     "name": "stdout",
     "output_type": "stream",
     "text": [
      "       1990  1991  1992  1993  1994  1995  1996  1997  1998  1999  ...  2007  \\\n",
      "South  1077  1186  1310  1444  1650  1847  2055  2244  2153  2393  ...  4031   \n",
      "North   277   263   247   221   231   230   213   193   170   186  ...   236   \n",
      "\n",
      "       2008  2009  2010  2011  2012  2013  2014  2015  2016  \n",
      "South  4224  4336  4747  4969  5096  5171  5220  5281  5404  \n",
      "North   255   235   237   211   215   221   216   190   239  \n",
      "\n",
      "[2 rows x 27 columns]\n"
     ]
    }
   ],
   "source": [
    "# 행 인덱스 변경\n",
    "df_ns.index = ['South', 'North']\n",
    "print(df_ns)"
   ]
  },
  {
   "cell_type": "code",
   "execution_count": 51,
   "id": "65b90c52",
   "metadata": {},
   "outputs": [
    {
     "name": "stdout",
     "output_type": "stream",
     "text": [
      "       1990  1991  1992  1993  1994  1995  1996  1997  1998  1999  ...  2007  \\\n",
      "South  1077  1186  1310  1444  1650  1847  2055  2244  2153  2393  ...  4031   \n",
      "North   277   263   247   221   231   230   213   193   170   186  ...   236   \n",
      "\n",
      "       2008  2009  2010  2011  2012  2013  2014  2015  2016  \n",
      "South  4224  4336  4747  4969  5096  5171  5220  5281  5404  \n",
      "North   255   235   237   211   215   221   216   190   239  \n",
      "\n",
      "[2 rows x 27 columns]\n"
     ]
    }
   ],
   "source": [
    "# 열 이름의 자료형을 정수형으로 변경\n",
    "df_ns.cloumns = df_ns.columns.map(int)\n",
    "print(df_ns)"
   ]
  },
  {
   "cell_type": "code",
   "execution_count": 53,
   "id": "3861f303",
   "metadata": {},
   "outputs": [
    {
     "name": "stdout",
     "output_type": "stream",
     "text": [
      "AxesSubplot(0.125,0.125;0.775x0.755)\n"
     ]
    },
    {
     "data": {
      "image/png": "[encoded data removed]",
      "text/plain": [
       "<Figure size 432x288 with 1 Axes>"
      ]
     },
     "metadata": {
      "needs_background": "light"
     },
     "output_type": "display_data"
    }
   ],
   "source": [
    "# 선 그래프 그리기\n",
    "print(df_ns.plot())"
   ]
  },
  {
   "cell_type": "markdown",
   "id": "727d3b84",
   "metadata": {},
   "source": [
    "- 원하는 그래프가 안나옴: 기준이 연도가 됨\n",
    "- 원하는 그래프: x축에 연도, y축에 발전량 합계, 선은 북한과 남한으로 색다르게 표현"
   ]
  },
  {
   "cell_type": "markdown",
   "id": "2a81ac03",
   "metadata": {},
   "source": [
    "- 시간의 흐름에 따른 연도별 발전량 변화 추이를 보기 위해서는 연도 값을 x축에 표시하는 것이 적절"
   ]
  },
  {
   "cell_type": "markdown",
   "id": "c3916484",
   "metadata": {},
   "source": [
    "#### 연도 값이 행 인덱스에 위치하도록 행렬을 전치하여 데이터프레임을 제작"
   ]
  },
  {
   "cell_type": "code",
   "execution_count": 54,
   "id": "1caef45d",
   "metadata": {},
   "outputs": [
    {
     "name": "stdout",
     "output_type": "stream",
     "text": [
      "     South North\n",
      "1990  1077   277\n",
      "1991  1186   263\n",
      "1992  1310   247\n",
      "1993  1444   221\n",
      "1994  1650   231\n",
      "1995  1847   230\n",
      "1996  2055   213\n",
      "1997  2244   193\n",
      "1998  2153   170\n",
      "1999  2393   186\n",
      "2000  2664   194\n",
      "2001  2852   202\n",
      "2002  3065   190\n",
      "2003  3225   196\n",
      "2004  3421   206\n",
      "2005  3646   215\n",
      "2006  3812   225\n",
      "2007  4031   236\n",
      "2008  4224   255\n",
      "2009  4336   235\n",
      "2010  4747   237\n",
      "2011  4969   211\n",
      "2012  5096   215\n",
      "2013  5171   221\n",
      "2014  5220   216\n",
      "2015  5281   190\n",
      "2016  5404   239\n"
     ]
    }
   ],
   "source": [
    "# 행, 열 전치하여 다시그리기 'T' 사용\n",
    "tdf_ns = df_ns.T\n",
    "print(tdf_ns)"
   ]
  },
  {
   "cell_type": "code",
   "execution_count": 55,
   "id": "4c7a55cf",
   "metadata": {},
   "outputs": [
    {
     "name": "stdout",
     "output_type": "stream",
     "text": [
      "AxesSubplot(0.125,0.125;0.775x0.755)\n"
     ]
    },
    {
     "data": {
      "image/png": "[encoded data removed]",
      "text/plain": [
       "<Figure size 432x288 with 1 Axes>"
      ]
     },
     "metadata": {
      "needs_background": "light"
     },
     "output_type": "display_data"
    }
   ],
   "source": [
    "print(tdf_ns.plot())"
   ]
  },
  {
   "cell_type": "markdown",
   "id": "5ddaab92",
   "metadata": {},
   "source": [
    "---\n",
    "## 막대그래프\n",
    "- plot() 함수로 선 그래프가 아닌 다른 종류의 그래프를 그리려면 kind 옵션에 그래프 종류를 지정<br>\n",
    " - kind = \"bar\"<Br>\n",
    "    `막대 그래프: DataFrame객체.plot(kind=\"bar\")`"
   ]
  },
  {
   "cell_type": "code",
   "execution_count": 57,
   "id": "bee0a937",
   "metadata": {},
   "outputs": [
    {
     "name": "stdout",
     "output_type": "stream",
     "text": [
      "     South North\n",
      "1990  1077   277\n",
      "1991  1186   263\n",
      "1992  1310   247\n",
      "1993  1444   221\n",
      "1994  1650   231\n"
     ]
    },
    {
     "name": "stderr",
     "output_type": "stream",
     "text": [
      "C:\\Users\\user\\AppData\\Local\\Temp/ipykernel_18540/2766833522.py:12: UserWarning: Pandas doesn't allow columns to be created via a new attribute name - see https://pandas.pydata.org/pandas-docs/stable/indexing.html#attribute-access\n",
      "  df_ns.cloumns = df_ns.columns.map(int)\n"
     ]
    }
   ],
   "source": [
    "import pandas as pd\n",
    "\n",
    "df = pd.read_excel(\"./남북한발전전력량.xlsx\", engine='openpyxl') # engine 옵션은 안되는 사람들 있으면 되게하기위해 사용\n",
    "\n",
    "# 남북한 발전량 합계 데이터를 추출\n",
    "df_ns = df.iloc[[0, 5], 2:]\n",
    "\n",
    "# 행 인덱스 변경\n",
    "df_ns.index = ['South', 'North']\n",
    "\n",
    "# 열 이름의 자료형을 정수형으로 변경\n",
    "df_ns.cloumns = df_ns.columns.map(int)\n",
    "\n",
    "# 행, 열 전치하여 다시그리기 'T' 사용\n",
    "tdf_ns = df_ns.T\n",
    "print(tdf_ns.head())"
   ]
  },
  {
   "cell_type": "code",
   "execution_count": 58,
   "id": "0def76f4",
   "metadata": {},
   "outputs": [
    {
     "name": "stdout",
     "output_type": "stream",
     "text": [
      "AxesSubplot(0.125,0.125;0.775x0.755)\n"
     ]
    },
    {
     "data": {
      "image/png": "[encoded data removed]",
      "text/plain": [
       "<Figure size 432x288 with 1 Axes>"
      ]
     },
     "metadata": {
      "needs_background": "light"
     },
     "output_type": "display_data"
    }
   ],
   "source": [
    "print(tdf_ns.plot(kind=\"bar\"))"
   ]
  },
  {
   "cell_type": "markdown",
   "id": "ceb2c601",
   "metadata": {},
   "source": [
    "---\n",
    "## 히스토그램\n",
    "- 빈도와 관련\n",
    "- `히스토그램 : DataFrame객체.plot(kind=\"hist\")`"
   ]
  },
  {
   "cell_type": "code",
   "execution_count": null,
   "id": "a5b3fd4a",
   "metadata": {},
   "outputs": [],
   "source": [
    "import pandas as pd\n",
    "\n",
    "df = pd.read_excel(\"./남북한발전전력량.xlsx\", engine='openpyxl') # engine 옵션은 안되는 사람들 있으면 되게하기위해 사용\n",
    "\n",
    "# 남북한 발전량 합계 데이터를 추출\n",
    "df_ns = df.iloc[[0, 5], 2:]\n",
    "\n",
    "# 행 인덱스 변경\n",
    "df_ns.index = ['South', 'North']\n",
    "\n",
    "# 열 이름의 자료형을 정수형으로 변경\n",
    "df_ns.cloumns = df_ns.columns.map(int)\n",
    "\n",
    "# 행, 열 전치하여 다시그리기 'T' 사용\n",
    "tdf_ns = df_ns.T\n",
    "print(tdf_ns.head())"
   ]
  },
  {
   "cell_type": "code",
   "execution_count": 59,
   "id": "0c081159",
   "metadata": {},
   "outputs": [
    {
     "name": "stdout",
     "output_type": "stream",
     "text": [
      "AxesSubplot(0.125,0.125;0.775x0.755)\n"
     ]
    },
    {
     "data": {
      "image/png": "[encoded data removed]",
      "text/plain": [
       "<Figure size 432x288 with 1 Axes>"
      ]
     },
     "metadata": {
      "needs_background": "light"
     },
     "output_type": "display_data"
    }
   ],
   "source": [
    "print(tdf_ns.plot(kind=\"hist\"))"
   ]
  },
  {
   "cell_type": "markdown",
   "id": "00caffb4",
   "metadata": {},
   "source": [
    "---\n",
    "## 산점도\n",
    "- 자동차 연비 데이터셋을 이용하여 두 변수의 관계를 나타내는 산점도 제작\n",
    "\n",
    "코드 항목\n",
    "1. plot() 함수에 kind=\"scatter\" 옵션 추가\n",
    "2. 데이터프레임의 열 중에서 서로 비교할 두 변수를 선택\n",
    "- x축에 차량 무게인 'weight' 열을 지정\n",
    "- y축에는 연비인 'mpg' 열을 지정"
   ]
  },
  {
   "cell_type": "code",
   "execution_count": 61,
   "id": "ddfd6a81",
   "metadata": {},
   "outputs": [],
   "source": [
    "import pandas as pd\n",
    "\n",
    "# read_csv() 함수로 df 생성, 현재 파일은 헤더가 없으므로 옵션(header=None)을 붙여주어 맨 윗줄이 컬럼이 되지않게\n",
    "df = pd.read_csv('./auto-mpg.csv', header=None)\n",
    "\n",
    "# print(df)\n",
    "\n",
    "# 열이름 지정\n",
    "df.columns = ['mpg', 'cylinders', 'displacement', 'horsepower', 'weight', 'acceleration', 'model year', 'origin', 'name']"
   ]
  },
  {
   "cell_type": "code",
   "execution_count": 62,
   "id": "d751292a",
   "metadata": {},
   "outputs": [
    {
     "data": {
      "text/plain": [
       "<AxesSubplot:xlabel='weight', ylabel='mpg'>"
      ]
     },
     "execution_count": 62,
     "metadata": {},
     "output_type": "execute_result"
    },
    {
     "data": {
      "image/png": "[encoded data removed]",
      "text/plain": [
       "<Figure size 432x288 with 1 Axes>"
      ]
     },
     "metadata": {
      "needs_background": "light"
     },
     "output_type": "display_data"
    }
   ],
   "source": [
    "# 2개의 열을 선택하여 산점도 그리기\n",
    "df.plot(x = 'weight', y = 'mpg', kind='scatter')"
   ]
  },
  {
   "cell_type": "markdown",
   "id": "b1089661",
   "metadata": {},
   "source": [
    "## 박스 플롯 예제"
   ]
  },
  {
   "cell_type": "code",
   "execution_count": 63,
   "id": "75ba4b4c",
   "metadata": {},
   "outputs": [],
   "source": [
    "import pandas as pd\n",
    "\n",
    "# read_csv() 함수로 df 생성, 현재 파일은 헤더가 없으므로 옵션(header=None)을 붙여주어 맨 윗줄이 컬럼이 되지않게\n",
    "df = pd.read_csv('./auto-mpg.csv', header=None)\n",
    "\n",
    "# print(df)\n",
    "\n",
    "# 열이름 지정\n",
    "df.columns = ['mpg', 'cylinders', 'displacement', 'horsepower', 'weight', 'acceleration', 'model year', 'origin', 'name']"
   ]
  },
  {
   "cell_type": "code",
   "execution_count": 66,
   "id": "09fa9ba3",
   "metadata": {},
   "outputs": [
    {
     "name": "stdout",
     "output_type": "stream",
     "text": [
      "    mpg  cylinders\n",
      "0  18.0          8\n",
      "1  15.0          8\n",
      "2  18.0          8\n",
      "3  16.0          8\n",
      "4  17.0          8\n"
     ]
    }
   ],
   "source": [
    "print(df[['mpg', 'cylinders']].head())"
   ]
  },
  {
   "cell_type": "code",
   "execution_count": 67,
   "id": "0f35889a",
   "metadata": {},
   "outputs": [
    {
     "data": {
      "text/plain": [
       "<AxesSubplot:>"
      ]
     },
     "execution_count": 67,
     "metadata": {},
     "output_type": "execute_result"
    },
    {
     "data": {
      "image/png": "[encoded data removed]",
      "text/plain": [
       "<Figure size 432x288 with 1 Axes>"
      ]
     },
     "metadata": {
      "needs_background": "light"
     },
     "output_type": "display_data"
    }
   ],
   "source": [
    "df[['mpg', 'cylinders']].plot(kind = 'box')"
   ]
  },
  {
   "cell_type": "markdown",
   "id": "b8acc165",
   "metadata": {},
   "source": [
    "- mpg에 맨 위에 원은 수치에서 벗어난 수를 표현\n",
    "- 박스플롯 최상단은 최댓값 max를 의미\n",
    "- 박스의 윗부분은 분위수(75%)를 의미\n",
    "- 박스의 가운데 부분은 중간값(50%)를 의미\n",
    "- 박스의 아랫부분은 분위수(25%)를 의미\n",
    "- 박스플롯 최하단은 최솟값 min을 의미\n",
    "<br><br>\n",
    "- cylinders 의 박스플롯\n",
    " - 최대값 == 분위수 75%\n",
    " - 중간값 == 분위수 25%"
   ]
  },
  {
   "cell_type": "markdown",
   "id": "9ff4e576",
   "metadata": {},
   "source": [
    "---\n",
    "# Matplotlib - 기본 그래프 도구\n",
    "- 시각화 도구를 사용하면 다양한 종류의 데이터 분석 가능\n",
    " - 데이터에는 수천, 수만 개를 넘기는 경우가 많음\n",
    "- 그래프를 이용하면 데이터의 구조와 패턴을 파악하기가 용이\n",
    "- 다양한 관점에서 데이터에 관한 통찰력 제공\n",
    "- 판다스는 데이터 시각화를 지원하는 내장 기능이 존재하지만 풍부하진 않음\n",
    " - 그러므로 다른 시각화 도구와 함께 사용하는 것을 추천"
   ]
  },
  {
   "cell_type": "markdown",
   "id": "48b84435",
   "metadata": {},
   "source": [
    "# Matplotlib\n",
    "- 2D 평면 그래프에 관한 다양한 포맷과 기능을 지원\n",
    "- 그래프 요소를 세세하게 꾸미기 가능"
   ]
  },
  {
   "cell_type": "markdown",
   "id": "ec034f9a",
   "metadata": {},
   "source": [
    "## 선그래프\n",
    "- 선 그래프(line plot)는 연속하는 데이터 값들을 직선 또는 곡선으로 연결하여 데이터 값 사이의 관계를 표현\n",
    "- 시계열 데이터와 같이 연속적인 값의 변화와 패턴을 파악하는데 적합\n"
   ]
  },
  {
   "cell_type": "code",
   "execution_count": 90,
   "id": "4a41681f",
   "metadata": {},
   "outputs": [],
   "source": [
    "import pandas as pd\n",
    "\n",
    "# 데이터 시각화에 사용할 matplotlib.pyplot 모듈을 import\n",
    "import matplotlib.pyplot as plt\n",
    "\n",
    "# 시각화 전 엑셀데이터를 데이터프레임으로 변환\n",
    "# header = 0 첫 열을 헤더로 사용하겠단 뜻, header = None은 맨위행 첫줄 없앤다는 뜻 과 다름\n",
    "df = pd.read_excel(\"./시도별 전출입 인구수.xlsx\", engine = \"openpyxl\", header = 0) "
   ]
  },
  {
   "cell_type": "code",
   "execution_count": 91,
   "id": "475f40ee",
   "metadata": {
    "scrolled": true
   },
   "outputs": [
    {
     "data": {
      "text/html": [
       "<div>\n",
       "<style scoped>\n",
       "    .dataframe tbody tr th:only-of-type {\n",
       "        vertical-align: middle;\n",
       "    }\n",
       "\n",
       "    .dataframe tbody tr th {\n",
       "        vertical-align: top;\n",
       "    }\n",
       "\n",
       "    .dataframe thead th {\n",
       "        text-align: right;\n",
       "    }\n",
       "</style>\n",
       "<table border=\"1\" class=\"dataframe\">\n",
       "  <thead>\n",
       "    <tr style=\"text-align: right;\">\n",
       "      <th></th>\n",
       "      <th>전출지별</th>\n",
       "      <th>전입지별</th>\n",
       "      <th>1970</th>\n",
       "      <th>1971</th>\n",
       "      <th>1972</th>\n",
       "      <th>1973</th>\n",
       "      <th>1974</th>\n",
       "      <th>1975</th>\n",
       "      <th>1976</th>\n",
       "      <th>1977</th>\n",
       "      <th>...</th>\n",
       "      <th>2008</th>\n",
       "      <th>2009</th>\n",
       "      <th>2010</th>\n",
       "      <th>2011</th>\n",
       "      <th>2012</th>\n",
       "      <th>2013</th>\n",
       "      <th>2014</th>\n",
       "      <th>2015</th>\n",
       "      <th>2016</th>\n",
       "      <th>2017</th>\n",
       "    </tr>\n",
       "  </thead>\n",
       "  <tbody>\n",
       "    <tr>\n",
       "      <th>0</th>\n",
       "      <td>전출지별</td>\n",
       "      <td>전입지별</td>\n",
       "      <td>이동자수 (명)</td>\n",
       "      <td>이동자수 (명)</td>\n",
       "      <td>이동자수 (명)</td>\n",
       "      <td>이동자수 (명)</td>\n",
       "      <td>이동자수 (명)</td>\n",
       "      <td>이동자수 (명)</td>\n",
       "      <td>이동자수 (명)</td>\n",
       "      <td>이동자수 (명)</td>\n",
       "      <td>...</td>\n",
       "      <td>이동자수 (명)</td>\n",
       "      <td>이동자수 (명)</td>\n",
       "      <td>이동자수 (명)</td>\n",
       "      <td>이동자수 (명)</td>\n",
       "      <td>이동자수 (명)</td>\n",
       "      <td>이동자수 (명)</td>\n",
       "      <td>이동자수 (명)</td>\n",
       "      <td>이동자수 (명)</td>\n",
       "      <td>이동자수 (명)</td>\n",
       "      <td>이동자수 (명)</td>\n",
       "    </tr>\n",
       "    <tr>\n",
       "      <th>1</th>\n",
       "      <td>전국</td>\n",
       "      <td>전국</td>\n",
       "      <td>4046536</td>\n",
       "      <td>4210164</td>\n",
       "      <td>3687938</td>\n",
       "      <td>4860418</td>\n",
       "      <td>5297969</td>\n",
       "      <td>9011440</td>\n",
       "      <td>6773250</td>\n",
       "      <td>7397623</td>\n",
       "      <td>...</td>\n",
       "      <td>8808256</td>\n",
       "      <td>8487275</td>\n",
       "      <td>8226594</td>\n",
       "      <td>8127195</td>\n",
       "      <td>7506691</td>\n",
       "      <td>7411784</td>\n",
       "      <td>7629098</td>\n",
       "      <td>7755286</td>\n",
       "      <td>7378430</td>\n",
       "      <td>7154226</td>\n",
       "    </tr>\n",
       "    <tr>\n",
       "      <th>2</th>\n",
       "      <td>NaN</td>\n",
       "      <td>서울특별시</td>\n",
       "      <td>1742813</td>\n",
       "      <td>1671705</td>\n",
       "      <td>1349333</td>\n",
       "      <td>1831858</td>\n",
       "      <td>2050392</td>\n",
       "      <td>3396662</td>\n",
       "      <td>2756510</td>\n",
       "      <td>2893403</td>\n",
       "      <td>...</td>\n",
       "      <td>2025358</td>\n",
       "      <td>1873188</td>\n",
       "      <td>1733015</td>\n",
       "      <td>1721748</td>\n",
       "      <td>1555281</td>\n",
       "      <td>1520090</td>\n",
       "      <td>1573594</td>\n",
       "      <td>1589431</td>\n",
       "      <td>1515602</td>\n",
       "      <td>1472937</td>\n",
       "    </tr>\n",
       "    <tr>\n",
       "      <th>3</th>\n",
       "      <td>NaN</td>\n",
       "      <td>부산광역시</td>\n",
       "      <td>448577</td>\n",
       "      <td>389797</td>\n",
       "      <td>362202</td>\n",
       "      <td>482061</td>\n",
       "      <td>680984</td>\n",
       "      <td>805979</td>\n",
       "      <td>724664</td>\n",
       "      <td>785117</td>\n",
       "      <td>...</td>\n",
       "      <td>514502</td>\n",
       "      <td>519310</td>\n",
       "      <td>519334</td>\n",
       "      <td>508043</td>\n",
       "      <td>461042</td>\n",
       "      <td>478451</td>\n",
       "      <td>485710</td>\n",
       "      <td>507031</td>\n",
       "      <td>459015</td>\n",
       "      <td>439073</td>\n",
       "    </tr>\n",
       "    <tr>\n",
       "      <th>4</th>\n",
       "      <td>NaN</td>\n",
       "      <td>대구광역시</td>\n",
       "      <td>-</td>\n",
       "      <td>-</td>\n",
       "      <td>-</td>\n",
       "      <td>-</td>\n",
       "      <td>-</td>\n",
       "      <td>-</td>\n",
       "      <td>-</td>\n",
       "      <td>-</td>\n",
       "      <td>...</td>\n",
       "      <td>409938</td>\n",
       "      <td>398626</td>\n",
       "      <td>370817</td>\n",
       "      <td>370563</td>\n",
       "      <td>348642</td>\n",
       "      <td>351873</td>\n",
       "      <td>350213</td>\n",
       "      <td>351424</td>\n",
       "      <td>328228</td>\n",
       "      <td>321182</td>\n",
       "    </tr>\n",
       "  </tbody>\n",
       "</table>\n",
       "<p>5 rows × 50 columns</p>\n",
       "</div>"
      ],
      "text/plain": [
       "   전출지별   전입지별      1970      1971      1972      1973      1974      1975  \\\n",
       "0  전출지별   전입지별  이동자수 (명)  이동자수 (명)  이동자수 (명)  이동자수 (명)  이동자수 (명)  이동자수 (명)   \n",
       "1    전국     전국   4046536   4210164   3687938   4860418   5297969   9011440   \n",
       "2   NaN  서울특별시   1742813   1671705   1349333   1831858   2050392   3396662   \n",
       "3   NaN  부산광역시    448577    389797    362202    482061    680984    805979   \n",
       "4   NaN  대구광역시         -         -         -         -         -         -   \n",
       "\n",
       "       1976      1977  ...      2008      2009      2010      2011      2012  \\\n",
       "0  이동자수 (명)  이동자수 (명)  ...  이동자수 (명)  이동자수 (명)  이동자수 (명)  이동자수 (명)  이동자수 (명)   \n",
       "1   6773250   7397623  ...   8808256   8487275   8226594   8127195   7506691   \n",
       "2   2756510   2893403  ...   2025358   1873188   1733015   1721748   1555281   \n",
       "3    724664    785117  ...    514502    519310    519334    508043    461042   \n",
       "4         -         -  ...    409938    398626    370817    370563    348642   \n",
       "\n",
       "       2013      2014      2015      2016      2017  \n",
       "0  이동자수 (명)  이동자수 (명)  이동자수 (명)  이동자수 (명)  이동자수 (명)  \n",
       "1   7411784   7629098   7755286   7378430   7154226  \n",
       "2   1520090   1573594   1589431   1515602   1472937  \n",
       "3    478451    485710    507031    459015    439073  \n",
       "4    351873    350213    351424    328228    321182  \n",
       "\n",
       "[5 rows x 50 columns]"
      ]
     },
     "execution_count": 91,
     "metadata": {},
     "output_type": "execute_result"
    }
   ],
   "source": [
    "df.head() # 확인용"
   ]
  },
  {
   "cell_type": "markdown",
   "id": "6ed39633",
   "metadata": {},
   "source": [
    "- '전출지별' 열에는 누락 데이터(NaN) 다수 존재\n",
    " - Excel 파일에서 병합된 셀을 데이터프레임으로 변환할 때 적절한 값을 찾지 못해 발생\n",
    " - method = 'ffill' 옵션을 사용하여 누락 데이터가 있는 행에 바로 앞에 위치한 데이터 값으로 채움\n",
    " - 3행의 NaN 값을 2행의 데이터('전국')로 대체 가능\n",
    " \n",
    " 우리가 만들 부분: 서울 -> 다른 지역\n",
    " 0. method = 'ffill'\n",
    " 1. 서울에서 다른 지역으로 이동한 데이터만 추출(A 열은 서울, B 열은 서울 X)\n",
    " 2. 전출지별 열 제거\n",
    " 3. '전입지별' 이름을 '전입지'로 변경\n",
    " 4. 전입지를 행 인덱스로 지정"
   ]
  },
  {
   "cell_type": "code",
   "execution_count": 119,
   "id": "34b3733f",
   "metadata": {
    "scrolled": true
   },
   "outputs": [
    {
     "name": "stdout",
     "output_type": "stream",
     "text": [
      "        전출지별     전입지별      1970      1971      1972      1973      1974  \\\n",
      "0       전출지별     전입지별  이동자수 (명)  이동자수 (명)  이동자수 (명)  이동자수 (명)  이동자수 (명)   \n",
      "1         전국       전국   4046536   4210164   3687938   4860418   5297969   \n",
      "2         전국    서울특별시   1742813   1671705   1349333   1831858   2050392   \n",
      "3         전국    부산광역시    448577    389797    362202    482061    680984   \n",
      "4         전국    대구광역시         -         -         -         -         -   \n",
      "..       ...      ...       ...       ...       ...       ...       ...   \n",
      "320  제주특별자치도     전라북도       139       202       141       210       219   \n",
      "321  제주특별자치도     전라남도       631       965       857       952      1133   \n",
      "322  제주특별자치도     경상북도       374       619       468       576       625   \n",
      "323  제주특별자치도     경상남도       474       479       440       571      1208   \n",
      "324  제주특별자치도  제주특별자치도      9290     12427     12210     16158     19580   \n",
      "\n",
      "         1975      1976      1977  ...      2008      2009      2010  \\\n",
      "0    이동자수 (명)  이동자수 (명)  이동자수 (명)  ...  이동자수 (명)  이동자수 (명)  이동자수 (명)   \n",
      "1     9011440   6773250   7397623  ...   8808256   8487275   8226594   \n",
      "2     3396662   2756510   2893403  ...   2025358   1873188   1733015   \n",
      "3      805979    724664    785117  ...    514502    519310    519334   \n",
      "4           -         -         -  ...    409938    398626    370817   \n",
      "..        ...       ...       ...  ...       ...       ...       ...   \n",
      "320       415       392       408  ...       668       579       672   \n",
      "321      2808      2608      2652  ...      1143      1123      1002   \n",
      "322      1123      1141      1004  ...       761       704       738   \n",
      "323      1517       863      1122  ...      1517      1474      1324   \n",
      "324     34221     23291     31028  ...     59564     55673     55507   \n",
      "\n",
      "         2011      2012      2013      2014      2015      2016      2017  \n",
      "0    이동자수 (명)  이동자수 (명)  이동자수 (명)  이동자수 (명)  이동자수 (명)  이동자수 (명)  이동자수 (명)  \n",
      "1     8127195   7506691   7411784   7629098   7755286   7378430   7154226  \n",
      "2     1721748   1555281   1520090   1573594   1589431   1515602   1472937  \n",
      "3      508043    461042    478451    485710    507031    459015    439073  \n",
      "4      370563    348642    351873    350213    351424    328228    321182  \n",
      "..        ...       ...       ...       ...       ...       ...       ...  \n",
      "320       561       551       516       609       683       733       768  \n",
      "321      1026       966      1001       928      1062      1127      1102  \n",
      "322       756       699       781       728       903       931       994  \n",
      "323      1367      1227      1278      1223      1500      1448      1501  \n",
      "324     59846     54280     60607     59673     59036     66444     63275  \n",
      "\n",
      "[325 rows x 50 columns]\n"
     ]
    }
   ],
   "source": [
    "import pandas as pd\n",
    "\n",
    "# 데이터 시각화에 사용할 matplotlib.pyplot 모듈을 import\n",
    "import matplotlib.pyplot as plt\n",
    "\n",
    "# 시각화 전 엑셀데이터를 데이터프레임으로 변환\n",
    "# header = 0 첫 열을 헤더로 사용하겠단 뜻, header = None은 맨위행 첫줄 없앤다는 뜻 과 다름\n",
    "df = pd.read_excel(\"./시도별 전출입 인구수.xlsx\", engine = \"openpyxl\", header = 0) \n",
    "\n",
    "# 누락값(NaN)을 앞 데이터로 채움(엑셀 양식 병합)\n",
    "df = df.fillna(method='ffill') # 옵션: 위에있는 값으로 채워주겠다.\n",
    "\n",
    "print(df)"
   ]
  },
  {
   "cell_type": "code",
   "execution_count": 120,
   "id": "2400d902",
   "metadata": {},
   "outputs": [
    {
     "name": "stdout",
     "output_type": "stream",
     "text": [
      "0      False\n",
      "1      False\n",
      "2      False\n",
      "3      False\n",
      "4      False\n",
      "       ...  \n",
      "320    False\n",
      "321    False\n",
      "322    False\n",
      "323    False\n",
      "324    False\n",
      "Length: 325, dtype: bool\n"
     ]
    }
   ],
   "source": [
    "# 서울에서 다른 지역으로 이동한 데이터만 추출\n",
    "mask = (df['전출지별'] == '서울특별시') & (df['전입지별'] != '서울특별시')\n",
    "\n",
    "print(mask)"
   ]
  },
  {
   "cell_type": "code",
   "execution_count": 121,
   "id": "3faf4471",
   "metadata": {
    "scrolled": true
   },
   "outputs": [
    {
     "name": "stdout",
     "output_type": "stream",
     "text": [
      "     전출지별     전입지별     1970     1971     1972     1973     1974     1975  \\\n",
      "19  서울특별시       전국  1448985  1419016  1210559  1647268  1819660  2937093   \n",
      "21  서울특별시    부산광역시    11568    11130    11768    16307    22220    27515   \n",
      "22  서울특별시    대구광역시        -        -        -        -        -        -   \n",
      "23  서울특별시    인천광역시        -        -        -        -        -        -   \n",
      "24  서울특별시    광주광역시        -        -        -        -        -        -   \n",
      "25  서울특별시    대전광역시        -        -        -        -        -        -   \n",
      "26  서울특별시    울산광역시        -        -        -        -        -        -   \n",
      "27  서울특별시  세종특별자치시        -        -        -        -        -        -   \n",
      "28  서울특별시      경기도   130149   150313    93333   143234   149045   253705   \n",
      "29  서울특별시      강원도     9352    12885    13561    16481    15479    27837   \n",
      "30  서울특별시     충청북도     6700     9457    10853    12617    11786    21073   \n",
      "31  서울특별시     충청남도    15954    18943    23406    27139    25509    51205   \n",
      "32  서울특별시     전라북도    10814    13192    16583    18642    16647    34411   \n",
      "33  서울특별시     전라남도    10513    16755    20157    22160    21314    46610   \n",
      "34  서울특별시     경상북도    11868    16459    22073    27531    26902    46177   \n",
      "35  서울특별시     경상남도     8409    10001    11263    15193    16771    23150   \n",
      "36  서울특별시  제주특별자치도     1039     1325     1617     2456     2261     3440   \n",
      "\n",
      "       1976     1977  ...     2008     2009     2010     2011     2012  \\\n",
      "19  2495620  2678007  ...  2083352  1925452  1848038  1834806  1658928   \n",
      "21    23732    27213  ...    17353    17738    17418    18816    16135   \n",
      "22        -        -  ...     9720    10464    10277    10397    10135   \n",
      "23        -        -  ...    50493    45392    46082    51641    49640   \n",
      "24        -        -  ...    10846    11725    11095    10587    10154   \n",
      "25        -        -  ...    13515    13632    13819    13900    14080   \n",
      "26        -        -  ...     5057     4845     4742     5188     5691   \n",
      "27        -        -  ...        -        -        -        -     2998   \n",
      "28   202276   207722  ...   412408   398282   410735   373771   354135   \n",
      "29    25927    25415  ...    23668    23331    22736    23624    22332   \n",
      "30    18029    17478  ...    15294    15295    15461    15318    14555   \n",
      "31    41447    43993  ...    27458    24889    24522    24723    22269   \n",
      "32    29835    28444  ...    18390    18332    17569    17755    16120   \n",
      "33    46251    43430  ...    16601    17468    16429    15974    14765   \n",
      "34    40376    41155  ...    15425    16569    16042    15818    15191   \n",
      "35    22400    27393  ...    15438    15303    15689    16039    14474   \n",
      "36     3623     3551  ...     5473     5332     5714     6133     6954   \n",
      "\n",
      "       2013     2014     2015     2016     2017  \n",
      "19  1620640  1661425  1726687  1655859  1571423  \n",
      "21    16153    17320    17009    15062    14484  \n",
      "22    10631    10062    10191     9623     8891  \n",
      "23    47424    43212    44915    43745    40485  \n",
      "24     9129     9759     9216     8354     7932  \n",
      "25    13440    13403    13453    12619    11815  \n",
      "26     5542     6047     5950     5102     4260  \n",
      "27     2851     6481     7550     5943     5813  \n",
      "28   340801   332785   359337   370760   342433  \n",
      "29    20601    21173    22659    21590    21016  \n",
      "30    13783    14244    14379    14087    13302  \n",
      "31    21486    21473    22299    21741    21020  \n",
      "32    14909    14566    14835    13835    13179  \n",
      "33    14187    14591    14598    13065    12426  \n",
      "34    14420    14456    15113    14236    12464  \n",
      "35    14447    14799    15220    13717    12692  \n",
      "36     7828     9031    10434    10465    10404  \n",
      "\n",
      "[17 rows x 50 columns]\n"
     ]
    }
   ],
   "source": [
    "df_seoul = df[mask] # True인 값만 요약해서 변수로 기입\n",
    "print(df_seoul)"
   ]
  },
  {
   "cell_type": "code",
   "execution_count": 122,
   "id": "a8e90c11",
   "metadata": {},
   "outputs": [],
   "source": [
    "df_seoul = df_seoul.drop(['전출지별'], axis=1)"
   ]
  },
  {
   "cell_type": "code",
   "execution_count": 123,
   "id": "66e584cb",
   "metadata": {},
   "outputs": [],
   "source": [
    "df_seoul.rename({'전입지별':'전입지'}, axis=1, inplace=True)"
   ]
  },
  {
   "cell_type": "code",
   "execution_count": 124,
   "id": "b74b6e65",
   "metadata": {},
   "outputs": [],
   "source": [
    "df_seoul.set_index('전입지', inplace=True)"
   ]
  },
  {
   "cell_type": "code",
   "execution_count": 117,
   "id": "8b774ba3",
   "metadata": {
    "scrolled": true
   },
   "outputs": [
    {
     "name": "stdout",
     "output_type": "stream",
     "text": [
      "            1970     1971     1972     1973     1974     1975     1976  \\\n",
      "전입지                                                                      \n",
      "전국       1448985  1419016  1210559  1647268  1819660  2937093  2495620   \n",
      "부산광역시      11568    11130    11768    16307    22220    27515    23732   \n",
      "대구광역시          -        -        -        -        -        -        -   \n",
      "인천광역시          -        -        -        -        -        -        -   \n",
      "광주광역시          -        -        -        -        -        -        -   \n",
      "대전광역시          -        -        -        -        -        -        -   \n",
      "울산광역시          -        -        -        -        -        -        -   \n",
      "세종특별자치시        -        -        -        -        -        -        -   \n",
      "경기도       130149   150313    93333   143234   149045   253705   202276   \n",
      "강원도         9352    12885    13561    16481    15479    27837    25927   \n",
      "충청북도        6700     9457    10853    12617    11786    21073    18029   \n",
      "충청남도       15954    18943    23406    27139    25509    51205    41447   \n",
      "전라북도       10814    13192    16583    18642    16647    34411    29835   \n",
      "전라남도       10513    16755    20157    22160    21314    46610    46251   \n",
      "경상북도       11868    16459    22073    27531    26902    46177    40376   \n",
      "경상남도        8409    10001    11263    15193    16771    23150    22400   \n",
      "제주특별자치도     1039     1325     1617     2456     2261     3440     3623   \n",
      "\n",
      "            1977     1978     1979  ...     2008     2009     2010     2011  \\\n",
      "전입지                                 ...                                       \n",
      "전국       2678007  3028911  2441242  ...  2083352  1925452  1848038  1834806   \n",
      "부산광역시      27213    29856    28542  ...    17353    17738    17418    18816   \n",
      "대구광역시          -        -        -  ...     9720    10464    10277    10397   \n",
      "인천광역시          -        -        -  ...    50493    45392    46082    51641   \n",
      "광주광역시          -        -        -  ...    10846    11725    11095    10587   \n",
      "대전광역시          -        -        -  ...    13515    13632    13819    13900   \n",
      "울산광역시          -        -        -  ...     5057     4845     4742     5188   \n",
      "세종특별자치시        -        -        -  ...        -        -        -        -   \n",
      "경기도       207722   237684   278411  ...   412408   398282   410735   373771   \n",
      "강원도        25415    26700    27599  ...    23668    23331    22736    23624   \n",
      "충청북도       17478    18420    20047  ...    15294    15295    15461    15318   \n",
      "충청남도       43993    48091    45388  ...    27458    24889    24522    24723   \n",
      "전라북도       28444    29676    31570  ...    18390    18332    17569    17755   \n",
      "전라남도       43430    44624    47934  ...    16601    17468    16429    15974   \n",
      "경상북도       41155    42940    43565  ...    15425    16569    16042    15818   \n",
      "경상남도       27393    28697    30183  ...    15438    15303    15689    16039   \n",
      "제주특별자치도     3551     3937     4261  ...     5473     5332     5714     6133   \n",
      "\n",
      "            2012     2013     2014     2015     2016     2017  \n",
      "전입지                                                            \n",
      "전국       1658928  1620640  1661425  1726687  1655859  1571423  \n",
      "부산광역시      16135    16153    17320    17009    15062    14484  \n",
      "대구광역시      10135    10631    10062    10191     9623     8891  \n",
      "인천광역시      49640    47424    43212    44915    43745    40485  \n",
      "광주광역시      10154     9129     9759     9216     8354     7932  \n",
      "대전광역시      14080    13440    13403    13453    12619    11815  \n",
      "울산광역시       5691     5542     6047     5950     5102     4260  \n",
      "세종특별자치시     2998     2851     6481     7550     5943     5813  \n",
      "경기도       354135   340801   332785   359337   370760   342433  \n",
      "강원도        22332    20601    21173    22659    21590    21016  \n",
      "충청북도       14555    13783    14244    14379    14087    13302  \n",
      "충청남도       22269    21486    21473    22299    21741    21020  \n",
      "전라북도       16120    14909    14566    14835    13835    13179  \n",
      "전라남도       14765    14187    14591    14598    13065    12426  \n",
      "경상북도       15191    14420    14456    15113    14236    12464  \n",
      "경상남도       14474    14447    14799    15220    13717    12692  \n",
      "제주특별자치도     6954     7828     9031    10434    10465    10404  \n",
      "\n",
      "[17 rows x 48 columns]\n"
     ]
    }
   ],
   "source": [
    "print(df_seoul)"
   ]
  },
  {
   "cell_type": "markdown",
   "id": "3c8b1a5f",
   "metadata": {},
   "source": [
    "#### 선 그래프 예제(서울 -> 경기)"
   ]
  },
  {
   "cell_type": "code",
   "execution_count": 126,
   "id": "9feec993",
   "metadata": {},
   "outputs": [],
   "source": [
    "# 서울에서 경기도로 이동한 인구 데이터 값만 선택\n",
    "df_g = df_seoul.loc['경기도']"
   ]
  },
  {
   "cell_type": "code",
   "execution_count": 128,
   "id": "02128e9f",
   "metadata": {},
   "outputs": [
    {
     "name": "stdout",
     "output_type": "stream",
     "text": [
      "1970    130149\n",
      "1971    150313\n",
      "1972     93333\n",
      "1973    143234\n",
      "1974    149045\n",
      "Name: 경기도, dtype: object\n"
     ]
    }
   ],
   "source": [
    "print(df_g.head())"
   ]
  },
  {
   "cell_type": "code",
   "execution_count": 133,
   "id": "8a3c55ed",
   "metadata": {
    "scrolled": true
   },
   "outputs": [
    {
     "data": {
      "text/plain": [
       "[<matplotlib.lines.Line2D at 0x1fc15e4f550>]"
      ]
     },
     "execution_count": 133,
     "metadata": {},
     "output_type": "execute_result"
    },
    {
     "data": {
      "image/png": "[encoded data removed]",
      "text/plain": [
       "<Figure size 432x288 with 1 Axes>"
      ]
     },
     "metadata": {
      "needs_background": "light"
     },
     "output_type": "display_data"
    }
   ],
   "source": [
    "# x, y축 데이터를 plot() 함수에 x,y 값 직접 입력\n",
    "plt.plot(df_g.index, df_g.values) # 형식 plt.plot(x축값, y축값)"
   ]
  },
  {
   "cell_type": "code",
   "execution_count": 131,
   "id": "03562fc9",
   "metadata": {},
   "outputs": [
    {
     "data": {
      "text/plain": [
       "[<matplotlib.lines.Line2D at 0x1fc15db1fd0>]"
      ]
     },
     "execution_count": 131,
     "metadata": {},
     "output_type": "execute_result"
    },
    {
     "data": {
      "image/png": "[encoded data removed]",
      "text/plain": [
       "<Figure size 432x288 with 1 Axes>"
      ]
     },
     "metadata": {
      "needs_background": "light"
     },
     "output_type": "display_data"
    }
   ],
   "source": [
    "# 판다스 객체를 plot() 함수에 입력\n",
    "plt.plot(df_g)"
   ]
  },
  {
   "cell_type": "markdown",
   "id": "6a810c95",
   "metadata": {},
   "source": [
    "### 차트 제목 , 축 이름 추가\n",
    "- 그래프 객체에 차트 제목을 추가할 때는 title() 함수 사용\n",
    "- x축 이름은 xlabel() 함수 사용\n",
    "- y축 이름은 ylabel() 함수 사용"
   ]
  },
  {
   "cell_type": "markdown",
   "id": "99020dc9",
   "metadata": {},
   "source": [
    "차트 제목, 축 이름 추가 예제"
   ]
  },
  {
   "cell_type": "code",
   "execution_count": 150,
   "id": "317cf1b7",
   "metadata": {
    "scrolled": true
   },
   "outputs": [
    {
     "data": {
      "image/png": "[encoded data removed]",
      "text/plain": [
       "<Figure size 432x288 with 1 Axes>"
      ]
     },
     "metadata": {
      "needs_background": "light"
     },
     "output_type": "display_data"
    }
   ],
   "source": [
    "# x, y축 데이터를 plot() 함수에 x,y 값 직접 입력\n",
    "plt.plot(df_g.index, df_g.values) # 형식 plt.plot(x축값, y축값)\n",
    "\n",
    "# 차트 제목 추가\n",
    "plt.title('서울 -> 경기 인구 이동')\n",
    "\n",
    "# 축 이름 추가\n",
    "plt.xlabel('기간')\n",
    "plt.ylabel('인구 이동수')\n",
    "\n",
    "# 차트를 시각화\n",
    "plt.show()"
   ]
  },
  {
   "cell_type": "markdown",
   "id": "444e30b6",
   "metadata": {},
   "source": [
    "### Matplotlib 한글 폰트 문제 해결\n",
    "- Matplotlib은 한글 폰트 지원 X\n",
    "- 파이썬 프로그램의 앞부분에 한글 폰트를 지정하는 코드 추가"
   ]
  },
  {
   "cell_type": "markdown",
   "id": "f8299274",
   "metadata": {},
   "source": [
    "폰트 오류 해결 예제"
   ]
  },
  {
   "cell_type": "code",
   "execution_count": 145,
   "id": "1e77d693",
   "metadata": {},
   "outputs": [],
   "source": [
    "# Matplotlib 한글 폰트 오류 문제 해결\n",
    "# font_manager는 경로와 이름을 가지고 폰트를 지정\n",
    "# rc는 폰트를 적용\n",
    "from matplotlib import font_manager, rc\n",
    "font_path = \"./malgun.ttf\"\n",
    "font_name = font_manager.FontProperties(fname=font_path).get_name()\n",
    "rc('font', family=font_name)\n",
    "\n",
    "# 위 그래프 다시 실행하면 적용됨"
   ]
  },
  {
   "cell_type": "markdown",
   "id": "f81705e7",
   "metadata": {},
   "source": [
    "### 그래프 꾸미기\n",
    "x축 눈금 라벨의 글씨가 서로 겹쳐 잘 보이지 않는 문제를 해결\n",
    "- 눈금 라벨이 들어갈 만한 충분한 여유 공간이 없기 때문에 발생하는 문제\n",
    "\n",
    "해결방법 2가지\n",
    "1. 공간을 만들기 위해 figure() 함수를 사용하여 그림틀의 가로 사이즈를 더 크게 설정\n",
    "2. xticks() 함수를 사용하여 x축 눈금 라벨을 반시계 방향으로 90도 회전하여 글씨가 겹치지 않게 하기"
   ]
  },
  {
   "cell_type": "code",
   "execution_count": 149,
   "id": "688c2ad2",
   "metadata": {},
   "outputs": [
    {
     "data": {
      "image/png": "[encoded data removed]",
      "text/plain": [
       "<Figure size 1008x360 with 1 Axes>"
      ]
     },
     "metadata": {
      "needs_background": "light"
     },
     "output_type": "display_data"
    }
   ],
   "source": [
    "import pandas as pd\n",
    "\n",
    "# 데이터 시각화에 사용할 matplotlib.pyplot 모듈을 import\n",
    "import matplotlib.pyplot as plt\n",
    "\n",
    "# 시각화 전 엑셀데이터를 데이터프레임으로 변환\n",
    "# header = 0 첫 열을 헤더로 사용하겠단 뜻, header = None은 맨위행 첫줄 없앤다는 뜻 과 다름\n",
    "df = pd.read_excel(\"./시도별 전출입 인구수.xlsx\", engine = \"openpyxl\", header = 0) \n",
    "\n",
    "# 누락값(NaN)을 앞 데이터로 채움(엑셀 양식 병합)\n",
    "df = df.fillna(method='ffill') # 옵션: 위에있는 값으로 채워주겠다.\n",
    "\n",
    "# 서울에서 다른 지역으로 이동한 데이터만 추출\n",
    "mask = (df['전출지별'] == '서울특별시') & (df['전입지별'] != '서울특별시')\n",
    "df_seoul = df[mask] # True인 값만 요약해서 변수로 기입\n",
    "df_seoul = df_seoul.drop(['전출지별'], axis=1)\n",
    "df_seoul.rename({'전입지별':'전입지'}, axis=1, inplace=True)\n",
    "df_seoul.set_index('전입지', inplace=True)\n",
    "\n",
    "# 그림 사이즈를 지정(가로 14인치, 세로 5인치)\n",
    "plt.figure(figsize=(14, 5))\n",
    "\n",
    "# x축 눈금 라벨 회전\n",
    "plt.xticks(rotation='vertical')\n",
    "\n",
    "# 서울에서 경기도로 이동한 인구 데이터 값만 선택\n",
    "df_g = df_seoul.loc['경기도']\n",
    "\n",
    "# x, y축 데이터를 plot() 함수에 x,y 값 직접 입력\n",
    "plt.plot(df_g.index, df_g.values) # 형식 plt.plot(x축값, y축값)\n",
    "\n",
    "# 차트 제목 추가\n",
    "plt.title('서울 -> 경기 인구 이동')\n",
    "\n",
    "# 축 이름 추가\n",
    "plt.xlabel('기간')\n",
    "plt.ylabel('인구 이동수')\n",
    "\n",
    "# 차트를 시각화\n",
    "plt.show()"
   ]
  },
  {
   "cell_type": "markdown",
   "id": "96b14150",
   "metadata": {},
   "source": [
    "- 글씨를 회전하기 위해 사용한 rotation='vertical' 옵션에 'vertical' 대신에 각도를 나타내는 숫자를 입력해도 됨\n",
    " - ex) rotation = 90 -> 반 시계 방향으로 90도 회전"
   ]
  },
  {
   "cell_type": "markdown",
   "id": "bf24d6e8",
   "metadata": {},
   "source": [
    "### matplotlib의 스타일 서식 지정\n",
    "- 색, 스타일 등 디자인적 요소를 사전에 지정된 스타일로 빠르게 변경 가능\n",
    " - 스타일 서식 지정하는 것은 matplotlib 실행 환경 설정을 변경하는 것이므로 다른 파일을 실행할 때도 계속 적용되는 점 유의\n",
    " - 예제에서는 'ggplot' 이라는 스타일 서식 사용\n",
    " - x축 눈금 라벨을 지정하는 xticks() 함수에 size = 10 옵션을 추가하여 폰트크기를 10으로 설정\n",
    " - plot() 함수에 marker = 'o' 옵션을 추가하면 원 모양의 점을 마커로 표시\n",
    " \n",
    " "
   ]
  },
  {
   "cell_type": "code",
   "execution_count": 160,
   "id": "18705959",
   "metadata": {},
   "outputs": [
    {
     "data": {
      "image/png": "[encoded data removed]",
      "text/plain": [
       "<Figure size 1008x360 with 1 Axes>"
      ]
     },
     "metadata": {},
     "output_type": "display_data"
    }
   ],
   "source": [
    "import pandas as pd\n",
    "\n",
    "# 데이터 시각화에 사용할 matplotlib.pyplot 모듈을 import\n",
    "import matplotlib.pyplot as plt\n",
    "\n",
    "# 시각화 전 엑셀데이터를 데이터프레임으로 변환\n",
    "# header = 0 첫 열을 헤더로 사용하겠단 뜻, header = None은 맨위행 첫줄 없앤다는 뜻 과 다름\n",
    "df = pd.read_excel(\"./시도별 전출입 인구수.xlsx\", engine = \"openpyxl\", header = 0) \n",
    "\n",
    "# 누락값(NaN)을 앞 데이터로 채움(엑셀 양식 병합)\n",
    "df = df.fillna(method='ffill') # 옵션: 위에있는 값으로 채워주겠다.\n",
    "\n",
    "# 서울에서 다른 지역으로 이동한 데이터만 추출\n",
    "mask = (df['전출지별'] == '서울특별시') & (df['전입지별'] != '서울특별시')\n",
    "df_seoul = df[mask] # True인 값만 요약해서 변수로 기입\n",
    "df_seoul = df_seoul.drop(['전출지별'], axis=1)\n",
    "df_seoul.rename({'전입지별':'전입지'}, axis=1, inplace=True)\n",
    "df_seoul.set_index('전입지', inplace=True)\n",
    "\n",
    "# 그림 사이즈를 지정(가로 14인치, 세로 5인치)\n",
    "plt.figure(figsize=(14, 5))\n",
    "\n",
    "# x축 눈금 라벨 회전\n",
    "plt.xticks(rotation='vertical')\n",
    "\n",
    "# 서울에서 경기도로 이동한 인구 데이터 값만 선택\n",
    "df_g = df_seoul.loc['경기도']\n",
    "\n",
    "# 스타일 서식 지정\n",
    "plt.style.use('ggplot')\n",
    "\n",
    "# x, y축 데이터를 plot() 함수에 x,y 값 직접 입력\n",
    "plt.plot(df_g.index, df_g.values, marker='o', markersize=10) # marker 옵션 추가\n",
    "\n",
    "# 차트 제목 추가\n",
    "plt.title('서울 -> 경기 인구 이동')\n",
    "\n",
    "# 축 이름 추가\n",
    "plt.xlabel('기간', size=20)\n",
    "plt.ylabel('인구 이동수', size=20)\n",
    "\n",
    "# 범례 추가\n",
    "plt.legend(labels=['서울 -> 경기'], loc='best', fontsize=15) # loc는 위치옵션\n",
    "\n",
    "# 차트를 시각화\n",
    "plt.show()"
   ]
  },
  {
   "cell_type": "markdown",
   "id": "733cf694",
   "metadata": {},
   "source": [
    "스타일 서식을 지정하는 것은 Matplotlib 실행 환경 설정을 변경하는 것이므로 다른 파일을 실행할 때도 계속 적용되는 점 유의"
   ]
  },
  {
   "cell_type": "markdown",
   "id": "b5a81374",
   "metadata": {},
   "source": [
    "---\n",
    "**matplotlib 스타일 서식 종류**\n",
    "- default, classic, bmh, dark_background, fast, grayscale, seaborn 등"
   ]
  },
  {
   "cell_type": "code",
   "execution_count": null,
   "id": "91cde377",
   "metadata": {},
   "outputs": [],
   "source": []
  },
  {
   "cell_type": "code",
   "execution_count": null,
   "id": "4f1fd0e4",
   "metadata": {},
   "outputs": [],
   "source": []
  },
  {
   "cell_type": "code",
   "execution_count": null,
   "id": "6441d4a8",
   "metadata": {},
   "outputs": [],
   "source": []
  },
  {
   "cell_type": "code",
   "execution_count": null,
   "id": "1dc1709f",
   "metadata": {},
   "outputs": [],
   "source": []
  },
  {
   "cell_type": "code",
   "execution_count": null,
   "id": "cda4b12e",
   "metadata": {},
   "outputs": [],
   "source": []
  },
  {
   "cell_type": "code",
   "execution_count": null,
   "id": "d48fdb77",
   "metadata": {},
   "outputs": [],
   "source": []
  },
  {
   "cell_type": "code",
   "execution_count": null,
   "id": "3f130929",
   "metadata": {},
   "outputs": [],
   "source": []
  },
  {
   "cell_type": "code",
   "execution_count": null,
   "id": "8251ce58",
   "metadata": {},
   "outputs": [],
   "source": []
  },
  {
   "cell_type": "code",
   "execution_count": null,
   "id": "f537093a",
   "metadata": {},
   "outputs": [],
   "source": []
  },
  {
   "cell_type": "code",
   "execution_count": null,
   "id": "c75820cd",
   "metadata": {},
   "outputs": [],
   "source": []
  },
  {
   "cell_type": "code",
   "execution_count": null,
   "id": "11544cc4",
   "metadata": {},
   "outputs": [],
   "source": []
  },
  {
   "cell_type": "code",
   "execution_count": null,
   "id": "a2eca71c",
   "metadata": {},
   "outputs": [],
   "source": []
  },
  {
   "cell_type": "code",
   "execution_count": null,
   "id": "68db5537",
   "metadata": {},
   "outputs": [],
   "source": []
  },
  {
   "cell_type": "code",
   "execution_count": null,
   "id": "baea5ce9",
   "metadata": {},
   "outputs": [],
   "source": []
  },
  {
   "cell_type": "code",
   "execution_count": null,
   "id": "34620c95",
   "metadata": {},
   "outputs": [],
   "source": []
  },
  {
   "cell_type": "code",
   "execution_count": null,
   "id": "debd50db",
   "metadata": {},
   "outputs": [],
   "source": []
  },
  {
   "cell_type": "code",
   "execution_count": null,
   "id": "8f2dfc73",
   "metadata": {},
   "outputs": [],
   "source": []
  },
  {
   "cell_type": "code",
   "execution_count": null,
   "id": "177ebeb8",
   "metadata": {},
   "outputs": [],
   "source": []
  }
 ],
 "metadata": {
  "kernelspec": {
   "display_name": "Python 3 (ipykernel)",
   "language": "python",
   "name": "python3"
  },
  "language_info": {
   "codemirror_mode": {
    "name": "ipython",
    "version": 3
   },
   "file_extension": ".py",
   "mimetype": "text/x-python",
   "name": "python",
   "nbconvert_exporter": "python",
   "pygments_lexer": "ipython3",
   "version": "3.9.7"
  }
 },
 "nbformat": 4,
 "nbformat_minor": 5
}
