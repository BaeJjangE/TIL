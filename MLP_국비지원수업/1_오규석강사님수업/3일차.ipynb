{
 "cells": [
  {
   "cell_type": "markdown",
   "id": "72a83d2d",
   "metadata": {},
   "source": [
    "리스트\n",
    "- 여러 요소값을 담을 수 있는 자료형\n",
    "- \\[](대괄호)를 이용하여 생성\n",
    "\n",
    "리스트 생성 예제"
   ]
  },
  {
   "cell_type": "code",
   "execution_count": 4,
   "id": "cf158b2a",
   "metadata": {},
   "outputs": [],
   "source": [
    "a = [1,2,3]"
   ]
  },
  {
   "cell_type": "code",
   "execution_count": 2,
   "id": "9246152e",
   "metadata": {},
   "outputs": [
    {
     "name": "stdout",
     "output_type": "stream",
     "text": [
      "[1, 2, 3]\n"
     ]
    }
   ],
   "source": [
    "print(a)"
   ]
  },
  {
   "cell_type": "markdown",
   "id": "5c814867",
   "metadata": {},
   "source": [
    "리스트 인덱싱 예제"
   ]
  },
  {
   "cell_type": "code",
   "execution_count": 5,
   "id": "d8ad257a",
   "metadata": {},
   "outputs": [],
   "source": [
    "a = [1,2,3]"
   ]
  },
  {
   "cell_type": "code",
   "execution_count": 6,
   "id": "557fdf5c",
   "metadata": {},
   "outputs": [
    {
     "name": "stdout",
     "output_type": "stream",
     "text": [
      "1\n"
     ]
    }
   ],
   "source": [
    "print(a[0])"
   ]
  },
  {
   "cell_type": "code",
   "execution_count": 7,
   "id": "2843d08e",
   "metadata": {},
   "outputs": [
    {
     "name": "stdout",
     "output_type": "stream",
     "text": [
      "4\n"
     ]
    }
   ],
   "source": [
    "print(a[0]+a[2])"
   ]
  },
  {
   "cell_type": "code",
   "execution_count": 8,
   "id": "1b662d31",
   "metadata": {},
   "outputs": [
    {
     "name": "stdout",
     "output_type": "stream",
     "text": [
      "3\n"
     ]
    }
   ],
   "source": [
    "print(a[-1])"
   ]
  },
  {
   "cell_type": "code",
   "execution_count": 9,
   "id": "d488b7ec",
   "metadata": {},
   "outputs": [],
   "source": [
    "b = ['Life', 'is', 'too', 'short']"
   ]
  },
  {
   "cell_type": "code",
   "execution_count": 10,
   "id": "9f046737",
   "metadata": {},
   "outputs": [
    {
     "name": "stdout",
     "output_type": "stream",
     "text": [
      "Lifeis\n"
     ]
    }
   ],
   "source": [
    "print(b[0] + b[1])"
   ]
  },
  {
   "cell_type": "code",
   "execution_count": 12,
   "id": "50721616",
   "metadata": {},
   "outputs": [],
   "source": [
    "a = [1, 2 , 3, ['a', 'b', 'c']]"
   ]
  },
  {
   "cell_type": "code",
   "execution_count": 14,
   "id": "88a5ce2c",
   "metadata": {},
   "outputs": [
    {
     "name": "stdout",
     "output_type": "stream",
     "text": [
      "['a', 'b', 'c']\n"
     ]
    }
   ],
   "source": [
    "print(a[-1])"
   ]
  },
  {
   "cell_type": "code",
   "execution_count": 15,
   "id": "43c23b1b",
   "metadata": {},
   "outputs": [
    {
     "name": "stdout",
     "output_type": "stream",
     "text": [
      "['a', 'b', 'c']\n"
     ]
    }
   ],
   "source": [
    "print(a[3])"
   ]
  },
  {
   "cell_type": "code",
   "execution_count": 17,
   "id": "a5ec8d13",
   "metadata": {},
   "outputs": [
    {
     "name": "stdout",
     "output_type": "stream",
     "text": [
      "a\n"
     ]
    }
   ],
   "source": [
    "print(a[-1][0])"
   ]
  },
  {
   "cell_type": "code",
   "execution_count": 18,
   "id": "45fe6d95",
   "metadata": {},
   "outputs": [
    {
     "name": "stdout",
     "output_type": "stream",
     "text": [
      "b\n"
     ]
    }
   ],
   "source": [
    "print(a[-1][1])"
   ]
  },
  {
   "cell_type": "code",
   "execution_count": 19,
   "id": "dfb9a69c",
   "metadata": {},
   "outputs": [
    {
     "name": "stdout",
     "output_type": "stream",
     "text": [
      "c\n"
     ]
    }
   ],
   "source": [
    "print(a[-1][2])"
   ]
  },
  {
   "cell_type": "code",
   "execution_count": 20,
   "id": "d39c3306",
   "metadata": {},
   "outputs": [],
   "source": [
    "a = [1, 2, ['a', 'b', ['life', 'is']]]"
   ]
  },
  {
   "cell_type": "code",
   "execution_count": 22,
   "id": "486a57c3",
   "metadata": {},
   "outputs": [
    {
     "name": "stdout",
     "output_type": "stream",
     "text": [
      "life\n"
     ]
    }
   ],
   "source": [
    "print(a[2][2][0])"
   ]
  },
  {
   "cell_type": "code",
   "execution_count": 23,
   "id": "809e3695",
   "metadata": {},
   "outputs": [
    {
     "name": "stdout",
     "output_type": "stream",
     "text": [
      "['life', 'is']\n"
     ]
    }
   ],
   "source": [
    "print(a[2][2])"
   ]
  },
  {
   "cell_type": "code",
   "execution_count": 25,
   "id": "9b4fe543",
   "metadata": {},
   "outputs": [
    {
     "name": "stdout",
     "output_type": "stream",
     "text": [
      "['a', 'b', ['life', 'is']]\n"
     ]
    }
   ],
   "source": [
    "print(a[2])"
   ]
  },
  {
   "cell_type": "markdown",
   "id": "fb6f4045",
   "metadata": {},
   "source": [
    "리스트 슬라이싱 예제"
   ]
  },
  {
   "cell_type": "code",
   "execution_count": 27,
   "id": "13511d0d",
   "metadata": {},
   "outputs": [],
   "source": [
    "a = [1, 2, 3, 4, 5]"
   ]
  },
  {
   "cell_type": "code",
   "execution_count": 28,
   "id": "aa89d587",
   "metadata": {},
   "outputs": [
    {
     "data": {
      "text/plain": [
       "[1, 2]"
      ]
     },
     "execution_count": 28,
     "metadata": {},
     "output_type": "execute_result"
    }
   ],
   "source": [
    "a[0:2]"
   ]
  },
  {
   "cell_type": "code",
   "execution_count": 29,
   "id": "e313ea40",
   "metadata": {},
   "outputs": [],
   "source": [
    "b = a[:2]"
   ]
  },
  {
   "cell_type": "code",
   "execution_count": 30,
   "id": "79bf9383",
   "metadata": {},
   "outputs": [
    {
     "name": "stdout",
     "output_type": "stream",
     "text": [
      "[1, 2]\n"
     ]
    }
   ],
   "source": [
    "print(b)"
   ]
  },
  {
   "cell_type": "code",
   "execution_count": 31,
   "id": "4e216b5c",
   "metadata": {},
   "outputs": [],
   "source": [
    "c = a[2:]"
   ]
  },
  {
   "cell_type": "code",
   "execution_count": 32,
   "id": "04d2e81a",
   "metadata": {},
   "outputs": [
    {
     "name": "stdout",
     "output_type": "stream",
     "text": [
      "[3, 4, 5]\n"
     ]
    }
   ],
   "source": [
    "print(c)"
   ]
  },
  {
   "cell_type": "code",
   "execution_count": 33,
   "id": "5cc8fb6f",
   "metadata": {},
   "outputs": [],
   "source": [
    "a = [1, 2, 3, ['a', 'b', 'c'], 4, 5]"
   ]
  },
  {
   "cell_type": "code",
   "execution_count": 34,
   "id": "9550a533",
   "metadata": {},
   "outputs": [
    {
     "name": "stdout",
     "output_type": "stream",
     "text": [
      "[3, ['a', 'b', 'c'], 4]\n"
     ]
    }
   ],
   "source": [
    "print(a[2:5])"
   ]
  },
  {
   "cell_type": "code",
   "execution_count": 35,
   "id": "bcbcd117",
   "metadata": {},
   "outputs": [
    {
     "name": "stdout",
     "output_type": "stream",
     "text": [
      "['a', 'b', 'c']\n"
     ]
    }
   ],
   "source": [
    "print(a[3])"
   ]
  },
  {
   "cell_type": "code",
   "execution_count": 36,
   "id": "de1fc0c3",
   "metadata": {},
   "outputs": [
    {
     "name": "stdout",
     "output_type": "stream",
     "text": [
      "['a', 'b']\n"
     ]
    }
   ],
   "source": [
    "print(a[3][:2])"
   ]
  },
  {
   "cell_type": "markdown",
   "id": "77770110",
   "metadata": {},
   "source": [
    "리스트 합치기 예제"
   ]
  },
  {
   "cell_type": "code",
   "execution_count": 37,
   "id": "6691e9a5",
   "metadata": {},
   "outputs": [],
   "source": [
    "a = [1, 2, 3]\n",
    "b = [4, 5, 6]"
   ]
  },
  {
   "cell_type": "code",
   "execution_count": 38,
   "id": "95535cf5",
   "metadata": {
    "scrolled": true
   },
   "outputs": [
    {
     "name": "stdout",
     "output_type": "stream",
     "text": [
      "[1, 2, 3, 4, 5, 6]\n"
     ]
    }
   ],
   "source": [
    "print(a + b)"
   ]
  },
  {
   "cell_type": "markdown",
   "id": "33a228c6",
   "metadata": {},
   "source": [
    "리스트 반복 예제"
   ]
  },
  {
   "cell_type": "code",
   "execution_count": 39,
   "id": "2f51333d",
   "metadata": {},
   "outputs": [],
   "source": [
    "a = [1, 2, 3]"
   ]
  },
  {
   "cell_type": "code",
   "execution_count": 40,
   "id": "b7b3a6b2",
   "metadata": {},
   "outputs": [
    {
     "name": "stdout",
     "output_type": "stream",
     "text": [
      "[1, 2, 3, 1, 2, 3]\n"
     ]
    }
   ],
   "source": [
    "print(a * 2)"
   ]
  },
  {
   "cell_type": "markdown",
   "id": "3d2c194a",
   "metadata": {},
   "source": [
    "list 요소 수정 예제"
   ]
  },
  {
   "cell_type": "code",
   "execution_count": 41,
   "id": "b289e474",
   "metadata": {},
   "outputs": [],
   "source": [
    "a = [1, 2, 3]"
   ]
  },
  {
   "cell_type": "code",
   "execution_count": 42,
   "id": "6e8521bd",
   "metadata": {},
   "outputs": [
    {
     "name": "stdout",
     "output_type": "stream",
     "text": [
      "3\n"
     ]
    }
   ],
   "source": [
    "print(a[2])"
   ]
  },
  {
   "cell_type": "code",
   "execution_count": 43,
   "id": "3da4d7d9",
   "metadata": {},
   "outputs": [],
   "source": [
    "a[2] = 4"
   ]
  },
  {
   "cell_type": "code",
   "execution_count": 45,
   "id": "8ab4bba0",
   "metadata": {},
   "outputs": [
    {
     "name": "stdout",
     "output_type": "stream",
     "text": [
      "[1, 2, 4]\n"
     ]
    }
   ],
   "source": [
    "print(a)"
   ]
  },
  {
   "cell_type": "markdown",
   "id": "89c3660e",
   "metadata": {},
   "source": [
    "## ★인덱스와 슬라이싱 값 수정의 차이점★"
   ]
  },
  {
   "cell_type": "markdown",
   "id": "baa20f9a",
   "metadata": {},
   "source": [
    "슬라이싱으로 수정 예제"
   ]
  },
  {
   "cell_type": "code",
   "execution_count": 46,
   "id": "305f738c",
   "metadata": {},
   "outputs": [],
   "source": [
    "a[1:2] = ['a', 'b', 'c']"
   ]
  },
  {
   "cell_type": "code",
   "execution_count": 47,
   "id": "563ddc71",
   "metadata": {},
   "outputs": [
    {
     "name": "stdout",
     "output_type": "stream",
     "text": [
      "[1, 'a', 'b', 'c', 4]\n"
     ]
    }
   ],
   "source": [
    "print(a)"
   ]
  },
  {
   "cell_type": "markdown",
   "id": "e2886664",
   "metadata": {},
   "source": [
    "인덱싱으로 수정 예제"
   ]
  },
  {
   "cell_type": "code",
   "execution_count": 48,
   "id": "a1bf38f8",
   "metadata": {},
   "outputs": [],
   "source": [
    "a[0] = ['a1', 'a2', 'a3']"
   ]
  },
  {
   "cell_type": "code",
   "execution_count": 49,
   "id": "2b11b416",
   "metadata": {},
   "outputs": [
    {
     "name": "stdout",
     "output_type": "stream",
     "text": [
      "[['a1', 'a2', 'a3'], 'a', 'b', 'c', 4]\n"
     ]
    }
   ],
   "source": [
    "print(a)"
   ]
  },
  {
   "cell_type": "markdown",
   "id": "e2553a36",
   "metadata": {},
   "source": [
    "리스트 요소 제거 예제\n",
    "- 위의 a 리스트를 그대로 활용"
   ]
  },
  {
   "cell_type": "code",
   "execution_count": 50,
   "id": "410b7697",
   "metadata": {},
   "outputs": [
    {
     "name": "stdout",
     "output_type": "stream",
     "text": [
      "[['a1', 'a2', 'a3'], 'a', 'b', 'c', 4]\n"
     ]
    }
   ],
   "source": [
    "print(a)"
   ]
  },
  {
   "cell_type": "code",
   "execution_count": 51,
   "id": "ed924b85",
   "metadata": {},
   "outputs": [],
   "source": [
    "a[1:3] = []"
   ]
  },
  {
   "cell_type": "code",
   "execution_count": 52,
   "id": "47373069",
   "metadata": {},
   "outputs": [
    {
     "name": "stdout",
     "output_type": "stream",
     "text": [
      "[['a1', 'a2', 'a3'], 'c', 4]\n"
     ]
    }
   ],
   "source": [
    "print(a)"
   ]
  },
  {
   "cell_type": "code",
   "execution_count": 53,
   "id": "bfdf2c0d",
   "metadata": {},
   "outputs": [],
   "source": [
    "del a[1]"
   ]
  },
  {
   "cell_type": "code",
   "execution_count": 54,
   "id": "86a7b558",
   "metadata": {},
   "outputs": [
    {
     "name": "stdout",
     "output_type": "stream",
     "text": [
      "[['a1', 'a2', 'a3'], 4]\n"
     ]
    }
   ],
   "source": [
    "print(a)"
   ]
  },
  {
   "cell_type": "code",
   "execution_count": 55,
   "id": "e98f252c",
   "metadata": {},
   "outputs": [],
   "source": [
    "del a[0:2]"
   ]
  },
  {
   "cell_type": "code",
   "execution_count": 56,
   "id": "ef2ab8e9",
   "metadata": {},
   "outputs": [
    {
     "name": "stdout",
     "output_type": "stream",
     "text": [
      "[]\n"
     ]
    }
   ],
   "source": [
    "print(a)"
   ]
  },
  {
   "cell_type": "markdown",
   "id": "079f78e6",
   "metadata": {},
   "source": [
    "리스트 관련 함수"
   ]
  },
  {
   "cell_type": "markdown",
   "id": "2f83f87e",
   "metadata": {},
   "source": [
    "리스트 요소 추가 예제"
   ]
  },
  {
   "cell_type": "code",
   "execution_count": 57,
   "id": "21c548b7",
   "metadata": {},
   "outputs": [],
   "source": [
    "a = [1, 2, 3]"
   ]
  },
  {
   "cell_type": "code",
   "execution_count": 58,
   "id": "ed9cf0cb",
   "metadata": {},
   "outputs": [],
   "source": [
    "a.append(4)"
   ]
  },
  {
   "cell_type": "code",
   "execution_count": 59,
   "id": "6294dc3b",
   "metadata": {},
   "outputs": [
    {
     "name": "stdout",
     "output_type": "stream",
     "text": [
      "[1, 2, 3, 4]\n"
     ]
    }
   ],
   "source": [
    "print(a)"
   ]
  },
  {
   "cell_type": "code",
   "execution_count": 60,
   "id": "fe11c90c",
   "metadata": {},
   "outputs": [],
   "source": [
    "a.append([5,6])"
   ]
  },
  {
   "cell_type": "code",
   "execution_count": 61,
   "id": "89432947",
   "metadata": {},
   "outputs": [
    {
     "name": "stdout",
     "output_type": "stream",
     "text": [
      "[1, 2, 3, 4, [5, 6]]\n"
     ]
    }
   ],
   "source": [
    "print(a)"
   ]
  },
  {
   "cell_type": "markdown",
   "id": "ad802818",
   "metadata": {},
   "source": [
    "리스트 정렬 예제"
   ]
  },
  {
   "cell_type": "markdown",
   "id": "7a2e7856",
   "metadata": {},
   "source": [
    "오름차순"
   ]
  },
  {
   "cell_type": "code",
   "execution_count": 65,
   "id": "3e65b90f",
   "metadata": {},
   "outputs": [],
   "source": [
    "a = [4, 1, 2, 3]"
   ]
  },
  {
   "cell_type": "code",
   "execution_count": 69,
   "id": "b6c971da",
   "metadata": {},
   "outputs": [],
   "source": [
    "a.sort()"
   ]
  },
  {
   "cell_type": "code",
   "execution_count": 67,
   "id": "5de0e9a8",
   "metadata": {},
   "outputs": [
    {
     "name": "stdout",
     "output_type": "stream",
     "text": [
      "[1, 2, 3, 4]\n"
     ]
    }
   ],
   "source": [
    "print(a)"
   ]
  },
  {
   "cell_type": "code",
   "execution_count": 68,
   "id": "682d41cb",
   "metadata": {},
   "outputs": [],
   "source": [
    "a = ['abc', '123', 'you need python']"
   ]
  },
  {
   "cell_type": "code",
   "execution_count": 70,
   "id": "8d05ad47",
   "metadata": {},
   "outputs": [],
   "source": [
    "a.sort()"
   ]
  },
  {
   "cell_type": "code",
   "execution_count": 71,
   "id": "9d013377",
   "metadata": {},
   "outputs": [
    {
     "name": "stdout",
     "output_type": "stream",
     "text": [
      "['123', 'abc', 'you need python']\n"
     ]
    }
   ],
   "source": [
    "print(a)"
   ]
  },
  {
   "cell_type": "code",
   "execution_count": 72,
   "id": "a936ce2b",
   "metadata": {},
   "outputs": [],
   "source": [
    "a = ['abc', 123, 'you need python']"
   ]
  },
  {
   "cell_type": "code",
   "execution_count": 74,
   "id": "2a93e783",
   "metadata": {},
   "outputs": [
    {
     "ename": "TypeError",
     "evalue": "'<' not supported between instances of 'int' and 'str'",
     "output_type": "error",
     "traceback": [
      "\u001b[1;31m---------------------------------------------------------------------------\u001b[0m",
      "\u001b[1;31mTypeError\u001b[0m                                 Traceback (most recent call last)",
      "\u001b[1;32m~\\AppData\\Local\\Temp/ipykernel_19336/2629139315.py\u001b[0m in \u001b[0;36m<module>\u001b[1;34m\u001b[0m\n\u001b[1;32m----> 1\u001b[1;33m \u001b[0ma\u001b[0m\u001b[1;33m.\u001b[0m\u001b[0msort\u001b[0m\u001b[1;33m(\u001b[0m\u001b[1;33m)\u001b[0m\u001b[1;33m\u001b[0m\u001b[1;33m\u001b[0m\u001b[0m\n\u001b[0m",
      "\u001b[1;31mTypeError\u001b[0m: '<' not supported between instances of 'int' and 'str'"
     ]
    }
   ],
   "source": [
    "a.sort()"
   ]
  },
  {
   "cell_type": "markdown",
   "id": "a0ead0fb",
   "metadata": {},
   "source": [
    "- 숫자형 요소와 문자열 요소가 합쳐진 경우 정렬되지 않음"
   ]
  },
  {
   "cell_type": "code",
   "execution_count": 75,
   "id": "c1c44f7c",
   "metadata": {},
   "outputs": [
    {
     "name": "stdout",
     "output_type": "stream",
     "text": [
      "['abc', 123, 'you need python']\n"
     ]
    }
   ],
   "source": [
    "print(a)"
   ]
  },
  {
   "cell_type": "code",
   "execution_count": 76,
   "id": "f9430893",
   "metadata": {},
   "outputs": [],
   "source": [
    "a = ['abc', '123', 'You need python']"
   ]
  },
  {
   "cell_type": "code",
   "execution_count": 77,
   "id": "fda85de2",
   "metadata": {},
   "outputs": [],
   "source": [
    "a.sort()"
   ]
  },
  {
   "cell_type": "code",
   "execution_count": 78,
   "id": "f6fb6fa9",
   "metadata": {},
   "outputs": [
    {
     "name": "stdout",
     "output_type": "stream",
     "text": [
      "['123', 'You need python', 'abc']\n"
     ]
    }
   ],
   "source": [
    "print(a)"
   ]
  },
  {
   "cell_type": "markdown",
   "id": "7ee69ce8",
   "metadata": {},
   "source": [
    "- 대문자가 포함된 문자열 있을 경우 대문자가 소문자보다 먼저 정렬됨"
   ]
  },
  {
   "cell_type": "markdown",
   "id": "ff062024",
   "metadata": {},
   "source": [
    "내림차순"
   ]
  },
  {
   "cell_type": "code",
   "execution_count": 110,
   "id": "cd586518",
   "metadata": {},
   "outputs": [],
   "source": [
    "a = [1,2,3,4,5]"
   ]
  },
  {
   "cell_type": "code",
   "execution_count": 111,
   "id": "dba2f3f5",
   "metadata": {},
   "outputs": [
    {
     "data": {
      "text/plain": [
       "[5, 4, 3, 2, 1]"
      ]
     },
     "execution_count": 111,
     "metadata": {},
     "output_type": "execute_result"
    }
   ],
   "source": [
    "sorted(a, reverse=True)"
   ]
  },
  {
   "cell_type": "markdown",
   "id": "451bf2e8",
   "metadata": {},
   "source": [
    "내림차순2"
   ]
  },
  {
   "cell_type": "code",
   "execution_count": 112,
   "id": "487e2121",
   "metadata": {},
   "outputs": [],
   "source": [
    "a.sort()"
   ]
  },
  {
   "cell_type": "code",
   "execution_count": 117,
   "id": "ad27002b",
   "metadata": {},
   "outputs": [
    {
     "name": "stdout",
     "output_type": "stream",
     "text": [
      "[1, 2, 3, 4, 5]\n"
     ]
    }
   ],
   "source": [
    "print(a)"
   ]
  },
  {
   "cell_type": "code",
   "execution_count": 118,
   "id": "ce25d1af",
   "metadata": {},
   "outputs": [],
   "source": [
    "a.reverse()"
   ]
  },
  {
   "cell_type": "code",
   "execution_count": 119,
   "id": "9169548c",
   "metadata": {},
   "outputs": [
    {
     "name": "stdout",
     "output_type": "stream",
     "text": [
      "[5, 4, 3, 2, 1]\n"
     ]
    }
   ],
   "source": [
    "print(a)"
   ]
  },
  {
   "cell_type": "markdown",
   "id": "25e4f92e",
   "metadata": {},
   "source": [
    "리스트 뒤집기 예제"
   ]
  },
  {
   "cell_type": "code",
   "execution_count": 79,
   "id": "f0d22ad2",
   "metadata": {},
   "outputs": [],
   "source": [
    "a = ['a', 'c', 'b']"
   ]
  },
  {
   "cell_type": "code",
   "execution_count": 80,
   "id": "eb5871f3",
   "metadata": {},
   "outputs": [],
   "source": [
    "a.reverse()"
   ]
  },
  {
   "cell_type": "code",
   "execution_count": 81,
   "id": "9ebe4dff",
   "metadata": {},
   "outputs": [
    {
     "name": "stdout",
     "output_type": "stream",
     "text": [
      "['b', 'c', 'a']\n"
     ]
    }
   ],
   "source": [
    "print(a)"
   ]
  },
  {
   "cell_type": "markdown",
   "id": "cfa04e29",
   "metadata": {},
   "source": [
    "리스트 요소 찾기 예제"
   ]
  },
  {
   "cell_type": "code",
   "execution_count": 86,
   "id": "6971e625",
   "metadata": {},
   "outputs": [],
   "source": [
    "a = [1, 2, 3]"
   ]
  },
  {
   "cell_type": "code",
   "execution_count": 87,
   "id": "e3c04b89",
   "metadata": {},
   "outputs": [
    {
     "data": {
      "text/plain": [
       "2"
      ]
     },
     "execution_count": 87,
     "metadata": {},
     "output_type": "execute_result"
    }
   ],
   "source": [
    "a.index(3)"
   ]
  },
  {
   "cell_type": "code",
   "execution_count": 88,
   "id": "2d0a0b6d",
   "metadata": {},
   "outputs": [
    {
     "data": {
      "text/plain": [
       "0"
      ]
     },
     "execution_count": 88,
     "metadata": {},
     "output_type": "execute_result"
    }
   ],
   "source": [
    "a.index(1)"
   ]
  },
  {
   "cell_type": "code",
   "execution_count": 89,
   "id": "1df2549c",
   "metadata": {
    "scrolled": true
   },
   "outputs": [
    {
     "ename": "ValueError",
     "evalue": "0 is not in list",
     "output_type": "error",
     "traceback": [
      "\u001b[1;31m---------------------------------------------------------------------------\u001b[0m",
      "\u001b[1;31mValueError\u001b[0m                                Traceback (most recent call last)",
      "\u001b[1;32m~\\AppData\\Local\\Temp/ipykernel_19336/2671509078.py\u001b[0m in \u001b[0;36m<module>\u001b[1;34m\u001b[0m\n\u001b[1;32m----> 1\u001b[1;33m \u001b[0ma\u001b[0m\u001b[1;33m.\u001b[0m\u001b[0mindex\u001b[0m\u001b[1;33m(\u001b[0m\u001b[1;36m0\u001b[0m\u001b[1;33m)\u001b[0m\u001b[1;33m\u001b[0m\u001b[1;33m\u001b[0m\u001b[0m\n\u001b[0m",
      "\u001b[1;31mValueError\u001b[0m: 0 is not in list"
     ]
    }
   ],
   "source": [
    "a.index(0)"
   ]
  },
  {
   "cell_type": "markdown",
   "id": "c2cae499",
   "metadata": {},
   "source": [
    "리스트 요소 삽입 예제"
   ]
  },
  {
   "cell_type": "code",
   "execution_count": 104,
   "id": "09981aed",
   "metadata": {},
   "outputs": [],
   "source": [
    "a = [1, 2, 3]"
   ]
  },
  {
   "cell_type": "code",
   "execution_count": 93,
   "id": "6b9e3e96",
   "metadata": {},
   "outputs": [],
   "source": [
    "a.insert(0, 4)"
   ]
  },
  {
   "cell_type": "code",
   "execution_count": 94,
   "id": "df2f4769",
   "metadata": {},
   "outputs": [
    {
     "name": "stdout",
     "output_type": "stream",
     "text": [
      "[4, 1, 2, 3]\n"
     ]
    }
   ],
   "source": [
    "print(a)"
   ]
  },
  {
   "cell_type": "code",
   "execution_count": 95,
   "id": "d614d097",
   "metadata": {},
   "outputs": [],
   "source": [
    "a.insert(3, 5)"
   ]
  },
  {
   "cell_type": "code",
   "execution_count": 96,
   "id": "74045baf",
   "metadata": {},
   "outputs": [
    {
     "name": "stdout",
     "output_type": "stream",
     "text": [
      "[4, 1, 2, 5, 3]\n"
     ]
    }
   ],
   "source": [
    "print(a)"
   ]
  },
  {
   "cell_type": "code",
   "execution_count": 97,
   "id": "df4975d2",
   "metadata": {},
   "outputs": [],
   "source": [
    "a.insert(0, ['a', 'b'])"
   ]
  },
  {
   "cell_type": "code",
   "execution_count": 98,
   "id": "39039464",
   "metadata": {},
   "outputs": [
    {
     "name": "stdout",
     "output_type": "stream",
     "text": [
      "[['a', 'b'], 4, 1, 2, 5, 3]\n"
     ]
    }
   ],
   "source": [
    "print(a)"
   ]
  },
  {
   "cell_type": "markdown",
   "id": "0a90eede",
   "metadata": {},
   "source": [
    "리스트 요소 제거 예제(remove(제거하고싶은이름): 입력한 값의 가장 좌측 첫번째 요소 하나만 제거)"
   ]
  },
  {
   "cell_type": "code",
   "execution_count": 120,
   "id": "65281a6b",
   "metadata": {},
   "outputs": [],
   "source": [
    "a = [1, 2, 3, 1, 2, 3]"
   ]
  },
  {
   "cell_type": "code",
   "execution_count": 121,
   "id": "7d1ae76b",
   "metadata": {},
   "outputs": [],
   "source": [
    "a.remove(3)"
   ]
  },
  {
   "cell_type": "code",
   "execution_count": 122,
   "id": "f9b48e1f",
   "metadata": {},
   "outputs": [
    {
     "name": "stdout",
     "output_type": "stream",
     "text": [
      "[1, 2, 1, 2, 3]\n"
     ]
    }
   ],
   "source": [
    "print(a)"
   ]
  },
  {
   "cell_type": "code",
   "execution_count": 123,
   "id": "d009f33e",
   "metadata": {},
   "outputs": [],
   "source": [
    "a.remove(3)"
   ]
  },
  {
   "cell_type": "code",
   "execution_count": 124,
   "id": "7654a920",
   "metadata": {},
   "outputs": [
    {
     "name": "stdout",
     "output_type": "stream",
     "text": [
      "[1, 2, 1, 2]\n"
     ]
    }
   ],
   "source": [
    "print(a)"
   ]
  },
  {
   "cell_type": "markdown",
   "id": "1f364348",
   "metadata": {},
   "source": [
    "pop(인덱스): 인덱스 번호를 입력하여 리스트의 맨 마지막 요소를 돌려주고 그 요소는 삭제"
   ]
  },
  {
   "cell_type": "code",
   "execution_count": 126,
   "id": "e24602f2",
   "metadata": {},
   "outputs": [],
   "source": [
    "a = [1, 2, 3]"
   ]
  },
  {
   "cell_type": "code",
   "execution_count": 127,
   "id": "8cdc3c5c",
   "metadata": {},
   "outputs": [
    {
     "data": {
      "text/plain": [
       "3"
      ]
     },
     "execution_count": 127,
     "metadata": {},
     "output_type": "execute_result"
    }
   ],
   "source": [
    "a.pop()"
   ]
  },
  {
   "cell_type": "code",
   "execution_count": 128,
   "id": "f3fbfb5e",
   "metadata": {},
   "outputs": [
    {
     "name": "stdout",
     "output_type": "stream",
     "text": [
      "[1, 2]\n"
     ]
    }
   ],
   "source": [
    "print(a)"
   ]
  },
  {
   "cell_type": "code",
   "execution_count": 129,
   "id": "0c27a001",
   "metadata": {},
   "outputs": [],
   "source": [
    "a = [1, 2, 3]"
   ]
  },
  {
   "cell_type": "code",
   "execution_count": 130,
   "id": "fca0353a",
   "metadata": {},
   "outputs": [
    {
     "data": {
      "text/plain": [
       "2"
      ]
     },
     "execution_count": 130,
     "metadata": {},
     "output_type": "execute_result"
    }
   ],
   "source": [
    "a.pop(1)"
   ]
  },
  {
   "cell_type": "code",
   "execution_count": 131,
   "id": "699b2a56",
   "metadata": {},
   "outputs": [
    {
     "name": "stdout",
     "output_type": "stream",
     "text": [
      "[1, 3]\n"
     ]
    }
   ],
   "source": [
    "print(a)"
   ]
  },
  {
   "cell_type": "markdown",
   "id": "8413f351",
   "metadata": {},
   "source": [
    "리스트 갯수 세기 예제 - a.count(1): '1'의 갯수가 몇개인지 말해줌"
   ]
  },
  {
   "cell_type": "code",
   "execution_count": 132,
   "id": "f3040ccb",
   "metadata": {},
   "outputs": [],
   "source": [
    "a = [1, 2, 3, 1]"
   ]
  },
  {
   "cell_type": "code",
   "execution_count": 133,
   "id": "80472eea",
   "metadata": {},
   "outputs": [
    {
     "data": {
      "text/plain": [
       "2"
      ]
     },
     "execution_count": 133,
     "metadata": {},
     "output_type": "execute_result"
    }
   ],
   "source": [
    "a.count(1)"
   ]
  },
  {
   "cell_type": "markdown",
   "id": "2aaeeade",
   "metadata": {},
   "source": [
    "리스트 확장 예제 - a.extend(x)에서 x에는 리스트만 올 수 있음 append와 유사, insert도 추가작업으로 유사"
   ]
  },
  {
   "cell_type": "code",
   "execution_count": 144,
   "id": "eb55840b",
   "metadata": {},
   "outputs": [],
   "source": [
    "a = [1,2,3]"
   ]
  },
  {
   "cell_type": "code",
   "execution_count": 145,
   "id": "60684796",
   "metadata": {},
   "outputs": [],
   "source": [
    "a.extend([4,5])"
   ]
  },
  {
   "cell_type": "code",
   "execution_count": 146,
   "id": "c578c4e9",
   "metadata": {},
   "outputs": [
    {
     "name": "stdout",
     "output_type": "stream",
     "text": [
      "[1, 2, 3, 4, 5]\n"
     ]
    }
   ],
   "source": [
    "print(a)"
   ]
  },
  {
   "cell_type": "code",
   "execution_count": 141,
   "id": "3855483f",
   "metadata": {},
   "outputs": [],
   "source": [
    "a = [1,2,3]"
   ]
  },
  {
   "cell_type": "code",
   "execution_count": 142,
   "id": "91e0526d",
   "metadata": {},
   "outputs": [],
   "source": [
    "a.extend([[4,5]])"
   ]
  },
  {
   "cell_type": "code",
   "execution_count": 143,
   "id": "348ff1a1",
   "metadata": {},
   "outputs": [
    {
     "name": "stdout",
     "output_type": "stream",
     "text": [
      "[1, 2, 3, [4, 5]]\n"
     ]
    }
   ],
   "source": [
    "print(a)"
   ]
  },
  {
   "cell_type": "markdown",
   "id": "ca492242",
   "metadata": {},
   "source": [
    "# 튜플\n",
    "튜플은 리스트와 다르게 수정관련 함수 사용불가 그 외 함수(인덱싱,슬라이싱)는 사용가능\n",
    "\n",
    "튜플 생성 예제"
   ]
  },
  {
   "cell_type": "code",
   "execution_count": 147,
   "id": "e6f8b4e9",
   "metadata": {},
   "outputs": [],
   "source": [
    "t1 = ()"
   ]
  },
  {
   "cell_type": "code",
   "execution_count": 148,
   "id": "3ae2a243",
   "metadata": {},
   "outputs": [
    {
     "name": "stdout",
     "output_type": "stream",
     "text": [
      "()\n"
     ]
    }
   ],
   "source": [
    "print(t1)"
   ]
  },
  {
   "cell_type": "code",
   "execution_count": 160,
   "id": "e9d1be3a",
   "metadata": {},
   "outputs": [],
   "source": [
    "t2 = (1)"
   ]
  },
  {
   "cell_type": "code",
   "execution_count": 161,
   "id": "58aa8fe8",
   "metadata": {},
   "outputs": [
    {
     "name": "stdout",
     "output_type": "stream",
     "text": [
      "1\n"
     ]
    }
   ],
   "source": [
    "print(t2) #튜플이 아님"
   ]
  },
  {
   "cell_type": "code",
   "execution_count": 155,
   "id": "2c4d3cce",
   "metadata": {},
   "outputs": [],
   "source": [
    "t2 = (1,)"
   ]
  },
  {
   "cell_type": "code",
   "execution_count": 156,
   "id": "be41063b",
   "metadata": {},
   "outputs": [
    {
     "name": "stdout",
     "output_type": "stream",
     "text": [
      "(1,)\n"
     ]
    }
   ],
   "source": [
    "print(t2)"
   ]
  },
  {
   "cell_type": "code",
   "execution_count": 157,
   "id": "dae71c02",
   "metadata": {},
   "outputs": [],
   "source": [
    "t3 = (1, 2, 3)"
   ]
  },
  {
   "cell_type": "code",
   "execution_count": 158,
   "id": "b0637d4b",
   "metadata": {},
   "outputs": [
    {
     "name": "stdout",
     "output_type": "stream",
     "text": [
      "(1, 2, 3)\n"
     ]
    }
   ],
   "source": [
    "print(t3)"
   ]
  },
  {
   "cell_type": "code",
   "execution_count": 162,
   "id": "69fb0da9",
   "metadata": {},
   "outputs": [],
   "source": [
    "t4 = 1, 2, 3"
   ]
  },
  {
   "cell_type": "code",
   "execution_count": 163,
   "id": "a98387c9",
   "metadata": {},
   "outputs": [
    {
     "name": "stdout",
     "output_type": "stream",
     "text": [
      "(1, 2, 3)\n"
     ]
    }
   ],
   "source": [
    "print(t4)"
   ]
  },
  {
   "cell_type": "code",
   "execution_count": 164,
   "id": "8cc2a4fc",
   "metadata": {},
   "outputs": [],
   "source": [
    "t5 = ('a', 'b', ('ab', 'cd'))"
   ]
  },
  {
   "cell_type": "code",
   "execution_count": 165,
   "id": "174874b1",
   "metadata": {},
   "outputs": [
    {
     "name": "stdout",
     "output_type": "stream",
     "text": [
      "('a', 'b', ('ab', 'cd'))\n"
     ]
    }
   ],
   "source": [
    "print(t5)"
   ]
  },
  {
   "cell_type": "code",
   "execution_count": 166,
   "id": "4a288df7",
   "metadata": {},
   "outputs": [],
   "source": [
    "t6 = (1, 2, [3, 4])"
   ]
  },
  {
   "cell_type": "code",
   "execution_count": 167,
   "id": "91727fc3",
   "metadata": {},
   "outputs": [
    {
     "name": "stdout",
     "output_type": "stream",
     "text": [
      "(1, 2, [3, 4])\n"
     ]
    }
   ],
   "source": [
    "print(t6)"
   ]
  },
  {
   "cell_type": "markdown",
   "id": "dfc1acf9",
   "metadata": {},
   "source": [
    "튜플 요소 변경 여부 예제"
   ]
  },
  {
   "cell_type": "code",
   "execution_count": 169,
   "id": "94efc648",
   "metadata": {},
   "outputs": [],
   "source": [
    "t1 = (1, 2, 'a', 'b')"
   ]
  },
  {
   "cell_type": "code",
   "execution_count": 170,
   "id": "feba7dec",
   "metadata": {},
   "outputs": [
    {
     "ename": "TypeError",
     "evalue": "'tuple' object doesn't support item deletion",
     "output_type": "error",
     "traceback": [
      "\u001b[1;31m---------------------------------------------------------------------------\u001b[0m",
      "\u001b[1;31mTypeError\u001b[0m                                 Traceback (most recent call last)",
      "\u001b[1;32m~\\AppData\\Local\\Temp/ipykernel_19336/2661958664.py\u001b[0m in \u001b[0;36m<module>\u001b[1;34m\u001b[0m\n\u001b[1;32m----> 1\u001b[1;33m \u001b[1;32mdel\u001b[0m \u001b[0mt1\u001b[0m\u001b[1;33m[\u001b[0m\u001b[1;36m0\u001b[0m\u001b[1;33m]\u001b[0m\u001b[1;33m\u001b[0m\u001b[1;33m\u001b[0m\u001b[0m\n\u001b[0m",
      "\u001b[1;31mTypeError\u001b[0m: 'tuple' object doesn't support item deletion"
     ]
    }
   ],
   "source": [
    "del t1[0]"
   ]
  },
  {
   "cell_type": "code",
   "execution_count": 171,
   "id": "6e0550ae",
   "metadata": {},
   "outputs": [
    {
     "ename": "TypeError",
     "evalue": "'tuple' object does not support item assignment",
     "output_type": "error",
     "traceback": [
      "\u001b[1;31m---------------------------------------------------------------------------\u001b[0m",
      "\u001b[1;31mTypeError\u001b[0m                                 Traceback (most recent call last)",
      "\u001b[1;32m~\\AppData\\Local\\Temp/ipykernel_19336/3796749952.py\u001b[0m in \u001b[0;36m<module>\u001b[1;34m\u001b[0m\n\u001b[1;32m----> 1\u001b[1;33m \u001b[0mt1\u001b[0m\u001b[1;33m[\u001b[0m\u001b[1;36m0\u001b[0m\u001b[1;33m]\u001b[0m \u001b[1;33m=\u001b[0m \u001b[1;34m'c'\u001b[0m\u001b[1;33m\u001b[0m\u001b[1;33m\u001b[0m\u001b[0m\n\u001b[0m",
      "\u001b[1;31mTypeError\u001b[0m: 'tuple' object does not support item assignment"
     ]
    }
   ],
   "source": [
    "t1[0] = 'c'"
   ]
  },
  {
   "cell_type": "markdown",
   "id": "8dc0cbe8",
   "metadata": {},
   "source": [
    "튜플 인덱싱 예제"
   ]
  },
  {
   "cell_type": "code",
   "execution_count": 172,
   "id": "69c7fcae",
   "metadata": {},
   "outputs": [],
   "source": [
    "t1 = (1, 2, 'a', 'b')"
   ]
  },
  {
   "cell_type": "code",
   "execution_count": 173,
   "id": "46114f1f",
   "metadata": {},
   "outputs": [
    {
     "name": "stdout",
     "output_type": "stream",
     "text": [
      "1\n"
     ]
    }
   ],
   "source": [
    "print(t1[0])"
   ]
  },
  {
   "cell_type": "code",
   "execution_count": 174,
   "id": "f5ac1493",
   "metadata": {},
   "outputs": [
    {
     "name": "stdout",
     "output_type": "stream",
     "text": [
      "b\n"
     ]
    }
   ],
   "source": [
    "print(t1[3])"
   ]
  },
  {
   "cell_type": "markdown",
   "id": "0c5dd400",
   "metadata": {},
   "source": [
    "튜플 슬라이싱 예제"
   ]
  },
  {
   "cell_type": "code",
   "execution_count": 175,
   "id": "fd4f1b76",
   "metadata": {},
   "outputs": [],
   "source": [
    "t1 = (1, 2, 'a', 'b')"
   ]
  },
  {
   "cell_type": "code",
   "execution_count": 176,
   "id": "1064e988",
   "metadata": {},
   "outputs": [
    {
     "name": "stdout",
     "output_type": "stream",
     "text": [
      "(2, 'a', 'b')\n"
     ]
    }
   ],
   "source": [
    "print(t1[1:])"
   ]
  },
  {
   "cell_type": "markdown",
   "id": "bbae337f",
   "metadata": {},
   "source": [
    "☆튜플안에 리스트는 변경가능"
   ]
  },
  {
   "cell_type": "code",
   "execution_count": 187,
   "id": "75180db6",
   "metadata": {},
   "outputs": [],
   "source": [
    "t2 = (0, ['1',2])"
   ]
  },
  {
   "cell_type": "code",
   "execution_count": 192,
   "id": "6a47f0ff",
   "metadata": {},
   "outputs": [],
   "source": [
    "t2[1][0] = 2"
   ]
  },
  {
   "cell_type": "code",
   "execution_count": 195,
   "id": "8d1226c6",
   "metadata": {},
   "outputs": [
    {
     "name": "stdout",
     "output_type": "stream",
     "text": [
      "(0, [2, 2])\n"
     ]
    }
   ],
   "source": [
    "print(t2)"
   ]
  },
  {
   "cell_type": "markdown",
   "id": "17c6781e",
   "metadata": {},
   "source": [
    "튜플 더하기 예제\n",
    "- 튜플 더해서 새로운 튜플 만드는건 가능"
   ]
  },
  {
   "cell_type": "code",
   "execution_count": 197,
   "id": "c8127e47",
   "metadata": {},
   "outputs": [],
   "source": [
    "t1 = (1, 2, 'a', 'b')\n",
    "t2 = (3, 4)"
   ]
  },
  {
   "cell_type": "code",
   "execution_count": 198,
   "id": "9c7f817a",
   "metadata": {},
   "outputs": [],
   "source": [
    "t3 = t1 + t2"
   ]
  },
  {
   "cell_type": "code",
   "execution_count": 199,
   "id": "8fbd9378",
   "metadata": {},
   "outputs": [
    {
     "name": "stdout",
     "output_type": "stream",
     "text": [
      "(1, 2, 'a', 'b', 3, 4)\n"
     ]
    }
   ],
   "source": [
    "print(t3)"
   ]
  },
  {
   "cell_type": "markdown",
   "id": "22356419",
   "metadata": {},
   "source": [
    "튜블 곱하기 예제\n",
    "- 튜플 곱해서 새로운 튜플 만드는건 가능"
   ]
  },
  {
   "cell_type": "code",
   "execution_count": 197,
   "id": "7d841703",
   "metadata": {},
   "outputs": [],
   "source": [
    "t1 = (1, 2, 'a', 'b')\n",
    "t2 = (3, 4)"
   ]
  },
  {
   "cell_type": "code",
   "execution_count": 200,
   "id": "b762c6ce",
   "metadata": {},
   "outputs": [
    {
     "name": "stdout",
     "output_type": "stream",
     "text": [
      "(3, 4, 3, 4, 3, 4)\n"
     ]
    }
   ],
   "source": [
    "print(t2 * 3)"
   ]
  },
  {
   "cell_type": "code",
   "execution_count": 201,
   "id": "6d5fe18b",
   "metadata": {},
   "outputs": [],
   "source": [
    "t4 = t2 * 3"
   ]
  },
  {
   "cell_type": "code",
   "execution_count": 202,
   "id": "365b807a",
   "metadata": {},
   "outputs": [
    {
     "name": "stdout",
     "output_type": "stream",
     "text": [
      "(3, 4, 3, 4, 3, 4)\n"
     ]
    }
   ],
   "source": [
    "print(t4)"
   ]
  },
  {
   "cell_type": "markdown",
   "id": "e110afbb",
   "metadata": {},
   "source": [
    "튜플 길이 구하기 예제"
   ]
  },
  {
   "cell_type": "code",
   "execution_count": 203,
   "id": "5d5ecf8b",
   "metadata": {},
   "outputs": [],
   "source": [
    "t1 = (1, 2, 'a', 'b')"
   ]
  },
  {
   "cell_type": "code",
   "execution_count": 204,
   "id": "0c2e121f",
   "metadata": {},
   "outputs": [
    {
     "name": "stdout",
     "output_type": "stream",
     "text": [
      "4\n"
     ]
    }
   ],
   "source": [
    "print(len(t1))"
   ]
  },
  {
   "cell_type": "markdown",
   "id": "ac8c7b2d",
   "metadata": {},
   "source": [
    "리스트, 튜플에서의 패킹과 언패킹\n",
    "- 패킹 : 한 데이터에 여러 개의 데이터를 넣는 것\n",
    " - 이때까지 한거는 다 패킹\n",
    "- 언패킹 : 한 데이터에서 데이터를 각각 꺼내오는 것"
   ]
  },
  {
   "cell_type": "markdown",
   "id": "5b145f1b",
   "metadata": {},
   "source": [
    "언패킹 예제"
   ]
  },
  {
   "cell_type": "code",
   "execution_count": 205,
   "id": "64cd3d66",
   "metadata": {},
   "outputs": [],
   "source": [
    "T = (1, 2, 3, 4, 5)"
   ]
  },
  {
   "cell_type": "code",
   "execution_count": 215,
   "id": "bbbc5d1b",
   "metadata": {},
   "outputs": [],
   "source": [
    "a, *b = T"
   ]
  },
  {
   "cell_type": "code",
   "execution_count": 216,
   "id": "82f01ea4",
   "metadata": {},
   "outputs": [
    {
     "name": "stdout",
     "output_type": "stream",
     "text": [
      "1 [2, 3, 4, 5]\n"
     ]
    }
   ],
   "source": [
    "print(a, b)"
   ]
  },
  {
   "cell_type": "code",
   "execution_count": 217,
   "id": "a3d59631",
   "metadata": {},
   "outputs": [],
   "source": [
    "a, b, *c = T"
   ]
  },
  {
   "cell_type": "code",
   "execution_count": 218,
   "id": "ca5364b2",
   "metadata": {},
   "outputs": [
    {
     "name": "stdout",
     "output_type": "stream",
     "text": [
      "1 2 [3, 4, 5]\n"
     ]
    }
   ],
   "source": [
    "print(a, b, c)"
   ]
  },
  {
   "cell_type": "code",
   "execution_count": 220,
   "id": "fe30a175",
   "metadata": {},
   "outputs": [],
   "source": [
    "L = [1, 2, 3, 4, 5]"
   ]
  },
  {
   "cell_type": "code",
   "execution_count": 221,
   "id": "45a6ad2d",
   "metadata": {},
   "outputs": [],
   "source": [
    "a, *b = L"
   ]
  },
  {
   "cell_type": "code",
   "execution_count": 222,
   "id": "0bc145bc",
   "metadata": {},
   "outputs": [
    {
     "name": "stdout",
     "output_type": "stream",
     "text": [
      "1 [2, 3, 4, 5]\n"
     ]
    }
   ],
   "source": [
    "print(a, b)"
   ]
  },
  {
   "cell_type": "markdown",
   "id": "cbf1ba44",
   "metadata": {},
   "source": [
    "리스트 -> 튜플, 튜플 -> 리스트 변경 예제"
   ]
  },
  {
   "cell_type": "code",
   "execution_count": 224,
   "id": "ad2f1455",
   "metadata": {},
   "outputs": [],
   "source": [
    "L = tuple(L)"
   ]
  },
  {
   "cell_type": "code",
   "execution_count": 225,
   "id": "4ec09897",
   "metadata": {},
   "outputs": [
    {
     "name": "stdout",
     "output_type": "stream",
     "text": [
      "(1, 2, 3, 4, 5)\n"
     ]
    }
   ],
   "source": [
    "print(L)"
   ]
  },
  {
   "cell_type": "code",
   "execution_count": 226,
   "id": "9d80e627",
   "metadata": {},
   "outputs": [],
   "source": [
    "T = (1,2,3,4,5)"
   ]
  },
  {
   "cell_type": "code",
   "execution_count": 227,
   "id": "dd72b29e",
   "metadata": {},
   "outputs": [],
   "source": [
    "T = list(T)"
   ]
  },
  {
   "cell_type": "code",
   "execution_count": 228,
   "id": "9b804f60",
   "metadata": {},
   "outputs": [
    {
     "name": "stdout",
     "output_type": "stream",
     "text": [
      "[1, 2, 3, 4, 5]\n"
     ]
    }
   ],
   "source": [
    "print(T)"
   ]
  },
  {
   "cell_type": "markdown",
   "id": "5698b9b3",
   "metadata": {},
   "source": [
    "딕셔너리\n",
    "- 사전\n",
    "- key: value 형식으로 이루어진 자료형\n",
    "\n",
    "딕셔너리 생성예제"
   ]
  },
  {
   "cell_type": "code",
   "execution_count": 230,
   "id": "94e8b791",
   "metadata": {},
   "outputs": [],
   "source": [
    "dic = {'name': 'pey', 'phone': '0119993323', 'birth': '1118'}"
   ]
  },
  {
   "cell_type": "code",
   "execution_count": 231,
   "id": "4c5a9172",
   "metadata": {},
   "outputs": [
    {
     "name": "stdout",
     "output_type": "stream",
     "text": [
      "{'name': 'pey', 'phone': '0119993323', 'birth': '1118'}\n"
     ]
    }
   ],
   "source": [
    "print(dic)"
   ]
  },
  {
   "cell_type": "code",
   "execution_count": 232,
   "id": "38b883c2",
   "metadata": {},
   "outputs": [],
   "source": [
    "a = {1: 'hi'}"
   ]
  },
  {
   "cell_type": "code",
   "execution_count": 233,
   "id": "7d2ede77",
   "metadata": {},
   "outputs": [
    {
     "name": "stdout",
     "output_type": "stream",
     "text": [
      "{1: 'hi'}\n"
     ]
    }
   ],
   "source": [
    "print(a)"
   ]
  },
  {
   "cell_type": "code",
   "execution_count": 234,
   "id": "9ee50c12",
   "metadata": {},
   "outputs": [],
   "source": [
    "a = {'a': [1, 2, 3]}"
   ]
  },
  {
   "cell_type": "code",
   "execution_count": 235,
   "id": "e90d1353",
   "metadata": {},
   "outputs": [
    {
     "name": "stdout",
     "output_type": "stream",
     "text": [
      "{'a': [1, 2, 3]}\n"
     ]
    }
   ],
   "source": [
    "print(a)"
   ]
  },
  {
   "cell_type": "markdown",
   "id": "949749f7",
   "metadata": {},
   "source": [
    "★딕셔너리 키, 값 추가 예제"
   ]
  },
  {
   "cell_type": "code",
   "execution_count": 236,
   "id": "ff0ad3cb",
   "metadata": {},
   "outputs": [],
   "source": [
    "a = {1: 'a'}"
   ]
  },
  {
   "cell_type": "code",
   "execution_count": 237,
   "id": "d1e609a2",
   "metadata": {},
   "outputs": [],
   "source": [
    "a[2] = 'b'"
   ]
  },
  {
   "cell_type": "code",
   "execution_count": 238,
   "id": "82366b58",
   "metadata": {},
   "outputs": [
    {
     "name": "stdout",
     "output_type": "stream",
     "text": [
      "{1: 'a', 2: 'b'}\n"
     ]
    }
   ],
   "source": [
    "print(a)"
   ]
  },
  {
   "cell_type": "code",
   "execution_count": 241,
   "id": "ed29f5c7",
   "metadata": {},
   "outputs": [],
   "source": [
    "a['name'] = 'pey'"
   ]
  },
  {
   "cell_type": "code",
   "execution_count": 242,
   "id": "76a5fc66",
   "metadata": {},
   "outputs": [
    {
     "name": "stdout",
     "output_type": "stream",
     "text": [
      "{1: 'a', 2: 'b', 'name': 'pey'}\n"
     ]
    }
   ],
   "source": [
    "print(a)"
   ]
  },
  {
   "cell_type": "code",
   "execution_count": 243,
   "id": "04ea3ec7",
   "metadata": {},
   "outputs": [],
   "source": [
    "a[3] = [1, 2, 3]"
   ]
  },
  {
   "cell_type": "code",
   "execution_count": 244,
   "id": "eef0a132",
   "metadata": {},
   "outputs": [
    {
     "name": "stdout",
     "output_type": "stream",
     "text": [
      "{1: 'a', 2: 'b', 'name': 'pey', 3: [1, 2, 3]}\n"
     ]
    }
   ],
   "source": [
    "print(a)"
   ]
  },
  {
   "cell_type": "markdown",
   "id": "ce8b0846",
   "metadata": {},
   "source": [
    "★함수를 만들어서 키와 값으로 활용하기 예제"
   ]
  },
  {
   "cell_type": "code",
   "execution_count": 249,
   "id": "479440c0",
   "metadata": {},
   "outputs": [],
   "source": [
    "def add(a, b):\n",
    "    return a+b\n",
    "def sub(a, b):\n",
    "    return a-b\n",
    "\n",
    "action = {5: add, 6: sub}"
   ]
  },
  {
   "cell_type": "code",
   "execution_count": 251,
   "id": "165fe3bf",
   "metadata": {},
   "outputs": [
    {
     "data": {
      "text/plain": [
       "9"
      ]
     },
     "execution_count": 251,
     "metadata": {},
     "output_type": "execute_result"
    }
   ],
   "source": [
    "action[5](4, 5)"
   ]
  },
  {
   "cell_type": "markdown",
   "id": "0be626c2",
   "metadata": {},
   "source": [
    "- 5번 키를 호출, 값에 4, 5를 대입한 결과 출력"
   ]
  },
  {
   "cell_type": "markdown",
   "id": "0db0ca3e",
   "metadata": {},
   "source": [
    "딕셔너리를 만드는 다른 방법(함수) 3가지"
   ]
  },
  {
   "cell_type": "code",
   "execution_count": 252,
   "id": "51715b18",
   "metadata": {},
   "outputs": [],
   "source": [
    "a = dict(one=1, two=2)"
   ]
  },
  {
   "cell_type": "code",
   "execution_count": 253,
   "id": "c129b0a7",
   "metadata": {},
   "outputs": [
    {
     "name": "stdout",
     "output_type": "stream",
     "text": [
      "{'one': 1, 'two': 2}\n"
     ]
    }
   ],
   "source": [
    "print(a)"
   ]
  },
  {
   "cell_type": "code",
   "execution_count": 254,
   "id": "7ee8f073",
   "metadata": {},
   "outputs": [],
   "source": [
    "b = dict([('one',1),('two', 2)])"
   ]
  },
  {
   "cell_type": "code",
   "execution_count": 255,
   "id": "9fc9d0be",
   "metadata": {},
   "outputs": [
    {
     "name": "stdout",
     "output_type": "stream",
     "text": [
      "{'one': 1, 'two': 2}\n"
     ]
    }
   ],
   "source": [
    "print(b)"
   ]
  },
  {
   "cell_type": "code",
   "execution_count": 257,
   "id": "a55ef7e6",
   "metadata": {},
   "outputs": [],
   "source": [
    "c = dict([['one',1],['two', 2]])"
   ]
  },
  {
   "cell_type": "code",
   "execution_count": 258,
   "id": "3ebf74e6",
   "metadata": {},
   "outputs": [
    {
     "name": "stdout",
     "output_type": "stream",
     "text": [
      "{'one': 1, 'two': 2}\n"
     ]
    }
   ],
   "source": [
    "print(c)"
   ]
  },
  {
   "cell_type": "code",
   "execution_count": 264,
   "id": "cf634a85",
   "metadata": {},
   "outputs": [],
   "source": [
    "keys = ['one', 'two', 'three']\n",
    "values = [1, 2, 3]\n",
    "zip(keys, values)\n",
    "d = dict(zip(keys, values))"
   ]
  },
  {
   "cell_type": "code",
   "execution_count": 265,
   "id": "b32c7be3",
   "metadata": {},
   "outputs": [
    {
     "name": "stdout",
     "output_type": "stream",
     "text": [
      "{'one': 1, 'two': 2, 'three': 3}\n"
     ]
    }
   ],
   "source": [
    "print(d)"
   ]
  },
  {
   "cell_type": "markdown",
   "id": "f2f3bef4",
   "metadata": {},
   "source": [
    "딕셔너리에서 키 제거 예제"
   ]
  },
  {
   "cell_type": "code",
   "execution_count": 273,
   "id": "d34d8b7a",
   "metadata": {},
   "outputs": [],
   "source": [
    "a = {1: 'a', 2: 'b', 'name': 'pey', 3: [1, 2, 3]}"
   ]
  },
  {
   "cell_type": "code",
   "execution_count": 274,
   "id": "cfaaa492",
   "metadata": {},
   "outputs": [
    {
     "name": "stdout",
     "output_type": "stream",
     "text": [
      "{1: 'a', 2: 'b', 'name': 'pey', 3: [1, 2, 3]}\n"
     ]
    }
   ],
   "source": [
    "print(a)"
   ]
  },
  {
   "cell_type": "code",
   "execution_count": 275,
   "id": "d8393c12",
   "metadata": {},
   "outputs": [],
   "source": [
    "del a[2]"
   ]
  },
  {
   "cell_type": "code",
   "execution_count": 276,
   "id": "ffa6a1d0",
   "metadata": {},
   "outputs": [
    {
     "name": "stdout",
     "output_type": "stream",
     "text": [
      "{1: 'a', 'name': 'pey', 3: [1, 2, 3]}\n"
     ]
    }
   ],
   "source": [
    "print(a)"
   ]
  },
  {
   "cell_type": "markdown",
   "id": "a260cac5",
   "metadata": {},
   "source": [
    "딕셔너리에서 키를 이용하여 값을 얻기 예제"
   ]
  },
  {
   "cell_type": "code",
   "execution_count": 277,
   "id": "75f2f711",
   "metadata": {},
   "outputs": [],
   "source": [
    "a = {1: 'a', 2:'b'}"
   ]
  },
  {
   "cell_type": "code",
   "execution_count": 282,
   "id": "14a35fda",
   "metadata": {},
   "outputs": [
    {
     "name": "stdout",
     "output_type": "stream",
     "text": [
      "a\n"
     ]
    }
   ],
   "source": [
    "print(a[1]) #리스트나 튜플의 a[1]과는 다름 딕셔너리에서는 키를 말함"
   ]
  },
  {
   "cell_type": "code",
   "execution_count": 280,
   "id": "f331f2ed",
   "metadata": {},
   "outputs": [
    {
     "name": "stdout",
     "output_type": "stream",
     "text": [
      "b\n"
     ]
    }
   ],
   "source": [
    "print(a[2])"
   ]
  },
  {
   "cell_type": "markdown",
   "id": "36b6b41a",
   "metadata": {},
   "source": [
    "키 리스트 만들기 예제"
   ]
  },
  {
   "cell_type": "code",
   "execution_count": 284,
   "id": "d5ea81e8",
   "metadata": {},
   "outputs": [],
   "source": [
    "a = {'name': 'pey', 'phone': '0119993323', 'birth': '1118'}"
   ]
  },
  {
   "cell_type": "code",
   "execution_count": 286,
   "id": "b163b83d",
   "metadata": {},
   "outputs": [
    {
     "name": "stdout",
     "output_type": "stream",
     "text": [
      "dict_keys(['name', 'phone', 'birth'])\n"
     ]
    }
   ],
   "source": [
    "print(a.keys())"
   ]
  },
  {
   "cell_type": "code",
   "execution_count": 287,
   "id": "3bc0aaca",
   "metadata": {},
   "outputs": [
    {
     "name": "stdout",
     "output_type": "stream",
     "text": [
      "<class 'dict_keys'>\n"
     ]
    }
   ],
   "source": [
    "print(type(a.keys()))"
   ]
  },
  {
   "cell_type": "code",
   "execution_count": 290,
   "id": "4a420114",
   "metadata": {},
   "outputs": [],
   "source": [
    "b = list(a.keys())"
   ]
  },
  {
   "cell_type": "code",
   "execution_count": 292,
   "id": "5567b6df",
   "metadata": {},
   "outputs": [
    {
     "name": "stdout",
     "output_type": "stream",
     "text": [
      "name\n",
      "phone\n",
      "birth\n"
     ]
    }
   ],
   "source": [
    "for k in a.keys():\n",
    "    print(k)"
   ]
  },
  {
   "cell_type": "markdown",
   "id": "4f440d9c",
   "metadata": {},
   "source": [
    "값 리스트 만들기 예제"
   ]
  },
  {
   "cell_type": "code",
   "execution_count": 293,
   "id": "1103a21b",
   "metadata": {},
   "outputs": [],
   "source": [
    "a = {'name': 'pey', 'phone': '0119993323', 'birth': '1118'}"
   ]
  },
  {
   "cell_type": "code",
   "execution_count": 296,
   "id": "daa081e6",
   "metadata": {},
   "outputs": [
    {
     "name": "stdout",
     "output_type": "stream",
     "text": [
      "dict_values(['pey', '0119993323', '1118'])\n"
     ]
    }
   ],
   "source": [
    "print(a.values())"
   ]
  },
  {
   "cell_type": "markdown",
   "id": "6d9d12a5",
   "metadata": {},
   "source": [
    "키, 값 쌍 얻기 예제"
   ]
  },
  {
   "cell_type": "code",
   "execution_count": 295,
   "id": "a35926a9",
   "metadata": {},
   "outputs": [],
   "source": [
    "a = {'name': 'pey', 'phone': '0119993323', 'birth': '1118'}"
   ]
  },
  {
   "cell_type": "code",
   "execution_count": 297,
   "id": "646b147b",
   "metadata": {},
   "outputs": [
    {
     "name": "stdout",
     "output_type": "stream",
     "text": [
      "dict_items([('name', 'pey'), ('phone', '0119993323'), ('birth', '1118')])\n"
     ]
    }
   ],
   "source": [
    "print(a.items())"
   ]
  },
  {
   "cell_type": "code",
   "execution_count": 298,
   "id": "2589a146",
   "metadata": {},
   "outputs": [
    {
     "name": "stdout",
     "output_type": "stream",
     "text": [
      "('name', 'pey')\n",
      "('phone', '0119993323')\n",
      "('birth', '1118')\n"
     ]
    }
   ],
   "source": [
    "for i in a.items():\n",
    "    print(i)"
   ]
  },
  {
   "cell_type": "markdown",
   "id": "2ac74c9f",
   "metadata": {},
   "source": [
    "딕셔너리 모두 지우기 예제"
   ]
  },
  {
   "cell_type": "code",
   "execution_count": 299,
   "id": "4a60f858",
   "metadata": {},
   "outputs": [],
   "source": [
    "a = {'name': 'pey', 'phone': '0119993323', 'birth': '1118'}"
   ]
  },
  {
   "cell_type": "code",
   "execution_count": 300,
   "id": "0b6c170b",
   "metadata": {},
   "outputs": [],
   "source": [
    "a.clear()"
   ]
  },
  {
   "cell_type": "code",
   "execution_count": 301,
   "id": "1087f3b3",
   "metadata": {},
   "outputs": [
    {
     "name": "stdout",
     "output_type": "stream",
     "text": [
      "{}\n"
     ]
    }
   ],
   "source": [
    "print(a)"
   ]
  },
  {
   "cell_type": "markdown",
   "id": "505f25bd",
   "metadata": {},
   "source": [
    "get(key) 함수를 사용하여 값 출력하기 예제 a.values()는 값 전부를 불러오지만 이건 원하는 키를 넣어서 값을 추출\n",
    "- a.get('key') == a['key']"
   ]
  },
  {
   "cell_type": "code",
   "execution_count": 2,
   "id": "b8cf6b7b",
   "metadata": {},
   "outputs": [],
   "source": [
    "a = {'name': 'pey', 'phone': '0119993323', 'birth': '1118'}"
   ]
  },
  {
   "cell_type": "code",
   "execution_count": 304,
   "id": "c629efb6",
   "metadata": {},
   "outputs": [
    {
     "name": "stdout",
     "output_type": "stream",
     "text": [
      "pey\n"
     ]
    }
   ],
   "source": [
    "print(a.get('name'))"
   ]
  },
  {
   "cell_type": "code",
   "execution_count": 3,
   "id": "48a87ba2",
   "metadata": {
    "scrolled": true
   },
   "outputs": [
    {
     "name": "stdout",
     "output_type": "stream",
     "text": [
      "pey\n"
     ]
    }
   ],
   "source": [
    "print(a['name'])"
   ]
  },
  {
   "cell_type": "code",
   "execution_count": 305,
   "id": "727cca47",
   "metadata": {},
   "outputs": [
    {
     "name": "stdout",
     "output_type": "stream",
     "text": [
      "0119993323\n"
     ]
    }
   ],
   "source": [
    "print(a.get('phone'))"
   ]
  },
  {
   "cell_type": "markdown",
   "id": "3caf5107",
   "metadata": {},
   "source": [
    "get() 함수 사용과 미사용 차이 예제"
   ]
  },
  {
   "cell_type": "code",
   "execution_count": 306,
   "id": "7d122da3",
   "metadata": {},
   "outputs": [],
   "source": [
    "a = {'name': 'pey', 'phone': '0119993323', 'birth': '1118'}"
   ]
  },
  {
   "cell_type": "code",
   "execution_count": 308,
   "id": "d1b07227",
   "metadata": {},
   "outputs": [
    {
     "name": "stdout",
     "output_type": "stream",
     "text": [
      "None\n"
     ]
    }
   ],
   "source": [
    "print(a.get('nokey'))"
   ]
  },
  {
   "cell_type": "code",
   "execution_count": 311,
   "id": "ffce990f",
   "metadata": {},
   "outputs": [
    {
     "name": "stdout",
     "output_type": "stream",
     "text": [
      "pey\n"
     ]
    }
   ],
   "source": [
    "print(a['name'])"
   ]
  },
  {
   "cell_type": "code",
   "execution_count": 312,
   "id": "f35c66df",
   "metadata": {
    "scrolled": true
   },
   "outputs": [
    {
     "ename": "KeyError",
     "evalue": "'nokey'",
     "output_type": "error",
     "traceback": [
      "\u001b[1;31m---------------------------------------------------------------------------\u001b[0m",
      "\u001b[1;31mKeyError\u001b[0m                                  Traceback (most recent call last)",
      "\u001b[1;32m~\\AppData\\Local\\Temp/ipykernel_19336/3724398629.py\u001b[0m in \u001b[0;36m<module>\u001b[1;34m\u001b[0m\n\u001b[1;32m----> 1\u001b[1;33m \u001b[0mprint\u001b[0m\u001b[1;33m(\u001b[0m\u001b[0ma\u001b[0m\u001b[1;33m[\u001b[0m\u001b[1;34m'nokey'\u001b[0m\u001b[1;33m]\u001b[0m\u001b[1;33m)\u001b[0m\u001b[1;33m\u001b[0m\u001b[1;33m\u001b[0m\u001b[0m\n\u001b[0m",
      "\u001b[1;31mKeyError\u001b[0m: 'nokey'"
     ]
    }
   ],
   "source": [
    "print(a['nokey'])"
   ]
  },
  {
   "cell_type": "markdown",
   "id": "166f37b5",
   "metadata": {},
   "source": [
    "딕셔너리 안에 키가 없는 경우 정해둔 값을 가져오기 예제"
   ]
  },
  {
   "cell_type": "code",
   "execution_count": 313,
   "id": "b926fe6b",
   "metadata": {},
   "outputs": [],
   "source": [
    "a = {'name': 'pey', 'phone': '0119993323', 'birth': '1118'}"
   ]
  },
  {
   "cell_type": "code",
   "execution_count": 314,
   "id": "238a0583",
   "metadata": {},
   "outputs": [
    {
     "name": "stdout",
     "output_type": "stream",
     "text": [
      "None\n"
     ]
    }
   ],
   "source": [
    "print(a.get('foo'))"
   ]
  },
  {
   "cell_type": "code",
   "execution_count": 316,
   "id": "360a355a",
   "metadata": {},
   "outputs": [
    {
     "name": "stdout",
     "output_type": "stream",
     "text": [
      "없으면이거출력\n"
     ]
    }
   ],
   "source": [
    "print(a.get('foo', '없으면이거출력'))"
   ]
  },
  {
   "cell_type": "markdown",
   "id": "a66c31a6",
   "metadata": {},
   "source": [
    "해당 키의 존재 유무 예제"
   ]
  },
  {
   "cell_type": "code",
   "execution_count": 317,
   "id": "15a3d830",
   "metadata": {},
   "outputs": [],
   "source": [
    "a = {'name': 'pey', 'phone': '0119993323', 'birth': '1118'}"
   ]
  },
  {
   "cell_type": "code",
   "execution_count": 318,
   "id": "29c424eb",
   "metadata": {},
   "outputs": [
    {
     "name": "stdout",
     "output_type": "stream",
     "text": [
      "True\n"
     ]
    }
   ],
   "source": [
    "print('name' in a)"
   ]
  },
  {
   "cell_type": "code",
   "execution_count": 319,
   "id": "270a8268",
   "metadata": {},
   "outputs": [
    {
     "name": "stdout",
     "output_type": "stream",
     "text": [
      "False\n"
     ]
    }
   ],
   "source": [
    "print('email' in a)"
   ]
  },
  {
   "cell_type": "markdown",
   "id": "1e361ca1",
   "metadata": {},
   "source": [
    "집합\n",
    "- 여러 값을 순서 없이 그리고 중복 없이 모아 놓은 자료형\n",
    "\n",
    "집합 생성 예제"
   ]
  },
  {
   "cell_type": "code",
   "execution_count": 323,
   "id": "070c09d9",
   "metadata": {},
   "outputs": [],
   "source": [
    "s1 = set([1,2,3])"
   ]
  },
  {
   "cell_type": "code",
   "execution_count": 4,
   "id": "31f12c00",
   "metadata": {},
   "outputs": [
    {
     "ename": "TypeError",
     "evalue": "set expected at most 1 argument, got 3",
     "output_type": "error",
     "traceback": [
      "\u001b[1;31m---------------------------------------------------------------------------\u001b[0m",
      "\u001b[1;31mTypeError\u001b[0m                                 Traceback (most recent call last)",
      "\u001b[1;32m~\\AppData\\Local\\Temp/ipykernel_4112/726794145.py\u001b[0m in \u001b[0;36m<module>\u001b[1;34m\u001b[0m\n\u001b[1;32m----> 1\u001b[1;33m \u001b[0ms2\u001b[0m \u001b[1;33m=\u001b[0m \u001b[0mset\u001b[0m\u001b[1;33m(\u001b[0m\u001b[1;36m1\u001b[0m\u001b[1;33m,\u001b[0m \u001b[1;36m2\u001b[0m\u001b[1;33m,\u001b[0m \u001b[1;36m3\u001b[0m\u001b[1;33m)\u001b[0m\u001b[1;33m\u001b[0m\u001b[1;33m\u001b[0m\u001b[0m\n\u001b[0m",
      "\u001b[1;31mTypeError\u001b[0m: set expected at most 1 argument, got 3"
     ]
    }
   ],
   "source": [
    "s2 = set(1, 2, 3)"
   ]
  },
  {
   "cell_type": "code",
   "execution_count": 324,
   "id": "0675dcbf",
   "metadata": {},
   "outputs": [
    {
     "name": "stdout",
     "output_type": "stream",
     "text": [
      "{1, 2, 3}\n"
     ]
    }
   ],
   "source": [
    "print(s1)"
   ]
  },
  {
   "cell_type": "code",
   "execution_count": 326,
   "id": "2e0dca7e",
   "metadata": {},
   "outputs": [
    {
     "name": "stdout",
     "output_type": "stream",
     "text": [
      "<class 'set'>\n"
     ]
    }
   ],
   "source": [
    "print(type(s1))"
   ]
  },
  {
   "cell_type": "code",
   "execution_count": 328,
   "id": "414b065e",
   "metadata": {},
   "outputs": [],
   "source": [
    "s2 = set(\"Hello\")"
   ]
  },
  {
   "cell_type": "code",
   "execution_count": 329,
   "id": "952cdd1c",
   "metadata": {},
   "outputs": [
    {
     "name": "stdout",
     "output_type": "stream",
     "text": [
      "{'o', 'l', 'e', 'H'}\n"
     ]
    }
   ],
   "source": [
    "print(s2)"
   ]
  },
  {
   "cell_type": "code",
   "execution_count": 330,
   "id": "ac2b742a",
   "metadata": {},
   "outputs": [],
   "source": [
    "s3 = set((1,2,3))"
   ]
  },
  {
   "cell_type": "code",
   "execution_count": 331,
   "id": "591cf13b",
   "metadata": {},
   "outputs": [
    {
     "name": "stdout",
     "output_type": "stream",
     "text": [
      "{1, 2, 3}\n"
     ]
    }
   ],
   "source": [
    "print(s3)"
   ]
  },
  {
   "cell_type": "code",
   "execution_count": 332,
   "id": "f6ce2e2c",
   "metadata": {},
   "outputs": [],
   "source": [
    "s4 = {1, 2, 3}"
   ]
  },
  {
   "cell_type": "code",
   "execution_count": 335,
   "id": "75a5742a",
   "metadata": {},
   "outputs": [
    {
     "name": "stdout",
     "output_type": "stream",
     "text": [
      "<class 'set'>\n"
     ]
    }
   ],
   "source": [
    "print(type(s4))"
   ]
  },
  {
   "cell_type": "markdown",
   "id": "27906cc3",
   "metadata": {},
   "source": [
    "교집합 예제"
   ]
  },
  {
   "cell_type": "code",
   "execution_count": 343,
   "id": "63424979",
   "metadata": {},
   "outputs": [],
   "source": [
    "s1 = set([1,2,3,4,5,6])\n",
    "s2 = set([4,5,6,7,8,9])"
   ]
  },
  {
   "cell_type": "code",
   "execution_count": 344,
   "id": "a0bddec1",
   "metadata": {},
   "outputs": [
    {
     "name": "stdout",
     "output_type": "stream",
     "text": [
      "{4, 5, 6}\n"
     ]
    }
   ],
   "source": [
    "print(s1 & s2)"
   ]
  },
  {
   "cell_type": "markdown",
   "id": "c1506867",
   "metadata": {},
   "source": [
    "합집합 예제"
   ]
  },
  {
   "cell_type": "code",
   "execution_count": 346,
   "id": "cb17053d",
   "metadata": {},
   "outputs": [
    {
     "name": "stdout",
     "output_type": "stream",
     "text": [
      "{1, 2, 3, 4, 5, 6, 7, 8, 9}\n"
     ]
    }
   ],
   "source": [
    "print(s1 | s2)"
   ]
  },
  {
   "cell_type": "markdown",
   "id": "caa500af",
   "metadata": {},
   "source": [
    "차집합 예제"
   ]
  },
  {
   "cell_type": "code",
   "execution_count": 347,
   "id": "f429d404",
   "metadata": {},
   "outputs": [],
   "source": [
    "s1 = set([1,2,3,4,5,6])\n",
    "s2 = set([4,5,6,7,8,9])"
   ]
  },
  {
   "cell_type": "code",
   "execution_count": 348,
   "id": "3805780b",
   "metadata": {},
   "outputs": [
    {
     "name": "stdout",
     "output_type": "stream",
     "text": [
      "{1, 2, 3}\n"
     ]
    }
   ],
   "source": [
    "print(s1 - s2)"
   ]
  },
  {
   "cell_type": "code",
   "execution_count": 349,
   "id": "45c113e5",
   "metadata": {},
   "outputs": [
    {
     "name": "stdout",
     "output_type": "stream",
     "text": [
      "{8, 9, 7}\n"
     ]
    }
   ],
   "source": [
    "print(s2 - s1)"
   ]
  },
  {
   "cell_type": "markdown",
   "id": "a2eecf14",
   "metadata": {},
   "source": [
    "집합에 값 1개 추가하기 예제(add)"
   ]
  },
  {
   "cell_type": "code",
   "execution_count": 350,
   "id": "2cc3f49c",
   "metadata": {},
   "outputs": [],
   "source": [
    "s1 = set([1, 2, 3])"
   ]
  },
  {
   "cell_type": "code",
   "execution_count": 357,
   "id": "bcd061eb",
   "metadata": {},
   "outputs": [],
   "source": [
    "s1.add(4)"
   ]
  },
  {
   "cell_type": "code",
   "execution_count": 352,
   "id": "5cd5f0eb",
   "metadata": {},
   "outputs": [
    {
     "name": "stdout",
     "output_type": "stream",
     "text": [
      "{1, 2, 3, 4}\n"
     ]
    }
   ],
   "source": [
    "print(s1)"
   ]
  },
  {
   "cell_type": "markdown",
   "id": "025683c0",
   "metadata": {},
   "source": [
    "집합에 값 여러개 추가하기 예제(update)"
   ]
  },
  {
   "cell_type": "code",
   "execution_count": 353,
   "id": "fbd6f521",
   "metadata": {},
   "outputs": [],
   "source": [
    "s1 = set([1, 2, 3])"
   ]
  },
  {
   "cell_type": "code",
   "execution_count": 354,
   "id": "bd8f5d3d",
   "metadata": {},
   "outputs": [],
   "source": [
    "s1.update([4,5,6])"
   ]
  },
  {
   "cell_type": "code",
   "execution_count": 355,
   "id": "e1eca8d5",
   "metadata": {},
   "outputs": [
    {
     "name": "stdout",
     "output_type": "stream",
     "text": [
      "{1, 2, 3, 4, 5, 6}\n"
     ]
    }
   ],
   "source": [
    "print(s1)"
   ]
  },
  {
   "cell_type": "markdown",
   "id": "1dc7a78f",
   "metadata": {},
   "source": [
    "집합에 특정 값 제거 예제(remove)"
   ]
  },
  {
   "cell_type": "code",
   "execution_count": 358,
   "id": "2dee7a08",
   "metadata": {},
   "outputs": [],
   "source": [
    "s1 = set([1, 2, 3])"
   ]
  },
  {
   "cell_type": "code",
   "execution_count": 359,
   "id": "9435f107",
   "metadata": {},
   "outputs": [],
   "source": [
    "s1.remove(2)"
   ]
  },
  {
   "cell_type": "code",
   "execution_count": 360,
   "id": "a2666a0c",
   "metadata": {},
   "outputs": [
    {
     "name": "stdout",
     "output_type": "stream",
     "text": [
      "{1, 3}\n"
     ]
    }
   ],
   "source": [
    "print(s1)"
   ]
  },
  {
   "cell_type": "markdown",
   "id": "da42fa9c",
   "metadata": {},
   "source": [
    "# 제어문\n",
    "\n",
    "if문 예제"
   ]
  },
  {
   "cell_type": "code",
   "execution_count": 363,
   "id": "c5920cb8",
   "metadata": {},
   "outputs": [
    {
     "name": "stdout",
     "output_type": "stream",
     "text": [
      "택시를 타고가라\n"
     ]
    }
   ],
   "source": [
    "money = True\n",
    "if money:\n",
    "    print(\"택시를 타고가라\")\n",
    "else:\n",
    "    print(\"걸어가라\")"
   ]
  },
  {
   "cell_type": "markdown",
   "id": "cab3bf9b",
   "metadata": {},
   "source": [
    "pass 예제"
   ]
  },
  {
   "cell_type": "code",
   "execution_count": 375,
   "id": "bf99e375",
   "metadata": {},
   "outputs": [],
   "source": [
    "pocket = ['paper', 'money', 'cellphone']\n",
    "if 'money' in pocket:\n",
    "    pass\n",
    "else:\n",
    "    print('카드를 꺼내라')"
   ]
  },
  {
   "cell_type": "code",
   "execution_count": 373,
   "id": "ea7c498c",
   "metadata": {},
   "outputs": [
    {
     "name": "stdout",
     "output_type": "stream",
     "text": [
      "현금을 꺼내라\n",
      "종이를 꺼내라\n"
     ]
    }
   ],
   "source": [
    "pocket = ['paper', 'money', 'cellphone']\n",
    "if 'money' in pocket:\n",
    "    print(\"현금을 꺼내라\")\n",
    "    pass\n",
    "    print(\"종이를 꺼내라\")\n",
    "else:\n",
    "    print('카드를 꺼내라')"
   ]
  },
  {
   "cell_type": "markdown",
   "id": "e51c2d87",
   "metadata": {},
   "source": [
    "- 코드 중간에 pass 구문이 있어도 전체 코드가 실행됨(무의미함)"
   ]
  },
  {
   "cell_type": "markdown",
   "id": "f13e3650",
   "metadata": {},
   "source": [
    "# ★continue는 while, for문 안에 if문에서 사용하여 처음으로 돌아가는것"
   ]
  },
  {
   "cell_type": "code",
   "execution_count": 4,
   "id": "e24bdbbc",
   "metadata": {},
   "outputs": [
    {
     "name": "stdout",
     "output_type": "stream",
     "text": [
      "1\n",
      "3\n",
      "5\n",
      "7\n",
      "9\n"
     ]
    }
   ],
   "source": [
    "for i in range(10):\n",
    "    if i % 2 == 0:\n",
    "        continue            \n",
    "    print(i)\n",
    "    "
   ]
  },
  {
   "cell_type": "code",
   "execution_count": 12,
   "id": "a71817e0",
   "metadata": {},
   "outputs": [
    {
     "name": "stdout",
     "output_type": "stream",
     "text": [
      "Students 1, 3, 5, passed\n"
     ]
    }
   ],
   "source": [
    "passed = []\n",
    "marks = [90, 25, 67, 45, 80]\n",
    "for i in range(len(marks)):\n",
    "    if marks[i]>=60:\n",
    "        passed.append(i+1)\n",
    "\n",
    "print('Students', end =' ')\n",
    "for j in passed:\n",
    "    print(j, end =', ')\n",
    "print('passed')\n"
   ]
  },
  {
   "cell_type": "code",
   "execution_count": null,
   "id": "c1fa0cb2",
   "metadata": {},
   "outputs": [],
   "source": []
  },
  {
   "cell_type": "code",
   "execution_count": null,
   "id": "4bc944fe",
   "metadata": {},
   "outputs": [],
   "source": []
  },
  {
   "cell_type": "code",
   "execution_count": null,
   "id": "f1e12087",
   "metadata": {},
   "outputs": [],
   "source": []
  },
  {
   "cell_type": "code",
   "execution_count": null,
   "id": "671b14a3",
   "metadata": {},
   "outputs": [],
   "source": []
  },
  {
   "cell_type": "code",
   "execution_count": null,
   "id": "242cbf02",
   "metadata": {},
   "outputs": [],
   "source": []
  },
  {
   "cell_type": "code",
   "execution_count": null,
   "id": "1ada5050",
   "metadata": {},
   "outputs": [],
   "source": []
  },
  {
   "cell_type": "code",
   "execution_count": null,
   "id": "7dc5fa19",
   "metadata": {},
   "outputs": [],
   "source": []
  },
  {
   "cell_type": "code",
   "execution_count": null,
   "id": "fd156f99",
   "metadata": {},
   "outputs": [],
   "source": []
  },
  {
   "cell_type": "code",
   "execution_count": null,
   "id": "510e43aa",
   "metadata": {},
   "outputs": [],
   "source": []
  },
  {
   "cell_type": "code",
   "execution_count": null,
   "id": "5340ec53",
   "metadata": {},
   "outputs": [],
   "source": []
  },
  {
   "cell_type": "code",
   "execution_count": null,
   "id": "4f400145",
   "metadata": {},
   "outputs": [],
   "source": []
  },
  {
   "cell_type": "code",
   "execution_count": null,
   "id": "e3c62b54",
   "metadata": {},
   "outputs": [],
   "source": []
  },
  {
   "cell_type": "code",
   "execution_count": null,
   "id": "7ef26253",
   "metadata": {},
   "outputs": [],
   "source": []
  },
  {
   "cell_type": "code",
   "execution_count": null,
   "id": "b18434fd",
   "metadata": {},
   "outputs": [],
   "source": []
  },
  {
   "cell_type": "code",
   "execution_count": null,
   "id": "72597535",
   "metadata": {},
   "outputs": [],
   "source": []
  },
  {
   "cell_type": "code",
   "execution_count": null,
   "id": "e00eaedc",
   "metadata": {},
   "outputs": [],
   "source": []
  },
  {
   "cell_type": "code",
   "execution_count": null,
   "id": "27197b8c",
   "metadata": {},
   "outputs": [],
   "source": []
  },
  {
   "cell_type": "code",
   "execution_count": null,
   "id": "60e4e21e",
   "metadata": {},
   "outputs": [],
   "source": []
  },
  {
   "cell_type": "code",
   "execution_count": null,
   "id": "041220b8",
   "metadata": {},
   "outputs": [],
   "source": []
  },
  {
   "cell_type": "code",
   "execution_count": null,
   "id": "e65c5365",
   "metadata": {},
   "outputs": [],
   "source": []
  },
  {
   "cell_type": "code",
   "execution_count": null,
   "id": "936de352",
   "metadata": {},
   "outputs": [],
   "source": []
  },
  {
   "cell_type": "code",
   "execution_count": null,
   "id": "82a74d61",
   "metadata": {},
   "outputs": [],
   "source": []
  },
  {
   "cell_type": "code",
   "execution_count": null,
   "id": "08da1e45",
   "metadata": {},
   "outputs": [],
   "source": []
  },
  {
   "cell_type": "code",
   "execution_count": null,
   "id": "e4839f1d",
   "metadata": {},
   "outputs": [],
   "source": []
  },
  {
   "cell_type": "code",
   "execution_count": null,
   "id": "31649d61",
   "metadata": {},
   "outputs": [],
   "source": []
  },
  {
   "cell_type": "code",
   "execution_count": null,
   "id": "6da24bd0",
   "metadata": {},
   "outputs": [],
   "source": []
  },
  {
   "cell_type": "code",
   "execution_count": null,
   "id": "2a027125",
   "metadata": {},
   "outputs": [],
   "source": []
  },
  {
   "cell_type": "code",
   "execution_count": null,
   "id": "f01c48dc",
   "metadata": {},
   "outputs": [],
   "source": []
  },
  {
   "cell_type": "code",
   "execution_count": null,
   "id": "1397c3b4",
   "metadata": {},
   "outputs": [],
   "source": []
  },
  {
   "cell_type": "code",
   "execution_count": null,
   "id": "b1f2056e",
   "metadata": {},
   "outputs": [],
   "source": []
  },
  {
   "cell_type": "code",
   "execution_count": null,
   "id": "f9d59fcb",
   "metadata": {},
   "outputs": [],
   "source": []
  },
  {
   "cell_type": "code",
   "execution_count": null,
   "id": "4b19f2e3",
   "metadata": {},
   "outputs": [],
   "source": []
  },
  {
   "cell_type": "code",
   "execution_count": null,
   "id": "7dead465",
   "metadata": {},
   "outputs": [],
   "source": []
  }
 ],
 "metadata": {
  "kernelspec": {
   "display_name": "Python 3 (ipykernel)",
   "language": "python",
   "name": "python3"
  },
  "language_info": {
   "codemirror_mode": {
    "name": "ipython",
    "version": 3
   },
   "file_extension": ".py",
   "mimetype": "text/x-python",
   "name": "python",
   "nbconvert_exporter": "python",
   "pygments_lexer": "ipython3",
   "version": "3.9.7"
  }
 },
 "nbformat": 4,
 "nbformat_minor": 5
}
