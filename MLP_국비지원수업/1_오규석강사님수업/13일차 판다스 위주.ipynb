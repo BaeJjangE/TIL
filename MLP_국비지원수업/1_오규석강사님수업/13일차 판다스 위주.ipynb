{
 "cells": [
  {
   "cell_type": "markdown",
   "id": "a501adee",
   "metadata": {},
   "source": [
    "Numpy로 연산 + 배열형태 \n",
    "<br>Pandas로 자료구조 및 시각화"
   ]
  },
  {
   "cell_type": "markdown",
   "id": "2d5f5ab4",
   "metadata": {},
   "source": [
    "인공지능사용하는 모듈 : 텐서플로, 파이터치"
   ]
  },
  {
   "cell_type": "markdown",
   "id": "b747f4c4",
   "metadata": {},
   "source": [
    "##  Pandas의 자료 구조\n",
    "- 서로 다른 형식을 갖는 여러 종류의 데이터를 컴퓨터가 이해할 수 있도록 동일한 형식을 갖는 구조로 통합할 필요가 있음\n",
    "- 판다스는 시리즈(1차원 배열)와 데이터프레임(2차원 배열)이라는 데이터 형식을 제공\n",
    "\n",
    "### 시리즈\n",
    "- 데이터가 순차적으로 나열된 1차원 배열(열벡터)\n",
    "- 인덱스는 데이터 값(value)과 일대일 대응\n",
    " - 인덱스는 데이터 값의 위치를 나타내는 이름표(주소) 역할\n",
    " - 인덱스로 데이터 값에 접근 가능\n"
   ]
  },
  {
   "cell_type": "markdown",
   "id": "dc61ee23",
   "metadata": {},
   "source": [
    "## 시리즈 만들기\n",
    "- 딕셔너리와 시리즈의 구조가 비슷하기 때문에 딕셔너리를 시리즈로 변환하는 방법을 많이 사용\n",
    "- 판다스 내장 함수인 Series() 사용\n",
    " - 딕셔너리를 함수의 인자로 전달\n",
    " \n",
    "### Series 함수 형식\n",
    "<code> 딕셔너리 -> 시리즈 변환 : pandas.Series(딕셔너리) </code>"
   ]
  },
  {
   "cell_type": "markdown",
   "id": "c5ebc6ae",
   "metadata": {},
   "source": [
    "딕셔너리를 시리즈로 변환하는 예제"
   ]
  },
  {
   "cell_type": "code",
   "execution_count": 22,
   "id": "b163fdac",
   "metadata": {},
   "outputs": [],
   "source": [
    "# 판다스 import\n",
    "import pandas as pd\n",
    "\n",
    "# Key:value를 쌍으로 갖는 딕셔너리를 생성. 변수 dict_data에 저장('a': 1, 'b': 2, 'c': 3)\n",
    "dict_data = {'a': 1, 'b': 2, 'c': 3}\n",
    "\n",
    "# 판다스 Series() 함수로 딕셔너리를 시리즈로 변환, 변수 sr에 저장\n",
    "sr = pd.Series(dict_data)\n",
    "\n"
   ]
  },
  {
   "cell_type": "code",
   "execution_count": 12,
   "id": "77f85645",
   "metadata": {},
   "outputs": [
    {
     "name": "stdout",
     "output_type": "stream",
     "text": [
      "<class 'pandas.core.series.Series'>\n"
     ]
    }
   ],
   "source": [
    "# sr의 자료형 출력\n",
    "print(type(sr))"
   ]
  },
  {
   "cell_type": "code",
   "execution_count": 16,
   "id": "cb76d266",
   "metadata": {
    "scrolled": true
   },
   "outputs": [
    {
     "name": "stdout",
     "output_type": "stream",
     "text": [
      "a    1\n",
      "b    2\n",
      "c    3\n",
      "dtype: int64\n",
      "1\n",
      "1\n"
     ]
    },
    {
     "data": {
      "text/plain": [
       "True"
      ]
     },
     "execution_count": 16,
     "metadata": {},
     "output_type": "execute_result"
    }
   ],
   "source": [
    "# 변수 sr에 저장되어 있는 시리즈 객체 출력\n",
    "print(sr)\n",
    "print(sr['a']) == print(sr[0])"
   ]
  },
  {
   "cell_type": "code",
   "execution_count": 24,
   "id": "77441b12",
   "metadata": {},
   "outputs": [
    {
     "name": "stdout",
     "output_type": "stream",
     "text": [
      "Index(['a', 'b', 'c'], dtype='object')\n",
      "[1 2 3]\n"
     ]
    }
   ],
   "source": [
    "# 인덱스 배열은 변수 idx에 저장, 데이터 값 배열은 변수 val에 저장\n",
    "idx = sr.index # 인덱스 표시해달라\n",
    "val = sr.values # 값 표시해달라\n",
    "print(idx)\n",
    "print(val) # ',' 로 구분 안돼있음, 리스트 아님 배열임"
   ]
  },
  {
   "cell_type": "markdown",
   "id": "022c206a",
   "metadata": {},
   "source": [
    "- 시리즈 객체 출력 시 인덱스 a,b,c는 왼쪽에 표시\n",
    "- 인덱스와 짝을 이루는 데이터 값 1,2,3은 오른쪽에 표시\n",
    "- 시리즈를 구성하는 데이터 값의 자료형은 정수형(int64)"
   ]
  },
  {
   "cell_type": "markdown",
   "id": "5cf6f3e5",
   "metadata": {},
   "source": [
    "참고\n",
    "- 판다스는 as pd로 자주 사용\n",
    "- Numpy는 \"np\"로 자주 사용"
   ]
  },
  {
   "cell_type": "markdown",
   "id": "016d988b",
   "metadata": {},
   "source": [
    "판다스 Series() 함수를 사용하여 파이썬 리스트를 시리즈로 변환하는 예제"
   ]
  },
  {
   "cell_type": "code",
   "execution_count": 5,
   "id": "36902e4d",
   "metadata": {},
   "outputs": [],
   "source": [
    "import pandas as pd\n",
    "\n",
    "# 리스트 생성, 변수 list_data에 저장\n",
    "list_data = ['2022-02-21', 3.14, \"김원빈\", 100, True]\n",
    "sr = pd.Series(list_data)\n"
   ]
  },
  {
   "cell_type": "code",
   "execution_count": 7,
   "id": "b45e2069",
   "metadata": {
    "scrolled": true
   },
   "outputs": [
    {
     "name": "stdout",
     "output_type": "stream",
     "text": [
      "0    2022-02-21\n",
      "1          3.14\n",
      "2           김원빈\n",
      "3           100\n",
      "4          True\n",
      "dtype: object\n"
     ]
    }
   ],
   "source": [
    "print(sr)"
   ]
  },
  {
   "cell_type": "markdown",
   "id": "9007466d",
   "metadata": {},
   "source": [
    "- 시리즈를 구성하는 원소 데이터 값의 자료형은 문자열(object)\n",
    " - 타입이 혼합되어있을시 object로 표시\n",
    "- 시리즈에서 인덱스는 크게 두가지 종류 존재\n",
    " - 정수형 위치 인덱스 and 인덱스 이름"
   ]
  },
  {
   "cell_type": "markdown",
   "id": "e1941910",
   "metadata": {},
   "source": [
    "시리즈의 index 속성을 이용하여 인덱스 배열 따로 선택 가능\n",
    "<br><br>\n",
    "시리즈의 values 속성을 이용하여 데이터 값 따로 선택 가능"
   ]
  },
  {
   "cell_type": "code",
   "execution_count": 25,
   "id": "f261436a",
   "metadata": {},
   "outputs": [],
   "source": [
    "import pandas as pd\n",
    "\n",
    "# 리스트 생성, 변수 list_data에 저장\n",
    "list_data = ['2022-02-21', 3.14, \"김원빈\", 100, True]\n",
    "sr = pd.Series(list_data)"
   ]
  },
  {
   "cell_type": "code",
   "execution_count": 28,
   "id": "1617102a",
   "metadata": {},
   "outputs": [
    {
     "name": "stdout",
     "output_type": "stream",
     "text": [
      "RangeIndex(start=0, stop=5, step=1)\n",
      "['2022-02-21' 3.14 '김원빈' 100 True]\n"
     ]
    }
   ],
   "source": [
    "# 인덱스 배열은 변수 idx에 저장, 데이터 값 배열은 변수 val에 저장\n",
    "idx = sr.index # 인덱스 표시해달라\n",
    "val = sr.values # 값 표시해달라\n",
    "print(idx) \n",
    "print(val) # ',' 로 구분 안돼있음, 리스트 아님 배열임"
   ]
  },
  {
   "cell_type": "markdown",
   "id": "ae54e766",
   "metadata": {},
   "source": [
    "판다스 Series() 함수를 사용하여 파이썬 튜플을 시리즈로 변환하는 예제(인덱스 정의)"
   ]
  },
  {
   "cell_type": "code",
   "execution_count": 29,
   "id": "a6f3548e",
   "metadata": {},
   "outputs": [],
   "source": [
    "import pandas as pd\n",
    "\n",
    "# 튜플 생성, 변수 list_data에 저장\n",
    "tuple_data = ('원빈', '2022-02-21', '남', True)\n",
    "sr = pd.Series(tuple_data, index=['이름', '오늘날짜', '성별', '학생여부']) # 튜플에 인덱스 지정하는 방법\n"
   ]
  },
  {
   "cell_type": "code",
   "execution_count": 30,
   "id": "d72314d6",
   "metadata": {
    "scrolled": true
   },
   "outputs": [
    {
     "name": "stdout",
     "output_type": "stream",
     "text": [
      "이름              원빈\n",
      "오늘날짜    2022-02-21\n",
      "성별               남\n",
      "학생여부          True\n",
      "dtype: object\n"
     ]
    }
   ],
   "source": [
    "print(sr)"
   ]
  },
  {
   "cell_type": "markdown",
   "id": "0f197931",
   "metadata": {},
   "source": [
    "시리즈 원소 선택 예제 1\n"
   ]
  },
  {
   "cell_type": "code",
   "execution_count": 32,
   "id": "2f7ad0ed",
   "metadata": {},
   "outputs": [
    {
     "name": "stdout",
     "output_type": "stream",
     "text": [
      "원빈\n",
      "원빈\n"
     ]
    }
   ],
   "source": [
    "# 원소를 1개 선택하는 예제\n",
    "\n",
    "# 정수형 위치 인덱스\n",
    "print(sr[0])\n",
    "\n",
    "# 인덱스 이름\n",
    "print(sr['이름'])"
   ]
  },
  {
   "cell_type": "markdown",
   "id": "7b8e726d",
   "metadata": {},
   "source": [
    "시리즈 원소 다중 선택 예제 2 - [] 두개필요"
   ]
  },
  {
   "cell_type": "code",
   "execution_count": 38,
   "id": "6bda1f37",
   "metadata": {},
   "outputs": [
    {
     "name": "stdout",
     "output_type": "stream",
     "text": [
      "오늘날짜    2022-02-21\n",
      "성별               남\n",
      "dtype: object\n",
      "오늘날짜    2022-02-21\n",
      "성별               남\n",
      "dtype: object\n"
     ]
    }
   ],
   "source": [
    "# 원소를 다중 선택(인덱스 리스트 활용)\n",
    "# 정수형 위치 인덱스\n",
    "print(sr[[1, 2]]) # 다중 일때는 []2개를 써줘야함\n",
    "\n",
    "# 인덱스 이름\n",
    "print(sr[['오늘날짜', '성별']])"
   ]
  },
  {
   "cell_type": "markdown",
   "id": "035006ad",
   "metadata": {},
   "source": [
    "시리즈 원소 다중 선택 예제 3 - 인덱스 범위 지정(슬라이싱)"
   ]
  },
  {
   "cell_type": "code",
   "execution_count": 46,
   "id": "ab174aa2",
   "metadata": {},
   "outputs": [
    {
     "name": "stdout",
     "output_type": "stream",
     "text": [
      "오늘날짜    2022-02-21\n",
      "성별               남\n",
      "dtype: object\n",
      "오늘날짜    2022-02-21\n",
      "성별               남\n",
      "dtype: object\n"
     ]
    }
   ],
   "source": [
    "# 정수형 위치 인덱스 \n",
    "print(sr[1:3]) # 2번까지 표시\n",
    "\n",
    "# 인덱스 이름\n",
    "print(sr['오늘날짜': '성별']) # 성별도 포함"
   ]
  },
  {
   "cell_type": "markdown",
   "id": "8db4ba2c",
   "metadata": {},
   "source": [
    "## 데이터 프레임 (2차원 배열)\n",
    "- 여러 개의 열벡터(시리즈)들이 같은 행 인덱스를 기준으로 결합된 2차원 벡터 또는 행렬(matrix)\n",
    "- 행과 열을 나타내기 위해서는 행 인덱스와 열 이름 두가지 종류의 주소를 사용\n",
    " - 행은 공통적이고 다양한 속성 데이터들의 모음인 레코드(record)\n",
    " - 열은 공통의 속성을 갖는 일련의 데이터의 집합\n"
   ]
  },
  {
   "cell_type": "markdown",
   "id": "3698122d",
   "metadata": {},
   "source": [
    "### 데이터 프레임 만들기\n",
    "1. 데이터프레임을 만들기 위해서는 같은 길이의 1차원 배열(Series)이 여러 개 필요\n",
    "2. 딕셔너리 값에 해당하는 각 리스트가 시리즈 배열로 변환되어 데이터 프레임의 열이 됨\n",
    "3. 딕셔너리 키는 각 시리즈의 이름으로 변환되어 데이터프레임의 열 이름이 됨\n",
    "4. 데이터프레임을 만들 때는 판다스 DataFrame() 이라는 함수를 사용\n",
    " - <code> 딕셔너리 -> 데이터프레임 변환 : pandas.DataFrame(딕셔너리 객체)</code>"
   ]
  },
  {
   "cell_type": "code",
   "execution_count": 54,
   "id": "7d8d4d98",
   "metadata": {},
   "outputs": [],
   "source": [
    "import pandas as pd\n",
    "\n",
    "# Key:value를 쌍으로 갖는 딕셔너리를 생성. 변수 dict_data에 저장('a': 1, 'b': 2, 'c': 3)\n",
    "dict_data = {'c0': [1, 2, 3], 'c1': [4,5,6], 'c2': [7,8,9], 'c3': [10,11,12], 'c4':[13,14,15]}\n",
    "\n",
    "# 판다스 DataFrame() 함수로 딕셔너리를 데이터프레임으로 변환, 변수 df에 저장\n",
    "df = pd.DataFrame(dict_data)"
   ]
  },
  {
   "cell_type": "code",
   "execution_count": 55,
   "id": "c2c544eb",
   "metadata": {},
   "outputs": [
    {
     "name": "stdout",
     "output_type": "stream",
     "text": [
      "<class 'pandas.core.frame.DataFrame'>\n"
     ]
    }
   ],
   "source": [
    "print(type(df))"
   ]
  },
  {
   "cell_type": "code",
   "execution_count": 56,
   "id": "30a7296f",
   "metadata": {},
   "outputs": [
    {
     "name": "stdout",
     "output_type": "stream",
     "text": [
      "   c0  c1  c2  c3  c4\n",
      "0   1   4   7  10  13\n",
      "1   2   5   8  11  14\n",
      "2   3   6   9  12  15\n"
     ]
    }
   ],
   "source": [
    "print(df)"
   ]
  },
  {
   "cell_type": "markdown",
   "id": "dee35e40",
   "metadata": {},
   "source": [
    "#### 행 인덱스 / 열 이름 설정\n",
    "- 2차원 배열 -> 데이터프레임 변환할 때 행 인덱스와 열 이름 속성을 사용자가 직접 지정 가능<br>\n",
    "<code> 행 인덱스, 열 이름 설정: pandas.DataFrame(2차원 배열, index=행 인덱스 배열, columns=열 인덱스 배열) </code>\n"
   ]
  },
  {
   "cell_type": "markdown",
   "id": "25d2b4b7",
   "metadata": {},
   "source": [
    "#### 행 인덱스 / 열 이름 설정 예제"
   ]
  },
  {
   "cell_type": "code",
   "execution_count": 70,
   "id": "914a0989",
   "metadata": {},
   "outputs": [],
   "source": [
    "import pandas as pd\n",
    "\n",
    "# 행 인덱스 / 열 이름을 지정하여 데이터프레임 만들기\n",
    "df = pd.DataFrame([[22, '남', '한해대'], [21, '여', '국산대'], [20, \"남\", '부산대']],\n",
    "                  index = [\"원빈\", \"영신\", \"성민\"], columns = ['나이', '성별', '학교'])\n",
    "\n"
   ]
  },
  {
   "cell_type": "code",
   "execution_count": 59,
   "id": "5850afd9",
   "metadata": {},
   "outputs": [
    {
     "name": "stdout",
     "output_type": "stream",
     "text": [
      "    나이 성별   학교\n",
      "원빈  22  남  한해대\n",
      "영신  21  여  국산대\n",
      "성민  20  남  부산대\n"
     ]
    }
   ],
   "source": [
    "print(df)"
   ]
  },
  {
   "cell_type": "code",
   "execution_count": 60,
   "id": "68959631",
   "metadata": {},
   "outputs": [
    {
     "name": "stdout",
     "output_type": "stream",
     "text": [
      "Index(['원빈', '영신', '성민'], dtype='object')\n"
     ]
    }
   ],
   "source": [
    "print(df.index)"
   ]
  },
  {
   "cell_type": "code",
   "execution_count": 61,
   "id": "98338625",
   "metadata": {},
   "outputs": [
    {
     "name": "stdout",
     "output_type": "stream",
     "text": [
      "Index(['나이', '성별', '학교'], dtype='object')\n"
     ]
    }
   ],
   "source": [
    "print(df.columns)"
   ]
  },
  {
   "cell_type": "code",
   "execution_count": 62,
   "id": "c3dacb41",
   "metadata": {},
   "outputs": [
    {
     "name": "stdout",
     "output_type": "stream",
     "text": [
      "[[22 '남' '한해대']\n",
      " [21 '여' '국산대']\n",
      " [20 '남' '부산대']]\n"
     ]
    }
   ],
   "source": [
    "print(df.values)"
   ]
  },
  {
   "cell_type": "markdown",
   "id": "2ac400c3",
   "metadata": {},
   "source": [
    "### 행 인덱스 / 열 이름 변경<br>\n",
    "<code>행 인덱스 변경: DataFrame객체.index = 새로운 행 인덱스 배열</code><br>\n",
    "<code>열 이름 변경: DataFrame객체.columns = 새로운 열 이름 배열</code>"
   ]
  },
  {
   "cell_type": "code",
   "execution_count": 74,
   "id": "8cf74862",
   "metadata": {},
   "outputs": [],
   "source": [
    "df.index = ['준서', '지연', '성철']\n",
    "df.columns = ['연령', '남녀', '소속']"
   ]
  },
  {
   "cell_type": "code",
   "execution_count": 73,
   "id": "9eac1fb1",
   "metadata": {},
   "outputs": [
    {
     "name": "stdout",
     "output_type": "stream",
     "text": [
      "    연령 성별   소속\n",
      "준서  22  남  한해대\n",
      "지연  21  여  국산대\n",
      "성철  20  남  부산대\n"
     ]
    }
   ],
   "source": [
    "print(df)"
   ]
  },
  {
   "cell_type": "markdown",
   "id": "80263902",
   "metadata": {},
   "source": [
    "### rename() 함수를 사용하여 행 인덱스 / 열 이름 변경 가능<br>\n",
    "<code>행 인덱스 변경: DataFrame객체.rename(index ={기존인덱스:변경인덱스, ...})</code><br>\n",
    "<code>열 이름 변경: DataFrame객체.rename(columns ={기존열이름:변경열이름, ...})</code>"
   ]
  },
  {
   "cell_type": "markdown",
   "id": "080d2215",
   "metadata": {},
   "source": [
    "#### 행 인덱스 / 열 이름 변경 예제2(rename) : 표시만보여주고 실제값은 변수에 넣거나, 옵션에 inplace = True를 넣어주어야함"
   ]
  },
  {
   "cell_type": "code",
   "execution_count": 90,
   "id": "c39314ba",
   "metadata": {},
   "outputs": [],
   "source": [
    "import pandas as pd\n",
    "\n",
    "# 행 인덱스 / 열 이름을 지정하여 데이터프레임 만들기\n",
    "df = pd.DataFrame([[22, '남', '한해대'], [21, '여', '국산대'], [20, \"남\", '부산대']],\n",
    "                  index = [\"원빈\", \"영신\", \"성민\"], columns = ['나이', '성별', '학교'])"
   ]
  },
  {
   "cell_type": "code",
   "execution_count": 80,
   "id": "ddb94e76",
   "metadata": {
    "scrolled": true
   },
   "outputs": [
    {
     "name": "stdout",
     "output_type": "stream",
     "text": [
      "    나이 성별   학교\n",
      "원빈  22  남  한해대\n",
      "영신  21  여  국산대\n",
      "성민  20  남  부산대\n"
     ]
    }
   ],
   "source": [
    "print(df)"
   ]
  },
  {
   "cell_type": "code",
   "execution_count": 94,
   "id": "41b244a8",
   "metadata": {
    "scrolled": true
   },
   "outputs": [
    {
     "data": {
      "text/html": [
       "<div>\n",
       "<style scoped>\n",
       "    .dataframe tbody tr th:only-of-type {\n",
       "        vertical-align: middle;\n",
       "    }\n",
       "\n",
       "    .dataframe tbody tr th {\n",
       "        vertical-align: top;\n",
       "    }\n",
       "\n",
       "    .dataframe thead th {\n",
       "        text-align: right;\n",
       "    }\n",
       "</style>\n",
       "<table border=\"1\" class=\"dataframe\">\n",
       "  <thead>\n",
       "    <tr style=\"text-align: right;\">\n",
       "      <th></th>\n",
       "      <th>연령</th>\n",
       "      <th>남녀</th>\n",
       "      <th>학교</th>\n",
       "    </tr>\n",
       "  </thead>\n",
       "  <tbody>\n",
       "    <tr>\n",
       "      <th>빈원</th>\n",
       "      <td>22</td>\n",
       "      <td>남</td>\n",
       "      <td>한해대</td>\n",
       "    </tr>\n",
       "    <tr>\n",
       "      <th>영신</th>\n",
       "      <td>21</td>\n",
       "      <td>여</td>\n",
       "      <td>국산대</td>\n",
       "    </tr>\n",
       "    <tr>\n",
       "      <th>성민</th>\n",
       "      <td>20</td>\n",
       "      <td>남</td>\n",
       "      <td>부산대</td>\n",
       "    </tr>\n",
       "  </tbody>\n",
       "</table>\n",
       "</div>"
      ],
      "text/plain": [
       "    연령 남녀   학교\n",
       "빈원  22  남  한해대\n",
       "영신  21  여  국산대\n",
       "성민  20  남  부산대"
      ]
     },
     "execution_count": 94,
     "metadata": {},
     "output_type": "execute_result"
    }
   ],
   "source": [
    "df.rename(index={\"원빈\":\"빈원\"}, inplace = True)\n",
    "df.rename(columns={\"나이\":\"연령\", \"성별\":\"남녀\"})"
   ]
  },
  {
   "cell_type": "code",
   "execution_count": 95,
   "id": "26e01d21",
   "metadata": {},
   "outputs": [
    {
     "data": {
      "text/html": [
       "<div>\n",
       "<style scoped>\n",
       "    .dataframe tbody tr th:only-of-type {\n",
       "        vertical-align: middle;\n",
       "    }\n",
       "\n",
       "    .dataframe tbody tr th {\n",
       "        vertical-align: top;\n",
       "    }\n",
       "\n",
       "    .dataframe thead th {\n",
       "        text-align: right;\n",
       "    }\n",
       "</style>\n",
       "<table border=\"1\" class=\"dataframe\">\n",
       "  <thead>\n",
       "    <tr style=\"text-align: right;\">\n",
       "      <th></th>\n",
       "      <th>나이</th>\n",
       "      <th>성별</th>\n",
       "      <th>학교</th>\n",
       "    </tr>\n",
       "  </thead>\n",
       "  <tbody>\n",
       "    <tr>\n",
       "      <th>빈원</th>\n",
       "      <td>22</td>\n",
       "      <td>남</td>\n",
       "      <td>한해대</td>\n",
       "    </tr>\n",
       "    <tr>\n",
       "      <th>영신</th>\n",
       "      <td>21</td>\n",
       "      <td>여</td>\n",
       "      <td>국산대</td>\n",
       "    </tr>\n",
       "    <tr>\n",
       "      <th>성민</th>\n",
       "      <td>20</td>\n",
       "      <td>남</td>\n",
       "      <td>부산대</td>\n",
       "    </tr>\n",
       "  </tbody>\n",
       "</table>\n",
       "</div>"
      ],
      "text/plain": [
       "    나이 성별   학교\n",
       "빈원  22  남  한해대\n",
       "영신  21  여  국산대\n",
       "성민  20  남  부산대"
      ]
     },
     "execution_count": 95,
     "metadata": {},
     "output_type": "execute_result"
    }
   ],
   "source": [
    "df"
   ]
  },
  {
   "cell_type": "markdown",
   "id": "5d0e7750",
   "metadata": {},
   "source": [
    "### 행 / 열 삭제\n",
    "- 행 / 열 삭제 시 drop() 함수 사용\n",
    "- 행을 삭제할 때 축(axis) 옵션으로 axis=0 혹은 입력X\n",
    "- 열을 삭제할 때 축(axis) 옵션으로 axis=1 입력<br>\n",
    "<code>행 삭제: DataFrame객체.drop(행 인덱스 또는 배열, axis=0)</code><br>\n",
    "<code>열 삭제: DataFrame객체.drop(열 이름 또는 배열, axis=1)</code>"
   ]
  },
  {
   "cell_type": "markdown",
   "id": "08eb65f7",
   "metadata": {},
   "source": [
    "### 행 삭제 예제"
   ]
  },
  {
   "cell_type": "code",
   "execution_count": 301,
   "id": "30785dae",
   "metadata": {},
   "outputs": [],
   "source": [
    "import pandas as pd\n",
    "\n",
    "exam_data = {'국어': [70,90,80], '수학': [90, 85, 80], '영어': [100, 80, 90], '음악': [70, 90, 100]}\n",
    "df = pd.DataFrame(exam_data, index=['인서', '원빈', '규석'])"
   ]
  },
  {
   "cell_type": "code",
   "execution_count": 302,
   "id": "d5b5cac4",
   "metadata": {
    "scrolled": true
   },
   "outputs": [
    {
     "name": "stdout",
     "output_type": "stream",
     "text": [
      "    국어  수학   영어   음악\n",
      "인서  70  90  100   70\n",
      "원빈  90  85   80   90\n",
      "규석  80  80   90  100\n"
     ]
    }
   ],
   "source": [
    "print(df)"
   ]
  },
  {
   "cell_type": "code",
   "execution_count": 1,
   "id": "e6244ade",
   "metadata": {},
   "outputs": [],
   "source": [
    "# 데이터프레임 df를 복제하여 변수 df2에 저장, df2 1개 행(row) 제거\n",
    "import pandas as pd\n",
    "\n",
    "exam_data = {'국어': [70,90,80], '수학': [90, 85, 80], '영어': [100, 80, 90], '음악': [70, 90, 100]}\n",
    "df2 = pd.DataFrame(exam_data, index=['인서', '원빈', '규석'])\n",
    "df2.drop('인서', axis=0, inplace=True)"
   ]
  },
  {
   "cell_type": "code",
   "execution_count": 304,
   "id": "3fd18285",
   "metadata": {},
   "outputs": [
    {
     "name": "stdout",
     "output_type": "stream",
     "text": [
      "    국어  수학  영어   음악\n",
      "원빈  90  85  80   90\n",
      "규석  80  80  90  100\n"
     ]
    }
   ],
   "source": [
    "print(df2)"
   ]
  },
  {
   "cell_type": "code",
   "execution_count": 305,
   "id": "b2ae16bd",
   "metadata": {
    "scrolled": true
   },
   "outputs": [
    {
     "data": {
      "text/html": [
       "<div>\n",
       "<style scoped>\n",
       "    .dataframe tbody tr th:only-of-type {\n",
       "        vertical-align: middle;\n",
       "    }\n",
       "\n",
       "    .dataframe tbody tr th {\n",
       "        vertical-align: top;\n",
       "    }\n",
       "\n",
       "    .dataframe thead th {\n",
       "        text-align: right;\n",
       "    }\n",
       "</style>\n",
       "<table border=\"1\" class=\"dataframe\">\n",
       "  <thead>\n",
       "    <tr style=\"text-align: right;\">\n",
       "      <th></th>\n",
       "      <th>국어</th>\n",
       "      <th>수학</th>\n",
       "      <th>영어</th>\n",
       "      <th>음악</th>\n",
       "    </tr>\n",
       "  </thead>\n",
       "  <tbody>\n",
       "    <tr>\n",
       "      <th>인서</th>\n",
       "      <td>70</td>\n",
       "      <td>90</td>\n",
       "      <td>100</td>\n",
       "      <td>70</td>\n",
       "    </tr>\n",
       "  </tbody>\n",
       "</table>\n",
       "</div>"
      ],
      "text/plain": [
       "    국어  수학   영어  음악\n",
       "인서  70  90  100  70"
      ]
     },
     "execution_count": 305,
     "metadata": {},
     "output_type": "execute_result"
    }
   ],
   "source": [
    "# 데이터프레임 df를 복제하여 변수 df3에 저장, df3 2개 행(row) 제거\n",
    "import pandas as pd\n",
    "\n",
    "exam_data = {'국어': [70,90,80], '수학': [90, 85, 80], '영어': [100, 80, 90], '음악': [70, 90, 100]}\n",
    "df3 = pd.DataFrame(exam_data, index=['인서', '원빈', '규석'])\n",
    "df3.drop([\"원빈\", \"규석\"], axis=0)"
   ]
  },
  {
   "cell_type": "markdown",
   "id": "4adedda9",
   "metadata": {},
   "source": [
    "### 열 삭제 예제 - drop 옵션에 axis=1 추가"
   ]
  },
  {
   "cell_type": "code",
   "execution_count": 131,
   "id": "5681b120",
   "metadata": {},
   "outputs": [],
   "source": [
    "import pandas as pd\n",
    "\n",
    "exam_data = {'국어': [70,90,80], '수학': [90, 85, 80], '영어': [100, 80, 90], '음악': [70, 90, 100]}\n",
    "df = pd.DataFrame(exam_data, index=['인제', '나름', '규석'])"
   ]
  },
  {
   "cell_type": "code",
   "execution_count": 134,
   "id": "9f4772ce",
   "metadata": {},
   "outputs": [
    {
     "name": "stdout",
     "output_type": "stream",
     "text": [
      "    국어  수학   영어   음악\n",
      "인제  70  90  100   70\n",
      "나름  90  85   80   90\n",
      "규석  80  80   90  100\n"
     ]
    }
   ],
   "source": [
    "print(df)"
   ]
  },
  {
   "cell_type": "code",
   "execution_count": 135,
   "id": "56b7f36d",
   "metadata": {},
   "outputs": [
    {
     "data": {
      "text/html": [
       "<div>\n",
       "<style scoped>\n",
       "    .dataframe tbody tr th:only-of-type {\n",
       "        vertical-align: middle;\n",
       "    }\n",
       "\n",
       "    .dataframe tbody tr th {\n",
       "        vertical-align: top;\n",
       "    }\n",
       "\n",
       "    .dataframe thead th {\n",
       "        text-align: right;\n",
       "    }\n",
       "</style>\n",
       "<table border=\"1\" class=\"dataframe\">\n",
       "  <thead>\n",
       "    <tr style=\"text-align: right;\">\n",
       "      <th></th>\n",
       "      <th>수학</th>\n",
       "      <th>영어</th>\n",
       "      <th>음악</th>\n",
       "    </tr>\n",
       "  </thead>\n",
       "  <tbody>\n",
       "    <tr>\n",
       "      <th>인제</th>\n",
       "      <td>90</td>\n",
       "      <td>100</td>\n",
       "      <td>70</td>\n",
       "    </tr>\n",
       "    <tr>\n",
       "      <th>나름</th>\n",
       "      <td>85</td>\n",
       "      <td>80</td>\n",
       "      <td>90</td>\n",
       "    </tr>\n",
       "    <tr>\n",
       "      <th>규석</th>\n",
       "      <td>80</td>\n",
       "      <td>90</td>\n",
       "      <td>100</td>\n",
       "    </tr>\n",
       "  </tbody>\n",
       "</table>\n",
       "</div>"
      ],
      "text/plain": [
       "    수학   영어   음악\n",
       "인제  90  100   70\n",
       "나름  85   80   90\n",
       "규석  80   90  100"
      ]
     },
     "execution_count": 135,
     "metadata": {},
     "output_type": "execute_result"
    }
   ],
   "source": [
    "df.drop('국어', axis=1)"
   ]
  },
  {
   "cell_type": "code",
   "execution_count": 136,
   "id": "47756162",
   "metadata": {},
   "outputs": [
    {
     "data": {
      "text/html": [
       "<div>\n",
       "<style scoped>\n",
       "    .dataframe tbody tr th:only-of-type {\n",
       "        vertical-align: middle;\n",
       "    }\n",
       "\n",
       "    .dataframe tbody tr th {\n",
       "        vertical-align: top;\n",
       "    }\n",
       "\n",
       "    .dataframe thead th {\n",
       "        text-align: right;\n",
       "    }\n",
       "</style>\n",
       "<table border=\"1\" class=\"dataframe\">\n",
       "  <thead>\n",
       "    <tr style=\"text-align: right;\">\n",
       "      <th></th>\n",
       "      <th>국어</th>\n",
       "      <th>수학</th>\n",
       "    </tr>\n",
       "  </thead>\n",
       "  <tbody>\n",
       "    <tr>\n",
       "      <th>인제</th>\n",
       "      <td>70</td>\n",
       "      <td>90</td>\n",
       "    </tr>\n",
       "    <tr>\n",
       "      <th>나름</th>\n",
       "      <td>90</td>\n",
       "      <td>85</td>\n",
       "    </tr>\n",
       "    <tr>\n",
       "      <th>규석</th>\n",
       "      <td>80</td>\n",
       "      <td>80</td>\n",
       "    </tr>\n",
       "  </tbody>\n",
       "</table>\n",
       "</div>"
      ],
      "text/plain": [
       "    국어  수학\n",
       "인제  70  90\n",
       "나름  90  85\n",
       "규석  80  80"
      ]
     },
     "execution_count": 136,
     "metadata": {},
     "output_type": "execute_result"
    }
   ],
   "source": [
    "df.drop(['영어','음악'], axis=1)"
   ]
  },
  {
   "cell_type": "markdown",
   "id": "b8949695",
   "metadata": {},
   "source": [
    "## 행, 열 선택하기"
   ]
  },
  {
   "cell_type": "markdown",
   "id": "7131a09c",
   "metadata": {},
   "source": [
    "### 행 선택[loc, iloc]\n",
    "- 데이터 시각화 부분에서 기준이 될 행을 선택할 수 있음\n",
    " - 인덱스 이름을 기준으로 행을 선택할 시 loc 사용\n",
    "   - 범위 지정 시 범위 끝 포함\n",
    " - 정수형 위치 인덱스를 기준으로 행을 선택할 시 iloc 사용\n",
    "   - 범위 지정 시 범위 끝 미포함"
   ]
  },
  {
   "cell_type": "code",
   "execution_count": 224,
   "id": "4c16c47e",
   "metadata": {},
   "outputs": [],
   "source": [
    "import pandas as pd\n",
    "\n",
    "exam_data = {'국어': [70,90,80], '수학': [90, 85, 80], '영어': [100, 80, 90], '음악': [70, 90, 100]}\n",
    "df = pd.DataFrame(exam_data, index=['인제', '나름', '규석'])"
   ]
  },
  {
   "cell_type": "code",
   "execution_count": 152,
   "id": "e299b771",
   "metadata": {},
   "outputs": [],
   "source": [
    "# 행 인덱스 이름을 사용하여 행 1개 선택\n",
    "label1 = df.loc['인제']\n",
    "position = df.iloc[0]"
   ]
  },
  {
   "cell_type": "code",
   "execution_count": 153,
   "id": "f6915fe4",
   "metadata": {
    "scrolled": true
   },
   "outputs": [
    {
     "name": "stdout",
     "output_type": "stream",
     "text": [
      "국어     70\n",
      "수학     90\n",
      "영어    100\n",
      "음악     70\n",
      "Name: 인제, dtype: int64\n"
     ]
    }
   ],
   "source": [
    "print(label1)"
   ]
  },
  {
   "cell_type": "code",
   "execution_count": 154,
   "id": "bdb490d3",
   "metadata": {},
   "outputs": [
    {
     "name": "stdout",
     "output_type": "stream",
     "text": [
      "국어     70\n",
      "수학     90\n",
      "영어    100\n",
      "음악     70\n",
      "Name: 인제, dtype: int64\n"
     ]
    }
   ],
   "source": [
    "print(position)"
   ]
  },
  {
   "cell_type": "code",
   "execution_count": 159,
   "id": "4be7e51d",
   "metadata": {},
   "outputs": [
    {
     "name": "stdout",
     "output_type": "stream",
     "text": [
      "<class 'pandas.core.series.Series'>\n"
     ]
    }
   ],
   "source": [
    "print(type(position)) # 행 1개 선택시 시리즈 형태로 출력"
   ]
  },
  {
   "cell_type": "code",
   "execution_count": 230,
   "id": "48d2b69d",
   "metadata": {},
   "outputs": [],
   "source": [
    "# 행 인덱스 이름을 사용하여 행 2개 선택\n",
    "label2 = df.loc[['인제', '나름']]\n",
    "position2 = df.iloc[[1, 2]]"
   ]
  },
  {
   "cell_type": "code",
   "execution_count": 226,
   "id": "3b3acccf",
   "metadata": {
    "scrolled": false
   },
   "outputs": [
    {
     "name": "stdout",
     "output_type": "stream",
     "text": [
      "    국어  수학   영어  음악\n",
      "인제  70  90  100  70\n",
      "나름  90  85   80  90\n"
     ]
    }
   ],
   "source": [
    "print(label2)"
   ]
  },
  {
   "cell_type": "code",
   "execution_count": 231,
   "id": "0e4fcc6c",
   "metadata": {
    "scrolled": false
   },
   "outputs": [
    {
     "name": "stdout",
     "output_type": "stream",
     "text": [
      "    국어  수학  영어   음악\n",
      "나름  90  85  80   90\n",
      "규석  80  80  90  100\n"
     ]
    }
   ],
   "source": [
    "print(position2)"
   ]
  },
  {
   "cell_type": "code",
   "execution_count": 173,
   "id": "9d39f34e",
   "metadata": {},
   "outputs": [
    {
     "name": "stdout",
     "output_type": "stream",
     "text": [
      "<class 'pandas.core.frame.DataFrame'>\n"
     ]
    }
   ],
   "source": [
    "print(type(position2)) # 행 2개 선택시 데이터프레임 형태로 출력"
   ]
  },
  {
   "cell_type": "code",
   "execution_count": 168,
   "id": "926551f3",
   "metadata": {},
   "outputs": [],
   "source": [
    "# 행 인덱스 이름을 사용하여 행 여러개 선택\n",
    "label3 = df.loc['인제':'규석'] # 끝포함\n",
    "position3 = df.iloc[0:1] # 끝포함x"
   ]
  },
  {
   "cell_type": "code",
   "execution_count": 166,
   "id": "cd8b66fd",
   "metadata": {},
   "outputs": [
    {
     "name": "stdout",
     "output_type": "stream",
     "text": [
      "    국어  수학   영어   음악\n",
      "인제  70  90  100   70\n",
      "나름  90  85   80   90\n",
      "규석  80  80   90  100\n"
     ]
    }
   ],
   "source": [
    "print(label3)"
   ]
  },
  {
   "cell_type": "code",
   "execution_count": 167,
   "id": "3b2a340a",
   "metadata": {},
   "outputs": [
    {
     "name": "stdout",
     "output_type": "stream",
     "text": [
      "    국어  수학   영어  음악\n",
      "인제  70  90  100  70\n"
     ]
    }
   ],
   "source": [
    "print(position3)"
   ]
  },
  {
   "cell_type": "markdown",
   "id": "98433d7d",
   "metadata": {},
   "source": [
    "### 열 선택 예제"
   ]
  },
  {
   "cell_type": "code",
   "execution_count": 183,
   "id": "0e3719b7",
   "metadata": {},
   "outputs": [],
   "source": [
    "import pandas as pd\n",
    "\n",
    "exam_data = {'국어': [70,90,80], '수학': [90, 85, 80], '영어': [100, 80, 90], '음악': [70, 90, 100]}\n",
    "df = pd.DataFrame(exam_data, index=['요셉', '성훈', '동호'])"
   ]
  },
  {
   "cell_type": "code",
   "execution_count": 184,
   "id": "f34f4bd3",
   "metadata": {},
   "outputs": [
    {
     "name": "stdout",
     "output_type": "stream",
     "text": [
      "요셉    90\n",
      "성훈    85\n",
      "동호    80\n",
      "Name: 수학, dtype: int64\n"
     ]
    }
   ],
   "source": [
    "# '수학' 점수 데이터만 선택(열 선택)\n",
    "math = df['수학']\n",
    "print(math)"
   ]
  },
  {
   "cell_type": "code",
   "execution_count": 185,
   "id": "42f8e713",
   "metadata": {},
   "outputs": [
    {
     "name": "stdout",
     "output_type": "stream",
     "text": [
      "요셉    100\n",
      "성훈     80\n",
      "동호     90\n",
      "Name: 영어, dtype: int64\n"
     ]
    }
   ],
   "source": [
    "# 'df.' 형식으로도 사용 가능\n",
    "english = df.영어\n",
    "print(english)"
   ]
  },
  {
   "cell_type": "code",
   "execution_count": 186,
   "id": "87868cdd",
   "metadata": {},
   "outputs": [
    {
     "name": "stdout",
     "output_type": "stream",
     "text": [
      "     음악  국어\n",
      "요셉   70  70\n",
      "성훈   90  90\n",
      "동호  100  80\n"
     ]
    }
   ],
   "source": [
    "# 열 두 개 선택\n",
    "kor_music = df[['음악', '국어']]\n",
    "print(kor_music)"
   ]
  },
  {
   "cell_type": "markdown",
   "id": "c741b3e0",
   "metadata": {},
   "source": [
    "- 열은 여러개 선택 불가능"
   ]
  },
  {
   "cell_type": "markdown",
   "id": "0f0a8724",
   "metadata": {},
   "source": [
    "## 원소 선택\n",
    "- 데이터프레임의 행 인덱스와 열 이름을 [행,열] 형식의 2차원 좌표로 입력하여 원소 위치를 지정<br>\n",
    "<code>인덱스 이름: DataFrame객체.loc[행인덱스이름, 열이름]</code><br>\n",
    "<code>정수 위치 인덱스: DataFrame객체.iloc[행번호, 열번호]</code>\n",
    " - loc와 iloc는 행 때문에 사용"
   ]
  },
  {
   "cell_type": "code",
   "execution_count": 317,
   "id": "6accd8eb",
   "metadata": {},
   "outputs": [],
   "source": [
    "import pandas as pd\n",
    "\n",
    "exam_data = {'이름': ['용준', '수빈', '재영'], '국어': [70,90,80], '수학': [90, 85, 80], '영어': [100, 80, 90], '음악': [70, 90, 100]}\n",
    "df = pd.DataFrame(exam_data)"
   ]
  },
  {
   "cell_type": "code",
   "execution_count": 318,
   "id": "b0c96ee9",
   "metadata": {
    "scrolled": true
   },
   "outputs": [
    {
     "name": "stdout",
     "output_type": "stream",
     "text": [
      "   이름  국어  수학   영어   음악\n",
      "0  용준  70  90  100   70\n",
      "1  수빈  90  85   80   90\n",
      "2  재영  80  80   90  100\n"
     ]
    }
   ],
   "source": [
    "print(df)"
   ]
  },
  {
   "cell_type": "markdown",
   "id": "a6d778bc",
   "metadata": {},
   "source": [
    "#### 컬럼을 인덱스로 바꾸는 방법"
   ]
  },
  {
   "cell_type": "code",
   "execution_count": 319,
   "id": "47088f84",
   "metadata": {},
   "outputs": [
    {
     "name": "stdout",
     "output_type": "stream",
     "text": [
      "    국어  수학   영어   음악\n",
      "이름                  \n",
      "용준  70  90  100   70\n",
      "수빈  90  85   80   90\n",
      "재영  80  80   90  100\n"
     ]
    }
   ],
   "source": [
    "# '이름' 열을 새로운 인덱스로 지정(set_index 사용)\n",
    "# df 객체에 변경 사항 저장(inplace = True 사용)\n",
    "df.set_index('이름', inplace = True)\n",
    "print(df)"
   ]
  },
  {
   "cell_type": "code",
   "execution_count": 311,
   "id": "d8e7c240",
   "metadata": {},
   "outputs": [
    {
     "name": "stdout",
     "output_type": "stream",
     "text": [
      "Index(['용준', '수빈', '재영'], dtype='object', name='이름')\n"
     ]
    }
   ],
   "source": [
    "print(df.index)"
   ]
  },
  {
   "cell_type": "code",
   "execution_count": 312,
   "id": "ef4f3d72",
   "metadata": {},
   "outputs": [
    {
     "name": "stdout",
     "output_type": "stream",
     "text": [
      "Index(['국어', '수학', '영어', '음악'], dtype='object')\n"
     ]
    }
   ],
   "source": [
    "print(df.columns)"
   ]
  },
  {
   "cell_type": "markdown",
   "id": "a2f3c193",
   "metadata": {},
   "source": [
    "#### 부록 - 인덱스 해제하는 방법"
   ]
  },
  {
   "cell_type": "code",
   "execution_count": 313,
   "id": "f4e6123b",
   "metadata": {
    "scrolled": true
   },
   "outputs": [
    {
     "data": {
      "text/html": [
       "<div>\n",
       "<style scoped>\n",
       "    .dataframe tbody tr th:only-of-type {\n",
       "        vertical-align: middle;\n",
       "    }\n",
       "\n",
       "    .dataframe tbody tr th {\n",
       "        vertical-align: top;\n",
       "    }\n",
       "\n",
       "    .dataframe thead th {\n",
       "        text-align: right;\n",
       "    }\n",
       "</style>\n",
       "<table border=\"1\" class=\"dataframe\">\n",
       "  <thead>\n",
       "    <tr style=\"text-align: right;\">\n",
       "      <th></th>\n",
       "      <th>이름</th>\n",
       "      <th>국어</th>\n",
       "      <th>수학</th>\n",
       "      <th>영어</th>\n",
       "      <th>음악</th>\n",
       "    </tr>\n",
       "  </thead>\n",
       "  <tbody>\n",
       "    <tr>\n",
       "      <th>0</th>\n",
       "      <td>용준</td>\n",
       "      <td>70</td>\n",
       "      <td>90</td>\n",
       "      <td>100</td>\n",
       "      <td>70</td>\n",
       "    </tr>\n",
       "    <tr>\n",
       "      <th>1</th>\n",
       "      <td>수빈</td>\n",
       "      <td>90</td>\n",
       "      <td>85</td>\n",
       "      <td>80</td>\n",
       "      <td>90</td>\n",
       "    </tr>\n",
       "    <tr>\n",
       "      <th>2</th>\n",
       "      <td>재영</td>\n",
       "      <td>80</td>\n",
       "      <td>80</td>\n",
       "      <td>90</td>\n",
       "      <td>100</td>\n",
       "    </tr>\n",
       "  </tbody>\n",
       "</table>\n",
       "</div>"
      ],
      "text/plain": [
       "   이름  국어  수학   영어   음악\n",
       "0  용준  70  90  100   70\n",
       "1  수빈  90  85   80   90\n",
       "2  재영  80  80   90  100"
      ]
     },
     "execution_count": 313,
     "metadata": {},
     "output_type": "execute_result"
    }
   ],
   "source": [
    "# 인덱스 해제하는 방법 reset_index 사용\n",
    "df.reset_index('이름')"
   ]
  },
  {
   "cell_type": "markdown",
   "id": "6bf70f1b",
   "metadata": {},
   "source": [
    "### 원소 선택해보기"
   ]
  },
  {
   "cell_type": "code",
   "execution_count": 213,
   "id": "6da76b1e",
   "metadata": {
    "scrolled": true
   },
   "outputs": [
    {
     "name": "stdout",
     "output_type": "stream",
     "text": [
      "100\n"
     ]
    }
   ],
   "source": [
    "# 데이터프레임 df의 특정 원소 1개 선택('용준'의 '영어' 점수)\n",
    "a = df.loc['용준', '영어']\n",
    "print(a)"
   ]
  },
  {
   "cell_type": "code",
   "execution_count": 217,
   "id": "5c35e70f",
   "metadata": {},
   "outputs": [
    {
     "name": "stdout",
     "output_type": "stream",
     "text": [
      "100\n"
     ]
    }
   ],
   "source": [
    "# 데이터프레임 df의 특정 원소 1개 선택('용준'의 '영어' 점수)\n",
    "b = df.iloc[0, 2]\n",
    "print(b)"
   ]
  },
  {
   "cell_type": "code",
   "execution_count": 218,
   "id": "84984153",
   "metadata": {},
   "outputs": [
    {
     "name": "stdout",
     "output_type": "stream",
     "text": [
      "국어    90\n",
      "수학    85\n",
      "Name: 수빈, dtype: int64\n"
     ]
    }
   ],
   "source": [
    "# 데이터프레임 df의 특정 원소 2개 선택('수빈'의 '국어', '수학' 점수)\n",
    "c = df.loc['수빈', ['국어', '수학']]\n",
    "print(c)"
   ]
  },
  {
   "cell_type": "code",
   "execution_count": 222,
   "id": "55c72927",
   "metadata": {
    "scrolled": true
   },
   "outputs": [
    {
     "name": "stdout",
     "output_type": "stream",
     "text": [
      "국어    90\n",
      "수학    85\n",
      "Name: 수빈, dtype: int64\n"
     ]
    }
   ],
   "source": [
    "d = df.iloc[1, [0,1]]\n",
    "print(d)"
   ]
  },
  {
   "cell_type": "code",
   "execution_count": 232,
   "id": "71388ae1",
   "metadata": {
    "scrolled": true
   },
   "outputs": [
    {
     "name": "stdout",
     "output_type": "stream",
     "text": [
      "국어    90\n",
      "수학    85\n",
      "Name: 나름, dtype: int64\n"
     ]
    }
   ],
   "source": [
    "d = df.iloc[1, 0:2]\n",
    "print(d)"
   ]
  },
  {
   "cell_type": "code",
   "execution_count": 239,
   "id": "d7978f20",
   "metadata": {},
   "outputs": [
    {
     "name": "stdout",
     "output_type": "stream",
     "text": [
      "    영어   음악\n",
      "이름         \n",
      "수빈  80   90\n",
      "재영  90  100\n"
     ]
    }
   ],
   "source": [
    "# 데이터프레임 df의 2개 이상의 행과 열에 속하는 원소들 선택('수빈', '재영'의 '영어', '음악' 점수)\n",
    "e = df.loc[['수빈', '재영'], ['영어', '음악']]\n",
    "print(e)"
   ]
  },
  {
   "cell_type": "code",
   "execution_count": 244,
   "id": "4541d43d",
   "metadata": {
    "scrolled": false
   },
   "outputs": [
    {
     "name": "stdout",
     "output_type": "stream",
     "text": [
      "    영어   음악\n",
      "이름         \n",
      "수빈  80   90\n",
      "재영  90  100\n"
     ]
    }
   ],
   "source": [
    "f = df.iloc[[1,2], [2,3]]\n",
    "print(f)"
   ]
  },
  {
   "cell_type": "code",
   "execution_count": 246,
   "id": "2884e064",
   "metadata": {},
   "outputs": [
    {
     "name": "stdout",
     "output_type": "stream",
     "text": [
      "    영어   음악\n",
      "이름         \n",
      "수빈  80   90\n",
      "재영  90  100\n"
     ]
    }
   ],
   "source": [
    "g = df.iloc[1:3, 2:4]\n",
    "print(g)"
   ]
  },
  {
   "cell_type": "markdown",
   "id": "55258683",
   "metadata": {},
   "source": [
    "> 부록 - 인덱스 헤드 바꾸는 방법"
   ]
  },
  {
   "cell_type": "code",
   "execution_count": 250,
   "id": "16fa7611",
   "metadata": {},
   "outputs": [
    {
     "name": "stdout",
     "output_type": "stream",
     "text": [
      "    국어  수학   영어   음악\n",
      "성명                  \n",
      "용준  70  90  100   70\n",
      "수빈  90  85   80   90\n",
      "재영  80  80   90  100\n"
     ]
    }
   ],
   "source": [
    "df.index.rename('성명',inplace = True)\n",
    "print(df)"
   ]
  },
  {
   "cell_type": "code",
   "execution_count": 251,
   "id": "32e1b7c9",
   "metadata": {},
   "outputs": [
    {
     "name": "stdout",
     "output_type": "stream",
     "text": [
      "    국어  수학   영어   음악\n",
      "이름                  \n",
      "용준  70  90  100   70\n",
      "수빈  90  85   80   90\n",
      "재영  80  80   90  100\n"
     ]
    }
   ],
   "source": [
    "df = df.rename_axis('이름') \n",
    "print(df)"
   ]
  },
  {
   "cell_type": "markdown",
   "id": "331c75d7",
   "metadata": {},
   "source": [
    "> 부록 - 행 인덱스 헤드 이름 지정(이 형식보단 바로위 방법을 써야할거같음)"
   ]
  },
  {
   "cell_type": "code",
   "execution_count": 257,
   "id": "e7ffc0db",
   "metadata": {},
   "outputs": [],
   "source": [
    "import pandas as pd\n",
    "\n",
    "exam_data = {'이름': ['용준', '수빈', '재영'], '국어': [70,90,80], '수학': [90, 85, 80], '영어': [100, 80, 90], '음악': [70, 90, 100]}\n",
    "df = pd.DataFrame(exam_data)"
   ]
  },
  {
   "cell_type": "code",
   "execution_count": 258,
   "id": "f26cd7d6",
   "metadata": {},
   "outputs": [],
   "source": [
    "df.index.name = \"number\""
   ]
  },
  {
   "cell_type": "code",
   "execution_count": 259,
   "id": "2c9b1273",
   "metadata": {
    "scrolled": true
   },
   "outputs": [
    {
     "name": "stdout",
     "output_type": "stream",
     "text": [
      "        이름  국어  수학   영어   음악\n",
      "number                      \n",
      "0       용준  70  90  100   70\n",
      "1       수빈  90  85   80   90\n",
      "2       재영  80  80   90  100\n"
     ]
    }
   ],
   "source": [
    "print(df)"
   ]
  },
  {
   "cell_type": "markdown",
   "id": "8d328db5",
   "metadata": {},
   "source": [
    "### 열 추가<br>\n",
    "<code>Data.Frame객체.['추가하려는열이름'] = 데이터 값"
   ]
  },
  {
   "cell_type": "code",
   "execution_count": 2,
   "id": "4e901671",
   "metadata": {},
   "outputs": [],
   "source": [
    "import pandas as pd\n",
    "\n",
    "exam_data = {'이름': ['용준', '수빈', '재영'], '국어': [70,90,80], '수학': [90, 85, 80], '영어': [100, 80, 90], '음악': [70, 90, 100]}\n",
    "df = pd.DataFrame(exam_data)"
   ]
  },
  {
   "cell_type": "code",
   "execution_count": 3,
   "id": "1a9d6531",
   "metadata": {},
   "outputs": [],
   "source": [
    "df['체육'] = [80, 70, 75]"
   ]
  },
  {
   "cell_type": "code",
   "execution_count": 4,
   "id": "d649f792",
   "metadata": {},
   "outputs": [
    {
     "name": "stdout",
     "output_type": "stream",
     "text": [
      "   이름  국어  수학   영어   음악  체육\n",
      "0  용준  70  90  100   70  80\n",
      "1  수빈  90  85   80   90  70\n",
      "2  재영  80  80   90  100  75\n"
     ]
    }
   ],
   "source": [
    "print(df)"
   ]
  },
  {
   "cell_type": "markdown",
   "id": "52d083d7",
   "metadata": {},
   "source": [
    "#### 부록 - 열을 중간에 추가하고 싶을 경우 insert() 함수 사용"
   ]
  },
  {
   "cell_type": "code",
   "execution_count": 5,
   "id": "0b41ec24",
   "metadata": {},
   "outputs": [],
   "source": [
    "df.insert(3, \"과학\", [90,80,85])"
   ]
  },
  {
   "cell_type": "code",
   "execution_count": 6,
   "id": "ed201577",
   "metadata": {},
   "outputs": [
    {
     "name": "stdout",
     "output_type": "stream",
     "text": [
      "   이름  국어  수학  과학   영어   음악  체육\n",
      "0  용준  70  90  90  100   70  80\n",
      "1  수빈  90  85  80   80   90  70\n",
      "2  재영  80  80  85   90  100  75\n"
     ]
    }
   ],
   "source": [
    "print(df)"
   ]
  },
  {
   "cell_type": "markdown",
   "id": "49b1a889",
   "metadata": {},
   "source": [
    "### 행 추가\n",
    "- 추가하려는 행 이름과 데이터 값을 loc 인덱서를 사용하여 입력<br>\n",
    "<code>DataFrame객체.loc['새로운행이름'] = 데이터 값<code>"
   ]
  },
  {
   "cell_type": "code",
   "execution_count": 273,
   "id": "0c8bff64",
   "metadata": {},
   "outputs": [],
   "source": [
    "import pandas as pd\n",
    "\n",
    "exam_data = {'이름': ['재윤', '상범', '수지'], '국어': [70,90,80], '수학': [90, 85, 80], '영어': [100, 80, 90], '음악': [70, 90, 100]}\n",
    "df = pd.DataFrame(exam_data)"
   ]
  },
  {
   "cell_type": "code",
   "execution_count": 274,
   "id": "c0ee4c7c",
   "metadata": {},
   "outputs": [],
   "source": [
    "# 새로운 행(row) 추가 - 같은 원소 값 입력\n",
    "df.loc[3] = 0"
   ]
  },
  {
   "cell_type": "code",
   "execution_count": 275,
   "id": "a929795c",
   "metadata": {
    "scrolled": true
   },
   "outputs": [
    {
     "name": "stdout",
     "output_type": "stream",
     "text": [
      "   이름  국어  수학   영어   음악\n",
      "0  재윤  70  90  100   70\n",
      "1  상범  90  85   80   90\n",
      "2  수지  80  80   90  100\n",
      "3   0   0   0    0    0\n"
     ]
    }
   ],
   "source": [
    "print(df)"
   ]
  },
  {
   "cell_type": "code",
   "execution_count": 276,
   "id": "1d627efc",
   "metadata": {},
   "outputs": [],
   "source": [
    "df.loc[4] = ['한결', 100, 75, 85, 80]"
   ]
  },
  {
   "cell_type": "code",
   "execution_count": 277,
   "id": "d45ed769",
   "metadata": {},
   "outputs": [
    {
     "name": "stdout",
     "output_type": "stream",
     "text": [
      "   이름   국어  수학   영어   음악\n",
      "0  재윤   70  90  100   70\n",
      "1  상범   90  85   80   90\n",
      "2  수지   80  80   90  100\n",
      "3   0    0   0    0    0\n",
      "4  한결  100  75   85   80\n"
     ]
    }
   ],
   "source": [
    "print(df)"
   ]
  },
  {
   "cell_type": "code",
   "execution_count": 278,
   "id": "a34b269a",
   "metadata": {},
   "outputs": [],
   "source": [
    "# 새로운 행(row) 추가 - 기존 행 복사\n",
    "df.loc[5] = df.loc[3]"
   ]
  },
  {
   "cell_type": "code",
   "execution_count": 279,
   "id": "4856dc86",
   "metadata": {},
   "outputs": [
    {
     "name": "stdout",
     "output_type": "stream",
     "text": [
      "   이름   국어  수학   영어   음악\n",
      "0  재윤   70  90  100   70\n",
      "1  상범   90  85   80   90\n",
      "2  수지   80  80   90  100\n",
      "3   0    0   0    0    0\n",
      "4  한결  100  75   85   80\n",
      "5   0    0   0    0    0\n"
     ]
    }
   ],
   "source": [
    "print(df)"
   ]
  },
  {
   "cell_type": "markdown",
   "id": "ab5593c3",
   "metadata": {},
   "source": [
    "#### 부록 - 행을 중간에 추가하고 싶을 경우 append() 함수 사용(기존행 + 새로운행 + 기존행)"
   ]
  },
  {
   "cell_type": "code",
   "execution_count": 47,
   "id": "e7fe5310",
   "metadata": {},
   "outputs": [],
   "source": [
    "import pandas as pd\n",
    "\n",
    "exam_data = {'이름': ['재윤', '상범', '수지'], '국어': [70,90,80], '수학': [90, 85, 80], '영어': [100, 80, 90], '음악': [70, 90, 100]}\n",
    "df = pd.DataFrame(exam_data)\n",
    "df.loc[4] = ['한결', 100, 75, 85, 80]"
   ]
  },
  {
   "cell_type": "code",
   "execution_count": 48,
   "id": "4ad935d5",
   "metadata": {},
   "outputs": [
    {
     "name": "stdout",
     "output_type": "stream",
     "text": [
      "   이름   국어  수학   영어   음악\n",
      "0  재윤   70  90  100   70\n",
      "1  상범   90  85   80   90\n",
      "2  수지   80  80   90  100\n",
      "4  한결  100  75   85   80\n"
     ]
    }
   ],
   "source": [
    "print(df)"
   ]
  },
  {
   "cell_type": "code",
   "execution_count": 51,
   "id": "96c4db23",
   "metadata": {
    "scrolled": true
   },
   "outputs": [],
   "source": [
    "label = df.iloc[:3]\n",
    "label2 = df.iloc[3]\n",
    "# 이상하게 loc로 지정하면 안됨 -> 인덱스번호로 입력되어있어서 그런듯"
   ]
  },
  {
   "cell_type": "code",
   "execution_count": 50,
   "id": "e7560d34",
   "metadata": {},
   "outputs": [
    {
     "data": {
      "text/plain": [
       "이름     한결\n",
       "국어    100\n",
       "수학     75\n",
       "영어     85\n",
       "음악     80\n",
       "Name: 4, dtype: object"
      ]
     },
     "execution_count": 50,
     "metadata": {},
     "output_type": "execute_result"
    }
   ],
   "source": [
    "label2"
   ]
  },
  {
   "cell_type": "code",
   "execution_count": 42,
   "id": "95e4a435",
   "metadata": {},
   "outputs": [],
   "source": [
    "exam_data2 =  {'이름': '수빈', '국어': 90, '수학': 80, '영어': 80, '음악': 100}"
   ]
  },
  {
   "cell_type": "code",
   "execution_count": 43,
   "id": "9f3cef10",
   "metadata": {
    "scrolled": true
   },
   "outputs": [],
   "source": [
    "df = label.append(exam_data2, ignore_index=True).append(label2, ignore_index=True)"
   ]
  },
  {
   "cell_type": "code",
   "execution_count": 44,
   "id": "1448f232",
   "metadata": {},
   "outputs": [
    {
     "name": "stdout",
     "output_type": "stream",
     "text": [
      "   이름   국어  수학   영어   음악\n",
      "0  재윤   70  90  100   70\n",
      "1  상범   90  85   80   90\n",
      "2  수지   80  80   90  100\n",
      "3  수빈   90  80   80  100\n",
      "4  한결  100  75   85   80\n"
     ]
    }
   ],
   "source": [
    "print(df)"
   ]
  },
  {
   "cell_type": "markdown",
   "id": "91d1f72e",
   "metadata": {},
   "source": [
    "### 원소 값 변경 예제<br>\n",
    "<code>DataFrame객체의 일부분 또는 원소를 선택 = 새로운 값<code>"
   ]
  },
  {
   "cell_type": "code",
   "execution_count": 287,
   "id": "e01d7e59",
   "metadata": {},
   "outputs": [],
   "source": [
    "import pandas as pd\n",
    "\n",
    "exam_data = {'이름': ['예진', '지우', '진석'], '국어': [70,90,80], '수학': [90, 85, 80], '영어': [100, 80, 90], '음악': [70, 90, 100]}\n",
    "df = pd.DataFrame(exam_data)"
   ]
  },
  {
   "cell_type": "code",
   "execution_count": 288,
   "id": "cf6a1a26",
   "metadata": {},
   "outputs": [],
   "source": [
    "df.set_index(\"이름\", inplace = True)"
   ]
  },
  {
   "cell_type": "code",
   "execution_count": 289,
   "id": "82b03bd6",
   "metadata": {},
   "outputs": [
    {
     "name": "stdout",
     "output_type": "stream",
     "text": [
      "    국어  수학   영어   음악\n",
      "이름                  \n",
      "예진  70  90  100   70\n",
      "지우  90  85   80   90\n",
      "진석  80  80   90  100\n"
     ]
    }
   ],
   "source": [
    "print(df)"
   ]
  },
  {
   "cell_type": "markdown",
   "id": "ad501caa",
   "metadata": {},
   "source": [
    "1번째 원소 값 변경방법"
   ]
  },
  {
   "cell_type": "code",
   "execution_count": 295,
   "id": "832e1f0b",
   "metadata": {},
   "outputs": [],
   "source": [
    "# 데이터프레임 df의 특정 원소를 변경('예진'의 '음악' 점수)\n",
    "df.iloc[0, 3] = 80"
   ]
  },
  {
   "cell_type": "code",
   "execution_count": 296,
   "id": "80e7f84a",
   "metadata": {},
   "outputs": [
    {
     "name": "stdout",
     "output_type": "stream",
     "text": [
      "    국어  수학   영어   음악\n",
      "이름                  \n",
      "예진  70  90  100   80\n",
      "지우  90  85   80   90\n",
      "진석  80  80   90  100\n"
     ]
    }
   ],
   "source": [
    "print(df)"
   ]
  },
  {
   "cell_type": "markdown",
   "id": "1bcec9c9",
   "metadata": {},
   "source": [
    "2번째 방법"
   ]
  },
  {
   "cell_type": "code",
   "execution_count": 292,
   "id": "e758cf1c",
   "metadata": {},
   "outputs": [],
   "source": [
    "df.iloc[0][3] = 90"
   ]
  },
  {
   "cell_type": "code",
   "execution_count": 294,
   "id": "ffd230aa",
   "metadata": {},
   "outputs": [
    {
     "name": "stdout",
     "output_type": "stream",
     "text": [
      "    국어  수학   영어   음악\n",
      "이름                  \n",
      "예진  70  90  100   90\n",
      "지우  90  85   80   90\n",
      "진석  80  80   90  100\n"
     ]
    }
   ],
   "source": [
    "print(df)"
   ]
  },
  {
   "cell_type": "markdown",
   "id": "b5efda8a",
   "metadata": {},
   "source": [
    "3번째 방법"
   ]
  },
  {
   "cell_type": "code",
   "execution_count": 297,
   "id": "6608bb21",
   "metadata": {},
   "outputs": [],
   "source": [
    "# 데이터프레임 df의 특정 원소를 변경('예진'의 '음악' 점수)\n",
    "df.loc['예진']['음악'] = 100"
   ]
  },
  {
   "cell_type": "code",
   "execution_count": 298,
   "id": "3a3e0c41",
   "metadata": {},
   "outputs": [
    {
     "name": "stdout",
     "output_type": "stream",
     "text": [
      "    국어  수학   영어   음악\n",
      "이름                  \n",
      "예진  70  90  100  100\n",
      "지우  90  85   80   90\n",
      "진석  80  80   90  100\n"
     ]
    }
   ],
   "source": [
    "print(df)"
   ]
  },
  {
   "cell_type": "code",
   "execution_count": 299,
   "id": "bb60ec37",
   "metadata": {},
   "outputs": [],
   "source": [
    "# 데이터프레임 df의 특정 원소를 변경('지우'의 '수학', '영어' 점수)\n",
    "df.loc['지우', ['수학', '영어']] = 100, 90"
   ]
  },
  {
   "cell_type": "code",
   "execution_count": 300,
   "id": "0749b82d",
   "metadata": {},
   "outputs": [
    {
     "name": "stdout",
     "output_type": "stream",
     "text": [
      "    국어   수학   영어   음악\n",
      "이름                   \n",
      "예진  70   90  100  100\n",
      "지우  90  100   90   90\n",
      "진석  80   80   90  100\n"
     ]
    }
   ],
   "source": [
    "print(df)"
   ]
  },
  {
   "cell_type": "markdown",
   "id": "1116b692",
   "metadata": {},
   "source": [
    "### 행, 열의 위치 바꾸기\n",
    "<code>DataFrane객체.transpose() or DataFrame객체.T"
   ]
  },
  {
   "cell_type": "code",
   "execution_count": 325,
   "id": "829e4bc9",
   "metadata": {},
   "outputs": [],
   "source": [
    "import pandas as pd\n",
    "\n",
    "exam_data = {'이름': ['지연', '유림', '정수'], '국어': [70,90,80], '수학': [90, 85, 80], '영어': [100, 80, 90], '음악': [70, 90, 100]}\n",
    "df = pd.DataFrame(exam_data)"
   ]
  },
  {
   "cell_type": "code",
   "execution_count": 326,
   "id": "488394e0",
   "metadata": {},
   "outputs": [
    {
     "name": "stdout",
     "output_type": "stream",
     "text": [
      "    국어  수학   영어   음악\n",
      "이름                  \n",
      "지연  70  90  100   70\n",
      "유림  90  85   80   90\n",
      "정수  80  80   90  100\n"
     ]
    }
   ],
   "source": [
    "df.set_index('이름', inplace = True)\n",
    "print(df)"
   ]
  },
  {
   "cell_type": "code",
   "execution_count": 331,
   "id": "0aa090a9",
   "metadata": {},
   "outputs": [],
   "source": [
    "df = df.transpose()"
   ]
  },
  {
   "cell_type": "code",
   "execution_count": 332,
   "id": "d2603ff0",
   "metadata": {},
   "outputs": [
    {
     "name": "stdout",
     "output_type": "stream",
     "text": [
      "이름   지연  유림   정수\n",
      "국어   70  90   80\n",
      "수학   90  85   80\n",
      "영어  100  80   90\n",
      "음악   70  90  100\n"
     ]
    }
   ],
   "source": [
    "print(df)"
   ]
  },
  {
   "cell_type": "markdown",
   "id": "f4ebd644",
   "metadata": {},
   "source": [
    "---"
   ]
  },
  {
   "cell_type": "code",
   "execution_count": 344,
   "id": "1db02dd5",
   "metadata": {},
   "outputs": [],
   "source": [
    "df = df.T # 다시변경"
   ]
  },
  {
   "cell_type": "code",
   "execution_count": 343,
   "id": "bb7863fa",
   "metadata": {},
   "outputs": [
    {
     "name": "stdout",
     "output_type": "stream",
     "text": [
      "    국어  수학   영어   음악\n",
      "이름                  \n",
      "지연  70  90  100   70\n",
      "유림  90  85   80   90\n",
      "정수  80  80   90  100\n"
     ]
    }
   ],
   "source": [
    "print(df)"
   ]
  },
  {
   "cell_type": "code",
   "execution_count": null,
   "id": "ed949d41",
   "metadata": {},
   "outputs": [],
   "source": []
  }
 ],
 "metadata": {
  "kernelspec": {
   "display_name": "Python 3 (ipykernel)",
   "language": "python",
   "name": "python3"
  },
  "language_info": {
   "codemirror_mode": {
    "name": "ipython",
    "version": 3
   },
   "file_extension": ".py",
   "mimetype": "text/x-python",
   "name": "python",
   "nbconvert_exporter": "python",
   "pygments_lexer": "ipython3",
   "version": "3.9.7"
  }
 },
 "nbformat": 4,
 "nbformat_minor": 5
}
