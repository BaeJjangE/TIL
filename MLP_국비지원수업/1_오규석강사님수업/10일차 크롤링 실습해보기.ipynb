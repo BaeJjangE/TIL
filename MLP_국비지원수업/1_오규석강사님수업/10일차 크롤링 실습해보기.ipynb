{
 "cells": [
  {
   "cell_type": "markdown",
   "id": "68c3d387",
   "metadata": {},
   "source": [
    "## 직접 실습해보기 인스타그램 좋아요 누르기"
   ]
  },
  {
   "cell_type": "markdown",
   "id": "d7e999fe",
   "metadata": {},
   "source": [
    "모듈 파일 작성(insta_bot_like.py)"
   ]
  },
  {
   "cell_type": "code",
   "execution_count": null,
   "id": "a3fe55b4",
   "metadata": {},
   "outputs": [],
   "source": [
    "from selenium import webdriver\n",
    "from selenium.webdriver.chrome.options import Options\n",
    "from selenium.webdriver.common.keys import Keys\n",
    "import time\n",
    "\n",
    "class LikeBot():\n",
    "    def __init__(self):\n",
    "        self.query = \"https://www.instagram.com/explore/tags/\"\n",
    "        self.options = Options()\n",
    "        # 해상도\n",
    "        self.options.add_argument(\"--window-size=1920, 1080\")\n",
    "        # 크롬 드라이버 실행       \n",
    "        self.driver = webdriver.Chrome(executable_path = \"chromedriver_win32/chromedriver.exe\", chrome_options = self.options)\n",
    "        \n",
    "    def login(self, id, ps):\n",
    "        # 로그인 창 띄우기\n",
    "        self.driver.get(\"https://www.instagram.com/accounts/login\")\n",
    "        time.sleep(5)\n",
    "        \n",
    "        input_field = self.driver.find_elements_by_tag_name(\"input\")\n",
    "        # 입력한 값이 입력되는지?\n",
    "        input_field[0].send_keys(id)\n",
    "        input_field[1].send_keys(ps)\n",
    "        # 엔터 눌러주기 명렁어는?\n",
    "        input_field[1].send_keys(Keys.RETURN)\n",
    "        time.sleep(7)\n",
    "        \n",
    "    def search_tag(self, tag):\n",
    "        self.driver.get(\"https://www.instagram.com/explore/tags/\"+tag)\n",
    "        time.sleep(10)\n",
    "        \n",
    "    def first_photo_click(self):\n",
    "        first_photo_xpath = '//*[@id=\"react-root\"]/section/main/article/div[2]/div/div[1]/div[1]'\n",
    "        el = self.driver.find_element_by_xpath(first_photo_xpath)\n",
    "        el.click()\n",
    "        time.sleep(7)\n",
    "        \n",
    "    def like_pictures(self, num):\n",
    "        count = num\n",
    "        while count != 0:\n",
    "            count -= 1\n",
    "            \n",
    "            like_button_xpath = '/html/body/div[6]/div[3]/div/article/div/div[2]/div/div/div[2]/section[1]/span[1]/button'\n",
    "            click_like = self.driver.find_element_by_xpath(like_button_xpath)\n",
    "            click_like.click()\n",
    "            \n",
    "            time.sleep(5)\n",
    "            \n",
    "            # 다음 게시물로\n",
    "            next_button_xpath = '/html/body/div[6]/div[2]/div/div[2]/button'\n",
    "            click_next = self.driver.find_element_by_xpath(next_button_xpath)\n",
    "            click_next.click()\n",
    "            \n",
    "            time.sleep(5)\n",
    "            \n",
    "    def mix(self, tag, num):\n",
    "        self.search_tag(tag)\n",
    "        self.first_photo_click()\n",
    "        self.like_pictures(num)\n",
    "        \n",
    "    def kill(self):\n",
    "        self.driver.quit()\n",
    "        "
   ]
  },
  {
   "cell_type": "markdown",
   "id": "b6193c52",
   "metadata": {},
   "source": [
    "메인 파일 작성(insta_bot_like_main.py)"
   ]
  },
  {
   "cell_type": "code",
   "execution_count": null,
   "id": "477eaf15",
   "metadata": {},
   "outputs": [],
   "source": [
    "import sys\n",
    "import insta_bot_like as ibl\n",
    "\n",
    "id = sys.argv[1]\n",
    "ps = sys.argv[2]\n",
    "tag = sys.argv[3]\n",
    "NUMBER = int(sys.argv[4].strip())\n",
    "\n",
    "Bot = ibl.LikeBot()\n",
    "\n",
    "Bot.login(id, ps)\n",
    "Bot.mix(tag, NUMBER)\n",
    "Bot.kill()\n"
   ]
  },
  {
   "cell_type": "code",
   "execution_count": 30,
   "id": "c691151d",
   "metadata": {},
   "outputs": [
    {
     "name": "stdout",
     "output_type": "stream",
     "text": [
      "^C\n"
     ]
    }
   ],
   "source": [
    "!python insta_bot_like_main.py 01094924814 rladnjsqls2 고양이 5"
   ]
  }
 ],
 "metadata": {
  "kernelspec": {
   "display_name": "Python 3 (ipykernel)",
   "language": "python",
   "name": "python3"
  },
  "language_info": {
   "codemirror_mode": {
    "name": "ipython",
    "version": 3
   },
   "file_extension": ".py",
   "mimetype": "text/x-python",
   "name": "python",
   "nbconvert_exporter": "python",
   "pygments_lexer": "ipython3",
   "version": "3.9.7"
  }
 },
 "nbformat": 4,
 "nbformat_minor": 5
}
