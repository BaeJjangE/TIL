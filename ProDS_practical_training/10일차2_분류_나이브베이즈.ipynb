{
 "cells": [
  {
   "cell_type": "markdown",
   "id": "c8c60247",
   "metadata": {},
   "source": [
    "## Key words\n",
    "### 분류모델, 나이브베이즈, 사전확률, 사후확률, GaussianNB, predict_proba"
   ]
  },
  {
   "cell_type": "markdown",
   "id": "3c1f2483",
   "metadata": {},
   "source": [
    "### 나이브 베이즈 분류기 특징\n",
    "- 사전 확률 및 추가 정보를 기반으로 사후 확률을 추론하는 통계적인 방법인 베이즈 추정 기반 분류\n",
    "- 종속변수 각 범주의 등장 빈도인 사전확률(prior) 설정이 중요\n",
    "- 각 데이터의 사전 확률을 기반으로 사후확률(posterior)을 계산"
   ]
  },
  {
   "cell_type": "markdown",
   "id": "76ec77c3",
   "metadata": {},
   "source": [
    "### sklearn - GaussianNB()\n",
    "- 나이브베이즈 분류 모델을 위한 sklearn의 함수\n",
    "- 독립변수와 종속변수는 GaussianNB() 함수의 메서드인 fit() 함수에 할당\n",
    "- 모델 객체의 predict_proba() 메서드로 예측 확률값을 생산\n",
    "- 이진 분류의 경우 출력된 예측 확률값의 두 번째 열이 1이 될 확률"
   ]
  },
  {
   "cell_type": "code",
   "execution_count": 1,
   "id": "a729a412",
   "metadata": {},
   "outputs": [],
   "source": [
    "import pandas as pd\n",
    "from sklearn.naive_bayes import GaussianNB"
   ]
  },
  {
   "cell_type": "code",
   "execution_count": 2,
   "id": "3f5d7304",
   "metadata": {},
   "outputs": [
    {
     "data": {
      "text/html": [
       "<div>\n",
       "<style scoped>\n",
       "    .dataframe tbody tr th:only-of-type {\n",
       "        vertical-align: middle;\n",
       "    }\n",
       "\n",
       "    .dataframe tbody tr th {\n",
       "        vertical-align: top;\n",
       "    }\n",
       "\n",
       "    .dataframe thead th {\n",
       "        text-align: right;\n",
       "    }\n",
       "</style>\n",
       "<table border=\"1\" class=\"dataframe\">\n",
       "  <thead>\n",
       "    <tr style=\"text-align: right;\">\n",
       "      <th></th>\n",
       "      <th>Sepal.Length</th>\n",
       "      <th>Sepal.Width</th>\n",
       "      <th>Petal.Length</th>\n",
       "      <th>Petal.Width</th>\n",
       "      <th>Species</th>\n",
       "    </tr>\n",
       "  </thead>\n",
       "  <tbody>\n",
       "    <tr>\n",
       "      <th>0</th>\n",
       "      <td>5.1</td>\n",
       "      <td>3.5</td>\n",
       "      <td>1.4</td>\n",
       "      <td>0.2</td>\n",
       "      <td>setosa</td>\n",
       "    </tr>\n",
       "    <tr>\n",
       "      <th>1</th>\n",
       "      <td>4.9</td>\n",
       "      <td>3.0</td>\n",
       "      <td>1.4</td>\n",
       "      <td>0.2</td>\n",
       "      <td>setosa</td>\n",
       "    </tr>\n",
       "  </tbody>\n",
       "</table>\n",
       "</div>"
      ],
      "text/plain": [
       "   Sepal.Length  Sepal.Width  Petal.Length  Petal.Width Species\n",
       "0           5.1          3.5           1.4          0.2  setosa\n",
       "1           4.9          3.0           1.4          0.2  setosa"
      ]
     },
     "execution_count": 2,
     "metadata": {},
     "output_type": "execute_result"
    }
   ],
   "source": [
    "df = pd.read_csv(\"iris.csv\")\n",
    "df.head(2)"
   ]
  },
  {
   "cell_type": "code",
   "execution_count": 3,
   "id": "8c5efbe0",
   "metadata": {
    "scrolled": true
   },
   "outputs": [
    {
     "data": {
      "text/html": [
       "<div>\n",
       "<style scoped>\n",
       "    .dataframe tbody tr th:only-of-type {\n",
       "        vertical-align: middle;\n",
       "    }\n",
       "\n",
       "    .dataframe tbody tr th {\n",
       "        vertical-align: top;\n",
       "    }\n",
       "\n",
       "    .dataframe thead th {\n",
       "        text-align: right;\n",
       "    }\n",
       "</style>\n",
       "<table border=\"1\" class=\"dataframe\">\n",
       "  <thead>\n",
       "    <tr style=\"text-align: right;\">\n",
       "      <th></th>\n",
       "      <th>Sepal.Length</th>\n",
       "      <th>Sepal.Width</th>\n",
       "      <th>Petal.Length</th>\n",
       "      <th>Petal.Width</th>\n",
       "      <th>Species</th>\n",
       "      <th>is_setosa</th>\n",
       "    </tr>\n",
       "  </thead>\n",
       "  <tbody>\n",
       "    <tr>\n",
       "      <th>0</th>\n",
       "      <td>5.1</td>\n",
       "      <td>3.5</td>\n",
       "      <td>1.4</td>\n",
       "      <td>0.2</td>\n",
       "      <td>setosa</td>\n",
       "      <td>1</td>\n",
       "    </tr>\n",
       "    <tr>\n",
       "      <th>1</th>\n",
       "      <td>4.9</td>\n",
       "      <td>3.0</td>\n",
       "      <td>1.4</td>\n",
       "      <td>0.2</td>\n",
       "      <td>setosa</td>\n",
       "      <td>1</td>\n",
       "    </tr>\n",
       "  </tbody>\n",
       "</table>\n",
       "</div>"
      ],
      "text/plain": [
       "   Sepal.Length  Sepal.Width  Petal.Length  Petal.Width Species  is_setosa\n",
       "0           5.1          3.5           1.4          0.2  setosa          1\n",
       "1           4.9          3.0           1.4          0.2  setosa          1"
      ]
     },
     "execution_count": 3,
     "metadata": {},
     "output_type": "execute_result"
    }
   ],
   "source": [
    "df[\"is_setosa\"] = (df[\"Species\"] == \"setosa\") +0\n",
    "df.head(2)"
   ]
  },
  {
   "cell_type": "code",
   "execution_count": 21,
   "id": "4fdad4da",
   "metadata": {
    "scrolled": true
   },
   "outputs": [
    {
     "data": {
      "text/html": [
       "<div>\n",
       "<style scoped>\n",
       "    .dataframe tbody tr th:only-of-type {\n",
       "        vertical-align: middle;\n",
       "    }\n",
       "\n",
       "    .dataframe tbody tr th {\n",
       "        vertical-align: top;\n",
       "    }\n",
       "\n",
       "    .dataframe thead th {\n",
       "        text-align: right;\n",
       "    }\n",
       "</style>\n",
       "<table border=\"1\" class=\"dataframe\">\n",
       "  <thead>\n",
       "    <tr style=\"text-align: right;\">\n",
       "      <th></th>\n",
       "      <th>Sepal.Length</th>\n",
       "      <th>Sepal.Width</th>\n",
       "      <th>Petal.Length</th>\n",
       "      <th>Petal.Width</th>\n",
       "      <th>Species</th>\n",
       "      <th>is_setosa</th>\n",
       "    </tr>\n",
       "  </thead>\n",
       "  <tbody>\n",
       "    <tr>\n",
       "      <th>0</th>\n",
       "      <td>5.1</td>\n",
       "      <td>3.5</td>\n",
       "      <td>1.4</td>\n",
       "      <td>0.2</td>\n",
       "      <td>setosa</td>\n",
       "      <td>1</td>\n",
       "    </tr>\n",
       "    <tr>\n",
       "      <th>1</th>\n",
       "      <td>4.9</td>\n",
       "      <td>3.0</td>\n",
       "      <td>1.4</td>\n",
       "      <td>0.2</td>\n",
       "      <td>setosa</td>\n",
       "      <td>1</td>\n",
       "    </tr>\n",
       "    <tr>\n",
       "      <th>2</th>\n",
       "      <td>4.7</td>\n",
       "      <td>3.2</td>\n",
       "      <td>1.3</td>\n",
       "      <td>0.2</td>\n",
       "      <td>setosa</td>\n",
       "      <td>1</td>\n",
       "    </tr>\n",
       "    <tr>\n",
       "      <th>3</th>\n",
       "      <td>4.6</td>\n",
       "      <td>3.1</td>\n",
       "      <td>1.5</td>\n",
       "      <td>0.2</td>\n",
       "      <td>setosa</td>\n",
       "      <td>1</td>\n",
       "    </tr>\n",
       "    <tr>\n",
       "      <th>4</th>\n",
       "      <td>5.0</td>\n",
       "      <td>3.6</td>\n",
       "      <td>1.4</td>\n",
       "      <td>0.2</td>\n",
       "      <td>setosa</td>\n",
       "      <td>1</td>\n",
       "    </tr>\n",
       "    <tr>\n",
       "      <th>5</th>\n",
       "      <td>5.4</td>\n",
       "      <td>3.9</td>\n",
       "      <td>1.7</td>\n",
       "      <td>0.4</td>\n",
       "      <td>setosa</td>\n",
       "      <td>1</td>\n",
       "    </tr>\n",
       "    <tr>\n",
       "      <th>6</th>\n",
       "      <td>4.6</td>\n",
       "      <td>3.4</td>\n",
       "      <td>1.4</td>\n",
       "      <td>0.3</td>\n",
       "      <td>setosa</td>\n",
       "      <td>1</td>\n",
       "    </tr>\n",
       "    <tr>\n",
       "      <th>7</th>\n",
       "      <td>5.0</td>\n",
       "      <td>3.4</td>\n",
       "      <td>1.5</td>\n",
       "      <td>0.2</td>\n",
       "      <td>setosa</td>\n",
       "      <td>1</td>\n",
       "    </tr>\n",
       "    <tr>\n",
       "      <th>8</th>\n",
       "      <td>4.4</td>\n",
       "      <td>2.9</td>\n",
       "      <td>1.4</td>\n",
       "      <td>0.2</td>\n",
       "      <td>setosa</td>\n",
       "      <td>1</td>\n",
       "    </tr>\n",
       "    <tr>\n",
       "      <th>9</th>\n",
       "      <td>4.9</td>\n",
       "      <td>3.1</td>\n",
       "      <td>1.5</td>\n",
       "      <td>0.1</td>\n",
       "      <td>setosa</td>\n",
       "      <td>1</td>\n",
       "    </tr>\n",
       "    <tr>\n",
       "      <th>10</th>\n",
       "      <td>5.4</td>\n",
       "      <td>3.7</td>\n",
       "      <td>1.5</td>\n",
       "      <td>0.2</td>\n",
       "      <td>setosa</td>\n",
       "      <td>1</td>\n",
       "    </tr>\n",
       "    <tr>\n",
       "      <th>11</th>\n",
       "      <td>4.8</td>\n",
       "      <td>3.4</td>\n",
       "      <td>1.6</td>\n",
       "      <td>0.2</td>\n",
       "      <td>setosa</td>\n",
       "      <td>1</td>\n",
       "    </tr>\n",
       "    <tr>\n",
       "      <th>12</th>\n",
       "      <td>4.8</td>\n",
       "      <td>3.0</td>\n",
       "      <td>1.4</td>\n",
       "      <td>0.1</td>\n",
       "      <td>setosa</td>\n",
       "      <td>1</td>\n",
       "    </tr>\n",
       "    <tr>\n",
       "      <th>13</th>\n",
       "      <td>4.3</td>\n",
       "      <td>3.0</td>\n",
       "      <td>1.1</td>\n",
       "      <td>0.1</td>\n",
       "      <td>setosa</td>\n",
       "      <td>1</td>\n",
       "    </tr>\n",
       "    <tr>\n",
       "      <th>14</th>\n",
       "      <td>5.8</td>\n",
       "      <td>4.0</td>\n",
       "      <td>1.2</td>\n",
       "      <td>0.2</td>\n",
       "      <td>setosa</td>\n",
       "      <td>1</td>\n",
       "    </tr>\n",
       "    <tr>\n",
       "      <th>15</th>\n",
       "      <td>5.7</td>\n",
       "      <td>4.4</td>\n",
       "      <td>1.5</td>\n",
       "      <td>0.4</td>\n",
       "      <td>setosa</td>\n",
       "      <td>1</td>\n",
       "    </tr>\n",
       "    <tr>\n",
       "      <th>16</th>\n",
       "      <td>5.4</td>\n",
       "      <td>3.9</td>\n",
       "      <td>1.3</td>\n",
       "      <td>0.4</td>\n",
       "      <td>setosa</td>\n",
       "      <td>1</td>\n",
       "    </tr>\n",
       "    <tr>\n",
       "      <th>17</th>\n",
       "      <td>5.1</td>\n",
       "      <td>3.5</td>\n",
       "      <td>1.4</td>\n",
       "      <td>0.3</td>\n",
       "      <td>setosa</td>\n",
       "      <td>1</td>\n",
       "    </tr>\n",
       "    <tr>\n",
       "      <th>18</th>\n",
       "      <td>5.7</td>\n",
       "      <td>3.8</td>\n",
       "      <td>1.7</td>\n",
       "      <td>0.3</td>\n",
       "      <td>setosa</td>\n",
       "      <td>1</td>\n",
       "    </tr>\n",
       "    <tr>\n",
       "      <th>19</th>\n",
       "      <td>5.1</td>\n",
       "      <td>3.8</td>\n",
       "      <td>1.5</td>\n",
       "      <td>0.3</td>\n",
       "      <td>setosa</td>\n",
       "      <td>1</td>\n",
       "    </tr>\n",
       "    <tr>\n",
       "      <th>20</th>\n",
       "      <td>5.4</td>\n",
       "      <td>3.4</td>\n",
       "      <td>1.7</td>\n",
       "      <td>0.2</td>\n",
       "      <td>setosa</td>\n",
       "      <td>1</td>\n",
       "    </tr>\n",
       "    <tr>\n",
       "      <th>21</th>\n",
       "      <td>5.1</td>\n",
       "      <td>3.7</td>\n",
       "      <td>1.5</td>\n",
       "      <td>0.4</td>\n",
       "      <td>setosa</td>\n",
       "      <td>1</td>\n",
       "    </tr>\n",
       "    <tr>\n",
       "      <th>22</th>\n",
       "      <td>4.6</td>\n",
       "      <td>3.6</td>\n",
       "      <td>1.0</td>\n",
       "      <td>0.2</td>\n",
       "      <td>setosa</td>\n",
       "      <td>1</td>\n",
       "    </tr>\n",
       "    <tr>\n",
       "      <th>23</th>\n",
       "      <td>5.1</td>\n",
       "      <td>3.3</td>\n",
       "      <td>1.7</td>\n",
       "      <td>0.5</td>\n",
       "      <td>setosa</td>\n",
       "      <td>1</td>\n",
       "    </tr>\n",
       "    <tr>\n",
       "      <th>24</th>\n",
       "      <td>4.8</td>\n",
       "      <td>3.4</td>\n",
       "      <td>1.9</td>\n",
       "      <td>0.2</td>\n",
       "      <td>setosa</td>\n",
       "      <td>1</td>\n",
       "    </tr>\n",
       "    <tr>\n",
       "      <th>25</th>\n",
       "      <td>5.0</td>\n",
       "      <td>3.0</td>\n",
       "      <td>1.6</td>\n",
       "      <td>0.2</td>\n",
       "      <td>setosa</td>\n",
       "      <td>1</td>\n",
       "    </tr>\n",
       "    <tr>\n",
       "      <th>26</th>\n",
       "      <td>5.0</td>\n",
       "      <td>3.4</td>\n",
       "      <td>1.6</td>\n",
       "      <td>0.4</td>\n",
       "      <td>setosa</td>\n",
       "      <td>1</td>\n",
       "    </tr>\n",
       "    <tr>\n",
       "      <th>27</th>\n",
       "      <td>5.2</td>\n",
       "      <td>3.5</td>\n",
       "      <td>1.5</td>\n",
       "      <td>0.2</td>\n",
       "      <td>setosa</td>\n",
       "      <td>1</td>\n",
       "    </tr>\n",
       "    <tr>\n",
       "      <th>28</th>\n",
       "      <td>5.2</td>\n",
       "      <td>3.4</td>\n",
       "      <td>1.4</td>\n",
       "      <td>0.2</td>\n",
       "      <td>setosa</td>\n",
       "      <td>1</td>\n",
       "    </tr>\n",
       "    <tr>\n",
       "      <th>29</th>\n",
       "      <td>4.7</td>\n",
       "      <td>3.2</td>\n",
       "      <td>1.6</td>\n",
       "      <td>0.2</td>\n",
       "      <td>setosa</td>\n",
       "      <td>1</td>\n",
       "    </tr>\n",
       "    <tr>\n",
       "      <th>30</th>\n",
       "      <td>4.8</td>\n",
       "      <td>3.1</td>\n",
       "      <td>1.6</td>\n",
       "      <td>0.2</td>\n",
       "      <td>setosa</td>\n",
       "      <td>1</td>\n",
       "    </tr>\n",
       "    <tr>\n",
       "      <th>31</th>\n",
       "      <td>5.4</td>\n",
       "      <td>3.4</td>\n",
       "      <td>1.5</td>\n",
       "      <td>0.4</td>\n",
       "      <td>setosa</td>\n",
       "      <td>1</td>\n",
       "    </tr>\n",
       "    <tr>\n",
       "      <th>32</th>\n",
       "      <td>5.2</td>\n",
       "      <td>4.1</td>\n",
       "      <td>1.5</td>\n",
       "      <td>0.1</td>\n",
       "      <td>setosa</td>\n",
       "      <td>1</td>\n",
       "    </tr>\n",
       "    <tr>\n",
       "      <th>33</th>\n",
       "      <td>5.5</td>\n",
       "      <td>4.2</td>\n",
       "      <td>1.4</td>\n",
       "      <td>0.2</td>\n",
       "      <td>setosa</td>\n",
       "      <td>1</td>\n",
       "    </tr>\n",
       "    <tr>\n",
       "      <th>34</th>\n",
       "      <td>4.9</td>\n",
       "      <td>3.1</td>\n",
       "      <td>1.5</td>\n",
       "      <td>0.2</td>\n",
       "      <td>setosa</td>\n",
       "      <td>1</td>\n",
       "    </tr>\n",
       "    <tr>\n",
       "      <th>35</th>\n",
       "      <td>5.0</td>\n",
       "      <td>3.2</td>\n",
       "      <td>1.2</td>\n",
       "      <td>0.2</td>\n",
       "      <td>setosa</td>\n",
       "      <td>1</td>\n",
       "    </tr>\n",
       "    <tr>\n",
       "      <th>36</th>\n",
       "      <td>5.5</td>\n",
       "      <td>3.5</td>\n",
       "      <td>1.3</td>\n",
       "      <td>0.2</td>\n",
       "      <td>setosa</td>\n",
       "      <td>1</td>\n",
       "    </tr>\n",
       "    <tr>\n",
       "      <th>37</th>\n",
       "      <td>4.9</td>\n",
       "      <td>3.6</td>\n",
       "      <td>1.4</td>\n",
       "      <td>0.1</td>\n",
       "      <td>setosa</td>\n",
       "      <td>1</td>\n",
       "    </tr>\n",
       "    <tr>\n",
       "      <th>38</th>\n",
       "      <td>4.4</td>\n",
       "      <td>3.0</td>\n",
       "      <td>1.3</td>\n",
       "      <td>0.2</td>\n",
       "      <td>setosa</td>\n",
       "      <td>1</td>\n",
       "    </tr>\n",
       "    <tr>\n",
       "      <th>39</th>\n",
       "      <td>5.1</td>\n",
       "      <td>3.4</td>\n",
       "      <td>1.5</td>\n",
       "      <td>0.2</td>\n",
       "      <td>setosa</td>\n",
       "      <td>1</td>\n",
       "    </tr>\n",
       "    <tr>\n",
       "      <th>40</th>\n",
       "      <td>5.0</td>\n",
       "      <td>3.5</td>\n",
       "      <td>1.3</td>\n",
       "      <td>0.3</td>\n",
       "      <td>setosa</td>\n",
       "      <td>1</td>\n",
       "    </tr>\n",
       "    <tr>\n",
       "      <th>41</th>\n",
       "      <td>4.5</td>\n",
       "      <td>2.3</td>\n",
       "      <td>1.3</td>\n",
       "      <td>0.3</td>\n",
       "      <td>setosa</td>\n",
       "      <td>1</td>\n",
       "    </tr>\n",
       "    <tr>\n",
       "      <th>42</th>\n",
       "      <td>4.4</td>\n",
       "      <td>3.2</td>\n",
       "      <td>1.3</td>\n",
       "      <td>0.2</td>\n",
       "      <td>setosa</td>\n",
       "      <td>1</td>\n",
       "    </tr>\n",
       "    <tr>\n",
       "      <th>43</th>\n",
       "      <td>5.0</td>\n",
       "      <td>3.5</td>\n",
       "      <td>1.6</td>\n",
       "      <td>0.6</td>\n",
       "      <td>setosa</td>\n",
       "      <td>1</td>\n",
       "    </tr>\n",
       "    <tr>\n",
       "      <th>44</th>\n",
       "      <td>5.1</td>\n",
       "      <td>3.8</td>\n",
       "      <td>1.9</td>\n",
       "      <td>0.4</td>\n",
       "      <td>setosa</td>\n",
       "      <td>1</td>\n",
       "    </tr>\n",
       "    <tr>\n",
       "      <th>45</th>\n",
       "      <td>4.8</td>\n",
       "      <td>3.0</td>\n",
       "      <td>1.4</td>\n",
       "      <td>0.3</td>\n",
       "      <td>setosa</td>\n",
       "      <td>1</td>\n",
       "    </tr>\n",
       "    <tr>\n",
       "      <th>46</th>\n",
       "      <td>5.1</td>\n",
       "      <td>3.8</td>\n",
       "      <td>1.6</td>\n",
       "      <td>0.2</td>\n",
       "      <td>setosa</td>\n",
       "      <td>1</td>\n",
       "    </tr>\n",
       "    <tr>\n",
       "      <th>47</th>\n",
       "      <td>4.6</td>\n",
       "      <td>3.2</td>\n",
       "      <td>1.4</td>\n",
       "      <td>0.2</td>\n",
       "      <td>setosa</td>\n",
       "      <td>1</td>\n",
       "    </tr>\n",
       "    <tr>\n",
       "      <th>48</th>\n",
       "      <td>5.3</td>\n",
       "      <td>3.7</td>\n",
       "      <td>1.5</td>\n",
       "      <td>0.2</td>\n",
       "      <td>setosa</td>\n",
       "      <td>1</td>\n",
       "    </tr>\n",
       "    <tr>\n",
       "      <th>49</th>\n",
       "      <td>5.0</td>\n",
       "      <td>3.3</td>\n",
       "      <td>1.4</td>\n",
       "      <td>0.2</td>\n",
       "      <td>setosa</td>\n",
       "      <td>1</td>\n",
       "    </tr>\n",
       "  </tbody>\n",
       "</table>\n",
       "</div>"
      ],
      "text/plain": [
       "    Sepal.Length  Sepal.Width  Petal.Length  Petal.Width Species  is_setosa\n",
       "0            5.1          3.5           1.4          0.2  setosa          1\n",
       "1            4.9          3.0           1.4          0.2  setosa          1\n",
       "2            4.7          3.2           1.3          0.2  setosa          1\n",
       "3            4.6          3.1           1.5          0.2  setosa          1\n",
       "4            5.0          3.6           1.4          0.2  setosa          1\n",
       "5            5.4          3.9           1.7          0.4  setosa          1\n",
       "6            4.6          3.4           1.4          0.3  setosa          1\n",
       "7            5.0          3.4           1.5          0.2  setosa          1\n",
       "8            4.4          2.9           1.4          0.2  setosa          1\n",
       "9            4.9          3.1           1.5          0.1  setosa          1\n",
       "10           5.4          3.7           1.5          0.2  setosa          1\n",
       "11           4.8          3.4           1.6          0.2  setosa          1\n",
       "12           4.8          3.0           1.4          0.1  setosa          1\n",
       "13           4.3          3.0           1.1          0.1  setosa          1\n",
       "14           5.8          4.0           1.2          0.2  setosa          1\n",
       "15           5.7          4.4           1.5          0.4  setosa          1\n",
       "16           5.4          3.9           1.3          0.4  setosa          1\n",
       "17           5.1          3.5           1.4          0.3  setosa          1\n",
       "18           5.7          3.8           1.7          0.3  setosa          1\n",
       "19           5.1          3.8           1.5          0.3  setosa          1\n",
       "20           5.4          3.4           1.7          0.2  setosa          1\n",
       "21           5.1          3.7           1.5          0.4  setosa          1\n",
       "22           4.6          3.6           1.0          0.2  setosa          1\n",
       "23           5.1          3.3           1.7          0.5  setosa          1\n",
       "24           4.8          3.4           1.9          0.2  setosa          1\n",
       "25           5.0          3.0           1.6          0.2  setosa          1\n",
       "26           5.0          3.4           1.6          0.4  setosa          1\n",
       "27           5.2          3.5           1.5          0.2  setosa          1\n",
       "28           5.2          3.4           1.4          0.2  setosa          1\n",
       "29           4.7          3.2           1.6          0.2  setosa          1\n",
       "30           4.8          3.1           1.6          0.2  setosa          1\n",
       "31           5.4          3.4           1.5          0.4  setosa          1\n",
       "32           5.2          4.1           1.5          0.1  setosa          1\n",
       "33           5.5          4.2           1.4          0.2  setosa          1\n",
       "34           4.9          3.1           1.5          0.2  setosa          1\n",
       "35           5.0          3.2           1.2          0.2  setosa          1\n",
       "36           5.5          3.5           1.3          0.2  setosa          1\n",
       "37           4.9          3.6           1.4          0.1  setosa          1\n",
       "38           4.4          3.0           1.3          0.2  setosa          1\n",
       "39           5.1          3.4           1.5          0.2  setosa          1\n",
       "40           5.0          3.5           1.3          0.3  setosa          1\n",
       "41           4.5          2.3           1.3          0.3  setosa          1\n",
       "42           4.4          3.2           1.3          0.2  setosa          1\n",
       "43           5.0          3.5           1.6          0.6  setosa          1\n",
       "44           5.1          3.8           1.9          0.4  setosa          1\n",
       "45           4.8          3.0           1.4          0.3  setosa          1\n",
       "46           5.1          3.8           1.6          0.2  setosa          1\n",
       "47           4.6          3.2           1.4          0.2  setosa          1\n",
       "48           5.3          3.7           1.5          0.2  setosa          1\n",
       "49           5.0          3.3           1.4          0.2  setosa          1"
      ]
     },
     "execution_count": 21,
     "metadata": {},
     "output_type": "execute_result"
    }
   ],
   "source": [
    "df[df.Species == \"setosa\"] #  == df.loc[df[\"Species\"]==\"setosa\"]"
   ]
  },
  {
   "cell_type": "code",
   "execution_count": 10,
   "id": "2fb372b5",
   "metadata": {
    "scrolled": false
   },
   "outputs": [
    {
     "data": {
      "text/plain": [
       "0         setosa\n",
       "1         setosa\n",
       "2         setosa\n",
       "3         setosa\n",
       "4         setosa\n",
       "         ...    \n",
       "145    virginica\n",
       "146    virginica\n",
       "147    virginica\n",
       "148    virginica\n",
       "149    virginica\n",
       "Name: Species, Length: 150, dtype: object"
      ]
     },
     "execution_count": 10,
     "metadata": {},
     "output_type": "execute_result"
    }
   ],
   "source": [
    "df[\"Species\"]"
   ]
  },
  {
   "cell_type": "code",
   "execution_count": 11,
   "id": "274a57f6",
   "metadata": {},
   "outputs": [
    {
     "data": {
      "text/plain": [
       "0    100\n",
       "1     50\n",
       "Name: is_setosa, dtype: int64"
      ]
     },
     "execution_count": 11,
     "metadata": {},
     "output_type": "execute_result"
    }
   ],
   "source": [
    "df[\"is_setosa\"].value_counts()"
   ]
  },
  {
   "cell_type": "code",
   "execution_count": 12,
   "id": "48ac38d6",
   "metadata": {},
   "outputs": [
    {
     "data": {
      "text/plain": [
       "0    0.666667\n",
       "1    0.333333\n",
       "Name: is_setosa, dtype: float64"
      ]
     },
     "execution_count": 12,
     "metadata": {},
     "output_type": "execute_result"
    }
   ],
   "source": [
    "df[\"is_setosa\"].value_counts(normalize=True) # 사전확률"
   ]
  },
  {
   "cell_type": "code",
   "execution_count": 13,
   "id": "26aca87d",
   "metadata": {},
   "outputs": [
    {
     "data": {
      "text/plain": [
       "GaussianNB()"
      ]
     },
     "execution_count": 13,
     "metadata": {},
     "output_type": "execute_result"
    }
   ],
   "source": [
    "model = GaussianNB().fit(X = df.iloc[:, :4],\n",
    "                         y = df[\"is_setosa\"])\n",
    "model"
   ]
  },
  {
   "cell_type": "code",
   "execution_count": 14,
   "id": "18bf05de",
   "metadata": {},
   "outputs": [
    {
     "data": {
      "text/plain": [
       "array([0.66666667, 0.33333333])"
      ]
     },
     "execution_count": 14,
     "metadata": {},
     "output_type": "execute_result"
    }
   ],
   "source": [
    "model.class_prior_ # 사전확률"
   ]
  },
  {
   "cell_type": "code",
   "execution_count": 15,
   "id": "187952bc",
   "metadata": {},
   "outputs": [
    {
     "data": {
      "text/plain": [
       "array([[6.262, 2.872, 4.906, 1.676],\n",
       "       [5.006, 3.428, 1.462, 0.246]])"
      ]
     },
     "execution_count": 15,
     "metadata": {},
     "output_type": "execute_result"
    }
   ],
   "source": [
    "model.theta_"
   ]
  },
  {
   "cell_type": "code",
   "execution_count": 23,
   "id": "2981137d",
   "metadata": {
    "scrolled": true
   },
   "outputs": [
    {
     "data": {
      "text/plain": [
       "array([1., 1., 1., 1.])"
      ]
     },
     "execution_count": 23,
     "metadata": {},
     "output_type": "execute_result"
    }
   ],
   "source": [
    "pred = model.predict_proba(df.iloc[:, :4])\n",
    "pred = pred[:, 1]\n",
    "\n",
    "pred[:4] # 확률"
   ]
  },
  {
   "cell_type": "code",
   "execution_count": 25,
   "id": "9842ded1",
   "metadata": {},
   "outputs": [],
   "source": [
    "from sklearn.metrics import accuracy_score"
   ]
  },
  {
   "cell_type": "code",
   "execution_count": 26,
   "id": "92ae8936",
   "metadata": {},
   "outputs": [],
   "source": [
    "pred_class = (pred > 0.5) + 0"
   ]
  },
  {
   "cell_type": "code",
   "execution_count": 27,
   "id": "4a7586e1",
   "metadata": {},
   "outputs": [
    {
     "data": {
      "text/plain": [
       "1.0"
      ]
     },
     "execution_count": 27,
     "metadata": {},
     "output_type": "execute_result"
    }
   ],
   "source": [
    "accuracy_score(y_true = df[\"is_setosa\"],\n",
    "               y_pred = pred_class)"
   ]
  },
  {
   "cell_type": "markdown",
   "id": "e869feba",
   "metadata": {},
   "source": [
    "### 1. BMI가 0 초과인 데이터만 사용하여 나이브 베이즈 분류를 실시하고자 한다. Outcome을 종속변수로 하고 나머지 변수를 독립변수로 할 때 종속변수의 사전확률은?\n",
    "- diabetes.csv\n",
    "- Outcome 1을 대상으로 사전확률을 계산한다."
   ]
  },
  {
   "cell_type": "code",
   "execution_count": 28,
   "id": "2c6a10d4",
   "metadata": {},
   "outputs": [],
   "source": [
    "import pandas as pd\n",
    "from sklearn.naive_bayes import GaussianNB"
   ]
  },
  {
   "cell_type": "code",
   "execution_count": 29,
   "id": "81e0886c",
   "metadata": {},
   "outputs": [
    {
     "data": {
      "text/html": [
       "<div>\n",
       "<style scoped>\n",
       "    .dataframe tbody tr th:only-of-type {\n",
       "        vertical-align: middle;\n",
       "    }\n",
       "\n",
       "    .dataframe tbody tr th {\n",
       "        vertical-align: top;\n",
       "    }\n",
       "\n",
       "    .dataframe thead th {\n",
       "        text-align: right;\n",
       "    }\n",
       "</style>\n",
       "<table border=\"1\" class=\"dataframe\">\n",
       "  <thead>\n",
       "    <tr style=\"text-align: right;\">\n",
       "      <th></th>\n",
       "      <th>Pregnancies</th>\n",
       "      <th>Glucose</th>\n",
       "      <th>BloodPressure</th>\n",
       "      <th>SkinThickness</th>\n",
       "      <th>Insulin</th>\n",
       "      <th>BMI</th>\n",
       "      <th>DiabetesPedigreeFunction</th>\n",
       "      <th>Age</th>\n",
       "      <th>Outcome</th>\n",
       "    </tr>\n",
       "  </thead>\n",
       "  <tbody>\n",
       "    <tr>\n",
       "      <th>0</th>\n",
       "      <td>6</td>\n",
       "      <td>148</td>\n",
       "      <td>72</td>\n",
       "      <td>35</td>\n",
       "      <td>0</td>\n",
       "      <td>33.6</td>\n",
       "      <td>0.627</td>\n",
       "      <td>50</td>\n",
       "      <td>1</td>\n",
       "    </tr>\n",
       "    <tr>\n",
       "      <th>1</th>\n",
       "      <td>1</td>\n",
       "      <td>85</td>\n",
       "      <td>66</td>\n",
       "      <td>29</td>\n",
       "      <td>0</td>\n",
       "      <td>26.6</td>\n",
       "      <td>0.351</td>\n",
       "      <td>31</td>\n",
       "      <td>0</td>\n",
       "    </tr>\n",
       "  </tbody>\n",
       "</table>\n",
       "</div>"
      ],
      "text/plain": [
       "   Pregnancies  Glucose  BloodPressure  SkinThickness  Insulin   BMI  \\\n",
       "0            6      148             72             35        0  33.6   \n",
       "1            1       85             66             29        0  26.6   \n",
       "\n",
       "   DiabetesPedigreeFunction  Age  Outcome  \n",
       "0                     0.627   50        1  \n",
       "1                     0.351   31        0  "
      ]
     },
     "execution_count": 29,
     "metadata": {},
     "output_type": "execute_result"
    }
   ],
   "source": [
    "df = pd.read_csv(\"diabetes.csv\")\n",
    "df.head(2)"
   ]
  },
  {
   "cell_type": "code",
   "execution_count": 31,
   "id": "d46f4943",
   "metadata": {},
   "outputs": [],
   "source": [
    "df1 = df[df.BMI > 0]"
   ]
  },
  {
   "cell_type": "code",
   "execution_count": 32,
   "id": "ffc77cd8",
   "metadata": {},
   "outputs": [
    {
     "data": {
      "text/html": [
       "<div>\n",
       "<style scoped>\n",
       "    .dataframe tbody tr th:only-of-type {\n",
       "        vertical-align: middle;\n",
       "    }\n",
       "\n",
       "    .dataframe tbody tr th {\n",
       "        vertical-align: top;\n",
       "    }\n",
       "\n",
       "    .dataframe thead th {\n",
       "        text-align: right;\n",
       "    }\n",
       "</style>\n",
       "<table border=\"1\" class=\"dataframe\">\n",
       "  <thead>\n",
       "    <tr style=\"text-align: right;\">\n",
       "      <th></th>\n",
       "      <th>Pregnancies</th>\n",
       "      <th>Glucose</th>\n",
       "      <th>BloodPressure</th>\n",
       "      <th>SkinThickness</th>\n",
       "      <th>Insulin</th>\n",
       "      <th>BMI</th>\n",
       "      <th>DiabetesPedigreeFunction</th>\n",
       "      <th>Age</th>\n",
       "      <th>Outcome</th>\n",
       "    </tr>\n",
       "  </thead>\n",
       "  <tbody>\n",
       "    <tr>\n",
       "      <th>0</th>\n",
       "      <td>6</td>\n",
       "      <td>148</td>\n",
       "      <td>72</td>\n",
       "      <td>35</td>\n",
       "      <td>0</td>\n",
       "      <td>33.6</td>\n",
       "      <td>0.627</td>\n",
       "      <td>50</td>\n",
       "      <td>1</td>\n",
       "    </tr>\n",
       "    <tr>\n",
       "      <th>1</th>\n",
       "      <td>1</td>\n",
       "      <td>85</td>\n",
       "      <td>66</td>\n",
       "      <td>29</td>\n",
       "      <td>0</td>\n",
       "      <td>26.6</td>\n",
       "      <td>0.351</td>\n",
       "      <td>31</td>\n",
       "      <td>0</td>\n",
       "    </tr>\n",
       "  </tbody>\n",
       "</table>\n",
       "</div>"
      ],
      "text/plain": [
       "   Pregnancies  Glucose  BloodPressure  SkinThickness  Insulin   BMI  \\\n",
       "0            6      148             72             35        0  33.6   \n",
       "1            1       85             66             29        0  26.6   \n",
       "\n",
       "   DiabetesPedigreeFunction  Age  Outcome  \n",
       "0                     0.627   50        1  \n",
       "1                     0.351   31        0  "
      ]
     },
     "execution_count": 32,
     "metadata": {},
     "output_type": "execute_result"
    }
   ],
   "source": [
    "df1.head(2)"
   ]
  },
  {
   "cell_type": "code",
   "execution_count": 35,
   "id": "9ba4753c",
   "metadata": {
    "scrolled": true
   },
   "outputs": [],
   "source": [
    "model = GaussianNB().fit(X = df1.iloc[:, :-1],\n",
    "                         y = df1[\"Outcome\"])"
   ]
  },
  {
   "cell_type": "code",
   "execution_count": 41,
   "id": "c8f0d43b",
   "metadata": {},
   "outputs": [
    {
     "data": {
      "text/plain": [
       "array([0.64861295, 0.35138705])"
      ]
     },
     "execution_count": 41,
     "metadata": {},
     "output_type": "execute_result"
    }
   ],
   "source": [
    "model.class_prior_"
   ]
  },
  {
   "cell_type": "code",
   "execution_count": 40,
   "id": "942720c5",
   "metadata": {
    "scrolled": true
   },
   "outputs": [
    {
     "data": {
      "text/plain": [
       "array([[0.36902653, 0.63097347],\n",
       "       [0.98439184, 0.01560816],\n",
       "       [0.23966323, 0.76033677],\n",
       "       ...,\n",
       "       [0.94576296, 0.05423704],\n",
       "       [0.87551034, 0.12448966],\n",
       "       [0.98142277, 0.01857723]])"
      ]
     },
     "execution_count": 40,
     "metadata": {},
     "output_type": "execute_result"
    }
   ],
   "source": [
    "model.predict_proba(df1.iloc[:, :-1])"
   ]
  },
  {
   "cell_type": "markdown",
   "id": "eafb9d35",
   "metadata": {},
   "source": [
    "정답"
   ]
  },
  {
   "cell_type": "code",
   "execution_count": 42,
   "id": "850096cf",
   "metadata": {},
   "outputs": [
    {
     "data": {
      "text/plain": [
       "0    0.648613\n",
       "1    0.351387\n",
       "Name: Outcome, dtype: float64"
      ]
     },
     "execution_count": 42,
     "metadata": {},
     "output_type": "execute_result"
    }
   ],
   "source": [
    "df1[\"Outcome\"].value_counts(normalize=True)"
   ]
  },
  {
   "cell_type": "markdown",
   "id": "5f489332",
   "metadata": {},
   "source": [
    "### 2. 혈당, 혈압, 나이를 독립변수로 하고 당뇨 발병 여부를 종속변수로 했을 때 그 정확도는 얼마인가?\n",
    "- diabetes.csv\n",
    "- Outcome 1을 대상으로 사전확률을 계산한다."
   ]
  },
  {
   "cell_type": "code",
   "execution_count": 47,
   "id": "f3ea5f71",
   "metadata": {},
   "outputs": [
    {
     "data": {
      "text/html": [
       "<div>\n",
       "<style scoped>\n",
       "    .dataframe tbody tr th:only-of-type {\n",
       "        vertical-align: middle;\n",
       "    }\n",
       "\n",
       "    .dataframe tbody tr th {\n",
       "        vertical-align: top;\n",
       "    }\n",
       "\n",
       "    .dataframe thead th {\n",
       "        text-align: right;\n",
       "    }\n",
       "</style>\n",
       "<table border=\"1\" class=\"dataframe\">\n",
       "  <thead>\n",
       "    <tr style=\"text-align: right;\">\n",
       "      <th></th>\n",
       "      <th>Pregnancies</th>\n",
       "      <th>Glucose</th>\n",
       "      <th>BloodPressure</th>\n",
       "      <th>SkinThickness</th>\n",
       "      <th>Insulin</th>\n",
       "      <th>BMI</th>\n",
       "      <th>DiabetesPedigreeFunction</th>\n",
       "      <th>Age</th>\n",
       "      <th>Outcome</th>\n",
       "    </tr>\n",
       "  </thead>\n",
       "  <tbody>\n",
       "    <tr>\n",
       "      <th>0</th>\n",
       "      <td>6</td>\n",
       "      <td>148</td>\n",
       "      <td>72</td>\n",
       "      <td>35</td>\n",
       "      <td>0</td>\n",
       "      <td>33.6</td>\n",
       "      <td>0.627</td>\n",
       "      <td>50</td>\n",
       "      <td>1</td>\n",
       "    </tr>\n",
       "    <tr>\n",
       "      <th>1</th>\n",
       "      <td>1</td>\n",
       "      <td>85</td>\n",
       "      <td>66</td>\n",
       "      <td>29</td>\n",
       "      <td>0</td>\n",
       "      <td>26.6</td>\n",
       "      <td>0.351</td>\n",
       "      <td>31</td>\n",
       "      <td>0</td>\n",
       "    </tr>\n",
       "  </tbody>\n",
       "</table>\n",
       "</div>"
      ],
      "text/plain": [
       "   Pregnancies  Glucose  BloodPressure  SkinThickness  Insulin   BMI  \\\n",
       "0            6      148             72             35        0  33.6   \n",
       "1            1       85             66             29        0  26.6   \n",
       "\n",
       "   DiabetesPedigreeFunction  Age  Outcome  \n",
       "0                     0.627   50        1  \n",
       "1                     0.351   31        0  "
      ]
     },
     "execution_count": 47,
     "metadata": {},
     "output_type": "execute_result"
    }
   ],
   "source": [
    "df = pd.read_csv(\"diabetes.csv\")\n",
    "df.head(2)"
   ]
  },
  {
   "cell_type": "code",
   "execution_count": 48,
   "id": "9d6d8fd2",
   "metadata": {},
   "outputs": [],
   "source": [
    "from sklearn.metrics import accuracy_score"
   ]
  },
  {
   "cell_type": "code",
   "execution_count": 49,
   "id": "08d4a77d",
   "metadata": {},
   "outputs": [],
   "source": [
    "model = GaussianNB().fit(X = df.loc[:, [\"Glucose\", \"BloodPressure\", \"Age\"]],\n",
    "                         y = df[\"Outcome\"])\n",
    "pred = model.predict_proba(df.loc[:, [\"Glucose\", \"BloodPressure\", \"Age\"]])"
   ]
  },
  {
   "cell_type": "code",
   "execution_count": 50,
   "id": "79320bbd",
   "metadata": {},
   "outputs": [
    {
     "data": {
      "text/plain": [
       "array([1, 0, 1, 0])"
      ]
     },
     "execution_count": 50,
     "metadata": {},
     "output_type": "execute_result"
    }
   ],
   "source": [
    "pred_class = (pred[:, 1] > 0.5) + 0\n",
    "pred_class[:4]"
   ]
  },
  {
   "cell_type": "code",
   "execution_count": 51,
   "id": "b6296d19",
   "metadata": {
    "scrolled": true
   },
   "outputs": [
    {
     "data": {
      "text/plain": [
       "0.7552083333333334"
      ]
     },
     "execution_count": 51,
     "metadata": {},
     "output_type": "execute_result"
    }
   ],
   "source": [
    "accuracy_score(y_pred = pred_class, y_true = df[\"Outcome\"])"
   ]
  },
  {
   "cell_type": "markdown",
   "id": "04549573",
   "metadata": {},
   "source": [
    "### 3. 임신여부, 연령대, BMI, 혈당을 독립변수로 하고 당뇨 발병 여부를 종속변수로 했을 때 나이브 베이즈와 로지스틱 회귀분석을 실시하고 둘 중 정확도가 높은 모델의 정확도는?\n",
    "- diabetes.csv\n",
    "- BMI가 0 초과인 것을 사용하며 학습/평가 데이터 세트를 8:2로 분할, Seed : 123\n",
    "- 연령대는 Age가 21인 경우 20으로 39인 경우 30으로 계산\n",
    "- sklearn의 로지스틱 회귀 함수를 사용하며, 임계값(threshold)은 0.5로 한다"
   ]
  },
  {
   "cell_type": "code",
   "execution_count": 55,
   "id": "f1be93a9",
   "metadata": {},
   "outputs": [
    {
     "data": {
      "text/html": [
       "<div>\n",
       "<style scoped>\n",
       "    .dataframe tbody tr th:only-of-type {\n",
       "        vertical-align: middle;\n",
       "    }\n",
       "\n",
       "    .dataframe tbody tr th {\n",
       "        vertical-align: top;\n",
       "    }\n",
       "\n",
       "    .dataframe thead th {\n",
       "        text-align: right;\n",
       "    }\n",
       "</style>\n",
       "<table border=\"1\" class=\"dataframe\">\n",
       "  <thead>\n",
       "    <tr style=\"text-align: right;\">\n",
       "      <th></th>\n",
       "      <th>Pregnancies</th>\n",
       "      <th>Glucose</th>\n",
       "      <th>BloodPressure</th>\n",
       "      <th>SkinThickness</th>\n",
       "      <th>Insulin</th>\n",
       "      <th>BMI</th>\n",
       "      <th>DiabetesPedigreeFunction</th>\n",
       "      <th>Age</th>\n",
       "      <th>Outcome</th>\n",
       "    </tr>\n",
       "  </thead>\n",
       "  <tbody>\n",
       "    <tr>\n",
       "      <th>0</th>\n",
       "      <td>6</td>\n",
       "      <td>148</td>\n",
       "      <td>72</td>\n",
       "      <td>35</td>\n",
       "      <td>0</td>\n",
       "      <td>33.6</td>\n",
       "      <td>0.627</td>\n",
       "      <td>50</td>\n",
       "      <td>1</td>\n",
       "    </tr>\n",
       "    <tr>\n",
       "      <th>1</th>\n",
       "      <td>1</td>\n",
       "      <td>85</td>\n",
       "      <td>66</td>\n",
       "      <td>29</td>\n",
       "      <td>0</td>\n",
       "      <td>26.6</td>\n",
       "      <td>0.351</td>\n",
       "      <td>31</td>\n",
       "      <td>0</td>\n",
       "    </tr>\n",
       "  </tbody>\n",
       "</table>\n",
       "</div>"
      ],
      "text/plain": [
       "   Pregnancies  Glucose  BloodPressure  SkinThickness  Insulin   BMI  \\\n",
       "0            6      148             72             35        0  33.6   \n",
       "1            1       85             66             29        0  26.6   \n",
       "\n",
       "   DiabetesPedigreeFunction  Age  Outcome  \n",
       "0                     0.627   50        1  \n",
       "1                     0.351   31        0  "
      ]
     },
     "execution_count": 55,
     "metadata": {},
     "output_type": "execute_result"
    }
   ],
   "source": [
    "df = pd.read_csv(\"diabetes.csv\")\n",
    "df.head(2)"
   ]
  },
  {
   "cell_type": "code",
   "execution_count": 56,
   "id": "dfda7766",
   "metadata": {},
   "outputs": [],
   "source": [
    "from sklearn.model_selection import train_test_split"
   ]
  },
  {
   "cell_type": "code",
   "execution_count": 57,
   "id": "69f7bbdf",
   "metadata": {},
   "outputs": [],
   "source": [
    "df1 = df[df.BMI > 0]"
   ]
  },
  {
   "cell_type": "code",
   "execution_count": 63,
   "id": "aa230c4b",
   "metadata": {},
   "outputs": [
    {
     "name": "stderr",
     "output_type": "stream",
     "text": [
      "C:\\Users\\user\\AppData\\Local\\Temp/ipykernel_11288/1182173388.py:1: SettingWithCopyWarning: \n",
      "A value is trying to be set on a copy of a slice from a DataFrame.\n",
      "Try using .loc[row_indexer,col_indexer] = value instead\n",
      "\n",
      "See the caveats in the documentation: https://pandas.pydata.org/pandas-docs/stable/user_guide/indexing.html#returning-a-view-versus-a-copy\n",
      "  df1[\"연령대\"] = (df1.Age // 10) * 10\n"
     ]
    },
    {
     "data": {
      "text/html": [
       "<div>\n",
       "<style scoped>\n",
       "    .dataframe tbody tr th:only-of-type {\n",
       "        vertical-align: middle;\n",
       "    }\n",
       "\n",
       "    .dataframe tbody tr th {\n",
       "        vertical-align: top;\n",
       "    }\n",
       "\n",
       "    .dataframe thead th {\n",
       "        text-align: right;\n",
       "    }\n",
       "</style>\n",
       "<table border=\"1\" class=\"dataframe\">\n",
       "  <thead>\n",
       "    <tr style=\"text-align: right;\">\n",
       "      <th></th>\n",
       "      <th>Pregnancies</th>\n",
       "      <th>Glucose</th>\n",
       "      <th>BloodPressure</th>\n",
       "      <th>SkinThickness</th>\n",
       "      <th>Insulin</th>\n",
       "      <th>BMI</th>\n",
       "      <th>DiabetesPedigreeFunction</th>\n",
       "      <th>Age</th>\n",
       "      <th>Outcome</th>\n",
       "      <th>연령대</th>\n",
       "    </tr>\n",
       "  </thead>\n",
       "  <tbody>\n",
       "    <tr>\n",
       "      <th>0</th>\n",
       "      <td>6</td>\n",
       "      <td>148</td>\n",
       "      <td>72</td>\n",
       "      <td>35</td>\n",
       "      <td>0</td>\n",
       "      <td>33.6</td>\n",
       "      <td>0.627</td>\n",
       "      <td>50</td>\n",
       "      <td>1</td>\n",
       "      <td>50</td>\n",
       "    </tr>\n",
       "    <tr>\n",
       "      <th>1</th>\n",
       "      <td>1</td>\n",
       "      <td>85</td>\n",
       "      <td>66</td>\n",
       "      <td>29</td>\n",
       "      <td>0</td>\n",
       "      <td>26.6</td>\n",
       "      <td>0.351</td>\n",
       "      <td>31</td>\n",
       "      <td>0</td>\n",
       "      <td>30</td>\n",
       "    </tr>\n",
       "  </tbody>\n",
       "</table>\n",
       "</div>"
      ],
      "text/plain": [
       "   Pregnancies  Glucose  BloodPressure  SkinThickness  Insulin   BMI  \\\n",
       "0            6      148             72             35        0  33.6   \n",
       "1            1       85             66             29        0  26.6   \n",
       "\n",
       "   DiabetesPedigreeFunction  Age  Outcome  연령대  \n",
       "0                     0.627   50        1   50  \n",
       "1                     0.351   31        0   30  "
      ]
     },
     "execution_count": 63,
     "metadata": {},
     "output_type": "execute_result"
    }
   ],
   "source": [
    "df1[\"연령대\"] = (df1.Age // 10) * 10\n",
    "df1.head(2)"
   ]
  },
  {
   "cell_type": "code",
   "execution_count": 64,
   "id": "6b88cd69",
   "metadata": {},
   "outputs": [],
   "source": [
    "train, test = train_test_split(df1, train_size=0.8, random_state=123)"
   ]
  },
  {
   "cell_type": "code",
   "execution_count": 76,
   "id": "7cf573a6",
   "metadata": {},
   "outputs": [
    {
     "data": {
      "text/plain": [
       "GaussianNB()"
      ]
     },
     "execution_count": 76,
     "metadata": {},
     "output_type": "execute_result"
    }
   ],
   "source": [
    "model = GaussianNB().fit(X = train.loc[:, [\"Pregnancies\", \"연령대\", \"BMI\", \"Glucose\"]],\n",
    "                         y = train[\"Outcome\"])\n",
    "model"
   ]
  },
  {
   "cell_type": "code",
   "execution_count": 77,
   "id": "d2829a8f",
   "metadata": {},
   "outputs": [
    {
     "data": {
      "text/plain": [
       "array([[0.06249923, 0.93750077],\n",
       "       [0.77377309, 0.22622691],\n",
       "       [0.07358057, 0.92641943],\n",
       "       [0.77344169, 0.22655831],\n",
       "       [0.91959694, 0.08040306],\n",
       "       [0.58486838, 0.41513162],\n",
       "       [0.6451689 , 0.3548311 ],\n",
       "       [0.58861661, 0.41138339],\n",
       "       [0.19143955, 0.80856045],\n",
       "       [0.01982958, 0.98017042],\n",
       "       [0.73811672, 0.26188328],\n",
       "       [0.08945204, 0.91054796],\n",
       "       [0.09986718, 0.90013282],\n",
       "       [0.93821251, 0.06178749],\n",
       "       [0.53705487, 0.46294513],\n",
       "       [0.90451601, 0.09548399],\n",
       "       [0.44898401, 0.55101599],\n",
       "       [0.06319493, 0.93680507],\n",
       "       [0.79429335, 0.20570665],\n",
       "       [0.58675928, 0.41324072],\n",
       "       [0.85321072, 0.14678928],\n",
       "       [0.11812594, 0.88187406],\n",
       "       [0.92752114, 0.07247886],\n",
       "       [0.11037108, 0.88962892],\n",
       "       [0.75187451, 0.24812549],\n",
       "       [0.38901944, 0.61098056],\n",
       "       [0.02196146, 0.97803854],\n",
       "       [0.88443403, 0.11556597],\n",
       "       [0.79640621, 0.20359379],\n",
       "       [0.92525294, 0.07474706],\n",
       "       [0.5567159 , 0.4432841 ],\n",
       "       [0.50754414, 0.49245586],\n",
       "       [0.92897899, 0.07102101],\n",
       "       [0.72341005, 0.27658995],\n",
       "       [0.13225094, 0.86774906],\n",
       "       [0.97286739, 0.02713261],\n",
       "       [0.18324477, 0.81675523],\n",
       "       [0.98326393, 0.01673607],\n",
       "       [0.95869282, 0.04130718],\n",
       "       [0.95088973, 0.04911027],\n",
       "       [0.86748211, 0.13251789],\n",
       "       [0.34034057, 0.65965943],\n",
       "       [0.08386386, 0.91613614],\n",
       "       [0.15571065, 0.84428935],\n",
       "       [0.76193674, 0.23806326],\n",
       "       [0.72627326, 0.27372674],\n",
       "       [0.81957687, 0.18042313],\n",
       "       [0.65963972, 0.34036028],\n",
       "       [0.95814492, 0.04185508],\n",
       "       [0.8979536 , 0.1020464 ],\n",
       "       [0.9627505 , 0.0372495 ],\n",
       "       [0.1668925 , 0.8331075 ],\n",
       "       [0.5377281 , 0.4622719 ],\n",
       "       [0.08466236, 0.91533764],\n",
       "       [0.85835406, 0.14164594],\n",
       "       [0.5271657 , 0.4728343 ],\n",
       "       [0.21400913, 0.78599087],\n",
       "       [0.78328118, 0.21671882],\n",
       "       [0.79927128, 0.20072872],\n",
       "       [0.76463034, 0.23536966],\n",
       "       [0.17536162, 0.82463838],\n",
       "       [0.59504572, 0.40495428],\n",
       "       [0.85937977, 0.14062023],\n",
       "       [0.39633869, 0.60366131],\n",
       "       [0.90627404, 0.09372596],\n",
       "       [0.75724834, 0.24275166],\n",
       "       [0.84716264, 0.15283736],\n",
       "       [0.89162459, 0.10837541],\n",
       "       [0.76452012, 0.23547988],\n",
       "       [0.87270781, 0.12729219],\n",
       "       [0.27338639, 0.72661361],\n",
       "       [0.18870457, 0.81129543],\n",
       "       [0.84636965, 0.15363035],\n",
       "       [0.68265216, 0.31734784],\n",
       "       [0.0278241 , 0.9721759 ],\n",
       "       [0.91522742, 0.08477258],\n",
       "       [0.35873738, 0.64126262],\n",
       "       [0.73961627, 0.26038373],\n",
       "       [0.37187422, 0.62812578],\n",
       "       [0.30505029, 0.69494971],\n",
       "       [0.84914701, 0.15085299],\n",
       "       [0.89580378, 0.10419622],\n",
       "       [0.97548966, 0.02451034],\n",
       "       [0.89481138, 0.10518862],\n",
       "       [0.86628356, 0.13371644],\n",
       "       [0.87698488, 0.12301512],\n",
       "       [0.78358276, 0.21641724],\n",
       "       [0.94113493, 0.05886507],\n",
       "       [0.67204075, 0.32795925],\n",
       "       [0.84953037, 0.15046963],\n",
       "       [0.95945729, 0.04054271],\n",
       "       [0.91958438, 0.08041562],\n",
       "       [0.31297782, 0.68702218],\n",
       "       [0.95550004, 0.04449996],\n",
       "       [0.98367943, 0.01632057],\n",
       "       [0.10307465, 0.89692535],\n",
       "       [0.25927078, 0.74072922],\n",
       "       [0.46080179, 0.53919821],\n",
       "       [0.73621267, 0.26378733],\n",
       "       [0.23073128, 0.76926872],\n",
       "       [0.88125644, 0.11874356],\n",
       "       [0.95338134, 0.04661866],\n",
       "       [0.39911439, 0.60088561],\n",
       "       [0.88569514, 0.11430486],\n",
       "       [0.23335097, 0.76664903],\n",
       "       [0.89140769, 0.10859231],\n",
       "       [0.7973347 , 0.2026653 ],\n",
       "       [0.88462708, 0.11537292],\n",
       "       [0.89748452, 0.10251548],\n",
       "       [0.22160311, 0.77839689],\n",
       "       [0.23273045, 0.76726955],\n",
       "       [0.830319  , 0.169681  ],\n",
       "       [0.91825834, 0.08174166],\n",
       "       [0.96218637, 0.03781363],\n",
       "       [0.97927284, 0.02072716],\n",
       "       [0.80913517, 0.19086483],\n",
       "       [0.8185693 , 0.1814307 ],\n",
       "       [0.04745579, 0.95254421],\n",
       "       [0.76385675, 0.23614325],\n",
       "       [0.81488799, 0.18511201],\n",
       "       [0.94352472, 0.05647528],\n",
       "       [0.07003678, 0.92996322],\n",
       "       [0.92360715, 0.07639285],\n",
       "       [0.81066545, 0.18933455],\n",
       "       [0.7031596 , 0.2968404 ],\n",
       "       [0.17296763, 0.82703237],\n",
       "       [0.80548912, 0.19451088],\n",
       "       [0.84671479, 0.15328521],\n",
       "       [0.96174724, 0.03825276],\n",
       "       [0.0411462 , 0.9588538 ],\n",
       "       [0.94626118, 0.05373882],\n",
       "       [0.49429682, 0.50570318],\n",
       "       [0.70943321, 0.29056679],\n",
       "       [0.41084674, 0.58915326],\n",
       "       [0.96046913, 0.03953087],\n",
       "       [0.00766744, 0.99233256],\n",
       "       [0.0968306 , 0.9031694 ],\n",
       "       [0.42360385, 0.57639615],\n",
       "       [0.88383773, 0.11616227],\n",
       "       [0.57349481, 0.42650519],\n",
       "       [0.01881397, 0.98118603],\n",
       "       [0.49390784, 0.50609216],\n",
       "       [0.93414981, 0.06585019],\n",
       "       [0.88863133, 0.11136867],\n",
       "       [0.81890789, 0.18109211],\n",
       "       [0.90935839, 0.09064161],\n",
       "       [0.79475041, 0.20524959],\n",
       "       [0.02861169, 0.97138831],\n",
       "       [0.87690241, 0.12309759],\n",
       "       [0.84022503, 0.15977497],\n",
       "       [0.77102005, 0.22897995],\n",
       "       [0.79617779, 0.20382221]])"
      ]
     },
     "execution_count": 77,
     "metadata": {},
     "output_type": "execute_result"
    }
   ],
   "source": [
    "pred = model.predict_proba(test.loc[:, [\"Pregnancies\", \"연령대\", \"BMI\", \"Glucose\"]])\n",
    "pred #  0번이 아닌 1번 컬럼이 확률"
   ]
  },
  {
   "cell_type": "code",
   "execution_count": 78,
   "id": "8d6e98b1",
   "metadata": {},
   "outputs": [],
   "source": [
    "pred1 = (pred[:, 1] > 0.5) + 0"
   ]
  },
  {
   "cell_type": "code",
   "execution_count": 80,
   "id": "dfede749",
   "metadata": {},
   "outputs": [
    {
     "data": {
      "text/plain": [
       "0.7960526315789473"
      ]
     },
     "execution_count": 80,
     "metadata": {},
     "output_type": "execute_result"
    }
   ],
   "source": [
    "accuracy_score(y_pred = pred1,\n",
    "               y_true = test[\"Outcome\"])"
   ]
  },
  {
   "cell_type": "code",
   "execution_count": 75,
   "id": "82b03319",
   "metadata": {},
   "outputs": [],
   "source": [
    "from sklearn.linear_model import LogisticRegression"
   ]
  },
  {
   "cell_type": "code",
   "execution_count": 83,
   "id": "d096c739",
   "metadata": {},
   "outputs": [
    {
     "data": {
      "text/plain": [
       "LogisticRegression()"
      ]
     },
     "execution_count": 83,
     "metadata": {},
     "output_type": "execute_result"
    }
   ],
   "source": [
    "model2 = LogisticRegression()\n",
    "model2.fit(X = train.loc[:, [\"Pregnancies\", \"연령대\", \"BMI\", \"Glucose\"]],\n",
    "                         y = train[\"Outcome\"])"
   ]
  },
  {
   "cell_type": "code",
   "execution_count": 84,
   "id": "42e1bb63",
   "metadata": {},
   "outputs": [],
   "source": [
    "pred2 = model2.predict_proba(test.loc[:, [\"Pregnancies\", \"연령대\", \"BMI\", \"Glucose\"]])"
   ]
  },
  {
   "cell_type": "code",
   "execution_count": 85,
   "id": "17de3c92",
   "metadata": {},
   "outputs": [],
   "source": [
    "pred3 = (pred2[:, 1] > 0.5) + 0"
   ]
  },
  {
   "cell_type": "code",
   "execution_count": 86,
   "id": "e35c55b4",
   "metadata": {},
   "outputs": [
    {
     "data": {
      "text/plain": [
       "0.8289473684210527"
      ]
     },
     "execution_count": 86,
     "metadata": {},
     "output_type": "execute_result"
    }
   ],
   "source": [
    "accuracy_score(y_pred = pred3,\n",
    "               y_true = test[\"Outcome\"])"
   ]
  },
  {
   "cell_type": "code",
   "execution_count": null,
   "id": "9b10259d",
   "metadata": {},
   "outputs": [],
   "source": []
  }
 ],
 "metadata": {
  "kernelspec": {
   "display_name": "Python 3 (ipykernel)",
   "language": "python",
   "name": "python3"
  },
  "language_info": {
   "codemirror_mode": {
    "name": "ipython",
    "version": 3
   },
   "file_extension": ".py",
   "mimetype": "text/x-python",
   "name": "python",
   "nbconvert_exporter": "python",
   "pygments_lexer": "ipython3",
   "version": "3.9.7"
  }
 },
 "nbformat": 4,
 "nbformat_minor": 5
}
