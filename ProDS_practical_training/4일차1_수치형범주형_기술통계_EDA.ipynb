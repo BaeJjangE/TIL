{
 "cells": [
  {
   "cell_type": "markdown",
   "id": "fd6e27ce",
   "metadata": {},
   "source": [
    "## Key words\n",
    "### Numpy, Pandas, DataFrame, array, series, crosstab, groupby"
   ]
  },
  {
   "cell_type": "markdown",
   "id": "1fb15df4",
   "metadata": {},
   "source": [
    "### 배열의 개요\n",
    "- Numpy의 객체인 배열(array)을 생성하기 위해서는 기본적으로 \"array\" 함수를 사용\n",
    "- \"array\" 함수 이외에도 특수한 행렬의 형태를 생성하기 위한 함수 다수 존재\n",
    "- 배열 생성은 1차원부터 다차원 구조까지 다양하게 생성 가능하며 전치행렬 등 선형대수 관련 연산 가능"
   ]
  },
  {
   "cell_type": "code",
   "execution_count": 1,
   "id": "7a810737",
   "metadata": {},
   "outputs": [],
   "source": [
    "import numpy as np"
   ]
  },
  {
   "cell_type": "code",
   "execution_count": 3,
   "id": "05e664f2",
   "metadata": {},
   "outputs": [
    {
     "data": {
      "text/plain": [
       "array([[1, 2],\n",
       "       [3, 4]])"
      ]
     },
     "execution_count": 3,
     "metadata": {},
     "output_type": "execute_result"
    }
   ],
   "source": [
    "np.array([1, 2, 3])\n",
    "np.array([[1, 2], [3, 4]])"
   ]
  },
  {
   "cell_type": "code",
   "execution_count": 5,
   "id": "22b1326d",
   "metadata": {},
   "outputs": [
    {
     "data": {
      "text/plain": [
       "array([[1, 2],\n",
       "       [3, 4]])"
      ]
     },
     "execution_count": 5,
     "metadata": {},
     "output_type": "execute_result"
    }
   ],
   "source": [
    "np.array([1, 2, 3, 4]).reshape((2,2))"
   ]
  },
  {
   "cell_type": "code",
   "execution_count": 4,
   "id": "f2296069",
   "metadata": {},
   "outputs": [
    {
     "data": {
      "text/plain": [
       "array([[1., 1., 1., 1.],\n",
       "       [1., 1., 1., 1.]])"
      ]
     },
     "execution_count": 4,
     "metadata": {},
     "output_type": "execute_result"
    }
   ],
   "source": [
    "np.ones((2, 4))"
   ]
  },
  {
   "cell_type": "code",
   "execution_count": 11,
   "id": "8173714d",
   "metadata": {},
   "outputs": [
    {
     "data": {
      "text/plain": [
       "array([[1, 2, 3],\n",
       "       [4, 5, 6]])"
      ]
     },
     "execution_count": 11,
     "metadata": {},
     "output_type": "execute_result"
    }
   ],
   "source": [
    "array = np.array([[1, 2, 3], [4, 5, 6]])\n",
    "array"
   ]
  },
  {
   "cell_type": "code",
   "execution_count": 7,
   "id": "35fbc862",
   "metadata": {},
   "outputs": [
    {
     "data": {
      "text/plain": [
       "array([1, 2, 3])"
      ]
     },
     "execution_count": 7,
     "metadata": {},
     "output_type": "execute_result"
    }
   ],
   "source": [
    "array[0]"
   ]
  },
  {
   "cell_type": "code",
   "execution_count": 8,
   "id": "2baa9e64",
   "metadata": {},
   "outputs": [
    {
     "data": {
      "text/plain": [
       "array([4, 5, 6])"
      ]
     },
     "execution_count": 8,
     "metadata": {},
     "output_type": "execute_result"
    }
   ],
   "source": [
    "array[1]"
   ]
  },
  {
   "cell_type": "code",
   "execution_count": 12,
   "id": "927ff507",
   "metadata": {
    "scrolled": true
   },
   "outputs": [
    {
     "data": {
      "text/plain": [
       "5"
      ]
     },
     "execution_count": 12,
     "metadata": {},
     "output_type": "execute_result"
    }
   ],
   "source": [
    "array[1][1] # row index, col index"
   ]
  },
  {
   "cell_type": "code",
   "execution_count": 13,
   "id": "bf984b70",
   "metadata": {},
   "outputs": [
    {
     "data": {
      "text/plain": [
       "5"
      ]
     },
     "execution_count": 13,
     "metadata": {},
     "output_type": "execute_result"
    }
   ],
   "source": [
    "array[1, 1] # row index, col index"
   ]
  },
  {
   "cell_type": "code",
   "execution_count": 9,
   "id": "15695ac4",
   "metadata": {},
   "outputs": [
    {
     "data": {
      "text/plain": [
       "array([1, 2])"
      ]
     },
     "execution_count": 9,
     "metadata": {},
     "output_type": "execute_result"
    }
   ],
   "source": [
    "array[0, :2]"
   ]
  },
  {
   "cell_type": "code",
   "execution_count": 10,
   "id": "4a3a7845",
   "metadata": {},
   "outputs": [
    {
     "data": {
      "text/plain": [
       "3"
      ]
     },
     "execution_count": 10,
     "metadata": {},
     "output_type": "execute_result"
    }
   ],
   "source": [
    "array[0, 2]"
   ]
  },
  {
   "cell_type": "code",
   "execution_count": 14,
   "id": "55ad5102",
   "metadata": {},
   "outputs": [
    {
     "data": {
      "text/plain": [
       "array([4, 5, 6])"
      ]
     },
     "execution_count": 14,
     "metadata": {},
     "output_type": "execute_result"
    }
   ],
   "source": [
    "array[-1]"
   ]
  },
  {
   "cell_type": "code",
   "execution_count": 15,
   "id": "ee856fd7",
   "metadata": {},
   "outputs": [
    {
     "data": {
      "text/plain": [
       "array([4, 5])"
      ]
     },
     "execution_count": 15,
     "metadata": {},
     "output_type": "execute_result"
    }
   ],
   "source": [
    "array[1, :-1]"
   ]
  },
  {
   "cell_type": "markdown",
   "id": "a3f7d132",
   "metadata": {},
   "source": [
    "### 배열의 메서드 및 어트리뷰트"
   ]
  },
  {
   "cell_type": "code",
   "execution_count": 16,
   "id": "761fbf61",
   "metadata": {},
   "outputs": [
    {
     "data": {
      "text/plain": [
       "array([[1, 2, 3],\n",
       "       [4, 5, 6]])"
      ]
     },
     "execution_count": 16,
     "metadata": {},
     "output_type": "execute_result"
    }
   ],
   "source": [
    "array = np.array([[1, 2, 3], [4, 5, 6]])\n",
    "array"
   ]
  },
  {
   "cell_type": "markdown",
   "id": "9575b310",
   "metadata": {},
   "source": [
    "#### 속성"
   ]
  },
  {
   "cell_type": "code",
   "execution_count": 18,
   "id": "ff49f647",
   "metadata": {},
   "outputs": [
    {
     "data": {
      "text/plain": [
       "2"
      ]
     },
     "execution_count": 18,
     "metadata": {},
     "output_type": "execute_result"
    }
   ],
   "source": [
    "array.ndim # 차원의 수, 앞에 n은 number의 약자"
   ]
  },
  {
   "cell_type": "code",
   "execution_count": 19,
   "id": "4db75f5e",
   "metadata": {},
   "outputs": [
    {
     "data": {
      "text/plain": [
       "(2, 3)"
      ]
     },
     "execution_count": 19,
     "metadata": {},
     "output_type": "execute_result"
    }
   ],
   "source": [
    "array.shape # 각 차원의 길이"
   ]
  },
  {
   "cell_type": "code",
   "execution_count": 20,
   "id": "50cd0bd8",
   "metadata": {
    "scrolled": true
   },
   "outputs": [
    {
     "data": {
      "text/plain": [
       "dtype('int32')"
      ]
     },
     "execution_count": 20,
     "metadata": {},
     "output_type": "execute_result"
    }
   ],
   "source": [
    "array.dtype # 데이터 타입"
   ]
  },
  {
   "cell_type": "code",
   "execution_count": 29,
   "id": "e94fcdb2",
   "metadata": {
    "scrolled": true
   },
   "outputs": [
    {
     "name": "stdout",
     "output_type": "stream",
     "text": [
      "6\n"
     ]
    }
   ],
   "source": [
    "print(array.size) # 전체 요소(Element)의 개수"
   ]
  },
  {
   "cell_type": "markdown",
   "id": "d7dd78ea",
   "metadata": {},
   "source": [
    "#### 메서드"
   ]
  },
  {
   "cell_type": "code",
   "execution_count": 22,
   "id": "9c03850b",
   "metadata": {},
   "outputs": [],
   "source": [
    "# f(x) < 함수 인거처럼 밑에 소괄호 들어가면 함수"
   ]
  },
  {
   "cell_type": "code",
   "execution_count": 36,
   "id": "19bf9d93",
   "metadata": {
    "scrolled": true
   },
   "outputs": [
    {
     "name": "stdout",
     "output_type": "stream",
     "text": [
      "21\n",
      "1\n",
      "6\n",
      "3.5\n",
      "2.9166666666666665\n",
      "1.707825127659933\n",
      "2\n"
     ]
    }
   ],
   "source": [
    "print(array.sum()) # 합계\n",
    "print(array.min()) # 최소값\n",
    "print(array.max()) # 최대값\n",
    "print(array.mean()) # 평균값\n",
    "print(array.var()) # 분산\n",
    "print(array.std()) # 표준편차\n",
    "print(len(array))"
   ]
  },
  {
   "cell_type": "markdown",
   "id": "c636cd14",
   "metadata": {},
   "source": [
    "### 다양한 함수"
   ]
  },
  {
   "cell_type": "code",
   "execution_count": 30,
   "id": "7bfb49d7",
   "metadata": {},
   "outputs": [],
   "source": [
    "nums = np.array([1, 2, 2, 3])"
   ]
  },
  {
   "cell_type": "code",
   "execution_count": 37,
   "id": "08cd0c6b",
   "metadata": {},
   "outputs": [
    {
     "name": "stdout",
     "output_type": "stream",
     "text": [
      "{1, 2, 3}\n",
      "[1 2 3]\n",
      "4\n",
      "3\n"
     ]
    }
   ],
   "source": [
    "print(set(nums)) # 파이썬 집합 함수로 중복 요소 없애고 보기\n",
    "print(np.unique(nums)) # 중복 제거하고 고유한 것만 남기기\n",
    "print(len(nums))\n",
    "print(len(np.unique(nums)))"
   ]
  },
  {
   "cell_type": "code",
   "execution_count": 34,
   "id": "2646ba77",
   "metadata": {},
   "outputs": [
    {
     "name": "stdout",
     "output_type": "stream",
     "text": [
      "[3 5 7]\n"
     ]
    }
   ],
   "source": [
    "print(np.arange(3, 8, 2))\n",
    "np.arange() # 소괄호 사이에 shift+tab+tab해서 뭐들어갈지보기가능"
   ]
  },
  {
   "cell_type": "code",
   "execution_count": 39,
   "id": "ca7d188e",
   "metadata": {},
   "outputs": [
    {
     "name": "stdout",
     "output_type": "stream",
     "text": [
      "['no' 'ok' 'ok' 'no']\n"
     ]
    }
   ],
   "source": [
    "print(np.where(nums == 2,\"ok\", \"no\")) # if함수 간결하게 쓰기"
   ]
  },
  {
   "cell_type": "markdown",
   "id": "7d6e0665",
   "metadata": {},
   "source": [
    "## 판다스: 시리즈"
   ]
  },
  {
   "cell_type": "code",
   "execution_count": 41,
   "id": "277be63d",
   "metadata": {},
   "outputs": [],
   "source": [
    "import pandas as pd"
   ]
  },
  {
   "cell_type": "code",
   "execution_count": 42,
   "id": "5eedc48a",
   "metadata": {},
   "outputs": [
    {
     "data": {
      "text/plain": [
       "a    1\n",
       "b    2\n",
       "c    3\n",
       "dtype: int64"
      ]
     },
     "execution_count": 42,
     "metadata": {},
     "output_type": "execute_result"
    }
   ],
   "source": [
    "pd.Series([1, 2, 3, 3, 4])\n",
    "pd.Series([1, 2, 3], index = ['a', 'b', 'c'])"
   ]
  },
  {
   "cell_type": "code",
   "execution_count": 44,
   "id": "82a88546",
   "metadata": {},
   "outputs": [
    {
     "data": {
      "text/plain": [
       "0    1\n",
       "1    2\n",
       "2    3\n",
       "3    3\n",
       "4    4\n",
       "dtype: int64"
      ]
     },
     "execution_count": 44,
     "metadata": {},
     "output_type": "execute_result"
    }
   ],
   "source": [
    "ser =pd.Series([1, 2, 3, 3, 4])\n",
    "ser"
   ]
  },
  {
   "cell_type": "markdown",
   "id": "e7de1d1c",
   "metadata": {},
   "source": [
    "### 시리즈의 생성 및 메서드"
   ]
  },
  {
   "cell_type": "code",
   "execution_count": 50,
   "id": "f2b161a2",
   "metadata": {
    "scrolled": true
   },
   "outputs": [
    {
     "name": "stdout",
     "output_type": "stream",
     "text": [
      "13\n",
      "1\n",
      "4\n",
      "2.6\n",
      "1.140175425099138\n"
     ]
    }
   ],
   "source": [
    "print(ser.sum())\n",
    "print(ser.min())\n",
    "print(ser.max())\n",
    "print(ser.mean())\n",
    "print(ser.std())"
   ]
  },
  {
   "cell_type": "code",
   "execution_count": 55,
   "id": "262c3f8f",
   "metadata": {},
   "outputs": [
    {
     "name": "stdout",
     "output_type": "stream",
     "text": [
      "-0.404796008910937\n",
      "-0.17751479289941052\n",
      "[1 2 3 4]\n",
      "4\n",
      "0\n"
     ]
    }
   ],
   "source": [
    "print(ser.skew()) # 왜도\n",
    "print(ser.kurt()) # 첨도\n",
    "print(ser.unique()) # 고유값\n",
    "print(ser.idxmax()) # 최대값의 위치\n",
    "print(ser.idxmin()) # 최소값의 위치"
   ]
  },
  {
   "cell_type": "code",
   "execution_count": 60,
   "id": "fa19707e",
   "metadata": {},
   "outputs": [
    {
     "name": "stdout",
     "output_type": "stream",
     "text": [
      "0     True\n",
      "1     True\n",
      "2    False\n",
      "3    False\n",
      "4    False\n",
      "dtype: bool\n",
      "2\n"
     ]
    }
   ],
   "source": [
    "print(ser.isin([1, 2])) # 포함 여부 검사 is in 약자\n",
    "print(ser.isin([1, 2]).sum()) # 1또는2가 몇개있는가, 조합 잘하는것도 중요 True:1로 인식, False:0으로 인식하기 때문"
   ]
  },
  {
   "cell_type": "markdown",
   "id": "7d92f01d",
   "metadata": {},
   "source": [
    "## 판다스: DataFrame"
   ]
  },
  {
   "cell_type": "code",
   "execution_count": 66,
   "id": "5a01dd5f",
   "metadata": {},
   "outputs": [
    {
     "data": {
      "text/html": [
       "<div>\n",
       "<style scoped>\n",
       "    .dataframe tbody tr th:only-of-type {\n",
       "        vertical-align: middle;\n",
       "    }\n",
       "\n",
       "    .dataframe tbody tr th {\n",
       "        vertical-align: top;\n",
       "    }\n",
       "\n",
       "    .dataframe thead th {\n",
       "        text-align: right;\n",
       "    }\n",
       "</style>\n",
       "<table border=\"1\" class=\"dataframe\">\n",
       "  <thead>\n",
       "    <tr style=\"text-align: right;\">\n",
       "      <th></th>\n",
       "      <th>aa</th>\n",
       "      <th>bb</th>\n",
       "      <th>cc</th>\n",
       "    </tr>\n",
       "  </thead>\n",
       "  <tbody>\n",
       "    <tr>\n",
       "      <th>0</th>\n",
       "      <td>1</td>\n",
       "      <td>4</td>\n",
       "      <td>7</td>\n",
       "    </tr>\n",
       "    <tr>\n",
       "      <th>1</th>\n",
       "      <td>0</td>\n",
       "      <td>5</td>\n",
       "      <td>8</td>\n",
       "    </tr>\n",
       "    <tr>\n",
       "      <th>2</th>\n",
       "      <td>3</td>\n",
       "      <td>6</td>\n",
       "      <td>9</td>\n",
       "    </tr>\n",
       "  </tbody>\n",
       "</table>\n",
       "</div>"
      ],
      "text/plain": [
       "   aa  bb  cc\n",
       "0   1   4   7\n",
       "1   0   5   8\n",
       "2   3   6   9"
      ]
     },
     "execution_count": 66,
     "metadata": {},
     "output_type": "execute_result"
    }
   ],
   "source": [
    "df = pd.DataFrame({'aa': [1,0,3], 'bb': [4,5,6], 'cc': [7,8,9]})\n",
    "df"
   ]
  },
  {
   "cell_type": "code",
   "execution_count": 69,
   "id": "52c45f5a",
   "metadata": {},
   "outputs": [
    {
     "data": {
      "text/html": [
       "<div>\n",
       "<style scoped>\n",
       "    .dataframe tbody tr th:only-of-type {\n",
       "        vertical-align: middle;\n",
       "    }\n",
       "\n",
       "    .dataframe tbody tr th {\n",
       "        vertical-align: top;\n",
       "    }\n",
       "\n",
       "    .dataframe thead th {\n",
       "        text-align: right;\n",
       "    }\n",
       "</style>\n",
       "<table border=\"1\" class=\"dataframe\">\n",
       "  <thead>\n",
       "    <tr style=\"text-align: right;\">\n",
       "      <th>bb</th>\n",
       "      <th>4</th>\n",
       "      <th>5</th>\n",
       "      <th>6</th>\n",
       "    </tr>\n",
       "    <tr>\n",
       "      <th>aa</th>\n",
       "      <th></th>\n",
       "      <th></th>\n",
       "      <th></th>\n",
       "    </tr>\n",
       "  </thead>\n",
       "  <tbody>\n",
       "    <tr>\n",
       "      <th>0</th>\n",
       "      <td>0</td>\n",
       "      <td>1</td>\n",
       "      <td>0</td>\n",
       "    </tr>\n",
       "    <tr>\n",
       "      <th>1</th>\n",
       "      <td>1</td>\n",
       "      <td>0</td>\n",
       "      <td>0</td>\n",
       "    </tr>\n",
       "    <tr>\n",
       "      <th>3</th>\n",
       "      <td>0</td>\n",
       "      <td>0</td>\n",
       "      <td>1</td>\n",
       "    </tr>\n",
       "  </tbody>\n",
       "</table>\n",
       "</div>"
      ],
      "text/plain": [
       "bb  4  5  6\n",
       "aa         \n",
       "0   0  1  0\n",
       "1   1  0  0\n",
       "3   0  0  1"
      ]
     },
     "execution_count": 69,
     "metadata": {},
     "output_type": "execute_result"
    }
   ],
   "source": [
    "pd.crosstab(df[\"aa\"], df[\"bb\"]) # 두개 컬럼이 같은 쌍인 인덱싱자리를 보여줌"
   ]
  },
  {
   "cell_type": "code",
   "execution_count": 68,
   "id": "5cc47fd6",
   "metadata": {},
   "outputs": [
    {
     "data": {
      "text/plain": [
       "aa\n",
       "0    5\n",
       "1    4\n",
       "3    6\n",
       "Name: bb, dtype: int64"
      ]
     },
     "execution_count": 68,
     "metadata": {},
     "output_type": "execute_result"
    }
   ],
   "source": [
    "df.groupby(\"aa\")[\"bb\"].sum()"
   ]
  },
  {
   "cell_type": "code",
   "execution_count": null,
   "id": "9d6acd99",
   "metadata": {},
   "outputs": [],
   "source": []
  }
 ],
 "metadata": {
  "kernelspec": {
   "display_name": "Python 3 (ipykernel)",
   "language": "python",
   "name": "python3"
  },
  "language_info": {
   "codemirror_mode": {
    "name": "ipython",
    "version": 3
   },
   "file_extension": ".py",
   "mimetype": "text/x-python",
   "name": "python",
   "nbconvert_exporter": "python",
   "pygments_lexer": "ipython3",
   "version": "3.9.7"
  }
 },
 "nbformat": 4,
 "nbformat_minor": 5
}
