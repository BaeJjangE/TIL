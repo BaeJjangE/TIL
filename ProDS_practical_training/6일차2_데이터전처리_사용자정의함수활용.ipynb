{
 "cells": [
  {
   "cell_type": "markdown",
   "id": "0b3a3b5d",
   "metadata": {},
   "source": [
    "## Key words\n",
    "### def, return, 기본값, pow, normalization, minmax, standardization"
   ]
  },
  {
   "cell_type": "markdown",
   "id": "6e967ebf",
   "metadata": {},
   "source": [
    "### 사용자 정의 함수 특징 및 사용\n",
    "- 가용한 함수를 조합하여 만든 새로운 함수\n",
    "- 라이브러리와 유사하게 사전 실행 및 등록 필요"
   ]
  },
  {
   "cell_type": "code",
   "execution_count": 1,
   "id": "2d85c401",
   "metadata": {},
   "outputs": [],
   "source": [
    "import pandas as pd"
   ]
  },
  {
   "cell_type": "code",
   "execution_count": 2,
   "id": "2da4f064",
   "metadata": {},
   "outputs": [],
   "source": [
    "def udf_sum(x, y):\n",
    "    result = x + y\n",
    "    return result"
   ]
  },
  {
   "cell_type": "code",
   "execution_count": 3,
   "id": "685f93d1",
   "metadata": {},
   "outputs": [
    {
     "data": {
      "text/plain": [
       "0     6\n",
       "1     8\n",
       "2    10\n",
       "dtype: int64"
      ]
     },
     "execution_count": 3,
     "metadata": {},
     "output_type": "execute_result"
    }
   ],
   "source": [
    "udf_sum(pd.Series([2, 4, 6]), 4)"
   ]
  },
  {
   "cell_type": "code",
   "execution_count": 4,
   "id": "3731fe19",
   "metadata": {},
   "outputs": [],
   "source": [
    "def udf_sum2(x, y):\n",
    "    result = x.sum() + y\n",
    "    return result"
   ]
  },
  {
   "cell_type": "code",
   "execution_count": 5,
   "id": "ce008738",
   "metadata": {},
   "outputs": [
    {
     "data": {
      "text/plain": [
       "16"
      ]
     },
     "execution_count": 5,
     "metadata": {},
     "output_type": "execute_result"
    }
   ],
   "source": [
    "udf_sum2(pd.Series([2, 4, 6]), 4)"
   ]
  },
  {
   "cell_type": "code",
   "execution_count": 7,
   "id": "bf812b43",
   "metadata": {},
   "outputs": [],
   "source": [
    "def udf_mean1(x):\n",
    "    result = round(x.mean(), 3)\n",
    "    return result"
   ]
  },
  {
   "cell_type": "code",
   "execution_count": 10,
   "id": "5ad08dd1",
   "metadata": {},
   "outputs": [
    {
     "data": {
      "text/plain": [
       "9.0"
      ]
     },
     "execution_count": 10,
     "metadata": {},
     "output_type": "execute_result"
    }
   ],
   "source": [
    "udf_mean1(pd.Series([4, 6 ,8, 17, 19, 0.00068731]))"
   ]
  },
  {
   "cell_type": "code",
   "execution_count": 12,
   "id": "440e2443",
   "metadata": {},
   "outputs": [],
   "source": [
    "def udf_mean2(x, digit):\n",
    "    result = round(x.mean(), digit)\n",
    "    return result"
   ]
  },
  {
   "cell_type": "code",
   "execution_count": 14,
   "id": "b76ab189",
   "metadata": {},
   "outputs": [
    {
     "data": {
      "text/plain": [
       "9.0"
      ]
     },
     "execution_count": 14,
     "metadata": {},
     "output_type": "execute_result"
    }
   ],
   "source": [
    "udf_mean2(pd.Series([4, 6 ,8, 17, 19, 0.00068731]), 2)"
   ]
  },
  {
   "cell_type": "markdown",
   "id": "cbd703c0",
   "metadata": {},
   "source": [
    "### 1. 입력 객체의 원소를 모두 제곱한 후 그 원소를 더한 다음 제곱근을 취하는 사용자 정의 함수를 만들었을 때 해당 사용자 정의 함수에 [3, 5, 9, 20]을 입력으로 하는 경우 그 출력값은?\n",
    "- 입력 객체의 형식은 Pandas의 Series로 가정"
   ]
  },
  {
   "cell_type": "code",
   "execution_count": 19,
   "id": "00415e71",
   "metadata": {},
   "outputs": [],
   "source": [
    "def euc(x):\n",
    "    result = x.pow(2).sum() ** 0.5\n",
    "    return result"
   ]
  },
  {
   "cell_type": "code",
   "execution_count": 20,
   "id": "cdff086b",
   "metadata": {},
   "outputs": [
    {
     "data": {
      "text/plain": [
       "22.693611435820433"
      ]
     },
     "execution_count": 20,
     "metadata": {},
     "output_type": "execute_result"
    }
   ],
   "source": [
    "euc(pd.Series([3, 5, 9, 20]))"
   ]
  },
  {
   "cell_type": "markdown",
   "id": "6c444930",
   "metadata": {},
   "source": [
    "### 2. 표준화(Standardization) 사용자 정의 함수를 만들고 [-4, 5, 7, 9]를 입력한 경우 여기서 입력한 7은 몇으로 반환되는가?\n",
    "- 입력 객체의 형식은 Pandas의 Series로 가정"
   ]
  },
  {
   "cell_type": "code",
   "execution_count": 24,
   "id": "078dd09d",
   "metadata": {},
   "outputs": [],
   "source": [
    "import numpy as np"
   ]
  },
  {
   "cell_type": "code",
   "execution_count": 31,
   "id": "bd08c7b3",
   "metadata": {},
   "outputs": [],
   "source": [
    "def Standardization(x):\n",
    "    result = (x - x.mean()) / x.std()\n",
    "    return result"
   ]
  },
  {
   "cell_type": "code",
   "execution_count": 32,
   "id": "2e513718",
   "metadata": {},
   "outputs": [
    {
     "data": {
      "text/plain": [
       "0   -1.437957\n",
       "1    0.130723\n",
       "2    0.479319\n",
       "3    0.827915\n",
       "dtype: float64"
      ]
     },
     "execution_count": 32,
     "metadata": {},
     "output_type": "execute_result"
    }
   ],
   "source": [
    "Standardization(pd.Series([-4, 5, 7, 9]))"
   ]
  },
  {
   "cell_type": "markdown",
   "id": "3205dff8",
   "metadata": {},
   "source": [
    "### 3. MinMax 정규화 사용자 정의 함수를 만들고 [-4, 5, 7, 9]를 입력한 경우 여기서 입력한 7은 몇으로 반환되는가?\n",
    "- 입력 객체의 형식은 Pandas의 Series로 가정"
   ]
  },
  {
   "cell_type": "code",
   "execution_count": 37,
   "id": "df9aa34f",
   "metadata": {},
   "outputs": [],
   "source": [
    "def nor_minmax(x):\n",
    "    result = (x - x.min()) /  (x.max() - x.min())\n",
    "    return result"
   ]
  },
  {
   "cell_type": "code",
   "execution_count": 38,
   "id": "061a631c",
   "metadata": {},
   "outputs": [
    {
     "data": {
      "text/plain": [
       "0    0.000000\n",
       "1    0.692308\n",
       "2    0.846154\n",
       "3    1.000000\n",
       "dtype: float64"
      ]
     },
     "execution_count": 38,
     "metadata": {},
     "output_type": "execute_result"
    }
   ],
   "source": [
    "MinMax(pd.Series([-4, 5, 7, 9]))"
   ]
  },
  {
   "cell_type": "code",
   "execution_count": null,
   "id": "66c1fcd8",
   "metadata": {},
   "outputs": [],
   "source": []
  },
  {
   "cell_type": "code",
   "execution_count": null,
   "id": "fa5a4fdb",
   "metadata": {},
   "outputs": [],
   "source": []
  },
  {
   "cell_type": "code",
   "execution_count": null,
   "id": "ea2df796",
   "metadata": {},
   "outputs": [],
   "source": []
  },
  {
   "cell_type": "code",
   "execution_count": null,
   "id": "5f7a9a97",
   "metadata": {},
   "outputs": [],
   "source": []
  },
  {
   "cell_type": "code",
   "execution_count": null,
   "id": "f553d108",
   "metadata": {},
   "outputs": [],
   "source": []
  }
 ],
 "metadata": {
  "kernelspec": {
   "display_name": "Python 3 (ipykernel)",
   "language": "python",
   "name": "python3"
  },
  "language_info": {
   "codemirror_mode": {
    "name": "ipython",
    "version": 3
   },
   "file_extension": ".py",
   "mimetype": "text/x-python",
   "name": "python",
   "nbconvert_exporter": "python",
   "pygments_lexer": "ipython3",
   "version": "3.9.7"
  }
 },
 "nbformat": 4,
 "nbformat_minor": 5
}
